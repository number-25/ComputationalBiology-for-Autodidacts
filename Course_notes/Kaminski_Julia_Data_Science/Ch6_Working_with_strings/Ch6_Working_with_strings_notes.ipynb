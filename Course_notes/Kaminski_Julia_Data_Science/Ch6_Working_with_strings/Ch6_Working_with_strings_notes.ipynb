{
 "cells": [
  {
   "cell_type": "markdown",
   "id": "05bb9f32-83cb-46ad-8f95-4a3be413c4df",
   "metadata": {},
   "source": [
    "# Chapter 6 - Working with strings "
   ]
  },
  {
   "cell_type": "markdown",
   "id": "42769c1e-ef02-40a4-9a18-86e53f5d5c98",
   "metadata": {},
   "source": [
    "## This chapter will cover \n",
    "* UTF-8 encoding of Julia strings; byte versus character indexing\n",
    "* Manipulating strings: interpolation, splitting, using regular expressions, parsing\n",
    "* Working with symbols\n",
    "* Using the InlineStrings.jl package to work with fixed-width strings\n",
    "* Using the PooledArrays.jl package to compress vectors of strings"
   ]
  },
  {
   "cell_type": "markdown",
   "id": "db2c6f7b-1370-4922-9d01-599f5383b980",
   "metadata": {},
   "source": [
    "As an application of string processing, we will analyze movie genres that were given ratings by Twitter users. We want to understand which movie genre is most common and how the relative frequency of this genre changes with the movie year."
   ]
  },
  {
   "cell_type": "markdown",
   "id": "7c8c984f-2bb9-445f-aca3-4354234a9a06",
   "metadata": {},
   "source": [
    "We will analyze the movie genre data according to the following steps, which are described in the subsequent sections of this chapter and depicted in figure 6.1:\n",
    "\n",
    "1. Read in the data in Julia.    \n",
    "2. Parse the original data to extract the year and genre list for each analyzed movie.\n",
    "3. Create frequency tables to find which movie genre is most common.\n",
    "4. Create a plot of popularity of the most common genre by year.\n"
   ]
  },
  {
   "cell_type": "markdown",
   "id": "7eb23ea8-1b1f-4672-b3cb-88785ae0c361",
   "metadata": {},
   "source": [
    "An image depicting the steps that we'll be ![taking](https://drek4537l1klr.cloudfront.net/kaminski2/Figures/CH06_F01_Kaminski2.png)"
   ]
  },
  {
   "cell_type": "markdown",
   "id": "cf9393b6-a3c5-4841-9346-f999465428d1",
   "metadata": {},
   "source": [
    "## Download the file"
   ]
  },
  {
   "cell_type": "code",
   "execution_count": 2,
   "id": "37c7f672-1256-4691-9246-33c49438870b",
   "metadata": {},
   "outputs": [
    {
     "data": {
      "text/plain": [
       "\"https://raw.githubusercontent.com/sidooms/MovieTweetings/44c525d0c766944910686c60697203cda39305d6/snapshots/10K/movies.dat\""
      ]
     },
     "execution_count": 2,
     "metadata": {},
     "output_type": "execute_result"
    }
   ],
   "source": [
    "url = \"https://raw.githubusercontent.com/sidooms/MovieTweetings/44c525d0c766944910686c60697203cda39305d6/snapshots/10K/movies.dat\""
   ]
  },
  {
   "cell_type": "code",
   "execution_count": 3,
   "id": "7cd93e04-207b-4b11-ae6f-0c4ab23238da",
   "metadata": {},
   "outputs": [
    {
     "data": {
      "text/plain": [
       "\"movies.dat\""
      ]
     },
     "execution_count": 3,
     "metadata": {},
     "output_type": "execute_result"
    }
   ],
   "source": [
    "download(url, \"movies.dat\")"
   ]
  },
  {
   "cell_type": "markdown",
   "id": "e30d8c5a-f849-4d62-b40b-c2b830469362",
   "metadata": {},
   "source": [
    "### Basic characteristics of strings in julia"
   ]
  },
  {
   "cell_type": "markdown",
   "id": "52f6117f-b545-42ac-a6a1-fddfee3d4a42",
   "metadata": {},
   "source": [
    "We can interpolate variable in strings by using the '$' operator `println(\"This is $price American dollers\")` "
   ]
  },
  {
   "cell_type": "markdown",
   "id": "bff33f4d-2eb5-40bf-b4d0-303d6125714c",
   "metadata": {},
   "source": [
    "If we are executing a function/operation we must wrap the code inside curly brackets as per `\"This price is $(a + price) American dollers\"` "
   ]
  },
  {
   "cell_type": "markdown",
   "id": "6b5bb43b-9d73-4e92-9eba-d4a8793170b3",
   "metadata": {},
   "source": [
    "The newline character can be embedded within the string literal to print a new line and divide the string up"
   ]
  },
  {
   "cell_type": "code",
   "execution_count": 6,
   "id": "5bd54779-3de3-4c79-b051-b997d153a226",
   "metadata": {},
   "outputs": [
    {
     "name": "stdout",
     "output_type": "stream",
     "text": [
      "This is the first\n",
      "this is the second\n",
      "this is the third"
     ]
    }
   ],
   "source": [
    "print(\"This is the first\\nthis is the second\\nthis is the third\")"
   ]
  },
  {
   "cell_type": "markdown",
   "id": "22a48bd8-1d75-4a64-b1fb-2ccf25c4b014",
   "metadata": {},
   "source": [
    "To actually use the dollar sign '$' character so that it's not interpreted as an interpolation, we have to escape it"
   ]
  },
  {
   "cell_type": "code",
   "execution_count": 8,
   "id": "d7dc7428-3192-45f3-b694-4e351bb45f6b",
   "metadata": {},
   "outputs": [
    {
     "name": "stdout",
     "output_type": "stream",
     "text": [
      "The price is $100"
     ]
    }
   ],
   "source": [
    "print(\"The price is \\$100\")"
   ]
  },
  {
   "cell_type": "markdown",
   "id": "8e469d27-9222-4249-8f0c-49232cd66eb6",
   "metadata": {},
   "source": [
    "### Avoiding complicated escape combinations \n",
    "In instances in which we want to print a string which contains multiple special characters, which should not be interpolated and interpreted as newlines, instead of embedding escape characters amongst the string literal, we can simply prefix the entire string with **raw**, turning the string into a raw literal. For example this would help greatly if we want to pring file paths and the like "
   ]
  },
  {
   "cell_type": "code",
   "execution_count": 9,
   "id": "827139a5-5ea4-4a60-8b54-8b58916c6239",
   "metadata": {},
   "outputs": [
    {
     "data": {
      "text/plain": [
       "\"C:\\\\my_folder\\\\my_file.txt\""
      ]
     },
     "execution_count": 9,
     "metadata": {},
     "output_type": "execute_result"
    }
   ],
   "source": [
    "raw\"C:\\my_folder\\my_file.txt\""
   ]
  },
  {
   "cell_type": "markdown",
   "id": "2b998f22-481b-48c0-af3c-30e5b0d5d335",
   "metadata": {},
   "source": [
    "The triple quote `\"\"\"something\"\"\"` is used to create multi-line strings"
   ]
  },
  {
   "cell_type": "markdown",
   "id": "597e9ebb-c07c-416a-972c-53bc48536735",
   "metadata": {},
   "source": [
    "Let's read the data file line by line "
   ]
  },
  {
   "cell_type": "code",
   "execution_count": 11,
   "id": "27cebe80-3db6-4979-a63e-d2738a4bea60",
   "metadata": {},
   "outputs": [
    {
     "data": {
      "text/plain": [
       "3096-element Vector{String}:\n",
       " \"0002844::Fantômas - À l'ombre de la guillotine (1913)::Crime|Drama\"\n",
       " \"0007264::The Rink (1916)::Comedy|Short\"\n",
       " \"0008133::The Immigrant (1917)::Short|Comedy|Drama|Romance\"\n",
       " \"0012349::The Kid (1921)::Comedy|Drama|Family\"\n",
       " \"0013427::Nanook of the North (1922)::Documentary\"\n",
       " \"0014142::The Hunchback of Notre Dame (1923)::Drama|Romance\"\n",
       " \"0014538::Three Ages (1923)::Comedy\"\n",
       " \"0014872::Entr'acte (1924)::Short\"\n",
       " \"0015163::The Navigator (1924)::Action|Comedy\"\n",
       " \"0015324::Sherlock Jr. (1924)::Comedy|Fantasy\"\n",
       " \"0015400::The Thief of Bagdad (1924)::Adventure|Family|Fantasy|Romance\"\n",
       " \"0017925::The General (1926)::Action|Adventure|Comedy|Romance|War\"\n",
       " \"0018773::The Circus (1928)::Comedy|Romance\"\n",
       " ⋮\n",
       " \"2638984::Teal Diva (2012)::Documentary|Short\"\n",
       " \"2645104::Romantik komedi 2: Bekarliga veda (2013)::Comedy\"\n",
       " \"2645164::The Hardy Bucks Movie (2013)::Comedy\"\n",
       " \"2646378::The Frankenstein Theory (2013)::Horror|Sci-Fi\"\n",
       " \"2649128::Metro (2013)::Thriller\"\n",
       " \"2670226::Jîn (2013)::Drama\"\n",
       " \"2700330::The Two Escobars (2010)::Documentary\"\n",
       " \"2735466::Pickett's Charge (2012)::Short|Comedy|Drama|Family\"\n",
       " \"2748368::Neil (2013)::Short|Comedy\"\n",
       " \"2750600::A Different Tree (2013)::Short|Drama|Family\"\n",
       " \"2763252::Broken Night (2013)::Short|Drama\"\n",
       " \"2769592::Kiss Shot Truth or Dare (2013)::Short\""
      ]
     },
     "execution_count": 11,
     "metadata": {},
     "output_type": "execute_result"
    }
   ],
   "source": [
    "movies = readlines(\"movies.dat\") "
   ]
  },
  {
   "cell_type": "markdown",
   "id": "20dce7c2-79ef-4861-9f0e-20c0f37cbaa4",
   "metadata": {},
   "source": [
    "The file used the \"::\" charactera as string delimiters, for columns, and then the '|' characters for a within column separator e.g. the genres. We should work on the file and format it to make it more consistent and tidy - data sanitation if you will. A few ideas\n",
    "* Keep the first column as ID\n",
    "* Split the release year from the movie title\n",
    "* Parse the genres into an array\n"
   ]
  },
  {
   "cell_type": "markdown",
   "id": "5b2a869f-da7f-4dcf-9d61-08d978c30327",
   "metadata": {},
   "source": [
    "Take the first line - subsampling it "
   ]
  },
  {
   "cell_type": "code",
   "execution_count": 107,
   "id": "2eb670e2-2e70-4a11-8a01-92a6f8dd8054",
   "metadata": {},
   "outputs": [
    {
     "data": {
      "text/plain": [
       "\"0002844::Fantômas - À l'ombre de la guillotine (1913)::Crime|Drama\""
      ]
     },
     "execution_count": 107,
     "metadata": {},
     "output_type": "execute_result"
    }
   ],
   "source": [
    "first_line = first(movies)"
   ]
  },
  {
   "cell_type": "markdown",
   "id": "c59f2892-0e9a-43d1-bb3f-c7635e745822",
   "metadata": {},
   "source": [
    "What is the type of the data?"
   ]
  },
  {
   "cell_type": "code",
   "execution_count": 14,
   "id": "a4ee9f64-7ac5-4377-804f-7f738f4c432c",
   "metadata": {},
   "outputs": [
    {
     "data": {
      "text/plain": [
       "String"
      ]
     },
     "execution_count": 14,
     "metadata": {},
     "output_type": "execute_result"
    }
   ],
   "source": [
    "typeof(first_line)"
   ]
  },
  {
   "cell_type": "markdown",
   "id": "d7447ae3-4c31-4e62-87b8-9a5e687e50e9",
   "metadata": {},
   "source": [
    "A string, so we can use split"
   ]
  },
  {
   "cell_type": "code",
   "execution_count": 37,
   "id": "79b6d3a3-4c00-4a5b-bd00-4a1c698f44b9",
   "metadata": {},
   "outputs": [
    {
     "data": {
      "text/plain": [
       "8-element Vector{SubString{String}}:\n",
       " \"0002844\"\n",
       " \"\"\n",
       " \"Fantômas - À l'ombre de la guillotine \"\n",
       " \"1913\"\n",
       " \"\"\n",
       " \"\"\n",
       " \"Crime\"\n",
       " \"Drama\""
      ]
     },
     "execution_count": 37,
     "metadata": {},
     "output_type": "execute_result"
    }
   ],
   "source": [
    "first_split = split(first_line, [':', '|', '(', ')']) # split using several characters "
   ]
  },
  {
   "cell_type": "markdown",
   "id": "1c7cc492-172c-48e3-8aff-f8543ff2f821",
   "metadata": {},
   "source": [
    "\"You might have noticed that the movies vector has the type Vector{String}, while the movie1_parts vector has the type Vector{SubString{String}}. This is because Julia, for efficiency, when splitting a string with the split function, does not copy the string but instead creates a SubString{String} object that points to the slice of the original string. Having this behavior is safe, as strings in Julia are immutable (we already talked about mutable and immutable types in chapter 4). Therefore, once the string is created, its contents cannot be changed. Creation of a substring of a string is guaranteed to be a safe operation. In your code, if you want to create a SubString{String}, you can use the view function or the @view macro on a String.\" "
   ]
  },
  {
   "cell_type": "code",
   "execution_count": 59,
   "id": "48d6bebd-cd5b-4eb1-be59-9e5dee7f901f",
   "metadata": {},
   "outputs": [],
   "source": [
    "second_split = [] \n",
    "for f in first_split \n",
    "    if match(r\"[A-Za-z0-9]+\", f) != nothing\n",
    "        push!(second_split, f) \n",
    "    end \n",
    "end "
   ]
  },
  {
   "cell_type": "code",
   "execution_count": 66,
   "id": "b566fd47-b452-4385-b429-c1cd8d1100a8",
   "metadata": {},
   "outputs": [
    {
     "name": "stdout",
     "output_type": "stream",
     "text": [
      "Crime\n",
      "Drama\n"
     ]
    }
   ],
   "source": [
    "for f in second_split[4:end]\n",
    "    println(f)\n",
    "end "
   ]
  },
  {
   "cell_type": "code",
   "execution_count": 120,
   "id": "4805970a-acab-4d19-9e70-2f9c67521cb3",
   "metadata": {},
   "outputs": [
    {
     "data": {
      "text/plain": [
       "5-element Vector{Any}:\n",
       " \"0002844\"\n",
       " \"Fantômas - À l'ombre de la guillotine \"\n",
       " \"1913\"\n",
       " \"Crime\"\n",
       " \"Drama\""
      ]
     },
     "execution_count": 120,
     "metadata": {},
     "output_type": "execute_result"
    }
   ],
   "source": [
    "second_split"
   ]
  },
  {
   "cell_type": "markdown",
   "id": "4bc92479-3c3d-463e-85bd-d2cf2cf0214b",
   "metadata": {},
   "source": [
    "How might we parse the lines and get a nice map of each column? This is my own function, which doesn't rely on just using regex, as bogumils does, and so it is dirtier and less elegant. "
   ]
  },
  {
   "cell_type": "code",
   "execution_count": 130,
   "id": "414111c5-f19d-4720-9135-1bfb864f13e3",
   "metadata": {},
   "outputs": [
    {
     "data": {
      "text/plain": [
       "parseline (generic function with 1 method)"
      ]
     },
     "execution_count": 130,
     "metadata": {},
     "output_type": "execute_result"
    }
   ],
   "source": [
    "function parseline(line::AbstractString)\n",
    "    first_split = split(line, [':', '|', '(', ')'])\n",
    "    second_split = []\n",
    "    for f in first_split\n",
    "        if match(r\"[A-Za-z0-9]+\", f) != nothing\n",
    "            push!(second_split, f)\n",
    "        end \n",
    "    end \n",
    "    return (id=second_split[1], \n",
    "            name=second_split[2], \n",
    "            year=second_split[3], \n",
    "            genre=second_split[4:end])\n",
    "end "
   ]
  },
  {
   "cell_type": "code",
   "execution_count": 136,
   "id": "0f8942aa-eed0-4593-89f9-3b7debc4b148",
   "metadata": {},
   "outputs": [
    {
     "data": {
      "text/plain": [
       "(id = \"0002844\", name = \"Fantômas - À l'ombre de la guillotine \", year = \"1913\", genre = Any[\"Crime\", \"Drama\"])"
      ]
     },
     "execution_count": 136,
     "metadata": {},
     "output_type": "execute_result"
    }
   ],
   "source": [
    "parsed_columns = parseline(first_line)"
   ]
  },
  {
   "cell_type": "code",
   "execution_count": 151,
   "id": "32524415-06f2-410c-8429-1ec745634927",
   "metadata": {},
   "outputs": [
    {
     "data": {
      "text/plain": [
       "\"0002844\""
      ]
     },
     "execution_count": 151,
     "metadata": {},
     "output_type": "execute_result"
    }
   ],
   "source": [
    "parsed_columns.id"
   ]
  },
  {
   "cell_type": "markdown",
   "id": "e2612ded-9423-4cac-ae7e-59dc1236e89e",
   "metadata": {},
   "source": [
    "Another variant - this will simply print the indices without assigning them to any variable"
   ]
  },
  {
   "cell_type": "code",
   "execution_count": 152,
   "id": "cd764ed6-25bc-4c0b-896a-ef4172c110d6",
   "metadata": {},
   "outputs": [
    {
     "data": {
      "text/plain": [
       "parseline_2 (generic function with 1 method)"
      ]
     },
     "execution_count": 152,
     "metadata": {},
     "output_type": "execute_result"
    }
   ],
   "source": [
    "function parseline_2(line::AbstractString)\n",
    "    first_split = split(line, [':', '|', '(', ')'])\n",
    "    second_split = []\n",
    "    for f in first_split\n",
    "        if match(r\"[A-Za-z0-9]+\", f) != nothing\n",
    "            push!(second_split, f)\n",
    "        end \n",
    "    end \n",
    "    return (second_split[1], \n",
    "            second_split[2], \n",
    "            second_split[3], \n",
    "            second_split[4:end])\n",
    "end "
   ]
  },
  {
   "cell_type": "code",
   "execution_count": null,
   "id": "c839c8d8-b908-46af-828b-7a5a2f8b6255",
   "metadata": {},
   "outputs": [],
   "source": []
  },
  {
   "cell_type": "code",
   "execution_count": 160,
   "id": "a962430c-2b10-42f5-b427-76675da840f3",
   "metadata": {},
   "outputs": [
    {
     "data": {
      "text/plain": [
       "3096-element Vector{Any}:\n",
       " (\"0002844\", \"Fantômas - À l'ombre de la guillotine \", \"1913\", Any[\"Crime\", \"Drama\"])\n",
       " (\"0007264\", \"The Rink \", \"1916\", Any[\"Comedy\", \"Short\"])\n",
       " (\"0008133\", \"The Immigrant \", \"1917\", Any[\"Short\", \"Comedy\", \"Drama\", \"Romance\"])\n",
       " (\"0012349\", \"The Kid \", \"1921\", Any[\"Comedy\", \"Drama\", \"Family\"])\n",
       " (\"0013427\", \"Nanook of the North \", \"1922\", Any[\"Documentary\"])\n",
       " (\"0014142\", \"The Hunchback of Notre Dame \", \"1923\", Any[\"Drama\", \"Romance\"])\n",
       " (\"0014538\", \"Three Ages \", \"1923\", Any[\"Comedy\"])\n",
       " (\"0014872\", \"Entr'acte \", \"1924\", Any[\"Short\"])\n",
       " (\"0015163\", \"The Navigator \", \"1924\", Any[\"Action\", \"Comedy\"])\n",
       " (\"0015324\", \"Sherlock Jr. \", \"1924\", Any[\"Comedy\", \"Fantasy\"])\n",
       " (\"0015400\", \"The Thief of Bagdad \", \"1924\", Any[\"Adventure\", \"Family\", \"Fantasy\", \"Romance\"])\n",
       " (\"0017925\", \"The General \", \"1926\", Any[\"Action\", \"Adventure\", \"Comedy\", \"Romance\", \"War\"])\n",
       " (\"0018773\", \"The Circus \", \"1928\", Any[\"Comedy\", \"Romance\"])\n",
       " ⋮\n",
       " (\"2638984\", \"Teal Diva \", \"2012\", Any[\"Documentary\", \"Short\"])\n",
       " (\"2645104\", \"Romantik komedi 2\", \" Bekarliga veda \", Any[\"2013\", \"Comedy\"])\n",
       " (\"2645164\", \"The Hardy Bucks Movie \", \"2013\", Any[\"Comedy\"])\n",
       " (\"2646378\", \"The Frankenstein Theory \", \"2013\", Any[\"Horror\", \"Sci-Fi\"])\n",
       " (\"2649128\", \"Metro \", \"2013\", Any[\"Thriller\"])\n",
       " (\"2670226\", \"Jîn \", \"2013\", Any[\"Drama\"])\n",
       " (\"2700330\", \"The Two Escobars \", \"2010\", Any[\"Documentary\"])\n",
       " (\"2735466\", \"Pickett's Charge \", \"2012\", Any[\"Short\", \"Comedy\", \"Drama\", \"Family\"])\n",
       " (\"2748368\", \"Neil \", \"2013\", Any[\"Short\", \"Comedy\"])\n",
       " (\"2750600\", \"A Different Tree \", \"2013\", Any[\"Short\", \"Drama\", \"Family\"])\n",
       " (\"2763252\", \"Broken Night \", \"2013\", Any[\"Short\", \"Drama\"])\n",
       " (\"2769592\", \"Kiss Shot Truth or Dare \", \"2013\", Any[\"Short\"])"
      ]
     },
     "execution_count": 160,
     "metadata": {},
     "output_type": "execute_result"
    }
   ],
   "source": [
    "tmp_array = []\n",
    "for lines in readlines(\"movies.dat\")\n",
    "    push!(tmp_array, parseline_2(lines))\n",
    "end \n",
    "tmp_array"
   ]
  },
  {
   "cell_type": "markdown",
   "id": "0fce66c7-55fa-45cd-bafc-853d53b804e2",
   "metadata": {},
   "source": [
    "### Load this into a dataframe using some bogumil magic from \n",
    "https://stackoverflow.com/questions/72957438/how-to-convert-a-vector-of-vectors-into-a-dataframe-in-julia-without-for-loop "
   ]
  },
  {
   "cell_type": "code",
   "execution_count": 165,
   "id": "174efdb1-a3d7-456e-882f-658c1dcf2a9d",
   "metadata": {
    "scrolled": true
   },
   "outputs": [
    {
     "data": {
      "text/html": [
       "<div><div style = \"float: left;\"><span>3096×4 DataFrame</span></div><div style = \"float: right;\"><span style = \"font-style: italic;\">3071 rows omitted</span></div><div style = \"clear: both;\"></div></div><div class = \"data-frame\" style = \"overflow-x: scroll;\"><table class = \"data-frame\" style = \"margin-bottom: 6px;\"><thead><tr class = \"header\"><th class = \"rowNumber\" style = \"font-weight: bold; text-align: right;\">Row</th><th style = \"text-align: left;\">x1</th><th style = \"text-align: left;\">x2</th><th style = \"text-align: left;\">x3</th><th style = \"text-align: left;\">x4</th></tr><tr class = \"subheader headerLastRow\"><th class = \"rowNumber\" style = \"font-weight: bold; text-align: right;\"></th><th title = \"SubString{String}\" style = \"text-align: left;\">SubStrin…</th><th title = \"SubString{String}\" style = \"text-align: left;\">SubStrin…</th><th title = \"SubString{String}\" style = \"text-align: left;\">SubStrin…</th><th title = \"Vector{Any}\" style = \"text-align: left;\">Array…</th></tr></thead><tbody><tr><td class = \"rowNumber\" style = \"font-weight: bold; text-align: right;\">1</td><td style = \"text-align: left;\">0002844</td><td style = \"text-align: left;\">Fantômas - À l&apos;ombre de la guillotine </td><td style = \"text-align: left;\">1913</td><td style = \"text-align: left;\">Any[&quot;Crime&quot;, &quot;Drama&quot;]</td></tr><tr><td class = \"rowNumber\" style = \"font-weight: bold; text-align: right;\">2</td><td style = \"text-align: left;\">0007264</td><td style = \"text-align: left;\">The Rink </td><td style = \"text-align: left;\">1916</td><td style = \"text-align: left;\">Any[&quot;Comedy&quot;, &quot;Short&quot;]</td></tr><tr><td class = \"rowNumber\" style = \"font-weight: bold; text-align: right;\">3</td><td style = \"text-align: left;\">0008133</td><td style = \"text-align: left;\">The Immigrant </td><td style = \"text-align: left;\">1917</td><td style = \"text-align: left;\">Any[&quot;Short&quot;, &quot;Comedy&quot;, &quot;Drama&quot;, &quot;Romance&quot;]</td></tr><tr><td class = \"rowNumber\" style = \"font-weight: bold; text-align: right;\">4</td><td style = \"text-align: left;\">0012349</td><td style = \"text-align: left;\">The Kid </td><td style = \"text-align: left;\">1921</td><td style = \"text-align: left;\">Any[&quot;Comedy&quot;, &quot;Drama&quot;, &quot;Family&quot;]</td></tr><tr><td class = \"rowNumber\" style = \"font-weight: bold; text-align: right;\">5</td><td style = \"text-align: left;\">0013427</td><td style = \"text-align: left;\">Nanook of the North </td><td style = \"text-align: left;\">1922</td><td style = \"text-align: left;\">Any[&quot;Documentary&quot;]</td></tr><tr><td class = \"rowNumber\" style = \"font-weight: bold; text-align: right;\">6</td><td style = \"text-align: left;\">0014142</td><td style = \"text-align: left;\">The Hunchback of Notre Dame </td><td style = \"text-align: left;\">1923</td><td style = \"text-align: left;\">Any[&quot;Drama&quot;, &quot;Romance&quot;]</td></tr><tr><td class = \"rowNumber\" style = \"font-weight: bold; text-align: right;\">7</td><td style = \"text-align: left;\">0014538</td><td style = \"text-align: left;\">Three Ages </td><td style = \"text-align: left;\">1923</td><td style = \"text-align: left;\">Any[&quot;Comedy&quot;]</td></tr><tr><td class = \"rowNumber\" style = \"font-weight: bold; text-align: right;\">8</td><td style = \"text-align: left;\">0014872</td><td style = \"text-align: left;\">Entr&apos;acte </td><td style = \"text-align: left;\">1924</td><td style = \"text-align: left;\">Any[&quot;Short&quot;]</td></tr><tr><td class = \"rowNumber\" style = \"font-weight: bold; text-align: right;\">9</td><td style = \"text-align: left;\">0015163</td><td style = \"text-align: left;\">The Navigator </td><td style = \"text-align: left;\">1924</td><td style = \"text-align: left;\">Any[&quot;Action&quot;, &quot;Comedy&quot;]</td></tr><tr><td class = \"rowNumber\" style = \"font-weight: bold; text-align: right;\">10</td><td style = \"text-align: left;\">0015324</td><td style = \"text-align: left;\">Sherlock Jr. </td><td style = \"text-align: left;\">1924</td><td style = \"text-align: left;\">Any[&quot;Comedy&quot;, &quot;Fantasy&quot;]</td></tr><tr><td class = \"rowNumber\" style = \"font-weight: bold; text-align: right;\">11</td><td style = \"text-align: left;\">0015400</td><td style = \"text-align: left;\">The Thief of Bagdad </td><td style = \"text-align: left;\">1924</td><td style = \"text-align: left;\">Any[&quot;Adventure&quot;, &quot;Family&quot;, &quot;Fantasy&quot;, &quot;Romance&quot;]</td></tr><tr><td class = \"rowNumber\" style = \"font-weight: bold; text-align: right;\">12</td><td style = \"text-align: left;\">0017925</td><td style = \"text-align: left;\">The General </td><td style = \"text-align: left;\">1926</td><td style = \"text-align: left;\">Any[&quot;Action&quot;, &quot;Adventure&quot;, &quot;Comedy&quot;, &quot;Romance&quot;, &quot;War&quot;]</td></tr><tr><td class = \"rowNumber\" style = \"font-weight: bold; text-align: right;\">13</td><td style = \"text-align: left;\">0018773</td><td style = \"text-align: left;\">The Circus </td><td style = \"text-align: left;\">1928</td><td style = \"text-align: left;\">Any[&quot;Comedy&quot;, &quot;Romance&quot;]</td></tr><tr><td style = \"text-align: right;\">&vellip;</td><td style = \"text-align: right;\">&vellip;</td><td style = \"text-align: right;\">&vellip;</td><td style = \"text-align: right;\">&vellip;</td><td style = \"text-align: right;\">&vellip;</td></tr><tr><td class = \"rowNumber\" style = \"font-weight: bold; text-align: right;\">3085</td><td style = \"text-align: left;\">2638984</td><td style = \"text-align: left;\">Teal Diva </td><td style = \"text-align: left;\">2012</td><td style = \"text-align: left;\">Any[&quot;Documentary&quot;, &quot;Short&quot;]</td></tr><tr><td class = \"rowNumber\" style = \"font-weight: bold; text-align: right;\">3086</td><td style = \"text-align: left;\">2645104</td><td style = \"text-align: left;\">Romantik komedi 2</td><td style = \"text-align: left;\"> Bekarliga veda </td><td style = \"text-align: left;\">Any[&quot;2013&quot;, &quot;Comedy&quot;]</td></tr><tr><td class = \"rowNumber\" style = \"font-weight: bold; text-align: right;\">3087</td><td style = \"text-align: left;\">2645164</td><td style = \"text-align: left;\">The Hardy Bucks Movie </td><td style = \"text-align: left;\">2013</td><td style = \"text-align: left;\">Any[&quot;Comedy&quot;]</td></tr><tr><td class = \"rowNumber\" style = \"font-weight: bold; text-align: right;\">3088</td><td style = \"text-align: left;\">2646378</td><td style = \"text-align: left;\">The Frankenstein Theory </td><td style = \"text-align: left;\">2013</td><td style = \"text-align: left;\">Any[&quot;Horror&quot;, &quot;Sci-Fi&quot;]</td></tr><tr><td class = \"rowNumber\" style = \"font-weight: bold; text-align: right;\">3089</td><td style = \"text-align: left;\">2649128</td><td style = \"text-align: left;\">Metro </td><td style = \"text-align: left;\">2013</td><td style = \"text-align: left;\">Any[&quot;Thriller&quot;]</td></tr><tr><td class = \"rowNumber\" style = \"font-weight: bold; text-align: right;\">3090</td><td style = \"text-align: left;\">2670226</td><td style = \"text-align: left;\">Jîn </td><td style = \"text-align: left;\">2013</td><td style = \"text-align: left;\">Any[&quot;Drama&quot;]</td></tr><tr><td class = \"rowNumber\" style = \"font-weight: bold; text-align: right;\">3091</td><td style = \"text-align: left;\">2700330</td><td style = \"text-align: left;\">The Two Escobars </td><td style = \"text-align: left;\">2010</td><td style = \"text-align: left;\">Any[&quot;Documentary&quot;]</td></tr><tr><td class = \"rowNumber\" style = \"font-weight: bold; text-align: right;\">3092</td><td style = \"text-align: left;\">2735466</td><td style = \"text-align: left;\">Pickett&apos;s Charge </td><td style = \"text-align: left;\">2012</td><td style = \"text-align: left;\">Any[&quot;Short&quot;, &quot;Comedy&quot;, &quot;Drama&quot;, &quot;Family&quot;]</td></tr><tr><td class = \"rowNumber\" style = \"font-weight: bold; text-align: right;\">3093</td><td style = \"text-align: left;\">2748368</td><td style = \"text-align: left;\">Neil </td><td style = \"text-align: left;\">2013</td><td style = \"text-align: left;\">Any[&quot;Short&quot;, &quot;Comedy&quot;]</td></tr><tr><td class = \"rowNumber\" style = \"font-weight: bold; text-align: right;\">3094</td><td style = \"text-align: left;\">2750600</td><td style = \"text-align: left;\">A Different Tree </td><td style = \"text-align: left;\">2013</td><td style = \"text-align: left;\">Any[&quot;Short&quot;, &quot;Drama&quot;, &quot;Family&quot;]</td></tr><tr><td class = \"rowNumber\" style = \"font-weight: bold; text-align: right;\">3095</td><td style = \"text-align: left;\">2763252</td><td style = \"text-align: left;\">Broken Night </td><td style = \"text-align: left;\">2013</td><td style = \"text-align: left;\">Any[&quot;Short&quot;, &quot;Drama&quot;]</td></tr><tr><td class = \"rowNumber\" style = \"font-weight: bold; text-align: right;\">3096</td><td style = \"text-align: left;\">2769592</td><td style = \"text-align: left;\">Kiss Shot Truth or Dare </td><td style = \"text-align: left;\">2013</td><td style = \"text-align: left;\">Any[&quot;Short&quot;]</td></tr></tbody></table></div>"
      ],
      "text/latex": [
       "\\begin{tabular}{r|cccc}\n",
       "\t& x1 & x2 & x3 & x4\\\\\n",
       "\t\\hline\n",
       "\t& SubStrin… & SubStrin… & SubStrin… & Array…\\\\\n",
       "\t\\hline\n",
       "\t1 & 0002844 & Fantômas - À l'ombre de la guillotine  & 1913 & [\"Crime\", \"Drama\"] \\\\\n",
       "\t2 & 0007264 & The Rink  & 1916 & [\"Comedy\", \"Short\"] \\\\\n",
       "\t3 & 0008133 & The Immigrant  & 1917 & [\"Short\", \"Comedy\", \"Drama\", \"Romance\"] \\\\\n",
       "\t4 & 0012349 & The Kid  & 1921 & [\"Comedy\", \"Drama\", \"Family\"] \\\\\n",
       "\t5 & 0013427 & Nanook of the North  & 1922 & [\"Documentary\"] \\\\\n",
       "\t6 & 0014142 & The Hunchback of Notre Dame  & 1923 & [\"Drama\", \"Romance\"] \\\\\n",
       "\t7 & 0014538 & Three Ages  & 1923 & [\"Comedy\"] \\\\\n",
       "\t8 & 0014872 & Entr'acte  & 1924 & [\"Short\"] \\\\\n",
       "\t9 & 0015163 & The Navigator  & 1924 & [\"Action\", \"Comedy\"] \\\\\n",
       "\t10 & 0015324 & Sherlock Jr.  & 1924 & [\"Comedy\", \"Fantasy\"] \\\\\n",
       "\t11 & 0015400 & The Thief of Bagdad  & 1924 & [\"Adventure\", \"Family\", \"Fantasy\", \"Romance\"] \\\\\n",
       "\t12 & 0017925 & The General  & 1926 & [\"Action\", \"Adventure\", \"Comedy\", \"Romance\", \"War\"] \\\\\n",
       "\t13 & 0018773 & The Circus  & 1928 & [\"Comedy\", \"Romance\"] \\\\\n",
       "\t14 & 0019729 & The Broadway Melody  & 1929 & [\"Musical\", \"Romance\"] \\\\\n",
       "\t15 & 0019760 & Chelovek s kino-apparatom  & 1929 & [\"Documentary\"] \\\\\n",
       "\t16 & 0020530 & Un chien andalou  & 1929 & [\"Short\", \"Fantasy\"] \\\\\n",
       "\t17 & 0020629 & All Quiet on the Western Front  & 1930 & [\"Drama\", \"War\"] \\\\\n",
       "\t18 & 0020902 & Free and Easy  & 1930 & [\"Comedy\", \"Musical\"] \\\\\n",
       "\t19 & 0021577 & L'âge d'or  & 1930 & [\"Comedy\", \"Drama\"] \\\\\n",
       "\t20 & 0021746 & Cimarron  & 1931 & [\"Drama\", \"Western\"] \\\\\n",
       "\t21 & 0021884 & Frankenstein  & 1931 & [\"Horror\", \"Sci-Fi\"] \\\\\n",
       "\t22 & 0022958 & Grand Hotel  & 1932 & [\"Drama\", \"Romance\"] \\\\\n",
       "\t23 & 0023876 & Cavalcade  & 1933 & [\"Drama\", \"Romance\", \"War\"] \\\\\n",
       "\t24 & 0023969 & Duck Soup  & 1933 & [\"Comedy\", \"Musical\"] \\\\\n",
       "\t25 & 0025132 & Forsaking All Others  & 1934 & [\"Comedy\", \"Drama\", \"Romance\"] \\\\\n",
       "\t26 & 0025456 & Man of Aran  & 1934 & [\"Documentary\"] \\\\\n",
       "\t27 & 0025586 & Of Human Bondage  & 1934 & [\"Drama\", \"Romance\"] \\\\\n",
       "\t28 & 0025878 & The Thin Man  & 1934 & [\"Comedy\", \"Crime\", \"Mystery\"] \\\\\n",
       "\t29 & 0026752 & Mutiny on the Bounty  & 1935 & [\"Adventure\", \"Drama\", \"History\"] \\\\\n",
       "\t30 & 0027698 & The Great Ziegfeld  & 1936 & [\"Biography\", \"Drama\", \"Musical\", \"Romance\"] \\\\\n",
       "\t$\\dots$ & $\\dots$ & $\\dots$ & $\\dots$ & $\\dots$ \\\\\n",
       "\\end{tabular}\n"
      ],
      "text/plain": [
       "\u001b[1m3096×4 DataFrame\u001b[0m\n",
       "\u001b[1m  Row \u001b[0m│\u001b[1m x1        \u001b[0m\u001b[1m x2                                \u001b[0m\u001b[1m x3               \u001b[0m\u001b[1m x4    \u001b[0m ⋯\n",
       "      │\u001b[90m SubStrin… \u001b[0m\u001b[90m SubStrin…                         \u001b[0m\u001b[90m SubStrin…        \u001b[0m\u001b[90m Array…\u001b[0m ⋯\n",
       "──────┼─────────────────────────────────────────────────────────────────────────\n",
       "    1 │ 0002844    Fantômas - À l'ombre de la guill…  1913              Any[\"C ⋯\n",
       "    2 │ 0007264    The Rink                           1916              Any[\"C\n",
       "    3 │ 0008133    The Immigrant                      1917              Any[\"S\n",
       "    4 │ 0012349    The Kid                            1921              Any[\"C\n",
       "    5 │ 0013427    Nanook of the North                1922              Any[\"D ⋯\n",
       "    6 │ 0014142    The Hunchback of Notre Dame        1923              Any[\"D\n",
       "    7 │ 0014538    Three Ages                         1923              Any[\"C\n",
       "    8 │ 0014872    Entr'acte                          1924              Any[\"S\n",
       "    9 │ 0015163    The Navigator                      1924              Any[\"A ⋯\n",
       "   10 │ 0015324    Sherlock Jr.                       1924              Any[\"C\n",
       "   11 │ 0015400    The Thief of Bagdad                1924              Any[\"A\n",
       "  ⋮   │     ⋮                      ⋮                         ⋮                 ⋱\n",
       " 3087 │ 2645164    The Hardy Bucks Movie              2013              Any[\"C\n",
       " 3088 │ 2646378    The Frankenstein Theory            2013              Any[\"H ⋯\n",
       " 3089 │ 2649128    Metro                              2013              Any[\"T\n",
       " 3090 │ 2670226    Jîn                                2013              Any[\"D\n",
       " 3091 │ 2700330    The Two Escobars                   2010              Any[\"D\n",
       " 3092 │ 2735466    Pickett's Charge                   2012              Any[\"S ⋯\n",
       " 3093 │ 2748368    Neil                               2013              Any[\"S\n",
       " 3094 │ 2750600    A Different Tree                   2013              Any[\"S\n",
       " 3095 │ 2763252    Broken Night                       2013              Any[\"S\n",
       " 3096 │ 2769592    Kiss Shot Truth or Dare            2013              Any[\"S ⋯\n",
       "\u001b[36m                                                  1 column and 3075 rows omitted\u001b[0m"
      ]
     },
     "execution_count": 165,
     "metadata": {},
     "output_type": "execute_result"
    }
   ],
   "source": [
    "DataFrame([getindex.(tmp_array, i) for i in 1:4], :auto, copycols=false)"
   ]
  },
  {
   "cell_type": "markdown",
   "id": "e00419c1-8002-4b72-ad5c-c6c3c2cf21cb",
   "metadata": {},
   "source": [
    "Jesus, it actually worked? How? \n",
    "Using the broadcasting funtion of get index, we create a comphrension where we iterate through the columns 1 to 4 of the vector, sequentially loading the column, and allowing DataFrames to automatically use these values are input **:auto** option "
   ]
  },
  {
   "cell_type": "code",
   "execution_count": 89,
   "id": "5aa1559e-ec97-4be2-bc14-66336d9b39bb",
   "metadata": {},
   "outputs": [
    {
     "data": {
      "text/plain": [
       "4-element Vector{String}:\n",
       " \"id\"\n",
       " \"title\"\n",
       " \"year\"\n",
       " \"genre\""
      ]
     },
     "execution_count": 89,
     "metadata": {},
     "output_type": "execute_result"
    }
   ],
   "source": [
    "column_names = [\"id\", \"title\", \"year\", \"genre\"] "
   ]
  },
  {
   "cell_type": "code",
   "execution_count": 68,
   "id": "b5b2ebd1-ba8c-4ac9-a086-ab6b8f5b9cd3",
   "metadata": {},
   "outputs": [],
   "source": [
    "using DataFrames"
   ]
  },
  {
   "cell_type": "code",
   "execution_count": 92,
   "id": "1f250a0f-d847-460d-aad5-31e66ea4a7b1",
   "metadata": {},
   "outputs": [
    {
     "data": {
      "text/html": [
       "<div><div style = \"float: left;\"><span>0×4 DataFrame</span></div><div style = \"clear: both;\"></div></div><div class = \"data-frame\" style = \"overflow-x: scroll;\"><table class = \"data-frame\" style = \"margin-bottom: 6px;\"><thead><tr class = \"header\"><th class = \"rowNumber\" style = \"font-weight: bold; text-align: right;\">Row</th><th style = \"text-align: left;\">id</th><th style = \"text-align: left;\">title</th><th style = \"text-align: left;\">year</th><th style = \"text-align: left;\">genre</th></tr><tr class = \"subheader headerLastRow\"><th class = \"rowNumber\" style = \"font-weight: bold; text-align: right;\"></th><th title = \"Any\" style = \"text-align: left;\">Any</th><th title = \"Any\" style = \"text-align: left;\">Any</th><th title = \"Any\" style = \"text-align: left;\">Any</th><th title = \"Any\" style = \"text-align: left;\">Any</th></tr></thead><tbody></tbody></table></div>"
      ],
      "text/latex": [
       "\\begin{tabular}{r|cccc}\n",
       "\t& id & title & year & genre\\\\\n",
       "\t\\hline\n",
       "\t& Any & Any & Any & Any\\\\\n",
       "\t\\hline\n",
       "\\end{tabular}\n"
      ],
      "text/plain": [
       "\u001b[1m0×4 DataFrame\u001b[0m\n",
       "\u001b[1m Row \u001b[0m│\u001b[1m id  \u001b[0m\u001b[1m title \u001b[0m\u001b[1m year \u001b[0m\u001b[1m genre \u001b[0m\n",
       "     │\u001b[90m Any \u001b[0m\u001b[90m Any   \u001b[0m\u001b[90m Any  \u001b[0m\u001b[90m Any   \u001b[0m\n",
       "─────┴─────────────────────────"
      ]
     },
     "execution_count": 92,
     "metadata": {},
     "output_type": "execute_result"
    }
   ],
   "source": [
    "sample_df = DataFrame([name => [] for name in column_names])"
   ]
  },
  {
   "cell_type": "markdown",
   "id": "d96007e0-a349-4784-8e00-7c32ec25f637",
   "metadata": {},
   "source": [
    "### How did Bogumil do it in the course? "
   ]
  },
  {
   "cell_type": "code",
   "execution_count": 166,
   "id": "af593a72-66ff-43b6-bea5-ab5e0d4912f5",
   "metadata": {},
   "outputs": [
    {
     "data": {
      "text/plain": [
       "parseline (generic function with 1 method)"
      ]
     },
     "execution_count": 166,
     "metadata": {},
     "output_type": "execute_result"
    }
   ],
   "source": [
    "function parseline(line::AbstractString)\n",
    "   parts = split(line, \"::\")\n",
    "   m = match(r\"(.+) \\((\\d{4})\\)\", parts[2])\n",
    "   return (id=parts[1],\n",
    "           name=m[1],\n",
    "           year=parse(Int, m[2]),\n",
    "           genres=split(parts[3], \"|\"))\n",
    "end"
   ]
  },
  {
   "cell_type": "markdown",
   "id": "dffef761-018e-49c8-9743-1fa2086d6e01",
   "metadata": {},
   "source": [
    "Instead of creating loops like I did, he split the parts using the '::' separator, and then used a regex to separaterly split the year from the title from the first splitting procedure. After this he assigned the various parts to variables. "
   ]
  },
  {
   "cell_type": "markdown",
   "id": "2d192d3e-5e1d-4370-8368-671c9c85559c",
   "metadata": {},
   "source": [
    "## How String indexing is done\n",
    "### UTF-8 encoding of strings in Julia"
   ]
  },
  {
   "cell_type": "code",
   "execution_count": null,
   "id": "ce1d2972-69a4-4aaa-8582-6abeea5dbe9b",
   "metadata": {},
   "outputs": [],
   "source": []
  },
  {
   "cell_type": "code",
   "execution_count": null,
   "id": "1c32ee8b-374b-4cf0-9189-e2d5af15d812",
   "metadata": {},
   "outputs": [],
   "source": []
  },
  {
   "cell_type": "code",
   "execution_count": null,
   "id": "b8243708-9c37-4a41-bc46-96b2c8205e14",
   "metadata": {},
   "outputs": [],
   "source": []
  },
  {
   "cell_type": "code",
   "execution_count": null,
   "id": "0d2872d4-bc06-4bfb-b1d2-4c961a365587",
   "metadata": {},
   "outputs": [],
   "source": []
  },
  {
   "cell_type": "code",
   "execution_count": null,
   "id": "bfb87fb7-2946-487a-b830-3e545183cd6b",
   "metadata": {},
   "outputs": [],
   "source": []
  },
  {
   "cell_type": "code",
   "execution_count": null,
   "id": "f169a9ff-3c37-4769-b1a5-81e7cdf90603",
   "metadata": {},
   "outputs": [],
   "source": []
  }
 ],
 "metadata": {
  "kernelspec": {
   "display_name": "Julia 1.10.3",
   "language": "julia",
   "name": "julia-1.10"
  },
  "language_info": {
   "file_extension": ".jl",
   "mimetype": "application/julia",
   "name": "julia",
   "version": "1.10.3"
  }
 },
 "nbformat": 4,
 "nbformat_minor": 5
}
