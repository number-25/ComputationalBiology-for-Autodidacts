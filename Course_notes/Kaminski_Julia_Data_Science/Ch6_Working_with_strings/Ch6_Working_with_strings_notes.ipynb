{
 "cells": [
  {
   "cell_type": "markdown",
   "id": "05bb9f32-83cb-46ad-8f95-4a3be413c4df",
   "metadata": {},
   "source": [
    "# Chapter 6 - Working with strings "
   ]
  },
  {
   "cell_type": "markdown",
   "id": "42769c1e-ef02-40a4-9a18-86e53f5d5c98",
   "metadata": {},
   "source": [
    "## This chapter will cover \n",
    "* UTF-8 encoding of Julia strings; byte versus character indexing\n",
    "* Manipulating strings: interpolation, splitting, using regular expressions, parsing\n",
    "* Working with symbols\n",
    "* Using the InlineStrings.jl package to work with fixed-width strings\n",
    "* Using the PooledArrays.jl package to compress vectors of strings"
   ]
  },
  {
   "cell_type": "markdown",
   "id": "db2c6f7b-1370-4922-9d01-599f5383b980",
   "metadata": {},
   "source": [
    "As an application of string processing, we will analyze movie genres that were given ratings by Twitter users. We want to understand which movie genre is most common and how the relative frequency of this genre changes with the movie year."
   ]
  },
  {
   "cell_type": "markdown",
   "id": "7c8c984f-2bb9-445f-aca3-4354234a9a06",
   "metadata": {},
   "source": [
    "We will analyze the movie genre data according to the following steps, which are described in the subsequent sections of this chapter and depicted in figure 6.1:\n",
    "\n",
    "1. Read in the data in Julia.    \n",
    "2. Parse the original data to extract the year and genre list for each analyzed movie.\n",
    "3. Create frequency tables to find which movie genre is most common.\n",
    "4. Create a plot of popularity of the most common genre by year.\n"
   ]
  },
  {
   "cell_type": "markdown",
   "id": "7eb23ea8-1b1f-4672-b3cb-88785ae0c361",
   "metadata": {},
   "source": [
    "An image depicting the steps that we'll be ![taking](https://drek4537l1klr.cloudfront.net/kaminski2/Figures/CH06_F01_Kaminski2.png)"
   ]
  },
  {
   "cell_type": "markdown",
   "id": "cf9393b6-a3c5-4841-9346-f999465428d1",
   "metadata": {},
   "source": [
    "## Download the file"
   ]
  },
  {
   "cell_type": "code",
   "execution_count": 2,
   "id": "37c7f672-1256-4691-9246-33c49438870b",
   "metadata": {},
   "outputs": [
    {
     "data": {
      "text/plain": [
       "\"https://raw.githubusercontent.com/sidooms/MovieTweetings/44c525d0c766944910686c60697203cda39305d6/snapshots/10K/movies.dat\""
      ]
     },
     "execution_count": 2,
     "metadata": {},
     "output_type": "execute_result"
    }
   ],
   "source": [
    "url = \"https://raw.githubusercontent.com/sidooms/MovieTweetings/44c525d0c766944910686c60697203cda39305d6/snapshots/10K/movies.dat\""
   ]
  },
  {
   "cell_type": "code",
   "execution_count": 3,
   "id": "7cd93e04-207b-4b11-ae6f-0c4ab23238da",
   "metadata": {},
   "outputs": [
    {
     "data": {
      "text/plain": [
       "\"movies.dat\""
      ]
     },
     "execution_count": 3,
     "metadata": {},
     "output_type": "execute_result"
    }
   ],
   "source": [
    "download(url, \"movies.dat\")"
   ]
  },
  {
   "cell_type": "markdown",
   "id": "e30d8c5a-f849-4d62-b40b-c2b830469362",
   "metadata": {},
   "source": [
    "### Basic characteristics of strings in julia"
   ]
  },
  {
   "cell_type": "markdown",
   "id": "52f6117f-b545-42ac-a6a1-fddfee3d4a42",
   "metadata": {},
   "source": [
    "We can interpolate variable in strings by using the '$' operator `println(\"This is $price American dollers\")` "
   ]
  },
  {
   "cell_type": "markdown",
   "id": "bff33f4d-2eb5-40bf-b4d0-303d6125714c",
   "metadata": {},
   "source": [
    "If we are executing a function/operation we must wrap the code inside curly brackets as per `\"This price is $(a + price) American dollers\"` "
   ]
  },
  {
   "cell_type": "markdown",
   "id": "6b5bb43b-9d73-4e92-9eba-d4a8793170b3",
   "metadata": {},
   "source": [
    "The newline character can be embedded within the string literal to print a new line and divide the string up"
   ]
  },
  {
   "cell_type": "code",
   "execution_count": 6,
   "id": "5bd54779-3de3-4c79-b051-b997d153a226",
   "metadata": {},
   "outputs": [
    {
     "name": "stdout",
     "output_type": "stream",
     "text": [
      "This is the first\n",
      "this is the second\n",
      "this is the third"
     ]
    }
   ],
   "source": [
    "print(\"This is the first\\nthis is the second\\nthis is the third\")"
   ]
  },
  {
   "cell_type": "markdown",
   "id": "22a48bd8-1d75-4a64-b1fb-2ccf25c4b014",
   "metadata": {},
   "source": [
    "To actually use the dollar sign '$' character so that it's not interpreted as an interpolation, we have to escape it"
   ]
  },
  {
   "cell_type": "code",
   "execution_count": 8,
   "id": "d7dc7428-3192-45f3-b694-4e351bb45f6b",
   "metadata": {},
   "outputs": [
    {
     "name": "stdout",
     "output_type": "stream",
     "text": [
      "The price is $100"
     ]
    }
   ],
   "source": [
    "print(\"The price is \\$100\")"
   ]
  },
  {
   "cell_type": "markdown",
   "id": "8e469d27-9222-4249-8f0c-49232cd66eb6",
   "metadata": {},
   "source": [
    "### Avoiding complicated escape combinations \n",
    "In instances in which we want to print a string which contains multiple special characters, which should not be interpolated and interpreted as newlines, instead of embedding escape characters amongst the string literal, we can simply prefix the entire string with **raw**, turning the string into a raw literal. For example this would help greatly if we want to pring file paths and the like "
   ]
  },
  {
   "cell_type": "code",
   "execution_count": 9,
   "id": "827139a5-5ea4-4a60-8b54-8b58916c6239",
   "metadata": {},
   "outputs": [
    {
     "data": {
      "text/plain": [
       "\"C:\\\\my_folder\\\\my_file.txt\""
      ]
     },
     "execution_count": 9,
     "metadata": {},
     "output_type": "execute_result"
    }
   ],
   "source": [
    "raw\"C:\\my_folder\\my_file.txt\""
   ]
  },
  {
   "cell_type": "markdown",
   "id": "2b998f22-481b-48c0-af3c-30e5b0d5d335",
   "metadata": {},
   "source": [
    "The triple quote `\"\"\"something\"\"\"` is used to create multi-line strings"
   ]
  },
  {
   "cell_type": "code",
   "execution_count": null,
   "id": "e4985d9a-add6-47e2-9d52-972c726a62bf",
   "metadata": {},
   "outputs": [],
   "source": []
  },
  {
   "cell_type": "code",
   "execution_count": null,
   "id": "27cebe80-3db6-4979-a63e-d2738a4bea60",
   "metadata": {},
   "outputs": [],
   "source": []
  },
  {
   "cell_type": "code",
   "execution_count": null,
   "id": "3b213c10-d618-4d55-b804-722793b11962",
   "metadata": {},
   "outputs": [],
   "source": []
  },
  {
   "cell_type": "code",
   "execution_count": null,
   "id": "1940261f-94ed-42bd-aac0-79344d0dd4a9",
   "metadata": {},
   "outputs": [],
   "source": []
  },
  {
   "cell_type": "code",
   "execution_count": null,
   "id": "2eb670e2-2e70-4a11-8a01-92a6f8dd8054",
   "metadata": {},
   "outputs": [],
   "source": []
  },
  {
   "cell_type": "code",
   "execution_count": null,
   "id": "a4ee9f64-7ac5-4377-804f-7f738f4c432c",
   "metadata": {},
   "outputs": [],
   "source": []
  },
  {
   "cell_type": "code",
   "execution_count": null,
   "id": "0d2872d4-bc06-4bfb-b1d2-4c961a365587",
   "metadata": {},
   "outputs": [],
   "source": []
  },
  {
   "cell_type": "code",
   "execution_count": null,
   "id": "bfb87fb7-2946-487a-b830-3e545183cd6b",
   "metadata": {},
   "outputs": [],
   "source": []
  },
  {
   "cell_type": "code",
   "execution_count": null,
   "id": "f169a9ff-3c37-4769-b1a5-81e7cdf90603",
   "metadata": {},
   "outputs": [],
   "source": []
  }
 ],
 "metadata": {
  "kernelspec": {
   "display_name": "Julia 1.10.3",
   "language": "julia",
   "name": "julia-1.10"
  },
  "language_info": {
   "file_extension": ".jl",
   "mimetype": "application/julia",
   "name": "julia",
   "version": "1.10.3"
  }
 },
 "nbformat": 4,
 "nbformat_minor": 5
}
