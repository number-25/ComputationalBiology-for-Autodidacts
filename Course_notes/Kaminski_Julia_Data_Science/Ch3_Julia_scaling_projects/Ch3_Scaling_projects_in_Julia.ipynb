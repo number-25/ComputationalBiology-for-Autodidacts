{
 "cells": [
  {
   "cell_type": "markdown",
   "id": "d8f93abc-8bab-4e1e-bd21-741cdace0e72",
   "metadata": {},
   "source": [
    "# Chapter 3 - Julia's support for scaling projects \n",
    "\"In this chapter, you will learn elements of the Julia language that are important when creating larger projects. We start with exploring Julia’s type system. Understanding how type hierarchy works is essential to learning how to define multiple methods for a single function, a topic we started discussing in section 2.4. Similarly, when you use an existing function, you must know how to find out which types of arguments it accepts. Getting an exception because you tried to pass an argument of incorrect type when calling a function is one of the most common errors when working in Julia. To avoid such problems, you must have a good understanding of how Julia’s type system is designed.\" "
   ]
  },
  {
   "cell_type": "markdown",
   "id": "d4b9b409-554a-4308-b5d7-a02a5dcf7863",
   "metadata": {},
   "source": [
    "## Julia's type system\n",
    "A highly touted feature of julia is *multiple dispatch* - essentially the ability to define multiple methods for a function, allowing it to work on different types. It's power is ground breaking. "
   ]
  },
  {
   "cell_type": "markdown",
   "id": "87754ee6-929a-4d26-ba84-791db87aad03",
   "metadata": {},
   "source": [
    "Let's look at the several methods for **cd()** which changes directories. Programming multiple methods reduces the chaces of your code breaking and anticipates multiple use scenarios. "
   ]
  },
  {
   "cell_type": "code",
   "execution_count": 1,
   "id": "c511678e-84b4-4419-803a-d6e1e82e0002",
   "metadata": {},
   "outputs": [
    {
     "data": {
      "text/html": [
       "# 4 methods for generic function <b>cd</b> from \u001b[90mBase.Filesystem\u001b[39m:<ul><li> cd() in Base.Filesystem at <a href=\"https://github.com/JuliaLang/julia/tree/bd47eca2c8aacd145b6c5c02e47e2b9ec27ab456/base/file.jl#L94\" target=\"_blank\">file.jl:94</a></li> <li> cd(f::<b>Function</b>) in Base.Filesystem at <a href=\"https://github.com/JuliaLang/julia/tree/bd47eca2c8aacd145b6c5c02e47e2b9ec27ab456/base/file.jl#L147\" target=\"_blank\">file.jl:147</a></li> <li> cd(f::<b>Function</b>, dir::<b>AbstractString</b>) in Base.Filesystem at <a href=\"https://github.com/JuliaLang/julia/tree/bd47eca2c8aacd145b6c5c02e47e2b9ec27ab456/base/file.jl#L107\" target=\"_blank\">file.jl:107</a></li> <li> cd(dir::<b>AbstractString</b>) in Base.Filesystem at <a href=\"https://github.com/JuliaLang/julia/tree/bd47eca2c8aacd145b6c5c02e47e2b9ec27ab456/base/file.jl#L89\" target=\"_blank\">file.jl:89</a></li> </ul>"
      ],
      "text/plain": [
       "# 4 methods for generic function \"cd\" from \u001b[90mBase.Filesystem\u001b[39m:\n",
       " [1] cd()\n",
       "\u001b[90m     @\u001b[39m \u001b[90m\u001b[4mfile.jl:94\u001b[24m\u001b[39m\n",
       " [2] cd(\u001b[90mf\u001b[39m::\u001b[1mFunction\u001b[22m)\n",
       "\u001b[90m     @\u001b[39m \u001b[90m\u001b[4mfile.jl:147\u001b[24m\u001b[39m\n",
       " [3] cd(\u001b[90mf\u001b[39m::\u001b[1mFunction\u001b[22m, \u001b[90mdir\u001b[39m::\u001b[1mAbstractString\u001b[22m)\n",
       "\u001b[90m     @\u001b[39m \u001b[90m\u001b[4mfile.jl:107\u001b[24m\u001b[39m\n",
       " [4] cd(\u001b[90mdir\u001b[39m::\u001b[1mAbstractString\u001b[22m)\n",
       "\u001b[90m     @\u001b[39m \u001b[90m\u001b[4mfile.jl:89\u001b[24m\u001b[39m"
      ]
     },
     "execution_count": 1,
     "metadata": {},
     "output_type": "execute_result"
    }
   ],
   "source": [
    "methods(cd)"
   ]
  },
  {
   "cell_type": "markdown",
   "id": "01a29222-9286-466e-a5a3-601739b4f865",
   "metadata": {},
   "source": [
    "As we can see there are two types for cd, the *Function* and *AbstractString* type - naturally, every function which is defined, has a *Function* supertype in Julia. An abstract string could be any string consists of any characters, a string in its most abstract form"
   ]
  },
  {
   "cell_type": "code",
   "execution_count": 3,
   "id": "883d10dd-0669-4338-8cb8-997498d4c739",
   "metadata": {},
   "outputs": [
    {
     "data": {
      "text/plain": [
       "true"
      ]
     },
     "execution_count": 3,
     "metadata": {},
     "output_type": "execute_result"
    }
   ],
   "source": [
    "cd isa Function"
   ]
  },
  {
   "cell_type": "markdown",
   "id": "019c83c0-5945-474c-927f-395cfcfa9829",
   "metadata": {},
   "source": [
    "But if we ask if cd is a **typeof()** Function then we get false! What? It seems contradictory no?\n"
   ]
  },
  {
   "cell_type": "code",
   "execution_count": 4,
   "id": "236db643-26e3-4a03-baad-8e76e09eff8b",
   "metadata": {},
   "outputs": [
    {
     "data": {
      "text/plain": [
       "false"
      ]
     },
     "execution_count": 4,
     "metadata": {},
     "output_type": "execute_result"
    }
   ],
   "source": [
    "typeof(cd) == Function "
   ]
  },
  {
   "cell_type": "markdown",
   "id": "c21e3c99-a51b-41b0-be94-ff5e6063331e",
   "metadata": {},
   "source": [
    "The reason for this, is because Julia organises it's types in a hierarchy, with the supertype **Function** being the parents, and other subtypes belogning to it. When we execute the statement above, it evaluates as false because it defaults to the specific subtype, rather than the supertype. "
   ]
  },
  {
   "cell_type": "code",
   "execution_count": 9,
   "id": "418c960e-d3a2-46c9-a73a-39d3d758321c",
   "metadata": {},
   "outputs": [
    {
     "data": {
      "text/plain": [
       "Function"
      ]
     },
     "execution_count": 9,
     "metadata": {},
     "output_type": "execute_result"
    }
   ],
   "source": [
    "supertype(typeof(cd))"
   ]
  },
  {
   "cell_type": "markdown",
   "id": "8c854154-b9a6-4587-9dad-9adf2a908f37",
   "metadata": {},
   "source": [
    "We have a \"type tree\" that we need to visualise - the root is the *Any* type - this is the default type that Julias compiler asigns to standard functions.\n",
    "\n",
    "**\"Only the types that are leaves can have instances (that is, have objects that are of that specific type). The types that can be instantiated are called concrete. In other words, if you have a value, you can be sure that its type is concrete and that it is a leaf type. For this reason, there is no function whose type is Function. Every function has its own unique concrete type that is a subtype of the Function type.\"**"
   ]
  },
  {
   "cell_type": "markdown",
   "id": "00fde11f-7c78-4211-86e4-169fa64a58fc",
   "metadata": {},
   "source": [
    "### Concrete vs Abstract types"
   ]
  },
  {
   "cell_type": "markdown",
   "id": "b15a27ff-b6ac-42ea-ac26-4473917b34d1",
   "metadata": {},
   "source": [
    "Only concrete types can be instantiated and cannot have concrete subtypes. You can check whether a given type is concrete by using the **isconcretetype()** function. Abstract types cannot have instances but can have subtypes. You can check whether a given type is abstract by using the **isabstracttype()** function. Therefore, it is not possible for a type to be both abstract and concrete.\n",
    "\n",
    "However, some types are neither abstract nor concrete. You will encounter these types in chapter 4 when you learn more about parametric types. An example of such a type is Vector. (Note that this type has its parameter left out, and this is why it is not concrete; in section 2.1, you saw an example of a value having Vector{Int}, which is a concrete type as it has a fully specified parameter, Int in that case.)\n"
   ]
  },
  {
   "cell_type": "code",
   "execution_count": 15,
   "id": "2c5cb9b4-b69d-4035-9031-7d45d39f33fa",
   "metadata": {},
   "outputs": [
    {
     "data": {
      "text/plain": [
       "(AbstractFloat, Real, Number, Any)"
      ]
     },
     "execution_count": 15,
     "metadata": {},
     "output_type": "execute_result"
    }
   ],
   "source": [
    "supertypes(AbstractFloat)"
   ]
  },
  {
   "cell_type": "markdown",
   "id": "42cf19e4-63ab-4d30-8943-fc7a3c5a1cba",
   "metadata": {},
   "source": [
    "Iterate through the type tree"
   ]
  },
  {
   "cell_type": "code",
   "execution_count": 37,
   "id": "f13c6638-ddbd-4975-823e-a66f4c930092",
   "metadata": {},
   "outputs": [
    {
     "data": {
      "text/plain": [
       "sub_types (generic function with 1 method)"
      ]
     },
     "execution_count": 37,
     "metadata": {},
     "output_type": "execute_result"
    }
   ],
   "source": [
    "function sub_types(type)\n",
    "    println(type)\n",
    "    for t in subtypes(type)\n",
    "        sub_types(t)\n",
    "    end \n",
    "    return nothing\n",
    "end "
   ]
  },
  {
   "cell_type": "code",
   "execution_count": 36,
   "id": "11349a81-2f31-4109-a14a-6d9299f6d5ae",
   "metadata": {},
   "outputs": [
    {
     "name": "stdout",
     "output_type": "stream",
     "text": [
      "Integer\n",
      "Bool\n",
      "Signed\n",
      "BigInt\n",
      "Int128\n",
      "Int16\n",
      "Int32\n",
      "Int64\n",
      "Int8\n",
      "Unsigned\n",
      "UInt128\n",
      "UInt16\n",
      "UInt32\n",
      "UInt64\n",
      "UInt8\n"
     ]
    }
   ],
   "source": [
    "sub_types(Integer)"
   ]
  },
  {
   "cell_type": "markdown",
   "id": "d1323ecd-0e2a-448f-b007-d5358b4ba04b",
   "metadata": {},
   "source": [
    "### Union types in function definitions\n",
    "Say we want to define a single function (not redefine it with another type), which accepts two different types, we would specify to the function that we're acception a Union of the two types, meaning the argument could be either/or - Union{Int64, Int32} would allow either 64 or 32 bit integers. Or Singed and Unsigned integers but not booleans. So where would we insert this information?\n"
   ]
  },
  {
   "cell_type": "markdown",
   "id": "4a38736e-0755-47a2-89f9-a4127c3b05d4",
   "metadata": {},
   "source": [
    "`function fun(x::Union{Signed, Unsigned})` is what we may do"
   ]
  },
  {
   "cell_type": "markdown",
   "id": "ee34be4b-25c8-4c1f-9bfc-a5a7dcb708cd",
   "metadata": {},
   "source": [
    "Now, if we're specifying the types that our function can take, we need to be quite careful in assigning the correct level of abstraction or generality. For instance, 1:3 is the same as [1,2,3] and for most cases, the same as [1.0,2.0,3.0] - BUT these will likely have different type tree structures, and so choosing a type which is not shared by these three different representations will lead to error. Let's example it!"
   ]
  },
  {
   "cell_type": "code",
   "execution_count": 42,
   "id": "6f8f6564-f5d9-4488-9ae5-9bf491ecb628",
   "metadata": {},
   "outputs": [
    {
     "data": {
      "text/plain": [
       "(UnitRange{Int64}, AbstractUnitRange{Int64}, OrdinalRange{Int64, Int64}, AbstractRange{Int64}, AbstractVector{Int64}, Any)"
      ]
     },
     "execution_count": 42,
     "metadata": {},
     "output_type": "execute_result"
    }
   ],
   "source": [
    "supertypes(typeof(1:3))"
   ]
  },
  {
   "cell_type": "code",
   "execution_count": 44,
   "id": "382ea2a5-9df1-414f-b558-0765ad055d4d",
   "metadata": {},
   "outputs": [
    {
     "data": {
      "text/plain": [
       "(Vector{Int64}, DenseVector{Int64}, AbstractVector{Int64}, Any)"
      ]
     },
     "execution_count": 44,
     "metadata": {},
     "output_type": "execute_result"
    }
   ],
   "source": [
    "supertypes(typeof([1,2,3]))"
   ]
  },
  {
   "cell_type": "code",
   "execution_count": 45,
   "id": "711df10d-8297-4b7b-b0aa-fecac8651ca6",
   "metadata": {},
   "outputs": [
    {
     "data": {
      "text/plain": [
       "(Vector{Float64}, DenseVector{Float64}, AbstractVector{Float64}, Any)"
      ]
     },
     "execution_count": 45,
     "metadata": {},
     "output_type": "execute_result"
    }
   ],
   "source": [
    "supertypes(typeof([1.0,2.0,3.0]))"
   ]
  },
  {
   "cell_type": "markdown",
   "id": "617654fb-e78d-4dbb-996a-39726e172c0d",
   "metadata": {},
   "source": [
    "We can see that indeed, they are represented differently. However, they do share a common node/branch in the tree, and so this would be the Type we would assign to our function in order to allow the input of all three. "
   ]
  },
  {
   "cell_type": "markdown",
   "id": "175bca41-495b-46d9-8083-78aa5df46f7c",
   "metadata": {},
   "source": [
    "```julia\n",
    "function stepper(step::AbstractVector) \n",
    "end\n",
    "```"
   ]
  },
  {
   "cell_type": "markdown",
   "id": "f5e8e395-1323-4efd-95bf-a738820df8d9",
   "metadata": {},
   "source": [
    "Julia has a very handy base function called **typejoin(typeof(x), typeof(y))** which will decide this for us, finding the intersection between the different types!"
   ]
  },
  {
   "cell_type": "code",
   "execution_count": 47,
   "id": "d2695530-f3e0-4321-a396-411eb0a535cc",
   "metadata": {},
   "outputs": [
    {
     "data": {
      "text/plain": [
       "AbstractVector{Int64}\u001b[90m (alias for \u001b[39m\u001b[90mAbstractArray{Int64, 1}\u001b[39m\u001b[90m)\u001b[39m"
      ]
     },
     "execution_count": 47,
     "metadata": {},
     "output_type": "execute_result"
    }
   ],
   "source": [
    "typejoin(typeof(1:3), typeof([1,2,3]))"
   ]
  },
  {
   "cell_type": "code",
   "execution_count": null,
   "id": "bdcbb0be-08f3-4468-8ccf-af19928ad00d",
   "metadata": {},
   "outputs": [],
   "source": []
  },
  {
   "cell_type": "code",
   "execution_count": null,
   "id": "13d59876-2174-4f82-8aa1-fbb0caeff4fb",
   "metadata": {},
   "outputs": [],
   "source": []
  },
  {
   "cell_type": "code",
   "execution_count": null,
   "id": "0ae72cfb-e566-4be3-93d4-1d1418d86e9d",
   "metadata": {},
   "outputs": [],
   "source": []
  },
  {
   "cell_type": "code",
   "execution_count": null,
   "id": "ed5f38ad-05ad-4900-9651-17be0b755a6f",
   "metadata": {},
   "outputs": [],
   "source": []
  },
  {
   "cell_type": "code",
   "execution_count": null,
   "id": "1d7fe5ef-cd35-417b-b46c-08994c48e018",
   "metadata": {},
   "outputs": [],
   "source": []
  },
  {
   "cell_type": "code",
   "execution_count": null,
   "id": "507bb4d9-5303-49f1-b3e2-07ed8bd86596",
   "metadata": {},
   "outputs": [],
   "source": []
  },
  {
   "cell_type": "code",
   "execution_count": null,
   "id": "71563636-5731-4cc9-8ced-9ed4c6958021",
   "metadata": {},
   "outputs": [],
   "source": []
  },
  {
   "cell_type": "code",
   "execution_count": null,
   "id": "f7534eab-790c-4640-a494-7b6cbc72256c",
   "metadata": {},
   "outputs": [],
   "source": []
  },
  {
   "cell_type": "code",
   "execution_count": null,
   "id": "5fe93a5e-df52-443d-b261-7bbf906d48e0",
   "metadata": {},
   "outputs": [],
   "source": []
  },
  {
   "cell_type": "code",
   "execution_count": null,
   "id": "2339b22e-c19d-4e68-8d50-b5c44fd0e655",
   "metadata": {},
   "outputs": [],
   "source": []
  }
 ],
 "metadata": {
  "kernelspec": {
   "display_name": "Julia 1.10.2",
   "language": "julia",
   "name": "julia-1.10"
  },
  "language_info": {
   "file_extension": ".jl",
   "mimetype": "application/julia",
   "name": "julia",
   "version": "1.10.2"
  }
 },
 "nbformat": 4,
 "nbformat_minor": 5
}
