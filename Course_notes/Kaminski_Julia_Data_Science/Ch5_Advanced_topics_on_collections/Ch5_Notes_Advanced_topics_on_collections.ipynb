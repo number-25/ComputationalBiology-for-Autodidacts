{
 "cells": [
  {
   "cell_type": "markdown",
   "id": "fc29dfdd-ba2d-41d0-a17d-d45abf0ce157",
   "metadata": {},
   "source": [
    "# Chapter 5 - Advanced topics on handling collections \n",
    "## This chapter covers\n",
    "* Vectorizing your code, aka broadcasting\n",
    "* Understanding subtyping rules for parametric types\n",
    "* Integrating Julia with Python\n",
    "* Performing t-SNE dimensionality reduction"
   ]
  },
  {
   "cell_type": "markdown",
   "id": "390651df-bccd-45f7-b37c-74e7f5ca4136",
   "metadata": {},
   "source": [
    "## Broadcasting!\n",
    "Broadcasting is another way to 'broadcast' a function to a set of elements, to iterate over a collection, the way a map() function, or comprehension loop would. "
   ]
  },
  {
   "cell_type": "markdown",
   "id": "98d4159f-28a4-4d99-8929-bc81401406e4",
   "metadata": {},
   "source": [
    "A very basic example - multiple every element of x with every element of y, index wise, meaning element of index 1 in x is multiplied with element of index 1 in y. "
   ]
  },
  {
   "cell_type": "code",
   "execution_count": 1,
   "id": "bc1c5f59-35a4-4d31-b7ef-5a19ffb83c08",
   "metadata": {},
   "outputs": [
    {
     "data": {
      "text/plain": [
       "3-element Vector{Int64}:\n",
       " 2\n",
       " 3\n",
       " 4"
      ]
     },
     "execution_count": 1,
     "metadata": {},
     "output_type": "execute_result"
    }
   ],
   "source": [
    "x = [2, 3, 4] ; y = [2, 3, 4]"
   ]
  },
  {
   "cell_type": "markdown",
   "id": "9aafa169-bf41-4623-904b-402e96ad6070",
   "metadata": {},
   "source": [
    "The \".\" dot operator is the magic symbol of broadcasting"
   ]
  },
  {
   "cell_type": "code",
   "execution_count": 2,
   "id": "6927c6b1-844f-45f9-9135-8f698d706732",
   "metadata": {},
   "outputs": [
    {
     "data": {
      "text/plain": [
       "3-element Vector{Int64}:\n",
       "  4\n",
       "  9\n",
       " 16"
      ]
     },
     "execution_count": 2,
     "metadata": {},
     "output_type": "execute_result"
    }
   ],
   "source": [
    "x .* y "
   ]
  },
  {
   "cell_type": "markdown",
   "id": "244a1872-36a8-45de-9827-bb4835931498",
   "metadata": {},
   "source": [
    "The same thing can be achieved with **map()** and **comprehension** "
   ]
  },
  {
   "cell_type": "code",
   "execution_count": 3,
   "id": "d11f66b0-2dff-4be1-98b1-82bce979d010",
   "metadata": {},
   "outputs": [
    {
     "data": {
      "text/plain": [
       "3-element Vector{Int64}:\n",
       "  4\n",
       "  9\n",
       " 16"
      ]
     },
     "execution_count": 3,
     "metadata": {},
     "output_type": "execute_result"
    }
   ],
   "source": [
    "map(*, x, y)"
   ]
  },
  {
   "cell_type": "markdown",
   "id": "5373da24-97c7-49df-a746-18bfc4020e3d",
   "metadata": {},
   "source": [
    "Comprehension is much uglier in my opinion"
   ]
  },
  {
   "cell_type": "code",
   "execution_count": 5,
   "id": "c31a0bda-8c60-4f95-bdb7-5def5b6b595a",
   "metadata": {},
   "outputs": [
    {
     "data": {
      "text/plain": [
       "3-element Vector{Int64}:\n",
       "  4\n",
       "  9\n",
       " 16"
      ]
     },
     "execution_count": 5,
     "metadata": {},
     "output_type": "execute_result"
    }
   ],
   "source": [
    "[x[i] * y[i] for i in eachindex(x,y)] # peep the eachindex() function which listed the index size "
   ]
  },
  {
   "cell_type": "markdown",
   "id": "d4cd8453-8bba-4184-897b-7e17daba7d35",
   "metadata": {},
   "source": [
    "**If the sizes of a and b do not match, we get an error**"
   ]
  },
  {
   "cell_type": "markdown",
   "id": "c8161e18-cef1-4207-928d-2b8735a1f90a",
   "metadata": {},
   "source": [
    "### Breaking the index equivalence rule whereby both collections must be of equal size to perform broadcasting \n",
    "There is one exception to the rule that dimensions of all collections taking part in broadcasting must match. This exception states that single-element dimensions get expanded to match the size of the other collection by repeating the value stored in this single element: If the second collection **ONLY** has a single element, than iteration is possible on this. "
   ]
  },
  {
   "cell_type": "code",
   "execution_count": 6,
   "id": "87c297f8-b636-4733-9a19-13131ddab6c4",
   "metadata": {},
   "outputs": [
    {
     "data": {
      "text/plain": [
       "3-element Vector{Int64}:\n",
       " 4\n",
       " 6\n",
       " 8"
      ]
     },
     "execution_count": 6,
     "metadata": {},
     "output_type": "execute_result"
    }
   ],
   "source": [
    "x .* [2]"
   ]
  },
  {
   "cell_type": "markdown",
   "id": "338f0a89-f9e5-4f3f-ae79-0eb42feba721",
   "metadata": {},
   "source": [
    "### Another example using matrices "
   ]
  },
  {
   "cell_type": "code",
   "execution_count": 7,
   "id": "ae4971d0-5455-45a5-b61d-4fbae72ac17f",
   "metadata": {},
   "outputs": [
    {
     "data": {
      "text/plain": [
       "10×10 Matrix{Int64}:\n",
       "  1   2   3   4   5   6   7   8   9   10\n",
       "  2   4   6   8  10  12  14  16  18   20\n",
       "  3   6   9  12  15  18  21  24  27   30\n",
       "  4   8  12  16  20  24  28  32  36   40\n",
       "  5  10  15  20  25  30  35  40  45   50\n",
       "  6  12  18  24  30  36  42  48  54   60\n",
       "  7  14  21  28  35  42  49  56  63   70\n",
       "  8  16  24  32  40  48  56  64  72   80\n",
       "  9  18  27  36  45  54  63  72  81   90\n",
       " 10  20  30  40  50  60  70  80  90  100"
      ]
     },
     "execution_count": 7,
     "metadata": {},
     "output_type": "execute_result"
    }
   ],
   "source": [
    "[1, 2, 3, 4, 5, 6, 7, 8, 9, 10] .* [1 2 3 4 5 6 7 8 9 10]"
   ]
  },
  {
   "cell_type": "markdown",
   "id": "2a99c10f-7584-444b-930a-2dfbf19fb21d",
   "metadata": {},
   "source": [
    "\"This technique is often used in practice to get a Cartesian product of all inputs. For instance, in part 2, you will learn that when you write \"x\" => sum in DataFrames.jl, you ask the package to apply the sum function to the column x of the data frame. A common scenario is that we want to apply several functions to several columns of a data frame. Using broadcasting, this can be written concisely as follows:\""
   ]
  },
  {
   "cell_type": "code",
   "execution_count": 8,
   "id": "8e7454a6-34aa-4510-b6a9-95f4787d526b",
   "metadata": {},
   "outputs": [
    {
     "data": {
      "text/plain": [
       "2×3 Matrix{Pair{String}}:\n",
       " \"x\"=>sum  \"x\"=>minimum  \"x\"=>maximum\n",
       " \"y\"=>sum  \"y\"=>minimum  \"y\"=>maximum"
      ]
     },
     "execution_count": 8,
     "metadata": {},
     "output_type": "execute_result"
    }
   ],
   "source": [
    "[\"x\", \"y\"] .=> [sum minimum maximum]"
   ]
  },
  {
   "cell_type": "markdown",
   "id": "5c08d68a-e608-4132-97bf-6c425c0b4cbf",
   "metadata": {},
   "source": [
    "recall that vectors in Julia are columnar; in this case, the vector has one column and two rows), and the [sum minimum maximum] expression creates a matrix with one row and three columns. More from this blog post https://julialang.org/blog/2013/09/fast-numeric/ \n",
    "\n",
    "**\"Julia arrays are stored in column-major order, which means that the rows of a column are contiguous, but the columns of a row are generally not. It is therefore generally more efficient to access data column-by-column than row-by-row.\"**"
   ]
  },
  {
   "cell_type": "markdown",
   "id": "711509be-7946-4915-8908-412c87ffe19f",
   "metadata": {},
   "source": [
    "### Some nice example of using broadcasting with functions \n",
    "If we want to prefix 22 values with a certain element, say \"chr\", we can do "
   ]
  },
  {
   "cell_type": "code",
   "execution_count": 9,
   "id": "d76e3d22-93b1-4972-97ac-f83c9830c506",
   "metadata": {},
   "outputs": [
    {
     "data": {
      "text/plain": [
       "22-element Vector{String}:\n",
       " \"chr1\"\n",
       " \"chr2\"\n",
       " \"chr3\"\n",
       " \"chr4\"\n",
       " \"chr5\"\n",
       " \"chr6\"\n",
       " \"chr7\"\n",
       " \"chr8\"\n",
       " \"chr9\"\n",
       " \"chr10\"\n",
       " \"chr11\"\n",
       " \"chr12\"\n",
       " \"chr13\"\n",
       " \"chr14\"\n",
       " \"chr15\"\n",
       " \"chr16\"\n",
       " \"chr17\"\n",
       " \"chr18\"\n",
       " \"chr19\"\n",
       " \"chr20\"\n",
       " \"chr21\"\n",
       " \"chr22\""
      ]
     },
     "execution_count": 9,
     "metadata": {},
     "output_type": "execute_result"
    }
   ],
   "source": [
    "string.(\"chr\", 1:22) "
   ]
  },
  {
   "cell_type": "code",
   "execution_count": 10,
   "id": "21e7c88a-839e-4be5-b3f5-0588edf598d2",
   "metadata": {},
   "outputs": [
    {
     "data": {
      "text/plain": [
       "f (generic function with 2 methods)"
      ]
     },
     "execution_count": 10,
     "metadata": {},
     "output_type": "execute_result"
    }
   ],
   "source": [
    "f(i::Int) = string(\"got integer \", i) ; f(s::String) = string(\"got string \", s) "
   ]
  },
  {
   "cell_type": "code",
   "execution_count": 11,
   "id": "3c608553-2be8-40ae-8cd3-498c3a14714f",
   "metadata": {},
   "outputs": [
    {
     "data": {
      "text/plain": [
       "2-element Vector{String}:\n",
       " \"got integer 1\"\n",
       " \"got string 1\""
      ]
     },
     "execution_count": 11,
     "metadata": {},
     "output_type": "execute_result"
    }
   ],
   "source": [
    "f.([1, \"1\"]) "
   ]
  },
  {
   "cell_type": "markdown",
   "id": "fdd5f2b7-e8b7-4e1a-9fd0-03708e954459",
   "metadata": {},
   "source": [
    "## Protecting collections from being broadcasted over\n",
    "Let's say we have a vector of values, any we want to know whether any of the values are in another collection, what ought we do? We could try use the **in()** function? "
   ]
  },
  {
   "cell_type": "code",
   "execution_count": 12,
   "id": "e4875ce8-a7fa-4aa3-a6c4-20aae9d22e24",
   "metadata": {},
   "outputs": [
    {
     "data": {
      "text/plain": [
       "false"
      ]
     },
     "execution_count": 12,
     "metadata": {},
     "output_type": "execute_result"
    }
   ],
   "source": [
    "in([1, 3, 5, 7, 9], [1, 2, 3, 4]) "
   ]
  },
  {
   "cell_type": "markdown",
   "id": "7f4bd51c-f95e-4203-bfcf-f361970d39f3",
   "metadata": {},
   "source": [
    "But that doesn't work even though 1 and 3 are matches, so what's the reason? The first array is treated as a whole, and so ALL the elements must be matching between the arrays. What if we wrap the second array in two brackets? "
   ]
  },
  {
   "cell_type": "code",
   "execution_count": 13,
   "id": "5f3e1ea7-2e1c-48a6-b8bf-3e633d2d310b",
   "metadata": {},
   "outputs": [
    {
     "data": {
      "text/plain": [
       "false"
      ]
     },
     "execution_count": 13,
     "metadata": {},
     "output_type": "execute_result"
    }
   ],
   "source": [
    "in([1, 3, 5, 7, 9], [[1, 2, 3, 4]])"
   ]
  },
  {
   "cell_type": "markdown",
   "id": "662413af-3ffa-46e2-b11d-6a7b9bdd316d",
   "metadata": {},
   "source": [
    "Nope, still treated as a whole. Let's try using the function where we know all elements are matching. in([1, 3, 5, 7, 9], [1, 2, 3, 4, [1, 3, 5, 7, 9]])"
   ]
  },
  {
   "cell_type": "code",
   "execution_count": 14,
   "id": "5152cbed-b88f-4610-904b-4bd3c1694f82",
   "metadata": {},
   "outputs": [
    {
     "data": {
      "text/plain": [
       "true"
      ]
     },
     "execution_count": 14,
     "metadata": {},
     "output_type": "execute_result"
    }
   ],
   "source": [
    "in([1, 3, 5, 7, 9], [1, 2, 3, 4, [1, 3, 5, 7, 9]]) "
   ]
  },
  {
   "cell_type": "markdown",
   "id": "3d491a79-1e98-4dbe-a5e7-abe50f36c769",
   "metadata": {},
   "source": [
    "This still didn't solve our original problem, whereby we want to know if and which ANY of the elements in the first set are in the second. What if we use broadcasting? "
   ]
  },
  {
   "cell_type": "code",
   "execution_count": 15,
   "id": "a899bff5-734c-49b0-a76c-cee03570449e",
   "metadata": {
    "scrolled": true
   },
   "outputs": [
    {
     "ename": "LoadError",
     "evalue": "DimensionMismatch: arrays could not be broadcast to a common size; got a dimension with lengths 5 and 4",
     "output_type": "error",
     "traceback": [
      "DimensionMismatch: arrays could not be broadcast to a common size; got a dimension with lengths 5 and 4",
      "",
      "Stacktrace:",
      " [1] _bcs1",
      "   @ ./broadcast.jl:555 [inlined]",
      " [2] _bcs",
      "   @ ./broadcast.jl:549 [inlined]",
      " [3] broadcast_shape",
      "   @ ./broadcast.jl:543 [inlined]",
      " [4] combine_axes",
      "   @ ./broadcast.jl:524 [inlined]",
      " [5] instantiate",
      "   @ ./broadcast.jl:306 [inlined]",
      " [6] materialize(bc::Base.Broadcast.Broadcasted{Base.Broadcast.DefaultArrayStyle{1}, Nothing, typeof(in), Tuple{Vector{Int64}, Vector{Int64}}})",
      "   @ Base.Broadcast ./broadcast.jl:903",
      " [7] top-level scope",
      "   @ In[15]:1"
     ]
    }
   ],
   "source": [
    "in.([1, 3, 5, 7, 9], [1, 2, 3, 4])"
   ]
  },
  {
   "cell_type": "markdown",
   "id": "7de11ac3-9b3e-49fe-be18-8133a6be39cf",
   "metadata": {},
   "source": [
    "Nope. Hmmmm. "
   ]
  },
  {
   "cell_type": "markdown",
   "id": "ab475068-4990-43fd-a59d-65752ad7a62f",
   "metadata": {},
   "source": [
    "Well we know that using the set operations should work, let's perform an intersection. "
   ]
  },
  {
   "cell_type": "code",
   "execution_count": 16,
   "id": "1fb257f2-352f-492e-ae89-fdf71a75e765",
   "metadata": {},
   "outputs": [
    {
     "data": {
      "text/plain": [
       "2-element Vector{Int64}:\n",
       " 1\n",
       " 3"
      ]
     },
     "execution_count": 16,
     "metadata": {},
     "output_type": "execute_result"
    }
   ],
   "source": [
    "intersect([1, 3, 5, 7, 9], [1, 2, 3, 4]) "
   ]
  },
  {
   "cell_type": "markdown",
   "id": "5047567a-4a26-4c23-8072-f93b49abd983",
   "metadata": {},
   "source": [
    "As expected, but, there is another way to still use the **in()** function.    "
   ]
  },
  {
   "cell_type": "markdown",
   "id": "c75a82de-5960-4ff4-9947-702bd5282da4",
   "metadata": {},
   "source": [
    "\"How should we resolve this issue? The solution is to wrap the vector that we want to be reused as a whole with Ref. In this way, we will protect this object from being iterated over. Instead, it will be unwrapped from Ref and treated by broadcasting as if it were a scalar, and thus this value will be repeated to match the dimension of the other container:\" "
   ]
  },
  {
   "cell_type": "code",
   "execution_count": 17,
   "id": "0f744f54-45db-4482-a89c-d9a91e0c2bf0",
   "metadata": {},
   "outputs": [
    {
     "data": {
      "text/plain": [
       "5-element BitVector:\n",
       " 1\n",
       " 1\n",
       " 0\n",
       " 0\n",
       " 0"
      ]
     },
     "execution_count": 17,
     "metadata": {},
     "output_type": "execute_result"
    }
   ],
   "source": [
    "in.([1, 3, 5, 7, 9], Ref([1, 2, 3, 4]))"
   ]
  },
  {
   "cell_type": "markdown",
   "id": "b8e4501a-8ec2-4611-8f3c-bca4d1378755",
   "metadata": {},
   "source": [
    "Now it works, I suppose.. "
   ]
  },
  {
   "cell_type": "markdown",
   "id": "545e51e5-1e7e-4bd3-a69c-369a08e22789",
   "metadata": {},
   "source": [
    "### wtf is Ref?"
   ]
  },
  {
   "cell_type": "markdown",
   "id": "f7138db8-5e78-46db-9dfd-f0cb86e4f6a7",
   "metadata": {},
   "source": [
    "Ref can be seen as shorthand for \"Reference\" - it takes the values of a collection, and creats a single value reference of the value, which it stores in an array, almost like a little iterator of it's own. So when we run broadcasting in combination with **Ref()**, Ref will operator on each element of the array, and thus the size of the first and second arrays will be equal (1 each), allowing for the broadcasting to work as intended.... a bit random but hey this is effective. "
   ]
  },
  {
   "cell_type": "markdown",
   "id": "f5625dc9-6f00-4fc4-9f6a-7cf4a21a2040",
   "metadata": {},
   "source": [
    "## Exercise 5.1 \n",
    "The parse function can be used to convert a string into a number. For instance, if you want to parse a string as an integer, write parse(Int, \"10\") to get the integer 10. Assume you are given a vector of strings [\"1\", \"2\", \"3\"]. Your task is to create a vector of integers by parsing the strings contained in the given vector."
   ]
  },
  {
   "cell_type": "code",
   "execution_count": 23,
   "id": "a01a8795-76ca-4ac8-b83c-a05ab7740811",
   "metadata": {},
   "outputs": [
    {
     "data": {
      "text/plain": [
       "3-element Vector{String}:\n",
       " \"1\"\n",
       " \"2\"\n",
       " \"3\""
      ]
     },
     "execution_count": 23,
     "metadata": {},
     "output_type": "execute_result"
    }
   ],
   "source": [
    "string_vec = [\"1\", \"2\", \"3\"] "
   ]
  },
  {
   "cell_type": "code",
   "execution_count": 24,
   "id": "daefba44-72a4-4997-9a0f-cd7f8c41b49e",
   "metadata": {},
   "outputs": [
    {
     "data": {
      "text/plain": [
       "3-element Vector{Int64}:\n",
       " 1\n",
       " 2\n",
       " 3"
      ]
     },
     "execution_count": 24,
     "metadata": {},
     "output_type": "execute_result"
    }
   ],
   "source": [
    "int_vec = parse.(Int, string_vec)"
   ]
  },
  {
   "cell_type": "markdown",
   "id": "2232ff27-cd6a-44b6-a109-ee2b62bea6f0",
   "metadata": {},
   "source": [
    "## Analyzing Anscombe's quartet data using broadcasting"
   ]
  },
  {
   "cell_type": "markdown",
   "id": "413fc79f-4a85-4487-94e5-256f78e4f52f",
   "metadata": {},
   "source": [
    "aq = [10.0   8.04  10.0  9.14  10.0   7.46   8.0   6.58\n",
    "             8.0   6.95   8.0  8.14   8.0   6.77   8.0   5.76\n",
    "            13.0   7.58  13.0  8.74  13.0  12.74   8.0   7.71\n",
    "             9.0   8.81   9.0  8.77   9.0   7.11   8.0   8.84\n",
    "            11.0   8.33  11.0  9.26  11.0   7.81   8.0   8.47\n",
    "            14.0   9.96  14.0  8.1   14.0   8.84   8.0   7.04\n",
    "             6.0   7.24   6.0  6.13   6.0   6.08   8.0   5.25\n",
    "             4.0   4.26   4.0  3.1    4.0   5.39  19.0  12.50\n",
    "            12.0  10.84  12.0  9.13  12.0   8.15   8.0   5.56\n",
    "             7.0   4.82   7.0  7.26   7.0   6.42   8.0   7.91\n",
    "             5.0   5.68   5.0  4.74   5.0   5.73   8.0   6.89]"
   ]
  },
  {
   "cell_type": "code",
   "execution_count": 8,
   "id": "e5675b6f-4e37-4780-92be-b64b5c9887f8",
   "metadata": {},
   "outputs": [],
   "source": [
    "using Pkg"
   ]
  },
  {
   "cell_type": "code",
   "execution_count": 9,
   "id": "8dc38cc7-d26e-4bd3-aeed-9cc580468c4e",
   "metadata": {},
   "outputs": [
    {
     "name": "stderr",
     "output_type": "stream",
     "text": [
      "\u001b[32m\u001b[1m   Resolving\u001b[22m\u001b[39m package versions...\n",
      "\u001b[32m\u001b[1m  No Changes\u001b[22m\u001b[39m to `~/.julia/environments/v1.10/Project.toml`\n",
      "\u001b[32m\u001b[1m  No Changes\u001b[22m\u001b[39m to `~/.julia/environments/v1.10/Manifest.toml`\n"
     ]
    }
   ],
   "source": [
    "Pkg.add(\"Statistics\") ; using Statistics"
   ]
  },
  {
   "cell_type": "markdown",
   "id": "a24a3408-8871-4959-8ad0-06bf46b2b9fd",
   "metadata": {},
   "source": [
    "Calculate the mean of each column in the matrix, using broadcasting of the mean function combined with the eachcol() function"
   ]
  },
  {
   "cell_type": "code",
   "execution_count": 10,
   "id": "49d88053-52fd-4d51-82d9-7996bb26feee",
   "metadata": {},
   "outputs": [
    {
     "data": {
      "text/plain": [
       "8-element Vector{Float64}:\n",
       " 9.0\n",
       " 7.500909090909093\n",
       " 9.0\n",
       " 7.500909090909091\n",
       " 9.0\n",
       " 7.500000000000001\n",
       " 9.0\n",
       " 7.50090909090909"
      ]
     },
     "execution_count": 10,
     "metadata": {},
     "output_type": "execute_result"
    }
   ],
   "source": [
    "mean.(eachcol(aq)) "
   ]
  },
  {
   "cell_type": "markdown",
   "id": "e76d0b99-ec6e-43f0-be09-b21cfa4ed563",
   "metadata": {},
   "source": [
    "If we don't use broadcasting, we get a row based estimate "
   ]
  },
  {
   "cell_type": "code",
   "execution_count": 11,
   "id": "ee39016f-3d6a-40e0-81aa-6cd362ed9a79",
   "metadata": {},
   "outputs": [
    {
     "data": {
      "text/plain": [
       "11-element Vector{Float64}:\n",
       "  8.6525\n",
       "  7.4525\n",
       " 10.47125\n",
       "  8.56625\n",
       "  9.35875\n",
       " 10.492500000000001\n",
       "  6.3375\n",
       "  7.03125\n",
       "  9.71\n",
       "  6.92625\n",
       "  5.755000000000001"
      ]
     },
     "execution_count": 11,
     "metadata": {},
     "output_type": "execute_result"
    }
   ],
   "source": [
    "mean(eachcol(aq))"
   ]
  },
  {
   "cell_type": "markdown",
   "id": "5c2e8528-a0f9-4dd6-b624-a87ea44b4faf",
   "metadata": {},
   "source": [
    "We'll just show a brief comparison between the correlation function from chapter 4, and an updated correlation function which no incorporates broadcasting. "
   ]
  },
  {
   "cell_type": "code",
   "execution_count": 12,
   "id": "bc8292a3-f2ba-498a-91c5-2fdc031d6b5b",
   "metadata": {},
   "outputs": [
    {
     "data": {
      "text/plain": [
       "R² (generic function with 1 method)"
      ]
     },
     "execution_count": 12,
     "metadata": {},
     "output_type": "execute_result"
    }
   ],
   "source": [
    "function R²(x, y)\n",
    "   X = [ones(11) x]\n",
    "   model = X \\ y\n",
    "   prediction = X * model\n",
    "   error = y - prediction\n",
    "   SS_res = sum(v -> v ^ 2, error)\n",
    "   mean_y = mean(y)\n",
    "   SS_tot = sum(v -> (v - mean_y) ^ 2, y)\n",
    "   return 1 - SS_res / SS_tot\n",
    "end"
   ]
  },
  {
   "cell_type": "markdown",
   "id": "79a1a590-f4fe-4f3d-b80b-48034d911036",
   "metadata": {},
   "source": [
    "Pay attention to the slight differences and the streamlining it allows "
   ]
  },
  {
   "cell_type": "code",
   "execution_count": 13,
   "id": "cf7eec7c-0a81-4399-b136-14fc7d482945",
   "metadata": {},
   "outputs": [
    {
     "data": {
      "text/plain": [
       "R² (generic function with 1 method)"
      ]
     },
     "execution_count": 13,
     "metadata": {},
     "output_type": "execute_result"
    }
   ],
   "source": [
    "function R²(x, y)\n",
    "   X = [ones(11) x]\n",
    "   model = X \\ y\n",
    "   prediction = X * model\n",
    "   SS_res = sum((y .- prediction) .^ 2)\n",
    "   SS_tot = sum((y .- mean(y)) .^ 2)\n",
    "   return 1 - SS_res / SS_tot\n",
    "end"
   ]
  },
  {
   "cell_type": "markdown",
   "id": "498f9456-e959-4a38-864b-2110b1436338",
   "metadata": {},
   "source": [
    "**\"By now you know four ways of iteratively applying operations to elements of collections:**\n",
    "\n",
    "   * Using for loops\n",
    "   * Using comprehensions\n",
    "   * Using the map function (and other similar higher-order functions that take functions as their arguments)\n",
    "   * Using broadcasting\n",
    "\n",
    "**You’re probably asking yourself in which cases you should use which option. Fortunately, this is mostly a matter of convenience and code readability. In your projects, use the option that is easiest for you to use and that results in the most readable code. One of the great features of Julia is that all these options are fast. Most of the time, you won’t sacrifice performance by choosing one over the other.\"**"
   ]
  },
  {
   "cell_type": "markdown",
   "id": "30280931-6108-41b0-a376-8c1b94e1f8a4",
   "metadata": {},
   "source": [
    "Another brief reminder of comprehension - much more can be done ofcourse "
   ]
  },
  {
   "cell_type": "code",
   "execution_count": 17,
   "id": "bdee6bfe-9a23-46a5-a6ce-74a330ed2d42",
   "metadata": {},
   "outputs": [
    {
     "data": {
      "text/plain": [
       "1-element Vector{Int64}:\n",
       " 6"
      ]
     },
     "execution_count": 17,
     "metadata": {},
     "output_type": "execute_result"
    }
   ],
   "source": [
    "[sum(x) for x in [[1,2,3]]] "
   ]
  },
  {
   "cell_type": "markdown",
   "id": "46181e14-44a5-492a-9860-e59fe41dc28d",
   "metadata": {},
   "source": [
    "## Defining collections with parametric types"
   ]
  },
  {
   "cell_type": "markdown",
   "id": "351459f7-f089-4fcc-8039-fc9fdd01da86",
   "metadata": {},
   "source": [
    "When we're at the stage where we are ready to start defining completely new, custom methods for our work, and understanding of the Types which our methods accept is a foundational key. Does it work on Intergers? All Intergers or only 8bit? Can it also work if the user accidently plugs in a Float with a single zero digit? Does it take vectors, dicts etc.? What are the parameters for our methods. "
   ]
  },
  {
   "cell_type": "markdown",
   "id": "15adf89b-0bd5-4384-9346-7e8b67838a00",
   "metadata": {},
   "source": [
    "A simple demonstration in which we create a vector holding float values - even though we provide intergers, they are automatically parsed to floats. "
   ]
  },
  {
   "cell_type": "code",
   "execution_count": 34,
   "id": "ce7172bc-8af6-45c5-9b77-93e12be4d127",
   "metadata": {},
   "outputs": [
    {
     "data": {
      "text/plain": [
       "3-element Vector{Float64}:\n",
       " 1.0\n",
       " 2.0\n",
       " 3.0"
      ]
     },
     "execution_count": 34,
     "metadata": {},
     "output_type": "execute_result"
    }
   ],
   "source": [
    "float_vec = Float64[1,2,3]"
   ]
  },
  {
   "cell_type": "markdown",
   "id": "66dc8913-c747-43e8-8c9a-f44bea4fa528",
   "metadata": {},
   "source": [
    "If we want a dict in which the keys are UInt8 (8bit unicode interger) and the values are Float64, we can define this immedietly after the **Dict** term"
   ]
  },
  {
   "cell_type": "code",
   "execution_count": 33,
   "id": "6d37fc9f-69ea-48cb-a9c9-783476b4dd4d",
   "metadata": {},
   "outputs": [
    {
     "data": {
      "text/plain": [
       "Dict{UInt8, Float64} with 2 entries:\n",
       "  0x00 => 0.0\n",
       "  0x01 => 1.0"
      ]
     },
     "execution_count": 33,
     "metadata": {},
     "output_type": "execute_result"
    }
   ],
   "source": [
    "Dict{UInt8, Float64}(0 => 0, 1 => 1) "
   ]
  },
  {
   "cell_type": "markdown",
   "id": "ae2ba046-2d6a-4034-8a55-be9ed55e60b9",
   "metadata": {},
   "source": [
    "### The eltype function \n",
    "The function **eltype** will tell us the type of elements/values that a **collection** can store - perhaps it's an array only storing floats, or a Tuple storing everything and so on and so on.... "
   ]
  },
  {
   "cell_type": "code",
   "execution_count": 35,
   "id": "025e534c-646d-4080-b217-4e3bd57433be",
   "metadata": {},
   "outputs": [
    {
     "data": {
      "text/plain": [
       "Float64"
      ]
     },
     "execution_count": 35,
     "metadata": {},
     "output_type": "execute_result"
    }
   ],
   "source": [
    "eltype(float_vec)"
   ]
  },
  {
   "cell_type": "markdown",
   "id": "681358d7-df61-4f59-969e-a61e344fab7b",
   "metadata": {},
   "source": [
    "This is the cousin to the **typeof()** function which works on the entire collection and gives us a bit more information "
   ]
  },
  {
   "cell_type": "code",
   "execution_count": 37,
   "id": "52d87745-05de-4438-a01e-08ae5ce0c853",
   "metadata": {},
   "outputs": [
    {
     "data": {
      "text/plain": [
       "Vector{Float64}\u001b[90m (alias for \u001b[39m\u001b[90mArray{Float64, 1}\u001b[39m\u001b[90m)\u001b[39m"
      ]
     },
     "execution_count": 37,
     "metadata": {},
     "output_type": "execute_result"
    }
   ],
   "source": [
    "typeof(float_vec)"
   ]
  },
  {
   "cell_type": "markdown",
   "id": "694c39c1-bbbd-404d-a80f-611916e58696",
   "metadata": {},
   "source": [
    "### Nuances of types and subtyping\n",
    "Typing our methods in the correct fashion is essential if we want to avoid naive errors - and by naive I mean using a Type which is almost correct, but just slightly off the mark - for instance, naively restricting our method types to Strings, without really having a reason to, when it's likely better suited to AbstractString, which allows us to input SubStrings, which look identical to Strings in the first place. Or perhaps we want type stability but we aren't restrictive enough in our definition.   \n",
    "\n",
    "Getting a firm grip on the way Julia handles typing is thus always fruitful for us.    "
   ]
  },
  {
   "cell_type": "markdown",
   "id": "591edfaf-55c3-4481-90c0-cc912354b087",
   "metadata": {},
   "source": [
    "Things can definitely get tricky, here is an example of using a collection which is an AbstractVector{Int} into a method which takes AbstractVector{Real}, simply assuming that since Int is a subtype of Real numbers, than by extension AbstractVector{Int} is also likely a subtype of AbstractVector{Real} -- but this isn't the case! "
   ]
  },
  {
   "cell_type": "code",
   "execution_count": 38,
   "id": "ae4b7765-3b59-4b6d-b96f-b6bb94c7585f",
   "metadata": {},
   "outputs": [
    {
     "data": {
      "text/plain": [
       "true"
      ]
     },
     "execution_count": 38,
     "metadata": {},
     "output_type": "execute_result"
    }
   ],
   "source": [
    "isa([1,2,3], AbstractVector{Int}) "
   ]
  },
  {
   "cell_type": "code",
   "execution_count": 61,
   "id": "a91cf38d-5179-4768-9c77-28c77604d22c",
   "metadata": {},
   "outputs": [
    {
     "data": {
      "text/plain": [
       "false"
      ]
     },
     "execution_count": 61,
     "metadata": {},
     "output_type": "execute_result"
    }
   ],
   "source": [
    "isa([1,2,3], AbstractVector{Real}) "
   ]
  },
  {
   "cell_type": "markdown",
   "id": "d27fa3b7-4fc6-47b4-9ac4-4e078c765d7c",
   "metadata": {},
   "source": [
    "Let's take a look at the all the subtypes of AbstractVector{Real} "
   ]
  },
  {
   "cell_type": "code",
   "execution_count": 62,
   "id": "37082631-f346-4768-a6ef-4bea0559bb01",
   "metadata": {},
   "outputs": [
    {
     "data": {
      "text/plain": [
       "16-element Vector{Any}:\n",
       " AbstractRange{Int64}\n",
       " AbstractSlices{Int64, 1}\n",
       " Base.LogicalIndex{Int64}\n",
       " Base.ReinterpretArray{Int64, 1, S} where S\n",
       " Base.ReshapedArray{Int64, 1}\n",
       " Base.Sort.WithoutMissingVector{Int64}\n",
       " Core.Compiler.AbstractRange{Int64}\n",
       " Core.Compiler.LinearIndices{1, R} where R<:Tuple{Core.Compiler.AbstractUnitRange{Int64}}\n",
       " Core.Compiler.TwoPhaseVectorView\n",
       " DenseVector{Int64}\u001b[90m (alias for \u001b[39m\u001b[90mDenseArray{Int64, 1}\u001b[39m\u001b[90m)\u001b[39m\n",
       " LinearIndices{1, R} where R<:Tuple{AbstractUnitRange{Int64}}\n",
       " PermutedDimsArray{Int64, 1}\n",
       " AbstractSparseVector{Int64}\u001b[90m (alias for \u001b[39m\u001b[90mSparseArrays.AbstractSparseArray{Int64, Ti, 1} where Ti\u001b[39m\u001b[90m)\u001b[39m\n",
       " SparseArrays.ColumnIndices{Int64, S} where S<:(SparseArrays.AbstractSparseMatrixCSC{<:Any, Int64})\n",
       " SparseArrays.ReadOnly{Int64, 1, V} where V<:AbstractVector{Int64}\n",
       " SubArray{Int64, 1}"
      ]
     },
     "execution_count": 62,
     "metadata": {},
     "output_type": "execute_result"
    }
   ],
   "source": [
    "subtypes(AbstractVector{Int})"
   ]
  },
  {
   "cell_type": "code",
   "execution_count": 63,
   "id": "c2bddf48-0296-4d8d-9891-1d4e02b3348d",
   "metadata": {},
   "outputs": [
    {
     "data": {
      "text/plain": [
       "(AbstractVector{Real}, Any)"
      ]
     },
     "execution_count": 63,
     "metadata": {},
     "output_type": "execute_result"
    }
   ],
   "source": [
    "supertypes(AbstractVector{Real})"
   ]
  },
  {
   "cell_type": "markdown",
   "id": "1bccbdb6-fbaf-4042-aee4-b00b0297e3b3",
   "metadata": {},
   "source": [
    "When defining our collections and methods, we can specify the types of elements that it is allowed to store/contain - in the following case we want to create an AbstractVector which stores elements of the Real type"
   ]
  },
  {
   "cell_type": "code",
   "execution_count": 66,
   "id": "0c1afadd-a746-40e3-b0f6-caa974f892d3",
   "metadata": {},
   "outputs": [
    {
     "data": {
      "text/plain": [
       "AbstractVector{<:Real}\u001b[90m (alias for \u001b[39m\u001b[90mAbstractArray{<:Real, 1}\u001b[39m\u001b[90m)\u001b[39m"
      ]
     },
     "execution_count": 66,
     "metadata": {},
     "output_type": "execute_result"
    }
   ],
   "source": [
    "q = AbstractVector{<:Real}"
   ]
  },
  {
   "cell_type": "markdown",
   "id": "44b81f1a-6204-4048-92d4-4893668c9665",
   "metadata": {},
   "source": [
    "If we create an AbstractVector of the type Int, we won't be able to house anything but elements of this type inside of it "
   ]
  },
  {
   "cell_type": "markdown",
   "id": "6cbf2a51-7fa5-4bc1-abf6-a3cd81a683e3",
   "metadata": {},
   "source": [
    "**\"Vector{Int} is not a subtype of Vector{Real}. This is because both Vector{Int} and Vector{Real}, as you have seen in this section, can have instances. One is a container that can store only integers. The other is a container that can store any Real values. These are two concrete and different containers. Neither is a subtype of the other.\"** "
   ]
  },
  {
   "cell_type": "markdown",
   "id": "0acf8fde-38a5-44e2-981c-08cbe99fcc32",
   "metadata": {},
   "source": [
    "### Using subtyping rules to define functions \n",
    "Some fun!!!!"
   ]
  },
  {
   "cell_type": "code",
   "execution_count": 69,
   "id": "99795e3e-a74e-4d66-9a5d-25006cb26de2",
   "metadata": {},
   "outputs": [
    {
     "data": {
      "text/plain": [
       "ourcov (generic function with 1 method)"
      ]
     },
     "execution_count": 69,
     "metadata": {},
     "output_type": "execute_result"
    }
   ],
   "source": [
    "function ourcov(x::AbstractVector{<:Real},\n",
    "                       y::AbstractVector{<:Real})\n",
    "           len = length(x)\n",
    "           @assert len == length(y) > 0\n",
    "           return sum((x .- mean(x)) .* (y .- mean(y))) / (len - 1)\n",
    "end "
   ]
  },
  {
   "cell_type": "code",
   "execution_count": 70,
   "id": "81669cc7-f799-4a85-83a0-4f0368e2d450",
   "metadata": {},
   "outputs": [
    {
     "data": {
      "text/plain": [
       "1.3333333333333333"
      ]
     },
     "execution_count": 70,
     "metadata": {},
     "output_type": "execute_result"
    }
   ],
   "source": [
    "ourcov(1:4, [1.0, 3.0, 2.0, 4.0]) "
   ]
  },
  {
   "cell_type": "markdown",
   "id": "ba0ac99e-459b-443f-88af-6306fd6c80b8",
   "metadata": {},
   "source": [
    "We can see that so long as we provide arguments to the function which are of the correct type, we should be OK. What happens if we provide an argument of an incorrect type, which *seems* to look OK but in fact isn't? "
   ]
  },
  {
   "cell_type": "markdown",
   "id": "ffa9ed41-3600-42d4-a6da-e6d61a587d7b",
   "metadata": {},
   "source": [
    "\"Note that in the code, we mix a range of integers with a vector of floating-point values, and they get accepted and are handled correctly. However, if we pass a collection whose element type is not a subtype of Real, the function will fail, even if we do not change the specific values stored by the collection:\" "
   ]
  },
  {
   "cell_type": "code",
   "execution_count": 71,
   "id": "5d61d8da-0732-4e65-b6fc-1c114cb3071e",
   "metadata": {},
   "outputs": [
    {
     "ename": "LoadError",
     "evalue": "MethodError: no method matching ourcov(::UnitRange{Int64}, ::Vector{Any})\n\n\u001b[0mClosest candidates are:\n\u001b[0m  ourcov(::AbstractVector{<:Real}, \u001b[91m::AbstractVector{<:Real}\u001b[39m)\n\u001b[0m\u001b[90m   @\u001b[39m \u001b[32mMain\u001b[39m \u001b[90m\u001b[4mIn[69]:1\u001b[24m\u001b[39m\n",
     "output_type": "error",
     "traceback": [
      "MethodError: no method matching ourcov(::UnitRange{Int64}, ::Vector{Any})\n\n\u001b[0mClosest candidates are:\n\u001b[0m  ourcov(::AbstractVector{<:Real}, \u001b[91m::AbstractVector{<:Real}\u001b[39m)\n\u001b[0m\u001b[90m   @\u001b[39m \u001b[32mMain\u001b[39m \u001b[90m\u001b[4mIn[69]:1\u001b[24m\u001b[39m\n",
      "",
      "Stacktrace:",
      " [1] top-level scope",
      "   @ In[71]:1"
     ]
    }
   ],
   "source": [
    "ourcov(1:4, Any[1.0, 3.0, 2.0, 4.0])"
   ]
  },
  {
   "cell_type": "markdown",
   "id": "ad9b1873-6ee5-4e3e-9df4-4618f33ab0b2",
   "metadata": {},
   "source": [
    "This fails as Any is not a subtype of Real, in fact, Real is a Subtype of Any.  "
   ]
  },
  {
   "cell_type": "code",
   "execution_count": 74,
   "id": "ff0aaa31-1e02-42b6-8f62-8df69e819258",
   "metadata": {},
   "outputs": [
    {
     "data": {
      "text/plain": [
       "Real"
      ]
     },
     "execution_count": 74,
     "metadata": {},
     "output_type": "execute_result"
    }
   ],
   "source": [
    "typejoin(Int, Float64)"
   ]
  },
  {
   "cell_type": "code",
   "execution_count": 75,
   "id": "f41dab5a-22a4-4168-842f-677672fa0ac5",
   "metadata": {},
   "outputs": [
    {
     "data": {
      "text/plain": [
       "Vector{Int64}\u001b[90m (alias for \u001b[39m\u001b[90mArray{Int64, 1}\u001b[39m\u001b[90m)\u001b[39m"
      ]
     },
     "execution_count": 75,
     "metadata": {},
     "output_type": "execute_result"
    }
   ],
   "source": [
    "typeof([1,2,3])"
   ]
  },
  {
   "cell_type": "markdown",
   "id": "cc2d66e3-3b22-4090-b2b3-b1ee4147871f",
   "metadata": {},
   "source": [
    "### Determing the Type our methods should used based upon the collection at hand\n",
    "If we have a sample collection of elements which will serve as a reference for our methods/functions, we can determine the Type of the collection by broadcasting the **identity()** function over our collection"
   ]
  },
  {
   "cell_type": "code",
   "execution_count": 76,
   "id": "78b17dbe-5d60-448b-be72-180d9f8186f2",
   "metadata": {},
   "outputs": [
    {
     "data": {
      "text/plain": [
       "2-element Vector{Float64}:\n",
       " 1.0\n",
       " 1.0"
      ]
     },
     "execution_count": 76,
     "metadata": {},
     "output_type": "execute_result"
    }
   ],
   "source": [
    "identity.([1.0, 1])"
   ]
  },
  {
   "cell_type": "code",
   "execution_count": 77,
   "id": "40d9b1c6-d36d-4105-bb0d-755a1c8f9791",
   "metadata": {},
   "outputs": [
    {
     "data": {
      "text/plain": [
       "2-element Vector{Real}:\n",
       " 1.0\n",
       " 1"
      ]
     },
     "execution_count": 77,
     "metadata": {},
     "output_type": "execute_result"
    }
   ],
   "source": [
    "identity.(Any[1.0, 1])"
   ]
  },
  {
   "cell_type": "markdown",
   "id": "a4365f26-49ef-4070-99e2-f97b5122fa3c",
   "metadata": {},
   "source": [
    "## Using Python code in Julia - calling Python from Julia"
   ]
  },
  {
   "cell_type": "markdown",
   "id": "47bc7f87-41ac-48fe-9a4a-9866478cba03",
   "metadata": {},
   "source": [
    "We'll use t-SNE to reduce the dimensions of our dataset and visualise them in 2D space. \"The t-SNE performs a mapping in such a way that similar objects in the high-dimensional source space are nearby points in the low-dimensional target space, and dissimilar objects are distant points.\" "
   ]
  },
  {
   "cell_type": "code",
   "execution_count": 78,
   "id": "800e6f7b-6689-4bec-a564-6c82904ddeef",
   "metadata": {},
   "outputs": [],
   "source": [
    "using Random"
   ]
  },
  {
   "cell_type": "markdown",
   "id": "e434ced5-545b-48cc-aa67-766a65e2277c",
   "metadata": {},
   "source": [
    "We're gonna generate some random data and have a play "
   ]
  },
  {
   "cell_type": "markdown",
   "id": "c153c39e-62d7-4340-ab1e-0a09d1650f99",
   "metadata": {},
   "source": [
    "Seed the random generator"
   ]
  },
  {
   "cell_type": "code",
   "execution_count": 79,
   "id": "2fcc3322-6e2d-4bc3-b2f6-5b6a88eccb13",
   "metadata": {},
   "outputs": [],
   "source": [
    "Random.seed!(1234); "
   ]
  },
  {
   "cell_type": "code",
   "execution_count": 80,
   "id": "1bb6d85a-53c5-4b90-a621-cbfa872835fa",
   "metadata": {},
   "outputs": [
    {
     "data": {
      "text/plain": [
       "100×5 Matrix{Float64}:\n",
       " -0.0293437  -0.737544   -0.613869  -1.31815    -2.95335\n",
       " -1.97922    -1.02224    -1.74252   -2.33397    -2.00848\n",
       " -0.0981391  -1.39129    -1.87533   -1.76821    -1.23108\n",
       " -1.0328     -0.972379    0.600607  -0.0713489  -1.16386\n",
       " -1.60079    -3.29076     0.521804   1.71145    -0.113714\n",
       " -2.44518    -1.66854    -0.715754  -1.37086     0.630318\n",
       "  1.70742    -1.78469    -1.87393   -1.44342     0.521595\n",
       "  0.524448    0.128985   -1.8989    -1.20746    -0.417508\n",
       " -0.240196   -0.788823   -1.16236   -0.0609412  -0.30224\n",
       " -1.88144    -0.285358   -0.382139  -1.26819    -1.58575\n",
       " -0.294007   -0.965934   -0.890225  -2.73204    -2.00704\n",
       "  0.0915553  -0.431329   -0.896389  -1.78917    -3.25478\n",
       " -0.128502   -3.62623    -2.29636   -2.58389    -1.03068\n",
       "  ⋮                                             \n",
       "  0.349637   -1.35364    -1.89788    0.600061    0.371505\n",
       "  0.131929   -0.868554   -0.737022  -1.75019    -1.40852\n",
       " -2.3637     -1.03082    -1.12565   -2.20938    -0.321452\n",
       " -1.06856    -0.306033   -3.40849   -2.19015    -1.28519\n",
       "  1.5139     -0.771895   -1.65267   -2.90374    -1.55961\n",
       " -0.875938   -2.45727    -1.59571    0.261639   -0.579293\n",
       " -0.557989   -1.17941    -0.310314  -0.886134   -1.31935\n",
       " -0.344089   -2.66339    -3.08627   -2.44066    -1.27028\n",
       " -0.814052   -0.0632304  -1.01902   -0.322153   -1.20563\n",
       "  2.22591    -0.164603   -0.614049  -1.03229    -0.229297\n",
       " -1.55273    -1.09341    -0.823972  -3.41422    -2.21394\n",
       " -4.40253    -1.62642    -1.01099   -0.926064    0.0914986"
      ]
     },
     "execution_count": 80,
     "metadata": {},
     "output_type": "execute_result"
    }
   ],
   "source": [
    "cluster1 = randn(100, 5) .- 1 "
   ]
  },
  {
   "cell_type": "code",
   "execution_count": 81,
   "id": "71470cc8-c269-4efc-99ed-a5dc81df3de3",
   "metadata": {},
   "outputs": [
    {
     "name": "stdout",
     "output_type": "stream",
     "text": [
      "search: \u001b[0m\u001b[1mr\u001b[22m\u001b[0m\u001b[1ma\u001b[22m\u001b[0m\u001b[1mn\u001b[22m\u001b[0m\u001b[1md\u001b[22m\u001b[0m\u001b[1mn\u001b[22m \u001b[0m\u001b[1mr\u001b[22m\u001b[0m\u001b[1ma\u001b[22m\u001b[0m\u001b[1mn\u001b[22m\u001b[0m\u001b[1md\u001b[22m\u001b[0m\u001b[1mn\u001b[22m! \u001b[0m\u001b[1mr\u001b[22m\u001b[0m\u001b[1ma\u001b[22m\u001b[0m\u001b[1mn\u001b[22m\u001b[0m\u001b[1md\u001b[22mstri\u001b[0m\u001b[1mn\u001b[22mg \u001b[0m\u001b[1mr\u001b[22m\u001b[0m\u001b[1ma\u001b[22m\u001b[0m\u001b[1mn\u001b[22m\u001b[0m\u001b[1md\u001b[22m \u001b[0m\u001b[1mr\u001b[22m\u001b[0m\u001b[1ma\u001b[22m\u001b[0m\u001b[1mn\u001b[22m\u001b[0m\u001b[1md\u001b[22m! \u001b[0m\u001b[1mr\u001b[22m\u001b[0m\u001b[1ma\u001b[22m\u001b[0m\u001b[1mn\u001b[22m\u001b[0m\u001b[1md\u001b[22mexp \u001b[0m\u001b[1mR\u001b[22m\u001b[0m\u001b[1ma\u001b[22m\u001b[0m\u001b[1mn\u001b[22m\u001b[0m\u001b[1md\u001b[22mom \u001b[0m\u001b[1mr\u001b[22m\u001b[0m\u001b[1ma\u001b[22m\u001b[0m\u001b[1mn\u001b[22m\u001b[0m\u001b[1md\u001b[22mperm \u001b[0m\u001b[1mr\u001b[22m\u001b[0m\u001b[1ma\u001b[22m\u001b[0m\u001b[1mn\u001b[22m\u001b[0m\u001b[1md\u001b[22mexp!\n",
      "\n"
     ]
    },
    {
     "data": {
      "text/latex": [
       "\\begin{verbatim}\n",
       "randn([rng=default_rng()], [T=Float64], [dims...])\n",
       "\\end{verbatim}\n",
       "Generate a normally-distributed random number of type \\texttt{T} with mean 0 and standard deviation 1. Optionally generate an array of normally-distributed random numbers. The \\texttt{Base} module currently provides an implementation for the types \\href{@ref}{\\texttt{Float16}}, \\href{@ref}{\\texttt{Float32}}, and \\href{@ref}{\\texttt{Float64}} (the default), and their \\href{@ref}{\\texttt{Complex}} counterparts. When the type argument is complex, the values are drawn from the circularly symmetric complex normal distribution of variance 1 (corresponding to real and imaginary part having independent normal distribution with mean zero and variance \\texttt{1/2}).\n",
       "\n",
       "See also \\href{@ref}{\\texttt{randn!}} to act in-place.\n",
       "\n",
       "\\section{Examples}\n",
       "\\begin{verbatim}\n",
       "julia> using Random\n",
       "\n",
       "julia> rng = MersenneTwister(1234);\n",
       "\n",
       "julia> randn(rng, ComplexF64)\n",
       "0.6133070881429037 - 0.6376291670853887im\n",
       "\n",
       "julia> randn(rng, ComplexF32, (2, 3))\n",
       "2×3 Matrix{ComplexF32}:\n",
       " -0.349649-0.638457im  0.376756-0.192146im  -0.396334-0.0136413im\n",
       "  0.611224+1.56403im   0.355204-0.365563im  0.0905552+1.31012im\n",
       "\\end{verbatim}\n"
      ],
      "text/markdown": [
       "```\n",
       "randn([rng=default_rng()], [T=Float64], [dims...])\n",
       "```\n",
       "\n",
       "Generate a normally-distributed random number of type `T` with mean 0 and standard deviation 1. Optionally generate an array of normally-distributed random numbers. The `Base` module currently provides an implementation for the types [`Float16`](@ref), [`Float32`](@ref), and [`Float64`](@ref) (the default), and their [`Complex`](@ref) counterparts. When the type argument is complex, the values are drawn from the circularly symmetric complex normal distribution of variance 1 (corresponding to real and imaginary part having independent normal distribution with mean zero and variance `1/2`).\n",
       "\n",
       "See also [`randn!`](@ref) to act in-place.\n",
       "\n",
       "# Examples\n",
       "\n",
       "```jldoctest\n",
       "julia> using Random\n",
       "\n",
       "julia> rng = MersenneTwister(1234);\n",
       "\n",
       "julia> randn(rng, ComplexF64)\n",
       "0.6133070881429037 - 0.6376291670853887im\n",
       "\n",
       "julia> randn(rng, ComplexF32, (2, 3))\n",
       "2×3 Matrix{ComplexF32}:\n",
       " -0.349649-0.638457im  0.376756-0.192146im  -0.396334-0.0136413im\n",
       "  0.611224+1.56403im   0.355204-0.365563im  0.0905552+1.31012im\n",
       "```\n"
      ],
      "text/plain": [
       "\u001b[36m  randn([rng=default_rng()], [T=Float64], [dims...])\u001b[39m\n",
       "\n",
       "  Generate a normally-distributed random number of type \u001b[36mT\u001b[39m with mean 0 and\n",
       "  standard deviation 1. Optionally generate an array of normally-distributed\n",
       "  random numbers. The \u001b[36mBase\u001b[39m module currently provides an implementation for the\n",
       "  types \u001b[36mFloat16\u001b[39m, \u001b[36mFloat32\u001b[39m, and \u001b[36mFloat64\u001b[39m (the default), and their \u001b[36mComplex\u001b[39m\n",
       "  counterparts. When the type argument is complex, the values are drawn from\n",
       "  the circularly symmetric complex normal distribution of variance 1\n",
       "  (corresponding to real and imaginary part having independent normal\n",
       "  distribution with mean zero and variance \u001b[36m1/2\u001b[39m).\n",
       "\n",
       "  See also \u001b[36mrandn!\u001b[39m to act in-place.\n",
       "\n",
       "\u001b[1m  Examples\u001b[22m\n",
       "\u001b[1m  ≡≡≡≡≡≡≡≡\u001b[22m\n",
       "\n",
       "\u001b[36m  julia> using Random\u001b[39m\n",
       "\u001b[36m  \u001b[39m\n",
       "\u001b[36m  julia> rng = MersenneTwister(1234);\u001b[39m\n",
       "\u001b[36m  \u001b[39m\n",
       "\u001b[36m  julia> randn(rng, ComplexF64)\u001b[39m\n",
       "\u001b[36m  0.6133070881429037 - 0.6376291670853887im\u001b[39m\n",
       "\u001b[36m  \u001b[39m\n",
       "\u001b[36m  julia> randn(rng, ComplexF32, (2, 3))\u001b[39m\n",
       "\u001b[36m  2×3 Matrix{ComplexF32}:\u001b[39m\n",
       "\u001b[36m   -0.349649-0.638457im  0.376756-0.192146im  -0.396334-0.0136413im\u001b[39m\n",
       "\u001b[36m    0.611224+1.56403im   0.355204-0.365563im  0.0905552+1.31012im\u001b[39m"
      ]
     },
     "execution_count": 81,
     "metadata": {},
     "output_type": "execute_result"
    }
   ],
   "source": [
    "?randn"
   ]
  },
  {
   "cell_type": "code",
   "execution_count": 82,
   "id": "596c0e95-5521-41a7-a3a3-252db919dc39",
   "metadata": {},
   "outputs": [
    {
     "data": {
      "text/plain": [
       "100×5 Matrix{Float64}:\n",
       "  0.910428    2.13668    0.852595   -0.450324    0.279842\n",
       " -0.203334    0.993725   1.86318     0.410499   -0.0472934\n",
       " -0.310062    0.608036  -0.0537928   1.48085     1.51439\n",
       "  1.57447     1.40369    1.44851     1.27623     0.942008\n",
       "  2.16312     1.88732    2.51227     0.533175   -0.520495\n",
       " -0.297068   -0.294909   1.69599    -0.955542    0.460474\n",
       "  0.326462    1.73068   -0.107294   -0.173673    2.16299\n",
       "  2.06125     1.23118    2.39091     1.94137     0.99571\n",
       "  2.04321     0.655377   0.752083    1.51127    -1.03125\n",
       "  1.50997     0.53043    0.855706    1.14648    -0.473419\n",
       "  0.283238    1.66014    1.30692     1.63794     2.61739\n",
       " -0.194558    1.54699    0.929476   -1.25768     1.16355\n",
       "  0.852959    3.43833    0.209476    0.0278118   0.657448\n",
       "  ⋮                                             \n",
       "  1.745       0.264627  -0.48647     1.7736      1.85603\n",
       "  1.92047     1.90824    1.80222    -1.18045     1.08781\n",
       "  0.0598871   0.375741  -0.0903753  -0.0878099   3.18596\n",
       "  0.341124    1.66711    1.03731     1.60777     0.825171\n",
       "  1.4519      0.619694   1.31183    -0.281327    1.45072\n",
       " -0.601915    1.13995    2.14423     2.00186     1.29112\n",
       "  1.43014    -0.124389   1.17537     0.67043     1.46802\n",
       "  0.364553    1.0528     2.95952     0.526816    0.799745\n",
       "  1.2327      2.37472    1.31467    -0.290594    3.00592\n",
       " -0.198159   -0.211778  -0.726857    0.194847    2.65386\n",
       "  1.47109     2.61912    1.80582     1.18953     1.41611\n",
       "  2.77582     1.53736   -0.805129   -0.315228    1.35773"
      ]
     },
     "execution_count": 82,
     "metadata": {},
     "output_type": "execute_result"
    }
   ],
   "source": [
    "cluster2 = randn(100, 5) .+ 1"
   ]
  },
  {
   "cell_type": "markdown",
   "id": "cd747c85-e843-4ef4-94f7-ab4233014bab",
   "metadata": {},
   "source": [
    "Let's concatenate (cat) these matrices vertically using **vcat()** - imagine stacking one matrix on top of the other. Also try using horizontal **hcat()** to see the difference.   "
   ]
  },
  {
   "cell_type": "code",
   "execution_count": 83,
   "id": "a439f43a-a63d-4699-902f-3e69a3acb323",
   "metadata": {},
   "outputs": [
    {
     "data": {
      "text/plain": [
       "200×5 Matrix{Float64}:\n",
       " -0.0293437  -0.737544  -0.613869   -1.31815    -2.95335\n",
       " -1.97922    -1.02224   -1.74252    -2.33397    -2.00848\n",
       " -0.0981391  -1.39129   -1.87533    -1.76821    -1.23108\n",
       " -1.0328     -0.972379   0.600607   -0.0713489  -1.16386\n",
       " -1.60079    -3.29076    0.521804    1.71145    -0.113714\n",
       " -2.44518    -1.66854   -0.715754   -1.37086     0.630318\n",
       "  1.70742    -1.78469   -1.87393    -1.44342     0.521595\n",
       "  0.524448    0.128985  -1.8989     -1.20746    -0.417508\n",
       " -0.240196   -0.788823  -1.16236    -0.0609412  -0.30224\n",
       " -1.88144    -0.285358  -0.382139   -1.26819    -1.58575\n",
       " -0.294007   -0.965934  -0.890225   -2.73204    -2.00704\n",
       "  0.0915553  -0.431329  -0.896389   -1.78917    -3.25478\n",
       " -0.128502   -3.62623   -2.29636    -2.58389    -1.03068\n",
       "  ⋮                                             \n",
       "  1.745       0.264627  -0.48647     1.7736      1.85603\n",
       "  1.92047     1.90824    1.80222    -1.18045     1.08781\n",
       "  0.0598871   0.375741  -0.0903753  -0.0878099   3.18596\n",
       "  0.341124    1.66711    1.03731     1.60777     0.825171\n",
       "  1.4519      0.619694   1.31183    -0.281327    1.45072\n",
       " -0.601915    1.13995    2.14423     2.00186     1.29112\n",
       "  1.43014    -0.124389   1.17537     0.67043     1.46802\n",
       "  0.364553    1.0528     2.95952     0.526816    0.799745\n",
       "  1.2327      2.37472    1.31467    -0.290594    3.00592\n",
       " -0.198159   -0.211778  -0.726857    0.194847    2.65386\n",
       "  1.47109     2.61912    1.80582     1.18953     1.41611\n",
       "  2.77582     1.53736   -0.805129   -0.315228    1.35773"
      ]
     },
     "execution_count": 83,
     "metadata": {},
     "output_type": "execute_result"
    }
   ],
   "source": [
    "vcat(cluster1, cluster2)"
   ]
  },
  {
   "cell_type": "code",
   "execution_count": 84,
   "id": "b1605f96-fea0-40bd-b833-e43f4f35b1ad",
   "metadata": {},
   "outputs": [
    {
     "data": {
      "text/plain": [
       "100×10 Matrix{Float64}:\n",
       " -0.0293437  -0.737544   -0.613869  …   0.852595   -0.450324    0.279842\n",
       " -1.97922    -1.02224    -1.74252       1.86318     0.410499   -0.0472934\n",
       " -0.0981391  -1.39129    -1.87533      -0.0537928   1.48085     1.51439\n",
       " -1.0328     -0.972379    0.600607      1.44851     1.27623     0.942008\n",
       " -1.60079    -3.29076     0.521804      2.51227     0.533175   -0.520495\n",
       " -2.44518    -1.66854    -0.715754  …   1.69599    -0.955542    0.460474\n",
       "  1.70742    -1.78469    -1.87393      -0.107294   -0.173673    2.16299\n",
       "  0.524448    0.128985   -1.8989        2.39091     1.94137     0.99571\n",
       " -0.240196   -0.788823   -1.16236       0.752083    1.51127    -1.03125\n",
       " -1.88144    -0.285358   -0.382139      0.855706    1.14648    -0.473419\n",
       " -0.294007   -0.965934   -0.890225  …   1.30692     1.63794     2.61739\n",
       "  0.0915553  -0.431329   -0.896389      0.929476   -1.25768     1.16355\n",
       " -0.128502   -3.62623    -2.29636       0.209476    0.0278118   0.657448\n",
       "  ⋮                                 ⋱                          \n",
       "  0.349637   -1.35364    -1.89788      -0.48647     1.7736      1.85603\n",
       "  0.131929   -0.868554   -0.737022      1.80222    -1.18045     1.08781\n",
       " -2.3637     -1.03082    -1.12565   …  -0.0903753  -0.0878099   3.18596\n",
       " -1.06856    -0.306033   -3.40849       1.03731     1.60777     0.825171\n",
       "  1.5139     -0.771895   -1.65267       1.31183    -0.281327    1.45072\n",
       " -0.875938   -2.45727    -1.59571       2.14423     2.00186     1.29112\n",
       " -0.557989   -1.17941    -0.310314      1.17537     0.67043     1.46802\n",
       " -0.344089   -2.66339    -3.08627   …   2.95952     0.526816    0.799745\n",
       " -0.814052   -0.0632304  -1.01902       1.31467    -0.290594    3.00592\n",
       "  2.22591    -0.164603   -0.614049     -0.726857    0.194847    2.65386\n",
       " -1.55273    -1.09341    -0.823972      1.80582     1.18953     1.41611\n",
       " -4.40253    -1.62642    -1.01099      -0.805129   -0.315228    1.35773"
      ]
     },
     "execution_count": 84,
     "metadata": {},
     "output_type": "execute_result"
    }
   ],
   "source": [
    "hcat(cluster1, cluster2) "
   ]
  },
  {
   "cell_type": "markdown",
   "id": "19daf600-c434-4c1b-a1cf-2756275e555a",
   "metadata": {},
   "source": [
    "\"We will want to see if, after using the t-SNE algorithm to perform dimensionality reduction to two dimensions, we will be able to visually confirm that these two clusters are indeed separated.\"     \n",
    "\n",
    "\"If you refer to the examples of using the t-SNE algorithm in the scikit-learn documentation (http://mng.bz/K0oZ), you can see that using Python in Julia is essentially transparent:\n",
    "\n",
    "* You can call Python functions in exactly the same way as you would call them in Python. In particular, you can use dot (.) to refer to objects in the same way as in Python.\n",
    "* An automatic conversion occurs between Julia and Python objects, so you do not have to think about it.\n",
    "\n",
    "This level of integration means that using Python from Julia requires little mental effort for a developer. From my experience, most of the time, fixing the syntax differences is enough if you want to port some Python code to Julia, and things just work. For example, in Julia, string literals require double quotes (\"), while typically in Python, a single quote (') is used.\" "
   ]
  },
  {
   "cell_type": "markdown",
   "id": "94be5843-94ec-44bb-bf06-07b6200e9d06",
   "metadata": {},
   "source": [
    "**\"Julia provides four important ways to iterate over collections and transform them: loops, the map function (and other similar higher-order functions), comprehensions, and broadcasting. Each has slightly different rules of processing data. Therefore, you should choose one depending on your needs in a given situation.\"** "
   ]
  }
 ],
 "metadata": {
  "kernelspec": {
   "display_name": "Julia 1.10.3",
   "language": "julia",
   "name": "julia-1.10"
  },
  "language_info": {
   "file_extension": ".jl",
   "mimetype": "application/julia",
   "name": "julia",
   "version": "1.10.3"
  }
 },
 "nbformat": 4,
 "nbformat_minor": 5
}
