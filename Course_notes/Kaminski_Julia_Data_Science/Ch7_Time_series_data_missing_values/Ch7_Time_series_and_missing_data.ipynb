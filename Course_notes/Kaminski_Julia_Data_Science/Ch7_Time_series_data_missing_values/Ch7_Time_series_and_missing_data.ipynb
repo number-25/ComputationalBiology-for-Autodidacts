{
 "cells": [
  {
   "cell_type": "markdown",
   "id": "ab7b3ab3-80b9-4bb7-8181-e6e6535a2b0b",
   "metadata": {},
   "source": [
    "# Ch7 Notes - Handling time-series and missing data \n",
    "This chapter will introduce the idea of web scraping website data and accessing api's using HTTP, handling missing data which is often found in our scraped data, dealing with errors when the data is not available, perform basic statistical calculations, and then plot the analysed data (whilst properly handling missing values)"
   ]
  },
  {
   "cell_type": "markdown",
   "id": "2ae1425b-8748-4b09-837c-86b9b5b0eefd",
   "metadata": {},
   "source": [
    "### Api structure\n",
    "We must understand how the API requires one to make requests in order to access the data. It is typical with so called \"REST\" API's that one is required to construct a url query of the form `<api>/<sitename>/<database>/<table>/<year-identifier>/?format=json>` where the specific fields will changed based on what you're trying to retrieve e.g. the human genome database, the 39th assembly, chromosome positions. Most sites have a specification for how to do this. "
   ]
  },
  {
   "cell_type": "markdown",
   "id": "5d9fe5f7-b95d-4581-b1bc-94f4c1f00b24",
   "metadata": {},
   "source": [
    "Let's do some retrieval! We'll need the HTTP.jl package"
   ]
  },
  {
   "cell_type": "code",
   "execution_count": 3,
   "id": "e05063d1-9847-4047-ab79-9090e0f6dc6e",
   "metadata": {},
   "outputs": [],
   "source": [
    "using Pkg; using HTTP"
   ]
  },
  {
   "cell_type": "code",
   "execution_count": 6,
   "id": "098b9913-4cd2-4356-a74d-dad2aa51fabe",
   "metadata": {},
   "outputs": [
    {
     "data": {
      "text/plain": [
       "HTTP.Messages.Response:\n",
       "\"\"\"\n",
       "HTTP/1.1 200 OK\r\n",
       "Date: Fri, 28 Jun 2024 03:47:08 GMT\r\n",
       "Cache-Control: no-cache\r\n",
       "Pragma: no-cache\r\n",
       "Content-Type: application/json; charset=utf-8\r\n",
       "Expires: -1\r\n",
       "ETag: \"ZVW72VHmEFszyVJaD6HB4ZuqPBFnr2L+4FwjIJloFkk=\"\r\n",
       "Vary: Accept-Encoding\r\n",
       "Content-Encoding: gzip\r\n",
       "Transfer-Encoding: chunked\r\n",
       "\r\n",
       "{\"table\":\"A\",\"currency\":\"dolar amerykański\",\"code\":\"USD\",\"rates\":[{\"no\":\"105/A/NBP/2020\",\"effectiveDate\":\"2020-06-01\",\"mid\":3.9680}]}\"\"\""
      ]
     },
     "execution_count": 6,
     "metadata": {},
     "output_type": "execute_result"
    }
   ],
   "source": [
    "http_query = HTTP.get(\"https://api.nbp.pl/api/exchangerates/rates/a/usd/2020-06-01/?format=json\")"
   ]
  },
  {
   "cell_type": "markdown",
   "id": "a69f5a74-a314-47ab-87d6-819611f0ea51",
   "metadata": {},
   "source": [
    "Load up JSON3.jl too"
   ]
  },
  {
   "cell_type": "code",
   "execution_count": 5,
   "id": "eedfdde4-7017-467c-91d2-7d2cf01e7378",
   "metadata": {},
   "outputs": [],
   "source": [
    "using JSON3"
   ]
  },
  {
   "cell_type": "markdown",
   "id": "5d65e837-00d7-41af-b405-808824a0ed4e",
   "metadata": {},
   "source": [
    "Download the query and read the body using JSON3.read "
   ]
  },
  {
   "cell_type": "code",
   "execution_count": 7,
   "id": "88b81b7d-7c22-4d69-a0f6-2dc3f29434c6",
   "metadata": {},
   "outputs": [
    {
     "data": {
      "text/plain": [
       "JSON3.Object{Vector{UInt8}, Vector{UInt64}} with 4 entries:\n",
       "  :table    => \"A\"\n",
       "  :currency => \"dolar amerykański\"\n",
       "  :code     => \"USD\"\n",
       "  :rates    => Object[{…"
      ]
     },
     "execution_count": 7,
     "metadata": {},
     "output_type": "execute_result"
    }
   ],
   "source": [
    "json_query = JSON3.read(http_query.body) "
   ]
  },
  {
   "cell_type": "markdown",
   "id": "cfe295f1-192c-43f1-86d2-5c2b79b0d91c",
   "metadata": {},
   "source": [
    "Take a look at the http_query body to get a sense for how the data itself is stored (in bits) "
   ]
  },
  {
   "cell_type": "code",
   "execution_count": 8,
   "id": "8cdb2b21-6ace-457e-b423-8c5919ee1931",
   "metadata": {
    "scrolled": true
   },
   "outputs": [
    {
     "data": {
      "text/plain": [
       "134-element Vector{UInt8}:\n",
       " 0x7b\n",
       " 0x22\n",
       " 0x74\n",
       " 0x61\n",
       " 0x62\n",
       " 0x6c\n",
       " 0x65\n",
       " 0x22\n",
       " 0x3a\n",
       " 0x22\n",
       " 0x41\n",
       " 0x22\n",
       " 0x2c\n",
       "    ⋮\n",
       " 0x64\n",
       " 0x22\n",
       " 0x3a\n",
       " 0x33\n",
       " 0x2e\n",
       " 0x39\n",
       " 0x36\n",
       " 0x38\n",
       " 0x30\n",
       " 0x7d\n",
       " 0x5d\n",
       " 0x7d"
      ]
     },
     "execution_count": 8,
     "metadata": {},
     "output_type": "execute_result"
    }
   ],
   "source": [
    "http_query.body"
   ]
  },
  {
   "cell_type": "markdown",
   "id": "ec6d68dd-21d3-4d9a-a1dd-442cf6cf32e3",
   "metadata": {},
   "source": [
    "If we want human readable format, we can just parse is as a String using the **String()** function"
   ]
  },
  {
   "cell_type": "code",
   "execution_count": 9,
   "id": "80a133a3-38db-44f9-8e6c-310ed79d4321",
   "metadata": {},
   "outputs": [
    {
     "data": {
      "text/plain": [
       "\"{\\\"table\\\":\\\"A\\\",\\\"currency\\\":\\\"dolar amerykański\\\",\\\"code\\\":\\\"USD\\\",\\\"rates\\\":[{\\\"no\\\":\\\"105/A/NBP/2020\\\",\\\"effectiveDate\\\":\\\"2020-06-01\\\",\\\"mid\\\":3.9680}]}\""
      ]
     },
     "execution_count": 9,
     "metadata": {},
     "output_type": "execute_result"
    }
   ],
   "source": [
    "http_string = String(http_query.body)"
   ]
  },
  {
   "cell_type": "markdown",
   "id": "37f258f6-5240-4130-bda8-4f547616909c",
   "metadata": {},
   "source": [
    "**\"Calling the String constructor on Vector{UInt8} consumes the data stored in a vector. The benefit of this behavior is that the operation is very fast. The downside is that you can perform the conversion only once. After the operation, the response.body vector is empty, so calling String(response.body) again would produce an empty string (\"\").\"** --- **\"The fact that the String constructor empties the Vector{UInt8} source that is passed to it is one of the rare cases in Julia when a function mutates an object passed to it that does not have the ! suffix in its name. Therefore, it is important that you remember this exception. In our example, if you wanted to preserve the value stored in response.body, you should have copied it before passing it to the String constructor as follows: String(copy(response.body)).\"**"
   ]
  },
  {
   "cell_type": "markdown",
   "id": "5eb031ea-f19a-43c3-bec8-f0f86a7f415a",
   "metadata": {},
   "source": [
    "Now let's access the fields of our json query "
   ]
  },
  {
   "cell_type": "code",
   "execution_count": 11,
   "id": "4b601fa0-a79e-4387-ba12-d1a578602b28",
   "metadata": {},
   "outputs": [
    {
     "data": {
      "text/plain": [
       "\"USD\""
      ]
     },
     "execution_count": 11,
     "metadata": {},
     "output_type": "execute_result"
    }
   ],
   "source": [
    "json_query.code"
   ]
  },
  {
   "cell_type": "code",
   "execution_count": 18,
   "id": "d340cb24-7507-4ff8-b5cd-2e27b2781523",
   "metadata": {},
   "outputs": [
    {
     "data": {
      "text/plain": [
       "1-element JSON3.Array{JSON3.Object, Vector{UInt8}, SubArray{UInt64, 1, Vector{UInt64}, Tuple{UnitRange{Int64}}, true}}:\n",
       " {\n",
       "              \"no\": \"105/A/NBP/2020\",\n",
       "   \"effectiveDate\": \"2020-06-01\",\n",
       "             \"mid\": 3.968\n",
       "}"
      ]
     },
     "execution_count": 18,
     "metadata": {},
     "output_type": "execute_result"
    }
   ],
   "source": [
    "json_query.rates"
   ]
  },
  {
   "cell_type": "code",
   "execution_count": 21,
   "id": "c93ecd2a-4c85-4211-b210-e84f79afa4b6",
   "metadata": {},
   "outputs": [
    {
     "data": {
      "text/plain": [
       "3.968"
      ]
     },
     "execution_count": 21,
     "metadata": {},
     "output_type": "execute_result"
    }
   ],
   "source": [
    "json_query.rates[1].mid"
   ]
  },
  {
   "cell_type": "markdown",
   "id": "4e5c9fa0-1e17-4ce3-b44a-e647aa5d85f5",
   "metadata": {},
   "source": [
    "Say we know that our array only contains a single element, like the one above, instead of indexing, we can use the **only()** base function, suffixed with the name of the field we're intersted in"
   ]
  },
  {
   "cell_type": "code",
   "execution_count": 22,
   "id": "e1b6a325-efe7-4faf-b98b-c7a82d6c84e1",
   "metadata": {},
   "outputs": [
    {
     "data": {
      "text/plain": [
       "3.968"
      ]
     },
     "execution_count": 22,
     "metadata": {},
     "output_type": "execute_result"
    }
   ],
   "source": [
    "only(json_query.rates).mid"
   ]
  },
  {
   "cell_type": "markdown",
   "id": "f4c9d653-2476-4089-8ac8-888ea804104d",
   "metadata": {},
   "source": [
    "\"The only function is quite useful when writing production code, as it allows you to easily catch bugs if your data does not meet the assumptions.\""
   ]
  },
  {
   "cell_type": "markdown",
   "id": "804aef12-cf95-4c4e-9b70-75762c052a07",
   "metadata": {},
   "source": [
    "## Handling situations where an API query fails\n",
    "Let’s discuss how to handle exceptions so that they do not terminate our program if we do not want them to. For this, we use the try-catch-end block. We'll implement a try-catch-end block for when our http request fails. If it fails we will get a 'missing' value back, rather than our entire program breaking down and stalling, we can handle the error in a more deliberate fashion. Furthermore, our code will likely be embedded amongst other functions and executions which would ideally still require execution if they are not dependent on the output of the previous code, meaning we'd prefer for this to proceed."
   ]
  },
  {
   "cell_type": "code",
   "execution_count": 23,
   "id": "9819baae-4e39-41de-9c8f-5b02a16ffae8",
   "metadata": {},
   "outputs": [
    {
     "data": {
      "text/plain": [
       "3.968"
      ]
     },
     "execution_count": 23,
     "metadata": {},
     "output_type": "execute_result"
    }
   ],
   "source": [
    "query = \"https://api.nbp.pl/api/exchangerates/rates/a/usd/\" *\n",
    "               \"2020-06-01/?format=json\"\n",
    "\"https://api.nbp.pl/api/exchangerates/rates/a/usd/2020-06-01/?format=json\"\n",
    " \n",
    "try\n",
    "    response = HTTP.get(query)\n",
    "    json = JSON3.read(response.body)\n",
    "    only(json.rates).mid\n",
    "catch e\n",
    "    if e isa HTTP.ExceptionRequest.StatusError\n",
    "        missing\n",
    "    else\n",
    "        rethrow(e)\n",
    "    end\n",
    "end"
   ]
  },
  {
   "cell_type": "markdown",
   "id": "4022e226-8c7f-4042-aea0-50d1a83ab93d",
   "metadata": {},
   "source": [
    "Now for the failed request"
   ]
  },
  {
   "cell_type": "code",
   "execution_count": 26,
   "id": "a74c19dc-34fb-40fc-96cc-e414ecd0ee3f",
   "metadata": {},
   "outputs": [
    {
     "data": {
      "text/plain": [
       "missing"
      ]
     },
     "execution_count": 26,
     "metadata": {},
     "output_type": "execute_result"
    }
   ],
   "source": [
    "query = \"https://api.nbp.pl/api/exchangerates/rates/a/usd/\" *\n",
    "               \"2020-06-06/?format=json\"\n",
    "\"https://api.nbp.pl/api/exchangerates/rates/a/usd/2020-06-06/?format=json\"\n",
    " \n",
    "try\n",
    "    response = HTTP.get(query)\n",
    "    json = JSON3.read(response.body)\n",
    "    only(json.rates).mid\n",
    "catch e\n",
    "    if e isa HTTP.ExceptionRequest.StatusError\n",
    "        missing\n",
    "    else\n",
    "        rethrow(e)\n",
    "    end\n",
    "end"
   ]
  },
  {
   "cell_type": "markdown",
   "id": "e81239f0-681a-4165-80f3-ecbcb631bd7a",
   "metadata": {},
   "source": [
    "In summary, we generally wan't to reserve such try-catch blocks for exceptional circumstances, and not rely on it too much. Our focus should instead be aimed at writing robust code which minimizes error possibilities. This is a large subject"
   ]
  },
  {
   "cell_type": "markdown",
   "id": "05242419-e28e-4e90-9a0b-d35b8855073b",
   "metadata": {},
   "source": [
    "## Working with missing data \n",
    "Real life data will often have missing values within it - measurements are not always made, human error pokes it's ears up, variance is common and should be expected. For this, the specific Type `missing` is here for a reason. It is not simply 0, which has a definit value, but is unknown because it is missing - an important difference. In contrast, the `nothing` Type is used when the value is indeed nothing - which for instance may occur if we are collecting peoples favorite basketball team, and we ask someone who doesn't follow basketball, their response would be nothing.  "
   ]
  },
  {
   "cell_type": "markdown",
   "id": "6e65afa1-3a60-46fc-8d23-87bd734700b2",
   "metadata": {},
   "source": [
    "#### Propagating missing values in functions\n",
    "The concept of propogation is an important one to continually be aware of - for instance, multiplying anything by 0 will lead to the propogation of 0 in the end result, no matter what. the `missing` value also has this efffect, whereby anything added to `missing` will lead to the propogation of only `missing`, discarding everything else, including 0 itself!"
   ]
  },
  {
   "cell_type": "code",
   "execution_count": 30,
   "id": "49af82f8-cc0a-4e68-aeb5-8efebfcf2280",
   "metadata": {},
   "outputs": [
    {
     "data": {
      "text/plain": [
       "missing"
      ]
     },
     "execution_count": 30,
     "metadata": {},
     "output_type": "execute_result"
    }
   ],
   "source": [
    "1 + missing"
   ]
  },
  {
   "cell_type": "code",
   "execution_count": 31,
   "id": "a1726a9e-f36f-4d58-b382-5dc24d972fc4",
   "metadata": {},
   "outputs": [
    {
     "data": {
      "text/plain": [
       "missing"
      ]
     },
     "execution_count": 31,
     "metadata": {},
     "output_type": "execute_result"
    }
   ],
   "source": [
    "1 * missing"
   ]
  },
  {
   "cell_type": "markdown",
   "id": "af6499cd-8cfe-45b3-b844-cbccb5d0586d",
   "metadata": {},
   "source": [
    "What's really important to also keep in mind is that `missing` will ALSO be propogated to comparisons such as equals, greater, lesser"
   ]
  },
  {
   "cell_type": "code",
   "execution_count": 32,
   "id": "ddddbcae-cb43-4c8c-991f-08cfb13f58b3",
   "metadata": {},
   "outputs": [
    {
     "data": {
      "text/plain": [
       "missing"
      ]
     },
     "execution_count": 32,
     "metadata": {},
     "output_type": "execute_result"
    }
   ],
   "source": [
    "missing == 0"
   ]
  },
  {
   "cell_type": "code",
   "execution_count": 33,
   "id": "54e9607e-9593-4bde-b0dc-9b88461c06c1",
   "metadata": {},
   "outputs": [
    {
     "data": {
      "text/plain": [
       "missing"
      ]
     },
     "execution_count": 33,
     "metadata": {},
     "output_type": "execute_result"
    }
   ],
   "source": [
    "missing < 0"
   ]
  },
  {
   "cell_type": "markdown",
   "id": "c745b755-2e5d-42dc-ba5a-a74e3dc0336a",
   "metadata": {},
   "source": [
    "If we are unaware of missing values in our datasets, this can cause problems downstream is we before some row-wise operations, broadcasting etc. There is a caveat whereby only `true` will evaluate to `true` when compared to missing during a conditional"
   ]
  },
  {
   "cell_type": "code",
   "execution_count": 36,
   "id": "d789868a-413f-42d5-88ea-828922d3abbe",
   "metadata": {},
   "outputs": [
    {
     "data": {
      "text/plain": [
       "true"
      ]
     },
     "execution_count": 36,
     "metadata": {},
     "output_type": "execute_result"
    }
   ],
   "source": [
    "true | missing "
   ]
  },
  {
   "cell_type": "markdown",
   "id": "a9a6dcb0-8b0e-4372-afdd-900bc6c5b52c",
   "metadata": {},
   "source": [
    "**\"\n",
    "The design of handling missing in Julia requires you to explicitly decide whether missing should be treated as true or false. This is achieved with the coalesce function, which you might know from SQL (http://mng.bz/BZ1r). Its definition is simple: coalesce returns its first nonmissing positional argument, or missing if all its arguments are missing.\n",
    "\"**"
   ]
  },
  {
   "cell_type": "markdown",
   "id": "69db5789-7344-43eb-ba13-6b00612df990",
   "metadata": {},
   "source": [
    "\"The use of coalesce is most common with handling logical conditions. If you write coalesce(condition, true), you say that if the condition evaluates to missing, you want this missing to be treated as true. Similarly, coalesce(condition, false) means that you want to treat missing as false. Here is an example:\""
   ]
  },
  {
   "cell_type": "code",
   "execution_count": 37,
   "id": "ce09f940-a4d7-42c5-bbcd-116c7843e754",
   "metadata": {},
   "outputs": [
    {
     "data": {
      "text/plain": [
       "true"
      ]
     },
     "execution_count": 37,
     "metadata": {},
     "output_type": "execute_result"
    }
   ],
   "source": [
    "coalesce(missing, true)"
   ]
  },
  {
   "cell_type": "code",
   "execution_count": 38,
   "id": "1053355c-60c9-45ba-a9b3-a54d826cbb21",
   "metadata": {},
   "outputs": [
    {
     "data": {
      "text/plain": [
       "4-element Vector{Integer}:\n",
       "    1\n",
       " true\n",
       "    3\n",
       "    1"
      ]
     },
     "execution_count": 38,
     "metadata": {},
     "output_type": "execute_result"
    }
   ],
   "source": [
    "coalesce.([1, missing, 3, true], true)"
   ]
  },
  {
   "cell_type": "markdown",
   "id": "96607ca6-f7ae-4488-847f-8056cec7e4f7",
   "metadata": {},
   "source": [
    "The function essentially specifies how julia will treat missing values - whether we want them to evaluate as `true` or `false` when they are encountered. The other option is that they are propogated and returned as missing!\n"
   ]
  },
  {
   "cell_type": "markdown",
   "id": "b36d1b9b-8017-48f5-999d-6eab1ab76448",
   "metadata": {},
   "source": [
    "If we want to perform comparisons in the sense of equals, less/greater than, we can use the functions `isequal()`, `isless()` which will return true or false values. As a rule of thumb, `missing` values are ALWAYS greater than any numbers. "
   ]
  },
  {
   "cell_type": "code",
   "execution_count": 39,
   "id": "979163a6-6e36-49de-99f6-5f54392e18fd",
   "metadata": {},
   "outputs": [
    {
     "data": {
      "text/plain": [
       "true"
      ]
     },
     "execution_count": 39,
     "metadata": {},
     "output_type": "execute_result"
    }
   ],
   "source": [
    "isless(4, missing)"
   ]
  },
  {
   "cell_type": "code",
   "execution_count": 40,
   "id": "479c8f6a-0d0e-4364-9a0f-74f37b9239a3",
   "metadata": {},
   "outputs": [
    {
     "data": {
      "text/plain": [
       "true"
      ]
     },
     "execution_count": 40,
     "metadata": {},
     "output_type": "execute_result"
    }
   ],
   "source": [
    "isequal(missing,missing)"
   ]
  },
  {
   "cell_type": "markdown",
   "id": "2f7d76bc-707f-4d13-8c9a-e694eea33f97",
   "metadata": {},
   "source": [
    "### A note on equality and equivalence \n",
    "The `==` operator is used to compare the value of an element with another, while the `===` operator is used to compared the absolutely identity of the elements, in other words, do they occupy the same computational space/memory as the other"
   ]
  },
  {
   "cell_type": "code",
   "execution_count": 41,
   "id": "f115fd00-d1fc-41b0-8144-835735e1814c",
   "metadata": {},
   "outputs": [
    {
     "data": {
      "text/plain": [
       "true"
      ]
     },
     "execution_count": 41,
     "metadata": {},
     "output_type": "execute_result"
    }
   ],
   "source": [
    "1 == 1"
   ]
  },
  {
   "cell_type": "code",
   "execution_count": 43,
   "id": "7b199c02-8be4-4944-9882-ac4974b2b71b",
   "metadata": {},
   "outputs": [
    {
     "data": {
      "text/plain": [
       "true"
      ]
     },
     "execution_count": 43,
     "metadata": {},
     "output_type": "execute_result"
    }
   ],
   "source": [
    "1 === 1"
   ]
  },
  {
   "cell_type": "code",
   "execution_count": 45,
   "id": "f53bdf5a-1c0d-4328-8b24-a199c5fa9c5f",
   "metadata": {},
   "outputs": [
    {
     "data": {
      "text/plain": [
       "1"
      ]
     },
     "execution_count": 45,
     "metadata": {},
     "output_type": "execute_result"
    }
   ],
   "source": [
    "this_one = 1"
   ]
  },
  {
   "cell_type": "code",
   "execution_count": 48,
   "id": "d3e05878-a2e6-4a02-8a2a-d3929b4888b6",
   "metadata": {},
   "outputs": [
    {
     "data": {
      "text/plain": [
       "1"
      ]
     },
     "execution_count": 48,
     "metadata": {},
     "output_type": "execute_result"
    }
   ],
   "source": [
    "this_two = 1"
   ]
  },
  {
   "cell_type": "markdown",
   "id": "66bb38d6-3e92-4eeb-9327-1507c6c16cfb",
   "metadata": {},
   "source": [
    "As we will see, they are both referring to the same space in memory as they're mapped to the same value 1. What if we make a copy?"
   ]
  },
  {
   "cell_type": "code",
   "execution_count": 49,
   "id": "9dd6d75b-5069-4499-8929-1859aab46b52",
   "metadata": {},
   "outputs": [
    {
     "data": {
      "text/plain": [
       "true"
      ]
     },
     "execution_count": 49,
     "metadata": {},
     "output_type": "execute_result"
    }
   ],
   "source": [
    "this_one === this_two"
   ]
  },
  {
   "cell_type": "code",
   "execution_count": 51,
   "id": "96ed18f4-f337-49b4-b926-9ab6f534d8c9",
   "metadata": {},
   "outputs": [
    {
     "data": {
      "text/plain": [
       "true"
      ]
     },
     "execution_count": 51,
     "metadata": {},
     "output_type": "execute_result"
    }
   ],
   "source": [
    "deepcopy(this_one) === this_two"
   ]
  },
  {
   "cell_type": "markdown",
   "id": "0264aecc-8864-4a1c-a0fe-f0d2b92ee5f9",
   "metadata": {},
   "source": [
    "Still the same. Now let's create some arrays which contain the same values within them and repeat this operation."
   ]
  },
  {
   "cell_type": "code",
   "execution_count": 52,
   "id": "99dd87a3-0633-4352-950e-ada9142dad7b",
   "metadata": {},
   "outputs": [
    {
     "data": {
      "text/plain": [
       "1-element Vector{Int64}:\n",
       " 1"
      ]
     },
     "execution_count": 52,
     "metadata": {},
     "output_type": "execute_result"
    }
   ],
   "source": [
    "a = [1] ; b = [1]"
   ]
  },
  {
   "cell_type": "code",
   "execution_count": 53,
   "id": "2026987b-7f39-4f01-9d3d-e431ddbfa091",
   "metadata": {},
   "outputs": [
    {
     "data": {
      "text/plain": [
       "true"
      ]
     },
     "execution_count": 53,
     "metadata": {},
     "output_type": "execute_result"
    }
   ],
   "source": [
    "a == b"
   ]
  },
  {
   "cell_type": "code",
   "execution_count": 54,
   "id": "a0641e13-87fc-47c2-801d-0d1ef8fe0c9f",
   "metadata": {},
   "outputs": [
    {
     "data": {
      "text/plain": [
       "false"
      ]
     },
     "execution_count": 54,
     "metadata": {},
     "output_type": "execute_result"
    }
   ],
   "source": [
    "a === b"
   ]
  },
  {
   "cell_type": "markdown",
   "id": "427ba433-ea6b-4f68-900b-8be76d8f1646",
   "metadata": {},
   "source": [
    "We get a false in equivalence, which shines a light on how Julia manages these different entities under the hood"
   ]
  },
  {
   "cell_type": "code",
   "execution_count": 56,
   "id": "d89a32cf-3297-4a8f-b475-4e976c8f3c4a",
   "metadata": {},
   "outputs": [
    {
     "data": {
      "text/plain": [
       "1"
      ]
     },
     "execution_count": 56,
     "metadata": {},
     "output_type": "execute_result"
    }
   ],
   "source": [
    "q = (1) ; p = (1)"
   ]
  },
  {
   "cell_type": "code",
   "execution_count": 57,
   "id": "026d9f8a-8f1d-40a9-a511-6cb470cf293e",
   "metadata": {},
   "outputs": [
    {
     "data": {
      "text/plain": [
       "true"
      ]
     },
     "execution_count": 57,
     "metadata": {},
     "output_type": "execute_result"
    }
   ],
   "source": [
    "q === p"
   ]
  },
  {
   "cell_type": "markdown",
   "id": "32d5ffe7-663f-4b39-b669-4ec337c8180f",
   "metadata": {},
   "source": [
    "Julia treats tuples differently! - See we need to keep these characteristics in mind and move forward deliberately. "
   ]
  },
  {
   "cell_type": "markdown",
   "id": "049f47f2-9e97-4706-b6b2-3dc95a319c19",
   "metadata": {},
   "source": [
    "#### Some common functions on missing values "
   ]
  },
  {
   "cell_type": "markdown",
   "id": "b3888f8c-4eed-4e01-81cc-be963b52f5b0",
   "metadata": {},
   "source": [
    "Skip missing values when executing functions - often times we want to perform some calculations on a vector, and don't want missing value propogation taking place, so we can apply the skipmissing function to the collection and thus avoid this taking place."
   ]
  },
  {
   "cell_type": "code",
   "execution_count": 4,
   "id": "38c918b2-fbbc-458f-b94a-6fce1e0a36b0",
   "metadata": {},
   "outputs": [
    {
     "data": {
      "text/plain": [
       "4-element Vector{Union{Missing, Int64}}:\n",
       " 1\n",
       " 2\n",
       " 5\n",
       "  missing"
      ]
     },
     "execution_count": 4,
     "metadata": {},
     "output_type": "execute_result"
    }
   ],
   "source": [
    "x = [1, 2, 5, missing]"
   ]
  },
  {
   "cell_type": "code",
   "execution_count": 11,
   "id": "feeff8c4-04e6-48cf-aa59-1636695be159",
   "metadata": {},
   "outputs": [
    {
     "data": {
      "text/plain": [
       "skipmissing(Union{Missing, Int64}[1, 2, 5, missing])"
      ]
     },
     "execution_count": 11,
     "metadata": {},
     "output_type": "execute_result"
    }
   ],
   "source": [
    "q = skipmissing(x)"
   ]
  },
  {
   "cell_type": "code",
   "execution_count": 12,
   "id": "807920d5-d685-4f05-926f-614cd396d4b7",
   "metadata": {},
   "outputs": [
    {
     "data": {
      "text/plain": [
       "8"
      ]
     },
     "execution_count": 12,
     "metadata": {},
     "output_type": "execute_result"
    }
   ],
   "source": [
    "sum(q)"
   ]
  },
  {
   "cell_type": "markdown",
   "id": "b6908036-03f2-420a-98eb-901f82bc770a",
   "metadata": {},
   "source": [
    "Or a one liner"
   ]
  },
  {
   "cell_type": "code",
   "execution_count": 13,
   "id": "1622172c-514b-4d81-8eb8-1dfef427e84d",
   "metadata": {},
   "outputs": [
    {
     "data": {
      "text/plain": [
       "8"
      ]
     },
     "execution_count": 13,
     "metadata": {},
     "output_type": "execute_result"
    }
   ],
   "source": [
    "sum(skipmissing(x))"
   ]
  },
  {
   "cell_type": "markdown",
   "id": "54c697d9-4747-4382-ac1d-e74eee2ba9f8",
   "metadata": {},
   "source": [
    "Depending on the way in which a function was written, it may not allow missing values to be propogated through it - for instance, we could create a function which adds to intergers, restricting our arguments to Int64 values, thereby providing missing as an argument would lead to an error. "
   ]
  },
  {
   "cell_type": "code",
   "execution_count": 14,
   "id": "9d4ef937-6234-4eea-8f81-69f63a44966c",
   "metadata": {},
   "outputs": [
    {
     "data": {
      "text/plain": [
       "addingtest (generic function with 1 method)"
      ]
     },
     "execution_count": 14,
     "metadata": {},
     "output_type": "execute_result"
    }
   ],
   "source": [
    "addingtest(x::Int64, y::Int64) = x + y"
   ]
  },
  {
   "cell_type": "code",
   "execution_count": 15,
   "id": "4ec63353-83e7-4769-a923-20d04581aa6f",
   "metadata": {},
   "outputs": [
    {
     "data": {
      "text/plain": [
       "15"
      ]
     },
     "execution_count": 15,
     "metadata": {},
     "output_type": "execute_result"
    }
   ],
   "source": [
    "addingtest(5, 10)"
   ]
  },
  {
   "cell_type": "markdown",
   "id": "4a5ffcd6-a9cf-4e19-9529-df7779a1d85a",
   "metadata": {},
   "source": [
    "What do we do if we want to 'overload' a function in order to allow it to pass missing values?\n",
    "Use the `passmissing()` function from the `Missings` package!"
   ]
  },
  {
   "cell_type": "code",
   "execution_count": 18,
   "id": "e2d491e9-2961-4007-bbce-7ea85c73f60f",
   "metadata": {},
   "outputs": [
    {
     "name": "stderr",
     "output_type": "stream",
     "text": [
      "\u001b[32m\u001b[1m    Updating\u001b[22m\u001b[39m registry at `~/.julia/registries/General.toml`\n",
      "\u001b[32m\u001b[1m   Resolving\u001b[22m\u001b[39m package versions...\n",
      "\u001b[32m\u001b[1m    Updating\u001b[22m\u001b[39m `~/.julia/environments/v1.10/Project.toml`\n",
      "  \u001b[90m[e1d29d7a] \u001b[39m\u001b[92m+ Missings v1.2.0\u001b[39m\n",
      "\u001b[32m\u001b[1m  No Changes\u001b[22m\u001b[39m to `~/.julia/environments/v1.10/Manifest.toml`\n"
     ]
    }
   ],
   "source": [
    "using Pkg ; Pkg.add(\"Missings\") ; using Missings"
   ]
  },
  {
   "cell_type": "code",
   "execution_count": 19,
   "id": "7f5762f4-00ef-48ba-8843-e61470b44722",
   "metadata": {},
   "outputs": [
    {
     "data": {
      "text/plain": [
       "(::Missings.PassMissing{typeof(addingtest)}) (generic function with 2 methods)"
      ]
     },
     "execution_count": 19,
     "metadata": {},
     "output_type": "execute_result"
    }
   ],
   "source": [
    "addingmissing = passmissing(addingtest) "
   ]
  },
  {
   "cell_type": "code",
   "execution_count": 20,
   "id": "70d5d159-672a-46f9-ace5-74c975bdc802",
   "metadata": {},
   "outputs": [
    {
     "data": {
      "text/plain": [
       "missing"
      ]
     },
     "execution_count": 20,
     "metadata": {},
     "output_type": "execute_result"
    }
   ],
   "source": [
    "addingmissing(5 + missing)"
   ]
  },
  {
   "cell_type": "markdown",
   "id": "4de45f12-fe74-47c9-969d-dd1c92228f31",
   "metadata": {},
   "source": [
    "## Exercise 7.1 \n",
    "Given a vector v = [\"1\", \"2\", missing, \"4\"], parse it so that strings are converted to numbers and the missing value remains a missing value."
   ]
  },
  {
   "cell_type": "code",
   "execution_count": 21,
   "id": "0e2e0c18-11eb-47fa-bc81-8c28489a6063",
   "metadata": {},
   "outputs": [
    {
     "data": {
      "text/plain": [
       "4-element Vector{Union{Missing, String}}:\n",
       " \"1\"\n",
       " \"2\"\n",
       " missing\n",
       " \"4\""
      ]
     },
     "execution_count": 21,
     "metadata": {},
     "output_type": "execute_result"
    }
   ],
   "source": [
    "v = [\"1\", \"2\", missing, \"4\"]"
   ]
  },
  {
   "cell_type": "code",
   "execution_count": 26,
   "id": "6174fa90-675b-40dd-bfe2-9698d6a7ea97",
   "metadata": {},
   "outputs": [
    {
     "data": {
      "text/plain": [
       "(::Missings.PassMissing{typeof(string)}) (generic function with 2 methods)"
      ]
     },
     "execution_count": 26,
     "metadata": {},
     "output_type": "execute_result"
    }
   ],
   "source": [
    "missing_string = passmissing(string)"
   ]
  },
  {
   "cell_type": "code",
   "execution_count": 27,
   "id": "37b74996-318d-4fe8-815f-3d7095f9a865",
   "metadata": {},
   "outputs": [
    {
     "data": {
      "text/plain": [
       "4-element Vector{Union{Missing, String}}:\n",
       " \"1\"\n",
       " \"2\"\n",
       " missing\n",
       " \"4\""
      ]
     },
     "execution_count": 27,
     "metadata": {},
     "output_type": "execute_result"
    }
   ],
   "source": [
    "missing_string.(v)"
   ]
  },
  {
   "cell_type": "markdown",
   "id": "c5d28efa-e1bc-4883-a519-28afa75f566d",
   "metadata": {},
   "source": [
    "### Getting time-series data from the Web API\n",
    "Using what you learned in section 7.1, we will create a function that fetches the data from a single day and then apply it to all days in question. But how can we list all days in June 2020?"
   ]
  },
  {
   "cell_type": "markdown",
   "id": "e537fc94-3ef0-4d21-9a59-da5c5e654673",
   "metadata": {},
   "source": [
    "#### Working with dates in julia\n",
    "Julia has a base `Dates` package dedicated to handling dates data - load it up and get cracking."
   ]
  },
  {
   "cell_type": "code",
   "execution_count": 37,
   "id": "e08e8c3e-c94b-47d1-a79e-88cc87b34e02",
   "metadata": {},
   "outputs": [],
   "source": [
    "using Dates"
   ]
  },
  {
   "cell_type": "markdown",
   "id": "a938ce1c-55c4-4959-aefe-14500a1d3675",
   "metadata": {},
   "source": [
    "The simplest way to create a Dates object/struc it to pass some basic date in YYYY-MM-DD format as a string"
   ]
  },
  {
   "cell_type": "code",
   "execution_count": 38,
   "id": "495cd1ce-5862-42cc-8585-94c96b686841",
   "metadata": {},
   "outputs": [
    {
     "data": {
      "text/plain": [
       "1993-07-24"
      ]
     },
     "execution_count": 38,
     "metadata": {},
     "output_type": "execute_result"
    }
   ],
   "source": [
    "my_birthday = Date(\"1993-07-24\")"
   ]
  },
  {
   "cell_type": "markdown",
   "id": "4d765765-1114-4057-a90e-f1757ef8c093",
   "metadata": {},
   "source": [
    "This date variable is a specific type now - a 'Date', and it contains fields which can be independently accessed using other functions "
   ]
  },
  {
   "cell_type": "code",
   "execution_count": 40,
   "id": "bf6fb4e3-867d-4173-bf72-528c37ab6639",
   "metadata": {},
   "outputs": [
    {
     "data": {
      "text/plain": [
       "Date"
      ]
     },
     "execution_count": 40,
     "metadata": {},
     "output_type": "execute_result"
    }
   ],
   "source": [
    "typeof(my_birthday)"
   ]
  },
  {
   "cell_type": "code",
   "execution_count": 51,
   "id": "1d484453-18a6-4b88-a0d8-0788da6229a4",
   "metadata": {},
   "outputs": [
    {
     "data": {
      "text/plain": [
       "24"
      ]
     },
     "execution_count": 51,
     "metadata": {},
     "output_type": "execute_result"
    }
   ],
   "source": [
    "day(my_birthday)"
   ]
  },
  {
   "cell_type": "code",
   "execution_count": 52,
   "id": "80267a3d-af25-409e-8f59-8cca1a14ff65",
   "metadata": {},
   "outputs": [
    {
     "data": {
      "text/plain": [
       "7"
      ]
     },
     "execution_count": 52,
     "metadata": {},
     "output_type": "execute_result"
    }
   ],
   "source": [
    "month(my_birthday)"
   ]
  },
  {
   "cell_type": "markdown",
   "id": "28a15e6b-b229-454c-bc23-fad1e44baeda",
   "metadata": {},
   "source": [
    "In addition to these low line functions, Dates also has other intuitive functions for getting information about the date"
   ]
  },
  {
   "cell_type": "code",
   "execution_count": 53,
   "id": "e98cc207-46a8-4e96-ab2e-3916275a52f4",
   "metadata": {},
   "outputs": [
    {
     "data": {
      "text/plain": [
       "6"
      ]
     },
     "execution_count": 53,
     "metadata": {},
     "output_type": "execute_result"
    }
   ],
   "source": [
    "dayofweek(my_birthday)"
   ]
  },
  {
   "cell_type": "code",
   "execution_count": 54,
   "id": "75b56787-61ac-4afc-a4e4-470bef5348e6",
   "metadata": {},
   "outputs": [
    {
     "data": {
      "text/plain": [
       "24"
      ]
     },
     "execution_count": 54,
     "metadata": {},
     "output_type": "execute_result"
    }
   ],
   "source": [
    "dayofmonth(my_birthday)"
   ]
  },
  {
   "cell_type": "code",
   "execution_count": 59,
   "id": "4a2b9aba-f7bb-4696-9546-95f3d2557ee0",
   "metadata": {},
   "outputs": [
    {
     "data": {
      "text/plain": [
       "\"Tuesday\""
      ]
     },
     "execution_count": 59,
     "metadata": {},
     "output_type": "execute_result"
    }
   ],
   "source": [
    "dayname(Date(\"2024-12-31\"))"
   ]
  },
  {
   "cell_type": "markdown",
   "id": "bef46841-bf86-4e6b-a1ed-52c242f21ad3",
   "metadata": {},
   "source": [
    "But what if your date strings are not in the YYYY-MM-DD format? Just specify another format with the `DateFormat` object!"
   ]
  },
  {
   "cell_type": "markdown",
   "id": "5bea2a3f-f972-4f1e-8013-1afd67e02288",
   "metadata": {},
   "source": [
    "We can also create a basic date using intergers by passing a tuple of intergers representing the year, month and date to the `Date` constructor"
   ]
  },
  {
   "cell_type": "code",
   "execution_count": 60,
   "id": "b1e5d22a-5457-4895-894b-4bfb68e47578",
   "metadata": {},
   "outputs": [
    {
     "data": {
      "text/plain": [
       "2024-02-03"
      ]
     },
     "execution_count": 60,
     "metadata": {},
     "output_type": "execute_result"
    }
   ],
   "source": [
    "Date(2024, 02, 03)"
   ]
  },
  {
   "cell_type": "markdown",
   "id": "417d9945-01a1-41c4-9406-0c488491cc27",
   "metadata": {},
   "source": [
    "Let's create a vector of a range of dates - say the whole month of july "
   ]
  },
  {
   "cell_type": "code",
   "execution_count": 65,
   "id": "fcb1c7bc-041b-45c1-832d-c999ad302e32",
   "metadata": {
    "scrolled": true
   },
   "outputs": [
    {
     "data": {
      "text/plain": [
       "31-element Vector{Date}:\n",
       " 2024-07-01\n",
       " 2024-07-02\n",
       " 2024-07-03\n",
       " 2024-07-04\n",
       " 2024-07-05\n",
       " 2024-07-06\n",
       " 2024-07-07\n",
       " 2024-07-08\n",
       " 2024-07-09\n",
       " 2024-07-10\n",
       " 2024-07-11\n",
       " 2024-07-12\n",
       " 2024-07-13\n",
       " ⋮\n",
       " 2024-07-20\n",
       " 2024-07-21\n",
       " 2024-07-22\n",
       " 2024-07-23\n",
       " 2024-07-24\n",
       " 2024-07-25\n",
       " 2024-07-26\n",
       " 2024-07-27\n",
       " 2024-07-28\n",
       " 2024-07-29\n",
       " 2024-07-30\n",
       " 2024-07-31"
      ]
     },
     "execution_count": 65,
     "metadata": {},
     "output_type": "execute_result"
    }
   ],
   "source": [
    "july_dates = Date.(2024, 07, 1:31)"
   ]
  },
  {
   "cell_type": "markdown",
   "id": "c778f017-076c-4997-8217-840cdfa8816e",
   "metadata": {},
   "source": [
    "Might seem cool, as it certainly is, to use a range like this, but what if we want something very specific e.g. all the dates between two specific days, or even more complex, every monday between specific dates, or every second monday etc etc.?\n",
    "\n",
    "Here we use two date constructors and separate them by a range, with the start and end dates on either sides, with the step size of one day! "
   ]
  },
  {
   "cell_type": "code",
   "execution_count": 68,
   "id": "5834a269-3324-4ef8-8a9b-788342aeb5d4",
   "metadata": {
    "scrolled": true
   },
   "outputs": [
    {
     "data": {
      "text/plain": [
       "47-element Vector{Date}:\n",
       " 2020-05-20\n",
       " 2020-05-21\n",
       " 2020-05-22\n",
       " 2020-05-23\n",
       " 2020-05-24\n",
       " 2020-05-25\n",
       " 2020-05-26\n",
       " 2020-05-27\n",
       " 2020-05-28\n",
       " 2020-05-29\n",
       " 2020-05-30\n",
       " 2020-05-31\n",
       " 2020-06-01\n",
       " ⋮\n",
       " 2020-06-24\n",
       " 2020-06-25\n",
       " 2020-06-26\n",
       " 2020-06-27\n",
       " 2020-06-28\n",
       " 2020-06-29\n",
       " 2020-06-30\n",
       " 2020-07-01\n",
       " 2020-07-02\n",
       " 2020-07-03\n",
       " 2020-07-04\n",
       " 2020-07-05"
      ]
     },
     "execution_count": 68,
     "metadata": {},
     "output_type": "execute_result"
    }
   ],
   "source": [
    "collect(Date(2020, 5, 20):Day(1):Date(2020, 7, 5))"
   ]
  },
  {
   "cell_type": "code",
   "execution_count": null,
   "id": "654f2c4c-a2f7-4c31-90ac-e3ddbe370042",
   "metadata": {},
   "outputs": [],
   "source": []
  },
  {
   "cell_type": "code",
   "execution_count": null,
   "id": "fea59350-5065-4059-b203-e8735b13c7e7",
   "metadata": {},
   "outputs": [],
   "source": []
  },
  {
   "cell_type": "code",
   "execution_count": null,
   "id": "b3fc32e1-bf1a-4627-a9e1-cb55c700406c",
   "metadata": {},
   "outputs": [],
   "source": []
  },
  {
   "cell_type": "code",
   "execution_count": null,
   "id": "f2b402fc-9489-4d47-8871-6d679886aaae",
   "metadata": {},
   "outputs": [],
   "source": []
  },
  {
   "cell_type": "code",
   "execution_count": null,
   "id": "3f14a04e-e7eb-40d1-a3eb-dd1bb81fea61",
   "metadata": {},
   "outputs": [],
   "source": []
  },
  {
   "cell_type": "code",
   "execution_count": null,
   "id": "2b56ea1b-5f51-4e13-95fd-1aa0e66964f2",
   "metadata": {},
   "outputs": [],
   "source": []
  },
  {
   "cell_type": "code",
   "execution_count": null,
   "id": "40cd45d1-5232-4b12-86b5-e67d0f43ccad",
   "metadata": {},
   "outputs": [],
   "source": []
  },
  {
   "cell_type": "code",
   "execution_count": null,
   "id": "0148c249-c63e-4524-92bc-d6312226df0f",
   "metadata": {},
   "outputs": [],
   "source": []
  },
  {
   "cell_type": "code",
   "execution_count": null,
   "id": "b839e860-8e0a-4d26-b36a-bed83f37c3b2",
   "metadata": {},
   "outputs": [],
   "source": []
  },
  {
   "cell_type": "code",
   "execution_count": null,
   "id": "caaeaaa4-876b-4206-995a-8fcbdcad5835",
   "metadata": {},
   "outputs": [],
   "source": []
  },
  {
   "cell_type": "code",
   "execution_count": null,
   "id": "ce14d05d-bea6-4c8d-adea-fb1eb16e7f3b",
   "metadata": {},
   "outputs": [],
   "source": []
  },
  {
   "cell_type": "code",
   "execution_count": null,
   "id": "a7596bc5-18d0-46e9-8ce9-20d4da6eb61f",
   "metadata": {},
   "outputs": [],
   "source": []
  },
  {
   "cell_type": "code",
   "execution_count": null,
   "id": "6b00eb62-ed7a-4ba9-8fce-e0924920d745",
   "metadata": {},
   "outputs": [],
   "source": []
  },
  {
   "cell_type": "code",
   "execution_count": null,
   "id": "e4b0c139-1535-4d97-923b-2136890c475d",
   "metadata": {},
   "outputs": [],
   "source": []
  },
  {
   "cell_type": "code",
   "execution_count": null,
   "id": "88eaee1b-ca83-41ad-8dcc-7ff68813e8cc",
   "metadata": {},
   "outputs": [],
   "source": []
  },
  {
   "cell_type": "markdown",
   "id": "7e96929e-ebe2-4508-80b0-748f4243ac81",
   "metadata": {},
   "source": []
  }
 ],
 "metadata": {
  "kernelspec": {
   "display_name": "Julia 1.10.3",
   "language": "julia",
   "name": "julia-1.10"
  },
  "language_info": {
   "file_extension": ".jl",
   "mimetype": "application/julia",
   "name": "julia",
   "version": "1.10.3"
  }
 },
 "nbformat": 4,
 "nbformat_minor": 5
}
