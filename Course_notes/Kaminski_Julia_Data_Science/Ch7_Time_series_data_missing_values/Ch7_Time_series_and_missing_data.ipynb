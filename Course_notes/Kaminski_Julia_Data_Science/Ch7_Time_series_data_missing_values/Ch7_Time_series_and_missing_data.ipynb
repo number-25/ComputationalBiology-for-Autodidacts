{
 "cells": [
  {
   "cell_type": "markdown",
   "id": "ab7b3ab3-80b9-4bb7-8181-e6e6535a2b0b",
   "metadata": {},
   "source": [
    "# Ch7 Notes - Handling time-series and missing data \n",
    "This chapter will introduce the idea of web scraping website data and accessing api's using HTTP, handling missing data which is often found in our scraped data, dealing with errors when the data is not available, perform basic statistical calculations, and then plot the analysed data (whilst properly handling missing values)"
   ]
  },
  {
   "cell_type": "markdown",
   "id": "2ae1425b-8748-4b09-837c-86b9b5b0eefd",
   "metadata": {},
   "source": [
    "### Api structure\n",
    "We must understand how the API requires one to make requests in order to access the data. It is typical with so called \"REST\" API's that one is required to construct a url query of the form `<api>/<sitename>/<database>/<table>/<year-identifier>/?format=json>` where the specific fields will changed based on what you're trying to retrieve e.g. the human genome database, the 39th assembly, chromosome positions. Most sites have a specification for how to do this. "
   ]
  },
  {
   "cell_type": "markdown",
   "id": "5d9fe5f7-b95d-4581-b1bc-94f4c1f00b24",
   "metadata": {},
   "source": [
    "Let's do some retrieval! We'll need the HTTP.jl package"
   ]
  },
  {
   "cell_type": "code",
   "execution_count": 3,
   "id": "e05063d1-9847-4047-ab79-9090e0f6dc6e",
   "metadata": {},
   "outputs": [],
   "source": [
    "using Pkg; using HTTP"
   ]
  },
  {
   "cell_type": "code",
   "execution_count": 6,
   "id": "098b9913-4cd2-4356-a74d-dad2aa51fabe",
   "metadata": {},
   "outputs": [
    {
     "data": {
      "text/plain": [
       "HTTP.Messages.Response:\n",
       "\"\"\"\n",
       "HTTP/1.1 200 OK\r\n",
       "Date: Fri, 28 Jun 2024 03:47:08 GMT\r\n",
       "Cache-Control: no-cache\r\n",
       "Pragma: no-cache\r\n",
       "Content-Type: application/json; charset=utf-8\r\n",
       "Expires: -1\r\n",
       "ETag: \"ZVW72VHmEFszyVJaD6HB4ZuqPBFnr2L+4FwjIJloFkk=\"\r\n",
       "Vary: Accept-Encoding\r\n",
       "Content-Encoding: gzip\r\n",
       "Transfer-Encoding: chunked\r\n",
       "\r\n",
       "{\"table\":\"A\",\"currency\":\"dolar amerykański\",\"code\":\"USD\",\"rates\":[{\"no\":\"105/A/NBP/2020\",\"effectiveDate\":\"2020-06-01\",\"mid\":3.9680}]}\"\"\""
      ]
     },
     "execution_count": 6,
     "metadata": {},
     "output_type": "execute_result"
    }
   ],
   "source": [
    "http_query = HTTP.get(\"https://api.nbp.pl/api/exchangerates/rates/a/usd/2020-06-01/?format=json\")"
   ]
  },
  {
   "cell_type": "markdown",
   "id": "a69f5a74-a314-47ab-87d6-819611f0ea51",
   "metadata": {},
   "source": [
    "Load up JSON3.jl too"
   ]
  },
  {
   "cell_type": "code",
   "execution_count": 5,
   "id": "eedfdde4-7017-467c-91d2-7d2cf01e7378",
   "metadata": {},
   "outputs": [],
   "source": [
    "using JSON3"
   ]
  },
  {
   "cell_type": "markdown",
   "id": "5d65e837-00d7-41af-b405-808824a0ed4e",
   "metadata": {},
   "source": [
    "Download the query and read the body using JSON3.read "
   ]
  },
  {
   "cell_type": "code",
   "execution_count": 7,
   "id": "88b81b7d-7c22-4d69-a0f6-2dc3f29434c6",
   "metadata": {},
   "outputs": [
    {
     "data": {
      "text/plain": [
       "JSON3.Object{Vector{UInt8}, Vector{UInt64}} with 4 entries:\n",
       "  :table    => \"A\"\n",
       "  :currency => \"dolar amerykański\"\n",
       "  :code     => \"USD\"\n",
       "  :rates    => Object[{…"
      ]
     },
     "execution_count": 7,
     "metadata": {},
     "output_type": "execute_result"
    }
   ],
   "source": [
    "json_query = JSON3.read(http_query.body) "
   ]
  },
  {
   "cell_type": "markdown",
   "id": "cfe295f1-192c-43f1-86d2-5c2b79b0d91c",
   "metadata": {},
   "source": [
    "Take a look at the http_query body to get a sense for how the data itself is stored (in bits) "
   ]
  },
  {
   "cell_type": "code",
   "execution_count": 8,
   "id": "8cdb2b21-6ace-457e-b423-8c5919ee1931",
   "metadata": {
    "scrolled": true
   },
   "outputs": [
    {
     "data": {
      "text/plain": [
       "134-element Vector{UInt8}:\n",
       " 0x7b\n",
       " 0x22\n",
       " 0x74\n",
       " 0x61\n",
       " 0x62\n",
       " 0x6c\n",
       " 0x65\n",
       " 0x22\n",
       " 0x3a\n",
       " 0x22\n",
       " 0x41\n",
       " 0x22\n",
       " 0x2c\n",
       "    ⋮\n",
       " 0x64\n",
       " 0x22\n",
       " 0x3a\n",
       " 0x33\n",
       " 0x2e\n",
       " 0x39\n",
       " 0x36\n",
       " 0x38\n",
       " 0x30\n",
       " 0x7d\n",
       " 0x5d\n",
       " 0x7d"
      ]
     },
     "execution_count": 8,
     "metadata": {},
     "output_type": "execute_result"
    }
   ],
   "source": [
    "http_query.body"
   ]
  },
  {
   "cell_type": "markdown",
   "id": "ec6d68dd-21d3-4d9a-a1dd-442cf6cf32e3",
   "metadata": {},
   "source": [
    "If we want human readable format, we can just parse is as a String using the **String()** function"
   ]
  },
  {
   "cell_type": "code",
   "execution_count": 9,
   "id": "80a133a3-38db-44f9-8e6c-310ed79d4321",
   "metadata": {},
   "outputs": [
    {
     "data": {
      "text/plain": [
       "\"{\\\"table\\\":\\\"A\\\",\\\"currency\\\":\\\"dolar amerykański\\\",\\\"code\\\":\\\"USD\\\",\\\"rates\\\":[{\\\"no\\\":\\\"105/A/NBP/2020\\\",\\\"effectiveDate\\\":\\\"2020-06-01\\\",\\\"mid\\\":3.9680}]}\""
      ]
     },
     "execution_count": 9,
     "metadata": {},
     "output_type": "execute_result"
    }
   ],
   "source": [
    "http_string = String(http_query.body)"
   ]
  },
  {
   "cell_type": "markdown",
   "id": "37f258f6-5240-4130-bda8-4f547616909c",
   "metadata": {},
   "source": [
    "**\"Calling the String constructor on Vector{UInt8} consumes the data stored in a vector. The benefit of this behavior is that the operation is very fast. The downside is that you can perform the conversion only once. After the operation, the response.body vector is empty, so calling String(response.body) again would produce an empty string (\"\").\"** --- **\"The fact that the String constructor empties the Vector{UInt8} source that is passed to it is one of the rare cases in Julia when a function mutates an object passed to it that does not have the ! suffix in its name. Therefore, it is important that you remember this exception. In our example, if you wanted to preserve the value stored in response.body, you should have copied it before passing it to the String constructor as follows: String(copy(response.body)).\"**"
   ]
  },
  {
   "cell_type": "markdown",
   "id": "5eb031ea-f19a-43c3-bec8-f0f86a7f415a",
   "metadata": {},
   "source": [
    "Now let's access the fields of our json query "
   ]
  },
  {
   "cell_type": "code",
   "execution_count": 11,
   "id": "4b601fa0-a79e-4387-ba12-d1a578602b28",
   "metadata": {},
   "outputs": [
    {
     "data": {
      "text/plain": [
       "\"USD\""
      ]
     },
     "execution_count": 11,
     "metadata": {},
     "output_type": "execute_result"
    }
   ],
   "source": [
    "json_query.code"
   ]
  },
  {
   "cell_type": "code",
   "execution_count": 18,
   "id": "d340cb24-7507-4ff8-b5cd-2e27b2781523",
   "metadata": {},
   "outputs": [
    {
     "data": {
      "text/plain": [
       "1-element JSON3.Array{JSON3.Object, Vector{UInt8}, SubArray{UInt64, 1, Vector{UInt64}, Tuple{UnitRange{Int64}}, true}}:\n",
       " {\n",
       "              \"no\": \"105/A/NBP/2020\",\n",
       "   \"effectiveDate\": \"2020-06-01\",\n",
       "             \"mid\": 3.968\n",
       "}"
      ]
     },
     "execution_count": 18,
     "metadata": {},
     "output_type": "execute_result"
    }
   ],
   "source": [
    "json_query.rates"
   ]
  },
  {
   "cell_type": "code",
   "execution_count": 21,
   "id": "c93ecd2a-4c85-4211-b210-e84f79afa4b6",
   "metadata": {},
   "outputs": [
    {
     "data": {
      "text/plain": [
       "3.968"
      ]
     },
     "execution_count": 21,
     "metadata": {},
     "output_type": "execute_result"
    }
   ],
   "source": [
    "json_query.rates[1].mid"
   ]
  },
  {
   "cell_type": "markdown",
   "id": "4e5c9fa0-1e17-4ce3-b44a-e647aa5d85f5",
   "metadata": {},
   "source": [
    "Say we know that our array only contains a single element, like the one above, instead of indexing, we can use the **only()** base function, suffixed with the name of the field we're intersted in"
   ]
  },
  {
   "cell_type": "code",
   "execution_count": 22,
   "id": "e1b6a325-efe7-4faf-b98b-c7a82d6c84e1",
   "metadata": {},
   "outputs": [
    {
     "data": {
      "text/plain": [
       "3.968"
      ]
     },
     "execution_count": 22,
     "metadata": {},
     "output_type": "execute_result"
    }
   ],
   "source": [
    "only(json_query.rates).mid"
   ]
  },
  {
   "cell_type": "markdown",
   "id": "f4c9d653-2476-4089-8ac8-888ea804104d",
   "metadata": {},
   "source": [
    "\"The only function is quite useful when writing production code, as it allows you to easily catch bugs if your data does not meet the assumptions.\""
   ]
  },
  {
   "cell_type": "markdown",
   "id": "804aef12-cf95-4c4e-9b70-75762c052a07",
   "metadata": {},
   "source": [
    "## Handling situations where an API query fails\n",
    "Let’s discuss how to handle exceptions so that they do not terminate our program if we do not want them to. For this, we use the try-catch-end block. We'll implement a try-catch-end block for when our http request fails. If it fails we will get a 'missing' value back, rather than our entire program breaking down and stalling, we can handle the error in a more deliberate fashion. Furthermore, our code will likely be embedded amongst other functions and executions which would ideally still require execution if they are not dependent on the output of the previous code, meaning we'd prefer for this to proceed."
   ]
  },
  {
   "cell_type": "code",
   "execution_count": 23,
   "id": "9819baae-4e39-41de-9c8f-5b02a16ffae8",
   "metadata": {},
   "outputs": [
    {
     "data": {
      "text/plain": [
       "3.968"
      ]
     },
     "execution_count": 23,
     "metadata": {},
     "output_type": "execute_result"
    }
   ],
   "source": [
    "query = \"https://api.nbp.pl/api/exchangerates/rates/a/usd/\" *\n",
    "               \"2020-06-01/?format=json\"\n",
    "\"https://api.nbp.pl/api/exchangerates/rates/a/usd/2020-06-01/?format=json\"\n",
    " \n",
    "try\n",
    "    response = HTTP.get(query)\n",
    "    json = JSON3.read(response.body)\n",
    "    only(json.rates).mid\n",
    "catch e\n",
    "    if e isa HTTP.ExceptionRequest.StatusError\n",
    "        missing\n",
    "    else\n",
    "        rethrow(e)\n",
    "    end\n",
    "end"
   ]
  },
  {
   "cell_type": "markdown",
   "id": "4022e226-8c7f-4042-aea0-50d1a83ab93d",
   "metadata": {},
   "source": [
    "Now for the failed request"
   ]
  },
  {
   "cell_type": "code",
   "execution_count": 26,
   "id": "a74c19dc-34fb-40fc-96cc-e414ecd0ee3f",
   "metadata": {},
   "outputs": [
    {
     "data": {
      "text/plain": [
       "missing"
      ]
     },
     "execution_count": 26,
     "metadata": {},
     "output_type": "execute_result"
    }
   ],
   "source": [
    "query = \"https://api.nbp.pl/api/exchangerates/rates/a/usd/\" *\n",
    "               \"2020-06-06/?format=json\"\n",
    "\"https://api.nbp.pl/api/exchangerates/rates/a/usd/2020-06-06/?format=json\"\n",
    " \n",
    "try\n",
    "    response = HTTP.get(query)\n",
    "    json = JSON3.read(response.body)\n",
    "    only(json.rates).mid\n",
    "catch e\n",
    "    if e isa HTTP.ExceptionRequest.StatusError\n",
    "        missing\n",
    "    else\n",
    "        rethrow(e)\n",
    "    end\n",
    "end"
   ]
  },
  {
   "cell_type": "markdown",
   "id": "e81239f0-681a-4165-80f3-ecbcb631bd7a",
   "metadata": {},
   "source": [
    "In summary, we generally wan't to reserve such try-catch blocks for exceptional circumstances, and not rely on it too much. Our focus should instead be aimed at writing robust code which minimizes error possibilities. This is a large subject"
   ]
  },
  {
   "cell_type": "markdown",
   "id": "05242419-e28e-4e90-9a0b-d35b8855073b",
   "metadata": {},
   "source": [
    "## Working with missing data \n",
    "Real life data will often have missing values within it - measurements are not always made, human error pokes it's ears up, variance is common and should be expected. For this, the specific Type `missing` is here for a reason. It is not simply 0, which has a definit value, but is unknown because it is missing - an important difference. In contrast, the `nothing` Type is used when the value is indeed nothing - which for instance may occur if we are collecting peoples favorite basketball team, and we ask someone who doesn't follow basketball, their response would be nothing.  "
   ]
  },
  {
   "cell_type": "markdown",
   "id": "6e65afa1-3a60-46fc-8d23-87bd734700b2",
   "metadata": {},
   "source": [
    "#### Propagating missing values in functions\n",
    "The concept of propogation is an important one to continually be aware of - for instance, multiplying anything by 0 will lead to the propogation of 0 in the end result, no matter what. the `missing` value also has this efffect, whereby anything added to `missing` will lead to the propogation of only `missing`, discarding everything else, including 0 itself!"
   ]
  },
  {
   "cell_type": "code",
   "execution_count": 30,
   "id": "49af82f8-cc0a-4e68-aeb5-8efebfcf2280",
   "metadata": {},
   "outputs": [
    {
     "data": {
      "text/plain": [
       "missing"
      ]
     },
     "execution_count": 30,
     "metadata": {},
     "output_type": "execute_result"
    }
   ],
   "source": [
    "1 + missing"
   ]
  },
  {
   "cell_type": "code",
   "execution_count": 31,
   "id": "a1726a9e-f36f-4d58-b382-5dc24d972fc4",
   "metadata": {},
   "outputs": [
    {
     "data": {
      "text/plain": [
       "missing"
      ]
     },
     "execution_count": 31,
     "metadata": {},
     "output_type": "execute_result"
    }
   ],
   "source": [
    "1 * missing"
   ]
  },
  {
   "cell_type": "markdown",
   "id": "af6499cd-8cfe-45b3-b844-cbccb5d0586d",
   "metadata": {},
   "source": [
    "What's really important to also keep in mind is that `missing` will ALSO be propogated to comparisons such as equals, greater, lesser"
   ]
  },
  {
   "cell_type": "code",
   "execution_count": 32,
   "id": "ddddbcae-cb43-4c8c-991f-08cfb13f58b3",
   "metadata": {},
   "outputs": [
    {
     "data": {
      "text/plain": [
       "missing"
      ]
     },
     "execution_count": 32,
     "metadata": {},
     "output_type": "execute_result"
    }
   ],
   "source": [
    "missing == 0"
   ]
  },
  {
   "cell_type": "code",
   "execution_count": 33,
   "id": "54e9607e-9593-4bde-b0dc-9b88461c06c1",
   "metadata": {},
   "outputs": [
    {
     "data": {
      "text/plain": [
       "missing"
      ]
     },
     "execution_count": 33,
     "metadata": {},
     "output_type": "execute_result"
    }
   ],
   "source": [
    "missing < 0"
   ]
  },
  {
   "cell_type": "markdown",
   "id": "c745b755-2e5d-42dc-ba5a-a74e3dc0336a",
   "metadata": {},
   "source": [
    "If we are unaware of missing values in our datasets, this can cause problems downstream is we before some row-wise operations, broadcasting etc. There is a caveat whereby only `true` will evaluate to `true` when compared to missing during a conditional"
   ]
  },
  {
   "cell_type": "code",
   "execution_count": 36,
   "id": "d789868a-413f-42d5-88ea-828922d3abbe",
   "metadata": {},
   "outputs": [
    {
     "data": {
      "text/plain": [
       "true"
      ]
     },
     "execution_count": 36,
     "metadata": {},
     "output_type": "execute_result"
    }
   ],
   "source": [
    "true | missing "
   ]
  },
  {
   "cell_type": "markdown",
   "id": "a9a6dcb0-8b0e-4372-afdd-900bc6c5b52c",
   "metadata": {},
   "source": [
    "**\"\n",
    "The design of handling missing in Julia requires you to explicitly decide whether missing should be treated as true or false. This is achieved with the coalesce function, which you might know from SQL (http://mng.bz/BZ1r). Its definition is simple: coalesce returns its first nonmissing positional argument, or missing if all its arguments are missing.\n",
    "\"**"
   ]
  },
  {
   "cell_type": "markdown",
   "id": "69db5789-7344-43eb-ba13-6b00612df990",
   "metadata": {},
   "source": [
    "\"The use of coalesce is most common with handling logical conditions. If you write coalesce(condition, true), you say that if the condition evaluates to missing, you want this missing to be treated as true. Similarly, coalesce(condition, false) means that you want to treat missing as false. Here is an example:\""
   ]
  },
  {
   "cell_type": "code",
   "execution_count": 37,
   "id": "ce09f940-a4d7-42c5-bbcd-116c7843e754",
   "metadata": {},
   "outputs": [
    {
     "data": {
      "text/plain": [
       "true"
      ]
     },
     "execution_count": 37,
     "metadata": {},
     "output_type": "execute_result"
    }
   ],
   "source": [
    "coalesce(missing, true)"
   ]
  },
  {
   "cell_type": "code",
   "execution_count": 38,
   "id": "1053355c-60c9-45ba-a9b3-a54d826cbb21",
   "metadata": {},
   "outputs": [
    {
     "data": {
      "text/plain": [
       "4-element Vector{Integer}:\n",
       "    1\n",
       " true\n",
       "    3\n",
       "    1"
      ]
     },
     "execution_count": 38,
     "metadata": {},
     "output_type": "execute_result"
    }
   ],
   "source": [
    "coalesce.([1, missing, 3, true], true)"
   ]
  },
  {
   "cell_type": "markdown",
   "id": "96607ca6-f7ae-4488-847f-8056cec7e4f7",
   "metadata": {},
   "source": [
    "The function essentially specifies how julia will treat missing values - whether we want them to evaluate as `true` or `false` when they are encountered. The other option is that they are propogated and returned as missing!\n"
   ]
  },
  {
   "cell_type": "markdown",
   "id": "b36d1b9b-8017-48f5-999d-6eab1ab76448",
   "metadata": {},
   "source": [
    "If we want to perform comparisons in the sense of equals, less/greater than, we can use the functions `isequal()`, `isless()` which will return true or false values. As a rule of thumb, `missing` values are ALWAYS greater than any numbers. "
   ]
  },
  {
   "cell_type": "code",
   "execution_count": 39,
   "id": "979163a6-6e36-49de-99f6-5f54392e18fd",
   "metadata": {},
   "outputs": [
    {
     "data": {
      "text/plain": [
       "true"
      ]
     },
     "execution_count": 39,
     "metadata": {},
     "output_type": "execute_result"
    }
   ],
   "source": [
    "isless(4, missing)"
   ]
  },
  {
   "cell_type": "code",
   "execution_count": 40,
   "id": "479c8f6a-0d0e-4364-9a0f-74f37b9239a3",
   "metadata": {},
   "outputs": [
    {
     "data": {
      "text/plain": [
       "true"
      ]
     },
     "execution_count": 40,
     "metadata": {},
     "output_type": "execute_result"
    }
   ],
   "source": [
    "isequal(missing,missing)"
   ]
  },
  {
   "cell_type": "code",
   "execution_count": null,
   "id": "aba153bf-456e-4bfb-b97e-68d023cfa12b",
   "metadata": {},
   "outputs": [],
   "source": []
  },
  {
   "cell_type": "code",
   "execution_count": null,
   "id": "f115fd00-d1fc-41b0-8144-835735e1814c",
   "metadata": {},
   "outputs": [],
   "source": []
  },
  {
   "cell_type": "code",
   "execution_count": null,
   "id": "026d9f8a-8f1d-40a9-a511-6cb470cf293e",
   "metadata": {},
   "outputs": [],
   "source": []
  },
  {
   "cell_type": "code",
   "execution_count": null,
   "id": "4a4a8b41-a064-465f-9c1e-34b691059ca0",
   "metadata": {},
   "outputs": [],
   "source": []
  },
  {
   "cell_type": "code",
   "execution_count": null,
   "id": "c6de3b2b-e97e-42d1-ade1-6e80a80f7aad",
   "metadata": {},
   "outputs": [],
   "source": []
  },
  {
   "cell_type": "code",
   "execution_count": null,
   "id": "e4b0c139-1535-4d97-923b-2136890c475d",
   "metadata": {},
   "outputs": [],
   "source": []
  },
  {
   "cell_type": "code",
   "execution_count": null,
   "id": "88eaee1b-ca83-41ad-8dcc-7ff68813e8cc",
   "metadata": {},
   "outputs": [],
   "source": []
  },
  {
   "cell_type": "markdown",
   "id": "7e96929e-ebe2-4508-80b0-748f4243ac81",
   "metadata": {},
   "source": []
  }
 ],
 "metadata": {
  "kernelspec": {
   "display_name": "Julia 1.10.0",
   "language": "julia",
   "name": "julia-1.10"
  },
  "language_info": {
   "file_extension": ".jl",
   "mimetype": "application/julia",
   "name": "julia",
   "version": "1.10.0"
  }
 },
 "nbformat": 4,
 "nbformat_minor": 5
}
