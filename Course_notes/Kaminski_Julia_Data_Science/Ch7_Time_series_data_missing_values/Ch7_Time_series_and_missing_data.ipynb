{
 "cells": [
  {
   "cell_type": "markdown",
   "id": "ab7b3ab3-80b9-4bb7-8181-e6e6535a2b0b",
   "metadata": {},
   "source": [
    "# Ch7 Notes - Handling time-series and missing data "
   ]
  },
  {
   "cell_type": "code",
   "execution_count": null,
   "id": "bc1cadfd-5301-458c-9131-5e2948c64891",
   "metadata": {},
   "outputs": [],
   "source": []
  },
  {
   "cell_type": "code",
   "execution_count": null,
   "id": "cd868e9b-53b5-4c39-b1a3-3b33badb9578",
   "metadata": {},
   "outputs": [],
   "source": []
  },
  {
   "cell_type": "code",
   "execution_count": null,
   "id": "88b81b7d-7c22-4d69-a0f6-2dc3f29434c6",
   "metadata": {},
   "outputs": [],
   "source": []
  },
  {
   "cell_type": "code",
   "execution_count": null,
   "id": "94defad4-1a56-47a4-8033-a06737ac93d0",
   "metadata": {},
   "outputs": [],
   "source": []
  },
  {
   "cell_type": "code",
   "execution_count": null,
   "id": "d340cb24-7507-4ff8-b5cd-2e27b2781523",
   "metadata": {},
   "outputs": [],
   "source": []
  },
  {
   "cell_type": "code",
   "execution_count": null,
   "id": "c93ecd2a-4c85-4211-b210-e84f79afa4b6",
   "metadata": {},
   "outputs": [],
   "source": []
  },
  {
   "cell_type": "code",
   "execution_count": null,
   "id": "6cc53857-fc70-4417-b5db-ece53b037076",
   "metadata": {},
   "outputs": [],
   "source": []
  },
  {
   "cell_type": "code",
   "execution_count": null,
   "id": "026d9f8a-8f1d-40a9-a511-6cb470cf293e",
   "metadata": {},
   "outputs": [],
   "source": []
  },
  {
   "cell_type": "code",
   "execution_count": null,
   "id": "4a4a8b41-a064-465f-9c1e-34b691059ca0",
   "metadata": {},
   "outputs": [],
   "source": []
  },
  {
   "cell_type": "code",
   "execution_count": null,
   "id": "c6de3b2b-e97e-42d1-ade1-6e80a80f7aad",
   "metadata": {},
   "outputs": [],
   "source": []
  },
  {
   "cell_type": "code",
   "execution_count": null,
   "id": "e4b0c139-1535-4d97-923b-2136890c475d",
   "metadata": {},
   "outputs": [],
   "source": []
  },
  {
   "cell_type": "code",
   "execution_count": null,
   "id": "88eaee1b-ca83-41ad-8dcc-7ff68813e8cc",
   "metadata": {},
   "outputs": [],
   "source": []
  }
 ],
 "metadata": {
  "kernelspec": {
   "display_name": "Julia 1.10.3",
   "language": "julia",
   "name": "julia-1.10"
  },
  "language_info": {
   "file_extension": ".jl",
   "mimetype": "application/julia",
   "name": "julia",
   "version": "1.10.3"
  }
 },
 "nbformat": 4,
 "nbformat_minor": 5
}
