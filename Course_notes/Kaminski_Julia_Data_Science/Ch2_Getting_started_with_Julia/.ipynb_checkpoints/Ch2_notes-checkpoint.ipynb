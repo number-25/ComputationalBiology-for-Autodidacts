{
 "cells": [
  {
   "cell_type": "markdown",
   "id": "e8870dfa-b685-430d-9332-b97445f9a5f8",
   "metadata": {},
   "source": [
    "# Chapter/Part 2 Notes - Getting started with Julia\n",
    "This chapter, whilst being very elementary, is actually a terrific refresher on Julia for those who see themselves as somewhat seasoned"
   ]
  },
  {
   "cell_type": "markdown",
   "id": "9d559aa1-b25d-4baf-b8da-913fe4d2b9af",
   "metadata": {},
   "source": [
    "See the bit representation of a values using **bitstring()**"
   ]
  },
  {
   "cell_type": "code",
   "execution_count": 1,
   "id": "9dc59b85-7f60-4a75-98e6-617087aa031b",
   "metadata": {},
   "outputs": [
    {
     "data": {
      "text/plain": [
       "\"0000000000000000000000000000000000000000000000000000000000000001\""
      ]
     },
     "execution_count": 1,
     "metadata": {},
     "output_type": "execute_result"
    }
   ],
   "source": [
    "bitstring(1)"
   ]
  },
  {
   "cell_type": "markdown",
   "id": "b81366dc-6cc3-46ca-8189-aee233a4ecce",
   "metadata": {},
   "source": [
    "A vector in julia is a one dimensional array - it would be defined as `Array{Int, 1}` whereby the parenthesis indicate the type followed by the dimensions - in the row, cols format"
   ]
  },
  {
   "cell_type": "code",
   "execution_count": 3,
   "id": "bac62a6c-daf5-475f-b2a9-e61758737206",
   "metadata": {},
   "outputs": [
    {
     "data": {
      "text/plain": [
       "Vector{Int64}\u001b[90m (alias for \u001b[39m\u001b[90mArray{Int64, 1}\u001b[39m\u001b[90m)\u001b[39m"
      ]
     },
     "execution_count": 3,
     "metadata": {},
     "output_type": "execute_result"
    }
   ],
   "source": [
    "vec = [1, 2, 3] ; typeof(vec)"
   ]
  },
  {
   "cell_type": "code",
   "execution_count": 6,
   "id": "cde44d46-27a6-40d1-833f-038339edaf01",
   "metadata": {},
   "outputs": [
    {
     "data": {
      "text/plain": [
       "true"
      ]
     },
     "execution_count": 6,
     "metadata": {},
     "output_type": "execute_result"
    }
   ],
   "source": [
    "# This should tell us true\n",
    "isa(vec, Array)"
   ]
  },
  {
   "cell_type": "markdown",
   "id": "4aae2bd1-ae11-42fc-8b21-04c30e2b7c0a",
   "metadata": {},
   "source": [
    "Be careful when binding variables to other variables, for the modification of one will propagate to the other and also change it. What you want to do instead is perform a **copy()** or a **deepcopy** - the differences between them being the physical allocation of the deepcopy is different, so an equivalence evalution will come up as false as they are in fact \"different\" entities in an ontological sense even though they may have equal values. E.g. you and I are both humans but are not copies of one another. A bit of a tickly subject but I believe it becomes more relevant when handling memory strictly etc. "
   ]
  },
  {
   "cell_type": "markdown",
   "id": "09ff93f5-803e-467a-9d33-15d602e4a6bd",
   "metadata": {},
   "source": [
    "Due to round off error in floating point numbers, `1.0 + 2.0 = 3.0` is going to be evaluated as false. Technically we cannot put a truth statement to this as floats are approximiations of intergers and so they are only precise to a certain decimal place, and so using them in our code like this is bound to cause errors. I we insist on using floats, we can use the **isapprox()** function to evaluate the statement. We can provide arguments to the function indicating the level of precision we're after"
   ]
  },
  {
   "cell_type": "code",
   "execution_count": 7,
   "id": "8a540403-5587-474a-a1ae-f6dd04547895",
   "metadata": {},
   "outputs": [
    {
     "data": {
      "text/plain": [
       "true"
      ]
     },
     "execution_count": 7,
     "metadata": {},
     "output_type": "execute_result"
    }
   ],
   "source": [
    "isapprox(1.0 + 2.0, 3.0)"
   ]
  },
  {
   "cell_type": "markdown",
   "id": "68f237f8-dfc8-4a39-9d05-665417c19a4b",
   "metadata": {},
   "source": [
    "## Ternary operator\n",
    "The ternary operator is super handy for creating concise statements and evaluating conditions within creating an explicit loop. The basic structure of the ternary is `x > y ? println(\"x is greater than y\") : println(\"x is less than or equal to y\")` - the combination of **?** and **:** with the else statement"
   ]
  },
  {
   "cell_type": "code",
   "execution_count": 8,
   "id": "52552ab7-a48e-4553-b831-7d9dc7429d3f",
   "metadata": {},
   "outputs": [
    {
     "name": "stdout",
     "output_type": "stream",
     "text": [
      "x is less than or equal to y\n"
     ]
    }
   ],
   "source": [
    "x, y = 5, 6 \n",
    "x > y ? println(\"x is greater than y\") : println(\"x is less than or equal to y\")"
   ]
  },
  {
   "cell_type": "markdown",
   "id": "eb2f1694-70c0-4925-ba7f-1ec5feb42922",
   "metadata": {},
   "source": [
    "Something which eluded me all this time is the ability to assign variables to the outcome of a conditional statement - for instance, assign to y the outcome of an if-else statement. "
   ]
  },
  {
   "cell_type": "code",
   "execution_count": 14,
   "id": "407cef80-148d-4f06-856f-49ddfe9a6414",
   "metadata": {},
   "outputs": [
    {
     "data": {
      "text/plain": [
       "3.872983346207417"
      ]
     },
     "execution_count": 14,
     "metadata": {},
     "output_type": "execute_result"
    }
   ],
   "source": [
    "z = 15\n",
    "y = if z % 3 == 0 \n",
    "        sqrt(z)\n",
    "    else\n",
    "        sqrt(-z)\n",
    "end "
   ]
  },
  {
   "cell_type": "markdown",
   "id": "a98d3a39-84bf-4f7d-9d7a-e763ad068b97",
   "metadata": {},
   "source": [
    "Using the ternary operator this would be condensed too "
   ]
  },
  {
   "cell_type": "code",
   "execution_count": 15,
   "id": "9cc19cb1-a65e-4bb0-a158-1c251e9783f0",
   "metadata": {},
   "outputs": [
    {
     "data": {
      "text/plain": [
       "3.872983346207417"
      ]
     },
     "execution_count": 15,
     "metadata": {},
     "output_type": "execute_result"
    }
   ],
   "source": [
    "y = z % 3 == 0 ? sqrt(z) : sqrt(-z) "
   ]
  },
  {
   "cell_type": "markdown",
   "id": "807e55e7-8d26-4e23-8f55-d16d6e20d6bf",
   "metadata": {},
   "source": [
    "We can even cleverly embed the ternary operator within a loop, in the println() block "
   ]
  },
  {
   "cell_type": "code",
   "execution_count": 16,
   "id": "a4dbdb33-f1cc-435b-9ac5-be6c45f39597",
   "metadata": {},
   "outputs": [
    {
     "name": "stdout",
     "output_type": "stream",
     "text": [
      "1 is odd\n",
      "2 is even\n",
      "3 is odd\n"
     ]
    }
   ],
   "source": [
    "for i in [1, 2, 3]\n",
    "    println(i, \" is \", isodd(i) ? \"odd\" : \"even\")\n",
    "end"
   ]
  },
  {
   "cell_type": "markdown",
   "id": "5ad81038-ad8d-42ce-8d1d-c93d4359b18e",
   "metadata": {},
   "source": [
    "Now using a while loop - this helps to avoid infinite regress "
   ]
  },
  {
   "cell_type": "code",
   "execution_count": 18,
   "id": "dc8c3d6d-ad1f-4c8c-ba48-785911171de3",
   "metadata": {},
   "outputs": [
    {
     "name": "stdout",
     "output_type": "stream",
     "text": [
      "0 is even\n",
      "1 is odd\n",
      "2 is even\n",
      "3 is odd\n"
     ]
    }
   ],
   "source": [
    "i = 0\n",
    "while i < 4\n",
    "    println(i, \" is \", isodd(i) ? \"odd\" : \"even\")\n",
    "    global i += 1\n",
    "end"
   ]
  },
  {
   "cell_type": "markdown",
   "id": "151c0931-84ec-4595-873f-5e53dd0ea180",
   "metadata": {},
   "source": [
    "The *continiue* and *break* statements will either skip an iteration of the current object if it doesn't meet a certain condition, proceeding onto the next element, or it will break the whole loop and finish the evaluation"
   ]
  },
  {
   "cell_type": "code",
   "execution_count": 19,
   "id": "59540613-2579-4f58-9230-54aa3bb93056",
   "metadata": {},
   "outputs": [
    {
     "name": "stdout",
     "output_type": "stream",
     "text": [
      "6 is even\n"
     ]
    }
   ],
   "source": [
    "while true\n",
    "    global i += 1\n",
    "    i > 6 && break\n",
    "    isodd(i) && continue\n",
    "    println(i, \" is even\")\n",
    "end"
   ]
  },
  {
   "cell_type": "markdown",
   "id": "f6865980-6b47-4d7c-8fa3-a1bb7b7d9c08",
   "metadata": {},
   "source": [
    "\"Observe that we write while true to set up the loop. Since this condition is always true, unless we have another means to interrupt the loop, it would run infinitely many times. This is exactly what the break keyword achieves.\""
   ]
  },
  {
   "cell_type": "markdown",
   "id": "0e3364f4-bdb0-477f-8ae5-0f063ac883e0",
   "metadata": {},
   "source": [
    "## Compound expressions\n",
    "Compound expressions, as the name hints at are several expressioned compounded and wrapped together. We do create them either using begin-end blocks, or using the semicolon ; , the latter being slicker and smaller but sometimes less obvious. "
   ]
  },
  {
   "cell_type": "markdown",
   "id": "9d5d4903-3042-409e-9a86-aee5e8893ec1",
   "metadata": {},
   "source": [
    "Let's try a begin block - notice that since the begin block is within a conditional, if the first part of the condition is not met then the expression won't be executed"
   ]
  },
  {
   "cell_type": "code",
   "execution_count": 27,
   "id": "f48a7f66-16e9-419a-8109-09b0c0dfe2df",
   "metadata": {},
   "outputs": [
    {
     "name": "stdout",
     "output_type": "stream",
     "text": [
      "4\n",
      "5\n"
     ]
    },
    {
     "data": {
      "text/plain": [
       "10"
      ]
     },
     "execution_count": 27,
     "metadata": {},
     "output_type": "execute_result"
    }
   ],
   "source": [
    "x = 4\n",
    "x < 5 && begin \n",
    "    println(x)\n",
    "    x += 1 \n",
    "    println(x)\n",
    "    x * 2\n",
    "end "
   ]
  },
  {
   "cell_type": "markdown",
   "id": "0ff500df-3359-4d24-984a-22f8d5f996e3",
   "metadata": {},
   "source": [
    "The same thing chained using *;* "
   ]
  },
  {
   "cell_type": "code",
   "execution_count": 29,
   "id": "e85f2b1f-8b6e-4963-9cbc-bbec6311f5da",
   "metadata": {},
   "outputs": [
    {
     "name": "stdout",
     "output_type": "stream",
     "text": [
      "4\n",
      "5\n"
     ]
    },
    {
     "data": {
      "text/plain": [
       "10"
      ]
     },
     "execution_count": 29,
     "metadata": {},
     "output_type": "execute_result"
    }
   ],
   "source": [
    "x = 4 ; x < 5 ; println(x) ; x +=1 ; println(x) ; x * 2 "
   ]
  },
  {
   "cell_type": "markdown",
   "id": "c8ffe73f-f4ef-4eec-baf6-d41d9f7b3112",
   "metadata": {},
   "source": [
    "Here is an example of combining chaining with the ternary operator - pay attention to the parenthesis "
   ]
  },
  {
   "cell_type": "code",
   "execution_count": 34,
   "id": "18f85112-42f4-4db9-90cf-e90c70724f49",
   "metadata": {},
   "outputs": [
    {
     "name": "stdout",
     "output_type": "stream",
     "text": [
      "6\n"
     ]
    }
   ],
   "source": [
    "x = 2 ; x > 3 ? println(x) : (x += 1 ; println(x * 2)) "
   ]
  },
  {
   "cell_type": "markdown",
   "id": "39c3e1ed-e63a-4bfb-aec0-e3fbc63ab537",
   "metadata": {},
   "source": [
    "## Creating the function - windsorized mean"
   ]
  },
  {
   "cell_type": "markdown",
   "id": "13dc0c37-8dca-4fa5-91d6-e351d635191a",
   "metadata": {},
   "source": [
    "#### Input data - basic array of numbers"
   ]
  },
  {
   "cell_type": "code",
   "execution_count": 1,
   "id": "d0a69711-eabf-49c2-a444-edd3bb17e1d4",
   "metadata": {},
   "outputs": [
    {
     "data": {
      "text/plain": [
       "13-element Vector{Int64}:\n",
       "  12\n",
       "  13\n",
       "  11\n",
       "   9\n",
       " 444\n",
       " 213\n",
       "  33\n",
       " 120\n",
       " 330\n",
       " 129\n",
       "  78\n",
       " 300\n",
       "  55"
      ]
     },
     "execution_count": 1,
     "metadata": {},
     "output_type": "execute_result"
    }
   ],
   "source": [
    "inputarray = [12, 13, 11, 9, 444, 213, 33, 120, 330, 129, 78, 300, 55]"
   ]
  },
  {
   "cell_type": "markdown",
   "id": "85cf4f64-b914-4605-87aa-d3446e7afebe",
   "metadata": {},
   "source": [
    "Sort the array"
   ]
  },
  {
   "cell_type": "code",
   "execution_count": 3,
   "id": "35ff3202-d9bc-468d-bb3f-5ebed06dc04b",
   "metadata": {
    "scrolled": true
   },
   "outputs": [
    {
     "data": {
      "text/plain": [
       "13-element Vector{Int64}:\n",
       "   9\n",
       "  11\n",
       "  12\n",
       "  13\n",
       "  33\n",
       "  55\n",
       "  78\n",
       " 120\n",
       " 129\n",
       " 213\n",
       " 300\n",
       " 330\n",
       " 444"
      ]
     },
     "execution_count": 3,
     "metadata": {},
     "output_type": "execute_result"
    }
   ],
   "source": [
    "sort!(inputarray)"
   ]
  },
  {
   "cell_type": "code",
   "execution_count": null,
   "id": "7733f34c-9b76-4be7-af67-68c2013b935d",
   "metadata": {
    "scrolled": true
   },
   "outputs": [],
   "source": [
    "y = inputarray "
   ]
  },
  {
   "cell_type": "markdown",
   "id": "be4154c3-b167-49ad-8c94-a48a28278f0c",
   "metadata": {},
   "source": [
    "Replace *k* smallest values by the *k + 1* smallest value in vector y by using a loop. Similarly, replace *k* largest values by the *k + 1* largest value. \n",
    "For example, if *k=3*, and y = 1,2,3,4,6,7,8,9,10,11, we would take the 3 smallest values, namely, 1,2,3, and replace them by 3 + 1 smallest value, this would be 4. On the other end, we would replace 9,10,11 with 12. This would create the vector, 4,4,4,4,6,7,8,8,8,8 giving us a mean of "
   ]
  },
  {
   "cell_type": "code",
   "execution_count": 8,
   "id": "db83732f-de00-45eb-8863-e634477221aa",
   "metadata": {},
   "outputs": [],
   "source": [
    "using StatsBase"
   ]
  },
  {
   "cell_type": "code",
   "execution_count": 107,
   "id": "a92ce0e1-ef6e-49e5-85d0-14c12f1f3a6b",
   "metadata": {},
   "outputs": [
    {
     "data": {
      "text/plain": [
       "11-element Vector{Int64}:\n",
       "  1\n",
       "  2\n",
       "  3\n",
       "  4\n",
       "  5\n",
       "  6\n",
       "  7\n",
       "  8\n",
       "  9\n",
       " 10\n",
       " 11"
      ]
     },
     "execution_count": 107,
     "metadata": {},
     "output_type": "execute_result"
    }
   ],
   "source": [
    "q = collect(1:11)"
   ]
  },
  {
   "cell_type": "code",
   "execution_count": 26,
   "id": "56387628-84a5-48fc-b5d3-9e0ad2fc6ece",
   "metadata": {},
   "outputs": [
    {
     "data": {
      "text/plain": [
       "6.0"
      ]
     },
     "execution_count": 26,
     "metadata": {},
     "output_type": "execute_result"
    }
   ],
   "source": [
    "mean(q)"
   ]
  },
  {
   "cell_type": "code",
   "execution_count": 31,
   "id": "06411305-4047-496f-8f04-f54ec1de860a",
   "metadata": {},
   "outputs": [
    {
     "data": {
      "text/plain": [
       "11-element Vector{Int64}:\n",
       " 4\n",
       " 4\n",
       " 4\n",
       " 4\n",
       " 5\n",
       " 6\n",
       " 7\n",
       " 8\n",
       " 8\n",
       " 8\n",
       " 8"
      ]
     },
     "execution_count": 31,
     "metadata": {},
     "output_type": "execute_result"
    }
   ],
   "source": [
    "qq = [4,4,4,4,5,6,7,8,8,8,8]"
   ]
  },
  {
   "cell_type": "code",
   "execution_count": 32,
   "id": "96239d2e-f695-473d-a32f-456fd008c094",
   "metadata": {},
   "outputs": [
    {
     "data": {
      "text/plain": [
       "6.0"
      ]
     },
     "execution_count": 32,
     "metadata": {},
     "output_type": "execute_result"
    }
   ],
   "source": [
    "mean(qq)"
   ]
  },
  {
   "cell_type": "code",
   "execution_count": 37,
   "id": "082493e5-a5a1-4e52-b2f4-ad26eaa529d0",
   "metadata": {},
   "outputs": [
    {
     "data": {
      "text/plain": [
       "3"
      ]
     },
     "execution_count": 37,
     "metadata": {},
     "output_type": "execute_result"
    }
   ],
   "source": [
    "k = 3"
   ]
  },
  {
   "cell_type": "code",
   "execution_count": 52,
   "id": "5dcd344f-e667-49f0-8564-d892a8c2c581",
   "metadata": {},
   "outputs": [
    {
     "data": {
      "text/plain": [
       "4-element Vector{Int64}:\n",
       " 4\n",
       " 5\n",
       " 6\n",
       " 7"
      ]
     },
     "execution_count": 52,
     "metadata": {},
     "output_type": "execute_result"
    }
   ],
   "source": [
    "q[(k+1):(end-4)]"
   ]
  },
  {
   "cell_type": "markdown",
   "id": "389a65fe-5fa5-41bd-9f07-633ba14d4b86",
   "metadata": {},
   "source": [
    "#### Create the function! - my insane first attempt - look at how many lines of code this is! laughable!"
   ]
  },
  {
   "cell_type": "code",
   "execution_count": 78,
   "id": "a2128d57-6345-4747-91cc-aa496620645e",
   "metadata": {},
   "outputs": [
    {
     "data": {
      "text/plain": [
       "winsorised (generic function with 1 method)"
      ]
     },
     "execution_count": 78,
     "metadata": {},
     "output_type": "execute_result"
    }
   ],
   "source": [
    "function winsorised(vector::Vector, k::Int) \n",
    "    y = sort!(vector)\n",
    "    veclength = length(y)\n",
    "    middle_vec = y[(k+1):(end-3)]\n",
    "    small_k = y[k+1] \n",
    "    large_k = y[end-(k)] \n",
    "    newvec = []\n",
    "    for i in 1:k \n",
    "        push!(newvec, small_k)\n",
    "    end \n",
    "    for i in middle_vec\n",
    "        push!(newvec, i)\n",
    "    end \n",
    "    for i in 1:k \n",
    "        push!(newvec, large_k)\n",
    "    end \n",
    "    mean(newvec)\n",
    "end "
   ]
  },
  {
   "cell_type": "code",
   "execution_count": 80,
   "id": "9b97e2a5-d458-485c-897b-13499849a673",
   "metadata": {},
   "outputs": [
    {
     "data": {
      "text/plain": [
       "101.46153846153847"
      ]
     },
     "execution_count": 80,
     "metadata": {},
     "output_type": "execute_result"
    }
   ],
   "source": [
    "winsorised(inputarray, 3)"
   ]
  },
  {
   "cell_type": "markdown",
   "id": "2c590611-92a2-48de-8b6f-88a143484816",
   "metadata": {},
   "source": [
    "#### My modified second attempt after having a peep at Bogumils example"
   ]
  },
  {
   "cell_type": "code",
   "execution_count": 108,
   "id": "e3b13ba8-eba2-42ce-a115-91c1ee0e5dbd",
   "metadata": {},
   "outputs": [
    {
     "data": {
      "text/plain": [
       "winzy (generic function with 2 methods)"
      ]
     },
     "execution_count": 108,
     "metadata": {},
     "output_type": "execute_result"
    }
   ],
   "source": [
    "function winzy(y, k)\n",
    "    for i in 1:k \n",
    "        y[i] = y[k] + 1 \n",
    "        y[end-i + 1] = y[end-k] \n",
    "    end\n",
    "    mean(y)\n",
    "end "
   ]
  },
  {
   "cell_type": "code",
   "execution_count": null,
   "id": "5a90536a-6edb-47ef-a311-97120401160c",
   "metadata": {},
   "outputs": [],
   "source": [
    "winzy(q, k)"
   ]
  },
  {
   "cell_type": "markdown",
   "id": "8ba96c88-a279-4726-b746-3e173296a233",
   "metadata": {},
   "source": [
    "Answer is 6.0 as expected "
   ]
  },
  {
   "cell_type": "markdown",
   "id": "a228a1e2-cff5-4c1c-9548-91ce79cfe0f4",
   "metadata": {},
   "source": [
    "Key take away is not to rush ahead, to thinking through functions.... and not to be arrogant"
   ]
  },
  {
   "cell_type": "markdown",
   "id": "474e0a25-e4c8-4604-a7c9-ac718b4afe19",
   "metadata": {},
   "source": [
    "## Positional and keyword arguments\n",
    "When defining functions, we may specify which sort of arguments are required to be provided to the execute the function (if any) - these take two general forms. 1) Positional arguments are those that both provided by the user, and those which cannot change, and keyword arguments, when often have defaults in the function definition, but can also be different based upon the user provided values. In the case of a function which three open positional arguments, the user must provide all three to allow execution. If say, the third argument, had a default value, it would only requre the user to provide at minimum the first two arguments. Remember, since the argument is positional, it cannot be changed IF it has a default value. On the other hand, keyword arguments can have both defaults, and can also be modified by the user from these defaults if they are present. A bit of a tirade no.. let's see some examples"
   ]
  },
  {
   "cell_type": "markdown",
   "id": "dc0cde9a-917e-4dfd-941a-780b593fb26b",
   "metadata": {},
   "source": [
    "Three positional arguments, no defaults"
   ]
  },
  {
   "cell_type": "code",
   "execution_count": 110,
   "id": "5dc24688-c98a-4b8f-84ac-829a919bdb48",
   "metadata": {},
   "outputs": [
    {
     "data": {
      "text/plain": [
       "positionalone (generic function with 1 method)"
      ]
     },
     "execution_count": 110,
     "metadata": {},
     "output_type": "execute_result"
    }
   ],
   "source": [
    "function positionalone(x, y, z)\n",
    "end "
   ]
  },
  {
   "cell_type": "markdown",
   "id": "9cfb2ad3-69d8-4f09-b910-d69bd3fc3831",
   "metadata": {},
   "source": [
    "Three positional arguments, one default which cannot be changed by the user"
   ]
  },
  {
   "cell_type": "code",
   "execution_count": 111,
   "id": "582b9ff0-9b02-4d5a-92e3-97bed31938e1",
   "metadata": {},
   "outputs": [
    {
     "data": {
      "text/plain": [
       "positionaltwo (generic function with 2 methods)"
      ]
     },
     "execution_count": 111,
     "metadata": {},
     "output_type": "execute_result"
    }
   ],
   "source": [
    "function positionaltwo(x, y, z = 10)\n",
    "end "
   ]
  },
  {
   "cell_type": "markdown",
   "id": "1c3aecd1-a6a2-4e08-a1b4-4f8898dd0f8a",
   "metadata": {},
   "source": [
    "Two positional arguments, and two keyword arguments which need to be provided by the user - Now! notice that after we define the positional arguments, we have to separate the following keyword arguments with a semi-colon. This let's julia know that the next arguments are keyword form. "
   ]
  },
  {
   "cell_type": "code",
   "execution_count": 112,
   "id": "a897935e-8eca-4c20-b3ac-8498f8b13c1d",
   "metadata": {},
   "outputs": [
    {
     "data": {
      "text/plain": [
       "positionalkeywordone (generic function with 1 method)"
      ]
     },
     "execution_count": 112,
     "metadata": {},
     "output_type": "execute_result"
    }
   ],
   "source": [
    "function positionalkeywordone(x, y; z, q)\n",
    "end "
   ]
  },
  {
   "cell_type": "markdown",
   "id": "3b08dcb6-4917-4b78-89f4-7b20cf64765c",
   "metadata": {},
   "source": [
    "Two position arguments, one with a default, and two keyword arguments, both with defaults. "
   ]
  },
  {
   "cell_type": "code",
   "execution_count": 117,
   "id": "03e4d53a-34ef-4450-9ff3-5d4fc901be79",
   "metadata": {},
   "outputs": [
    {
     "data": {
      "text/plain": [
       "positionalkeywordtwo (generic function with 2 methods)"
      ]
     },
     "execution_count": 117,
     "metadata": {},
     "output_type": "execute_result"
    }
   ],
   "source": [
    "function  positionalkeywordtwo(x, y = 10 ; z = 2, q = 4) \n",
    "    x + y + z + q \n",
    "end "
   ]
  },
  {
   "cell_type": "markdown",
   "id": "9d9de5c7-9e7c-45a9-b196-4e89fd74e87e",
   "metadata": {},
   "source": [
    "Another thing to remember, we providing default values, they have to be entered at the end of the argument block, so in the positional block, if x = 10 and y was unassigned, we would have to put x after y. "
   ]
  },
  {
   "cell_type": "markdown",
   "id": "f54f5bc4-5a94-4075-8727-ec6fdeaf7b4e",
   "metadata": {},
   "source": [
    "#### When we call the function, we don't need to provide the name of the position argument to the function, but when calling keyword arguments we need to provide the name followed by the value as per `z = 3` "
   ]
  },
  {
   "cell_type": "code",
   "execution_count": 123,
   "id": "55abbffd-0add-416b-b5fe-1367d77aca85",
   "metadata": {},
   "outputs": [
    {
     "data": {
      "text/plain": [
       "27"
      ]
     },
     "execution_count": 123,
     "metadata": {},
     "output_type": "execute_result"
    }
   ],
   "source": [
    "positionalkeywordtwo(4; z=3, q=10)"
   ]
  },
  {
   "cell_type": "markdown",
   "id": "0b54bc03-6420-4752-b70c-ee9883fee5bd",
   "metadata": {},
   "source": [
    "As Bogumil says \"When calling a function that takes both positional and keyword arguments, it is good practice to separate them by using a semicolon (;), just as when you define a function. This is the convention that I use in this book; however, using a comma is also allowed.\" "
   ]
  },
  {
   "cell_type": "markdown",
   "id": "be4ff54c-1678-404a-8aae-04a481151daa",
   "metadata": {},
   "source": [
    "## Compact or short syntax for function definitions\n",
    "Often times we can create a function in a one liner. Imagine we just want a function that performs a simple operation on an argument, such as divinding by 10"
   ]
  },
  {
   "cell_type": "code",
   "execution_count": 124,
   "id": "261b2514-81ed-4c26-876a-a432363c25b8",
   "metadata": {},
   "outputs": [
    {
     "data": {
      "text/plain": [
       "divideten (generic function with 1 method)"
      ]
     },
     "execution_count": 124,
     "metadata": {},
     "output_type": "execute_result"
    }
   ],
   "source": [
    "divideten(x::Int) = x / 10 "
   ]
  },
  {
   "cell_type": "markdown",
   "id": "64ded2c4-4754-4597-a2f1-79a1b67f6bb7",
   "metadata": {},
   "source": [
    "## Anonymous function \n",
    "Another compact form of functional programming is anonymous functions - those that don't even have a definition, but often perform certain controls flows such as iteration. We often use the **filter()** function in an anonymous way "
   ]
  },
  {
   "cell_type": "markdown",
   "id": "a60219bc-ba55-4e36-bb76-54545f87b741",
   "metadata": {},
   "source": [
    "Some examples - use map to map each element in an array to the function"
   ]
  },
  {
   "cell_type": "code",
   "execution_count": 125,
   "id": "deb146c6-6a53-4473-90de-976123f05088",
   "metadata": {},
   "outputs": [
    {
     "data": {
      "text/plain": [
       "3-element Vector{Int64}:\n",
       " 2\n",
       " 4\n",
       " 6"
      ]
     },
     "execution_count": 125,
     "metadata": {},
     "output_type": "execute_result"
    }
   ],
   "source": [
    "map(x -> x * 2, [1,2,3]) "
   ]
  },
  {
   "cell_type": "markdown",
   "id": "c788e297-037e-485a-a0a7-099ae5db0fe7",
   "metadata": {},
   "source": [
    "Notice the general structure of the anon function - the iteration is specified whereby x is the iterator, and the elements are provided in the last argument, this time it being an array. The map function will then iterater over the array :) "
   ]
  },
  {
   "cell_type": "markdown",
   "id": "480f9e7a-dcd4-4283-9d25-d2184a89ad27",
   "metadata": {},
   "source": [
    "## Do blocks\n",
    "\"These blocks are used if (1) you use a function that accepts another function as its first positional argument and (2) you want to pass an anonymous function composed of several expressions (so a standard anonymous function definition style is not convenient).\" There we go - use the do-end blocks if there are more than one expressions that you would like to evaluate, so a typical anonymous function of the form `x->x,[]` is inadequate. And ofcourse, if the first argument of our function takes another function as input."
   ]
  },
  {
   "cell_type": "code",
   "execution_count": 134,
   "id": "507b69f4-393b-435a-ba51-e4fee1a39ae1",
   "metadata": {},
   "outputs": [
    {
     "name": "stdout",
     "output_type": "stream",
     "text": [
      "processing 1\n",
      "processing 2\n",
      "processing 3\n"
     ]
    },
    {
     "data": {
      "text/plain": [
       "14"
      ]
     },
     "execution_count": 134,
     "metadata": {},
     "output_type": "execute_result"
    }
   ],
   "source": [
    "# Sum the values of x*2 for each element in the arry \n",
    "# 1^2 + 2^2 + 3^3\n",
    "sum([1, 2, 3]) do x\n",
    "    println(\"processing \", x)\n",
    "    return x ^ 2\n",
    "end"
   ]
  },
  {
   "cell_type": "markdown",
   "id": "075ea7ed-5720-41e1-b2e3-ec911ff6d9f1",
   "metadata": {},
   "source": [
    "Aside from printing the value of x at each iteraction, the core of the square root operation is as below"
   ]
  },
  {
   "cell_type": "code",
   "execution_count": 132,
   "id": "96d1a103-22b6-448f-a11a-20a347083e86",
   "metadata": {},
   "outputs": [
    {
     "data": {
      "text/plain": [
       "14"
      ]
     },
     "execution_count": 132,
     "metadata": {},
     "output_type": "execute_result"
    }
   ],
   "source": [
    "sum(x -> x^2, [1,2,3])"
   ]
  },
  {
   "cell_type": "markdown",
   "id": "5f7f2a46-4d33-41ae-9657-a482996cf3ef",
   "metadata": {},
   "source": [
    "Perhaps a filter function may look something like this"
   ]
  },
  {
   "cell_type": "markdown",
   "id": "f0e33a26-4248-45c3-9155-158f45cf1c4c",
   "metadata": {},
   "source": [
    "```julia\n",
    "filter(df) do row \n",
    "    println(\"this row\")\n",
    "    row == \"somevalue\" \n",
    "end\n",
    "```"
   ]
  },
  {
   "cell_type": "markdown",
   "id": "3eed8733-5fa2-47fb-bd92-4e0fcd65285e",
   "metadata": {},
   "source": [
    "### Pass-by-sharing convention which minimizes memory usage and improve speed when using mutating! (modifying) functions"
   ]
  },
  {
   "cell_type": "markdown",
   "id": "a7503090-8765-4c31-8429-a31b8303ecad",
   "metadata": {},
   "source": [
    "This feature, called pass-by-sharing, means that Julia never copies data when arguments are passed to a function"
   ]
  },
  {
   "cell_type": "code",
   "execution_count": null,
   "id": "28d3f279-5679-4f5b-89a8-f0d2f51693c5",
   "metadata": {},
   "outputs": [],
   "source": []
  },
  {
   "cell_type": "code",
   "execution_count": null,
   "id": "c6964e46-aa44-4823-9afd-0bdc53ede185",
   "metadata": {},
   "outputs": [],
   "source": []
  },
  {
   "cell_type": "code",
   "execution_count": null,
   "id": "7585af27-9770-4de4-9069-20332d12ef3d",
   "metadata": {},
   "outputs": [],
   "source": []
  },
  {
   "cell_type": "code",
   "execution_count": null,
   "id": "925ce6f9-2878-418f-9be2-44c281d996c2",
   "metadata": {},
   "outputs": [],
   "source": []
  },
  {
   "cell_type": "code",
   "execution_count": null,
   "id": "c7233f9d-de1f-4c34-ad84-0cfba9479922",
   "metadata": {},
   "outputs": [],
   "source": []
  },
  {
   "cell_type": "code",
   "execution_count": null,
   "id": "b2ca49fd-1ffe-4cfa-81f1-50d242840d1b",
   "metadata": {},
   "outputs": [],
   "source": []
  },
  {
   "cell_type": "code",
   "execution_count": null,
   "id": "23aa2989-dcda-4adf-9270-e339a813617f",
   "metadata": {},
   "outputs": [],
   "source": []
  },
  {
   "cell_type": "code",
   "execution_count": null,
   "id": "d9011e7e-a2f3-4292-8913-bb47c46350fb",
   "metadata": {},
   "outputs": [],
   "source": []
  }
 ],
 "metadata": {
  "kernelspec": {
   "display_name": "Julia 1.10.2",
   "language": "julia",
   "name": "julia-1.10"
  },
  "language_info": {
   "file_extension": ".jl",
   "mimetype": "application/julia",
   "name": "julia",
   "version": "1.10.2"
  }
 },
 "nbformat": 4,
 "nbformat_minor": 5
}
