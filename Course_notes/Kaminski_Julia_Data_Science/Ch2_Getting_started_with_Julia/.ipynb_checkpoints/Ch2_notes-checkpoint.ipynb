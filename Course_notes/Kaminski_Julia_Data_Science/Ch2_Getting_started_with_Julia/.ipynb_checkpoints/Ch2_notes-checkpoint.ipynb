{
 "cells": [
  {
   "cell_type": "markdown",
   "id": "e8870dfa-b685-430d-9332-b97445f9a5f8",
   "metadata": {},
   "source": [
    "# Chapter/Part 2 Notes - Getting started with Julia\n",
    "This chapter, whilst being very elementary, is actually a terrific refresher on Julia for those who see themselves as somewhat seasoned"
   ]
  },
  {
   "cell_type": "markdown",
   "id": "9d559aa1-b25d-4baf-b8da-913fe4d2b9af",
   "metadata": {},
   "source": [
    "See the bit representation of a values using **bitstring()**"
   ]
  },
  {
   "cell_type": "code",
   "execution_count": 1,
   "id": "9dc59b85-7f60-4a75-98e6-617087aa031b",
   "metadata": {},
   "outputs": [
    {
     "data": {
      "text/plain": [
       "\"0000000000000000000000000000000000000000000000000000000000000001\""
      ]
     },
     "execution_count": 1,
     "metadata": {},
     "output_type": "execute_result"
    }
   ],
   "source": [
    "bitstring(1)"
   ]
  },
  {
   "cell_type": "markdown",
   "id": "b81366dc-6cc3-46ca-8189-aee233a4ecce",
   "metadata": {},
   "source": [
    "A vector in julia is a one dimensional array - it would be defined as `Array{Int, 1}` whereby the parenthesis indicate the type followed by the dimensions - in the row, cols format"
   ]
  },
  {
   "cell_type": "code",
   "execution_count": 3,
   "id": "bac62a6c-daf5-475f-b2a9-e61758737206",
   "metadata": {},
   "outputs": [
    {
     "data": {
      "text/plain": [
       "Vector{Int64}\u001b[90m (alias for \u001b[39m\u001b[90mArray{Int64, 1}\u001b[39m\u001b[90m)\u001b[39m"
      ]
     },
     "execution_count": 3,
     "metadata": {},
     "output_type": "execute_result"
    }
   ],
   "source": [
    "vec = [1, 2, 3] ; typeof(vec)"
   ]
  },
  {
   "cell_type": "code",
   "execution_count": 6,
   "id": "cde44d46-27a6-40d1-833f-038339edaf01",
   "metadata": {},
   "outputs": [
    {
     "data": {
      "text/plain": [
       "true"
      ]
     },
     "execution_count": 6,
     "metadata": {},
     "output_type": "execute_result"
    }
   ],
   "source": [
    "# This should tell us true\n",
    "isa(vec, Array)"
   ]
  },
  {
   "cell_type": "markdown",
   "id": "4aae2bd1-ae11-42fc-8b21-04c30e2b7c0a",
   "metadata": {},
   "source": [
    "Be careful when binding variables to other variables, for the modification of one will propagate to the other and also change it. What you want to do instead is perform a **copy()** or a **deepcopy** - the differences between them being the physical allocation of the deepcopy is different, so an equivalence evalution will come up as false as they are in fact \"different\" entities in an ontological sense even though they may have equal values. E.g. you and I are both humans but are not copies of one another. A bit of a tickly subject but I believe it becomes more relevant when handling memory strictly etc. "
   ]
  },
  {
   "cell_type": "markdown",
   "id": "09ff93f5-803e-467a-9d33-15d602e4a6bd",
   "metadata": {},
   "source": [
    "Due to round off error in floating point numbers, `1.0 + 2.0 = 3.0` is going to be evaluated as false. Technically we cannot put a truth statement to this as floats are approximiations of intergers and so they are only precise to a certain decimal place, and so using them in our code like this is bound to cause errors. I we insist on using floats, we can use the **isapprox()** function to evaluate the statement. We can provide arguments to the function indicating the level of precision we're after"
   ]
  },
  {
   "cell_type": "code",
   "execution_count": 7,
   "id": "8a540403-5587-474a-a1ae-f6dd04547895",
   "metadata": {},
   "outputs": [
    {
     "data": {
      "text/plain": [
       "true"
      ]
     },
     "execution_count": 7,
     "metadata": {},
     "output_type": "execute_result"
    }
   ],
   "source": [
    "isapprox(1.0 + 2.0, 3.0)"
   ]
  },
  {
   "cell_type": "markdown",
   "id": "68f237f8-dfc8-4a39-9d05-665417c19a4b",
   "metadata": {},
   "source": [
    "## Ternary operator\n",
    "The ternary operator is super handy for creating concise statements and evaluating conditions within creating an explicit loop. The basic structure of the ternary is `x > y ? println(\"x is greater than y\") : println(\"x is less than or equal to y\")` - the combination of **?** and **:** with the else statement"
   ]
  },
  {
   "cell_type": "code",
   "execution_count": 8,
   "id": "52552ab7-a48e-4553-b831-7d9dc7429d3f",
   "metadata": {},
   "outputs": [
    {
     "name": "stdout",
     "output_type": "stream",
     "text": [
      "x is less than or equal to y\n"
     ]
    }
   ],
   "source": [
    "x, y = 5, 6 \n",
    "x > y ? println(\"x is greater than y\") : println(\"x is less than or equal to y\")"
   ]
  },
  {
   "cell_type": "markdown",
   "id": "eb2f1694-70c0-4925-ba7f-1ec5feb42922",
   "metadata": {},
   "source": [
    "Something which eluded me all this time is the ability to assign variables to the outcome of a conditional statement - for instance, assign to y the outcome of an if-else statement. "
   ]
  },
  {
   "cell_type": "code",
   "execution_count": 14,
   "id": "407cef80-148d-4f06-856f-49ddfe9a6414",
   "metadata": {},
   "outputs": [
    {
     "data": {
      "text/plain": [
       "3.872983346207417"
      ]
     },
     "execution_count": 14,
     "metadata": {},
     "output_type": "execute_result"
    }
   ],
   "source": [
    "z = 15\n",
    "y = if z % 3 == 0 \n",
    "        sqrt(z)\n",
    "    else\n",
    "        sqrt(-z)\n",
    "end "
   ]
  },
  {
   "cell_type": "markdown",
   "id": "a98d3a39-84bf-4f7d-9d7a-e763ad068b97",
   "metadata": {},
   "source": [
    "Using the ternary operator this would be condensed too "
   ]
  },
  {
   "cell_type": "code",
   "execution_count": 15,
   "id": "9cc19cb1-a65e-4bb0-a158-1c251e9783f0",
   "metadata": {},
   "outputs": [
    {
     "data": {
      "text/plain": [
       "3.872983346207417"
      ]
     },
     "execution_count": 15,
     "metadata": {},
     "output_type": "execute_result"
    }
   ],
   "source": [
    "y = z % 3 == 0 ? sqrt(z) : sqrt(-z) "
   ]
  },
  {
   "cell_type": "markdown",
   "id": "807e55e7-8d26-4e23-8f55-d16d6e20d6bf",
   "metadata": {},
   "source": [
    "We can even cleverly embed the ternary operator within a loop, in the println() block "
   ]
  },
  {
   "cell_type": "code",
   "execution_count": 16,
   "id": "a4dbdb33-f1cc-435b-9ac5-be6c45f39597",
   "metadata": {},
   "outputs": [
    {
     "name": "stdout",
     "output_type": "stream",
     "text": [
      "1 is odd\n",
      "2 is even\n",
      "3 is odd\n"
     ]
    }
   ],
   "source": [
    "for i in [1, 2, 3]\n",
    "    println(i, \" is \", isodd(i) ? \"odd\" : \"even\")\n",
    "end"
   ]
  },
  {
   "cell_type": "markdown",
   "id": "5ad81038-ad8d-42ce-8d1d-c93d4359b18e",
   "metadata": {},
   "source": [
    "Now using a while loop - this helps to avoid infinite regress "
   ]
  },
  {
   "cell_type": "code",
   "execution_count": 18,
   "id": "dc8c3d6d-ad1f-4c8c-ba48-785911171de3",
   "metadata": {},
   "outputs": [
    {
     "name": "stdout",
     "output_type": "stream",
     "text": [
      "0 is even\n",
      "1 is odd\n",
      "2 is even\n",
      "3 is odd\n"
     ]
    }
   ],
   "source": [
    "i = 0\n",
    "while i < 4\n",
    "    println(i, \" is \", isodd(i) ? \"odd\" : \"even\")\n",
    "    global i += 1\n",
    "end"
   ]
  },
  {
   "cell_type": "markdown",
   "id": "151c0931-84ec-4595-873f-5e53dd0ea180",
   "metadata": {},
   "source": [
    "The *continiue* and *break* statements will either skip an iteration of the current object if it doesn't meet a certain condition, proceeding onto the next element, or it will break the whole loop and finish the evaluation"
   ]
  },
  {
   "cell_type": "code",
   "execution_count": 19,
   "id": "59540613-2579-4f58-9230-54aa3bb93056",
   "metadata": {},
   "outputs": [
    {
     "name": "stdout",
     "output_type": "stream",
     "text": [
      "6 is even\n"
     ]
    }
   ],
   "source": [
    "while true\n",
    "    global i += 1\n",
    "    i > 6 && break\n",
    "    isodd(i) && continue\n",
    "    println(i, \" is even\")\n",
    "end"
   ]
  },
  {
   "cell_type": "markdown",
   "id": "f6865980-6b47-4d7c-8fa3-a1bb7b7d9c08",
   "metadata": {},
   "source": [
    "\"Observe that we write while true to set up the loop. Since this condition is always true, unless we have another means to interrupt the loop, it would run infinitely many times. This is exactly what the break keyword achieves.\""
   ]
  },
  {
   "cell_type": "markdown",
   "id": "0e3364f4-bdb0-477f-8ae5-0f063ac883e0",
   "metadata": {},
   "source": [
    "## Compound expressions\n",
    "Compound expressions, as the name hints at are several expressioned compounded and wrapped together. We do create them either using begin-end blocks, or using the semicolon ; , the latter being slicker and smaller but sometimes less obvious. "
   ]
  },
  {
   "cell_type": "markdown",
   "id": "9d5d4903-3042-409e-9a86-aee5e8893ec1",
   "metadata": {},
   "source": [
    "Let's try a begin block - notice that since the begin block is within a conditional, if the first part of the condition is not met then the expression won't be executed"
   ]
  },
  {
   "cell_type": "code",
   "execution_count": 27,
   "id": "f48a7f66-16e9-419a-8109-09b0c0dfe2df",
   "metadata": {},
   "outputs": [
    {
     "name": "stdout",
     "output_type": "stream",
     "text": [
      "4\n",
      "5\n"
     ]
    },
    {
     "data": {
      "text/plain": [
       "10"
      ]
     },
     "execution_count": 27,
     "metadata": {},
     "output_type": "execute_result"
    }
   ],
   "source": [
    "x = 4\n",
    "x < 5 && begin \n",
    "    println(x)\n",
    "    x += 1 \n",
    "    println(x)\n",
    "    x * 2\n",
    "end "
   ]
  },
  {
   "cell_type": "markdown",
   "id": "0ff500df-3359-4d24-984a-22f8d5f996e3",
   "metadata": {},
   "source": [
    "The same thing chained using *;* "
   ]
  },
  {
   "cell_type": "code",
   "execution_count": 29,
   "id": "e85f2b1f-8b6e-4963-9cbc-bbec6311f5da",
   "metadata": {},
   "outputs": [
    {
     "name": "stdout",
     "output_type": "stream",
     "text": [
      "4\n",
      "5\n"
     ]
    },
    {
     "data": {
      "text/plain": [
       "10"
      ]
     },
     "execution_count": 29,
     "metadata": {},
     "output_type": "execute_result"
    }
   ],
   "source": [
    "x = 4 ; x < 5 ; println(x) ; x +=1 ; println(x) ; x * 2 "
   ]
  },
  {
   "cell_type": "code",
   "execution_count": null,
   "id": "e1931491-a3dd-4ee4-a712-304a4052c02d",
   "metadata": {},
   "outputs": [],
   "source": []
  },
  {
   "cell_type": "code",
   "execution_count": null,
   "id": "18f85112-42f4-4db9-90cf-e90c70724f49",
   "metadata": {},
   "outputs": [],
   "source": []
  },
  {
   "cell_type": "code",
   "execution_count": null,
   "id": "7d125e56-a7aa-40dc-923f-6db27c894b4d",
   "metadata": {},
   "outputs": [],
   "source": []
  },
  {
   "cell_type": "code",
   "execution_count": null,
   "id": "21c7c8bb-d5d6-4842-85fa-b3e367f1e499",
   "metadata": {},
   "outputs": [],
   "source": []
  },
  {
   "cell_type": "code",
   "execution_count": null,
   "id": "d0a69711-eabf-49c2-a444-edd3bb17e1d4",
   "metadata": {},
   "outputs": [],
   "source": []
  },
  {
   "cell_type": "code",
   "execution_count": null,
   "id": "b58c4b43-7b6f-47b9-8325-2ee494d367ae",
   "metadata": {},
   "outputs": [],
   "source": []
  },
  {
   "cell_type": "code",
   "execution_count": null,
   "id": "35ff3202-d9bc-468d-bb3f-5ebed06dc04b",
   "metadata": {},
   "outputs": [],
   "source": []
  },
  {
   "cell_type": "code",
   "execution_count": null,
   "id": "7733f34c-9b76-4be7-af67-68c2013b935d",
   "metadata": {},
   "outputs": [],
   "source": []
  },
  {
   "cell_type": "code",
   "execution_count": null,
   "id": "bf7858eb-51f7-49dd-af14-20804b6fc635",
   "metadata": {},
   "outputs": [],
   "source": []
  },
  {
   "cell_type": "code",
   "execution_count": null,
   "id": "db83732f-de00-45eb-8863-e634477221aa",
   "metadata": {},
   "outputs": [],
   "source": []
  },
  {
   "cell_type": "code",
   "execution_count": null,
   "id": "a92ce0e1-ef6e-49e5-85d0-14c12f1f3a6b",
   "metadata": {},
   "outputs": [],
   "source": []
  }
 ],
 "metadata": {
  "kernelspec": {
   "display_name": "Julia 1.10.0",
   "language": "julia",
   "name": "julia-1.10"
  },
  "language_info": {
   "file_extension": ".jl",
   "mimetype": "application/julia",
   "name": "julia",
   "version": "1.10.0"
  }
 },
 "nbformat": 4,
 "nbformat_minor": 5
}
