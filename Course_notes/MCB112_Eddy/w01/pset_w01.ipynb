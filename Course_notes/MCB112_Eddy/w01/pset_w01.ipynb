{
 "cells": [
  {
   "cell_type": "markdown",
   "id": "ae36e9ad-396a-41ae-8eff-7cf93793bd88",
   "metadata": {},
   "source": [
    "# Problem Set Week 1 MCB112 \n",
    "The case of the dead sand mouse"
   ]
  },
  {
   "cell_type": "markdown",
   "id": "c04b3fcd-2422-4ae7-9e32-25e700b13a6e",
   "metadata": {},
   "source": [
    "## The Experiment\n",
    "Moriarty's methods section says that he instantly kills a sand mouse at time t=0. At t=0, 12, 24, 48, and 96 hours, he dissects out the prefrontal cortex, prepared poly-A+ mRNA, and does RNA-seq. An example of the results is shown in Figure 1 from Moriarty et al.: arugula goes down after death as you might expect from being dead... but OSTC comes up at 24hrs then goes down, PRIM2 peaks at 48h, and kiwi is still coming up at 96h after death:\n",
    "\n",
    "In his discussion, Moriarty says that these data provide evidence for an ancient program of cortical gene expression that causes the sand mouse's life to flash before its eyes (very, very slowly).\n",
    "\n",
    "Well, maybe. But you suspect an artifact of some kind. You decide to look into the result. After carefully reading the paper, it looks like there aren't any obvious problems with the RNA-seq experiment itself. Each data point is an average over several dead sand mice, and the variation seems small, so it's not that this is just experimental noise. The dissections seem carefully done, so it's not that he mistakenly collected anatomically different chunks of brain (which could easily give gene expression differences). He also did some controls to make sure that the relative proportions of different cell types in the dissected tissue hadn't changed much (a common problem in differential RNA-seq analysis of tissues composed of mixtures of cell types: you measure a population average, so if cell type composition changes, it can look like gene expression changes.) Everything suggests to you that the expression level (TPM) calls are reproducible and robust, so if there's a problem, it's in his interpretation of the expression levels."
   ]
  },
  {
   "cell_type": "markdown",
   "id": "8c57e408-1925-496d-bc6f-ba5cdaf88203",
   "metadata": {},
   "source": [
    "## The Data\n",
    "The expression data for the paper are available in his Supplementary Data Table 1: Moriarty_SuppTable1.\n",
    "\n",
    "It happens that you've also just been reading another paper from Irene Adler's lab that seems relevant. Adler et al. systematically measured mRNA synthesis rates (in mRNA/hr) and mRNA halflife (in hr), also in the prefrontal cortex, for every gene in the sand mouse. Those data are available in their Supplementary Data Table 2: Adler_SuppTable2.\n",
    "\n",
    "Download both data files. "
   ]
  },
  {
   "cell_type": "markdown",
   "id": "56ecfaee-3be9-4a21-a350-3b5224e86797",
   "metadata": {},
   "source": [
    "### 1. Check that the gene names match\n",
    "Write a script to compare the gene names in the two data files. Output the names that appear in Moriarty_SuppTable1 but not Adler_SuppTable2, if any. Use plain Python for this pset. Don't use any additional data wrangling packages, if you already happen to know it. One of the points of the pset is to be able to ingest crappily-formatted data files, by writing your own parsing code. "
   ]
  },
  {
   "cell_type": "code",
   "execution_count": 2,
   "id": "d2d2f2c0-4e4c-44ed-8755-6e58c1cb1ab4",
   "metadata": {
    "scrolled": true
   },
   "outputs": [
    {
     "data": {
      "text/plain": [
       "20032-element Vector{String}:\n",
       " \"gene_name         0h    12h    24h    48h    96h \"\n",
       " \"anise              5.4    5.2    4.8    3.1    0.6 \"\n",
       " \"apricot           13.4   14.6   12.4    8.6    1.9 \"\n",
       " \"artichoke          4.2    1.5    0.5    0.0    0.0 \"\n",
       " \"arugula           66.9   23.9    7.0    0.5    0.0 \"\n",
       " \"asparagus         55.6   78.1  100.9  135.8  115.0 \"\n",
       " \"avocado           27.0   14.3    6.2    1.1    0.0 \"\n",
       " \"banana           101.3  132.2  126.7  130.7   68.7 \"\n",
       " \"basil              3.1    1.1    0.4    0.0    0.0 \"\n",
       " \"beet               3.8    1.1    0.3    0.0    0.0 \"\n",
       " \"blackberry        23.9   15.6    9.1    2.5    0.1 \"\n",
       " \"blueberry          7.3    4.5    2.0    0.4    0.0 \"\n",
       " \"broccoli          16.4   14.1   11.1    5.4    0.7 \"\n",
       " ⋮\n",
       " \"AL592183.1        33.7   45.8   52.5   62.8   53.5 \"\n",
       " \"AC007325.1        77.7   51.8   27.9    6.5    0.2 \"\n",
       " \"AC007325.4        34.3   34.4   38.6   30.0   12.6 \"\n",
       " \"AC007325.2         7.3    7.4    6.7    4.0    1.0 \"\n",
       " \"BX072566.1        26.9   29.1   26.5   25.1    9.0 \"\n",
       " \"AL354822.1        49.9   53.8   62.9   57.3   37.4 \"\n",
       " \"AC023491.2       156.4  173.5  174.9  116.0   42.1 \"\n",
       " \"AC004556.1        68.9   59.9   51.5   26.9    4.7 \"\n",
       " \"AC233755.2        56.5   49.6   37.1   18.2    2.4 \"\n",
       " \"AC233755.1         1.9    1.1    0.5    0.1    0.0 \"\n",
       " \"AC240274.1        10.1   10.7    9.3    4.8    0.8 \"\n",
       " \"AC213203.1        31.0   37.3   37.8   35.1   18.8 \""
      ]
     },
     "execution_count": 2,
     "metadata": {},
     "output_type": "execute_result"
    }
   ],
   "source": [
    "sup_one = readlines(open(\"Sup_1.txt\")) "
   ]
  },
  {
   "cell_type": "code",
   "execution_count": 3,
   "id": "9d573f92-da96-4e53-9096-d988abf00019",
   "metadata": {
    "scrolled": true
   },
   "outputs": [
    {
     "data": {
      "text/plain": [
       "20032-element Vector{String}:\n",
       " \"gene_name     synth_rate halflife\"\n",
       " \"CYB5R3               3.2     19.9\"\n",
       " \"MMAA                 1.1      9.5\"\n",
       " \"SLC24A1              0.8     14.8\"\n",
       " \"OR10D3              12.6     14.0\"\n",
       " \"IFITM5               2.5     20.3\"\n",
       " \"CDC5L                0.7      8.3\"\n",
       " \"DPYSL2               1.4     26.5\"\n",
       " \"ERCC6                1.0     11.3\"\n",
       " \"SYCE2                1.7     23.0\"\n",
       " \"CHST7                2.1      5.5\"\n",
       " \"PFDN2                6.6     17.2\"\n",
       " \"PHKB                 0.3     17.5\"\n",
       " ⋮\n",
       " \"FGF23                6.6      8.8\"\n",
       " \"SPINK6               1.9      9.3\"\n",
       " \"RUNX1T1              1.4     14.8\"\n",
       " \"GABRB1               3.4     23.6\"\n",
       " \"GJC1                 4.4     23.1\"\n",
       " \"TFRC                 2.4     99.5\"\n",
       " \"STK24                1.7      9.4\"\n",
       " \"MTUS1                4.7     21.0\"\n",
       " \"TRIM42               2.2     17.2\"\n",
       " \"IRF7                10.4     10.2\"\n",
       " \"HSPE1                2.8     17.0\"\n",
       " \"EYS                  1.8     14.1\""
      ]
     },
     "execution_count": 3,
     "metadata": {},
     "output_type": "execute_result"
    }
   ],
   "source": [
    "sup_two = readlines(open(\"Sup_2.txt\"))"
   ]
  },
  {
   "cell_type": "code",
   "execution_count": 4,
   "id": "c693d671-0bd9-4adf-babe-8f461d5a4067",
   "metadata": {},
   "outputs": [
    {
     "data": {
      "text/plain": [
       "\"anise\""
      ]
     },
     "execution_count": 4,
     "metadata": {},
     "output_type": "execute_result"
    }
   ],
   "source": [
    "split(sup_one[2], \" \")[1]"
   ]
  },
  {
   "cell_type": "code",
   "execution_count": 5,
   "id": "a92493a9-4094-43a2-b207-65bb9f0112f5",
   "metadata": {},
   "outputs": [
    {
     "data": {
      "text/plain": [
       "\"anise              5.4    5.2    4.8    3.1    0.6 \""
      ]
     },
     "execution_count": 5,
     "metadata": {},
     "output_type": "execute_result"
    }
   ],
   "source": [
    "sup_one[2]"
   ]
  },
  {
   "cell_type": "code",
   "execution_count": 6,
   "id": "9a3c02e9-e659-4968-b52a-dd179c3185b6",
   "metadata": {},
   "outputs": [],
   "source": [
    "sup_one_genes = []\n",
    "for line in sup_one[2:end]\n",
    "    split_line = split(line)\n",
    "    gene_name = split_line[1]\n",
    "    push!(sup_one_genes, gene_name)\n",
    "end "
   ]
  },
  {
   "cell_type": "code",
   "execution_count": 7,
   "id": "1a17a1c9-0721-4f3b-8b10-a787ab59d49e",
   "metadata": {},
   "outputs": [
    {
     "data": {
      "text/plain": [
       "true"
      ]
     },
     "execution_count": 7,
     "metadata": {},
     "output_type": "execute_result"
    }
   ],
   "source": [
    "in(sup_one[1], sup_one)"
   ]
  },
  {
   "cell_type": "code",
   "execution_count": 8,
   "id": "8cff23ef-f480-48ed-8c78-dfb77605e723",
   "metadata": {},
   "outputs": [],
   "source": [
    "sup_two_genes = []\n",
    "for line in sup_two[2:end]\n",
    "    split_line = split(line)\n",
    "    gene_name = split_line[1]\n",
    "    push!(sup_two_genes, gene_name)\n",
    "end "
   ]
  },
  {
   "cell_type": "code",
   "execution_count": 9,
   "id": "f85e14f7-a6e7-4f09-987b-4ada469eb092",
   "metadata": {
    "scrolled": true
   },
   "outputs": [
    {
     "data": {
      "text/plain": [
       "20003-element Vector{Any}:\n",
       " \"anise\"\n",
       " \"apricot\"\n",
       " \"artichoke\"\n",
       " \"arugula\"\n",
       " \"asparagus\"\n",
       " \"avocado\"\n",
       " \"banana\"\n",
       " \"basil\"\n",
       " \"beet\"\n",
       " \"blackberry\"\n",
       " \"blueberry\"\n",
       " \"broccoli\"\n",
       " \"butternut\"\n",
       " ⋮\n",
       " \"AL592183.1\"\n",
       " \"AC007325.1\"\n",
       " \"AC007325.4\"\n",
       " \"AC007325.2\"\n",
       " \"BX072566.1\"\n",
       " \"AL354822.1\"\n",
       " \"AC023491.2\"\n",
       " \"AC004556.1\"\n",
       " \"AC233755.2\"\n",
       " \"AC233755.1\"\n",
       " \"AC240274.1\"\n",
       " \"AC213203.1\""
      ]
     },
     "execution_count": 9,
     "metadata": {},
     "output_type": "execute_result"
    }
   ],
   "source": [
    "common_genes = intersect(sup_one_genes, sup_two_genes)"
   ]
  },
  {
   "cell_type": "code",
   "execution_count": 10,
   "id": "3c3d4057-ecd6-4751-a108-f18b282589d9",
   "metadata": {},
   "outputs": [
    {
     "data": {
      "text/plain": [
       "20031"
      ]
     },
     "execution_count": 10,
     "metadata": {},
     "output_type": "execute_result"
    }
   ],
   "source": [
    "length(sup_one_genes)"
   ]
  },
  {
   "cell_type": "code",
   "execution_count": 11,
   "id": "e08401ed-24b9-4d26-8111-5c6497f28ef6",
   "metadata": {},
   "outputs": [
    {
     "data": {
      "text/plain": [
       "20031"
      ]
     },
     "execution_count": 11,
     "metadata": {},
     "output_type": "execute_result"
    }
   ],
   "source": [
    "length(sup_two_genes) "
   ]
  },
  {
   "cell_type": "code",
   "execution_count": 12,
   "id": "9b188e49-e335-4063-8372-7bc293f7eee9",
   "metadata": {},
   "outputs": [
    {
     "data": {
      "text/plain": [
       "20003"
      ]
     },
     "execution_count": 12,
     "metadata": {},
     "output_type": "execute_result"
    }
   ],
   "source": [
    "length(common_genes)"
   ]
  },
  {
   "cell_type": "markdown",
   "id": "5b29997d-a285-45a8-a650-82f363a07da3",
   "metadata": {},
   "source": [
    "Is there a difference? \n",
    "Yes, there are 28 genes that are not shared between the two supplementary tables"
   ]
  },
  {
   "cell_type": "code",
   "execution_count": 13,
   "id": "d0d48347-7e30-4cc7-9c20-e3d604021416",
   "metadata": {
    "scrolled": true
   },
   "outputs": [
    {
     "data": {
      "text/plain": [
       "26-element Vector{Any}:\n",
       " \"15-Sep\"\n",
       " \"2-Mar\"\n",
       " \"1-Mar\"\n",
       " \"10-Sep\"\n",
       " \"7-Mar\"\n",
       " \"4-Mar\"\n",
       " \"2-Sep\"\n",
       " \"11-Sep\"\n",
       " \"6-Mar\"\n",
       " \"11-Mar\"\n",
       " \"3-Mar\"\n",
       " \"8-Sep\"\n",
       " \"7-Sep\"\n",
       " \"14-Sep\"\n",
       " \"6-Sep\"\n",
       " \"1-Dec\"\n",
       " \"8-Mar\"\n",
       " \"5-Mar\"\n",
       " \"9-Mar\"\n",
       " \"12-Sep\"\n",
       " \"1-Sep\"\n",
       " \"4-Sep\"\n",
       " \"10-Mar\"\n",
       " \"9-Sep\"\n",
       " \"5-Sep\"\n",
       " \"3-Sep\""
      ]
     },
     "execution_count": 13,
     "metadata": {},
     "output_type": "execute_result"
    }
   ],
   "source": [
    "corrupt_genes = setdiff(sup_one_genes, sup_two_genes)"
   ]
  },
  {
   "cell_type": "markdown",
   "id": "cba67085-27be-4fb7-a5a4-ffe0eb3d801b",
   "metadata": {},
   "source": [
    "All of these different genes are dates - likely due to xlsx formating error. Omit them from the analysis"
   ]
  },
  {
   "cell_type": "markdown",
   "id": "9044de6c-9e99-4c26-ac39-88a2bc38151f",
   "metadata": {},
   "source": [
    "#### Create new supplementary files with these names ommitted \n"
   ]
  },
  {
   "cell_type": "code",
   "execution_count": 14,
   "id": "abb7107a-cde6-476a-b866-c3cad8314a67",
   "metadata": {},
   "outputs": [
    {
     "name": "stdout",
     "output_type": "stream",
     "text": [
      "  0.295505 seconds (643.74 k allocations: 42.403 MiB, 48.18% gc time, 18.35% compilation time)\n"
     ]
    }
   ],
   "source": [
    "new_sup_one = Vector()\n",
    "@time for line in sup_one\n",
    "        gene = split(line, \" \")[1]\n",
    "            if gene ∉ corrupt_genes\n",
    "            push!(new_sup_one, line)        \n",
    "            end\n",
    "    end "
   ]
  },
  {
   "cell_type": "code",
   "execution_count": 15,
   "id": "cd6df3e3-0cc8-4259-bd8f-2755bcc06efa",
   "metadata": {},
   "outputs": [
    {
     "data": {
      "text/plain": [
       "20004"
      ]
     },
     "execution_count": 15,
     "metadata": {},
     "output_type": "execute_result"
    }
   ],
   "source": [
    "length(new_sup_one)"
   ]
  },
  {
   "cell_type": "markdown",
   "id": "73f52264-9080-401a-beca-2c88deff9246",
   "metadata": {},
   "source": [
    "The incorrectly formatted genes are from supplementary file one. "
   ]
  },
  {
   "cell_type": "code",
   "execution_count": 16,
   "id": "df47ed87-0a11-4436-a758-cce3634aba0a",
   "metadata": {},
   "outputs": [
    {
     "name": "stdout",
     "output_type": "stream",
     "text": [
      "  0.095013 seconds (640.52 k allocations: 42.186 MiB, 12.92% gc time)\n"
     ]
    }
   ],
   "source": [
    "new_sup_two = Vector()\n",
    "@time for line in sup_two\n",
    "        gene = split(line, \" \")[1]\n",
    "            if gene ∉ corrupt_genes\n",
    "            push!(new_sup_two, line)        \n",
    "            end\n",
    "    end "
   ]
  },
  {
   "cell_type": "code",
   "execution_count": 17,
   "id": "c70384a7-6aa1-48bc-ab88-76b79177aaac",
   "metadata": {},
   "outputs": [
    {
     "data": {
      "text/plain": [
       "20032"
      ]
     },
     "execution_count": 17,
     "metadata": {},
     "output_type": "execute_result"
    }
   ],
   "source": [
    "length(new_sup_two)"
   ]
  },
  {
   "cell_type": "markdown",
   "id": "7c2bc4df-104f-4bec-a4a8-80dd628cb097",
   "metadata": {},
   "source": [
    "### 2. Explore the data \n",
    "Output the five genes with the highest mRNA synthesis rate\n",
    "\n",
    "I am thinking that I will create a dict which maps the gene name to the synthesis rate, and then I can easily sort the synthesis values."
   ]
  },
  {
   "cell_type": "markdown",
   "id": "34bbc4e1-8842-4dd2-a30c-940e86d097b4",
   "metadata": {},
   "source": [
    "Because the supplementary file is inconsistently formatted, with varying amounts of whitespace delimiters between the variable values, we should tidy it up and make it into a consistent comma delimited array. "
   ]
  },
  {
   "cell_type": "code",
   "execution_count": 18,
   "id": "31822cc8-e91c-48e9-ab31-f3030546ff8d",
   "metadata": {},
   "outputs": [],
   "source": [
    "# We don't want to print white spaces, but remove them! \n",
    "final_sup_two = Vector{String}()\n",
    "for line in new_sup_two[2:end]\n",
    "    new_line = Vector()\n",
    "    for char in eachindex(line) # each eachindex() function to list out iterate over indices\n",
    "        if line[char] != ' ' # if we encounter a non-space character, send it to the array\n",
    "            new_line = push!(new_line, line[char]) \n",
    "        elseif line[char] == ' ' && line[char-1] != ' ' # If we encounter a space, but the previous index is not a space, send it to array\n",
    "            new_line = push!(new_line, ',')\n",
    "        end \n",
    "    end \n",
    "    push!(final_sup_two, join(new_line))\n",
    "end       "
   ]
  },
  {
   "cell_type": "code",
   "execution_count": null,
   "id": "335e57c9-c5a5-4e0f-ba48-600fa47551b0",
   "metadata": {},
   "outputs": [],
   "source": []
  },
  {
   "cell_type": "code",
   "execution_count": 19,
   "id": "0c0db86d-d92b-4a22-b2c9-c130ab978d21",
   "metadata": {},
   "outputs": [],
   "source": [
    "sup_two_dict = Dict{AbstractString, Float64}() # Has to be this specific Type fields as otherwise sorting doesn't work as intended\n",
    "for gene in final_sup_two[2:end]\n",
    "    split_line = split(gene, \",\")\n",
    "    sup_two_dict[split_line[1]] = parse(Float64, split_line[2])\n",
    "end "
   ]
  },
  {
   "cell_type": "code",
   "execution_count": 20,
   "id": "a5dc0a56-bb54-402c-be27-c3bc0813a17b",
   "metadata": {
    "scrolled": true
   },
   "outputs": [
    {
     "data": {
      "text/plain": [
       "Dict{AbstractString, Float64} with 20030 entries:\n",
       "  \"MMP11\"     => 3.7\n",
       "  \"TMOD4\"     => 14.1\n",
       "  \"ETV4\"      => 0.8\n",
       "  \"DNASE2\"    => 0.8\n",
       "  \"PRH1\"      => 11.1\n",
       "  \"MOB4\"      => 4.2\n",
       "  \"KAT2A\"     => 3.0\n",
       "  \"GCNT3\"     => 1.0\n",
       "  \"SREBF2\"    => 5.9\n",
       "  \"APOC2\"     => 2.6\n",
       "  \"CDC40\"     => 2.0\n",
       "  \"HLA-B\"     => 1.9\n",
       "  \"FAXC\"      => 0.6\n",
       "  \"NAGS\"      => 4.7\n",
       "  \"CYP2C19\"   => 6.6\n",
       "  \"TMEM74B\"   => 5.2\n",
       "  \"CNN3\"      => 6.3\n",
       "  \"HOXD4\"     => 1.5\n",
       "  \"TNFRSF11B\" => 4.4\n",
       "  \"AMZ2\"      => 7.3\n",
       "  \"ACER2\"     => 6.3\n",
       "  \"TPP2\"      => 1.1\n",
       "  \"THBS4\"     => 7.0\n",
       "  \"MED9\"      => 4.1\n",
       "  \"NBPF4\"     => 3.3\n",
       "  ⋮           => ⋮"
      ]
     },
     "execution_count": 20,
     "metadata": {},
     "output_type": "execute_result"
    }
   ],
   "source": [
    "sup_two_dict"
   ]
  },
  {
   "cell_type": "code",
   "execution_count": 21,
   "id": "b0d036dc-ffaa-4b1d-abcb-599764234879",
   "metadata": {},
   "outputs": [
    {
     "data": {
      "text/plain": [
       "5-element Vector{Pair{AbstractString, Float64}}:\n",
       " \"CCDC169-SOHLH2\" => 114.7\n",
       "         \"DDX60L\" => 80.1\n",
       "          \"LRRK1\" => 75.3\n",
       "       \"SLC25A45\" => 70.1\n",
       "          \"FARP1\" => 68.2"
      ]
     },
     "execution_count": 21,
     "metadata": {},
     "output_type": "execute_result"
    }
   ],
   "source": [
    "sorted_sup_two_rates = sort(collect(sup_two_dict), by = x -> x[2], rev = true) ; first(sorted_sup_two_rates, 5)"
   ]
  },
  {
   "cell_type": "markdown",
   "id": "fe92dd83-0c5c-4111-b3a1-3f93ada1c690",
   "metadata": {
    "scrolled": true
   },
   "source": [
    "#### Answer\n",
    "The five genes with the highest mRNA synthesis rate are   \n",
    "1. CCDC169-SOHLH2 => 114.7\n",
    "2. DDX60L => 80.1\n",
    "3. LRRK1 => 75.3\n",
    "4. SLC25A45 => 70.1\n",
    "5. FARP1 => 68.2"
   ]
  },
  {
   "cell_type": "markdown",
   "id": "eebdff92-9a5f-4079-9448-31ff1ecb64e1",
   "metadata": {},
   "source": [
    "Output the five genes with the longest mRNA halflife"
   ]
  },
  {
   "cell_type": "code",
   "execution_count": 22,
   "id": "3c67ab52-aa75-4552-a0e3-c43e9ebeac25",
   "metadata": {},
   "outputs": [],
   "source": [
    "sup_two_dict_halflife = Dict{AbstractString, Float64}() # Has to be this specific Type fields as otherwise sorting doesn't work as intended\n",
    "for gene in final_sup_two[2:end]\n",
    "    split_line = split(gene, \",\")\n",
    "    sup_two_dict_halflife[split_line[1]] = parse(Float64, split_line[3])\n",
    "end "
   ]
  },
  {
   "cell_type": "code",
   "execution_count": 23,
   "id": "e54fcb0f-244a-4700-b657-b44523b8e7ee",
   "metadata": {
    "scrolled": true
   },
   "outputs": [
    {
     "data": {
      "text/plain": [
       "Dict{AbstractString, Float64} with 20030 entries:\n",
       "  \"MMP11\"     => 18.6\n",
       "  \"TMOD4\"     => 6.5\n",
       "  \"ETV4\"      => 9.2\n",
       "  \"DNASE2\"    => 18.7\n",
       "  \"PRH1\"      => 12.6\n",
       "  \"MOB4\"      => 11.8\n",
       "  \"KAT2A\"     => 13.7\n",
       "  \"GCNT3\"     => 16.2\n",
       "  \"SREBF2\"    => 22.6\n",
       "  \"APOC2\"     => 20.9\n",
       "  \"CDC40\"     => 16.5\n",
       "  \"HLA-B\"     => 18.9\n",
       "  \"FAXC\"      => 8.7\n",
       "  \"NAGS\"      => 10.2\n",
       "  \"CYP2C19\"   => 6.3\n",
       "  \"TMEM74B\"   => 8.2\n",
       "  \"CNN3\"      => 16.5\n",
       "  \"HOXD4\"     => 16.6\n",
       "  \"TNFRSF11B\" => 17.6\n",
       "  \"AMZ2\"      => 13.7\n",
       "  \"ACER2\"     => 16.8\n",
       "  \"TPP2\"      => 13.0\n",
       "  \"THBS4\"     => 6.6\n",
       "  \"MED9\"      => 21.0\n",
       "  \"NBPF4\"     => 18.0\n",
       "  ⋮           => ⋮"
      ]
     },
     "execution_count": 23,
     "metadata": {},
     "output_type": "execute_result"
    }
   ],
   "source": [
    "sup_two_dict_halflife"
   ]
  },
  {
   "cell_type": "code",
   "execution_count": 24,
   "id": "55023205-cea1-4c5f-9587-f4fbc6c4c247",
   "metadata": {},
   "outputs": [
    {
     "data": {
      "text/plain": [
       "5-element Vector{Pair{AbstractString, Float64}}:\n",
       "   \"TFRC\" => 99.5\n",
       " \"SPINK8\" => 71.8\n",
       "  \"DIRC1\" => 67.3\n",
       "  \"PLA1A\" => 61.5\n",
       " \"SAMSN1\" => 58.1"
      ]
     },
     "execution_count": 24,
     "metadata": {},
     "output_type": "execute_result"
    }
   ],
   "source": [
    "sorted_sup_two_halflife = sort(collect(sup_two_dict_halflife), by = x -> x[2], rev = true) ; first(sorted_sup_two_halflife, 5)"
   ]
  },
  {
   "cell_type": "markdown",
   "id": "3e3b772e-0c32-411c-be05-a64658ba621e",
   "metadata": {},
   "source": [
    "#### Answer\n",
    "The tope five genes with the longest half-life are\n",
    "1. TFRC => 99.5\n",
    "2. SPINK8 => 71.8\n",
    "3. DIRC1 => 67.3\n",
    "4. PLA1A => 61.5\n",
    "5. SAMSN1 => 58.1"
   ]
  },
  {
   "cell_type": "markdown",
   "id": "74a21449-d498-4afb-9e7f-9a3acecff1e9",
   "metadata": {},
   "source": [
    "#### 3. Figure out what happened\n",
    "Write a script that merges the two data files, line by line, merging them on gene name. That is, for each line in file 1 for gene X, find the corresponding line for gene X in file 2; we're going to write a single output file with one line per gene. The genes are in different orders in the files, so this merge isn't entirely trivial. For any gene name X that isn't found in both files (cough cough Excel corruption cough cough) just skip it. For each gene name that is found in both files, output one whitespace-delimited, column-justified data line consisting of 7 fields per line:"
   ]
  },
  {
   "cell_type": "markdown",
   "id": "96ab761e-9a0b-42e7-af2f-a1b8af2af0a9",
   "metadata": {},
   "source": [
    "Create a final, cleanly formatted supplementary file 1"
   ]
  },
  {
   "cell_type": "code",
   "execution_count": 25,
   "id": "3878ea11-9da2-42eb-b71f-c8a27b2a009c",
   "metadata": {},
   "outputs": [],
   "source": [
    "final_sup_one = Vector{String}()\n",
    "for line in new_sup_one[2:end]\n",
    "    new_line = Vector()\n",
    "    for char in eachindex(line) # each eachindex() function to list out iterate over indices\n",
    "        if line[char] != ' ' # if we encounter a non-space character, send it to the array\n",
    "            new_line = push!(new_line, line[char]) \n",
    "        elseif line[char] == ' ' && line[char-1] != ' ' # If we encounter a space, but the previous index is not a space, send it to array\n",
    "            new_line = push!(new_line, ',')\n",
    "        end \n",
    "    end \n",
    "    push!(final_sup_one, join(new_line))\n",
    "end   "
   ]
  },
  {
   "cell_type": "code",
   "execution_count": 26,
   "id": "d9a89ab1-52b9-46f1-b18c-3182e4a42201",
   "metadata": {
    "scrolled": true
   },
   "outputs": [
    {
     "data": {
      "text/plain": [
       "20003-element Vector{String}:\n",
       " \"anise,5.4,5.2,4.8,3.1,0.6,\"\n",
       " \"apricot,13.4,14.6,12.4,8.6,1.9,\"\n",
       " \"artichoke,4.2,1.5,0.5,0.0,0.0,\"\n",
       " \"arugula,66.9,23.9,7.0,0.5,0.0,\"\n",
       " \"asparagus,55.6,78.1,100.9,135.8,115.0,\"\n",
       " \"avocado,27.0,14.3,6.2,1.1,0.0,\"\n",
       " \"banana,101.3,132.2,126.7,130.7,68.7,\"\n",
       " \"basil,3.1,1.1,0.4,0.0,0.0,\"\n",
       " \"beet,3.8,1.1,0.3,0.0,0.0,\"\n",
       " \"blackberry,23.9,15.6,9.1,2.5,0.1,\"\n",
       " \"blueberry,7.3,4.5,2.0,0.4,0.0,\"\n",
       " \"broccoli,16.4,14.1,11.1,5.4,0.7,\"\n",
       " \"butternut,24.5,27.9,23.5,16.7,4.5,\"\n",
       " ⋮\n",
       " \"AL592183.1,33.7,45.8,52.5,62.8,53.5,\"\n",
       " \"AC007325.1,77.7,51.8,27.9,6.5,0.2,\"\n",
       " \"AC007325.4,34.3,34.4,38.6,30.0,12.6,\"\n",
       " \"AC007325.2,7.3,7.4,6.7,4.0,1.0,\"\n",
       " \"BX072566.1,26.9,29.1,26.5,25.1,9.0,\"\n",
       " \"AL354822.1,49.9,53.8,62.9,57.3,37.4,\"\n",
       " \"AC023491.2,156.4,173.5,174.9,116.0,42.1,\"\n",
       " \"AC004556.1,68.9,59.9,51.5,26.9,4.7,\"\n",
       " \"AC233755.2,56.5,49.6,37.1,18.2,2.4,\"\n",
       " \"AC233755.1,1.9,1.1,0.5,0.1,0.0,\"\n",
       " \"AC240274.1,10.1,10.7,9.3,4.8,0.8,\"\n",
       " \"AC213203.1,31.0,37.3,37.8,35.1,18.8,\""
      ]
     },
     "execution_count": 26,
     "metadata": {},
     "output_type": "execute_result"
    }
   ],
   "source": [
    "final_sup_one"
   ]
  },
  {
   "cell_type": "code",
   "execution_count": 27,
   "id": "45ecf288-eebe-42b5-b4a7-b56bb04d2a75",
   "metadata": {},
   "outputs": [
    {
     "data": {
      "text/plain": [
       "20031-element Vector{String}:\n",
       " \"CYB5R3,3.2,19.9\"\n",
       " \"MMAA,1.1,9.5\"\n",
       " \"SLC24A1,0.8,14.8\"\n",
       " \"OR10D3,12.6,14.0\"\n",
       " \"IFITM5,2.5,20.3\"\n",
       " \"CDC5L,0.7,8.3\"\n",
       " \"DPYSL2,1.4,26.5\"\n",
       " \"ERCC6,1.0,11.3\"\n",
       " \"SYCE2,1.7,23.0\"\n",
       " \"CHST7,2.1,5.5\"\n",
       " \"PFDN2,6.6,17.2\"\n",
       " \"PHKB,0.3,17.5\"\n",
       " \"KLF12,2.5,15.0\"\n",
       " ⋮\n",
       " \"FGF23,6.6,8.8\"\n",
       " \"SPINK6,1.9,9.3\"\n",
       " \"RUNX1T1,1.4,14.8\"\n",
       " \"GABRB1,3.4,23.6\"\n",
       " \"GJC1,4.4,23.1\"\n",
       " \"TFRC,2.4,99.5\"\n",
       " \"STK24,1.7,9.4\"\n",
       " \"MTUS1,4.7,21.0\"\n",
       " \"TRIM42,2.2,17.2\"\n",
       " \"IRF7,10.4,10.2\"\n",
       " \"HSPE1,2.8,17.0\"\n",
       " \"EYS,1.8,14.1\""
      ]
     },
     "execution_count": 27,
     "metadata": {},
     "output_type": "execute_result"
    }
   ],
   "source": [
    "final_sup_two"
   ]
  },
  {
   "cell_type": "code",
   "execution_count": 32,
   "id": "e971aba9-5173-4628-8501-705f0de24a35",
   "metadata": {},
   "outputs": [
    {
     "data": {
      "text/plain": [
       "17865"
      ]
     },
     "execution_count": 32,
     "metadata": {},
     "output_type": "execute_result"
    }
   ],
   "source": [
    "findfirst(x -> occursin(\"chickpea\", x) , final_sup_two)"
   ]
  },
  {
   "cell_type": "markdown",
   "id": "45e8461a-38fe-4033-a013-6c962072379b",
   "metadata": {},
   "source": [
    "Merge the sup_one and sup_two files together gene-by-gene - this will create a vector of vectors, which will allow by-line indexing. "
   ]
  },
  {
   "cell_type": "code",
   "execution_count": 34,
   "id": "7b34f945-8eed-4f1d-97f7-edb4f27e9113",
   "metadata": {
    "scrolled": true
   },
   "outputs": [
    {
     "name": "stdout",
     "output_type": "stream",
     "text": [
      "found_index = 434\n"
     ]
    },
    {
     "ename": "LoadError",
     "evalue": "MethodError: no method matching split(::Char, ::Char)\n\n\u001b[0mClosest candidates are:\n\u001b[0m  split(\u001b[91m::T\u001b[39m, ::Any; limit, keepempty) where T<:AbstractString\n\u001b[0m\u001b[90m   @\u001b[39m \u001b[90mBase\u001b[39m \u001b[90mstrings/\u001b[39m\u001b[90m\u001b[4mutil.jl:626\u001b[24m\u001b[39m\n",
     "output_type": "error",
     "traceback": [
      "MethodError: no method matching split(::Char, ::Char)\n\n\u001b[0mClosest candidates are:\n\u001b[0m  split(\u001b[91m::T\u001b[39m, ::Any; limit, keepempty) where T<:AbstractString\n\u001b[0m\u001b[90m   @\u001b[39m \u001b[90mBase\u001b[39m \u001b[90mstrings/\u001b[39m\u001b[90m\u001b[4mutil.jl:626\u001b[24m\u001b[39m\n",
      "",
      "Stacktrace:",
      " [1] top-level scope",
      "   @ In[34]:11"
     ]
    }
   ],
   "source": [
    "merged_vector = Vector{Any}()\n",
    "for line in final_sup_one\n",
    "    new_merged_line = Vector()\n",
    "    split_line_measures = split(line, ',')[2:end]\n",
    "    split_line_gene = split(line, ',')[1] \n",
    "    #found_index = findall(x -> occursin(split_line_gene, x), final_sup_two)\n",
    "        found_index = findfirst(x -> occursin(split_line_gene, x), final_sup_two)\n",
    "    @show found_index\n",
    "    tmp_vec = Vector{AbstractString}()\n",
    "    for value in final_sup_two[found_index]\n",
    "        split_value = split(value, ',')\n",
    "        for i in split_value\n",
    "            push!(tmp_vec, i)\n",
    "        end\n",
    "    end \n",
    "    for element in split_line_measures\n",
    "        push!(tmp_vec, element)\n",
    "    end \n",
    "    push!(merged_vector, tmp_vec)    \n",
    "    #@show tmp_vec\n",
    "    #push!(new_merged_line, string(final_sup_two[found_index]))\n",
    "    #push!(new_merged_line, string(split_line_measures))\n",
    "    #push!(merged_vector, new_merged_line)    \n",
    "end "
   ]
  },
  {
   "cell_type": "code",
   "execution_count": 43,
   "id": "b4253aae-ba0d-44b2-95f2-78b5df1eedf9",
   "metadata": {},
   "outputs": [
    {
     "data": {
      "text/plain": [
       "20025"
      ]
     },
     "execution_count": 43,
     "metadata": {},
     "output_type": "execute_result"
    }
   ],
   "source": [
    "q = findfirst( x -> occursin(\"TFRC\", x), final_sup_two)"
   ]
  },
  {
   "cell_type": "markdown",
   "id": "39d5280c-6ef2-411a-a712-c9e9c909742b",
   "metadata": {
    "scrolled": true
   },
   "source": [
    "We want to look at the genes with the highest expression ratio between 96h and 0h - even if the change is from 1 to 10, this is a 10 fold change, so may appear interesting even if the relative number of transcrips is quite insignificant. 96h will be in index 7, and 0h will be in index 3. "
   ]
  },
  {
   "cell_type": "code",
   "execution_count": 125,
   "id": "1e13b3fa-f4c1-4720-93c5-f05769834f5d",
   "metadata": {
    "scrolled": true
   },
   "outputs": [
    {
     "data": {
      "text/plain": [
       "18-element Vector{AbstractString}:\n",
       " \"peach\"\n",
       " \"3.1\"\n",
       " \"12.9\"\n",
       " \"pear\"\n",
       " \"3.1\"\n",
       " \"9.5\"\n",
       " \"chickpea\"\n",
       " \"0.4\"\n",
       " \"8.8\"\n",
       " \"pea\"\n",
       " \"14.4\"\n",
       " \"9.9\"\n",
       " \"154.4\"\n",
       " \"106.1\"\n",
       " \"63.9\"\n",
       " \"20.4\"\n",
       " \"1.0\"\n",
       " \"\""
      ]
     },
     "execution_count": 125,
     "metadata": {},
     "output_type": "execute_result"
    }
   ],
   "source": [
    "merged_vector[69]"
   ]
  },
  {
   "cell_type": "code",
   "execution_count": 122,
   "id": "81b68bb5-a7aa-4c87-967c-30f7b5a3459d",
   "metadata": {
    "scrolled": true
   },
   "outputs": [
    {
     "name": "stdout",
     "output_type": "stream",
     "text": [
      "row = AbstractString[\"anise\", \"0.4\", \"13.9\", \"5.4\", \"5.2\", \"4.8\", \"3.1\", \"0.6\", \"\"]\n",
      "row = AbstractString[\"apricot\", \"1.0\", \"13.9\", \"13.4\", \"14.6\", \"12.4\", \"8.6\", \"1.9\", \"\"]\n",
      "row = AbstractString[\"artichoke\", \"0.6\", \"6.5\", \"4.2\", \"1.5\", \"0.5\", \"0.0\", \"0.0\", \"\"]\n",
      "row = AbstractString[\"arugula\", \"10.1\", \"6.3\", \"66.9\", \"23.9\", \"7.0\", \"0.5\", \"0.0\", \"\"]\n",
      "row = AbstractString[\"asparagus\", \"2.2\", \"24.1\", \"55.6\", \"78.1\", \"100.9\", \"135.8\", \"115.0\", \"\"]\n",
      "row = AbstractString[\"avocado\", \"3.1\", \"8.0\", \"27.0\", \"14.3\", \"6.2\", \"1.1\", \"0.0\", \"\"]\n",
      "row = AbstractString[\"banana\", \"5.2\", \"18.5\", \"101.3\", \"132.2\", \"126.7\", \"130.7\", \"68.7\", \"\"]\n",
      "row = AbstractString[\"basil\", \"0.4\", \"6.6\", \"3.1\", \"1.1\", \"0.4\", \"0.0\", \"0.0\", \"\"]\n",
      "row = AbstractString[\"beet\", \"0.6\", \"6.0\", \"3.8\", \"1.1\", \"0.3\", \"0.0\", \"0.0\", \"\"]\n",
      "row = AbstractString[\"blackberry\", \"2.3\", \"9.6\", \"23.9\", \"15.6\", \"9.1\", \"2.5\", \"0.1\", \"\"]\n",
      "row = AbstractString[\"blueberry\", \"0.9\", \"8.1\", \"7.3\", \"4.5\", \"2.0\", \"0.4\", \"0.0\", \"\"]\n",
      "row = AbstractString[\"broccoli\", \"1.3\", \"12.1\", \"16.4\", \"14.1\", \"11.1\", \"5.4\", \"0.7\", \"\"]\n",
      "row = AbstractString[\"butternut\", \"1.7\", \"14.9\", \"24.5\", \"27.9\", \"23.5\", \"16.7\", \"4.5\", \"\"]\n",
      "row = AbstractString[\"cabbage\", \"1.2\", \"20.7\", \"28.4\", \"34.2\", \"40.4\", \"40.0\", \"29.6\", \"\"]\n",
      "row = AbstractString[\"cantaloupe\", \"2.1\", \"9.4\", \"21.1\", \"12.7\", \"8.2\", \"2.2\", \"0.1\", \"\"]\n",
      "row = AbstractString[\"caraway\", \"1.9\", \"10.5\", \"19.8\", \"15.1\", \"10.8\", \"3.9\", \"0.3\", \"\"]\n",
      "row = AbstractString[\"carrot\", \"3.5\", \"11.9\", \"44.0\", \"36.3\", \"26.9\", \"13.8\", \"1.6\", \"\"]\n",
      "row = AbstractString[\"cauliflower\", \"4.1\", \"7.3\", \"30.8\", \"14.2\", \"5.4\", \"0.7\", \"0.0\", \"\"]\n",
      "row = AbstractString[\"cayenne\", \"3.7\", \"13.1\", \"54.2\", \"46.4\", \"37.1\", \"21.0\", \"3.7\", \"\"]\n",
      "row = AbstractString[\"celery\", \"2.4\", \"16.2\", \"42.5\", \"47.0\", \"41.7\", \"40.3\", \"13.7\", \"\"]\n",
      "row = AbstractString[\"chard\", \"1.8\", \"18.3\", \"35.2\", \"39.3\", \"43.9\", \"40.5\", \"21.7\", \"\"]\n",
      "row = AbstractString[\"cherry\", \"1.1\", \"15.8\", \"17.6\", \"19.8\", \"19.3\", \"14.9\", \"5.2\", \"\"]\n",
      "row = AbstractString[\"chestnut\", \"2.1\", \"15.7\", \"28.5\", \"35.1\", \"36.4\", \"26.4\", \"8.2\", \"\"]\n",
      "row = AbstractString[\"chickpea\", \"0.4\", \"8.8\", \"4.2\", \"2.3\", \"1.2\", \"0.3\", \"0.0\", \"\"]\n",
      "row = AbstractString[\"cilantro\", \"2.8\", \"8.1\", \"24.8\", \"11.3\", \"5.2\", \"1.0\", \"0.0\", \"\"]\n",
      "row = AbstractString[\"clementine\", \"9.1\", \"14.7\", \"136.4\", \"140.6\", \"132.5\", \"83.2\", \"25.4\", \"\"]\n",
      "row = AbstractString[\"coconut\", \"2.4\", \"16.8\", \"43.2\", \"45.9\", \"48.3\", \"37.6\", \"16.8\", \"\"]\n",
      "row = AbstractString[\"coriander\", \"2.2\", \"10.2\", \"22.2\", \"17.4\", \"11.6\", \"4.1\", \"0.2\", \"\"]\n",
      "row = AbstractString[\"cranberry\", \"4.1\", \"16.7\", \"73.7\", \"82.3\", \"83.7\", \"65.3\", \"26.4\", \"\"]\n",
      "row = AbstractString[\"cucumber\", \"0.8\", \"10.3\", \"8.5\", \"5.8\", \"3.8\", \"1.3\", \"0.1\", \"\"]\n",
      "row = AbstractString[\"currant\", \"1.9\", \"14.3\", \"30.2\", \"27.8\", \"24.2\", \"16.3\", \"3.7\", \"\"]\n",
      "row = AbstractString[\"eggplant\", \"3.0\", \"12.6\", \"38.4\", \"33.3\", \"27.9\", \"13.8\", \"2.5\", \"\"]\n",
      "row = AbstractString[\"elderberry\", \"2.6\", \"13.2\", \"34.8\", \"37.2\", \"27.6\", \"16.7\", \"3.0\", \"\"]\n",
      "row = AbstractString[\"endive\", \"2.7\", \"23.5\", \"62.2\", \"89.1\", \"101.3\", \"141.1\", \"131.9\", \"\"]\n",
      "row = AbstractString[\"fennel\", \"5.8\", \"12.5\", \"75.8\", \"72.1\", \"53.7\", \"26.8\", \"4.4\", \"\"]\n",
      "row = AbstractString[\"fig\", \"1.7\", \"8.6\", \"14.6\", \"9.6\", \"4.5\", \"0.9\", \"0.0\", \"\"]\n",
      "row = AbstractString[\"garlic\", \"0.4\", \"5.9\", \"2.4\", \"0.8\", \"0.2\", \"0.0\", \"0.0\", \"\"]\n",
      "row = AbstractString[\"ginger\", \"9.1\", \"13.9\", \"136.9\", \"135.0\", \"108.2\", \"69.4\", \"14.6\", \"\"]\n",
      "row = AbstractString[\"gooseberry\", \"1.3\", \"11.7\", \"16.4\", \"12.9\", \"9.9\", \"4.3\", \"0.5\", \"\"]\n",
      "row = AbstractString[\"grapefruit\", \"0.9\", \"19.8\", \"grape\", \"3.0\", \"9.4\", \"31.1\", \"19.8\", \"11.0\", \"3.1\", \"0.1\", \"\"]\n",
      "row = AbstractString[\"grapefruit\", \"0.9\", \"19.8\", \"19.0\", \"22.4\", \"26.7\", \"27.2\", \"16.1\", \"\"]\n",
      "row = AbstractString[\"guava\", \"6.5\", \"34.5\", \"234.1\", \"366.4\", \"555.8\", \"940.1\", \"1814.4\", \"\"]\n",
      "row = AbstractString[\"honeydew\", \"1.6\", \"11.2\", \"19.8\", \"15.6\", \"10.9\", \"4.2\", \"0.4\", \"\"]\n",
      "row = AbstractString[\"horseradish\", \"6.7\", \"15.6\", \"109.3\", \"126.0\", \"114.4\", \"85.1\", \"24.3\", \"\"]\n",
      "row = AbstractString[\"huckleberry\", \"0.5\", \"11.6\", \"6.1\", \"5.3\", \"3.9\", \"1.7\", \"0.2\", \"\"]\n",
      "row = AbstractString[\"juniper\", \"6.9\", \"9.6\", \"68.7\", \"48.9\", \"28.2\", \"8.4\", \"0.4\", \"\"]\n",
      "row = AbstractString[\"kiwi\", \"12.6\", \"32.8\", \"407.6\", \"684.9\", \"1078.5\", \"1691.0\", \"2747.2\", \"\"]\n",
      "row = AbstractString[\"kohlrabi\", \"2.6\", \"16.2\", \"44.2\", \"46.6\", \"44.9\", \"35.6\", \"12.4\", \"\"]\n",
      "row = AbstractString[\"lavender\", \"3.1\", \"20.7\", \"74.2\", \"83.5\", \"107.2\", \"105.3\", \"80.7\", \"\"]\n",
      "row = AbstractString[\"leek\", \"0.8\", \"29.2\", \"22.5\", \"34.2\", \"47.8\", \"76.2\", \"103.5\", \"\"]\n",
      "row = AbstractString[\"lentil\", \"6.6\", \"8.3\", \"57.9\", \"29.8\", \"16.2\", \"3.0\", \"0.1\", \"\"]\n",
      "row = AbstractString[\"lettuce\", \"2.1\", \"4.5\", \"10.1\", \"1.8\", \"0.3\", \"0.0\", \"0.0\", \"\"]\n",
      "row = AbstractString[\"lime\", \"1.8\", \"8.2\", \"17.2\", \"9.1\", \"4.3\", \"0.8\", \"0.0\", \"\"]\n",
      "row = AbstractString[\"maize\", \"8.9\", \"9.4\", \"84.6\", \"61.0\", \"36.6\", \"8.3\", \"0.4\", \"\"]\n",
      "row = AbstractString[\"mango\", \"6.1\", \"5.4\", \"33.8\", \"8.4\", \"1.8\", \"0.1\", \"0.0\", \"\"]\n",
      "row = AbstractString[\"melon\", \"8.4\", \"27.4\", \"watermelon\", \"9.1\", \"21.0\", \"260.2\", \"347.8\", \"510.5\", \"764.0\", \"839.4\", \"\"]\n",
      "row = AbstractString[\"mulberry\", \"2.8\", \"11.0\", \"28.7\", \"23.5\", \"18.0\", \"6.8\", \"0.6\", \"\"]\n",
      "row = AbstractString[\"mushroom\", \"1.3\", \"8.2\", \"10.5\", \"6.0\", \"2.7\", \"0.5\", \"0.0\", \"\"]\n",
      "row = AbstractString[\"mustard\", \"13.4\", \"6.1\", \"89.4\", \"27.3\", \"7.8\", \"0.5\", \"0.0\", \"\"]\n",
      "row = AbstractString[\"nectarine\", \"2.2\", \"11.6\", \"29.7\", \"22.5\", \"15.3\", \"7.7\", \"0.7\", \"\"]\n",
      "row = AbstractString[\"okra\", \"25.6\", \"10.2\", \"265.4\", \"195.0\", \"130.6\", \"41.0\", \"2.7\", \"\"]\n",
      "row = AbstractString[\"olive\", \"6.3\", \"11.4\", \"69.1\", \"61.2\", \"40.3\", \"18.8\", \"2.1\", \"\"]\n",
      "row = AbstractString[\"onion\", \"4.8\", \"8.3\", \"41.6\", \"24.7\", \"11.9\", \"2.1\", \"0.0\", \"\"]\n",
      "row = AbstractString[\"orange\", \"0.4\", \"21.6\", \"7.8\", \"11.0\", \"13.0\", \"14.4\", \"11.8\", \"\"]\n",
      "row = AbstractString[\"oregano\", \"1.9\", \"13.7\", \"27.9\", \"24.2\", \"22.9\", \"12.9\", \"2.9\", \"\"]\n",
      "row = AbstractString[\"papaya\", \"2.4\", \"9.8\", \"25.6\", \"16.8\", \"10.6\", \"3.1\", \"0.2\", \"\"]\n",
      "row = AbstractString[\"parsley\", \"5.0\", \"5.7\", \"29.4\", \"9.6\", \"2.2\", \"0.1\", \"0.0\", \"\"]\n",
      "row = AbstractString[\"parsnip\", \"2.2\", \"27.1\", \"59.6\", \"98.3\", \"124.3\", \"178.9\", \"212.2\", \"\"]\n",
      "row = AbstractString[\"peach\", \"3.1\", \"12.9\", \"pear\", \"3.1\", \"9.5\", \"chickpea\", \"0.4\", \"8.8\", \"pea\", \"14.4\", \"9.9\", \"154.4\", \"106.1\", \"63.9\", \"20.4\", \"1.0\", \"\"]\n"
     ]
    },
    {
     "ename": "LoadError",
     "evalue": "ArgumentError: cannot parse \"chickpea\" as Float64",
     "output_type": "error",
     "traceback": [
      "ArgumentError: cannot parse \"chickpea\" as Float64",
      "",
      "Stacktrace:",
      " [1] _parse_failure(T::Type, s::SubString{String}, startpos::Int64, endpos::Int64)",
      "   @ Base ./parse.jl:387",
      " [2] #tryparse_internal#528",
      "   @ Base ./parse.jl:383 [inlined]",
      " [3] tryparse_internal",
      "   @ Base ./parse.jl:380 [inlined]",
      " [4] parse(::Type{Float64}, s::SubString{String})",
      "   @ Base ./parse.jl:393",
      " [5] top-level scope",
      "   @ ./In[122]:6"
     ]
    }
   ],
   "source": [
    "expression_96_0_ratio = Vector()\n",
    "for row in merged_vector\n",
    "    @show row\n",
    "    gene_and_expression = Vector()\n",
    "    gene_name = row[1]\n",
    "    hr_96 = parse(Float64, row[7])\n",
    "    hr_0 = parse(Float64, row[3])\n",
    "    expression_ratio = round(hr_96 / hr_0, digits=3)\n",
    "    push!(gene_and_expression, gene_name)\n",
    "    push!(gene_and_expression, expression_ratio)\n",
    "    push!(expression_96_0_ratio, gene_and_expression)\n",
    "end"
   ]
  },
  {
   "cell_type": "code",
   "execution_count": 120,
   "id": "10f1636d-aa87-4a7d-a08d-cf0d6dd31ff0",
   "metadata": {},
   "outputs": [
    {
     "data": {
      "text/plain": [
       "68-element Vector{Any}:\n",
       " Any[\"anise\", 0.223]\n",
       " Any[\"apricot\", 0.619]\n",
       " Any[\"artichoke\", 0.0]\n",
       " Any[\"arugula\", 0.079]\n",
       " Any[\"asparagus\", 5.635]\n",
       " Any[\"avocado\", 0.138]\n",
       " Any[\"banana\", 7.065]\n",
       " Any[\"basil\", 0.0]\n",
       " Any[\"beet\", 0.0]\n",
       " Any[\"blackberry\", 0.26]\n",
       " Any[\"blueberry\", 0.049]\n",
       " Any[\"broccoli\", 0.446]\n",
       " Any[\"butternut\", 1.121]\n",
       " ⋮\n",
       " Any[\"mulberry\", 0.618]\n",
       " Any[\"mushroom\", 0.061]\n",
       " Any[\"mustard\", 0.082]\n",
       " Any[\"nectarine\", 0.664]\n",
       " Any[\"okra\", 4.02]\n",
       " Any[\"olive\", 1.649]\n",
       " Any[\"onion\", 0.253]\n",
       " Any[\"orange\", 0.667]\n",
       " Any[\"oregano\", 0.942]\n",
       " Any[\"papaya\", 0.316]\n",
       " Any[\"parsley\", 0.018]\n",
       " Any[\"parsnip\", 6.601]"
      ]
     },
     "execution_count": 120,
     "metadata": {},
     "output_type": "execute_result"
    }
   ],
   "source": [
    "expression_96_0_ratio"
   ]
  },
  {
   "cell_type": "code",
   "execution_count": null,
   "id": "b1160672-e404-46d8-ac35-fe50d1008e2a",
   "metadata": {},
   "outputs": [],
   "source": []
  },
  {
   "cell_type": "code",
   "execution_count": null,
   "id": "90ee55b9-3331-4160-8a87-4ba54abc7b56",
   "metadata": {},
   "outputs": [],
   "source": []
  },
  {
   "cell_type": "code",
   "execution_count": null,
   "id": "33b4c2e5-fc31-484a-b46c-cce5e6eb317d",
   "metadata": {},
   "outputs": [],
   "source": []
  },
  {
   "cell_type": "code",
   "execution_count": null,
   "id": "87b12f4d-6bff-4391-8e5a-a8288df4d702",
   "metadata": {},
   "outputs": [],
   "source": []
  },
  {
   "cell_type": "code",
   "execution_count": null,
   "id": "09da5e54-e7d0-4bee-8f9f-be68b8a4c4e0",
   "metadata": {},
   "outputs": [],
   "source": []
  },
  {
   "cell_type": "code",
   "execution_count": null,
   "id": "75aa4bd5-f790-4e7e-bc8b-38b1c1743cf6",
   "metadata": {},
   "outputs": [],
   "source": []
  },
  {
   "cell_type": "code",
   "execution_count": null,
   "id": "83d9a1f1-2487-4c68-a4e3-b7d2b89fe291",
   "metadata": {},
   "outputs": [],
   "source": []
  },
  {
   "cell_type": "code",
   "execution_count": null,
   "id": "dabb51f7-8364-493d-b92b-e40b03ca9d9f",
   "metadata": {},
   "outputs": [],
   "source": []
  },
  {
   "cell_type": "code",
   "execution_count": null,
   "id": "c67edfe9-15e2-4184-a96d-5ba7b6fa9ace",
   "metadata": {},
   "outputs": [],
   "source": []
  }
 ],
 "metadata": {
  "kernelspec": {
   "display_name": "Julia 1.10.0",
   "language": "julia",
   "name": "julia-1.10"
  },
  "language_info": {
   "file_extension": ".jl",
   "mimetype": "application/julia",
   "name": "julia",
   "version": "1.10.0"
  }
 },
 "nbformat": 4,
 "nbformat_minor": 5
}
