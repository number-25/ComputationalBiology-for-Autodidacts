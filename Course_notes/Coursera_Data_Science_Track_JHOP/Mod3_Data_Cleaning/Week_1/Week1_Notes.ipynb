{
 "cells": [
  {
   "cell_type": "markdown",
   "id": "5faaf3d0-20bb-4754-bfbb-43a50e4491b8",
   "metadata": {},
   "source": [
    "# Week 1 Notes - Getting and Cleaning Data \n",
    "The course uses R as the programming language, however, I would prefer to learn Julia even more deeply, and so I will be writing down the commands in R, alongside the commands in Julia, which will be executed and used to complete this course. "
   ]
  },
  {
   "cell_type": "markdown",
   "id": "3c79e6d3-0ce8-4f40-8e73-0fb1cf625e87",
   "metadata": {},
   "source": [
    "## Downloading Files"
   ]
  },
  {
   "cell_type": "markdown",
   "id": "acf60474-84ce-42cd-91b6-55a2682a8a32",
   "metadata": {},
   "source": [
    "### Changing working directories\n",
    "To print the working directory in **R** we use the `getwd()` function, and to change the working directory we use the `setwd(\"/././\")` function, which can be both an absolute or relative path. "
   ]
  },
  {
   "cell_type": "markdown",
   "id": "835f2426-09ba-496e-aa1e-7474c77970fe",
   "metadata": {},
   "source": [
    "In **Julia** we use `pwd()` to print the working directory, and `cd(\"/./.\")` to change the working directory, so exactly as is done in linux. "
   ]
  },
  {
   "cell_type": "markdown",
   "id": "51b7c9ec-c833-4813-a087-f62de69c0d56",
   "metadata": {},
   "source": [
    "### Checking if directories and files are present, and creating directories\n",
    "In **R** we would (counterintuitively) use the `file.exist()` function (a directory is clearly not a file in the common sense) to check if a directory exists, and then the `dir.create(\"arg\")` function to create the directory. "
   ]
  },
  {
   "cell_type": "markdown",
   "id": "4bddf2ed-5b30-4f5a-99c1-14ba82dea2ea",
   "metadata": {},
   "source": [
    "In **Julia** we can use the `isdir()` function to check if a directory exists, along with the `mkdir(\"arg\")` function to make a directory. "
   ]
  },
  {
   "cell_type": "markdown",
   "id": "1180daad-a6ba-4913-bed9-6f39c150328f",
   "metadata": {},
   "source": [
    "### Downloading files \n",
    "In **R** to download a file, perform `download.file(url, destfile, method)` - make sure to pay attention to the arguments.\n",
    "After downloading a file we can verify the contents of the directory with `list.files(\"arg\")` function."
   ]
  },
  {
   "cell_type": "markdown",
   "id": "48e93e01-12a9-421b-9aab-4194cd8921db",
   "metadata": {},
   "source": [
    "In **Julia** we can use the `download(url, path)` - there are also many other arguments, so take a look at the documentation before using the function. There is also an additional package https://github.com/Arkoniak/UrlDownload.jl which provides a fancier alternative. As above we can check the presence of the file in the directory using the `readdir()` function "
   ]
  },
  {
   "cell_type": "markdown",
   "id": "a2dc95cd-0d88-4a98-980c-de2b90b49c03",
   "metadata": {},
   "source": [
    "### Storing the current date in a variable \n",
    "This may come in handy for replication - especially if the various components of the analysis are being performed across different days - I must admit this is not something that I had considered until now - great advice. "
   ]
  },
  {
   "cell_type": "markdown",
   "id": "402b374a-46e0-4d35-b1be-22d41624fb34",
   "metadata": {},
   "source": [
    "In **R** we can store the date in a simply date variable as such `datedownloaded = date()` whereas in **Julia** it takes a few more steps, as we must use the Dates package, and then use the `Dates.now()` function. "
   ]
  },
  {
   "cell_type": "code",
   "execution_count": 1,
   "id": "5200644d-8107-41a9-af86-fbd7c2000cfa",
   "metadata": {},
   "outputs": [],
   "source": [
    "using Dates"
   ]
  },
  {
   "cell_type": "code",
   "execution_count": 2,
   "id": "e56c0073-be82-4ccf-864e-e906601266d9",
   "metadata": {},
   "outputs": [
    {
     "data": {
      "text/plain": [
       "2024-01-22T15:13:22.578"
      ]
     },
     "execution_count": 2,
     "metadata": {},
     "output_type": "execute_result"
    }
   ],
   "source": [
    "dateDownloaded = Dates.now()"
   ]
  },
  {
   "cell_type": "markdown",
   "id": "cac47c1c-f97e-47c6-b63b-04d1c8ac3971",
   "metadata": {},
   "source": [
    "### Reading Local Files"
   ]
  },
  {
   "cell_type": "markdown",
   "id": "4e1bb90e-d0e2-4cd5-aa70-83fade68e0d5",
   "metadata": {},
   "source": [
    "The most basic way to read table/matrix formatted data into **R** is the `read.table(args...)` function."
   ]
  },
  {
   "cell_type": "markdown",
   "id": "a5f6108c-8e54-4bd2-8d26-82f1b52ab0c0",
   "metadata": {},
   "source": [
    "In **Julia**, we have the basic `read()` functionality `read(filename::AbstractString, args...)`, along with tailored read functions provided by packages such as CSV `using CSV ; CSV.read(args)`. Let's not forget the `open()` function can can be paired with `readlines()` and so on. "
   ]
  },
  {
   "cell_type": "code",
   "execution_count": 3,
   "id": "16760554-5212-4c97-8c87-0a1c24ca0bf3",
   "metadata": {},
   "outputs": [],
   "source": [
    "using CSV"
   ]
  },
  {
   "cell_type": "markdown",
   "id": "2f988cc0-59f1-45b0-a165-2eba94ec58f2",
   "metadata": {},
   "source": [
    "### Reading Excel Files"
   ]
  },
  {
   "cell_type": "markdown",
   "id": "bde3fd99-b82a-4460-b429-ddb5066ad78d",
   "metadata": {},
   "source": [
    "In **R** we'll be using the xlsx library, loaded as `library(xlsx)` which is a basic package for working with excel files. To read in the downloaded excel file, we can do `exceldata = read.xlsx(file, args...)`. The inverse function `write.xlsx()` will write excel files. "
   ]
  },
  {
   "cell_type": "markdown",
   "id": "17fddcb5-3bd8-49e2-a17e-09b4c4904a46",
   "metadata": {},
   "source": [
    "**Julia** also has it's own package for excel file, aptly titled \"XLSX\". "
   ]
  },
  {
   "cell_type": "code",
   "execution_count": 4,
   "id": "ccbb6b51-2c44-4dd6-bd33-e1920fdc73ad",
   "metadata": {},
   "outputs": [
    {
     "name": "stderr",
     "output_type": "stream",
     "text": [
      "\u001b[32m\u001b[1m    Updating\u001b[22m\u001b[39m registry at `~/.julia/registries/General.toml`\n",
      "\u001b[32m\u001b[1m   Resolving\u001b[22m\u001b[39m package versions...\n",
      "\u001b[32m\u001b[1m  No Changes\u001b[22m\u001b[39m to `~/.julia/environments/v1.9/Project.toml`\n",
      "\u001b[32m\u001b[1m  No Changes\u001b[22m\u001b[39m to `~/.julia/environments/v1.9/Manifest.toml`\n"
     ]
    }
   ],
   "source": [
    "using Pkg ; Pkg.add(\"XLSX\")"
   ]
  },
  {
   "cell_type": "code",
   "execution_count": 5,
   "id": "b6e1c0e2-01f7-47ec-9e38-b398dc701d96",
   "metadata": {},
   "outputs": [],
   "source": [
    "using XLSX"
   ]
  },
  {
   "cell_type": "markdown",
   "id": "b49a0284-0f30-4c0c-9842-dc477dd96f25",
   "metadata": {},
   "source": [
    "Reading an excel file in Julia is done in it's most basic form as `XLSX.readxlsx(\"data')` or `XLSX.readdata(\"data\", args...)` - the documentation will be the best place to start. The inverse function `XLSX.writexlsx(\"data)` will appropriately write excel data. "
   ]
  },
  {
   "cell_type": "markdown",
   "id": "d02c6fb7-02ec-4f1b-b7bb-317b4b5dbec0",
   "metadata": {},
   "source": [
    "### XML data\n",
    "XML stands for \"Extensible Markup Language\" and it is a common data format for web usage. Like JSON, YAML, it stores *structured* data, and extracting components and features of the XML is the basis of alot of web scraping. "
   ]
  },
  {
   "cell_type": "markdown",
   "id": "6da57030-5b2a-4330-a03c-9563bd7f667b",
   "metadata": {},
   "source": [
    "As we've seen with the Excel and CSV files, there are typically dedicated packages/libraries for working with these data forms - in this case in **R** we need the `library(XML)` library. "
   ]
  },
  {
   "cell_type": "markdown",
   "id": "d309dc02-19e3-4b91-9e0b-64a14de12b6f",
   "metadata": {},
   "source": [
    "After we've got the library loaded, we can load an XML tree from a files url using a specific function `dox <- xmlTreeParse(url, useINTERNAL=TRUE, args...)` and inspect a specific aspect of the XML tree, the node, using `rootNode <- xmlRoot(doc)`.  "
   ]
  },
  {
   "cell_type": "markdown",
   "id": "5c1b1b56-80a8-49ee-91dc-92ed501e67a8",
   "metadata": {},
   "source": [
    "**Julia** has several packages for XML files, two popular ones being XML.jl and EzXML.jl - the latter being a more aged and popular package which also has handy HTML operations. "
   ]
  },
  {
   "cell_type": "code",
   "execution_count": 6,
   "id": "5034e510-4139-49a8-90f5-8b9e94234ae3",
   "metadata": {},
   "outputs": [
    {
     "name": "stderr",
     "output_type": "stream",
     "text": [
      "\u001b[32m\u001b[1m   Resolving\u001b[22m\u001b[39m package versions...\n",
      "\u001b[32m\u001b[1m  No Changes\u001b[22m\u001b[39m to `~/.julia/environments/v1.9/Project.toml`\n",
      "\u001b[32m\u001b[1m  No Changes\u001b[22m\u001b[39m to `~/.julia/environments/v1.9/Manifest.toml`\n"
     ]
    }
   ],
   "source": [
    "Pkg.add(\"EzXML\")"
   ]
  },
  {
   "cell_type": "code",
   "execution_count": 3,
   "id": "24ba073d-588b-4f96-adb3-bd4ce8295272",
   "metadata": {},
   "outputs": [],
   "source": [
    "using EzXML"
   ]
  },
  {
   "attachments": {
    "8d14705a-33fe-419a-9408-e13468417c62.png": {
     "image/png": "[encoded data removed]"
    }
   },
   "cell_type": "markdown",
   "id": "8841edc8-c5c9-4558-8e7a-f69820ac51ed",
   "metadata": {},
   "source": [
    "The XML file being structured, has several basic building blocks, the first being the root of the structure, which contains everything in the XML. Attached to the root are children, which often have their own sub-children as attributes and tags.    \n",
    "   \n",
    "For example: ![image.png](attachment:8d14705a-33fe-419a-9408-e13468417c62.png)"
   ]
  },
  {
   "cell_type": "markdown",
   "id": "946d2830-704c-447a-abba-ecf161de1a12",
   "metadata": {},
   "source": [
    "In **R**, if we've got the root stored in a variable, we can access the contents of the root in an indexed fashion `root[[1]]` and then the index of the child element as well `root[[1]][[1]]` - though this is quite ugly in my opinion!"
   ]
  },
  {
   "cell_type": "markdown",
   "id": "1441b21b-d08c-4d3b-97d6-5868aa2c0288",
   "metadata": {},
   "source": [
    "A basic explanation of the use of XML in **Julia** is provided by a XML.jl snippet from github\n",
    "```julia\n",
    "using XML\n",
    "\n",
    "filename = joinpath(dirname(pathof(XML)), \"..\", \"test\", \"data\", \"books.xml\")\n",
    "\n",
    "doc = read(filename, Node)\n",
    "\n",
    "children(doc)\n",
    "# 2-Element Vector{Node}:\n",
    "#  Node Declaration <?xml version=\"1.0\"?>\n",
    "#  Node Element <catalog> (12 children)\n",
    "\n",
    "doc[end]  # The root node\n",
    "# Node Element <catalog> (12 children)\n",
    "\n",
    "doc[end][2]  # Second child of root\n",
    "# Node Element <book id=\"bk102\"> (6 children)\n",
    "```"
   ]
  },
  {
   "cell_type": "markdown",
   "id": "575964b3-d773-4460-9260-49e57bb84444",
   "metadata": {},
   "source": [
    "### Xpath language\n",
    "The Xpath language is a dedicated language that is part of the XML ecosystem. It is said to provide a number of advantages compared to the use of raw XML and programming libraries/packages. Often the libraries for XML will allow one to use Xpath directly. Jeff Leek recommends this presentation as a nice intro https://www.stat.berkeley.edu/users/statcur/Workshop2/Presentations/XML.pdf "
   ]
  },
  {
   "cell_type": "markdown",
   "id": "8166859f-a268-451b-be4d-3e5860388633",
   "metadata": {},
   "source": [
    "Using Xpath with **R** - the key here is in the //li[@case='price'] \n",
    "```R\n",
    "# Parse a html tree\n",
    "htmlTree = htmlTreeParse(file, args...)\n",
    "prices <- xPathSapply(htmlTree,\"//li[@case='price']\", xmlValue)\n",
    "# Show all the extracted prices from the html tree!\n",
    "prices\n",
    "```"
   ]
  },
  {
   "cell_type": "markdown",
   "id": "cdca3b37-5207-48f9-9139-b875bc1b3f80",
   "metadata": {},
   "source": [
    "Using Xpath with **Julia** - notice that the query looks somewhat like a **sed** operation \n",
    "```julia\n",
    "# Find texts using XPath query.\n",
    "for species_name in nodecontent.(findall(\"//species/text()\", primates))\n",
    "    println(\"- \", species_name)\n",
    "end\n",
    "```"
   ]
  },
  {
   "cell_type": "markdown",
   "id": "ae0d9f52-03b4-41f0-9158-c69cbbea8c2e",
   "metadata": {},
   "source": [
    "### Parsing and Working with JSON \n",
    "JSON is another extremely common data-metadata format which often stores volumous amounts of information in it's structure. "
   ]
  },
  {
   "cell_type": "markdown",
   "id": "fa709b85-fac9-45d4-8ecc-cf3c5d294021",
   "metadata": {},
   "source": [
    "**R** has a nice JSON library called `library(jsonlite)` which provides many basic functions. To read in some JSON data: `myJSON <- fromJSON(\"url\")` and view the names of the JSON elements `names(myJSON)`"
   ]
  },
  {
   "cell_type": "markdown",
   "id": "73352a2b-deed-4552-a743-5f4d2d667c25",
   "metadata": {},
   "source": [
    "**Julia** has the JSON.jl https://github.com/JuliaIO/JSON.jl package: `JSON.parsefile(filename, args...)` and JSON3.jl https://github.com/quinnj/JSON3.jl which is the preference of DataFrames creator Bogumil: `JSON3.read(json_string)`\n",
    "`JSON3.write(x)` and from file `json_string = read(\"my.json\", String)` \n"
   ]
  },
  {
   "cell_type": "markdown",
   "id": "961b58d4-604b-4eea-ae1f-dca6216c2b36",
   "metadata": {},
   "source": [
    "In **R** to write a JSON into a table we can do use the toJSON() function `JSframe <- fromJSON(iris, pretty=TRUE` and then write it back into a JSON using `backtoJS <- fromJSON(JSframe)`.    "
   ]
  },
  {
   "cell_type": "markdown",
   "id": "16ab2535-f06f-4326-af5b-2f7ca5565289",
   "metadata": {},
   "source": [
    "### Data.table in R and DataFrames in Julia\n",
    "Both of these packages/libraries are specifically oriented towards more efficient processing, manipulation and overalling handling of matrix-like dataframes. "
   ]
  },
  {
   "cell_type": "markdown",
   "id": "64c5b60b-410c-4da8-ad2f-039c0ddbfdb7",
   "metadata": {},
   "source": [
    "Subsetting, filtering, merging, reading and writing larger datasets, splitting, combining and so on are the various operations which are extensively documented in both cases. "
   ]
  },
  {
   "cell_type": "markdown",
   "id": "a77003b9-6de9-41e4-8247-c18ebb6fabed",
   "metadata": {},
   "source": [
    "## Quiz"
   ]
  },
  {
   "cell_type": "markdown",
   "id": "5e3834a4-1ca1-4d89-ad7a-413a397cae7d",
   "metadata": {},
   "source": [
    "### 1.\n",
    "The American Community Survey distributes downloadable data about United States communities. Download the 2006 microdata survey about housing for the state of Idaho using download.file() from here: \n",
    "\n",
    "https://d396qusza40orc.cloudfront.net/getdata%2Fdata%2Fss06hid.csv\n",
    "\n",
    "and load the data into R. The code book, describing the variable names is here:\n",
    "\n",
    "https://d396qusza40orc.cloudfront.net/getdata%2Fdata%2FPUMSDataDict06.pdf \n",
    "\n",
    "How many properties are worth $1,000,000 or more?\n",
    "\n"
   ]
  },
  {
   "cell_type": "markdown",
   "id": "2ccd0851-aed2-42cc-bf7d-3c93e5b5b15d",
   "metadata": {},
   "source": [
    "Download file"
   ]
  },
  {
   "cell_type": "code",
   "execution_count": 8,
   "id": "0316b01c-725c-4b28-ae27-1be07a45ec6c",
   "metadata": {},
   "outputs": [
    {
     "data": {
      "text/plain": [
       "\"./quiz_1_1.csv\""
      ]
     },
     "execution_count": 8,
     "metadata": {},
     "output_type": "execute_result"
    }
   ],
   "source": [
    "download(\"https://d396qusza40orc.cloudfront.net/getdata%2Fdata%2Fss06hid.csv\", \"./quiz_1_1.csv\") "
   ]
  },
  {
   "cell_type": "markdown",
   "id": "9a65449f-946b-45d0-9521-e2f612b92905",
   "metadata": {},
   "source": [
    "Load data into a DataFrame "
   ]
  },
  {
   "cell_type": "code",
   "execution_count": 9,
   "id": "9f5046b7-e7d8-45b2-8bec-9ff71ce62e50",
   "metadata": {},
   "outputs": [],
   "source": [
    "using DataFrames"
   ]
  },
  {
   "cell_type": "code",
   "execution_count": null,
   "id": "e4968f3b-c5e9-4d19-b2a7-5cbbc065141b",
   "metadata": {
    "scrolled": true
   },
   "outputs": [],
   "source": [
    "us_com_survery = CSV.read(\"quiz_1_1.csv\", DataFrame) "
   ]
  },
  {
   "cell_type": "code",
   "execution_count": null,
   "id": "8a7e0997-bfb0-4dfa-80d2-aa5708593fe2",
   "metadata": {
    "scrolled": true
   },
   "outputs": [],
   "source": [
    "us_com_survery.VAL"
   ]
  },
  {
   "cell_type": "code",
   "execution_count": null,
   "id": "b422d32a-1fa5-4476-af29-5040d33d63ef",
   "metadata": {
    "scrolled": true
   },
   "outputs": [],
   "source": [
    "q = filter(n -> n == 24, skipmissing(us_com_survery.VAL))  "
   ]
  },
  {
   "cell_type": "code",
   "execution_count": 13,
   "id": "0306d6fb-fc7b-43a1-aa8b-6d3e09e2c0f7",
   "metadata": {},
   "outputs": [
    {
     "data": {
      "text/plain": [
       "53"
      ]
     },
     "execution_count": 13,
     "metadata": {},
     "output_type": "execute_result"
    }
   ],
   "source": [
    "length(q)"
   ]
  },
  {
   "cell_type": "code",
   "execution_count": 14,
   "id": "fcdb8e9a-6a88-4a2f-8d1b-063e6846f8e3",
   "metadata": {},
   "outputs": [
    {
     "name": "stderr",
     "output_type": "stream",
     "text": [
      "\u001b[32m\u001b[1m   Resolving\u001b[22m\u001b[39m package versions...\n",
      "\u001b[32m\u001b[1m  No Changes\u001b[22m\u001b[39m to `~/.julia/environments/v1.9/Project.toml`\n",
      "\u001b[32m\u001b[1m  No Changes\u001b[22m\u001b[39m to `~/.julia/environments/v1.9/Manifest.toml`\n"
     ]
    }
   ],
   "source": [
    "Pkg.add(\"DataFramesMeta\")"
   ]
  },
  {
   "cell_type": "code",
   "execution_count": 15,
   "id": "698ed56e-114c-4ac2-bc4a-5dd40a77c683",
   "metadata": {},
   "outputs": [],
   "source": [
    "using DataFramesMeta"
   ]
  },
  {
   "cell_type": "code",
   "execution_count": null,
   "id": "608859af-d2d2-433c-ae98-c575168babe6",
   "metadata": {},
   "outputs": [],
   "source": [
    "# Try filtering it in a different way \n",
    "#filter(:VAL == 24, skipmissing(us_com_survery))\n",
    "subset(skipmissing(us_com_survery), :VAL => ByRow(x -> x == 24))"
   ]
  },
  {
   "cell_type": "code",
   "execution_count": null,
   "id": "6c2b62d4-2eee-4a18-9e9b-e049bc56e19a",
   "metadata": {},
   "outputs": [],
   "source": [
    "# Using the DataFramesMeta macro - this will print the entire DataFrame as well\n",
    "@rsubset us_com_survery :VAL == 24"
   ]
  },
  {
   "cell_type": "code",
   "execution_count": null,
   "id": "564313e4-0a4d-4ce9-b5e1-8caca69c38ea",
   "metadata": {},
   "outputs": [],
   "source": []
  },
  {
   "cell_type": "markdown",
   "id": "65ee2ada-fd80-407d-8d3b-82b54f397b3e",
   "metadata": {},
   "source": [
    "## 3.\n",
    "Download the Excel spreadsheet on Natural Gas Aquisition Program here:  \n",
    "https://d396qusza40orc.cloudfront.net/getdata%2Fdata%2FDATA.gov_NGAP.xlsx"
   ]
  },
  {
   "cell_type": "code",
   "execution_count": 18,
   "id": "6b7686e3-27bb-4e70-a687-e9094598f121",
   "metadata": {},
   "outputs": [
    {
     "data": {
      "text/plain": [
       "\"gas_spreadsheet.xlsx\""
      ]
     },
     "execution_count": 18,
     "metadata": {},
     "output_type": "execute_result"
    }
   ],
   "source": [
    "download(\"https://d396qusza40orc.cloudfront.net/getdata%2Fdata%2FDATA.gov_NGAP.xlsx\", \"gas_spreadsheet.xlsx\")"
   ]
  },
  {
   "cell_type": "code",
   "execution_count": 19,
   "id": "ab6a366f-372e-409a-9216-ee0f6cd5f084",
   "metadata": {},
   "outputs": [
    {
     "data": {
      "text/plain": [
       "XLSXFile(\"gas_spreadsheet.xlsx\") containing 1 Worksheet\n",
       "            sheetname size          range        \n",
       "-------------------------------------------------\n",
       "     NGAP Sample Data 95x26         A1:Z95       \n"
      ]
     },
     "execution_count": 19,
     "metadata": {},
     "output_type": "execute_result"
    }
   ],
   "source": [
    "gas_excel = XLSX.readxlsx(\"gas_spreadsheet.xlsx\")"
   ]
  },
  {
   "cell_type": "code",
   "execution_count": 20,
   "id": "10f8203f-482c-49d9-b445-4d437070d31b",
   "metadata": {},
   "outputs": [
    {
     "data": {
      "text/plain": [
       "1-element Vector{String}:\n",
       " \"NGAP Sample Data\""
      ]
     },
     "execution_count": 20,
     "metadata": {},
     "output_type": "execute_result"
    }
   ],
   "source": [
    "XLSX.sheetnames(gas_excel)"
   ]
  },
  {
   "cell_type": "markdown",
   "id": "bce15cac-63bf-463a-a8bb-fd03c33150d3",
   "metadata": {},
   "source": [
    "Read rows 18-23 and columns 7-15 into R and assign the result to a variable called: dat"
   ]
  },
  {
   "cell_type": "code",
   "execution_count": 21,
   "id": "e4546b1c-8694-4850-a998-04d29c9cb8b0",
   "metadata": {},
   "outputs": [
    {
     "data": {
      "text/plain": [
       "95×26 XLSX.Worksheet: [\"NGAP Sample Data\"](A1:Z95) "
      ]
     },
     "execution_count": 21,
     "metadata": {},
     "output_type": "execute_result"
    }
   ],
   "source": [
    "# Store the first sheet in a variable that we can access \n",
    "sheet =  gas_excel[\"NGAP Sample Data\"]"
   ]
  },
  {
   "cell_type": "code",
   "execution_count": null,
   "id": "dae67bec-0059-4937-8a14-a13a08da6050",
   "metadata": {},
   "outputs": [],
   "source": []
  },
  {
   "cell_type": "code",
   "execution_count": 22,
   "id": "85316b2d-564a-4682-90a6-2de0bf770f76",
   "metadata": {},
   "outputs": [
    {
     "data": {
      "text/plain": [
       "6×9 Matrix{Any}:\n",
       "      \"Zip\"   \"CuCurrent\"  …  \"Fax\"           \"email\"   \"Status\"\n",
       " 74136       0                \"918-491-6659\"  missing  1\n",
       " 30329       1                missing         missing  1\n",
       " 74136       1                \"918-523-2522\"  missing  1\n",
       " 80203       0                missing         missing  1\n",
       " 80120       1             …  missing         missing  1"
      ]
     },
     "execution_count": 22,
     "metadata": {},
     "output_type": "execute_result"
    }
   ],
   "source": [
    "row_matrix = XLSX.getdata(sheet, 18:23, 7:15)"
   ]
  },
  {
   "cell_type": "code",
   "execution_count": 23,
   "id": "7e5c6f2d-fc70-473b-9b25-d27d0459c31f",
   "metadata": {},
   "outputs": [
    {
     "data": {
      "text/plain": [
       "5×9 Matrix{Any}:\n",
       " 74136  0  1  0  \"918-491-6998\"    0         \"918-491-6659\"  missing  1\n",
       " 30329  1  0  0  \"404-321-5711\"     missing  missing         missing  1\n",
       " 74136  1  0  0  \"918-523-2516\"    0         \"918-523-2522\"  missing  1\n",
       " 80203  0  1  0  \"303-864-1919\"    0         missing         missing  1\n",
       " 80120  1  0  0  \"345-098-8890\"  456         missing         missing  1"
      ]
     },
     "execution_count": 23,
     "metadata": {},
     "output_type": "execute_result"
    }
   ],
   "source": [
    "row_matrix[2:end, 1:end]"
   ]
  },
  {
   "cell_type": "code",
   "execution_count": null,
   "id": "4efcc333-dca1-496a-a8d1-6556d07496fc",
   "metadata": {},
   "outputs": [],
   "source": []
  },
  {
   "cell_type": "code",
   "execution_count": 25,
   "id": "31a266cd-c497-46ed-b70e-67fa6d1affdb",
   "metadata": {},
   "outputs": [
    {
     "data": {
      "text/plain": [
       "MatrixToDataFrame (generic function with 1 method)"
      ]
     },
     "execution_count": 25,
     "metadata": {},
     "output_type": "execute_result"
    }
   ],
   "source": [
    "# This function turns a matrix into a dataframe, using the header/first row as the column titles. \n",
    "# Dataframes expects the form DataFrame(row contents, column names) as a basic elemental\n",
    "function MatrixToDataFrame(mat)\n",
    "    DF_mat = DataFrame(\n",
    "        mat[2:end, 1:end], # rows\n",
    "        string.(mat[1, 1:end]) # columns \n",
    "    )\n",
    "    return DF_mat\n",
    "end"
   ]
  },
  {
   "cell_type": "code",
   "execution_count": 26,
   "id": "d3f674f4-a269-43a2-a428-2b976db58105",
   "metadata": {},
   "outputs": [
    {
     "data": {
      "text/html": [
       "<div><div style = \"float: left;\"><span>5×9 DataFrame</span></div><div style = \"clear: both;\"></div></div><div class = \"data-frame\" style = \"overflow-x: scroll;\"><table class = \"data-frame\" style = \"margin-bottom: 6px;\"><thead><tr class = \"header\"><th class = \"rowNumber\" style = \"font-weight: bold; text-align: right;\">Row</th><th style = \"text-align: left;\">Zip</th><th style = \"text-align: left;\">CuCurrent</th><th style = \"text-align: left;\">PaCurrent</th><th style = \"text-align: left;\">PoCurrent</th><th style = \"text-align: left;\">Contact</th><th style = \"text-align: left;\">Ext</th><th style = \"text-align: left;\">Fax</th><th style = \"text-align: left;\">email</th><th style = \"text-align: left;\">Status</th></tr><tr class = \"subheader headerLastRow\"><th class = \"rowNumber\" style = \"font-weight: bold; text-align: right;\"></th><th title = \"Any\" style = \"text-align: left;\">Any</th><th title = \"Any\" style = \"text-align: left;\">Any</th><th title = \"Any\" style = \"text-align: left;\">Any</th><th title = \"Any\" style = \"text-align: left;\">Any</th><th title = \"Any\" style = \"text-align: left;\">Any</th><th title = \"Any\" style = \"text-align: left;\">Any</th><th title = \"Any\" style = \"text-align: left;\">Any</th><th title = \"Any\" style = \"text-align: left;\">Any</th><th title = \"Any\" style = \"text-align: left;\">Any</th></tr></thead><tbody><tr><td class = \"rowNumber\" style = \"font-weight: bold; text-align: right;\">1</td><td style = \"text-align: left;\">74136</td><td style = \"text-align: left;\">0</td><td style = \"text-align: left;\">1</td><td style = \"text-align: left;\">0</td><td style = \"text-align: left;\">918-491-6998</td><td style = \"text-align: left;\">0</td><td style = \"text-align: left;\">918-491-6659</td><td style = \"font-style: italic; text-align: left;\">missing</td><td style = \"text-align: left;\">1</td></tr><tr><td class = \"rowNumber\" style = \"font-weight: bold; text-align: right;\">2</td><td style = \"text-align: left;\">30329</td><td style = \"text-align: left;\">1</td><td style = \"text-align: left;\">0</td><td style = \"text-align: left;\">0</td><td style = \"text-align: left;\">404-321-5711</td><td style = \"font-style: italic; text-align: left;\">missing</td><td style = \"font-style: italic; text-align: left;\">missing</td><td style = \"font-style: italic; text-align: left;\">missing</td><td style = \"text-align: left;\">1</td></tr><tr><td class = \"rowNumber\" style = \"font-weight: bold; text-align: right;\">3</td><td style = \"text-align: left;\">74136</td><td style = \"text-align: left;\">1</td><td style = \"text-align: left;\">0</td><td style = \"text-align: left;\">0</td><td style = \"text-align: left;\">918-523-2516</td><td style = \"text-align: left;\">0</td><td style = \"text-align: left;\">918-523-2522</td><td style = \"font-style: italic; text-align: left;\">missing</td><td style = \"text-align: left;\">1</td></tr><tr><td class = \"rowNumber\" style = \"font-weight: bold; text-align: right;\">4</td><td style = \"text-align: left;\">80203</td><td style = \"text-align: left;\">0</td><td style = \"text-align: left;\">1</td><td style = \"text-align: left;\">0</td><td style = \"text-align: left;\">303-864-1919</td><td style = \"text-align: left;\">0</td><td style = \"font-style: italic; text-align: left;\">missing</td><td style = \"font-style: italic; text-align: left;\">missing</td><td style = \"text-align: left;\">1</td></tr><tr><td class = \"rowNumber\" style = \"font-weight: bold; text-align: right;\">5</td><td style = \"text-align: left;\">80120</td><td style = \"text-align: left;\">1</td><td style = \"text-align: left;\">0</td><td style = \"text-align: left;\">0</td><td style = \"text-align: left;\">345-098-8890</td><td style = \"text-align: left;\">456</td><td style = \"font-style: italic; text-align: left;\">missing</td><td style = \"font-style: italic; text-align: left;\">missing</td><td style = \"text-align: left;\">1</td></tr></tbody></table></div>"
      ],
      "text/latex": [
       "\\begin{tabular}{r|ccccccccc}\n",
       "\t& Zip & CuCurrent & PaCurrent & PoCurrent & Contact & Ext & Fax & email & \\\\\n",
       "\t\\hline\n",
       "\t& Any & Any & Any & Any & Any & Any & Any & Any & \\\\\n",
       "\t\\hline\n",
       "\t1 & 74136 & 0 & 1 & 0 & 918-491-6998 & 0 & 918-491-6659 & \\emph{missing} & $\\dots$ \\\\\n",
       "\t2 & 30329 & 1 & 0 & 0 & 404-321-5711 & \\emph{missing} & \\emph{missing} & \\emph{missing} & $\\dots$ \\\\\n",
       "\t3 & 74136 & 1 & 0 & 0 & 918-523-2516 & 0 & 918-523-2522 & \\emph{missing} & $\\dots$ \\\\\n",
       "\t4 & 80203 & 0 & 1 & 0 & 303-864-1919 & 0 & \\emph{missing} & \\emph{missing} & $\\dots$ \\\\\n",
       "\t5 & 80120 & 1 & 0 & 0 & 345-098-8890 & 456 & \\emph{missing} & \\emph{missing} & $\\dots$ \\\\\n",
       "\\end{tabular}\n"
      ],
      "text/plain": [
       "\u001b[1m5×9 DataFrame\u001b[0m\n",
       "\u001b[1m Row \u001b[0m│\u001b[1m Zip   \u001b[0m\u001b[1m CuCurrent \u001b[0m\u001b[1m PaCurrent \u001b[0m\u001b[1m PoCurrent \u001b[0m\u001b[1m Contact      \u001b[0m\u001b[1m Ext     \u001b[0m\u001b[1m Fax     \u001b[0m ⋯\n",
       "     │\u001b[90m Any   \u001b[0m\u001b[90m Any       \u001b[0m\u001b[90m Any       \u001b[0m\u001b[90m Any       \u001b[0m\u001b[90m Any          \u001b[0m\u001b[90m Any     \u001b[0m\u001b[90m Any     \u001b[0m ⋯\n",
       "─────┼──────────────────────────────────────────────────────────────────────────\n",
       "   1 │ 74136  0          1          0          918-491-6998  0        918-491- ⋯\n",
       "   2 │ 30329  1          0          0          404-321-5711 \u001b[90m missing \u001b[0m\u001b[90m missing \u001b[0m\n",
       "   3 │ 74136  1          0          0          918-523-2516  0        918-523-\n",
       "   4 │ 80203  0          1          0          303-864-1919  0       \u001b[90m missing \u001b[0m\n",
       "   5 │ 80120  1          0          0          345-098-8890  456     \u001b[90m missing \u001b[0m ⋯\n",
       "\u001b[36m                                                               3 columns omitted\u001b[0m"
      ]
     },
     "execution_count": 26,
     "metadata": {},
     "output_type": "execute_result"
    }
   ],
   "source": [
    "row_dataframe = MatrixToDataFrame(row_matrix)"
   ]
  },
  {
   "cell_type": "code",
   "execution_count": null,
   "id": "a764263c-ca37-4199-a665-19f6f358498b",
   "metadata": {},
   "outputs": [],
   "source": [
    "# Read the rows \n",
    "df = DataFrame(XLSX.readtable(\"gas_spreadsheet.xlsx\", \"NGAP Sample Data\", )"
   ]
  },
  {
   "cell_type": "markdown",
   "id": "c2d524ed-a896-42fd-9236-38aba54ce8ac",
   "metadata": {},
   "source": [
    "Translate this command into Julia and perform the calculation `sum(dat$Zip*dat$Ext,na.rm=T)` "
   ]
  },
  {
   "cell_type": "markdown",
   "id": "5ce3a81c-d4ae-4e0d-9a33-e2b48534861f",
   "metadata": {},
   "source": [
    "Created a smaller dataframe containing only the columns we're interested in - this is optional but has helped me understand the process. Since we're going to iterate across every column using broadcasting, we have to have the same length of each column, thus, we must drop rows containing missing values. "
   ]
  },
  {
   "cell_type": "code",
   "execution_count": 28,
   "id": "6e6e8c0d-b367-4b93-a841-c83763fec71b",
   "metadata": {},
   "outputs": [
    {
     "data": {
      "text/html": [
       "<div><div style = \"float: left;\"><span>4×2 DataFrame</span></div><div style = \"clear: both;\"></div></div><div class = \"data-frame\" style = \"overflow-x: scroll;\"><table class = \"data-frame\" style = \"margin-bottom: 6px;\"><thead><tr class = \"header\"><th class = \"rowNumber\" style = \"font-weight: bold; text-align: right;\">Row</th><th style = \"text-align: left;\">Zip</th><th style = \"text-align: left;\">Ext</th></tr><tr class = \"subheader headerLastRow\"><th class = \"rowNumber\" style = \"font-weight: bold; text-align: right;\"></th><th title = \"Any\" style = \"text-align: left;\">Any</th><th title = \"Any\" style = \"text-align: left;\">Any</th></tr></thead><tbody><tr><td class = \"rowNumber\" style = \"font-weight: bold; text-align: right;\">1</td><td style = \"text-align: left;\">74136</td><td style = \"text-align: left;\">0</td></tr><tr><td class = \"rowNumber\" style = \"font-weight: bold; text-align: right;\">2</td><td style = \"text-align: left;\">74136</td><td style = \"text-align: left;\">0</td></tr><tr><td class = \"rowNumber\" style = \"font-weight: bold; text-align: right;\">3</td><td style = \"text-align: left;\">80203</td><td style = \"text-align: left;\">0</td></tr><tr><td class = \"rowNumber\" style = \"font-weight: bold; text-align: right;\">4</td><td style = \"text-align: left;\">80120</td><td style = \"text-align: left;\">456</td></tr></tbody></table></div>"
      ],
      "text/latex": [
       "\\begin{tabular}{r|cc}\n",
       "\t& Zip & Ext\\\\\n",
       "\t\\hline\n",
       "\t& Any & Any\\\\\n",
       "\t\\hline\n",
       "\t1 & 74136 & 0 \\\\\n",
       "\t2 & 74136 & 0 \\\\\n",
       "\t3 & 80203 & 0 \\\\\n",
       "\t4 & 80120 & 456 \\\\\n",
       "\\end{tabular}\n"
      ],
      "text/plain": [
       "\u001b[1m4×2 DataFrame\u001b[0m\n",
       "\u001b[1m Row \u001b[0m│\u001b[1m Zip   \u001b[0m\u001b[1m Ext \u001b[0m\n",
       "     │\u001b[90m Any   \u001b[0m\u001b[90m Any \u001b[0m\n",
       "─────┼────────────\n",
       "   1 │ 74136  0\n",
       "   2 │ 74136  0\n",
       "   3 │ 80203  0\n",
       "   4 │ 80120  456"
      ]
     },
     "execution_count": 28,
     "metadata": {},
     "output_type": "execute_result"
    }
   ],
   "source": [
    "min_frame = dropmissing(row_dataframe[!, [:Zip, :Ext]])"
   ]
  },
  {
   "cell_type": "markdown",
   "id": "f5d1d771-2ae9-4596-ba0c-5a6288cc1348",
   "metadata": {},
   "source": [
    "Now apply broadcasting to find the product of each column, and then calculate the sum of this iteration"
   ]
  },
  {
   "cell_type": "code",
   "execution_count": 29,
   "id": "074f4611-2550-4024-bf2c-eb6b72c72600",
   "metadata": {},
   "outputs": [
    {
     "data": {
      "text/plain": [
       "36534720"
      ]
     },
     "execution_count": 29,
     "metadata": {},
     "output_type": "execute_result"
    }
   ],
   "source": [
    "sum(min_frame.Zip .* skipmissing(min_frame.Ext))"
   ]
  },
  {
   "cell_type": "code",
   "execution_count": 30,
   "id": "b2191dc5-56b5-4241-bcda-ef191da48863",
   "metadata": {},
   "outputs": [
    {
     "data": {
      "text/plain": [
       "36534720"
      ]
     },
     "execution_count": 30,
     "metadata": {},
     "output_type": "execute_result"
    }
   ],
   "source": [
    "80120*456"
   ]
  },
  {
   "cell_type": "markdown",
   "id": "bb529c54-24d1-40a6-9f12-5e4a89ee6e92",
   "metadata": {},
   "source": [
    "## 4. \n",
    "Read the XML data on Baltimore restaurants from here:\n",
    "\n",
    "https://d396qusza40orc.cloudfront.net/getdata%2Fdata%2Frestaurants.xml \n",
    "\n",
    "How many restaurants have zipcode 21231?  "
   ]
  },
  {
   "cell_type": "code",
   "execution_count": 31,
   "id": "79f2122b-99e3-47cd-9123-ddeb2059dddd",
   "metadata": {},
   "outputs": [
    {
     "data": {
      "text/plain": [
       "\"rest_xml.xml\""
      ]
     },
     "execution_count": 31,
     "metadata": {},
     "output_type": "execute_result"
    }
   ],
   "source": [
    "download(\"https://d396qusza40orc.cloudfront.net/getdata%2Fdata%2Frestaurants.xml\", \"rest_xml.xml\") "
   ]
  },
  {
   "cell_type": "code",
   "execution_count": 4,
   "id": "0e7e1ff9-48c0-4f71-9a29-90bc0af4273a",
   "metadata": {},
   "outputs": [
    {
     "data": {
      "text/plain": [
       "EzXML.Document(EzXML.Node(<DOCUMENT_NODE@0x00000000028bd530>))"
      ]
     },
     "execution_count": 4,
     "metadata": {},
     "output_type": "execute_result"
    }
   ],
   "source": [
    "rxml = readxml(\"rest_xml.xml\")"
   ]
  },
  {
   "cell_type": "code",
   "execution_count": 5,
   "id": "8e96dce4-8200-4998-aeab-84d03ac8557c",
   "metadata": {},
   "outputs": [
    {
     "data": {
      "text/plain": [
       "EzXML.Node(<ELEMENT_NODE[response]@0x00000000029db8c0>)"
      ]
     },
     "execution_count": 5,
     "metadata": {},
     "output_type": "execute_result"
    }
   ],
   "source": [
    "primates = root(rxml)"
   ]
  },
  {
   "cell_type": "code",
   "execution_count": null,
   "id": "881675f6-4efa-4b90-baf1-c2c0a2d5109c",
   "metadata": {},
   "outputs": [],
   "source": [
    "for row in eachelement(primates)\n",
    "    #row_id = row[\" _id\"]\n",
    "    #prinln(- \" row_id\")\n",
    "    for elements in eachelement(row)\n",
    "        #el = nodecontent(elements)\n",
    "        el = nodecontent(elements)\n",
    "        println(el)\n",
    "    end \n",
    "end "
   ]
  },
  {
   "cell_type": "code",
   "execution_count": 73,
   "id": "ea904402-965a-40e8-88a3-e7a0c9eb0cb3",
   "metadata": {},
   "outputs": [
    {
     "data": {
      "text/plain": [
       "counter (generic function with 1 method)"
      ]
     },
     "execution_count": 73,
     "metadata": {},
     "output_type": "execute_result"
    }
   ],
   "source": [
    "# Xpath query \n",
    "function counter()\n",
    "    tally = 0\n",
    "for zipcode in nodecontent.(findall(\"//zipcode[text()=21231]\", primates))\n",
    "    #println(\"- \", zipcode)\n",
    "    tally += 1 \n",
    "    end \n",
    "tally\n",
    "end"
   ]
  },
  {
   "cell_type": "code",
   "execution_count": 74,
   "id": "2bfb2ce2-2065-4f0c-87ad-bffef09185ac",
   "metadata": {},
   "outputs": [
    {
     "data": {
      "text/plain": [
       "127"
      ]
     },
     "execution_count": 74,
     "metadata": {},
     "output_type": "execute_result"
    }
   ],
   "source": [
    "counter()"
   ]
  },
  {
   "cell_type": "code",
   "execution_count": null,
   "id": "4ad53c22-8127-4343-b833-ef22969b07a2",
   "metadata": {},
   "outputs": [],
   "source": []
  },
  {
   "cell_type": "code",
   "execution_count": null,
   "id": "89e380b5-5aaf-4e21-b81e-37eba6f0f688",
   "metadata": {},
   "outputs": [],
   "source": []
  },
  {
   "cell_type": "code",
   "execution_count": null,
   "id": "08ac52dc-c5d7-4eef-97d7-e231b476e9f7",
   "metadata": {},
   "outputs": [],
   "source": []
  },
  {
   "cell_type": "code",
   "execution_count": null,
   "id": "7fe719de-e9f2-42b7-bc81-e4af4844b59c",
   "metadata": {},
   "outputs": [],
   "source": []
  },
  {
   "cell_type": "code",
   "execution_count": null,
   "id": "1336d5ea-e654-48c3-96b4-073126edc962",
   "metadata": {},
   "outputs": [],
   "source": []
  },
  {
   "cell_type": "code",
   "execution_count": null,
   "id": "28056169-aa85-4d06-ad05-0ab85590cd67",
   "metadata": {},
   "outputs": [],
   "source": []
  },
  {
   "cell_type": "code",
   "execution_count": null,
   "id": "a757c9b8-2b6d-45a8-8ad2-46e9d2c03841",
   "metadata": {},
   "outputs": [],
   "source": []
  },
  {
   "cell_type": "code",
   "execution_count": null,
   "id": "53c403bd-243a-4c67-8d6b-91e7d0a626b4",
   "metadata": {},
   "outputs": [],
   "source": []
  },
  {
   "cell_type": "code",
   "execution_count": null,
   "id": "6e266081-43cb-4277-a62b-86db61603408",
   "metadata": {},
   "outputs": [],
   "source": []
  },
  {
   "cell_type": "code",
   "execution_count": null,
   "id": "adbbd401-438f-4e70-9dde-3053223adfd2",
   "metadata": {},
   "outputs": [],
   "source": []
  },
  {
   "cell_type": "code",
   "execution_count": null,
   "id": "5e09d24d-6ec8-4cd2-b411-98796aa58c88",
   "metadata": {},
   "outputs": [],
   "source": []
  },
  {
   "cell_type": "code",
   "execution_count": null,
   "id": "8f59e957-504e-4721-a7e9-5110f4ba4fc5",
   "metadata": {},
   "outputs": [],
   "source": []
  },
  {
   "cell_type": "code",
   "execution_count": null,
   "id": "05560b65-3b2a-4807-9b2c-7387082cbac3",
   "metadata": {},
   "outputs": [],
   "source": []
  },
  {
   "cell_type": "code",
   "execution_count": null,
   "id": "e9f8a46a-9bc0-494f-9d89-8d3419c56bf4",
   "metadata": {},
   "outputs": [],
   "source": []
  }
 ],
 "metadata": {
  "kernelspec": {
   "display_name": "Julia 1.9.1",
   "language": "julia",
   "name": "julia-1.9"
  },
  "language_info": {
   "file_extension": ".jl",
   "mimetype": "application/julia",
   "name": "julia",
   "version": "1.9.1"
  }
 },
 "nbformat": 4,
 "nbformat_minor": 5
}
