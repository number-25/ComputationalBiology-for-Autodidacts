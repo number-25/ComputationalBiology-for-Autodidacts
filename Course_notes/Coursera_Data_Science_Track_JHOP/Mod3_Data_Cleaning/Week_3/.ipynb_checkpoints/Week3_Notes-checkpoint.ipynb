{
 "cells": [
  {
   "cell_type": "markdown",
   "id": "095cc47c",
   "metadata": {},
   "source": [
    "# Week 3 Notes - Getting and Cleaning Data"
   ]
  },
  {
   "cell_type": "markdown",
   "id": "46c70875",
   "metadata": {},
   "source": [
    "## Subsetting and Sorting\n",
    "Time to wrangle and mould our datasets to our desires. Create a basic dataframe, reshjuffle the contents of the columns and then insert some NA values too. \n",
    "```R\n",
    "set.seed(1345)\n",
    "X <- data.frame(\"var1\"=sample(1:5), \"var2\"=sample(6:10), \"var3\"=sample(11:15))\n",
    "X <- X[sample(1:5),]; X$var2[c(1,3)] = NA\n",
    "``` "
   ]
  },
  {
   "cell_type": "markdown",
   "id": "53b9c293",
   "metadata": {},
   "source": [
    "In Julia"
   ]
  },
  {
   "cell_type": "code",
   "execution_count": 173,
   "id": "66aff65d",
   "metadata": {},
   "outputs": [],
   "source": [
    "using DataFrames, CSV, Pkg"
   ]
  },
  {
   "cell_type": "code",
   "execution_count": 174,
   "id": "cc33e0a9",
   "metadata": {
    "scrolled": false
   },
   "outputs": [
    {
     "data": {
      "text/html": [
       "<div><div style = \"float: left;\"><span>5×3 DataFrame</span></div><div style = \"clear: both;\"></div></div><div class = \"data-frame\" style = \"overflow-x: scroll;\"><table class = \"data-frame\" style = \"margin-bottom: 6px;\"><thead><tr class = \"header\"><th class = \"rowNumber\" style = \"font-weight: bold; text-align: right;\">Row</th><th style = \"text-align: left;\">col1</th><th style = \"text-align: left;\">col2</th><th style = \"text-align: left;\">col3</th></tr><tr class = \"subheader headerLastRow\"><th class = \"rowNumber\" style = \"font-weight: bold; text-align: right;\"></th><th title = \"Int64\" style = \"text-align: left;\">Int64</th><th title = \"Int64\" style = \"text-align: left;\">Int64</th><th title = \"Union{Missing, Int64}\" style = \"text-align: left;\">Int64?</th></tr></thead><tbody><tr><td class = \"rowNumber\" style = \"font-weight: bold; text-align: right;\">1</td><td style = \"text-align: right;\">5</td><td style = \"text-align: right;\">26</td><td style = \"font-style: italic; text-align: right;\">missing</td></tr><tr><td class = \"rowNumber\" style = \"font-weight: bold; text-align: right;\">2</td><td style = \"text-align: right;\">9</td><td style = \"text-align: right;\">8</td><td style = \"font-style: italic; text-align: right;\">missing</td></tr><tr><td class = \"rowNumber\" style = \"font-weight: bold; text-align: right;\">3</td><td style = \"text-align: right;\">3</td><td style = \"text-align: right;\">5</td><td style = \"text-align: right;\">5</td></tr><tr><td class = \"rowNumber\" style = \"font-weight: bold; text-align: right;\">4</td><td style = \"text-align: right;\">2</td><td style = \"text-align: right;\">24</td><td style = \"text-align: right;\">4</td></tr><tr><td class = \"rowNumber\" style = \"font-weight: bold; text-align: right;\">5</td><td style = \"text-align: right;\">19</td><td style = \"text-align: right;\">15</td><td style = \"text-align: right;\">21</td></tr></tbody></table></div>"
      ],
      "text/latex": [
       "\\begin{tabular}{r|ccc}\n",
       "\t& col1 & col2 & col3\\\\\n",
       "\t\\hline\n",
       "\t& Int64 & Int64 & Int64?\\\\\n",
       "\t\\hline\n",
       "\t1 & 5 & 26 & \\emph{missing} \\\\\n",
       "\t2 & 9 & 8 & \\emph{missing} \\\\\n",
       "\t3 & 3 & 5 & 5 \\\\\n",
       "\t4 & 2 & 24 & 4 \\\\\n",
       "\t5 & 19 & 15 & 21 \\\\\n",
       "\\end{tabular}\n"
      ],
      "text/plain": [
       "\u001b[1m5×3 DataFrame\u001b[0m\n",
       "\u001b[1m Row \u001b[0m│\u001b[1m col1  \u001b[0m\u001b[1m col2  \u001b[0m\u001b[1m col3    \u001b[0m\n",
       "     │\u001b[90m Int64 \u001b[0m\u001b[90m Int64 \u001b[0m\u001b[90m Int64?  \u001b[0m\n",
       "─────┼───────────────────────\n",
       "   1 │     5     26 \u001b[90m missing \u001b[0m\n",
       "   2 │     9      8 \u001b[90m missing \u001b[0m\n",
       "   3 │     3      5        5\n",
       "   4 │     2     24        4\n",
       "   5 │    19     15       21"
      ]
     },
     "execution_count": 174,
     "metadata": {},
     "output_type": "execute_result"
    }
   ],
   "source": [
    "X = DataFrame(col1=rand(1:20, 5), col2=rand(2:30, 5), col3=[missing, missing, 5, 4, 21])"
   ]
  },
  {
   "cell_type": "markdown",
   "id": "f17dd18c",
   "metadata": {},
   "source": [
    "Let's subset the dataframe and take specific columns and row combinations"
   ]
  },
  {
   "cell_type": "markdown",
   "id": "1702c0ce",
   "metadata": {},
   "source": [
    "In R\n",
    "`X[,1]` to take the first column. We can also take the first column by passing the column name as a string `X[,\"var1]`. Let's take the first two rows of column 2 `X[1:2,\"var2\"]`    "
   ]
  },
  {
   "cell_type": "markdown",
   "id": "74a98bc8",
   "metadata": {},
   "source": [
    "With Julia we can use the basic .dot syntax"
   ]
  },
  {
   "cell_type": "code",
   "execution_count": 175,
   "id": "33e9d31c",
   "metadata": {},
   "outputs": [
    {
     "data": {
      "text/plain": [
       "5-element Vector{Int64}:\n",
       "  5\n",
       "  9\n",
       "  3\n",
       "  2\n",
       " 19"
      ]
     },
     "execution_count": 175,
     "metadata": {},
     "output_type": "execute_result"
    }
   ],
   "source": [
    "X.col1"
   ]
  },
  {
   "cell_type": "code",
   "execution_count": 176,
   "id": "f606e95e",
   "metadata": {},
   "outputs": [
    {
     "data": {
      "text/plain": [
       "5-element Vector{Int64}:\n",
       "  5\n",
       "  9\n",
       "  3\n",
       "  2\n",
       " 19"
      ]
     },
     "execution_count": 176,
     "metadata": {},
     "output_type": "execute_result"
    }
   ],
   "source": [
    "# This string based extraction is a bit slower\n",
    "# Julia converts the String to a Symbol type \n",
    "X.\"col1\""
   ]
  },
  {
   "cell_type": "markdown",
   "id": "928d7eaf",
   "metadata": {},
   "source": [
    "We can also use indexing and the column names"
   ]
  },
  {
   "cell_type": "code",
   "execution_count": 177,
   "id": "bfbe07a3",
   "metadata": {},
   "outputs": [
    {
     "data": {
      "text/plain": [
       "5-element Vector{Int64}:\n",
       " 26\n",
       "  8\n",
       "  5\n",
       " 24\n",
       " 15"
      ]
     },
     "execution_count": 177,
     "metadata": {},
     "output_type": "execute_result"
    }
   ],
   "source": [
    "X[:, 2]"
   ]
  },
  {
   "cell_type": "code",
   "execution_count": 178,
   "id": "59b5a3ab",
   "metadata": {},
   "outputs": [
    {
     "data": {
      "text/plain": [
       "5-element Vector{Int64}:\n",
       "  5\n",
       "  9\n",
       "  3\n",
       "  2\n",
       " 19"
      ]
     },
     "execution_count": 178,
     "metadata": {},
     "output_type": "execute_result"
    }
   ],
   "source": [
    "X[:, \"col1\"]"
   ]
  },
  {
   "cell_type": "code",
   "execution_count": 179,
   "id": "28342392",
   "metadata": {},
   "outputs": [
    {
     "data": {
      "text/plain": [
       "5-element Vector{Int64}:\n",
       "  5\n",
       "  9\n",
       "  3\n",
       "  2\n",
       " 19"
      ]
     },
     "execution_count": 179,
     "metadata": {},
     "output_type": "execute_result"
    }
   ],
   "source": [
    "X[:, :col1]"
   ]
  },
  {
   "cell_type": "markdown",
   "id": "1614d2b6",
   "metadata": {},
   "source": [
    "So to summarise it all, if we're using indexing, we can use colnumber, \"colname\", :Colname. If we're using .dot syntax we can use df.number, df.\"colname\" - wooooooo"
   ]
  },
  {
   "cell_type": "markdown",
   "id": "62889829",
   "metadata": {},
   "source": [
    "In Julia, to check the column index of a certain column e.g. is it in the 10th column? etc., we can use the **columnindex()** function"
   ]
  },
  {
   "cell_type": "code",
   "execution_count": 180,
   "id": "79547c80",
   "metadata": {},
   "outputs": [
    {
     "data": {
      "text/plain": [
       "3"
      ]
     },
     "execution_count": 180,
     "metadata": {},
     "output_type": "execute_result"
    }
   ],
   "source": [
    "columnindex(X, \"col3\")"
   ]
  },
  {
   "cell_type": "markdown",
   "id": "bde15fc2",
   "metadata": {},
   "source": [
    "To test whether a specific column is in the dataframe, based on it's name, we can do **hasproperty()**"
   ]
  },
  {
   "cell_type": "code",
   "execution_count": 181,
   "id": "f586b97e",
   "metadata": {},
   "outputs": [
    {
     "data": {
      "text/plain": [
       "true"
      ]
     },
     "execution_count": 181,
     "metadata": {},
     "output_type": "execute_result"
    }
   ],
   "source": [
    "hasproperty(X, \"col3\")"
   ]
  },
  {
   "cell_type": "markdown",
   "id": "6e2a3147",
   "metadata": {},
   "source": [
    "#### Subset the dataframe using conditions, such as, print the dataframe in which the first column has values over 18"
   ]
  },
  {
   "cell_type": "code",
   "execution_count": 182,
   "id": "80d658cd",
   "metadata": {},
   "outputs": [
    {
     "data": {
      "text/html": [
       "<div><div style = \"float: left;\"><span>1×3 DataFrame</span></div><div style = \"clear: both;\"></div></div><div class = \"data-frame\" style = \"overflow-x: scroll;\"><table class = \"data-frame\" style = \"margin-bottom: 6px;\"><thead><tr class = \"header\"><th class = \"rowNumber\" style = \"font-weight: bold; text-align: right;\">Row</th><th style = \"text-align: left;\">col1</th><th style = \"text-align: left;\">col2</th><th style = \"text-align: left;\">col3</th></tr><tr class = \"subheader headerLastRow\"><th class = \"rowNumber\" style = \"font-weight: bold; text-align: right;\"></th><th title = \"Int64\" style = \"text-align: left;\">Int64</th><th title = \"Int64\" style = \"text-align: left;\">Int64</th><th title = \"Union{Missing, Int64}\" style = \"text-align: left;\">Int64?</th></tr></thead><tbody><tr><td class = \"rowNumber\" style = \"font-weight: bold; text-align: right;\">1</td><td style = \"text-align: right;\">19</td><td style = \"text-align: right;\">15</td><td style = \"text-align: right;\">21</td></tr></tbody></table></div>"
      ],
      "text/latex": [
       "\\begin{tabular}{r|ccc}\n",
       "\t& col1 & col2 & col3\\\\\n",
       "\t\\hline\n",
       "\t& Int64 & Int64 & Int64?\\\\\n",
       "\t\\hline\n",
       "\t1 & 19 & 15 & 21 \\\\\n",
       "\\end{tabular}\n"
      ],
      "text/plain": [
       "\u001b[1m1×3 DataFrame\u001b[0m\n",
       "\u001b[1m Row \u001b[0m│\u001b[1m col1  \u001b[0m\u001b[1m col2  \u001b[0m\u001b[1m col3   \u001b[0m\n",
       "     │\u001b[90m Int64 \u001b[0m\u001b[90m Int64 \u001b[0m\u001b[90m Int64? \u001b[0m\n",
       "─────┼──────────────────────\n",
       "   1 │    19     15      21"
      ]
     },
     "execution_count": 182,
     "metadata": {},
     "output_type": "execute_result"
    }
   ],
   "source": [
    "filter(row -> row.col1 > 18, X)"
   ]
  },
  {
   "cell_type": "markdown",
   "id": "8c32e7be",
   "metadata": {},
   "source": [
    "If we have multiple conditons"
   ]
  },
  {
   "cell_type": "code",
   "execution_count": 183,
   "id": "83d89859",
   "metadata": {},
   "outputs": [
    {
     "data": {
      "text/html": [
       "<div><div style = \"float: left;\"><span>5×3 DataFrame</span></div><div style = \"clear: both;\"></div></div><div class = \"data-frame\" style = \"overflow-x: scroll;\"><table class = \"data-frame\" style = \"margin-bottom: 6px;\"><thead><tr class = \"header\"><th class = \"rowNumber\" style = \"font-weight: bold; text-align: right;\">Row</th><th style = \"text-align: left;\">col1</th><th style = \"text-align: left;\">col2</th><th style = \"text-align: left;\">col3</th></tr><tr class = \"subheader headerLastRow\"><th class = \"rowNumber\" style = \"font-weight: bold; text-align: right;\"></th><th title = \"Int64\" style = \"text-align: left;\">Int64</th><th title = \"Int64\" style = \"text-align: left;\">Int64</th><th title = \"Union{Missing, Int64}\" style = \"text-align: left;\">Int64?</th></tr></thead><tbody><tr><td class = \"rowNumber\" style = \"font-weight: bold; text-align: right;\">1</td><td style = \"text-align: right;\">5</td><td style = \"text-align: right;\">26</td><td style = \"font-style: italic; text-align: right;\">missing</td></tr><tr><td class = \"rowNumber\" style = \"font-weight: bold; text-align: right;\">2</td><td style = \"text-align: right;\">9</td><td style = \"text-align: right;\">8</td><td style = \"font-style: italic; text-align: right;\">missing</td></tr><tr><td class = \"rowNumber\" style = \"font-weight: bold; text-align: right;\">3</td><td style = \"text-align: right;\">3</td><td style = \"text-align: right;\">5</td><td style = \"text-align: right;\">5</td></tr><tr><td class = \"rowNumber\" style = \"font-weight: bold; text-align: right;\">4</td><td style = \"text-align: right;\">2</td><td style = \"text-align: right;\">24</td><td style = \"text-align: right;\">4</td></tr><tr><td class = \"rowNumber\" style = \"font-weight: bold; text-align: right;\">5</td><td style = \"text-align: right;\">19</td><td style = \"text-align: right;\">15</td><td style = \"text-align: right;\">21</td></tr></tbody></table></div>"
      ],
      "text/latex": [
       "\\begin{tabular}{r|ccc}\n",
       "\t& col1 & col2 & col3\\\\\n",
       "\t\\hline\n",
       "\t& Int64 & Int64 & Int64?\\\\\n",
       "\t\\hline\n",
       "\t1 & 5 & 26 & \\emph{missing} \\\\\n",
       "\t2 & 9 & 8 & \\emph{missing} \\\\\n",
       "\t3 & 3 & 5 & 5 \\\\\n",
       "\t4 & 2 & 24 & 4 \\\\\n",
       "\t5 & 19 & 15 & 21 \\\\\n",
       "\\end{tabular}\n"
      ],
      "text/plain": [
       "\u001b[1m5×3 DataFrame\u001b[0m\n",
       "\u001b[1m Row \u001b[0m│\u001b[1m col1  \u001b[0m\u001b[1m col2  \u001b[0m\u001b[1m col3    \u001b[0m\n",
       "     │\u001b[90m Int64 \u001b[0m\u001b[90m Int64 \u001b[0m\u001b[90m Int64?  \u001b[0m\n",
       "─────┼───────────────────────\n",
       "   1 │     5     26 \u001b[90m missing \u001b[0m\n",
       "   2 │     9      8 \u001b[90m missing \u001b[0m\n",
       "   3 │     3      5        5\n",
       "   4 │     2     24        4\n",
       "   5 │    19     15       21"
      ]
     },
     "execution_count": 183,
     "metadata": {},
     "output_type": "execute_result"
    }
   ],
   "source": [
    "filter(row -> row.col1 > 1 || row.col2 > 1, X)"
   ]
  },
  {
   "cell_type": "markdown",
   "id": "46da9293",
   "metadata": {},
   "source": [
    "In R we could do \n",
    "```R\n",
    "X[(X$var1 <= 3 & X$var3 > 11),]\n",
    "X[(X$var1 <= 3 | X$var3 > 11)]\n",
    "``` "
   ]
  },
  {
   "cell_type": "markdown",
   "id": "eabd2803",
   "metadata": {},
   "source": [
    "### Sorting "
   ]
  },
  {
   "cell_type": "markdown",
   "id": "5e6ba16c",
   "metadata": {},
   "source": [
    "In R;\n",
    "```R\n",
    "sort(X$var1)\n",
    "# Sort in reverse\n",
    "sort(X$var1, decreasing=TRUE)\n",
    "``` "
   ]
  },
  {
   "cell_type": "markdown",
   "id": "932184ca",
   "metadata": {},
   "source": [
    "In Julia to just get a vector of a specific dataframes column\n",
    "https://dataframes.juliadata.org/stable/man/sorting/"
   ]
  },
  {
   "cell_type": "code",
   "execution_count": 184,
   "id": "a219a4b4",
   "metadata": {},
   "outputs": [
    {
     "data": {
      "text/plain": [
       "5-element Vector{Int64}:\n",
       " 19\n",
       "  9\n",
       "  5\n",
       "  3\n",
       "  2"
      ]
     },
     "execution_count": 184,
     "metadata": {},
     "output_type": "execute_result"
    }
   ],
   "source": [
    "sort(X.col1, rev=true)"
   ]
  },
  {
   "cell_type": "markdown",
   "id": "5ea77a7d",
   "metadata": {},
   "source": [
    "To print out the entire dataframe for viewing"
   ]
  },
  {
   "cell_type": "code",
   "execution_count": 185,
   "id": "6c7b33be",
   "metadata": {},
   "outputs": [
    {
     "data": {
      "text/html": [
       "<div><div style = \"float: left;\"><span>5×3 DataFrame</span></div><div style = \"clear: both;\"></div></div><div class = \"data-frame\" style = \"overflow-x: scroll;\"><table class = \"data-frame\" style = \"margin-bottom: 6px;\"><thead><tr class = \"header\"><th class = \"rowNumber\" style = \"font-weight: bold; text-align: right;\">Row</th><th style = \"text-align: left;\">col1</th><th style = \"text-align: left;\">col2</th><th style = \"text-align: left;\">col3</th></tr><tr class = \"subheader headerLastRow\"><th class = \"rowNumber\" style = \"font-weight: bold; text-align: right;\"></th><th title = \"Int64\" style = \"text-align: left;\">Int64</th><th title = \"Int64\" style = \"text-align: left;\">Int64</th><th title = \"Union{Missing, Int64}\" style = \"text-align: left;\">Int64?</th></tr></thead><tbody><tr><td class = \"rowNumber\" style = \"font-weight: bold; text-align: right;\">1</td><td style = \"text-align: right;\">2</td><td style = \"text-align: right;\">24</td><td style = \"text-align: right;\">4</td></tr><tr><td class = \"rowNumber\" style = \"font-weight: bold; text-align: right;\">2</td><td style = \"text-align: right;\">3</td><td style = \"text-align: right;\">5</td><td style = \"text-align: right;\">5</td></tr><tr><td class = \"rowNumber\" style = \"font-weight: bold; text-align: right;\">3</td><td style = \"text-align: right;\">5</td><td style = \"text-align: right;\">26</td><td style = \"font-style: italic; text-align: right;\">missing</td></tr><tr><td class = \"rowNumber\" style = \"font-weight: bold; text-align: right;\">4</td><td style = \"text-align: right;\">9</td><td style = \"text-align: right;\">8</td><td style = \"font-style: italic; text-align: right;\">missing</td></tr><tr><td class = \"rowNumber\" style = \"font-weight: bold; text-align: right;\">5</td><td style = \"text-align: right;\">19</td><td style = \"text-align: right;\">15</td><td style = \"text-align: right;\">21</td></tr></tbody></table></div>"
      ],
      "text/latex": [
       "\\begin{tabular}{r|ccc}\n",
       "\t& col1 & col2 & col3\\\\\n",
       "\t\\hline\n",
       "\t& Int64 & Int64 & Int64?\\\\\n",
       "\t\\hline\n",
       "\t1 & 2 & 24 & 4 \\\\\n",
       "\t2 & 3 & 5 & 5 \\\\\n",
       "\t3 & 5 & 26 & \\emph{missing} \\\\\n",
       "\t4 & 9 & 8 & \\emph{missing} \\\\\n",
       "\t5 & 19 & 15 & 21 \\\\\n",
       "\\end{tabular}\n"
      ],
      "text/plain": [
       "\u001b[1m5×3 DataFrame\u001b[0m\n",
       "\u001b[1m Row \u001b[0m│\u001b[1m col1  \u001b[0m\u001b[1m col2  \u001b[0m\u001b[1m col3    \u001b[0m\n",
       "     │\u001b[90m Int64 \u001b[0m\u001b[90m Int64 \u001b[0m\u001b[90m Int64?  \u001b[0m\n",
       "─────┼───────────────────────\n",
       "   1 │     2     24        4\n",
       "   2 │     3      5        5\n",
       "   3 │     5     26 \u001b[90m missing \u001b[0m\n",
       "   4 │     9      8 \u001b[90m missing \u001b[0m\n",
       "   5 │    19     15       21"
      ]
     },
     "execution_count": 185,
     "metadata": {},
     "output_type": "execute_result"
    }
   ],
   "source": [
    "sort(X, \"col1\") \n",
    "# or \n",
    "sort(X, 1)\n",
    "# or - this is the slowest one \n",
    "sort(X, [:1])"
   ]
  },
  {
   "cell_type": "markdown",
   "id": "89862a21",
   "metadata": {},
   "source": [
    "### Ordering\n",
    "Ordering is used in conjunction with sorting, as it will allow us to specificy the sorting order of the columns in the DataFrame, e.g. first X and reverse sort it"
   ]
  },
  {
   "cell_type": "markdown",
   "id": "3bcbb4bf",
   "metadata": {},
   "source": [
    "In R; \n",
    "```R\n",
    "X[order(X$var1, X$var3),] \n",
    "```"
   ]
  },
  {
   "cell_type": "markdown",
   "id": "247aaf13",
   "metadata": {},
   "source": [
    "Now in Julia, based on the help information"
   ]
  },
  {
   "cell_type": "code",
   "execution_count": 186,
   "id": "b0a5a5ba",
   "metadata": {},
   "outputs": [
    {
     "data": {
      "text/html": [
       "<div><div style = \"float: left;\"><span>5×3 DataFrame</span></div><div style = \"clear: both;\"></div></div><div class = \"data-frame\" style = \"overflow-x: scroll;\"><table class = \"data-frame\" style = \"margin-bottom: 6px;\"><thead><tr class = \"header\"><th class = \"rowNumber\" style = \"font-weight: bold; text-align: right;\">Row</th><th style = \"text-align: left;\">col1</th><th style = \"text-align: left;\">col2</th><th style = \"text-align: left;\">col3</th></tr><tr class = \"subheader headerLastRow\"><th class = \"rowNumber\" style = \"font-weight: bold; text-align: right;\"></th><th title = \"Int64\" style = \"text-align: left;\">Int64</th><th title = \"Int64\" style = \"text-align: left;\">Int64</th><th title = \"Union{Missing, Int64}\" style = \"text-align: left;\">Int64?</th></tr></thead><tbody><tr><td class = \"rowNumber\" style = \"font-weight: bold; text-align: right;\">1</td><td style = \"text-align: right;\">19</td><td style = \"text-align: right;\">15</td><td style = \"text-align: right;\">21</td></tr><tr><td class = \"rowNumber\" style = \"font-weight: bold; text-align: right;\">2</td><td style = \"text-align: right;\">9</td><td style = \"text-align: right;\">8</td><td style = \"font-style: italic; text-align: right;\">missing</td></tr><tr><td class = \"rowNumber\" style = \"font-weight: bold; text-align: right;\">3</td><td style = \"text-align: right;\">5</td><td style = \"text-align: right;\">26</td><td style = \"font-style: italic; text-align: right;\">missing</td></tr><tr><td class = \"rowNumber\" style = \"font-weight: bold; text-align: right;\">4</td><td style = \"text-align: right;\">3</td><td style = \"text-align: right;\">5</td><td style = \"text-align: right;\">5</td></tr><tr><td class = \"rowNumber\" style = \"font-weight: bold; text-align: right;\">5</td><td style = \"text-align: right;\">2</td><td style = \"text-align: right;\">24</td><td style = \"text-align: right;\">4</td></tr></tbody></table></div>"
      ],
      "text/latex": [
       "\\begin{tabular}{r|ccc}\n",
       "\t& col1 & col2 & col3\\\\\n",
       "\t\\hline\n",
       "\t& Int64 & Int64 & Int64?\\\\\n",
       "\t\\hline\n",
       "\t1 & 19 & 15 & 21 \\\\\n",
       "\t2 & 9 & 8 & \\emph{missing} \\\\\n",
       "\t3 & 5 & 26 & \\emph{missing} \\\\\n",
       "\t4 & 3 & 5 & 5 \\\\\n",
       "\t5 & 2 & 24 & 4 \\\\\n",
       "\\end{tabular}\n"
      ],
      "text/plain": [
       "\u001b[1m5×3 DataFrame\u001b[0m\n",
       "\u001b[1m Row \u001b[0m│\u001b[1m col1  \u001b[0m\u001b[1m col2  \u001b[0m\u001b[1m col3    \u001b[0m\n",
       "     │\u001b[90m Int64 \u001b[0m\u001b[90m Int64 \u001b[0m\u001b[90m Int64?  \u001b[0m\n",
       "─────┼───────────────────────\n",
       "   1 │    19     15       21\n",
       "   2 │     9      8 \u001b[90m missing \u001b[0m\n",
       "   3 │     5     26 \u001b[90m missing \u001b[0m\n",
       "   4 │     3      5        5\n",
       "   5 │     2     24        4"
      ]
     },
     "execution_count": 186,
     "metadata": {},
     "output_type": "execute_result"
    }
   ],
   "source": [
    "sort(X, order(\"col1\", rev=true))"
   ]
  },
  {
   "cell_type": "markdown",
   "id": "3c3fe372",
   "metadata": {},
   "source": [
    "We can pass multiple order functions within a single dataframe in order to handle the other columns"
   ]
  },
  {
   "cell_type": "code",
   "execution_count": 187,
   "id": "9f8646fb",
   "metadata": {},
   "outputs": [
    {
     "data": {
      "text/html": [
       "<div><div style = \"float: left;\"><span>5×3 DataFrame</span></div><div style = \"clear: both;\"></div></div><div class = \"data-frame\" style = \"overflow-x: scroll;\"><table class = \"data-frame\" style = \"margin-bottom: 6px;\"><thead><tr class = \"header\"><th class = \"rowNumber\" style = \"font-weight: bold; text-align: right;\">Row</th><th style = \"text-align: left;\">col1</th><th style = \"text-align: left;\">col2</th><th style = \"text-align: left;\">col3</th></tr><tr class = \"subheader headerLastRow\"><th class = \"rowNumber\" style = \"font-weight: bold; text-align: right;\"></th><th title = \"Int64\" style = \"text-align: left;\">Int64</th><th title = \"Int64\" style = \"text-align: left;\">Int64</th><th title = \"Union{Missing, Int64}\" style = \"text-align: left;\">Int64?</th></tr></thead><tbody><tr><td class = \"rowNumber\" style = \"font-weight: bold; text-align: right;\">1</td><td style = \"text-align: right;\">19</td><td style = \"text-align: right;\">15</td><td style = \"text-align: right;\">21</td></tr><tr><td class = \"rowNumber\" style = \"font-weight: bold; text-align: right;\">2</td><td style = \"text-align: right;\">9</td><td style = \"text-align: right;\">8</td><td style = \"font-style: italic; text-align: right;\">missing</td></tr><tr><td class = \"rowNumber\" style = \"font-weight: bold; text-align: right;\">3</td><td style = \"text-align: right;\">5</td><td style = \"text-align: right;\">26</td><td style = \"font-style: italic; text-align: right;\">missing</td></tr><tr><td class = \"rowNumber\" style = \"font-weight: bold; text-align: right;\">4</td><td style = \"text-align: right;\">3</td><td style = \"text-align: right;\">5</td><td style = \"text-align: right;\">5</td></tr><tr><td class = \"rowNumber\" style = \"font-weight: bold; text-align: right;\">5</td><td style = \"text-align: right;\">2</td><td style = \"text-align: right;\">24</td><td style = \"text-align: right;\">4</td></tr></tbody></table></div>"
      ],
      "text/latex": [
       "\\begin{tabular}{r|ccc}\n",
       "\t& col1 & col2 & col3\\\\\n",
       "\t\\hline\n",
       "\t& Int64 & Int64 & Int64?\\\\\n",
       "\t\\hline\n",
       "\t1 & 19 & 15 & 21 \\\\\n",
       "\t2 & 9 & 8 & \\emph{missing} \\\\\n",
       "\t3 & 5 & 26 & \\emph{missing} \\\\\n",
       "\t4 & 3 & 5 & 5 \\\\\n",
       "\t5 & 2 & 24 & 4 \\\\\n",
       "\\end{tabular}\n"
      ],
      "text/plain": [
       "\u001b[1m5×3 DataFrame\u001b[0m\n",
       "\u001b[1m Row \u001b[0m│\u001b[1m col1  \u001b[0m\u001b[1m col2  \u001b[0m\u001b[1m col3    \u001b[0m\n",
       "     │\u001b[90m Int64 \u001b[0m\u001b[90m Int64 \u001b[0m\u001b[90m Int64?  \u001b[0m\n",
       "─────┼───────────────────────\n",
       "   1 │    19     15       21\n",
       "   2 │     9      8 \u001b[90m missing \u001b[0m\n",
       "   3 │     5     26 \u001b[90m missing \u001b[0m\n",
       "   4 │     3      5        5\n",
       "   5 │     2     24        4"
      ]
     },
     "execution_count": 187,
     "metadata": {},
     "output_type": "execute_result"
    }
   ],
   "source": [
    "sort!(X, [\"col1\", \"col2\"], rev=[true, false])"
   ]
  },
  {
   "cell_type": "markdown",
   "id": "997cc583",
   "metadata": {},
   "source": [
    "### Adding rows and columns \n",
    "Adding rows and columns is a very common procedure - it should become as comfortable as adding sides to the playdough structure that we've made.\n",
    "\n",
    "In R;\n",
    "```R\n",
    "X$var4 <- rnorm(5)\n",
    "```"
   ]
  },
  {
   "cell_type": "markdown",
   "id": "b55c7e9c",
   "metadata": {},
   "source": [
    "In Julia, a very basic way to do this is via indexing, we can index into a column which doesn't exist yet, but soon will, and provide the data which will fill the column"
   ]
  },
  {
   "cell_type": "code",
   "execution_count": 188,
   "id": "57da4a79",
   "metadata": {},
   "outputs": [
    {
     "data": {
      "text/plain": [
       "5-element Vector{Int64}:\n",
       " 113\n",
       " 113\n",
       " 141\n",
       " 194\n",
       " 125"
      ]
     },
     "execution_count": 188,
     "metadata": {},
     "output_type": "execute_result"
    }
   ],
   "source": [
    "X.col4 = rand(100:200, 5)"
   ]
  },
  {
   "cell_type": "code",
   "execution_count": 189,
   "id": "6b179463",
   "metadata": {},
   "outputs": [
    {
     "data": {
      "text/html": [
       "<div><div style = \"float: left;\"><span>5×4 DataFrame</span></div><div style = \"clear: both;\"></div></div><div class = \"data-frame\" style = \"overflow-x: scroll;\"><table class = \"data-frame\" style = \"margin-bottom: 6px;\"><thead><tr class = \"header\"><th class = \"rowNumber\" style = \"font-weight: bold; text-align: right;\">Row</th><th style = \"text-align: left;\">col1</th><th style = \"text-align: left;\">col2</th><th style = \"text-align: left;\">col3</th><th style = \"text-align: left;\">col4</th></tr><tr class = \"subheader headerLastRow\"><th class = \"rowNumber\" style = \"font-weight: bold; text-align: right;\"></th><th title = \"Int64\" style = \"text-align: left;\">Int64</th><th title = \"Int64\" style = \"text-align: left;\">Int64</th><th title = \"Union{Missing, Int64}\" style = \"text-align: left;\">Int64?</th><th title = \"Int64\" style = \"text-align: left;\">Int64</th></tr></thead><tbody><tr><td class = \"rowNumber\" style = \"font-weight: bold; text-align: right;\">1</td><td style = \"text-align: right;\">19</td><td style = \"text-align: right;\">15</td><td style = \"text-align: right;\">21</td><td style = \"text-align: right;\">113</td></tr><tr><td class = \"rowNumber\" style = \"font-weight: bold; text-align: right;\">2</td><td style = \"text-align: right;\">9</td><td style = \"text-align: right;\">8</td><td style = \"font-style: italic; text-align: right;\">missing</td><td style = \"text-align: right;\">113</td></tr><tr><td class = \"rowNumber\" style = \"font-weight: bold; text-align: right;\">3</td><td style = \"text-align: right;\">5</td><td style = \"text-align: right;\">26</td><td style = \"font-style: italic; text-align: right;\">missing</td><td style = \"text-align: right;\">141</td></tr><tr><td class = \"rowNumber\" style = \"font-weight: bold; text-align: right;\">4</td><td style = \"text-align: right;\">3</td><td style = \"text-align: right;\">5</td><td style = \"text-align: right;\">5</td><td style = \"text-align: right;\">194</td></tr><tr><td class = \"rowNumber\" style = \"font-weight: bold; text-align: right;\">5</td><td style = \"text-align: right;\">2</td><td style = \"text-align: right;\">24</td><td style = \"text-align: right;\">4</td><td style = \"text-align: right;\">125</td></tr></tbody></table></div>"
      ],
      "text/latex": [
       "\\begin{tabular}{r|cccc}\n",
       "\t& col1 & col2 & col3 & col4\\\\\n",
       "\t\\hline\n",
       "\t& Int64 & Int64 & Int64? & Int64\\\\\n",
       "\t\\hline\n",
       "\t1 & 19 & 15 & 21 & 113 \\\\\n",
       "\t2 & 9 & 8 & \\emph{missing} & 113 \\\\\n",
       "\t3 & 5 & 26 & \\emph{missing} & 141 \\\\\n",
       "\t4 & 3 & 5 & 5 & 194 \\\\\n",
       "\t5 & 2 & 24 & 4 & 125 \\\\\n",
       "\\end{tabular}\n"
      ],
      "text/plain": [
       "\u001b[1m5×4 DataFrame\u001b[0m\n",
       "\u001b[1m Row \u001b[0m│\u001b[1m col1  \u001b[0m\u001b[1m col2  \u001b[0m\u001b[1m col3    \u001b[0m\u001b[1m col4  \u001b[0m\n",
       "     │\u001b[90m Int64 \u001b[0m\u001b[90m Int64 \u001b[0m\u001b[90m Int64?  \u001b[0m\u001b[90m Int64 \u001b[0m\n",
       "─────┼──────────────────────────────\n",
       "   1 │    19     15       21    113\n",
       "   2 │     9      8 \u001b[90m missing \u001b[0m   113\n",
       "   3 │     5     26 \u001b[90m missing \u001b[0m   141\n",
       "   4 │     3      5        5    194\n",
       "   5 │     2     24        4    125"
      ]
     },
     "execution_count": 189,
     "metadata": {},
     "output_type": "execute_result"
    }
   ],
   "source": [
    "X"
   ]
  },
  {
   "cell_type": "markdown",
   "id": "1a228dc8",
   "metadata": {},
   "source": [
    "## Summarising Data \n",
    "We'll be looking at different ways of providing a snapshot of the general big picture of our datasets - the averages, limits, deviations and so on.  \n",
    "\n",
    "Let's do the basics, the beginning and end of the datasets; \n",
    "In R; \n",
    "```R\n",
    "head(data, n=3)\n",
    "tail(data, n=5)\n",
    "``` "
   ]
  },
  {
   "cell_type": "markdown",
   "id": "3a0b0534",
   "metadata": {},
   "source": [
    "In Julia"
   ]
  },
  {
   "cell_type": "code",
   "execution_count": 190,
   "id": "4a3665db",
   "metadata": {},
   "outputs": [
    {
     "data": {
      "text/html": [
       "<div><div style = \"float: left;\"><span>DataFrameRow (4 columns)</span></div><div style = \"clear: both;\"></div></div><div class = \"data-frame\" style = \"overflow-x: scroll;\"><table class = \"data-frame\" style = \"margin-bottom: 6px;\"><thead><tr class = \"header\"><th class = \"rowLabel\" style = \"font-weight: bold; text-align: right;\">Row</th><th style = \"text-align: left;\">col1</th><th style = \"text-align: left;\">col2</th><th style = \"text-align: left;\">col3</th><th style = \"text-align: left;\">col4</th></tr><tr class = \"subheader headerLastRow\"><th class = \"rowLabel\" style = \"font-weight: bold; text-align: right;\"></th><th title = \"Int64\" style = \"text-align: left;\">Int64</th><th title = \"Int64\" style = \"text-align: left;\">Int64</th><th title = \"Union{Missing, Int64}\" style = \"text-align: left;\">Int64?</th><th title = \"Int64\" style = \"text-align: left;\">Int64</th></tr></thead><tbody><tr><td class = \"rowLabel\" style = \"font-weight: bold; text-align: right;\">1</td><td style = \"text-align: right;\">19</td><td style = \"text-align: right;\">15</td><td style = \"text-align: right;\">21</td><td style = \"text-align: right;\">113</td></tr></tbody></table></div>"
      ],
      "text/latex": [
       "\\begin{tabular}{r|cccc}\n",
       "\t& col1 & col2 & col3 & col4\\\\\n",
       "\t\\hline\n",
       "\t& Int64 & Int64 & Int64? & Int64\\\\\n",
       "\t\\hline\n",
       "\t1 & 19 & 15 & 21 & 113 \\\\\n",
       "\\end{tabular}\n"
      ],
      "text/plain": [
       "\u001b[1mDataFrameRow\u001b[0m\n",
       "\u001b[1m Row \u001b[0m│\u001b[1m col1  \u001b[0m\u001b[1m col2  \u001b[0m\u001b[1m col3   \u001b[0m\u001b[1m col4  \u001b[0m\n",
       "     │\u001b[90m Int64 \u001b[0m\u001b[90m Int64 \u001b[0m\u001b[90m Int64? \u001b[0m\u001b[90m Int64 \u001b[0m\n",
       "─────┼─────────────────────────────\n",
       "   1 │    19     15      21    113"
      ]
     },
     "execution_count": 190,
     "metadata": {},
     "output_type": "execute_result"
    }
   ],
   "source": [
    "first(X)"
   ]
  },
  {
   "cell_type": "code",
   "execution_count": 191,
   "id": "57d0501c",
   "metadata": {},
   "outputs": [
    {
     "data": {
      "text/html": [
       "<div><div style = \"float: left;\"><span>DataFrameRow (4 columns)</span></div><div style = \"clear: both;\"></div></div><div class = \"data-frame\" style = \"overflow-x: scroll;\"><table class = \"data-frame\" style = \"margin-bottom: 6px;\"><thead><tr class = \"header\"><th class = \"rowLabel\" style = \"font-weight: bold; text-align: right;\">Row</th><th style = \"text-align: left;\">col1</th><th style = \"text-align: left;\">col2</th><th style = \"text-align: left;\">col3</th><th style = \"text-align: left;\">col4</th></tr><tr class = \"subheader headerLastRow\"><th class = \"rowLabel\" style = \"font-weight: bold; text-align: right;\"></th><th title = \"Int64\" style = \"text-align: left;\">Int64</th><th title = \"Int64\" style = \"text-align: left;\">Int64</th><th title = \"Union{Missing, Int64}\" style = \"text-align: left;\">Int64?</th><th title = \"Int64\" style = \"text-align: left;\">Int64</th></tr></thead><tbody><tr><td class = \"rowLabel\" style = \"font-weight: bold; text-align: right;\">5</td><td style = \"text-align: right;\">2</td><td style = \"text-align: right;\">24</td><td style = \"text-align: right;\">4</td><td style = \"text-align: right;\">125</td></tr></tbody></table></div>"
      ],
      "text/latex": [
       "\\begin{tabular}{r|cccc}\n",
       "\t& col1 & col2 & col3 & col4\\\\\n",
       "\t\\hline\n",
       "\t& Int64 & Int64 & Int64? & Int64\\\\\n",
       "\t\\hline\n",
       "\t5 & 2 & 24 & 4 & 125 \\\\\n",
       "\\end{tabular}\n"
      ],
      "text/plain": [
       "\u001b[1mDataFrameRow\u001b[0m\n",
       "\u001b[1m Row \u001b[0m│\u001b[1m col1  \u001b[0m\u001b[1m col2  \u001b[0m\u001b[1m col3   \u001b[0m\u001b[1m col4  \u001b[0m\n",
       "     │\u001b[90m Int64 \u001b[0m\u001b[90m Int64 \u001b[0m\u001b[90m Int64? \u001b[0m\u001b[90m Int64 \u001b[0m\n",
       "─────┼─────────────────────────────\n",
       "   5 │     2     24       4    125"
      ]
     },
     "execution_count": 191,
     "metadata": {},
     "output_type": "execute_result"
    }
   ],
   "source": [
    "last(X)"
   ]
  },
  {
   "cell_type": "markdown",
   "id": "0f3527bd",
   "metadata": {},
   "source": [
    "To get a brief summary of the data with descriptve stats and other information such as the Types of the variables in the columns, we can use `summary(data)` in R and in Julia we can use **describe()**"
   ]
  },
  {
   "cell_type": "code",
   "execution_count": 192,
   "id": "16bb8d18",
   "metadata": {},
   "outputs": [
    {
     "data": {
      "text/html": [
       "<div><div style = \"float: left;\"><span>4×7 DataFrame</span></div><div style = \"clear: both;\"></div></div><div class = \"data-frame\" style = \"overflow-x: scroll;\"><table class = \"data-frame\" style = \"margin-bottom: 6px;\"><thead><tr class = \"header\"><th class = \"rowNumber\" style = \"font-weight: bold; text-align: right;\">Row</th><th style = \"text-align: left;\">variable</th><th style = \"text-align: left;\">mean</th><th style = \"text-align: left;\">min</th><th style = \"text-align: left;\">median</th><th style = \"text-align: left;\">max</th><th style = \"text-align: left;\">nmissing</th><th style = \"text-align: left;\">eltype</th></tr><tr class = \"subheader headerLastRow\"><th class = \"rowNumber\" style = \"font-weight: bold; text-align: right;\"></th><th title = \"Symbol\" style = \"text-align: left;\">Symbol</th><th title = \"Float64\" style = \"text-align: left;\">Float64</th><th title = \"Int64\" style = \"text-align: left;\">Int64</th><th title = \"Float64\" style = \"text-align: left;\">Float64</th><th title = \"Int64\" style = \"text-align: left;\">Int64</th><th title = \"Int64\" style = \"text-align: left;\">Int64</th><th title = \"Type\" style = \"text-align: left;\">Type</th></tr></thead><tbody><tr><td class = \"rowNumber\" style = \"font-weight: bold; text-align: right;\">1</td><td style = \"text-align: left;\">col1</td><td style = \"text-align: right;\">7.6</td><td style = \"text-align: right;\">2</td><td style = \"text-align: right;\">5.0</td><td style = \"text-align: right;\">19</td><td style = \"text-align: right;\">0</td><td style = \"text-align: left;\">Int64</td></tr><tr><td class = \"rowNumber\" style = \"font-weight: bold; text-align: right;\">2</td><td style = \"text-align: left;\">col2</td><td style = \"text-align: right;\">15.6</td><td style = \"text-align: right;\">5</td><td style = \"text-align: right;\">15.0</td><td style = \"text-align: right;\">26</td><td style = \"text-align: right;\">0</td><td style = \"text-align: left;\">Int64</td></tr><tr><td class = \"rowNumber\" style = \"font-weight: bold; text-align: right;\">3</td><td style = \"text-align: left;\">col3</td><td style = \"text-align: right;\">10.0</td><td style = \"text-align: right;\">4</td><td style = \"text-align: right;\">5.0</td><td style = \"text-align: right;\">21</td><td style = \"text-align: right;\">2</td><td style = \"text-align: left;\">Union{Missing, Int64}</td></tr><tr><td class = \"rowNumber\" style = \"font-weight: bold; text-align: right;\">4</td><td style = \"text-align: left;\">col4</td><td style = \"text-align: right;\">137.2</td><td style = \"text-align: right;\">113</td><td style = \"text-align: right;\">125.0</td><td style = \"text-align: right;\">194</td><td style = \"text-align: right;\">0</td><td style = \"text-align: left;\">Int64</td></tr></tbody></table></div>"
      ],
      "text/latex": [
       "\\begin{tabular}{r|ccccccc}\n",
       "\t& variable & mean & min & median & max & nmissing & eltype\\\\\n",
       "\t\\hline\n",
       "\t& Symbol & Float64 & Int64 & Float64 & Int64 & Int64 & Type\\\\\n",
       "\t\\hline\n",
       "\t1 & col1 & 7.6 & 2 & 5.0 & 19 & 0 & Int64 \\\\\n",
       "\t2 & col2 & 15.6 & 5 & 15.0 & 26 & 0 & Int64 \\\\\n",
       "\t3 & col3 & 10.0 & 4 & 5.0 & 21 & 2 & Union\\{Missing, Int64\\} \\\\\n",
       "\t4 & col4 & 137.2 & 113 & 125.0 & 194 & 0 & Int64 \\\\\n",
       "\\end{tabular}\n"
      ],
      "text/plain": [
       "\u001b[1m4×7 DataFrame\u001b[0m\n",
       "\u001b[1m Row \u001b[0m│\u001b[1m variable \u001b[0m\u001b[1m mean    \u001b[0m\u001b[1m min   \u001b[0m\u001b[1m median  \u001b[0m\u001b[1m max   \u001b[0m\u001b[1m nmissing \u001b[0m\u001b[1m eltype             \u001b[0m ⋯\n",
       "     │\u001b[90m Symbol   \u001b[0m\u001b[90m Float64 \u001b[0m\u001b[90m Int64 \u001b[0m\u001b[90m Float64 \u001b[0m\u001b[90m Int64 \u001b[0m\u001b[90m Int64    \u001b[0m\u001b[90m Type               \u001b[0m ⋯\n",
       "─────┼──────────────────────────────────────────────────────────────────────────\n",
       "   1 │ col1          7.6      2      5.0     19         0  Int64               ⋯\n",
       "   2 │ col2         15.6      5     15.0     26         0  Int64\n",
       "   3 │ col3         10.0      4      5.0     21         2  Union{Missing, Int6\n",
       "   4 │ col4        137.2    113    125.0    194         0  Int64\n",
       "\u001b[36m                                                                1 column omitted\u001b[0m"
      ]
     },
     "execution_count": 192,
     "metadata": {},
     "output_type": "execute_result"
    }
   ],
   "source": [
    "describe(X)"
   ]
  },
  {
   "cell_type": "markdown",
   "id": "95f34db7",
   "metadata": {},
   "source": [
    "In R you can also use the `str(data)` command "
   ]
  },
  {
   "cell_type": "code",
   "execution_count": 193,
   "id": "74e6ac47",
   "metadata": {},
   "outputs": [
    {
     "data": {
      "text/plain": [
       "Vector{Int64}\u001b[90m (alias for \u001b[39m\u001b[90mArray{Int64, 1}\u001b[39m\u001b[90m)\u001b[39m"
      ]
     },
     "execution_count": 193,
     "metadata": {},
     "output_type": "execute_result"
    }
   ],
   "source": [
    "typeof(X.col1)"
   ]
  },
  {
   "cell_type": "markdown",
   "id": "bccf2514",
   "metadata": {},
   "source": [
    "To get the quantiles of a vector, in R we have the base function `quantile(data$column.na.rm=TRUE)` and in Julia we have to use the **Statistics.jl** package to add this functionality. Remember Julia is a more general language compared to R which was always tailored towards statistical computing - see https://www.jlhub.com/julia/manual/en/function/quantile-exclamation "
   ]
  },
  {
   "cell_type": "code",
   "execution_count": 194,
   "id": "009a4926",
   "metadata": {},
   "outputs": [],
   "source": [
    "using Statistics"
   ]
  },
  {
   "cell_type": "code",
   "execution_count": 195,
   "id": "02bcd521",
   "metadata": {},
   "outputs": [
    {
     "data": {
      "text/plain": [
       "5-element Vector{Float64}:\n",
       "  2.0\n",
       "  3.0\n",
       "  5.0\n",
       "  9.0\n",
       " 19.0"
      ]
     },
     "execution_count": 195,
     "metadata": {},
     "output_type": "execute_result"
    }
   ],
   "source": [
    "# Print quarter quantiles\n",
    "quantile!(X.col1, [0, 0.25, 0.5, 0.75, 1], )"
   ]
  },
  {
   "cell_type": "markdown",
   "id": "d0325ac3",
   "metadata": {},
   "source": [
    "To skip the missing values and print the median value"
   ]
  },
  {
   "cell_type": "code",
   "execution_count": 196,
   "id": "1f560fd2",
   "metadata": {},
   "outputs": [
    {
     "data": {
      "text/plain": [
       "5.0"
      ]
     },
     "execution_count": 196,
     "metadata": {},
     "output_type": "execute_result"
    }
   ],
   "source": [
    "quantile(skipmissing(X.col3), 0.5) "
   ]
  },
  {
   "cell_type": "markdown",
   "id": "0799aa0c",
   "metadata": {},
   "source": [
    "### Checking for missing values\n",
    "In R, count the number of missing values \n",
    "```R\n",
    "sum(is.na(data$column))\n",
    "```\n",
    "Check is **any** na values are present\n",
    "```R\n",
    "any(is.na(data$column))\n",
    "```\n",
    "Test to see whether all the values meet a certain condition (over 0)\n",
    "```R\n",
    "all(data$column > 0)\n",
    "```"
   ]
  },
  {
   "cell_type": "markdown",
   "id": "a8239beb",
   "metadata": {},
   "source": [
    "In Julia, get the sum of missing values - using the one line iterators"
   ]
  },
  {
   "cell_type": "code",
   "execution_count": 197,
   "id": "a72e65d6",
   "metadata": {},
   "outputs": [
    {
     "data": {
      "text/plain": [
       "2"
      ]
     },
     "execution_count": 197,
     "metadata": {},
     "output_type": "execute_result"
    }
   ],
   "source": [
    "sum(x -> ismissing(x), X.col3)"
   ]
  },
  {
   "cell_type": "markdown",
   "id": "f51869d0",
   "metadata": {},
   "source": [
    "If any missing values are in there "
   ]
  },
  {
   "cell_type": "code",
   "execution_count": 198,
   "id": "73441009",
   "metadata": {},
   "outputs": [
    {
     "data": {
      "text/plain": [
       "true"
      ]
     },
     "execution_count": 198,
     "metadata": {},
     "output_type": "execute_result"
    }
   ],
   "source": [
    "any(x -> ismissing(x), X.col3)"
   ]
  },
  {
   "cell_type": "markdown",
   "id": "fc56089c",
   "metadata": {},
   "source": [
    "If all the values are a certain condition "
   ]
  },
  {
   "cell_type": "code",
   "execution_count": 199,
   "id": "78587da3",
   "metadata": {},
   "outputs": [
    {
     "data": {
      "text/plain": [
       "false"
      ]
     },
     "execution_count": 199,
     "metadata": {},
     "output_type": "execute_result"
    }
   ],
   "source": [
    "all(x -> ismissing(x), X.col1)"
   ]
  },
  {
   "cell_type": "code",
   "execution_count": 200,
   "id": "b235b6ed",
   "metadata": {},
   "outputs": [
    {
     "data": {
      "text/plain": [
       "true"
      ]
     },
     "execution_count": 200,
     "metadata": {},
     "output_type": "execute_result"
    }
   ],
   "source": [
    "all(x -> x > 0, X.col1)"
   ]
  },
  {
   "cell_type": "markdown",
   "id": "0efc6dfb",
   "metadata": {},
   "source": [
    "A cool little function in Julia to only extract the dataframes rows which contain missing values "
   ]
  },
  {
   "cell_type": "code",
   "execution_count": 201,
   "id": "5d9a945b",
   "metadata": {},
   "outputs": [
    {
     "data": {
      "text/html": [
       "<div><div style = \"float: left;\"><span>2×4 DataFrame</span></div><div style = \"clear: both;\"></div></div><div class = \"data-frame\" style = \"overflow-x: scroll;\"><table class = \"data-frame\" style = \"margin-bottom: 6px;\"><thead><tr class = \"header\"><th class = \"rowNumber\" style = \"font-weight: bold; text-align: right;\">Row</th><th style = \"text-align: left;\">col1</th><th style = \"text-align: left;\">col2</th><th style = \"text-align: left;\">col3</th><th style = \"text-align: left;\">col4</th></tr><tr class = \"subheader headerLastRow\"><th class = \"rowNumber\" style = \"font-weight: bold; text-align: right;\"></th><th title = \"Int64\" style = \"text-align: left;\">Int64</th><th title = \"Int64\" style = \"text-align: left;\">Int64</th><th title = \"Union{Missing, Int64}\" style = \"text-align: left;\">Int64?</th><th title = \"Int64\" style = \"text-align: left;\">Int64</th></tr></thead><tbody><tr><td class = \"rowNumber\" style = \"font-weight: bold; text-align: right;\">1</td><td style = \"text-align: right;\">3</td><td style = \"text-align: right;\">8</td><td style = \"font-style: italic; text-align: right;\">missing</td><td style = \"text-align: right;\">113</td></tr><tr><td class = \"rowNumber\" style = \"font-weight: bold; text-align: right;\">2</td><td style = \"text-align: right;\">5</td><td style = \"text-align: right;\">26</td><td style = \"font-style: italic; text-align: right;\">missing</td><td style = \"text-align: right;\">141</td></tr></tbody></table></div>"
      ],
      "text/latex": [
       "\\begin{tabular}{r|cccc}\n",
       "\t& col1 & col2 & col3 & col4\\\\\n",
       "\t\\hline\n",
       "\t& Int64 & Int64 & Int64? & Int64\\\\\n",
       "\t\\hline\n",
       "\t1 & 3 & 8 & \\emph{missing} & 113 \\\\\n",
       "\t2 & 5 & 26 & \\emph{missing} & 141 \\\\\n",
       "\\end{tabular}\n"
      ],
      "text/plain": [
       "\u001b[1m2×4 DataFrame\u001b[0m\n",
       "\u001b[1m Row \u001b[0m│\u001b[1m col1  \u001b[0m\u001b[1m col2  \u001b[0m\u001b[1m col3    \u001b[0m\u001b[1m col4  \u001b[0m\n",
       "     │\u001b[90m Int64 \u001b[0m\u001b[90m Int64 \u001b[0m\u001b[90m Int64?  \u001b[0m\u001b[90m Int64 \u001b[0m\n",
       "─────┼──────────────────────────────\n",
       "   1 │     3      8 \u001b[90m missing \u001b[0m   113\n",
       "   2 │     5     26 \u001b[90m missing \u001b[0m   141"
      ]
     },
     "execution_count": 201,
     "metadata": {},
     "output_type": "execute_result"
    }
   ],
   "source": [
    "filter(x -> any(ismissing, x), X)"
   ]
  },
  {
   "cell_type": "markdown",
   "id": "1fe34e0d",
   "metadata": {},
   "source": [
    "Perform a quick sum of all of the columns in a horizontal fashion - intuitively this would mean summing the entire row, and producing a new sum in the final column of the same row e.g. |1|2|3|6 (final)|. This can be a very quick way of checking whether there are any missing values as the missing values will propogate across!"
   ]
  },
  {
   "cell_type": "markdown",
   "id": "155e41d7",
   "metadata": {},
   "source": [
    "In R;\n",
    "```R\n",
    "colSums(is.na(data))\n",
    "```"
   ]
  },
  {
   "cell_type": "markdown",
   "id": "cd672804",
   "metadata": {},
   "source": [
    "In Julia"
   ]
  },
  {
   "cell_type": "code",
   "execution_count": 202,
   "id": "322ebfbf",
   "metadata": {},
   "outputs": [
    {
     "data": {
      "text/plain": [
       "5-element Vector{Union{Missing, Int64}}:\n",
       " 151\n",
       "    missing\n",
       "    missing\n",
       " 213\n",
       " 172"
      ]
     },
     "execution_count": 202,
     "metadata": {},
     "output_type": "execute_result"
    }
   ],
   "source": [
    "sum(eachcol(X))"
   ]
  },
  {
   "cell_type": "markdown",
   "id": "c934feb2",
   "metadata": {},
   "source": [
    "In Julia if we want to actually sum the entire column, meaning every value in the column vertically, we can collect the column and then sum it OR we can just performing broadcasting using the sum function - fascinating but easily confusing! "
   ]
  },
  {
   "cell_type": "code",
   "execution_count": 203,
   "id": "39654022",
   "metadata": {},
   "outputs": [
    {
     "data": {
      "text/plain": [
       "4-element Vector{Union{Missing, Int64}}:\n",
       "  38\n",
       "  78\n",
       "    missing\n",
       " 686"
      ]
     },
     "execution_count": 203,
     "metadata": {},
     "output_type": "execute_result"
    }
   ],
   "source": [
    "sum.(collect(eachcol(X)))"
   ]
  },
  {
   "cell_type": "code",
   "execution_count": 204,
   "id": "0a72506e",
   "metadata": {},
   "outputs": [
    {
     "data": {
      "text/plain": [
       "4-element Vector{Union{Missing, Int64}}:\n",
       "  38\n",
       "  78\n",
       "    missing\n",
       " 686"
      ]
     },
     "execution_count": 204,
     "metadata": {},
     "output_type": "execute_result"
    }
   ],
   "source": [
    "sum.(eachcol(X))"
   ]
  },
  {
   "cell_type": "markdown",
   "id": "dc2f5e11",
   "metadata": {},
   "source": [
    "There is an equivalent operation by using the broadcasting over **eachrow()**"
   ]
  },
  {
   "cell_type": "code",
   "execution_count": 205,
   "id": "ed086cbb",
   "metadata": {},
   "outputs": [
    {
     "data": {
      "text/plain": [
       "5-element Vector{Union{Missing, Int64}}:\n",
       " 151\n",
       "    missing\n",
       "    missing\n",
       " 213\n",
       " 172"
      ]
     },
     "execution_count": 205,
     "metadata": {},
     "output_type": "execute_result"
    }
   ],
   "source": [
    "sum.(eachrow(X))"
   ]
  },
  {
   "cell_type": "markdown",
   "id": "e2c707b6",
   "metadata": {},
   "source": [
    "If we want to skip missing values when doing these operations we would broadcasting **skipmissing()** across"
   ]
  },
  {
   "cell_type": "code",
   "execution_count": 206,
   "id": "8cad9af3",
   "metadata": {},
   "outputs": [
    {
     "data": {
      "text/plain": [
       "5-element Vector{Int64}:\n",
       " 151\n",
       " 124\n",
       " 172\n",
       " 213\n",
       " 172"
      ]
     },
     "execution_count": 206,
     "metadata": {},
     "output_type": "execute_result"
    }
   ],
   "source": [
    "sum.(skipmissing.(eachrow(X)))"
   ]
  },
  {
   "cell_type": "markdown",
   "id": "e8eca9b7",
   "metadata": {},
   "source": [
    "### Subsetting the dataframe based upon values in the columns\n",
    "Say for example that we only want the data which have a specific zipcode (generic value) in a column, what can we do? In R;\n",
    "```R\n",
    "data[data$zipCode %in% c(\"4109\", \"4110\"),] \n",
    "```"
   ]
  },
  {
   "cell_type": "markdown",
   "id": "f732d8b5",
   "metadata": {},
   "source": [
    "In Julia - get a dataframe in which the values in the first column are 1 "
   ]
  },
  {
   "cell_type": "code",
   "execution_count": 207,
   "id": "7f8f12a4",
   "metadata": {},
   "outputs": [
    {
     "data": {
      "text/html": [
       "<div><div style = \"float: left;\"><span>0×4 DataFrame</span></div><div style = \"clear: both;\"></div></div><div class = \"data-frame\" style = \"overflow-x: scroll;\"><table class = \"data-frame\" style = \"margin-bottom: 6px;\"><thead><tr class = \"header\"><th class = \"rowNumber\" style = \"font-weight: bold; text-align: right;\">Row</th><th style = \"text-align: left;\">col1</th><th style = \"text-align: left;\">col2</th><th style = \"text-align: left;\">col3</th><th style = \"text-align: left;\">col4</th></tr><tr class = \"subheader headerLastRow\"><th class = \"rowNumber\" style = \"font-weight: bold; text-align: right;\"></th><th title = \"Int64\" style = \"text-align: left;\">Int64</th><th title = \"Int64\" style = \"text-align: left;\">Int64</th><th title = \"Union{Missing, Int64}\" style = \"text-align: left;\">Int64?</th><th title = \"Int64\" style = \"text-align: left;\">Int64</th></tr></thead><tbody></tbody></table></div>"
      ],
      "text/latex": [
       "\\begin{tabular}{r|cccc}\n",
       "\t& col1 & col2 & col3 & col4\\\\\n",
       "\t\\hline\n",
       "\t& Int64 & Int64 & Int64? & Int64\\\\\n",
       "\t\\hline\n",
       "\\end{tabular}\n"
      ],
      "text/plain": [
       "\u001b[1m0×4 DataFrame\u001b[0m\n",
       "\u001b[1m Row \u001b[0m│\u001b[1m col1  \u001b[0m\u001b[1m col2  \u001b[0m\u001b[1m col3   \u001b[0m\u001b[1m col4  \u001b[0m\n",
       "     │\u001b[90m Int64 \u001b[0m\u001b[90m Int64 \u001b[0m\u001b[90m Int64? \u001b[0m\u001b[90m Int64 \u001b[0m\n",
       "─────┴─────────────────────────────"
      ]
     },
     "execution_count": 207,
     "metadata": {},
     "output_type": "execute_result"
    }
   ],
   "source": [
    "filter(row -> row.col1 == 1, X)"
   ]
  },
  {
   "cell_type": "markdown",
   "id": "8f2b56c0",
   "metadata": {},
   "source": [
    "Now another one wherein the values are larger and 1 and smaller than 15"
   ]
  },
  {
   "cell_type": "code",
   "execution_count": 208,
   "id": "91e6d480",
   "metadata": {},
   "outputs": [
    {
     "data": {
      "text/html": [
       "<div><div style = \"float: left;\"><span>4×4 DataFrame</span></div><div style = \"clear: both;\"></div></div><div class = \"data-frame\" style = \"overflow-x: scroll;\"><table class = \"data-frame\" style = \"margin-bottom: 6px;\"><thead><tr class = \"header\"><th class = \"rowNumber\" style = \"font-weight: bold; text-align: right;\">Row</th><th style = \"text-align: left;\">col1</th><th style = \"text-align: left;\">col2</th><th style = \"text-align: left;\">col3</th><th style = \"text-align: left;\">col4</th></tr><tr class = \"subheader headerLastRow\"><th class = \"rowNumber\" style = \"font-weight: bold; text-align: right;\"></th><th title = \"Int64\" style = \"text-align: left;\">Int64</th><th title = \"Int64\" style = \"text-align: left;\">Int64</th><th title = \"Union{Missing, Int64}\" style = \"text-align: left;\">Int64?</th><th title = \"Int64\" style = \"text-align: left;\">Int64</th></tr></thead><tbody><tr><td class = \"rowNumber\" style = \"font-weight: bold; text-align: right;\">1</td><td style = \"text-align: right;\">2</td><td style = \"text-align: right;\">15</td><td style = \"text-align: right;\">21</td><td style = \"text-align: right;\">113</td></tr><tr><td class = \"rowNumber\" style = \"font-weight: bold; text-align: right;\">2</td><td style = \"text-align: right;\">3</td><td style = \"text-align: right;\">8</td><td style = \"font-style: italic; text-align: right;\">missing</td><td style = \"text-align: right;\">113</td></tr><tr><td class = \"rowNumber\" style = \"font-weight: bold; text-align: right;\">3</td><td style = \"text-align: right;\">5</td><td style = \"text-align: right;\">26</td><td style = \"font-style: italic; text-align: right;\">missing</td><td style = \"text-align: right;\">141</td></tr><tr><td class = \"rowNumber\" style = \"font-weight: bold; text-align: right;\">4</td><td style = \"text-align: right;\">9</td><td style = \"text-align: right;\">5</td><td style = \"text-align: right;\">5</td><td style = \"text-align: right;\">194</td></tr></tbody></table></div>"
      ],
      "text/latex": [
       "\\begin{tabular}{r|cccc}\n",
       "\t& col1 & col2 & col3 & col4\\\\\n",
       "\t\\hline\n",
       "\t& Int64 & Int64 & Int64? & Int64\\\\\n",
       "\t\\hline\n",
       "\t1 & 2 & 15 & 21 & 113 \\\\\n",
       "\t2 & 3 & 8 & \\emph{missing} & 113 \\\\\n",
       "\t3 & 5 & 26 & \\emph{missing} & 141 \\\\\n",
       "\t4 & 9 & 5 & 5 & 194 \\\\\n",
       "\\end{tabular}\n"
      ],
      "text/plain": [
       "\u001b[1m4×4 DataFrame\u001b[0m\n",
       "\u001b[1m Row \u001b[0m│\u001b[1m col1  \u001b[0m\u001b[1m col2  \u001b[0m\u001b[1m col3    \u001b[0m\u001b[1m col4  \u001b[0m\n",
       "     │\u001b[90m Int64 \u001b[0m\u001b[90m Int64 \u001b[0m\u001b[90m Int64?  \u001b[0m\u001b[90m Int64 \u001b[0m\n",
       "─────┼──────────────────────────────\n",
       "   1 │     2     15       21    113\n",
       "   2 │     3      8 \u001b[90m missing \u001b[0m   113\n",
       "   3 │     5     26 \u001b[90m missing \u001b[0m   141\n",
       "   4 │     9      5        5    194"
      ]
     },
     "execution_count": 208,
     "metadata": {},
     "output_type": "execute_result"
    }
   ],
   "source": [
    "filter(row -> row.col1 > 1 && row.col1 < 15, X)"
   ]
  },
  {
   "cell_type": "markdown",
   "id": "9a37d378",
   "metadata": {},
   "source": [
    "## Cross Tabulation aka Frequency Tables\n",
    "In order provide small snapshots of potential interactions and relations, we can see cross-tabulation or frequency comparisons between variables, say, male and female and acceptance rates to university     "
   ]
  },
  {
   "cell_type": "markdown",
   "id": "8fb0b205",
   "metadata": {},
   "source": [
    "In R we have some base functions;\n",
    "```R\n",
    "xt <- xtabs(Freq ~ Gender + Admit, data=DF)\n",
    "```"
   ]
  },
  {
   "cell_type": "markdown",
   "id": "32c20ba8",
   "metadata": {},
   "source": [
    "In Julia we have to load a specific package called **FreqTables** https://github.com/nalimilan/FreqTables.jl"
   ]
  },
  {
   "cell_type": "code",
   "execution_count": 209,
   "id": "3541a1e5",
   "metadata": {},
   "outputs": [
    {
     "name": "stderr",
     "output_type": "stream",
     "text": [
      "\u001b[32m\u001b[1m   Resolving\u001b[22m\u001b[39m package versions...\n",
      "\u001b[32m\u001b[1m  No Changes\u001b[22m\u001b[39m to `~/.julia/environments/v1.10/Project.toml`\n",
      "\u001b[32m\u001b[1m  No Changes\u001b[22m\u001b[39m to `~/.julia/environments/v1.10/Manifest.toml`\n"
     ]
    }
   ],
   "source": [
    "using Pkg; Pkg.add(\"FreqTables\") ; using FreqTables"
   ]
  },
  {
   "cell_type": "markdown",
   "id": "11414754",
   "metadata": {},
   "source": [
    "Do a frequency table between columns 1 and 4 - clearly there is not much here to see given both are randomly generated vectors"
   ]
  },
  {
   "cell_type": "code",
   "execution_count": 210,
   "id": "a4ca5917",
   "metadata": {},
   "outputs": [
    {
     "data": {
      "text/plain": [
       "5×4 Named Matrix{Int64}\n",
       "col1 ╲ col4 │ 113  125  141  194\n",
       "────────────┼───────────────────\n",
       "2           │   1    0    0    0\n",
       "3           │   1    0    0    0\n",
       "5           │   0    0    1    0\n",
       "9           │   0    0    0    1\n",
       "19          │   0    1    0    0"
      ]
     },
     "execution_count": 210,
     "metadata": {},
     "output_type": "execute_result"
    }
   ],
   "source": [
    "freqtable(X, :col1, :col4)"
   ]
  },
  {
   "cell_type": "markdown",
   "id": "9d887527",
   "metadata": {},
   "source": [
    "## Size of the data in human readable form \n",
    "Very simple and yet very informative information - how big is our data?\n",
    "In R;\n",
    "```R\n",
    "object.size(data), units=\"Mb\")\n",
    "```"
   ]
  },
  {
   "cell_type": "markdown",
   "id": "fe322927",
   "metadata": {},
   "source": [
    "In Julia, we can use **varinfo()**"
   ]
  },
  {
   "cell_type": "markdown",
   "id": "38475acb",
   "metadata": {},
   "source": [
    "## Creating New Variables\n",
    "Often our datasets may consist of variables and values which we need to prune, transform and mould to our likings - perhaps they have broken delimiters, or are a combination of two values in ones, or are better represented in a different form - and so on. These tasks require us to create new variables and add these to the dataset - remember that we should always keep copies of the original dataset and not simply mutate it into oblivion. "
   ]
  },
  {
   "cell_type": "markdown",
   "id": "a9ef7183",
   "metadata": {},
   "source": [
    "Let's take some restaurant data from Baltimore city to use as the sample dataset"
   ]
  },
  {
   "cell_type": "code",
   "execution_count": 214,
   "id": "50f94e32",
   "metadata": {},
   "outputs": [
    {
     "data": {
      "text/plain": [
       "\"restaurants.csv\""
      ]
     },
     "execution_count": 214,
     "metadata": {},
     "output_type": "execute_result"
    }
   ],
   "source": [
    "download(\"https://gist.githubusercontent.com/slowteetoe/528c78213fcd80f05419/raw/e0a4a89476fca79e692df1a373e5025f5112a5f6/restaurants.csv\", \"restaurants.csv\") "
   ]
  },
  {
   "cell_type": "code",
   "execution_count": 317,
   "id": "0834e918",
   "metadata": {
    "collapsed": true
   },
   "outputs": [
    {
     "data": {
      "text/html": [
       "<div><div style = \"float: left;\"><span>1327×6 DataFrame</span></div><div style = \"float: right;\"><span style = \"font-style: italic;\">1302 rows omitted</span></div><div style = \"clear: both;\"></div></div><div class = \"data-frame\" style = \"overflow-x: scroll;\"><table class = \"data-frame\" style = \"margin-bottom: 6px;\"><thead><tr class = \"header\"><th class = \"rowNumber\" style = \"font-weight: bold; text-align: right;\">Row</th><th style = \"text-align: left;\">name</th><th style = \"text-align: left;\">zipCode</th><th style = \"text-align: left;\">neighborhood</th><th style = \"text-align: left;\">councilDistrict</th><th style = \"text-align: left;\">policeDistrict</th><th style = \"text-align: left;\">Location 1</th></tr><tr class = \"subheader headerLastRow\"><th class = \"rowNumber\" style = \"font-weight: bold; text-align: right;\"></th><th title = \"String\" style = \"text-align: left;\">String</th><th title = \"Int64\" style = \"text-align: left;\">Int64</th><th title = \"String\" style = \"text-align: left;\">String</th><th title = \"Int64\" style = \"text-align: left;\">Int64</th><th title = \"String15\" style = \"text-align: left;\">String15</th><th title = \"String\" style = \"text-align: left;\">String</th></tr></thead><tbody><tr><td class = \"rowNumber\" style = \"font-weight: bold; text-align: right;\">1</td><td style = \"text-align: left;\">410</td><td style = \"text-align: right;\">21206</td><td style = \"text-align: left;\">Frankford</td><td style = \"text-align: right;\">2</td><td style = \"text-align: left;\">NORTHEASTERN</td><td style = \"text-align: left;\">4509 BELAIR ROAD\\nBaltimore, MD\\n</td></tr><tr><td class = \"rowNumber\" style = \"font-weight: bold; text-align: right;\">2</td><td style = \"text-align: left;\">1919</td><td style = \"text-align: right;\">21231</td><td style = \"text-align: left;\">Fells Point</td><td style = \"text-align: right;\">1</td><td style = \"text-align: left;\">SOUTHEASTERN</td><td style = \"text-align: left;\">1919 FLEET ST\\nBaltimore, MD\\n</td></tr><tr><td class = \"rowNumber\" style = \"font-weight: bold; text-align: right;\">3</td><td style = \"text-align: left;\">SAUTE</td><td style = \"text-align: right;\">21224</td><td style = \"text-align: left;\">Canton</td><td style = \"text-align: right;\">1</td><td style = \"text-align: left;\">SOUTHEASTERN</td><td style = \"text-align: left;\">2844 HUDSON ST\\nBaltimore, MD\\n</td></tr><tr><td class = \"rowNumber\" style = \"font-weight: bold; text-align: right;\">4</td><td style = \"text-align: left;\">#1 CHINESE KITCHEN</td><td style = \"text-align: right;\">21211</td><td style = \"text-align: left;\">Hampden</td><td style = \"text-align: right;\">14</td><td style = \"text-align: left;\">NORTHERN</td><td style = \"text-align: left;\">3998 ROLAND AVE\\nBaltimore, MD\\n</td></tr><tr><td class = \"rowNumber\" style = \"font-weight: bold; text-align: right;\">5</td><td style = \"text-align: left;\">#1 chinese restaurant</td><td style = \"text-align: right;\">21223</td><td style = \"text-align: left;\">Millhill</td><td style = \"text-align: right;\">9</td><td style = \"text-align: left;\">SOUTHWESTERN</td><td style = \"text-align: left;\">2481 frederick ave\\nBaltimore, MD\\n</td></tr><tr><td class = \"rowNumber\" style = \"font-weight: bold; text-align: right;\">6</td><td style = \"text-align: left;\">19TH HOLE</td><td style = \"text-align: right;\">21218</td><td style = \"text-align: left;\">Clifton Park</td><td style = \"text-align: right;\">14</td><td style = \"text-align: left;\">NORTHEASTERN</td><td style = \"text-align: left;\">2722 HARFORD RD\\nBaltimore, MD\\n</td></tr><tr><td class = \"rowNumber\" style = \"font-weight: bold; text-align: right;\">7</td><td style = \"text-align: left;\">3 KINGS</td><td style = \"text-align: right;\">21205</td><td style = \"text-align: left;\">McElderry Park</td><td style = \"text-align: right;\">13</td><td style = \"text-align: left;\">SOUTHEASTERN</td><td style = \"text-align: left;\">2510 MCELDERRY ST\\nBaltimore, MD\\n</td></tr><tr><td class = \"rowNumber\" style = \"font-weight: bold; text-align: right;\">8</td><td style = \"text-align: left;\">3 MILES HOUSE, INC.</td><td style = \"text-align: right;\">21211</td><td style = \"text-align: left;\">Remington</td><td style = \"text-align: right;\">7</td><td style = \"text-align: left;\">NORTHERN</td><td style = \"text-align: left;\">2701 MILES AVE\\nBaltimore, MD\\n</td></tr><tr><td class = \"rowNumber\" style = \"font-weight: bold; text-align: right;\">9</td><td style = \"text-align: left;\">3 W&apos;S TAVERN</td><td style = \"text-align: right;\">21205</td><td style = \"text-align: left;\">McElderry Park</td><td style = \"text-align: right;\">13</td><td style = \"text-align: left;\">SOUTHEASTERN</td><td style = \"text-align: left;\">2518 MONUMENT ST\\nBaltimore, MD\\n</td></tr><tr><td class = \"rowNumber\" style = \"font-weight: bold; text-align: right;\">10</td><td style = \"text-align: left;\">300 SOUTH ANN STREET</td><td style = \"text-align: right;\">21231</td><td style = \"text-align: left;\">Upper Fells Point</td><td style = \"text-align: right;\">1</td><td style = \"text-align: left;\">SOUTHEASTERN</td><td style = \"text-align: left;\">300 ANN ST\\nBaltimore, MD\\n</td></tr><tr><td class = \"rowNumber\" style = \"font-weight: bold; text-align: right;\">11</td><td style = \"text-align: left;\">438 CLUB</td><td style = \"text-align: right;\">21226</td><td style = \"text-align: left;\">Curtis Bay</td><td style = \"text-align: right;\">10</td><td style = \"text-align: left;\">SOUTHERN</td><td style = \"text-align: left;\">1600 HAZEL ST\\nBaltimore, MD\\n</td></tr><tr><td class = \"rowNumber\" style = \"font-weight: bold; text-align: right;\">12</td><td style = \"text-align: left;\">5-MILE HOUSE</td><td style = \"text-align: right;\">21215</td><td style = \"text-align: left;\">Woodmere</td><td style = \"text-align: right;\">5</td><td style = \"text-align: left;\">NORTHWESTERN</td><td style = \"text-align: left;\">5302 REISTERSTOWN RD\\nBaltimore, MD\\n</td></tr><tr><td class = \"rowNumber\" style = \"font-weight: bold; text-align: right;\">13</td><td style = \"text-align: left;\">743 S. MONTFORD,INC.</td><td style = \"text-align: right;\">21224</td><td style = \"text-align: left;\">Canton</td><td style = \"text-align: right;\">1</td><td style = \"text-align: left;\">SOUTHEASTERN</td><td style = \"text-align: left;\">743 MONTFORD ST\\nBaltimore, MD\\n</td></tr><tr><td style = \"text-align: right;\">&vellip;</td><td style = \"text-align: right;\">&vellip;</td><td style = \"text-align: right;\">&vellip;</td><td style = \"text-align: right;\">&vellip;</td><td style = \"text-align: right;\">&vellip;</td><td style = \"text-align: right;\">&vellip;</td><td style = \"text-align: right;\">&vellip;</td></tr><tr><td class = \"rowNumber\" style = \"font-weight: bold; text-align: right;\">1316</td><td style = \"text-align: left;\">YELLOW BOWL CAF\\u90</td><td style = \"text-align: right;\">21201</td><td style = \"text-align: left;\">Johnston Square</td><td style = \"text-align: right;\">12</td><td style = \"text-align: left;\">EASTERN</td><td style = \"text-align: left;\">1234 GREENMOUNT AVE\\nBaltimore, MD\\n</td></tr><tr><td class = \"rowNumber\" style = \"font-weight: bold; text-align: right;\">1317</td><td style = \"text-align: left;\">YELLOW BOWL RESTAURANT II</td><td style = \"text-align: right;\">21215</td><td style = \"text-align: left;\">Central Park Heights</td><td style = \"text-align: right;\">6</td><td style = \"text-align: left;\">NORTHWESTERN</td><td style = \"text-align: left;\">5131 PARK HEIGHTS AVE\\nBaltimore, MD\\n</td></tr><tr><td class = \"rowNumber\" style = \"font-weight: bold; text-align: right;\">1318</td><td style = \"text-align: left;\">YELLOW DOG TAVERN</td><td style = \"text-align: right;\">21224</td><td style = \"text-align: left;\">Canton</td><td style = \"text-align: right;\">1</td><td style = \"text-align: left;\">SOUTHEASTERN</td><td style = \"text-align: left;\">700 POTOMAC ST\\nBaltimore, MD\\n</td></tr><tr><td class = \"rowNumber\" style = \"font-weight: bold; text-align: right;\">1319</td><td style = \"text-align: left;\">YETI RESTAURANT &amp; CARRYOUT</td><td style = \"text-align: right;\">21212</td><td style = \"text-align: left;\">Rosebank</td><td style = \"text-align: right;\">4</td><td style = \"text-align: left;\">NORTHERN</td><td style = \"text-align: left;\">5926 YORK RD\\nBaltimore, MD\\n</td></tr><tr><td class = \"rowNumber\" style = \"font-weight: bold; text-align: right;\">1320</td><td style = \"text-align: left;\">YORK CLUB TAVERN</td><td style = \"text-align: right;\">21212</td><td style = \"text-align: left;\">Homeland</td><td style = \"text-align: right;\">4</td><td style = \"text-align: left;\">NORTHERN</td><td style = \"text-align: left;\">5407 YORK RD\\nBaltimore, MD\\n</td></tr><tr><td class = \"rowNumber\" style = \"font-weight: bold; text-align: right;\">1321</td><td style = \"text-align: left;\">YOUNG&apos;S PLACE</td><td style = \"text-align: right;\">21231</td><td style = \"text-align: left;\">Middle East</td><td style = \"text-align: right;\">13</td><td style = \"text-align: left;\">SOUTHEASTERN</td><td style = \"text-align: left;\">2200 FAYETTE ST\\nBaltimore, MD\\n</td></tr><tr><td class = \"rowNumber\" style = \"font-weight: bold; text-align: right;\">1322</td><td style = \"text-align: left;\">ZEEBA LOUNGE</td><td style = \"text-align: right;\">21230</td><td style = \"text-align: left;\">Federal Hill</td><td style = \"text-align: right;\">10</td><td style = \"text-align: left;\">SOUTHERN</td><td style = \"text-align: left;\">916 LIGHT ST\\nBaltimore, MD\\n</td></tr><tr><td class = \"rowNumber\" style = \"font-weight: bold; text-align: right;\">1323</td><td style = \"text-align: left;\">ZEN WEST ROADSIDE CANTINA</td><td style = \"text-align: right;\">21212</td><td style = \"text-align: left;\">Rosebank</td><td style = \"text-align: right;\">4</td><td style = \"text-align: left;\">NORTHERN</td><td style = \"text-align: left;\">5916 YORK RD\\nBaltimore, MD\\n</td></tr><tr><td class = \"rowNumber\" style = \"font-weight: bold; text-align: right;\">1324</td><td style = \"text-align: left;\">ZIASCOS</td><td style = \"text-align: right;\">21231</td><td style = \"text-align: left;\">Washington Hill</td><td style = \"text-align: right;\">1</td><td style = \"text-align: left;\">SOUTHEASTERN</td><td style = \"text-align: left;\">1313 PRATT ST\\nBaltimore, MD\\n</td></tr><tr><td class = \"rowNumber\" style = \"font-weight: bold; text-align: right;\">1325</td><td style = \"text-align: left;\">ZINK&apos;S CAF\\u90</td><td style = \"text-align: right;\">21213</td><td style = \"text-align: left;\">Belair-Edison</td><td style = \"text-align: right;\">13</td><td style = \"text-align: left;\">NORTHEASTERN</td><td style = \"text-align: left;\">3300 LAWNVIEW AVE\\nBaltimore, MD\\n</td></tr><tr><td class = \"rowNumber\" style = \"font-weight: bold; text-align: right;\">1326</td><td style = \"text-align: left;\">ZISSIMOS BAR</td><td style = \"text-align: right;\">21211</td><td style = \"text-align: left;\">Hampden</td><td style = \"text-align: right;\">7</td><td style = \"text-align: left;\">NORTHERN</td><td style = \"text-align: left;\">1023 36TH ST\\nBaltimore, MD\\n</td></tr><tr><td class = \"rowNumber\" style = \"font-weight: bold; text-align: right;\">1327</td><td style = \"text-align: left;\">ZORBAS</td><td style = \"text-align: right;\">21224</td><td style = \"text-align: left;\">Greektown</td><td style = \"text-align: right;\">2</td><td style = \"text-align: left;\">SOUTHEASTERN</td><td style = \"text-align: left;\">4710 EASTERN Ave\\nBaltimore, MD\\n</td></tr></tbody></table></div>"
      ],
      "text/latex": [
       "\\begin{tabular}{r|cccccc}\n",
       "\t& name & zipCode & neighborhood & councilDistrict & policeDistrict & \\\\\n",
       "\t\\hline\n",
       "\t& String & Int64 & String & Int64 & String15 & \\\\\n",
       "\t\\hline\n",
       "\t1 & 410 & 21206 & Frankford & 2 & NORTHEASTERN & $\\dots$ \\\\\n",
       "\t2 & 1919 & 21231 & Fells Point & 1 & SOUTHEASTERN & $\\dots$ \\\\\n",
       "\t3 & SAUTE & 21224 & Canton & 1 & SOUTHEASTERN & $\\dots$ \\\\\n",
       "\t4 & \\#1 CHINESE KITCHEN & 21211 & Hampden & 14 & NORTHERN & $\\dots$ \\\\\n",
       "\t5 & \\#1 chinese restaurant & 21223 & Millhill & 9 & SOUTHWESTERN & $\\dots$ \\\\\n",
       "\t6 & 19TH HOLE & 21218 & Clifton Park & 14 & NORTHEASTERN & $\\dots$ \\\\\n",
       "\t7 & 3 KINGS & 21205 & McElderry Park & 13 & SOUTHEASTERN & $\\dots$ \\\\\n",
       "\t8 & 3 MILES HOUSE, INC. & 21211 & Remington & 7 & NORTHERN & $\\dots$ \\\\\n",
       "\t9 & 3 W'S TAVERN & 21205 & McElderry Park & 13 & SOUTHEASTERN & $\\dots$ \\\\\n",
       "\t10 & 300 SOUTH ANN STREET & 21231 & Upper Fells Point & 1 & SOUTHEASTERN & $\\dots$ \\\\\n",
       "\t11 & 438 CLUB & 21226 & Curtis Bay & 10 & SOUTHERN & $\\dots$ \\\\\n",
       "\t12 & 5-MILE HOUSE & 21215 & Woodmere & 5 & NORTHWESTERN & $\\dots$ \\\\\n",
       "\t13 & 743 S. MONTFORD,INC. & 21224 & Canton & 1 & SOUTHEASTERN & $\\dots$ \\\\\n",
       "\t14 & A \\& W RESTAURANT & 21224 & Pulaski Industrial Area & 1 & SOUTHEASTERN & $\\dots$ \\\\\n",
       "\t15 & A TASTE OF CHINA & 21202 & Downtown & 11 & CENTRAL & $\\dots$ \\\\\n",
       "\t16 & ABACROMBIE FINE FOODS & 21201 & Mid-Town Belvedere & 11 & CENTRAL & $\\dots$ \\\\\n",
       "\t17 & ABC SUSHI & 21205 & Middle East & 13 & EASTERN & $\\dots$ \\\\\n",
       "\t18 & ACROPOLIS RESTAURANT & 21224 & Greektown & 2 & SOUTHEASTERN & $\\dots$ \\\\\n",
       "\t19 & ADMIRAL FELL INN & 21231 & Fells Point & 1 & SOUTHEASTERN & $\\dots$ \\\\\n",
       "\t20 & AG \\& HARP'S & 21230 & Morrell Park & 10 & SOUTHWESTERN & $\\dots$ \\\\\n",
       "\t21 & AIRPORT BAR \\& GRILL, INC. & 21222 & Saint Helena & 1 & SOUTHEASTERN & $\\dots$ \\\\\n",
       "\t22 & AKBAR RESTAURANT & 21201 & Mount Vernon & 11 & CENTRAL & $\\dots$ \\\\\n",
       "\t23 & AKDEY SUBWAY, INC. & 21223 & Millhill & 9 & SOUTHWESTERN & $\\dots$ \\\\\n",
       "\t24 & ALDO'S   RESTAURANT & 21202 & Little Italy & 1 & SOUTHEASTERN & $\\dots$ \\\\\n",
       "\t25 & ALE MARY'S & 21231 & Fells Point & 1 & SOUTHEASTERN & $\\dots$ \\\\\n",
       "\t26 & ALEXANDER'S TAVERN & 21231 & Fells Point & 1 & SOUTHEASTERN & $\\dots$ \\\\\n",
       "\t27 & ALFEO'S & 21215 & Mondawmin & 7 & WESTERN & $\\dots$ \\\\\n",
       "\t28 & AL-HO CLUB & 21223 & Booth-Boyd & 9 & SOUTHWESTERN & $\\dots$ \\\\\n",
       "\t29 & BAY ATLANTIC CLUB & 21212 & Downtown & 11 & CENTRAL & $\\dots$ \\\\\n",
       "\t30 & BAY CAFE & 21224 & Canton & 1 & SOUTHEASTERN & $\\dots$ \\\\\n",
       "\t$\\dots$ & $\\dots$ & $\\dots$ & $\\dots$ & $\\dots$ & $\\dots$ &  \\\\\n",
       "\\end{tabular}\n"
      ],
      "text/plain": [
       "\u001b[1m1327×6 DataFrame\u001b[0m\n",
       "\u001b[1m  Row \u001b[0m│\u001b[1m name                       \u001b[0m\u001b[1m zipCode \u001b[0m\u001b[1m neighborhood            \u001b[0m\u001b[1m councilD\u001b[0m ⋯\n",
       "      │\u001b[90m String                     \u001b[0m\u001b[90m Int64   \u001b[0m\u001b[90m String                  \u001b[0m\u001b[90m Int64   \u001b[0m ⋯\n",
       "──────┼─────────────────────────────────────────────────────────────────────────\n",
       "    1 │ 410                           21206  Frankford                         ⋯\n",
       "    2 │ 1919                          21231  Fells Point\n",
       "    3 │ SAUTE                         21224  Canton\n",
       "    4 │ #1 CHINESE KITCHEN            21211  Hampden\n",
       "    5 │ #1 chinese restaurant         21223  Millhill                          ⋯\n",
       "    6 │ 19TH HOLE                     21218  Clifton Park\n",
       "    7 │ 3 KINGS                       21205  McElderry Park\n",
       "    8 │ 3 MILES HOUSE, INC.           21211  Remington\n",
       "    9 │ 3 W'S TAVERN                  21205  McElderry Park                    ⋯\n",
       "   10 │ 300 SOUTH ANN STREET          21231  Upper Fells Point\n",
       "   11 │ 438 CLUB                      21226  Curtis Bay\n",
       "  ⋮   │             ⋮                  ⋮                ⋮                    ⋮ ⋱\n",
       " 1318 │ YELLOW DOG TAVERN             21224  Canton\n",
       " 1319 │ YETI RESTAURANT & CARRYOUT    21212  Rosebank                          ⋯\n",
       " 1320 │ YORK CLUB TAVERN              21212  Homeland\n",
       " 1321 │ YOUNG'S PLACE                 21231  Middle East\n",
       " 1322 │ ZEEBA LOUNGE                  21230  Federal Hill\n",
       " 1323 │ ZEN WEST ROADSIDE CANTINA     21212  Rosebank                          ⋯\n",
       " 1324 │ ZIASCOS                       21231  Washington Hill\n",
       " 1325 │ ZINK'S CAF\\u90                21213  Belair-Edison\n",
       " 1326 │ ZISSIMOS BAR                  21211  Hampden\n",
       " 1327 │ ZORBAS                        21224  Greektown                         ⋯\n",
       "\u001b[36m                                                 3 columns and 1306 rows omitted\u001b[0m"
      ]
     },
     "execution_count": 317,
     "metadata": {},
     "output_type": "execute_result"
    }
   ],
   "source": [
    "rest_data = CSV.File(\"restaurants.csv\") |> DataFrame\n",
    "# We can also do \n",
    "# CSV.read(open(\"file.csv\"), DataFrame)"
   ]
  },
  {
   "cell_type": "markdown",
   "id": "fd98127d",
   "metadata": {},
   "source": [
    "### Creating sequences \n",
    "We can create sequences to use as indexes for extracting data e.g. \n",
    "`rest_data[index sequence]`  "
   ]
  },
  {
   "cell_type": "markdown",
   "id": "ef90bded",
   "metadata": {},
   "source": [
    "In R we can create a sequence of intergers which a step size of 2 by ;\n",
    "```R\n",
    "seq_one <- seq(1,10, by=2)\n",
    "```\n",
    "or also using the **c()** collect function \n",
    "```R\n",
    "seq_c <- c(1,3,8,25,100) ; seq(along = x)\n",
    "``` "
   ]
  },
  {
   "cell_type": "markdown",
   "id": "3db955ba",
   "metadata": {},
   "source": [
    "In Julia we can do it using **collect()** function as well - with the ranges on either side and the step size in the middle"
   ]
  },
  {
   "cell_type": "code",
   "execution_count": 234,
   "id": "1a7829d3",
   "metadata": {},
   "outputs": [
    {
     "data": {
      "text/plain": [
       "4-element Vector{Int64}:\n",
       "  1\n",
       "  4\n",
       "  7\n",
       " 10"
      ]
     },
     "execution_count": 234,
     "metadata": {},
     "output_type": "execute_result"
    }
   ],
   "source": [
    "seq_one = collect(1:3:10)"
   ]
  },
  {
   "cell_type": "markdown",
   "id": "455b2401",
   "metadata": {},
   "source": [
    "Or just create a vector directly "
   ]
  },
  {
   "cell_type": "code",
   "execution_count": 235,
   "id": "dd788f1c",
   "metadata": {},
   "outputs": [
    {
     "data": {
      "text/plain": [
       "4-element Vector{Int64}:\n",
       "  1\n",
       "  4\n",
       "  7\n",
       " 10"
      ]
     },
     "execution_count": 235,
     "metadata": {},
     "output_type": "execute_result"
    }
   ],
   "source": [
    "seq_vec = Vector(1:3:10)"
   ]
  },
  {
   "cell_type": "markdown",
   "id": "8eac0ee7",
   "metadata": {},
   "source": [
    "Say we want to create a new variable which indicates whether a certain data meet a certain condition, say, they are in the neighbourhoods of Sunnybank or Sunnybank Hills, and thus they are close to me - and if they meet this condition, they are assigned a \"TRUE\" value or a \"FALSE\" value in a new row - how would we do this?"
   ]
  },
  {
   "cell_type": "markdown",
   "id": "1a4ac533",
   "metadata": {},
   "source": [
    "In R;\n",
    "```R\n",
    "restData$nearMe = restData$neighbourhood %in% c(\"Roland Park\", \"Homeland\")\n",
    "```"
   ]
  },
  {
   "cell_type": "markdown",
   "id": "bb3d420b",
   "metadata": {},
   "source": [
    "In Julia - this is a new one for me! - make sure we use the double encapsulation in the array [[]] otherwise broadcasting won't work "
   ]
  },
  {
   "cell_type": "code",
   "execution_count": 318,
   "id": "655bfd20",
   "metadata": {
    "collapsed": true
   },
   "outputs": [
    {
     "data": {
      "text/plain": [
       "1327-element BitVector:\n",
       " 0\n",
       " 0\n",
       " 0\n",
       " 0\n",
       " 0\n",
       " 0\n",
       " 0\n",
       " 0\n",
       " 0\n",
       " 0\n",
       " 0\n",
       " 0\n",
       " 0\n",
       " ⋮\n",
       " 0\n",
       " 0\n",
       " 0\n",
       " 0\n",
       " 1\n",
       " 0\n",
       " 0\n",
       " 0\n",
       " 0\n",
       " 0\n",
       " 0\n",
       " 0"
      ]
     },
     "execution_count": 318,
     "metadata": {},
     "output_type": "execute_result"
    }
   ],
   "source": [
    "rest_data.nearMe = in.(rest_data.neighborhood, [[\"Roland Park\", \"Homeland\"]])"
   ]
  },
  {
   "cell_type": "markdown",
   "id": "9d488847",
   "metadata": {},
   "source": [
    "R base has the very handy function table() which creates a nice tally of ones variables and counts them in a neat table output - Julia base doesn't really have this single item function so we have to use the **StatsBase** package and the **countmap()** function"
   ]
  },
  {
   "cell_type": "code",
   "execution_count": 343,
   "id": "0aff3f7e",
   "metadata": {},
   "outputs": [
    {
     "name": "stderr",
     "output_type": "stream",
     "text": [
      "\u001b[32m\u001b[1m   Resolving\u001b[22m\u001b[39m package versions...\n",
      "\u001b[32m\u001b[1m  No Changes\u001b[22m\u001b[39m to `~/.julia/environments/v1.10/Project.toml`\n",
      "\u001b[32m\u001b[1m  No Changes\u001b[22m\u001b[39m to `~/.julia/environments/v1.10/Manifest.toml`\n"
     ]
    }
   ],
   "source": [
    "Pkg.add(\"StatsBase\") ; using StatsBase"
   ]
  },
  {
   "cell_type": "code",
   "execution_count": 349,
   "id": "f226290d",
   "metadata": {},
   "outputs": [
    {
     "name": "stdout",
     "output_type": "stream",
     "text": [
      "Dict{Bool, Int64}(0 => 1314, 1 => 13)\n"
     ]
    }
   ],
   "source": [
    "# 0 = true, 1 = false \n",
    "# perhaps we can convert the 0,1 to TRUE/FALSE?\n",
    "qz = countmap(rest_data.nearMe)\n",
    "println(qz)"
   ]
  },
  {
   "cell_type": "markdown",
   "id": "c8f75319",
   "metadata": {},
   "source": [
    "### Creating binary variables \n",
    "We can use the **ifelse()** function with broadcasting to evaluate a conditonal statement and print true or false in a new variables based upon the answer of the condition. Here we'll do it in R first;\n",
    "```R\n",
    "restData$wrongZip = ifelse(restData$zipCode) < -, TRUE, FALSE) \n",
    "```    \n",
    "And then in Julia"
   ]
  },
  {
   "cell_type": "code",
   "execution_count": 354,
   "id": "0cd1f97f",
   "metadata": {
    "collapsed": true
   },
   "outputs": [
    {
     "data": {
      "text/plain": [
       "1327-element BitVector:\n",
       " 0\n",
       " 0\n",
       " 0\n",
       " 0\n",
       " 0\n",
       " 0\n",
       " 0\n",
       " 0\n",
       " 0\n",
       " 0\n",
       " 0\n",
       " 0\n",
       " 0\n",
       " ⋮\n",
       " 0\n",
       " 0\n",
       " 0\n",
       " 0\n",
       " 0\n",
       " 0\n",
       " 0\n",
       " 0\n",
       " 0\n",
       " 0\n",
       " 0\n",
       " 0"
      ]
     },
     "execution_count": 354,
     "metadata": {},
     "output_type": "execute_result"
    }
   ],
   "source": [
    "rest_data.wrongZip = ifelse.(rest_data.zipCode .< 0, true, false)"
   ]
  },
  {
   "cell_type": "code",
   "execution_count": 355,
   "id": "8f0f4807",
   "metadata": {},
   "outputs": [
    {
     "data": {
      "text/plain": [
       "Dict{Bool, Int64} with 2 entries:\n",
       "  0 => 1326\n",
       "  1 => 1"
      ]
     },
     "execution_count": 355,
     "metadata": {},
     "output_type": "execute_result"
    }
   ],
   "source": [
    "countmap(rest_data.wrongZip)"
   ]
  },
  {
   "cell_type": "markdown",
   "id": "285bdd48",
   "metadata": {},
   "source": [
    "### Creating categorical variables\n",
    "We may want to summarise certain aspects of our dataset by chunking them into categorical blocks - similar to percentiles. Say we want to get a look at the distribution of gene lengths or zip codes in our dataset, at quartile ranges - we can turn to categorical variables"
   ]
  },
  {
   "cell_type": "markdown",
   "id": "1d4ed36a",
   "metadata": {},
   "source": [
    "Create them in Julia https://categoricalarrays.juliadata.org/v0.1/using.html"
   ]
  },
  {
   "cell_type": "code",
   "execution_count": 211,
   "id": "557f52f7",
   "metadata": {},
   "outputs": [
    {
     "name": "stderr",
     "output_type": "stream",
     "text": [
      "\u001b[32m\u001b[1m   Resolving\u001b[22m\u001b[39m package versions...\n",
      "\u001b[32m\u001b[1m  No Changes\u001b[22m\u001b[39m to `~/.julia/environments/v1.10/Project.toml`\n",
      "\u001b[32m\u001b[1m  No Changes\u001b[22m\u001b[39m to `~/.julia/environments/v1.10/Manifest.toml`\n"
     ]
    }
   ],
   "source": [
    "Pkg.add(\"CategoricalArrays\") ; using CategoricalArrays"
   ]
  },
  {
   "cell_type": "code",
   "execution_count": 212,
   "id": "c2fc00d0",
   "metadata": {},
   "outputs": [
    {
     "data": {
      "text/plain": [
       "5-element CategoricalArray{String,1,UInt32}:\n",
       " \"Q1: [2.0, 3.0)\"\n",
       " \"Q2: [3.0, 5.0)\"\n",
       " \"Q3: [5.0, 9.0)\"\n",
       " \"Q4: [9.0, 19.0]\"\n",
       " \"Q4: [9.0, 19.0]\""
      ]
     },
     "execution_count": 212,
     "metadata": {},
     "output_type": "execute_result"
    }
   ],
   "source": [
    "cut(X.col1, 4)"
   ]
  },
  {
   "cell_type": "code",
   "execution_count": 359,
   "id": "3f7dee40",
   "metadata": {},
   "outputs": [
    {
     "data": {
      "text/plain": [
       "Dict{CategoricalValue{String, UInt32}, Int64} with 4 entries:\n",
       "  \"Q4: [21225.5, 21287.0]\"  => 332\n",
       "  \"Q2: [21202.0, 21218.0)\"  => 507\n",
       "  \"Q3: [21218.0, 21225.5)\"  => 351\n",
       "  \"Q1: [-21226.0, 21202.0)\" => 137"
      ]
     },
     "execution_count": 359,
     "metadata": {},
     "output_type": "execute_result"
    }
   ],
   "source": [
    " countmap(cut(rest_data.zipCode, 4))"
   ]
  },
  {
   "cell_type": "markdown",
   "id": "c67fc91a",
   "metadata": {},
   "source": [
    "In R let's use the **Hmisc** library \n",
    "```R\n",
    "library(Hmisc)\n",
    "restData$zipGroups = cut2(restData$zipCode, g=4)\n",
    "table(restData$zipGroups)\n",
    "```"
   ]
  },
  {
   "cell_type": "markdown",
   "id": "d32a4a98",
   "metadata": {},
   "source": [
    "When we turn our data into Categorical variables, we turn them into "
   ]
  },
  {
   "cell_type": "code",
   "execution_count": 361,
   "id": "a330fdc9",
   "metadata": {},
   "outputs": [
    {
     "name": "stdout",
     "output_type": "stream",
     "text": [
      "search: \u001b[0m\u001b[1mp\u001b[22m\u001b[0m\u001b[1ma\u001b[22m\u001b[0m\u001b[1mr\u001b[22m\u001b[0m\u001b[1ms\u001b[22m\u001b[0m\u001b[1me\u001b[22m \u001b[0m\u001b[1mp\u001b[22m\u001b[0m\u001b[1ma\u001b[22m\u001b[0m\u001b[1mr\u001b[22m\u001b[0m\u001b[1ms\u001b[22m\u001b[0m\u001b[1me\u001b[22mhtml try\u001b[0m\u001b[1mp\u001b[22m\u001b[0m\u001b[1ma\u001b[22m\u001b[0m\u001b[1mr\u001b[22m\u001b[0m\u001b[1ms\u001b[22m\u001b[0m\u001b[1me\u001b[22m \u001b[0m\u001b[1mp\u001b[22m\u001b[0m\u001b[1ma\u001b[22mi\u001b[0m\u001b[1mr\u001b[22mwi\u001b[0m\u001b[1ms\u001b[22m\u001b[0m\u001b[1me\u001b[22m \u001b[0m\u001b[1mp\u001b[22m\u001b[0m\u001b[1ma\u001b[22mi\u001b[0m\u001b[1mr\u001b[22mwi\u001b[0m\u001b[1ms\u001b[22m\u001b[0m\u001b[1me\u001b[22m! \u001b[0m\u001b[1mp\u001b[22m\u001b[0m\u001b[1ma\u001b[22m\u001b[0m\u001b[1mr\u001b[22mtial\u001b[0m\u001b[1ms\u001b[22mortp\u001b[0m\u001b[1me\u001b[22mrm\n",
      "\n"
     ]
    },
    {
     "data": {
      "text/latex": [
       "\\begin{verbatim}\n",
       "parse(type, str; base)\n",
       "\\end{verbatim}\n",
       "Parse a string as a number. For \\texttt{Integer} types, a base can be specified (the default is 10). For floating-point types, the string is parsed as a decimal floating-point number.  \\texttt{Complex} types are parsed from decimal strings of the form \\texttt{\"R±Iim\"} as a \\texttt{Complex(R,I)} of the requested type; \\texttt{\"i\"} or \\texttt{\"j\"} can also be used instead of \\texttt{\"im\"}, and \\texttt{\"R\"} or \\texttt{\"Iim\"} are also permitted. If the string does not contain a valid number, an error is raised.\n",
       "\n",
       "\\begin{quote}\n",
       "\\textbf{compat}\n",
       "\n",
       "Julia 1.1\n",
       "\n",
       "\\texttt{parse(Bool, str)} requires at least Julia 1.1.\n",
       "\n",
       "\\end{quote}\n",
       "\\section{Examples}\n",
       "\\begin{verbatim}\n",
       "julia> parse(Int, \"1234\")\n",
       "1234\n",
       "\n",
       "julia> parse(Int, \"1234\", base = 5)\n",
       "194\n",
       "\n",
       "julia> parse(Int, \"afc\", base = 16)\n",
       "2812\n",
       "\n",
       "julia> parse(Float64, \"1.2e-3\")\n",
       "0.0012\n",
       "\n",
       "julia> parse(Complex{Float64}, \"3.2e-1 + 4.5im\")\n",
       "0.32 + 4.5im\n",
       "\\end{verbatim}\n",
       "\\rule{\\textwidth}{1pt}\n",
       "\\begin{verbatim}\n",
       "parse(::Type{Platform}, triplet::AbstractString)\n",
       "\\end{verbatim}\n",
       "Parses a string platform triplet back into a \\texttt{Platform} object.\n",
       "\n",
       "\\rule{\\textwidth}{1pt}\n",
       "\\begin{verbatim}\n",
       "parse(Request, str)\n",
       "parse(Response, str)\n",
       "\\end{verbatim}\n",
       "Parse a string into a \\texttt{Request} or \\texttt{Response} object.\n",
       "\n"
      ],
      "text/markdown": [
       "```\n",
       "parse(type, str; base)\n",
       "```\n",
       "\n",
       "Parse a string as a number. For `Integer` types, a base can be specified (the default is 10). For floating-point types, the string is parsed as a decimal floating-point number.  `Complex` types are parsed from decimal strings of the form `\"R±Iim\"` as a `Complex(R,I)` of the requested type; `\"i\"` or `\"j\"` can also be used instead of `\"im\"`, and `\"R\"` or `\"Iim\"` are also permitted. If the string does not contain a valid number, an error is raised.\n",
       "\n",
       "!!! compat \"Julia 1.1\"\n",
       "    `parse(Bool, str)` requires at least Julia 1.1.\n",
       "\n",
       "\n",
       "# Examples\n",
       "\n",
       "```jldoctest\n",
       "julia> parse(Int, \"1234\")\n",
       "1234\n",
       "\n",
       "julia> parse(Int, \"1234\", base = 5)\n",
       "194\n",
       "\n",
       "julia> parse(Int, \"afc\", base = 16)\n",
       "2812\n",
       "\n",
       "julia> parse(Float64, \"1.2e-3\")\n",
       "0.0012\n",
       "\n",
       "julia> parse(Complex{Float64}, \"3.2e-1 + 4.5im\")\n",
       "0.32 + 4.5im\n",
       "```\n",
       "\n",
       "---\n",
       "\n",
       "```\n",
       "parse(::Type{Platform}, triplet::AbstractString)\n",
       "```\n",
       "\n",
       "Parses a string platform triplet back into a `Platform` object.\n",
       "\n",
       "---\n",
       "\n",
       "```\n",
       "parse(Request, str)\n",
       "parse(Response, str)\n",
       "```\n",
       "\n",
       "Parse a string into a `Request` or `Response` object.\n"
      ],
      "text/plain": [
       "\u001b[36m  parse(type, str; base)\u001b[39m\n",
       "\n",
       "  Parse a string as a number. For \u001b[36mInteger\u001b[39m types, a base can be specified (the\n",
       "  default is 10). For floating-point types, the string is parsed as a decimal\n",
       "  floating-point number. \u001b[36mComplex\u001b[39m types are parsed from decimal strings of the\n",
       "  form \u001b[36m\"R±Iim\"\u001b[39m as a \u001b[36mComplex(R,I)\u001b[39m of the requested type; \u001b[36m\"i\"\u001b[39m or \u001b[36m\"j\"\u001b[39m can also be\n",
       "  used instead of \u001b[36m\"im\"\u001b[39m, and \u001b[36m\"R\"\u001b[39m or \u001b[36m\"Iim\"\u001b[39m are also permitted. If the string\n",
       "  does not contain a valid number, an error is raised.\n",
       "\n",
       "\u001b[39m\u001b[1m  │ \u001b[22m\u001b[39m\u001b[1mJulia 1.1\u001b[22m\n",
       "\u001b[39m\u001b[1m  │\u001b[22m\n",
       "\u001b[39m\u001b[1m  │\u001b[22m  \u001b[36mparse(Bool, str)\u001b[39m requires at least Julia 1.1.\n",
       "\n",
       "\u001b[1m  Examples\u001b[22m\n",
       "\u001b[1m  ≡≡≡≡≡≡≡≡\u001b[22m\n",
       "\n",
       "\u001b[36m  julia> parse(Int, \"1234\")\u001b[39m\n",
       "\u001b[36m  1234\u001b[39m\n",
       "\u001b[36m  \u001b[39m\n",
       "\u001b[36m  julia> parse(Int, \"1234\", base = 5)\u001b[39m\n",
       "\u001b[36m  194\u001b[39m\n",
       "\u001b[36m  \u001b[39m\n",
       "\u001b[36m  julia> parse(Int, \"afc\", base = 16)\u001b[39m\n",
       "\u001b[36m  2812\u001b[39m\n",
       "\u001b[36m  \u001b[39m\n",
       "\u001b[36m  julia> parse(Float64, \"1.2e-3\")\u001b[39m\n",
       "\u001b[36m  0.0012\u001b[39m\n",
       "\u001b[36m  \u001b[39m\n",
       "\u001b[36m  julia> parse(Complex{Float64}, \"3.2e-1 + 4.5im\")\u001b[39m\n",
       "\u001b[36m  0.32 + 4.5im\u001b[39m\n",
       "\n",
       "  ────────────────────────────────────────────────────────────────────────────\n",
       "\n",
       "\u001b[36m  parse(::Type{Platform}, triplet::AbstractString)\u001b[39m\n",
       "\n",
       "  Parses a string platform triplet back into a \u001b[36mPlatform\u001b[39m object.\n",
       "\n",
       "  ────────────────────────────────────────────────────────────────────────────\n",
       "\n",
       "\u001b[36m  parse(Request, str)\u001b[39m\n",
       "\u001b[36m  parse(Response, str)\u001b[39m\n",
       "\n",
       "  Parse a string into a \u001b[36mRequest\u001b[39m or \u001b[36mResponse\u001b[39m object."
      ]
     },
     "execution_count": 361,
     "metadata": {},
     "output_type": "execute_result"
    }
   ],
   "source": [
    "?parse"
   ]
  },
  {
   "cell_type": "code",
   "execution_count": null,
   "id": "944cc7fb",
   "metadata": {},
   "outputs": [],
   "source": []
  },
  {
   "cell_type": "code",
   "execution_count": null,
   "id": "c3817ed6",
   "metadata": {},
   "outputs": [],
   "source": [
    "https://www.ebay.com.au/sch/i.html?_nkw=9780241954614&_sacat=0"
   ]
  },
  {
   "cell_type": "code",
   "execution_count": null,
   "id": "f8206e4c",
   "metadata": {},
   "outputs": [],
   "source": [
    " "
   ]
  },
  {
   "cell_type": "code",
   "execution_count": null,
   "id": "06b01446",
   "metadata": {},
   "outputs": [],
   "source": []
  },
  {
   "cell_type": "code",
   "execution_count": null,
   "id": "db4b95b3",
   "metadata": {},
   "outputs": [],
   "source": []
  },
  {
   "cell_type": "code",
   "execution_count": null,
   "id": "b698206b",
   "metadata": {},
   "outputs": [],
   "source": []
  },
  {
   "cell_type": "markdown",
   "id": "cd487fd3",
   "metadata": {},
   "source": [
    "## Some scrambled notes for web-scraping"
   ]
  },
  {
   "cell_type": "code",
   "execution_count": 213,
   "id": "5a9d44c3",
   "metadata": {},
   "outputs": [
    {
     "name": "stderr",
     "output_type": "stream",
     "text": [
      "\u001b[32m\u001b[1m   Resolving\u001b[22m\u001b[39m package versions...\n",
      "\u001b[32m\u001b[1m  No Changes\u001b[22m\u001b[39m to `~/.julia/environments/v1.10/Project.toml`\n",
      "\u001b[32m\u001b[1m  No Changes\u001b[22m\u001b[39m to `~/.julia/environments/v1.10/Manifest.toml`\n"
     ]
    }
   ],
   "source": [
    "Pkg.add(\"Cascadia\") ; using Cascadia"
   ]
  },
  {
   "cell_type": "code",
   "execution_count": 1,
   "id": "a997936e",
   "metadata": {},
   "outputs": [],
   "source": [
    "using HTTP, Gumbo"
   ]
  },
  {
   "cell_type": "code",
   "execution_count": 18,
   "id": "2f1bb9ae",
   "metadata": {
    "collapsed": true
   },
   "outputs": [
    {
     "data": {
      "text/plain": [
       "HTTP.Messages.Response:\n",
       "\"\"\"\n",
       "HTTP/1.1 200 OK\r\n",
       "Content-Type: text/html;charset=UTF-8\r\n",
       "Transfer-Encoding: chunked\r\n",
       "Connection: keep-alive\r\n",
       "Server: Server\r\n",
       "Date: Fri, 09 Feb 2024 07:08:12 GMT\r\n",
       "x-amz-rid: XBCSXRHSWPM48GETM3RJ\r\n",
       "set-cookie: ******\r\n",
       "Pragma: no-cache\r\n",
       "Content-Encoding: gzip\r\n",
       "content-security-policy-report-only: default-src 'self' blob: https: data: mediastream: 'unsafe-eval' 'unsafe-inline';report-uri https://metrics.media-amazon.com/\r\n",
       "X-XSS-Protection: 1;\r\n",
       "X-Content-Type-Options: nosniff\r\n",
       "Accept-CH: ect,rtt,downlink,device-memory,sec-ch-device-memory,viewport-width,sec-ch-viewport-width,dpr,sec-ch-dpr,sec-ch-ua-platform,sec-ch-ua-platform-version\r\n",
       "Accept-CH-Lifetime: 86400\r\n",
       "Cache-Control: no-cache\r\n",
       "Expires: -1\r\n",
       "Content-Language: en-AU\r\n",
       "Content-Security-Policy: upgrade-insecure-requests;report-uri https://metrics.media-amazon.com/\r\n",
       "Strict-Transport-Security: max-age=47474747; includeSubDomains; preload\r\n",
       "Vary: Content-Type,Accept-Encoding,User-Agent\r\n",
       "X-Frame-Options: SAMEORIGIN\r\n",
       "X-Cache: Miss from cloudfront\r\n",
       "Via: 1.1 672536c5bc6b6ff39b7afcf17e6fd7ec.cloudfront.net (CloudFront)\r\n",
       "X-Amz-Cf-Pop: BNE50-P2\r\n",
       "Alt-Svc: h3=\":443\"; ma=86400\r\n",
       "X-Amz-Cf-Id: ohaNH3HLzavS9cxEklOnDW6j3yGguVb4Tt6wywcAlvOi8g8ETAzEjA==\r\n",
       "\r\n",
       "<!doctype html><html lang=\"en-au\" class=\"a-no-js\" data-19ax5a9jf=\"dingo\"><!-- sp:feature:head-start -->\n",
       "<head><script>var aPageStart = (new Date()).getTime();</script><meta charset=\"utf-8\"/>\n",
       "<!-- sp:end-feature:head-start -->\n",
       "<!-- sp:feature:csm:head-open-part1 -->\n",
       "\n",
       "<script type='text/javascript'>var ue_t0=ue_t0||+new Date();</script>\n",
       "<!-- sp:end-feature:csm:head-open-part1 -->\n",
       "<!-- sp:feature:cs-optimization -->\n",
       "<meta http-equiv='x-dns-prefetch-control' content='on'>\n",
       "<link rel=\"dns-prefetch\" href=\"https://images-fe.ssl-images-amazon.com\">\n",
       "<link rel=\"dns-prefetch\" href=\"https://m.media-amazon.com\">\n",
       "<link rel=\"dns-prefetch\" href=\"https://completion.amazon.com\">\n",
       "<!-- sp:end-feature:cs-optimization -->\n",
       "<!-- sp:feature:csm:head-open-part2 -->\n",
       "<script type='text/javascript'>\n",
       "window.ue_ihb = (window.ue_ihb || window.ueinit || 0) + 1;\n",
       "if (window.ue_ihb === 1) {\n",
       "\n",
       "var ue_csm = window,\n",
       "    ue_hob = +new Date();\n",
       "(function(d){var e=d.ue=d.ue||{},f=Date.now||function(){return+new Date};e.d=function\n",
       "⋮\n",
       "340768-byte body\n",
       "\"\"\""
      ]
     },
     "execution_count": 18,
     "metadata": {},
     "output_type": "execute_result"
    }
   ],
   "source": [
    "link =  HTTP.get(\"https://www.amazon.com.au/s?k=1780225598\")"
   ]
  },
  {
   "cell_type": "code",
   "execution_count": 19,
   "id": "36b984ec",
   "metadata": {
    "collapsed": true
   },
   "outputs": [
    {
     "data": {
      "text/plain": [
       "HTML Document:\n",
       "<!DOCTYPE html>\n",
       "HTMLElement{:HTML}:<HTML class=\"a-no-js\" data-19ax5a9jf=\"dingo\" lang=\"en-au\">\n",
       "  <head>\n",
       "    <script>var aPageStart = (new Date()).getTime();    </script>\n",
       "    <meta charset=\"utf-8\"/>\n",
       "    <script type=\"text/javascript\">var ue_t0=ue_t0||+new Date();    </script>\n",
       "    <meta content=\"on\" http-equiv=\"x-dns-prefetch-control\"/>\n",
       "    <link href=\"https://images-fe.ssl-images-amazon.com\" rel=\"dns-prefetch\"/>\n",
       "    <link href=\"https://m.media-amazon.com\" rel=\"dns-prefetch\"/>\n",
       "    <link href=\"https://completion.amazon.com\" rel=\"dns-prefetch\"/>\n",
       "    <script type=\"text/javascript\">\n",
       "window.ue_ihb = (window.ue_ihb || window.ueinit || 0) + 1;\n",
       "if (window.ue_ihb === 1) {\n",
       "\n",
       "var ue_csm = window,\n",
       "    ue_hob = +new Date();\n",
       "(function(d){var e=d.ue=d.ue||{},f=Date.now||function(){return+new Date};e.d=function(b){return f()-(b?0:d.ue_t0)};e.stub=function(b,a){if(!b[a]){var c=[];b[a]=function(){c.push([c.slice.call(arguments),e.d(),d.ue_id])};b[a].replay=function(b){for(var a;a=c.shift();)b(a[0],a[1],a[2])};b[a].isStub=1}};e.exec=function(b,a){return function(){try{return b.apply(this,arguments)}catch(c){ueLogError(c,{attribution:a||\"undefined\",logLevel:\"WARN\"})}}}})(ue_csm);\n",
       "\n",
       "\n",
       "    var ue_err_chan = 'jserr-rw';\n",
       "(function(d,e){function h(f,b){if(!(a.ec>a.mxe)&&f){a.ter.push(f);b=b||{};var c=f.logLevel||b.logLevel;c&&c!==k&&c!==m&&c!==n&&c!==p||a.ec++;c&&c!=k||a.ecf++;b.pageURL=\"\"+(e.location?e.location.href:\"\");b.logLevel=c;b.attribution=f.attribution||b.attribution;a.erl.push({ex:f,info:b})}}function l(a,b,c,e,g){d.ueLogError({m:a,f:b,l:c,c:\"\"+e,err:g,fromOnError:1,args:arguments},g?{attribution:g.attribution,logLevel:g.logLevel}:void 0);return!1}var k=\"FATAL\",m=\"ERROR\",n=\"WARN\",p=\"DOWNGRADED\",a={ec:0,ecf:0,\n",
       "...\n"
      ]
     },
     "execution_count": 19,
     "metadata": {},
     "output_type": "execute_result"
    }
   ],
   "source": [
    "link_string = parsehtml(String(link.body)) "
   ]
  },
  {
   "cell_type": "code",
   "execution_count": 20,
   "id": "fcf04130",
   "metadata": {
    "collapsed": true
   },
   "outputs": [
    {
     "data": {
      "text/plain": [
       "HTMLElement{:body}:<body class=\"a-aui_72554-c a-aui_a11y_1_699934-c a-aui_a11y_4_835613-c a-aui_a11y_6_837773-c a-aui_a11y_sr_678508-c a-aui_killswitch_csa_logger_372963-c a-aui_pci_risk_banner_210084-c a-aui_preload_261698-c a-aui_rel_noreferrer_noopener_309527-c a-aui_template_weblab_cache_333406-c a-aui_tnr_v2_180836-c\">\n",
       "  <div id=\"a-page\">\n",
       "    <script data-a-state=\"{&quot;key&quot;:&quot;a-wlab-states&quot;}\" type=\"a-state\">{\"AUI_A11Y_6_837773\":\"C\",\"AUI_TNR_V2_180836\":\"C\",\"AUI_PRELOAD_261698\":\"C\",\"AUI_TEMPLATE_WEBLAB_CACHE_333406\":\"C\",\"AUI_72554\":\"C\",\"AUI_A11Y_1_699934\":\"C\",\"AUI_A11Y_4_835613\":\"C\",\"AUI_KILLSWITCH_CSA_LOGGER_372963\":\"C\",\"AUI_A11Y_SR_678508\":\"C\",\"AUI_REL_NOREFERRER_NOOPENER_309527\":\"C\",\"AUI_PCI_RISK_BANNER_210084\":\"C\"}    </script>\n",
       "    <script>typeof uex === 'function' && uex('ld', 'portal-bb', {wb: 1})    </script>\n",
       "    <img alt=\"\" height=\"1\" onload=\"window.ue_sbl &amp;&amp; window.ue_sbl();\" src=\"//fls-fe.amazon.com.au/1/batch/1/OP/A39IBJ37TRP1C6:358-8618874-4820313:XBCSXRHSWPM48GETM3RJ$uedata=s:%2Frd%2Fuedata%3Fstaticb%26id%3DXBCSXRHSWPM48GETM3RJ:0\" style=\"display:none;visibility:hidden;\" width=\"1\"/>\n",
       "    <script>\n",
       "!function(){function n(n,t){var r=i(n);return t&&(r=r(\"instance\",t)),r}var r=[],c=0,i=function(t){return function(){var n=c++;return r.push([t,[].slice.call(arguments,0),n,{time:Date.now()}]),i(n)}};n._s=r,this.csa=n}();;\n",
       "csa('Config', {});\n",
       "if (window.csa) {\n",
       "    csa(\"Config\", {\n",
       "        'Application': 'Retail:Prod:www.amazon.com.au',\n",
       "        'Events.Namespace': 'csa',\n",
       "        'ObfuscatedMarketplaceId': 'A39IBJ37TRP1C6',\n",
       "        'Events.SushiEndpoint': 'https://unagi.amazon.com.au/1/events/com.amazon.csm.csa.prod',\n",
       "        'CacheDetection.RequestID': \"XBCSXRHSWPM48GETM3RJ\",\n",
       "        'CacheDetection.Callback': window.ue && ue.reset,\n",
       "        'LCP.elementDedup': 1,\n",
       "        'lob': '1'\n",
       "    });\n",
       "\n",
       "...\n"
      ]
     },
     "execution_count": 20,
     "metadata": {},
     "output_type": "execute_result"
    }
   ],
   "source": [
    "link_body = link_string.root[2]"
   ]
  },
  {
   "cell_type": "code",
   "execution_count": 122,
   "id": "5c9d810b",
   "metadata": {},
   "outputs": [
    {
     "data": {
      "text/plain": [
       "2-element Vector{HTMLNode}:\n",
       " HTMLElement{:span}:<span class=\"a-offscreen\">\n",
       "  $19.25\n",
       "</span>\n",
       "\n",
       "\n",
       " HTMLElement{:span}:<span class=\"a-offscreen\">\n",
       "  $24.99\n",
       "</span>\n",
       "\n"
      ]
     },
     "execution_count": 122,
     "metadata": {},
     "output_type": "execute_result"
    }
   ],
   "source": [
    "zz = eachmatch(sel\".a-offscreen\", link_body)"
   ]
  },
  {
   "cell_type": "code",
   "execution_count": 98,
   "id": "e23cd1a3",
   "metadata": {
    "collapsed": true
   },
   "outputs": [
    {
     "data": {
      "text/plain": [
       "HTMLElement{:div}:<div class=\"s-desktop-width-max s-desktop-content s-opposite-dir s-wide-grid-style sg-row\">\n",
       "  <div class=\"sg-col-20-of-24 s-matching-dir sg-col-16-of-20 sg-col sg-col-8-of-12 sg-col-12-of-16\">\n",
       "    <div class=\"sg-col-inner\">\n",
       "      <div id=\"s-skipLinkTargetForMainSearchResults\" tabindex=\"-1\"></div>\n",
       "      <span class=\"rush-component s-latency-cf-section\" data-component-type=\"s-search-results\">\n",
       "        <div class=\"s-main-slot s-result-list s-search-results sg-row\">\n",
       "          <div class=\"a-section a-spacing-none s-result-item s-flex-full-width s-border-bottom-none s-widget s-widget-spacing-large\" data-asin=\"\" data-index=\"0\">\n",
       "            <div cel_widget_id=\"MAIN-TOP_BANNER_MESSAGE-0\" class=\"s-widget-container s-spacing-mini s-widget-container-height-mini celwidget slot=MAIN template=TOP_BANNER_MESSAGE widgetId=messaging-messages-results-header-builder\" data-uuid=\"43338d61-129c-47bc-ad08-60ab9a6a6d95\">\n",
       "              <span class=\"rush-component\" data-component-type=\"s-messaging-widget-results-header\">\n",
       "                <div class=\"a-section a-spacing-none s-messaging-widget-results-header\">\n",
       "                  <div class=\"s-no-outline\" tabindex=\"0\">\n",
       "                    <span class=\"a-size-medium-plus a-color-base a-text-bold\">\n",
       "                      Results\n",
       "                    </span>\n",
       "                  </div>\n",
       "                </div>\n",
       "              </span>\n",
       "            </div>\n",
       "          </div>\n",
       "          <script data-render-id=\"rw4d54q5ixw612w1xdn5e2wwxw\" data-version-id=\"v3uiywbsq7xbtw2e424kwzwmewj\" type=\"product-ui/weblabs\">{\"SEARCH_DC_ASSETS_633895\":\"C\",\"SEARCH_ATC_EXPANSION_2_LAUNCH_706422\":\"T1\",\"APEX_ON_SEARCH_SMART_SECTION_765012\":\"C\",\"SEARCH_VSAR_MLT_LATENCY_HTML_819442\":\"T1\",\"SEARCH_WWGS_SAVES_ASSETS_839792\":\"C\",\"SEARCH_MAF_AJAX_GATING_721453\":\"C\",\"SEARCH_P2Z_608347\":\"C\",\"SEARCH_PV_2D_ASSETS_SEGREGATION_797068\":\"T1\",\"SEARCH_VIDEO_FACEOUT_FRONTEND_LEVER_PHASE3_776223\":\"C\",\"SEARCH_MAF_EE_EXPERIMENT2_863960\":\"C\",\"SEARCH_MULTI_TOP_ATTRIBUTES_MOBILE_664222\":\"C\",\"SEARCH_BEAUTY_HOME_GRID_EXPERIMENT_827127\":\"C\",\"SEARCH_BAZAAR_666934\":\"C\",\"SEARCH_ATC_LIGHTNING_DEALS_709728\":\"C\",\"SEARCH_ATC_FASHION_709667\":\"C\",\"SEARCH_SES_FOS_PRICING_V2_RERUN_GATING_MOBILE_876944\":\"C\",\"SEARCH_SCX_857804\":\"C\",\"SEARCH_VIDEO_FACEOUT_FRONTEND_LEVER_412478\":\"C\",\"WWGS_GSX_SEARCH_POST_ATC_SIS_857775\":\"C\",\"SEARCH_EUSTORES_ATC_REF_727224\":\"C\",\"SEARCH_VSAR_SCX_VIDEO_618302\":\"C\",\"SEARCH_VSAR_MLT_LATENCY_797412\":\"C\",\"SEARCH_VSAR_FE_AR_IAB_CX_ANDROID_LAUNCH_803840\":\"C\",\"SEARCH_382092\":\"C\",\"SEARCH_EUSTORES_ATC_DMA_863003\":\"T1\",\"SEARCH_SES_FOS_PRICING_V2_RERUN_GATING_DESKTOP_876938\":\"C\",\"SEARCH_VSAR_FE_AR_IAB_CX_LAUNCH_765183\":\"C\",\"SEARCH_SCX_870473\":\"C\",\"SEARCH_VSAR_SCX_VIDEO_636490\":\"C\",\"SEARCH_MULTI_TOP_ATTRIBUTES_DESKTOP_664223\":\"C\",\"SEARCH_VIDEO_FACEOUT_FRONTEND_LEVER_DESKTOP_501165\":\"C\",\"SEARCH_793310\":\"C\",\"SEARCH_EUSTORES_ATC_REF_GATING_727226\":\"C\",\"SEARCH_RE1_PRICE_CONDITION_MESSAGE_436402\":\"C\",\"SEARCH_348840\":\"C\",\"SEARCH_VSAR_SCX_VIDEO_843843\":\"C\",\"SEARCH_DECLUTTER_SOFTLINE_GRID_728117\":\"C\",\"SEARCH_WWGS_OGS_ALM_INLINE_EXPANSION_SLOT_ASSETS_867458\":\"C\",\"SEARCH_AB_707429\":\"C\",\"SEARCH_VIDEO_FACEOUT_FRONTEND_LEVER_PHASE2_492845\":\"C\",\"SEARCH_VSAR_MLT_GATE_ADD_SESSION_ID_876230\":\"C\",\"SEARCH_FOS_REVIEW_BLOCK_CSS_GATING_715873\":\"C\",\"SEARCH_DEALBADGE_CONTENT_SELECTION_675484\":\"C\",\"SEARCH_EUSTORES_ATC_BUTTON_836841\":\"T1\"}          </script>\n",
       "...\n"
      ]
     },
     "execution_count": 98,
     "metadata": {},
     "output_type": "execute_result"
    }
   ],
   "source": [
    "link_body[1][28][10]"
   ]
  },
  {
   "cell_type": "code",
   "execution_count": 155,
   "id": "f89bcdd9",
   "metadata": {},
   "outputs": [
    {
     "data": {
      "text/plain": [
       "HTML Text: `$19.25`"
      ]
     },
     "execution_count": 155,
     "metadata": {},
     "output_type": "execute_result"
    }
   ],
   "source": [
    "price_element = zz[1].children[1]"
   ]
  },
  {
   "cell_type": "code",
   "execution_count": 160,
   "id": "df16d49b",
   "metadata": {},
   "outputs": [
    {
     "data": {
      "text/plain": [
       "\"\\$19.25\""
      ]
     },
     "execution_count": 160,
     "metadata": {},
     "output_type": "execute_result"
    }
   ],
   "source": [
    "price_text = nodeText(price_element)"
   ]
  },
  {
   "cell_type": "code",
   "execution_count": 172,
   "id": "a64c7e29",
   "metadata": {},
   "outputs": [
    {
     "data": {
      "text/plain": [
       "\"19.25\""
      ]
     },
     "execution_count": 172,
     "metadata": {},
     "output_type": "execute_result"
    }
   ],
   "source": [
    "price_text[2:end]"
   ]
  },
  {
   "cell_type": "code",
   "execution_count": null,
   "id": "570c0240",
   "metadata": {},
   "outputs": [],
   "source": []
  },
  {
   "cell_type": "code",
   "execution_count": null,
   "id": "89590484",
   "metadata": {},
   "outputs": [],
   "source": []
  },
  {
   "cell_type": "code",
   "execution_count": null,
   "id": "eb2a1511",
   "metadata": {},
   "outputs": [],
   "source": []
  },
  {
   "cell_type": "code",
   "execution_count": null,
   "id": "107bf6ed",
   "metadata": {},
   "outputs": [],
   "source": []
  },
  {
   "cell_type": "code",
   "execution_count": null,
   "id": "e0f40e44",
   "metadata": {},
   "outputs": [],
   "source": []
  }
 ],
 "metadata": {
  "kernelspec": {
   "display_name": "Julia 1.10.0",
   "language": "julia",
   "name": "julia-1.10"
  },
  "language_info": {
   "file_extension": ".jl",
   "mimetype": "application/julia",
   "name": "julia",
   "version": "1.10.0"
  }
 },
 "nbformat": 4,
 "nbformat_minor": 5
}
