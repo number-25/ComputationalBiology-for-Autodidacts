{
 "cells": [
  {
   "cell_type": "markdown",
   "id": "095cc47c",
   "metadata": {},
   "source": [
    "# Week 3 Notes - Getting and Cleaning Data"
   ]
  },
  {
   "cell_type": "markdown",
   "id": "46c70875",
   "metadata": {},
   "source": [
    "## Subsetting and Sorting\n",
    "Time to wrangle and mould our datasets to our desires. Create a basic dataframe, reshjuffle the contents of the columns and then insert some NA values too. \n",
    "```R\n",
    "set.seed(1345)\n",
    "X <- data.frame(\"var1\"=sample(1:5), \"var2\"=sample(6:10), \"var3\"=sample(11:15))\n",
    "X <- X[sample(1:5),]; X$var2[c(1,3)] = NA\n",
    "``` "
   ]
  },
  {
   "cell_type": "markdown",
   "id": "53b9c293",
   "metadata": {},
   "source": [
    "In Julia"
   ]
  },
  {
   "cell_type": "code",
   "execution_count": 1,
   "id": "66aff65d",
   "metadata": {},
   "outputs": [],
   "source": [
    "using DataFrames, CSV, Pkg"
   ]
  },
  {
   "cell_type": "code",
   "execution_count": 2,
   "id": "cc33e0a9",
   "metadata": {},
   "outputs": [
    {
     "data": {
      "text/html": [
       "<div><div style = \"float: left;\"><span>5×3 DataFrame</span></div><div style = \"clear: both;\"></div></div><div class = \"data-frame\" style = \"overflow-x: scroll;\"><table class = \"data-frame\" style = \"margin-bottom: 6px;\"><thead><tr class = \"header\"><th class = \"rowNumber\" style = \"font-weight: bold; text-align: right;\">Row</th><th style = \"text-align: left;\">col1</th><th style = \"text-align: left;\">col2</th><th style = \"text-align: left;\">col3</th></tr><tr class = \"subheader headerLastRow\"><th class = \"rowNumber\" style = \"font-weight: bold; text-align: right;\"></th><th title = \"Int64\" style = \"text-align: left;\">Int64</th><th title = \"Int64\" style = \"text-align: left;\">Int64</th><th title = \"Union{Missing, Int64}\" style = \"text-align: left;\">Int64?</th></tr></thead><tbody><tr><td class = \"rowNumber\" style = \"font-weight: bold; text-align: right;\">1</td><td style = \"text-align: right;\">19</td><td style = \"text-align: right;\">5</td><td style = \"font-style: italic; text-align: right;\">missing</td></tr><tr><td class = \"rowNumber\" style = \"font-weight: bold; text-align: right;\">2</td><td style = \"text-align: right;\">6</td><td style = \"text-align: right;\">17</td><td style = \"font-style: italic; text-align: right;\">missing</td></tr><tr><td class = \"rowNumber\" style = \"font-weight: bold; text-align: right;\">3</td><td style = \"text-align: right;\">4</td><td style = \"text-align: right;\">15</td><td style = \"text-align: right;\">5</td></tr><tr><td class = \"rowNumber\" style = \"font-weight: bold; text-align: right;\">4</td><td style = \"text-align: right;\">9</td><td style = \"text-align: right;\">9</td><td style = \"text-align: right;\">4</td></tr><tr><td class = \"rowNumber\" style = \"font-weight: bold; text-align: right;\">5</td><td style = \"text-align: right;\">10</td><td style = \"text-align: right;\">22</td><td style = \"text-align: right;\">21</td></tr></tbody></table></div>"
      ],
      "text/latex": [
       "\\begin{tabular}{r|ccc}\n",
       "\t& col1 & col2 & col3\\\\\n",
       "\t\\hline\n",
       "\t& Int64 & Int64 & Int64?\\\\\n",
       "\t\\hline\n",
       "\t1 & 19 & 5 & \\emph{missing} \\\\\n",
       "\t2 & 6 & 17 & \\emph{missing} \\\\\n",
       "\t3 & 4 & 15 & 5 \\\\\n",
       "\t4 & 9 & 9 & 4 \\\\\n",
       "\t5 & 10 & 22 & 21 \\\\\n",
       "\\end{tabular}\n"
      ],
      "text/plain": [
       "\u001b[1m5×3 DataFrame\u001b[0m\n",
       "\u001b[1m Row \u001b[0m│\u001b[1m col1  \u001b[0m\u001b[1m col2  \u001b[0m\u001b[1m col3    \u001b[0m\n",
       "     │\u001b[90m Int64 \u001b[0m\u001b[90m Int64 \u001b[0m\u001b[90m Int64?  \u001b[0m\n",
       "─────┼───────────────────────\n",
       "   1 │    19      5 \u001b[90m missing \u001b[0m\n",
       "   2 │     6     17 \u001b[90m missing \u001b[0m\n",
       "   3 │     4     15        5\n",
       "   4 │     9      9        4\n",
       "   5 │    10     22       21"
      ]
     },
     "execution_count": 2,
     "metadata": {},
     "output_type": "execute_result"
    }
   ],
   "source": [
    "X = DataFrame(col1=rand(1:20, 5), col2=rand(2:30, 5), col3=[missing, missing, 5, 4, 21])"
   ]
  },
  {
   "cell_type": "markdown",
   "id": "f17dd18c",
   "metadata": {},
   "source": [
    "Let's subset the dataframe and take specific columns and row combinations"
   ]
  },
  {
   "cell_type": "markdown",
   "id": "1702c0ce",
   "metadata": {},
   "source": [
    "In R\n",
    "`X[,1]` to take the first column. We can also take the first column by passing the column name as a string `X[,\"var1]`. Let's take the first two rows of column 2 `X[1:2,\"var2\"]`    "
   ]
  },
  {
   "cell_type": "markdown",
   "id": "74a98bc8",
   "metadata": {},
   "source": [
    "With Julia we can use the basic .dot syntax"
   ]
  },
  {
   "cell_type": "code",
   "execution_count": 3,
   "id": "33e9d31c",
   "metadata": {},
   "outputs": [
    {
     "data": {
      "text/plain": [
       "5-element Vector{Int64}:\n",
       " 19\n",
       "  6\n",
       "  4\n",
       "  9\n",
       " 10"
      ]
     },
     "execution_count": 3,
     "metadata": {},
     "output_type": "execute_result"
    }
   ],
   "source": [
    "X.col1"
   ]
  },
  {
   "cell_type": "code",
   "execution_count": 4,
   "id": "f606e95e",
   "metadata": {},
   "outputs": [
    {
     "data": {
      "text/plain": [
       "5-element Vector{Int64}:\n",
       " 19\n",
       "  6\n",
       "  4\n",
       "  9\n",
       " 10"
      ]
     },
     "execution_count": 4,
     "metadata": {},
     "output_type": "execute_result"
    }
   ],
   "source": [
    "# This string based extraction is a bit slower\n",
    "# Julia converts the String to a Symbol type \n",
    "X.\"col1\""
   ]
  },
  {
   "cell_type": "markdown",
   "id": "928d7eaf",
   "metadata": {},
   "source": [
    "We can also use indexing and the column names"
   ]
  },
  {
   "cell_type": "code",
   "execution_count": 5,
   "id": "bfbe07a3",
   "metadata": {},
   "outputs": [
    {
     "data": {
      "text/plain": [
       "5-element Vector{Int64}:\n",
       "  5\n",
       " 17\n",
       " 15\n",
       "  9\n",
       " 22"
      ]
     },
     "execution_count": 5,
     "metadata": {},
     "output_type": "execute_result"
    }
   ],
   "source": [
    "X[:, 2]"
   ]
  },
  {
   "cell_type": "code",
   "execution_count": 6,
   "id": "59b5a3ab",
   "metadata": {},
   "outputs": [
    {
     "data": {
      "text/plain": [
       "5-element Vector{Int64}:\n",
       " 19\n",
       "  6\n",
       "  4\n",
       "  9\n",
       " 10"
      ]
     },
     "execution_count": 6,
     "metadata": {},
     "output_type": "execute_result"
    }
   ],
   "source": [
    "X[:, \"col1\"]"
   ]
  },
  {
   "cell_type": "code",
   "execution_count": 7,
   "id": "28342392",
   "metadata": {},
   "outputs": [
    {
     "data": {
      "text/plain": [
       "5-element Vector{Int64}:\n",
       " 19\n",
       "  6\n",
       "  4\n",
       "  9\n",
       " 10"
      ]
     },
     "execution_count": 7,
     "metadata": {},
     "output_type": "execute_result"
    }
   ],
   "source": [
    "X[:, :col1]"
   ]
  },
  {
   "cell_type": "markdown",
   "id": "1614d2b6",
   "metadata": {},
   "source": [
    "So to summarise it all, if we're using indexing, we can use colnumber, \"colname\", :Colname. If we're using .dot syntax we can use df.number, df.\"colname\" - wooooooo"
   ]
  },
  {
   "cell_type": "markdown",
   "id": "62889829",
   "metadata": {},
   "source": [
    "In Julia, to check the column index of a certain column e.g. is it in the 10th column? etc., we can use the **columnindex()** function"
   ]
  },
  {
   "cell_type": "code",
   "execution_count": 8,
   "id": "79547c80",
   "metadata": {},
   "outputs": [
    {
     "data": {
      "text/plain": [
       "3"
      ]
     },
     "execution_count": 8,
     "metadata": {},
     "output_type": "execute_result"
    }
   ],
   "source": [
    "columnindex(X, \"col3\")"
   ]
  },
  {
   "cell_type": "markdown",
   "id": "bde15fc2",
   "metadata": {},
   "source": [
    "To test whether a specific column is in the dataframe, based on it's name, we can do **hasproperty()**"
   ]
  },
  {
   "cell_type": "code",
   "execution_count": 9,
   "id": "f586b97e",
   "metadata": {},
   "outputs": [
    {
     "data": {
      "text/plain": [
       "true"
      ]
     },
     "execution_count": 9,
     "metadata": {},
     "output_type": "execute_result"
    }
   ],
   "source": [
    "hasproperty(X, \"col3\")"
   ]
  },
  {
   "cell_type": "markdown",
   "id": "6e2a3147",
   "metadata": {},
   "source": [
    "#### Subset the dataframe using conditions, such as, print the dataframe in which the first column has values over 18"
   ]
  },
  {
   "cell_type": "code",
   "execution_count": 10,
   "id": "80d658cd",
   "metadata": {},
   "outputs": [
    {
     "data": {
      "text/html": [
       "<div><div style = \"float: left;\"><span>1×3 DataFrame</span></div><div style = \"clear: both;\"></div></div><div class = \"data-frame\" style = \"overflow-x: scroll;\"><table class = \"data-frame\" style = \"margin-bottom: 6px;\"><thead><tr class = \"header\"><th class = \"rowNumber\" style = \"font-weight: bold; text-align: right;\">Row</th><th style = \"text-align: left;\">col1</th><th style = \"text-align: left;\">col2</th><th style = \"text-align: left;\">col3</th></tr><tr class = \"subheader headerLastRow\"><th class = \"rowNumber\" style = \"font-weight: bold; text-align: right;\"></th><th title = \"Int64\" style = \"text-align: left;\">Int64</th><th title = \"Int64\" style = \"text-align: left;\">Int64</th><th title = \"Union{Missing, Int64}\" style = \"text-align: left;\">Int64?</th></tr></thead><tbody><tr><td class = \"rowNumber\" style = \"font-weight: bold; text-align: right;\">1</td><td style = \"text-align: right;\">19</td><td style = \"text-align: right;\">5</td><td style = \"font-style: italic; text-align: right;\">missing</td></tr></tbody></table></div>"
      ],
      "text/latex": [
       "\\begin{tabular}{r|ccc}\n",
       "\t& col1 & col2 & col3\\\\\n",
       "\t\\hline\n",
       "\t& Int64 & Int64 & Int64?\\\\\n",
       "\t\\hline\n",
       "\t1 & 19 & 5 & \\emph{missing} \\\\\n",
       "\\end{tabular}\n"
      ],
      "text/plain": [
       "\u001b[1m1×3 DataFrame\u001b[0m\n",
       "\u001b[1m Row \u001b[0m│\u001b[1m col1  \u001b[0m\u001b[1m col2  \u001b[0m\u001b[1m col3    \u001b[0m\n",
       "     │\u001b[90m Int64 \u001b[0m\u001b[90m Int64 \u001b[0m\u001b[90m Int64?  \u001b[0m\n",
       "─────┼───────────────────────\n",
       "   1 │    19      5 \u001b[90m missing \u001b[0m"
      ]
     },
     "execution_count": 10,
     "metadata": {},
     "output_type": "execute_result"
    }
   ],
   "source": [
    "filter(row -> row.col1 > 18, X)"
   ]
  },
  {
   "cell_type": "markdown",
   "id": "8c32e7be",
   "metadata": {},
   "source": [
    "If we have multiple conditons"
   ]
  },
  {
   "cell_type": "code",
   "execution_count": 11,
   "id": "83d89859",
   "metadata": {},
   "outputs": [
    {
     "data": {
      "text/html": [
       "<div><div style = \"float: left;\"><span>5×3 DataFrame</span></div><div style = \"clear: both;\"></div></div><div class = \"data-frame\" style = \"overflow-x: scroll;\"><table class = \"data-frame\" style = \"margin-bottom: 6px;\"><thead><tr class = \"header\"><th class = \"rowNumber\" style = \"font-weight: bold; text-align: right;\">Row</th><th style = \"text-align: left;\">col1</th><th style = \"text-align: left;\">col2</th><th style = \"text-align: left;\">col3</th></tr><tr class = \"subheader headerLastRow\"><th class = \"rowNumber\" style = \"font-weight: bold; text-align: right;\"></th><th title = \"Int64\" style = \"text-align: left;\">Int64</th><th title = \"Int64\" style = \"text-align: left;\">Int64</th><th title = \"Union{Missing, Int64}\" style = \"text-align: left;\">Int64?</th></tr></thead><tbody><tr><td class = \"rowNumber\" style = \"font-weight: bold; text-align: right;\">1</td><td style = \"text-align: right;\">19</td><td style = \"text-align: right;\">5</td><td style = \"font-style: italic; text-align: right;\">missing</td></tr><tr><td class = \"rowNumber\" style = \"font-weight: bold; text-align: right;\">2</td><td style = \"text-align: right;\">6</td><td style = \"text-align: right;\">17</td><td style = \"font-style: italic; text-align: right;\">missing</td></tr><tr><td class = \"rowNumber\" style = \"font-weight: bold; text-align: right;\">3</td><td style = \"text-align: right;\">4</td><td style = \"text-align: right;\">15</td><td style = \"text-align: right;\">5</td></tr><tr><td class = \"rowNumber\" style = \"font-weight: bold; text-align: right;\">4</td><td style = \"text-align: right;\">9</td><td style = \"text-align: right;\">9</td><td style = \"text-align: right;\">4</td></tr><tr><td class = \"rowNumber\" style = \"font-weight: bold; text-align: right;\">5</td><td style = \"text-align: right;\">10</td><td style = \"text-align: right;\">22</td><td style = \"text-align: right;\">21</td></tr></tbody></table></div>"
      ],
      "text/latex": [
       "\\begin{tabular}{r|ccc}\n",
       "\t& col1 & col2 & col3\\\\\n",
       "\t\\hline\n",
       "\t& Int64 & Int64 & Int64?\\\\\n",
       "\t\\hline\n",
       "\t1 & 19 & 5 & \\emph{missing} \\\\\n",
       "\t2 & 6 & 17 & \\emph{missing} \\\\\n",
       "\t3 & 4 & 15 & 5 \\\\\n",
       "\t4 & 9 & 9 & 4 \\\\\n",
       "\t5 & 10 & 22 & 21 \\\\\n",
       "\\end{tabular}\n"
      ],
      "text/plain": [
       "\u001b[1m5×3 DataFrame\u001b[0m\n",
       "\u001b[1m Row \u001b[0m│\u001b[1m col1  \u001b[0m\u001b[1m col2  \u001b[0m\u001b[1m col3    \u001b[0m\n",
       "     │\u001b[90m Int64 \u001b[0m\u001b[90m Int64 \u001b[0m\u001b[90m Int64?  \u001b[0m\n",
       "─────┼───────────────────────\n",
       "   1 │    19      5 \u001b[90m missing \u001b[0m\n",
       "   2 │     6     17 \u001b[90m missing \u001b[0m\n",
       "   3 │     4     15        5\n",
       "   4 │     9      9        4\n",
       "   5 │    10     22       21"
      ]
     },
     "execution_count": 11,
     "metadata": {},
     "output_type": "execute_result"
    }
   ],
   "source": [
    "filter(row -> row.col1 > 1 || row.col2 > 1, X)"
   ]
  },
  {
   "cell_type": "markdown",
   "id": "46da9293",
   "metadata": {},
   "source": [
    "In R we could do \n",
    "```R\n",
    "X[(X$var1 <= 3 & X$var3 > 11),]\n",
    "X[(X$var1 <= 3 | X$var3 > 11)]\n",
    "``` "
   ]
  },
  {
   "cell_type": "markdown",
   "id": "eabd2803",
   "metadata": {},
   "source": [
    "### Sorting "
   ]
  },
  {
   "cell_type": "markdown",
   "id": "5e6ba16c",
   "metadata": {},
   "source": [
    "In R;\n",
    "```R\n",
    "sort(X$var1)\n",
    "# Sort in reverse\n",
    "sort(X$var1, decreasing=TRUE)\n",
    "``` "
   ]
  },
  {
   "cell_type": "markdown",
   "id": "932184ca",
   "metadata": {},
   "source": [
    "In Julia to just get a vector of a specific dataframes column\n",
    "https://dataframes.juliadata.org/stable/man/sorting/"
   ]
  },
  {
   "cell_type": "code",
   "execution_count": 12,
   "id": "a219a4b4",
   "metadata": {},
   "outputs": [
    {
     "data": {
      "text/plain": [
       "5-element Vector{Int64}:\n",
       " 19\n",
       " 10\n",
       "  9\n",
       "  6\n",
       "  4"
      ]
     },
     "execution_count": 12,
     "metadata": {},
     "output_type": "execute_result"
    }
   ],
   "source": [
    "sort(X.col1, rev=true)"
   ]
  },
  {
   "cell_type": "markdown",
   "id": "5ea77a7d",
   "metadata": {},
   "source": [
    "To print out the entire dataframe for viewing"
   ]
  },
  {
   "cell_type": "code",
   "execution_count": 13,
   "id": "6c7b33be",
   "metadata": {},
   "outputs": [
    {
     "data": {
      "text/html": [
       "<div><div style = \"float: left;\"><span>5×3 DataFrame</span></div><div style = \"clear: both;\"></div></div><div class = \"data-frame\" style = \"overflow-x: scroll;\"><table class = \"data-frame\" style = \"margin-bottom: 6px;\"><thead><tr class = \"header\"><th class = \"rowNumber\" style = \"font-weight: bold; text-align: right;\">Row</th><th style = \"text-align: left;\">col1</th><th style = \"text-align: left;\">col2</th><th style = \"text-align: left;\">col3</th></tr><tr class = \"subheader headerLastRow\"><th class = \"rowNumber\" style = \"font-weight: bold; text-align: right;\"></th><th title = \"Int64\" style = \"text-align: left;\">Int64</th><th title = \"Int64\" style = \"text-align: left;\">Int64</th><th title = \"Union{Missing, Int64}\" style = \"text-align: left;\">Int64?</th></tr></thead><tbody><tr><td class = \"rowNumber\" style = \"font-weight: bold; text-align: right;\">1</td><td style = \"text-align: right;\">4</td><td style = \"text-align: right;\">15</td><td style = \"text-align: right;\">5</td></tr><tr><td class = \"rowNumber\" style = \"font-weight: bold; text-align: right;\">2</td><td style = \"text-align: right;\">6</td><td style = \"text-align: right;\">17</td><td style = \"font-style: italic; text-align: right;\">missing</td></tr><tr><td class = \"rowNumber\" style = \"font-weight: bold; text-align: right;\">3</td><td style = \"text-align: right;\">9</td><td style = \"text-align: right;\">9</td><td style = \"text-align: right;\">4</td></tr><tr><td class = \"rowNumber\" style = \"font-weight: bold; text-align: right;\">4</td><td style = \"text-align: right;\">10</td><td style = \"text-align: right;\">22</td><td style = \"text-align: right;\">21</td></tr><tr><td class = \"rowNumber\" style = \"font-weight: bold; text-align: right;\">5</td><td style = \"text-align: right;\">19</td><td style = \"text-align: right;\">5</td><td style = \"font-style: italic; text-align: right;\">missing</td></tr></tbody></table></div>"
      ],
      "text/latex": [
       "\\begin{tabular}{r|ccc}\n",
       "\t& col1 & col2 & col3\\\\\n",
       "\t\\hline\n",
       "\t& Int64 & Int64 & Int64?\\\\\n",
       "\t\\hline\n",
       "\t1 & 4 & 15 & 5 \\\\\n",
       "\t2 & 6 & 17 & \\emph{missing} \\\\\n",
       "\t3 & 9 & 9 & 4 \\\\\n",
       "\t4 & 10 & 22 & 21 \\\\\n",
       "\t5 & 19 & 5 & \\emph{missing} \\\\\n",
       "\\end{tabular}\n"
      ],
      "text/plain": [
       "\u001b[1m5×3 DataFrame\u001b[0m\n",
       "\u001b[1m Row \u001b[0m│\u001b[1m col1  \u001b[0m\u001b[1m col2  \u001b[0m\u001b[1m col3    \u001b[0m\n",
       "     │\u001b[90m Int64 \u001b[0m\u001b[90m Int64 \u001b[0m\u001b[90m Int64?  \u001b[0m\n",
       "─────┼───────────────────────\n",
       "   1 │     4     15        5\n",
       "   2 │     6     17 \u001b[90m missing \u001b[0m\n",
       "   3 │     9      9        4\n",
       "   4 │    10     22       21\n",
       "   5 │    19      5 \u001b[90m missing \u001b[0m"
      ]
     },
     "execution_count": 13,
     "metadata": {},
     "output_type": "execute_result"
    }
   ],
   "source": [
    "sort(X, \"col1\") \n",
    "# or \n",
    "sort(X, 1)\n",
    "# or - this is the slowest one \n",
    "sort(X, [:1])"
   ]
  },
  {
   "cell_type": "markdown",
   "id": "89862a21",
   "metadata": {},
   "source": [
    "### Ordering\n",
    "Ordering is used in conjunction with sorting, as it will allow us to specificy the sorting order of the columns in the DataFrame, e.g. first X and reverse sort it"
   ]
  },
  {
   "cell_type": "markdown",
   "id": "3bcbb4bf",
   "metadata": {},
   "source": [
    "In R; \n",
    "```R\n",
    "X[order(X$var1, X$var3),] \n",
    "```"
   ]
  },
  {
   "cell_type": "markdown",
   "id": "247aaf13",
   "metadata": {},
   "source": [
    "Now in Julia, based on the help information"
   ]
  },
  {
   "cell_type": "code",
   "execution_count": 14,
   "id": "b0a5a5ba",
   "metadata": {},
   "outputs": [
    {
     "data": {
      "text/html": [
       "<div><div style = \"float: left;\"><span>5×3 DataFrame</span></div><div style = \"clear: both;\"></div></div><div class = \"data-frame\" style = \"overflow-x: scroll;\"><table class = \"data-frame\" style = \"margin-bottom: 6px;\"><thead><tr class = \"header\"><th class = \"rowNumber\" style = \"font-weight: bold; text-align: right;\">Row</th><th style = \"text-align: left;\">col1</th><th style = \"text-align: left;\">col2</th><th style = \"text-align: left;\">col3</th></tr><tr class = \"subheader headerLastRow\"><th class = \"rowNumber\" style = \"font-weight: bold; text-align: right;\"></th><th title = \"Int64\" style = \"text-align: left;\">Int64</th><th title = \"Int64\" style = \"text-align: left;\">Int64</th><th title = \"Union{Missing, Int64}\" style = \"text-align: left;\">Int64?</th></tr></thead><tbody><tr><td class = \"rowNumber\" style = \"font-weight: bold; text-align: right;\">1</td><td style = \"text-align: right;\">19</td><td style = \"text-align: right;\">5</td><td style = \"font-style: italic; text-align: right;\">missing</td></tr><tr><td class = \"rowNumber\" style = \"font-weight: bold; text-align: right;\">2</td><td style = \"text-align: right;\">10</td><td style = \"text-align: right;\">22</td><td style = \"text-align: right;\">21</td></tr><tr><td class = \"rowNumber\" style = \"font-weight: bold; text-align: right;\">3</td><td style = \"text-align: right;\">9</td><td style = \"text-align: right;\">9</td><td style = \"text-align: right;\">4</td></tr><tr><td class = \"rowNumber\" style = \"font-weight: bold; text-align: right;\">4</td><td style = \"text-align: right;\">6</td><td style = \"text-align: right;\">17</td><td style = \"font-style: italic; text-align: right;\">missing</td></tr><tr><td class = \"rowNumber\" style = \"font-weight: bold; text-align: right;\">5</td><td style = \"text-align: right;\">4</td><td style = \"text-align: right;\">15</td><td style = \"text-align: right;\">5</td></tr></tbody></table></div>"
      ],
      "text/latex": [
       "\\begin{tabular}{r|ccc}\n",
       "\t& col1 & col2 & col3\\\\\n",
       "\t\\hline\n",
       "\t& Int64 & Int64 & Int64?\\\\\n",
       "\t\\hline\n",
       "\t1 & 19 & 5 & \\emph{missing} \\\\\n",
       "\t2 & 10 & 22 & 21 \\\\\n",
       "\t3 & 9 & 9 & 4 \\\\\n",
       "\t4 & 6 & 17 & \\emph{missing} \\\\\n",
       "\t5 & 4 & 15 & 5 \\\\\n",
       "\\end{tabular}\n"
      ],
      "text/plain": [
       "\u001b[1m5×3 DataFrame\u001b[0m\n",
       "\u001b[1m Row \u001b[0m│\u001b[1m col1  \u001b[0m\u001b[1m col2  \u001b[0m\u001b[1m col3    \u001b[0m\n",
       "     │\u001b[90m Int64 \u001b[0m\u001b[90m Int64 \u001b[0m\u001b[90m Int64?  \u001b[0m\n",
       "─────┼───────────────────────\n",
       "   1 │    19      5 \u001b[90m missing \u001b[0m\n",
       "   2 │    10     22       21\n",
       "   3 │     9      9        4\n",
       "   4 │     6     17 \u001b[90m missing \u001b[0m\n",
       "   5 │     4     15        5"
      ]
     },
     "execution_count": 14,
     "metadata": {},
     "output_type": "execute_result"
    }
   ],
   "source": [
    "sort(X, order(\"col1\", rev=true))"
   ]
  },
  {
   "cell_type": "markdown",
   "id": "3c3fe372",
   "metadata": {},
   "source": [
    "We can pass multiple order functions within a single dataframe in order to handle the other columns"
   ]
  },
  {
   "cell_type": "code",
   "execution_count": 15,
   "id": "9f8646fb",
   "metadata": {},
   "outputs": [
    {
     "data": {
      "text/html": [
       "<div><div style = \"float: left;\"><span>5×3 DataFrame</span></div><div style = \"clear: both;\"></div></div><div class = \"data-frame\" style = \"overflow-x: scroll;\"><table class = \"data-frame\" style = \"margin-bottom: 6px;\"><thead><tr class = \"header\"><th class = \"rowNumber\" style = \"font-weight: bold; text-align: right;\">Row</th><th style = \"text-align: left;\">col1</th><th style = \"text-align: left;\">col2</th><th style = \"text-align: left;\">col3</th></tr><tr class = \"subheader headerLastRow\"><th class = \"rowNumber\" style = \"font-weight: bold; text-align: right;\"></th><th title = \"Int64\" style = \"text-align: left;\">Int64</th><th title = \"Int64\" style = \"text-align: left;\">Int64</th><th title = \"Union{Missing, Int64}\" style = \"text-align: left;\">Int64?</th></tr></thead><tbody><tr><td class = \"rowNumber\" style = \"font-weight: bold; text-align: right;\">1</td><td style = \"text-align: right;\">19</td><td style = \"text-align: right;\">5</td><td style = \"font-style: italic; text-align: right;\">missing</td></tr><tr><td class = \"rowNumber\" style = \"font-weight: bold; text-align: right;\">2</td><td style = \"text-align: right;\">10</td><td style = \"text-align: right;\">22</td><td style = \"text-align: right;\">21</td></tr><tr><td class = \"rowNumber\" style = \"font-weight: bold; text-align: right;\">3</td><td style = \"text-align: right;\">9</td><td style = \"text-align: right;\">9</td><td style = \"text-align: right;\">4</td></tr><tr><td class = \"rowNumber\" style = \"font-weight: bold; text-align: right;\">4</td><td style = \"text-align: right;\">6</td><td style = \"text-align: right;\">17</td><td style = \"font-style: italic; text-align: right;\">missing</td></tr><tr><td class = \"rowNumber\" style = \"font-weight: bold; text-align: right;\">5</td><td style = \"text-align: right;\">4</td><td style = \"text-align: right;\">15</td><td style = \"text-align: right;\">5</td></tr></tbody></table></div>"
      ],
      "text/latex": [
       "\\begin{tabular}{r|ccc}\n",
       "\t& col1 & col2 & col3\\\\\n",
       "\t\\hline\n",
       "\t& Int64 & Int64 & Int64?\\\\\n",
       "\t\\hline\n",
       "\t1 & 19 & 5 & \\emph{missing} \\\\\n",
       "\t2 & 10 & 22 & 21 \\\\\n",
       "\t3 & 9 & 9 & 4 \\\\\n",
       "\t4 & 6 & 17 & \\emph{missing} \\\\\n",
       "\t5 & 4 & 15 & 5 \\\\\n",
       "\\end{tabular}\n"
      ],
      "text/plain": [
       "\u001b[1m5×3 DataFrame\u001b[0m\n",
       "\u001b[1m Row \u001b[0m│\u001b[1m col1  \u001b[0m\u001b[1m col2  \u001b[0m\u001b[1m col3    \u001b[0m\n",
       "     │\u001b[90m Int64 \u001b[0m\u001b[90m Int64 \u001b[0m\u001b[90m Int64?  \u001b[0m\n",
       "─────┼───────────────────────\n",
       "   1 │    19      5 \u001b[90m missing \u001b[0m\n",
       "   2 │    10     22       21\n",
       "   3 │     9      9        4\n",
       "   4 │     6     17 \u001b[90m missing \u001b[0m\n",
       "   5 │     4     15        5"
      ]
     },
     "execution_count": 15,
     "metadata": {},
     "output_type": "execute_result"
    }
   ],
   "source": [
    "sort!(X, [\"col1\", \"col2\"], rev=[true, false])"
   ]
  },
  {
   "cell_type": "markdown",
   "id": "997cc583",
   "metadata": {},
   "source": [
    "### Adding rows and columns \n",
    "Adding rows and columns is a very common procedure - it should become as comfortable as adding sides to the playdough structure that we've made.\n",
    "\n",
    "In R;\n",
    "```R\n",
    "X$var4 <- rnorm(5)\n",
    "```"
   ]
  },
  {
   "cell_type": "markdown",
   "id": "b55c7e9c",
   "metadata": {},
   "source": [
    "In Julia, a very basic way to do this is via indexing, we can index into a column which doesn't exist yet, but soon will, and provide the data which will fill the column"
   ]
  },
  {
   "cell_type": "code",
   "execution_count": 16,
   "id": "57da4a79",
   "metadata": {},
   "outputs": [
    {
     "data": {
      "text/plain": [
       "5-element Vector{Int64}:\n",
       " 162\n",
       " 175\n",
       " 148\n",
       " 162\n",
       " 151"
      ]
     },
     "execution_count": 16,
     "metadata": {},
     "output_type": "execute_result"
    }
   ],
   "source": [
    "X.col4 = rand(100:200, 5)"
   ]
  },
  {
   "cell_type": "code",
   "execution_count": 17,
   "id": "6b179463",
   "metadata": {},
   "outputs": [
    {
     "data": {
      "text/html": [
       "<div><div style = \"float: left;\"><span>5×4 DataFrame</span></div><div style = \"clear: both;\"></div></div><div class = \"data-frame\" style = \"overflow-x: scroll;\"><table class = \"data-frame\" style = \"margin-bottom: 6px;\"><thead><tr class = \"header\"><th class = \"rowNumber\" style = \"font-weight: bold; text-align: right;\">Row</th><th style = \"text-align: left;\">col1</th><th style = \"text-align: left;\">col2</th><th style = \"text-align: left;\">col3</th><th style = \"text-align: left;\">col4</th></tr><tr class = \"subheader headerLastRow\"><th class = \"rowNumber\" style = \"font-weight: bold; text-align: right;\"></th><th title = \"Int64\" style = \"text-align: left;\">Int64</th><th title = \"Int64\" style = \"text-align: left;\">Int64</th><th title = \"Union{Missing, Int64}\" style = \"text-align: left;\">Int64?</th><th title = \"Int64\" style = \"text-align: left;\">Int64</th></tr></thead><tbody><tr><td class = \"rowNumber\" style = \"font-weight: bold; text-align: right;\">1</td><td style = \"text-align: right;\">19</td><td style = \"text-align: right;\">5</td><td style = \"font-style: italic; text-align: right;\">missing</td><td style = \"text-align: right;\">162</td></tr><tr><td class = \"rowNumber\" style = \"font-weight: bold; text-align: right;\">2</td><td style = \"text-align: right;\">10</td><td style = \"text-align: right;\">22</td><td style = \"text-align: right;\">21</td><td style = \"text-align: right;\">175</td></tr><tr><td class = \"rowNumber\" style = \"font-weight: bold; text-align: right;\">3</td><td style = \"text-align: right;\">9</td><td style = \"text-align: right;\">9</td><td style = \"text-align: right;\">4</td><td style = \"text-align: right;\">148</td></tr><tr><td class = \"rowNumber\" style = \"font-weight: bold; text-align: right;\">4</td><td style = \"text-align: right;\">6</td><td style = \"text-align: right;\">17</td><td style = \"font-style: italic; text-align: right;\">missing</td><td style = \"text-align: right;\">162</td></tr><tr><td class = \"rowNumber\" style = \"font-weight: bold; text-align: right;\">5</td><td style = \"text-align: right;\">4</td><td style = \"text-align: right;\">15</td><td style = \"text-align: right;\">5</td><td style = \"text-align: right;\">151</td></tr></tbody></table></div>"
      ],
      "text/latex": [
       "\\begin{tabular}{r|cccc}\n",
       "\t& col1 & col2 & col3 & col4\\\\\n",
       "\t\\hline\n",
       "\t& Int64 & Int64 & Int64? & Int64\\\\\n",
       "\t\\hline\n",
       "\t1 & 19 & 5 & \\emph{missing} & 162 \\\\\n",
       "\t2 & 10 & 22 & 21 & 175 \\\\\n",
       "\t3 & 9 & 9 & 4 & 148 \\\\\n",
       "\t4 & 6 & 17 & \\emph{missing} & 162 \\\\\n",
       "\t5 & 4 & 15 & 5 & 151 \\\\\n",
       "\\end{tabular}\n"
      ],
      "text/plain": [
       "\u001b[1m5×4 DataFrame\u001b[0m\n",
       "\u001b[1m Row \u001b[0m│\u001b[1m col1  \u001b[0m\u001b[1m col2  \u001b[0m\u001b[1m col3    \u001b[0m\u001b[1m col4  \u001b[0m\n",
       "     │\u001b[90m Int64 \u001b[0m\u001b[90m Int64 \u001b[0m\u001b[90m Int64?  \u001b[0m\u001b[90m Int64 \u001b[0m\n",
       "─────┼──────────────────────────────\n",
       "   1 │    19      5 \u001b[90m missing \u001b[0m   162\n",
       "   2 │    10     22       21    175\n",
       "   3 │     9      9        4    148\n",
       "   4 │     6     17 \u001b[90m missing \u001b[0m   162\n",
       "   5 │     4     15        5    151"
      ]
     },
     "execution_count": 17,
     "metadata": {},
     "output_type": "execute_result"
    }
   ],
   "source": [
    "X"
   ]
  },
  {
   "cell_type": "markdown",
   "id": "1a228dc8",
   "metadata": {},
   "source": [
    "## Summarising Data \n",
    "We'll be looking at different ways of providing a snapshot of the general big picture of our datasets - the averages, limits, deviations and so on.  \n",
    "\n",
    "Let's do the basics, the beginning and end of the datasets; \n",
    "In R; \n",
    "```R\n",
    "head(data, n=3)\n",
    "tail(data, n=5)\n",
    "``` "
   ]
  },
  {
   "cell_type": "markdown",
   "id": "3a0b0534",
   "metadata": {},
   "source": [
    "In Julia"
   ]
  },
  {
   "cell_type": "code",
   "execution_count": 18,
   "id": "4a3665db",
   "metadata": {},
   "outputs": [
    {
     "data": {
      "text/html": [
       "<div><div style = \"float: left;\"><span>DataFrameRow (4 columns)</span></div><div style = \"clear: both;\"></div></div><div class = \"data-frame\" style = \"overflow-x: scroll;\"><table class = \"data-frame\" style = \"margin-bottom: 6px;\"><thead><tr class = \"header\"><th class = \"rowLabel\" style = \"font-weight: bold; text-align: right;\">Row</th><th style = \"text-align: left;\">col1</th><th style = \"text-align: left;\">col2</th><th style = \"text-align: left;\">col3</th><th style = \"text-align: left;\">col4</th></tr><tr class = \"subheader headerLastRow\"><th class = \"rowLabel\" style = \"font-weight: bold; text-align: right;\"></th><th title = \"Int64\" style = \"text-align: left;\">Int64</th><th title = \"Int64\" style = \"text-align: left;\">Int64</th><th title = \"Union{Missing, Int64}\" style = \"text-align: left;\">Int64?</th><th title = \"Int64\" style = \"text-align: left;\">Int64</th></tr></thead><tbody><tr><td class = \"rowLabel\" style = \"font-weight: bold; text-align: right;\">1</td><td style = \"text-align: right;\">19</td><td style = \"text-align: right;\">5</td><td style = \"font-style: italic; text-align: right;\">missing</td><td style = \"text-align: right;\">162</td></tr></tbody></table></div>"
      ],
      "text/latex": [
       "\\begin{tabular}{r|cccc}\n",
       "\t& col1 & col2 & col3 & col4\\\\\n",
       "\t\\hline\n",
       "\t& Int64 & Int64 & Int64? & Int64\\\\\n",
       "\t\\hline\n",
       "\t1 & 19 & 5 & \\emph{missing} & 162 \\\\\n",
       "\\end{tabular}\n"
      ],
      "text/plain": [
       "\u001b[1mDataFrameRow\u001b[0m\n",
       "\u001b[1m Row \u001b[0m│\u001b[1m col1  \u001b[0m\u001b[1m col2  \u001b[0m\u001b[1m col3    \u001b[0m\u001b[1m col4  \u001b[0m\n",
       "     │\u001b[90m Int64 \u001b[0m\u001b[90m Int64 \u001b[0m\u001b[90m Int64?  \u001b[0m\u001b[90m Int64 \u001b[0m\n",
       "─────┼──────────────────────────────\n",
       "   1 │    19      5 \u001b[90m missing \u001b[0m   162"
      ]
     },
     "execution_count": 18,
     "metadata": {},
     "output_type": "execute_result"
    }
   ],
   "source": [
    "first(X)"
   ]
  },
  {
   "cell_type": "code",
   "execution_count": 19,
   "id": "57d0501c",
   "metadata": {},
   "outputs": [
    {
     "data": {
      "text/html": [
       "<div><div style = \"float: left;\"><span>DataFrameRow (4 columns)</span></div><div style = \"clear: both;\"></div></div><div class = \"data-frame\" style = \"overflow-x: scroll;\"><table class = \"data-frame\" style = \"margin-bottom: 6px;\"><thead><tr class = \"header\"><th class = \"rowLabel\" style = \"font-weight: bold; text-align: right;\">Row</th><th style = \"text-align: left;\">col1</th><th style = \"text-align: left;\">col2</th><th style = \"text-align: left;\">col3</th><th style = \"text-align: left;\">col4</th></tr><tr class = \"subheader headerLastRow\"><th class = \"rowLabel\" style = \"font-weight: bold; text-align: right;\"></th><th title = \"Int64\" style = \"text-align: left;\">Int64</th><th title = \"Int64\" style = \"text-align: left;\">Int64</th><th title = \"Union{Missing, Int64}\" style = \"text-align: left;\">Int64?</th><th title = \"Int64\" style = \"text-align: left;\">Int64</th></tr></thead><tbody><tr><td class = \"rowLabel\" style = \"font-weight: bold; text-align: right;\">5</td><td style = \"text-align: right;\">4</td><td style = \"text-align: right;\">15</td><td style = \"text-align: right;\">5</td><td style = \"text-align: right;\">151</td></tr></tbody></table></div>"
      ],
      "text/latex": [
       "\\begin{tabular}{r|cccc}\n",
       "\t& col1 & col2 & col3 & col4\\\\\n",
       "\t\\hline\n",
       "\t& Int64 & Int64 & Int64? & Int64\\\\\n",
       "\t\\hline\n",
       "\t5 & 4 & 15 & 5 & 151 \\\\\n",
       "\\end{tabular}\n"
      ],
      "text/plain": [
       "\u001b[1mDataFrameRow\u001b[0m\n",
       "\u001b[1m Row \u001b[0m│\u001b[1m col1  \u001b[0m\u001b[1m col2  \u001b[0m\u001b[1m col3   \u001b[0m\u001b[1m col4  \u001b[0m\n",
       "     │\u001b[90m Int64 \u001b[0m\u001b[90m Int64 \u001b[0m\u001b[90m Int64? \u001b[0m\u001b[90m Int64 \u001b[0m\n",
       "─────┼─────────────────────────────\n",
       "   5 │     4     15       5    151"
      ]
     },
     "execution_count": 19,
     "metadata": {},
     "output_type": "execute_result"
    }
   ],
   "source": [
    "last(X)"
   ]
  },
  {
   "cell_type": "markdown",
   "id": "0f3527bd",
   "metadata": {},
   "source": [
    "To get a brief summary of the data with descriptve stats and other information such as the Types of the variables in the columns, we can use `summary(data)` in R and in Julia we can use **describe()**"
   ]
  },
  {
   "cell_type": "code",
   "execution_count": 20,
   "id": "16bb8d18",
   "metadata": {},
   "outputs": [
    {
     "data": {
      "text/html": [
       "<div><div style = \"float: left;\"><span>4×7 DataFrame</span></div><div style = \"clear: both;\"></div></div><div class = \"data-frame\" style = \"overflow-x: scroll;\"><table class = \"data-frame\" style = \"margin-bottom: 6px;\"><thead><tr class = \"header\"><th class = \"rowNumber\" style = \"font-weight: bold; text-align: right;\">Row</th><th style = \"text-align: left;\">variable</th><th style = \"text-align: left;\">mean</th><th style = \"text-align: left;\">min</th><th style = \"text-align: left;\">median</th><th style = \"text-align: left;\">max</th><th style = \"text-align: left;\">nmissing</th><th style = \"text-align: left;\">eltype</th></tr><tr class = \"subheader headerLastRow\"><th class = \"rowNumber\" style = \"font-weight: bold; text-align: right;\"></th><th title = \"Symbol\" style = \"text-align: left;\">Symbol</th><th title = \"Float64\" style = \"text-align: left;\">Float64</th><th title = \"Int64\" style = \"text-align: left;\">Int64</th><th title = \"Float64\" style = \"text-align: left;\">Float64</th><th title = \"Int64\" style = \"text-align: left;\">Int64</th><th title = \"Int64\" style = \"text-align: left;\">Int64</th><th title = \"Type\" style = \"text-align: left;\">Type</th></tr></thead><tbody><tr><td class = \"rowNumber\" style = \"font-weight: bold; text-align: right;\">1</td><td style = \"text-align: left;\">col1</td><td style = \"text-align: right;\">9.6</td><td style = \"text-align: right;\">4</td><td style = \"text-align: right;\">9.0</td><td style = \"text-align: right;\">19</td><td style = \"text-align: right;\">0</td><td style = \"text-align: left;\">Int64</td></tr><tr><td class = \"rowNumber\" style = \"font-weight: bold; text-align: right;\">2</td><td style = \"text-align: left;\">col2</td><td style = \"text-align: right;\">13.6</td><td style = \"text-align: right;\">5</td><td style = \"text-align: right;\">15.0</td><td style = \"text-align: right;\">22</td><td style = \"text-align: right;\">0</td><td style = \"text-align: left;\">Int64</td></tr><tr><td class = \"rowNumber\" style = \"font-weight: bold; text-align: right;\">3</td><td style = \"text-align: left;\">col3</td><td style = \"text-align: right;\">10.0</td><td style = \"text-align: right;\">4</td><td style = \"text-align: right;\">5.0</td><td style = \"text-align: right;\">21</td><td style = \"text-align: right;\">2</td><td style = \"text-align: left;\">Union{Missing, Int64}</td></tr><tr><td class = \"rowNumber\" style = \"font-weight: bold; text-align: right;\">4</td><td style = \"text-align: left;\">col4</td><td style = \"text-align: right;\">159.6</td><td style = \"text-align: right;\">148</td><td style = \"text-align: right;\">162.0</td><td style = \"text-align: right;\">175</td><td style = \"text-align: right;\">0</td><td style = \"text-align: left;\">Int64</td></tr></tbody></table></div>"
      ],
      "text/latex": [
       "\\begin{tabular}{r|ccccccc}\n",
       "\t& variable & mean & min & median & max & nmissing & eltype\\\\\n",
       "\t\\hline\n",
       "\t& Symbol & Float64 & Int64 & Float64 & Int64 & Int64 & Type\\\\\n",
       "\t\\hline\n",
       "\t1 & col1 & 9.6 & 4 & 9.0 & 19 & 0 & Int64 \\\\\n",
       "\t2 & col2 & 13.6 & 5 & 15.0 & 22 & 0 & Int64 \\\\\n",
       "\t3 & col3 & 10.0 & 4 & 5.0 & 21 & 2 & Union\\{Missing, Int64\\} \\\\\n",
       "\t4 & col4 & 159.6 & 148 & 162.0 & 175 & 0 & Int64 \\\\\n",
       "\\end{tabular}\n"
      ],
      "text/plain": [
       "\u001b[1m4×7 DataFrame\u001b[0m\n",
       "\u001b[1m Row \u001b[0m│\u001b[1m variable \u001b[0m\u001b[1m mean    \u001b[0m\u001b[1m min   \u001b[0m\u001b[1m median  \u001b[0m\u001b[1m max   \u001b[0m\u001b[1m nmissing \u001b[0m\u001b[1m eltype             \u001b[0m ⋯\n",
       "     │\u001b[90m Symbol   \u001b[0m\u001b[90m Float64 \u001b[0m\u001b[90m Int64 \u001b[0m\u001b[90m Float64 \u001b[0m\u001b[90m Int64 \u001b[0m\u001b[90m Int64    \u001b[0m\u001b[90m Type               \u001b[0m ⋯\n",
       "─────┼──────────────────────────────────────────────────────────────────────────\n",
       "   1 │ col1          9.6      4      9.0     19         0  Int64               ⋯\n",
       "   2 │ col2         13.6      5     15.0     22         0  Int64\n",
       "   3 │ col3         10.0      4      5.0     21         2  Union{Missing, Int6\n",
       "   4 │ col4        159.6    148    162.0    175         0  Int64\n",
       "\u001b[36m                                                                1 column omitted\u001b[0m"
      ]
     },
     "execution_count": 20,
     "metadata": {},
     "output_type": "execute_result"
    }
   ],
   "source": [
    "describe(X)"
   ]
  },
  {
   "cell_type": "markdown",
   "id": "95f34db7",
   "metadata": {},
   "source": [
    "In R you can also use the `str(data)` command "
   ]
  },
  {
   "cell_type": "code",
   "execution_count": 21,
   "id": "74e6ac47",
   "metadata": {},
   "outputs": [
    {
     "data": {
      "text/plain": [
       "Vector{Int64}\u001b[90m (alias for \u001b[39m\u001b[90mArray{Int64, 1}\u001b[39m\u001b[90m)\u001b[39m"
      ]
     },
     "execution_count": 21,
     "metadata": {},
     "output_type": "execute_result"
    }
   ],
   "source": [
    "typeof(X.col1)"
   ]
  },
  {
   "cell_type": "markdown",
   "id": "bccf2514",
   "metadata": {},
   "source": [
    "To get the quantiles of a vector, in R we have the base function `quantile(data$column.na.rm=TRUE)` and in Julia we have to use the **Statistics.jl** package to add this functionality. Remember Julia is a more general language compared to R which was always tailored towards statistical computing - see https://www.jlhub.com/julia/manual/en/function/quantile-exclamation "
   ]
  },
  {
   "cell_type": "code",
   "execution_count": 22,
   "id": "009a4926",
   "metadata": {},
   "outputs": [],
   "source": [
    "using Statistics"
   ]
  },
  {
   "cell_type": "code",
   "execution_count": 333,
   "id": "02bcd521",
   "metadata": {},
   "outputs": [
    {
     "data": {
      "text/plain": [
       "4-element Vector{Float64}:\n",
       "  6.0\n",
       "  9.0\n",
       " 10.0\n",
       " 19.0"
      ]
     },
     "execution_count": 333,
     "metadata": {},
     "output_type": "execute_result"
    }
   ],
   "source": [
    "# Print quarter quantiles\n",
    "quantile!(X.col1, [0.25, 0.5, 0.75, 1], )"
   ]
  },
  {
   "cell_type": "markdown",
   "id": "d0325ac3",
   "metadata": {},
   "source": [
    "To skip the missing values and print the median value"
   ]
  },
  {
   "cell_type": "code",
   "execution_count": 24,
   "id": "1f560fd2",
   "metadata": {},
   "outputs": [
    {
     "data": {
      "text/plain": [
       "5.0"
      ]
     },
     "execution_count": 24,
     "metadata": {},
     "output_type": "execute_result"
    }
   ],
   "source": [
    "quantile(skipmissing(X.col3), 0.5) "
   ]
  },
  {
   "cell_type": "markdown",
   "id": "0799aa0c",
   "metadata": {},
   "source": [
    "### Checking for missing values\n",
    "In R, count the number of missing values \n",
    "```R\n",
    "sum(is.na(data$column))\n",
    "```\n",
    "Check is **any** na values are present\n",
    "```R\n",
    "any(is.na(data$column))\n",
    "```\n",
    "Test to see whether all the values meet a certain condition (over 0)\n",
    "```R\n",
    "all(data$column > 0)\n",
    "```"
   ]
  },
  {
   "cell_type": "markdown",
   "id": "a8239beb",
   "metadata": {},
   "source": [
    "In Julia, get the sum of missing values - using the one line iterators"
   ]
  },
  {
   "cell_type": "code",
   "execution_count": 25,
   "id": "a72e65d6",
   "metadata": {},
   "outputs": [
    {
     "data": {
      "text/plain": [
       "2"
      ]
     },
     "execution_count": 25,
     "metadata": {},
     "output_type": "execute_result"
    }
   ],
   "source": [
    "sum(x -> ismissing(x), X.col3)"
   ]
  },
  {
   "cell_type": "markdown",
   "id": "f51869d0",
   "metadata": {},
   "source": [
    "If any missing values are in there "
   ]
  },
  {
   "cell_type": "code",
   "execution_count": 26,
   "id": "73441009",
   "metadata": {},
   "outputs": [
    {
     "data": {
      "text/plain": [
       "true"
      ]
     },
     "execution_count": 26,
     "metadata": {},
     "output_type": "execute_result"
    }
   ],
   "source": [
    "any(x -> ismissing(x), X.col3)"
   ]
  },
  {
   "cell_type": "markdown",
   "id": "fc56089c",
   "metadata": {},
   "source": [
    "If all the values are a certain condition "
   ]
  },
  {
   "cell_type": "code",
   "execution_count": 27,
   "id": "78587da3",
   "metadata": {},
   "outputs": [
    {
     "data": {
      "text/plain": [
       "false"
      ]
     },
     "execution_count": 27,
     "metadata": {},
     "output_type": "execute_result"
    }
   ],
   "source": [
    "all(x -> ismissing(x), X.col1)"
   ]
  },
  {
   "cell_type": "code",
   "execution_count": 28,
   "id": "b235b6ed",
   "metadata": {},
   "outputs": [
    {
     "data": {
      "text/plain": [
       "true"
      ]
     },
     "execution_count": 28,
     "metadata": {},
     "output_type": "execute_result"
    }
   ],
   "source": [
    "all(x -> x > 0, X.col1)"
   ]
  },
  {
   "cell_type": "markdown",
   "id": "0efc6dfb",
   "metadata": {},
   "source": [
    "A cool little function in Julia to only extract the dataframes rows which contain missing values "
   ]
  },
  {
   "cell_type": "code",
   "execution_count": 29,
   "id": "5d9a945b",
   "metadata": {},
   "outputs": [
    {
     "data": {
      "text/html": [
       "<div><div style = \"float: left;\"><span>2×4 DataFrame</span></div><div style = \"clear: both;\"></div></div><div class = \"data-frame\" style = \"overflow-x: scroll;\"><table class = \"data-frame\" style = \"margin-bottom: 6px;\"><thead><tr class = \"header\"><th class = \"rowNumber\" style = \"font-weight: bold; text-align: right;\">Row</th><th style = \"text-align: left;\">col1</th><th style = \"text-align: left;\">col2</th><th style = \"text-align: left;\">col3</th><th style = \"text-align: left;\">col4</th></tr><tr class = \"subheader headerLastRow\"><th class = \"rowNumber\" style = \"font-weight: bold; text-align: right;\"></th><th title = \"Int64\" style = \"text-align: left;\">Int64</th><th title = \"Int64\" style = \"text-align: left;\">Int64</th><th title = \"Union{Missing, Int64}\" style = \"text-align: left;\">Int64?</th><th title = \"Int64\" style = \"text-align: left;\">Int64</th></tr></thead><tbody><tr><td class = \"rowNumber\" style = \"font-weight: bold; text-align: right;\">1</td><td style = \"text-align: right;\">4</td><td style = \"text-align: right;\">5</td><td style = \"font-style: italic; text-align: right;\">missing</td><td style = \"text-align: right;\">162</td></tr><tr><td class = \"rowNumber\" style = \"font-weight: bold; text-align: right;\">2</td><td style = \"text-align: right;\">10</td><td style = \"text-align: right;\">17</td><td style = \"font-style: italic; text-align: right;\">missing</td><td style = \"text-align: right;\">162</td></tr></tbody></table></div>"
      ],
      "text/latex": [
       "\\begin{tabular}{r|cccc}\n",
       "\t& col1 & col2 & col3 & col4\\\\\n",
       "\t\\hline\n",
       "\t& Int64 & Int64 & Int64? & Int64\\\\\n",
       "\t\\hline\n",
       "\t1 & 4 & 5 & \\emph{missing} & 162 \\\\\n",
       "\t2 & 10 & 17 & \\emph{missing} & 162 \\\\\n",
       "\\end{tabular}\n"
      ],
      "text/plain": [
       "\u001b[1m2×4 DataFrame\u001b[0m\n",
       "\u001b[1m Row \u001b[0m│\u001b[1m col1  \u001b[0m\u001b[1m col2  \u001b[0m\u001b[1m col3    \u001b[0m\u001b[1m col4  \u001b[0m\n",
       "     │\u001b[90m Int64 \u001b[0m\u001b[90m Int64 \u001b[0m\u001b[90m Int64?  \u001b[0m\u001b[90m Int64 \u001b[0m\n",
       "─────┼──────────────────────────────\n",
       "   1 │     4      5 \u001b[90m missing \u001b[0m   162\n",
       "   2 │    10     17 \u001b[90m missing \u001b[0m   162"
      ]
     },
     "execution_count": 29,
     "metadata": {},
     "output_type": "execute_result"
    }
   ],
   "source": [
    "filter(x -> any(ismissing, x), X)"
   ]
  },
  {
   "cell_type": "markdown",
   "id": "1fe34e0d",
   "metadata": {},
   "source": [
    "Perform a quick sum of all of the columns in a horizontal fashion - intuitively this would mean summing the entire row, and producing a new sum in the final column of the same row e.g. |1|2|3|6 (final)|. This can be a very quick way of checking whether there are any missing values as the missing values will propogate across!"
   ]
  },
  {
   "cell_type": "markdown",
   "id": "155e41d7",
   "metadata": {},
   "source": [
    "In R;\n",
    "```R\n",
    "colSums(is.na(data))\n",
    "```"
   ]
  },
  {
   "cell_type": "markdown",
   "id": "cd672804",
   "metadata": {},
   "source": [
    "In Julia"
   ]
  },
  {
   "cell_type": "code",
   "execution_count": 30,
   "id": "322ebfbf",
   "metadata": {},
   "outputs": [
    {
     "data": {
      "text/plain": [
       "5-element Vector{Union{Missing, Int64}}:\n",
       "    missing\n",
       " 224\n",
       " 170\n",
       "    missing\n",
       " 190"
      ]
     },
     "execution_count": 30,
     "metadata": {},
     "output_type": "execute_result"
    }
   ],
   "source": [
    "sum(eachcol(X))"
   ]
  },
  {
   "cell_type": "markdown",
   "id": "c934feb2",
   "metadata": {},
   "source": [
    "In Julia if we want to actually sum the entire column, meaning every value in the column vertically, we can collect the column and then sum it OR we can just performing broadcasting using the sum function - fascinating but easily confusing! "
   ]
  },
  {
   "cell_type": "code",
   "execution_count": 31,
   "id": "39654022",
   "metadata": {},
   "outputs": [
    {
     "data": {
      "text/plain": [
       "4-element Vector{Union{Missing, Int64}}:\n",
       "  48\n",
       "  68\n",
       "    missing\n",
       " 798"
      ]
     },
     "execution_count": 31,
     "metadata": {},
     "output_type": "execute_result"
    }
   ],
   "source": [
    "sum.(collect(eachcol(X)))"
   ]
  },
  {
   "cell_type": "code",
   "execution_count": 32,
   "id": "0a72506e",
   "metadata": {},
   "outputs": [
    {
     "data": {
      "text/plain": [
       "4-element Vector{Union{Missing, Int64}}:\n",
       "  48\n",
       "  68\n",
       "    missing\n",
       " 798"
      ]
     },
     "execution_count": 32,
     "metadata": {},
     "output_type": "execute_result"
    }
   ],
   "source": [
    "sum.(eachcol(X))"
   ]
  },
  {
   "cell_type": "markdown",
   "id": "dc2f5e11",
   "metadata": {},
   "source": [
    "There is an equivalent operation by using the broadcasting over **eachrow()**"
   ]
  },
  {
   "cell_type": "code",
   "execution_count": 33,
   "id": "ed086cbb",
   "metadata": {},
   "outputs": [
    {
     "data": {
      "text/plain": [
       "5-element Vector{Union{Missing, Int64}}:\n",
       "    missing\n",
       " 224\n",
       " 170\n",
       "    missing\n",
       " 190"
      ]
     },
     "execution_count": 33,
     "metadata": {},
     "output_type": "execute_result"
    }
   ],
   "source": [
    "sum.(eachrow(X))"
   ]
  },
  {
   "cell_type": "markdown",
   "id": "e2c707b6",
   "metadata": {},
   "source": [
    "If we want to skip missing values when doing these operations we would broadcasting **skipmissing()** across"
   ]
  },
  {
   "cell_type": "code",
   "execution_count": 34,
   "id": "8cad9af3",
   "metadata": {},
   "outputs": [
    {
     "data": {
      "text/plain": [
       "5-element Vector{Int64}:\n",
       " 171\n",
       " 224\n",
       " 170\n",
       " 189\n",
       " 190"
      ]
     },
     "execution_count": 34,
     "metadata": {},
     "output_type": "execute_result"
    }
   ],
   "source": [
    "sum.(skipmissing.(eachrow(X)))"
   ]
  },
  {
   "cell_type": "markdown",
   "id": "e8eca9b7",
   "metadata": {},
   "source": [
    "### Subsetting the dataframe based upon values in the columns\n",
    "Say for example that we only want the data which have a specific zipcode (generic value) in a column, what can we do? In R;\n",
    "```R\n",
    "data[data$zipCode %in% c(\"4109\", \"4110\"),] \n",
    "```"
   ]
  },
  {
   "cell_type": "markdown",
   "id": "f732d8b5",
   "metadata": {},
   "source": [
    "In Julia - get a dataframe in which the values in the first column are 1 "
   ]
  },
  {
   "cell_type": "code",
   "execution_count": 35,
   "id": "7f8f12a4",
   "metadata": {},
   "outputs": [
    {
     "data": {
      "text/html": [
       "<div><div style = \"float: left;\"><span>0×4 DataFrame</span></div><div style = \"clear: both;\"></div></div><div class = \"data-frame\" style = \"overflow-x: scroll;\"><table class = \"data-frame\" style = \"margin-bottom: 6px;\"><thead><tr class = \"header\"><th class = \"rowNumber\" style = \"font-weight: bold; text-align: right;\">Row</th><th style = \"text-align: left;\">col1</th><th style = \"text-align: left;\">col2</th><th style = \"text-align: left;\">col3</th><th style = \"text-align: left;\">col4</th></tr><tr class = \"subheader headerLastRow\"><th class = \"rowNumber\" style = \"font-weight: bold; text-align: right;\"></th><th title = \"Int64\" style = \"text-align: left;\">Int64</th><th title = \"Int64\" style = \"text-align: left;\">Int64</th><th title = \"Union{Missing, Int64}\" style = \"text-align: left;\">Int64?</th><th title = \"Int64\" style = \"text-align: left;\">Int64</th></tr></thead><tbody></tbody></table></div>"
      ],
      "text/latex": [
       "\\begin{tabular}{r|cccc}\n",
       "\t& col1 & col2 & col3 & col4\\\\\n",
       "\t\\hline\n",
       "\t& Int64 & Int64 & Int64? & Int64\\\\\n",
       "\t\\hline\n",
       "\\end{tabular}\n"
      ],
      "text/plain": [
       "\u001b[1m0×4 DataFrame\u001b[0m\n",
       "\u001b[1m Row \u001b[0m│\u001b[1m col1  \u001b[0m\u001b[1m col2  \u001b[0m\u001b[1m col3   \u001b[0m\u001b[1m col4  \u001b[0m\n",
       "     │\u001b[90m Int64 \u001b[0m\u001b[90m Int64 \u001b[0m\u001b[90m Int64? \u001b[0m\u001b[90m Int64 \u001b[0m\n",
       "─────┴─────────────────────────────"
      ]
     },
     "execution_count": 35,
     "metadata": {},
     "output_type": "execute_result"
    }
   ],
   "source": [
    "filter(row -> row.col1 == 1, X)"
   ]
  },
  {
   "cell_type": "markdown",
   "id": "8f2b56c0",
   "metadata": {},
   "source": [
    "Now another one wherein the values are larger and 1 and smaller than 15"
   ]
  },
  {
   "cell_type": "code",
   "execution_count": 36,
   "id": "91e6d480",
   "metadata": {},
   "outputs": [
    {
     "data": {
      "text/html": [
       "<div><div style = \"float: left;\"><span>4×4 DataFrame</span></div><div style = \"clear: both;\"></div></div><div class = \"data-frame\" style = \"overflow-x: scroll;\"><table class = \"data-frame\" style = \"margin-bottom: 6px;\"><thead><tr class = \"header\"><th class = \"rowNumber\" style = \"font-weight: bold; text-align: right;\">Row</th><th style = \"text-align: left;\">col1</th><th style = \"text-align: left;\">col2</th><th style = \"text-align: left;\">col3</th><th style = \"text-align: left;\">col4</th></tr><tr class = \"subheader headerLastRow\"><th class = \"rowNumber\" style = \"font-weight: bold; text-align: right;\"></th><th title = \"Int64\" style = \"text-align: left;\">Int64</th><th title = \"Int64\" style = \"text-align: left;\">Int64</th><th title = \"Union{Missing, Int64}\" style = \"text-align: left;\">Int64?</th><th title = \"Int64\" style = \"text-align: left;\">Int64</th></tr></thead><tbody><tr><td class = \"rowNumber\" style = \"font-weight: bold; text-align: right;\">1</td><td style = \"text-align: right;\">4</td><td style = \"text-align: right;\">5</td><td style = \"font-style: italic; text-align: right;\">missing</td><td style = \"text-align: right;\">162</td></tr><tr><td class = \"rowNumber\" style = \"font-weight: bold; text-align: right;\">2</td><td style = \"text-align: right;\">6</td><td style = \"text-align: right;\">22</td><td style = \"text-align: right;\">21</td><td style = \"text-align: right;\">175</td></tr><tr><td class = \"rowNumber\" style = \"font-weight: bold; text-align: right;\">3</td><td style = \"text-align: right;\">9</td><td style = \"text-align: right;\">9</td><td style = \"text-align: right;\">4</td><td style = \"text-align: right;\">148</td></tr><tr><td class = \"rowNumber\" style = \"font-weight: bold; text-align: right;\">4</td><td style = \"text-align: right;\">10</td><td style = \"text-align: right;\">17</td><td style = \"font-style: italic; text-align: right;\">missing</td><td style = \"text-align: right;\">162</td></tr></tbody></table></div>"
      ],
      "text/latex": [
       "\\begin{tabular}{r|cccc}\n",
       "\t& col1 & col2 & col3 & col4\\\\\n",
       "\t\\hline\n",
       "\t& Int64 & Int64 & Int64? & Int64\\\\\n",
       "\t\\hline\n",
       "\t1 & 4 & 5 & \\emph{missing} & 162 \\\\\n",
       "\t2 & 6 & 22 & 21 & 175 \\\\\n",
       "\t3 & 9 & 9 & 4 & 148 \\\\\n",
       "\t4 & 10 & 17 & \\emph{missing} & 162 \\\\\n",
       "\\end{tabular}\n"
      ],
      "text/plain": [
       "\u001b[1m4×4 DataFrame\u001b[0m\n",
       "\u001b[1m Row \u001b[0m│\u001b[1m col1  \u001b[0m\u001b[1m col2  \u001b[0m\u001b[1m col3    \u001b[0m\u001b[1m col4  \u001b[0m\n",
       "     │\u001b[90m Int64 \u001b[0m\u001b[90m Int64 \u001b[0m\u001b[90m Int64?  \u001b[0m\u001b[90m Int64 \u001b[0m\n",
       "─────┼──────────────────────────────\n",
       "   1 │     4      5 \u001b[90m missing \u001b[0m   162\n",
       "   2 │     6     22       21    175\n",
       "   3 │     9      9        4    148\n",
       "   4 │    10     17 \u001b[90m missing \u001b[0m   162"
      ]
     },
     "execution_count": 36,
     "metadata": {},
     "output_type": "execute_result"
    }
   ],
   "source": [
    "filter(row -> row.col1 > 1 && row.col1 < 15, X)"
   ]
  },
  {
   "cell_type": "markdown",
   "id": "9a37d378",
   "metadata": {},
   "source": [
    "## Cross Tabulation aka Frequency Tables\n",
    "In order provide small snapshots of potential interactions and relations, we can see cross-tabulation or frequency comparisons between variables, say, male and female and acceptance rates to university     "
   ]
  },
  {
   "cell_type": "markdown",
   "id": "8fb0b205",
   "metadata": {},
   "source": [
    "In R we have some base functions;\n",
    "```R\n",
    "xt <- xtabs(Freq ~ Gender + Admit, data=DF)\n",
    "```"
   ]
  },
  {
   "cell_type": "markdown",
   "id": "32c20ba8",
   "metadata": {},
   "source": [
    "In Julia we have to load a specific package called **FreqTables** https://github.com/nalimilan/FreqTables.jl"
   ]
  },
  {
   "cell_type": "code",
   "execution_count": 37,
   "id": "3541a1e5",
   "metadata": {
    "collapsed": true,
    "jupyter": {
     "outputs_hidden": true
    }
   },
   "outputs": [
    {
     "name": "stderr",
     "output_type": "stream",
     "text": [
      "\u001b[32m\u001b[1m    Updating\u001b[22m\u001b[39m registry at `~/.julia/registries/General.toml`\n",
      "\u001b[32m\u001b[1m   Resolving\u001b[22m\u001b[39m package versions...\n",
      "\u001b[32m\u001b[1m  No Changes\u001b[22m\u001b[39m to `~/.julia/environments/v1.10/Project.toml`\n",
      "\u001b[32m\u001b[1m  No Changes\u001b[22m\u001b[39m to `~/.julia/environments/v1.10/Manifest.toml`\n"
     ]
    }
   ],
   "source": [
    "using Pkg; Pkg.add(\"FreqTables\") ; using FreqTables"
   ]
  },
  {
   "cell_type": "markdown",
   "id": "11414754",
   "metadata": {},
   "source": [
    "Do a frequency table between columns 1 and 4 - clearly there is not much here to see given both are randomly generated vectors"
   ]
  },
  {
   "cell_type": "code",
   "execution_count": 38,
   "id": "a4ca5917",
   "metadata": {},
   "outputs": [
    {
     "data": {
      "text/plain": [
       "5×4 Named Matrix{Int64}\n",
       "col1 ╲ col4 │ 148  151  162  175\n",
       "────────────┼───────────────────\n",
       "4           │   0    0    1    0\n",
       "6           │   0    0    0    1\n",
       "9           │   1    0    0    0\n",
       "10          │   0    0    1    0\n",
       "19          │   0    1    0    0"
      ]
     },
     "execution_count": 38,
     "metadata": {},
     "output_type": "execute_result"
    }
   ],
   "source": [
    "freqtable(X, :col1, :col4)"
   ]
  },
  {
   "cell_type": "markdown",
   "id": "9d887527",
   "metadata": {},
   "source": [
    "## Size of the data in human readable form \n",
    "Very simple and yet very informative information - how big is our data?\n",
    "In R;\n",
    "```R\n",
    "object.size(data), units=\"Mb\")\n",
    "```"
   ]
  },
  {
   "cell_type": "markdown",
   "id": "fe322927",
   "metadata": {},
   "source": [
    "In Julia, we can use **varinfo()**"
   ]
  },
  {
   "cell_type": "markdown",
   "id": "38475acb",
   "metadata": {},
   "source": [
    "## Creating New Variables\n",
    "Often our datasets may consist of variables and values which we need to prune, transform and mould to our likings - perhaps they have broken delimiters, or are a combination of two values in ones, or are better represented in a different form - and so on. These tasks require us to create new variables and add these to the dataset - remember that we should always keep copies of the original dataset and not simply mutate it into oblivion. "
   ]
  },
  {
   "cell_type": "markdown",
   "id": "a9ef7183",
   "metadata": {},
   "source": [
    "Let's take some restaurant data from Baltimore city to use as the sample dataset"
   ]
  },
  {
   "cell_type": "code",
   "execution_count": 39,
   "id": "50f94e32",
   "metadata": {},
   "outputs": [
    {
     "data": {
      "text/plain": [
       "\"restaurants.csv\""
      ]
     },
     "execution_count": 39,
     "metadata": {},
     "output_type": "execute_result"
    }
   ],
   "source": [
    "download(\"https://gist.githubusercontent.com/slowteetoe/528c78213fcd80f05419/raw/e0a4a89476fca79e692df1a373e5025f5112a5f6/restaurants.csv\", \"restaurants.csv\") "
   ]
  },
  {
   "cell_type": "code",
   "execution_count": 40,
   "id": "0834e918",
   "metadata": {
    "collapsed": true,
    "jupyter": {
     "outputs_hidden": true
    }
   },
   "outputs": [
    {
     "data": {
      "text/html": [
       "<div><div style = \"float: left;\"><span>1327×6 DataFrame</span></div><div style = \"float: right;\"><span style = \"font-style: italic;\">1302 rows omitted</span></div><div style = \"clear: both;\"></div></div><div class = \"data-frame\" style = \"overflow-x: scroll;\"><table class = \"data-frame\" style = \"margin-bottom: 6px;\"><thead><tr class = \"header\"><th class = \"rowNumber\" style = \"font-weight: bold; text-align: right;\">Row</th><th style = \"text-align: left;\">name</th><th style = \"text-align: left;\">zipCode</th><th style = \"text-align: left;\">neighborhood</th><th style = \"text-align: left;\">councilDistrict</th><th style = \"text-align: left;\">policeDistrict</th><th style = \"text-align: left;\">Location 1</th></tr><tr class = \"subheader headerLastRow\"><th class = \"rowNumber\" style = \"font-weight: bold; text-align: right;\"></th><th title = \"String\" style = \"text-align: left;\">String</th><th title = \"Int64\" style = \"text-align: left;\">Int64</th><th title = \"String\" style = \"text-align: left;\">String</th><th title = \"Int64\" style = \"text-align: left;\">Int64</th><th title = \"String15\" style = \"text-align: left;\">String15</th><th title = \"String\" style = \"text-align: left;\">String</th></tr></thead><tbody><tr><td class = \"rowNumber\" style = \"font-weight: bold; text-align: right;\">1</td><td style = \"text-align: left;\">410</td><td style = \"text-align: right;\">21206</td><td style = \"text-align: left;\">Frankford</td><td style = \"text-align: right;\">2</td><td style = \"text-align: left;\">NORTHEASTERN</td><td style = \"text-align: left;\">4509 BELAIR ROAD\\nBaltimore, MD\\n</td></tr><tr><td class = \"rowNumber\" style = \"font-weight: bold; text-align: right;\">2</td><td style = \"text-align: left;\">1919</td><td style = \"text-align: right;\">21231</td><td style = \"text-align: left;\">Fells Point</td><td style = \"text-align: right;\">1</td><td style = \"text-align: left;\">SOUTHEASTERN</td><td style = \"text-align: left;\">1919 FLEET ST\\nBaltimore, MD\\n</td></tr><tr><td class = \"rowNumber\" style = \"font-weight: bold; text-align: right;\">3</td><td style = \"text-align: left;\">SAUTE</td><td style = \"text-align: right;\">21224</td><td style = \"text-align: left;\">Canton</td><td style = \"text-align: right;\">1</td><td style = \"text-align: left;\">SOUTHEASTERN</td><td style = \"text-align: left;\">2844 HUDSON ST\\nBaltimore, MD\\n</td></tr><tr><td class = \"rowNumber\" style = \"font-weight: bold; text-align: right;\">4</td><td style = \"text-align: left;\">#1 CHINESE KITCHEN</td><td style = \"text-align: right;\">21211</td><td style = \"text-align: left;\">Hampden</td><td style = \"text-align: right;\">14</td><td style = \"text-align: left;\">NORTHERN</td><td style = \"text-align: left;\">3998 ROLAND AVE\\nBaltimore, MD\\n</td></tr><tr><td class = \"rowNumber\" style = \"font-weight: bold; text-align: right;\">5</td><td style = \"text-align: left;\">#1 chinese restaurant</td><td style = \"text-align: right;\">21223</td><td style = \"text-align: left;\">Millhill</td><td style = \"text-align: right;\">9</td><td style = \"text-align: left;\">SOUTHWESTERN</td><td style = \"text-align: left;\">2481 frederick ave\\nBaltimore, MD\\n</td></tr><tr><td class = \"rowNumber\" style = \"font-weight: bold; text-align: right;\">6</td><td style = \"text-align: left;\">19TH HOLE</td><td style = \"text-align: right;\">21218</td><td style = \"text-align: left;\">Clifton Park</td><td style = \"text-align: right;\">14</td><td style = \"text-align: left;\">NORTHEASTERN</td><td style = \"text-align: left;\">2722 HARFORD RD\\nBaltimore, MD\\n</td></tr><tr><td class = \"rowNumber\" style = \"font-weight: bold; text-align: right;\">7</td><td style = \"text-align: left;\">3 KINGS</td><td style = \"text-align: right;\">21205</td><td style = \"text-align: left;\">McElderry Park</td><td style = \"text-align: right;\">13</td><td style = \"text-align: left;\">SOUTHEASTERN</td><td style = \"text-align: left;\">2510 MCELDERRY ST\\nBaltimore, MD\\n</td></tr><tr><td class = \"rowNumber\" style = \"font-weight: bold; text-align: right;\">8</td><td style = \"text-align: left;\">3 MILES HOUSE, INC.</td><td style = \"text-align: right;\">21211</td><td style = \"text-align: left;\">Remington</td><td style = \"text-align: right;\">7</td><td style = \"text-align: left;\">NORTHERN</td><td style = \"text-align: left;\">2701 MILES AVE\\nBaltimore, MD\\n</td></tr><tr><td class = \"rowNumber\" style = \"font-weight: bold; text-align: right;\">9</td><td style = \"text-align: left;\">3 W&apos;S TAVERN</td><td style = \"text-align: right;\">21205</td><td style = \"text-align: left;\">McElderry Park</td><td style = \"text-align: right;\">13</td><td style = \"text-align: left;\">SOUTHEASTERN</td><td style = \"text-align: left;\">2518 MONUMENT ST\\nBaltimore, MD\\n</td></tr><tr><td class = \"rowNumber\" style = \"font-weight: bold; text-align: right;\">10</td><td style = \"text-align: left;\">300 SOUTH ANN STREET</td><td style = \"text-align: right;\">21231</td><td style = \"text-align: left;\">Upper Fells Point</td><td style = \"text-align: right;\">1</td><td style = \"text-align: left;\">SOUTHEASTERN</td><td style = \"text-align: left;\">300 ANN ST\\nBaltimore, MD\\n</td></tr><tr><td class = \"rowNumber\" style = \"font-weight: bold; text-align: right;\">11</td><td style = \"text-align: left;\">438 CLUB</td><td style = \"text-align: right;\">21226</td><td style = \"text-align: left;\">Curtis Bay</td><td style = \"text-align: right;\">10</td><td style = \"text-align: left;\">SOUTHERN</td><td style = \"text-align: left;\">1600 HAZEL ST\\nBaltimore, MD\\n</td></tr><tr><td class = \"rowNumber\" style = \"font-weight: bold; text-align: right;\">12</td><td style = \"text-align: left;\">5-MILE HOUSE</td><td style = \"text-align: right;\">21215</td><td style = \"text-align: left;\">Woodmere</td><td style = \"text-align: right;\">5</td><td style = \"text-align: left;\">NORTHWESTERN</td><td style = \"text-align: left;\">5302 REISTERSTOWN RD\\nBaltimore, MD\\n</td></tr><tr><td class = \"rowNumber\" style = \"font-weight: bold; text-align: right;\">13</td><td style = \"text-align: left;\">743 S. MONTFORD,INC.</td><td style = \"text-align: right;\">21224</td><td style = \"text-align: left;\">Canton</td><td style = \"text-align: right;\">1</td><td style = \"text-align: left;\">SOUTHEASTERN</td><td style = \"text-align: left;\">743 MONTFORD ST\\nBaltimore, MD\\n</td></tr><tr><td style = \"text-align: right;\">&vellip;</td><td style = \"text-align: right;\">&vellip;</td><td style = \"text-align: right;\">&vellip;</td><td style = \"text-align: right;\">&vellip;</td><td style = \"text-align: right;\">&vellip;</td><td style = \"text-align: right;\">&vellip;</td><td style = \"text-align: right;\">&vellip;</td></tr><tr><td class = \"rowNumber\" style = \"font-weight: bold; text-align: right;\">1316</td><td style = \"text-align: left;\">YELLOW BOWL CAF\\u90</td><td style = \"text-align: right;\">21201</td><td style = \"text-align: left;\">Johnston Square</td><td style = \"text-align: right;\">12</td><td style = \"text-align: left;\">EASTERN</td><td style = \"text-align: left;\">1234 GREENMOUNT AVE\\nBaltimore, MD\\n</td></tr><tr><td class = \"rowNumber\" style = \"font-weight: bold; text-align: right;\">1317</td><td style = \"text-align: left;\">YELLOW BOWL RESTAURANT II</td><td style = \"text-align: right;\">21215</td><td style = \"text-align: left;\">Central Park Heights</td><td style = \"text-align: right;\">6</td><td style = \"text-align: left;\">NORTHWESTERN</td><td style = \"text-align: left;\">5131 PARK HEIGHTS AVE\\nBaltimore, MD\\n</td></tr><tr><td class = \"rowNumber\" style = \"font-weight: bold; text-align: right;\">1318</td><td style = \"text-align: left;\">YELLOW DOG TAVERN</td><td style = \"text-align: right;\">21224</td><td style = \"text-align: left;\">Canton</td><td style = \"text-align: right;\">1</td><td style = \"text-align: left;\">SOUTHEASTERN</td><td style = \"text-align: left;\">700 POTOMAC ST\\nBaltimore, MD\\n</td></tr><tr><td class = \"rowNumber\" style = \"font-weight: bold; text-align: right;\">1319</td><td style = \"text-align: left;\">YETI RESTAURANT &amp; CARRYOUT</td><td style = \"text-align: right;\">21212</td><td style = \"text-align: left;\">Rosebank</td><td style = \"text-align: right;\">4</td><td style = \"text-align: left;\">NORTHERN</td><td style = \"text-align: left;\">5926 YORK RD\\nBaltimore, MD\\n</td></tr><tr><td class = \"rowNumber\" style = \"font-weight: bold; text-align: right;\">1320</td><td style = \"text-align: left;\">YORK CLUB TAVERN</td><td style = \"text-align: right;\">21212</td><td style = \"text-align: left;\">Homeland</td><td style = \"text-align: right;\">4</td><td style = \"text-align: left;\">NORTHERN</td><td style = \"text-align: left;\">5407 YORK RD\\nBaltimore, MD\\n</td></tr><tr><td class = \"rowNumber\" style = \"font-weight: bold; text-align: right;\">1321</td><td style = \"text-align: left;\">YOUNG&apos;S PLACE</td><td style = \"text-align: right;\">21231</td><td style = \"text-align: left;\">Middle East</td><td style = \"text-align: right;\">13</td><td style = \"text-align: left;\">SOUTHEASTERN</td><td style = \"text-align: left;\">2200 FAYETTE ST\\nBaltimore, MD\\n</td></tr><tr><td class = \"rowNumber\" style = \"font-weight: bold; text-align: right;\">1322</td><td style = \"text-align: left;\">ZEEBA LOUNGE</td><td style = \"text-align: right;\">21230</td><td style = \"text-align: left;\">Federal Hill</td><td style = \"text-align: right;\">10</td><td style = \"text-align: left;\">SOUTHERN</td><td style = \"text-align: left;\">916 LIGHT ST\\nBaltimore, MD\\n</td></tr><tr><td class = \"rowNumber\" style = \"font-weight: bold; text-align: right;\">1323</td><td style = \"text-align: left;\">ZEN WEST ROADSIDE CANTINA</td><td style = \"text-align: right;\">21212</td><td style = \"text-align: left;\">Rosebank</td><td style = \"text-align: right;\">4</td><td style = \"text-align: left;\">NORTHERN</td><td style = \"text-align: left;\">5916 YORK RD\\nBaltimore, MD\\n</td></tr><tr><td class = \"rowNumber\" style = \"font-weight: bold; text-align: right;\">1324</td><td style = \"text-align: left;\">ZIASCOS</td><td style = \"text-align: right;\">21231</td><td style = \"text-align: left;\">Washington Hill</td><td style = \"text-align: right;\">1</td><td style = \"text-align: left;\">SOUTHEASTERN</td><td style = \"text-align: left;\">1313 PRATT ST\\nBaltimore, MD\\n</td></tr><tr><td class = \"rowNumber\" style = \"font-weight: bold; text-align: right;\">1325</td><td style = \"text-align: left;\">ZINK&apos;S CAF\\u90</td><td style = \"text-align: right;\">21213</td><td style = \"text-align: left;\">Belair-Edison</td><td style = \"text-align: right;\">13</td><td style = \"text-align: left;\">NORTHEASTERN</td><td style = \"text-align: left;\">3300 LAWNVIEW AVE\\nBaltimore, MD\\n</td></tr><tr><td class = \"rowNumber\" style = \"font-weight: bold; text-align: right;\">1326</td><td style = \"text-align: left;\">ZISSIMOS BAR</td><td style = \"text-align: right;\">21211</td><td style = \"text-align: left;\">Hampden</td><td style = \"text-align: right;\">7</td><td style = \"text-align: left;\">NORTHERN</td><td style = \"text-align: left;\">1023 36TH ST\\nBaltimore, MD\\n</td></tr><tr><td class = \"rowNumber\" style = \"font-weight: bold; text-align: right;\">1327</td><td style = \"text-align: left;\">ZORBAS</td><td style = \"text-align: right;\">21224</td><td style = \"text-align: left;\">Greektown</td><td style = \"text-align: right;\">2</td><td style = \"text-align: left;\">SOUTHEASTERN</td><td style = \"text-align: left;\">4710 EASTERN Ave\\nBaltimore, MD\\n</td></tr></tbody></table></div>"
      ],
      "text/latex": [
       "\\begin{tabular}{r|cccccc}\n",
       "\t& name & zipCode & neighborhood & councilDistrict & policeDistrict & \\\\\n",
       "\t\\hline\n",
       "\t& String & Int64 & String & Int64 & String15 & \\\\\n",
       "\t\\hline\n",
       "\t1 & 410 & 21206 & Frankford & 2 & NORTHEASTERN & $\\dots$ \\\\\n",
       "\t2 & 1919 & 21231 & Fells Point & 1 & SOUTHEASTERN & $\\dots$ \\\\\n",
       "\t3 & SAUTE & 21224 & Canton & 1 & SOUTHEASTERN & $\\dots$ \\\\\n",
       "\t4 & \\#1 CHINESE KITCHEN & 21211 & Hampden & 14 & NORTHERN & $\\dots$ \\\\\n",
       "\t5 & \\#1 chinese restaurant & 21223 & Millhill & 9 & SOUTHWESTERN & $\\dots$ \\\\\n",
       "\t6 & 19TH HOLE & 21218 & Clifton Park & 14 & NORTHEASTERN & $\\dots$ \\\\\n",
       "\t7 & 3 KINGS & 21205 & McElderry Park & 13 & SOUTHEASTERN & $\\dots$ \\\\\n",
       "\t8 & 3 MILES HOUSE, INC. & 21211 & Remington & 7 & NORTHERN & $\\dots$ \\\\\n",
       "\t9 & 3 W'S TAVERN & 21205 & McElderry Park & 13 & SOUTHEASTERN & $\\dots$ \\\\\n",
       "\t10 & 300 SOUTH ANN STREET & 21231 & Upper Fells Point & 1 & SOUTHEASTERN & $\\dots$ \\\\\n",
       "\t11 & 438 CLUB & 21226 & Curtis Bay & 10 & SOUTHERN & $\\dots$ \\\\\n",
       "\t12 & 5-MILE HOUSE & 21215 & Woodmere & 5 & NORTHWESTERN & $\\dots$ \\\\\n",
       "\t13 & 743 S. MONTFORD,INC. & 21224 & Canton & 1 & SOUTHEASTERN & $\\dots$ \\\\\n",
       "\t14 & A \\& W RESTAURANT & 21224 & Pulaski Industrial Area & 1 & SOUTHEASTERN & $\\dots$ \\\\\n",
       "\t15 & A TASTE OF CHINA & 21202 & Downtown & 11 & CENTRAL & $\\dots$ \\\\\n",
       "\t16 & ABACROMBIE FINE FOODS & 21201 & Mid-Town Belvedere & 11 & CENTRAL & $\\dots$ \\\\\n",
       "\t17 & ABC SUSHI & 21205 & Middle East & 13 & EASTERN & $\\dots$ \\\\\n",
       "\t18 & ACROPOLIS RESTAURANT & 21224 & Greektown & 2 & SOUTHEASTERN & $\\dots$ \\\\\n",
       "\t19 & ADMIRAL FELL INN & 21231 & Fells Point & 1 & SOUTHEASTERN & $\\dots$ \\\\\n",
       "\t20 & AG \\& HARP'S & 21230 & Morrell Park & 10 & SOUTHWESTERN & $\\dots$ \\\\\n",
       "\t21 & AIRPORT BAR \\& GRILL, INC. & 21222 & Saint Helena & 1 & SOUTHEASTERN & $\\dots$ \\\\\n",
       "\t22 & AKBAR RESTAURANT & 21201 & Mount Vernon & 11 & CENTRAL & $\\dots$ \\\\\n",
       "\t23 & AKDEY SUBWAY, INC. & 21223 & Millhill & 9 & SOUTHWESTERN & $\\dots$ \\\\\n",
       "\t24 & ALDO'S   RESTAURANT & 21202 & Little Italy & 1 & SOUTHEASTERN & $\\dots$ \\\\\n",
       "\t25 & ALE MARY'S & 21231 & Fells Point & 1 & SOUTHEASTERN & $\\dots$ \\\\\n",
       "\t26 & ALEXANDER'S TAVERN & 21231 & Fells Point & 1 & SOUTHEASTERN & $\\dots$ \\\\\n",
       "\t27 & ALFEO'S & 21215 & Mondawmin & 7 & WESTERN & $\\dots$ \\\\\n",
       "\t28 & AL-HO CLUB & 21223 & Booth-Boyd & 9 & SOUTHWESTERN & $\\dots$ \\\\\n",
       "\t29 & BAY ATLANTIC CLUB & 21212 & Downtown & 11 & CENTRAL & $\\dots$ \\\\\n",
       "\t30 & BAY CAFE & 21224 & Canton & 1 & SOUTHEASTERN & $\\dots$ \\\\\n",
       "\t$\\dots$ & $\\dots$ & $\\dots$ & $\\dots$ & $\\dots$ & $\\dots$ &  \\\\\n",
       "\\end{tabular}\n"
      ],
      "text/plain": [
       "\u001b[1m1327×6 DataFrame\u001b[0m\n",
       "\u001b[1m  Row \u001b[0m│\u001b[1m name                       \u001b[0m\u001b[1m zipCode \u001b[0m\u001b[1m neighborhood            \u001b[0m\u001b[1m councilD\u001b[0m ⋯\n",
       "      │\u001b[90m String                     \u001b[0m\u001b[90m Int64   \u001b[0m\u001b[90m String                  \u001b[0m\u001b[90m Int64   \u001b[0m ⋯\n",
       "──────┼─────────────────────────────────────────────────────────────────────────\n",
       "    1 │ 410                           21206  Frankford                         ⋯\n",
       "    2 │ 1919                          21231  Fells Point\n",
       "    3 │ SAUTE                         21224  Canton\n",
       "    4 │ #1 CHINESE KITCHEN            21211  Hampden\n",
       "    5 │ #1 chinese restaurant         21223  Millhill                          ⋯\n",
       "    6 │ 19TH HOLE                     21218  Clifton Park\n",
       "    7 │ 3 KINGS                       21205  McElderry Park\n",
       "    8 │ 3 MILES HOUSE, INC.           21211  Remington\n",
       "    9 │ 3 W'S TAVERN                  21205  McElderry Park                    ⋯\n",
       "   10 │ 300 SOUTH ANN STREET          21231  Upper Fells Point\n",
       "   11 │ 438 CLUB                      21226  Curtis Bay\n",
       "  ⋮   │             ⋮                  ⋮                ⋮                    ⋮ ⋱\n",
       " 1318 │ YELLOW DOG TAVERN             21224  Canton\n",
       " 1319 │ YETI RESTAURANT & CARRYOUT    21212  Rosebank                          ⋯\n",
       " 1320 │ YORK CLUB TAVERN              21212  Homeland\n",
       " 1321 │ YOUNG'S PLACE                 21231  Middle East\n",
       " 1322 │ ZEEBA LOUNGE                  21230  Federal Hill\n",
       " 1323 │ ZEN WEST ROADSIDE CANTINA     21212  Rosebank                          ⋯\n",
       " 1324 │ ZIASCOS                       21231  Washington Hill\n",
       " 1325 │ ZINK'S CAF\\u90                21213  Belair-Edison\n",
       " 1326 │ ZISSIMOS BAR                  21211  Hampden\n",
       " 1327 │ ZORBAS                        21224  Greektown                         ⋯\n",
       "\u001b[36m                                                 3 columns and 1306 rows omitted\u001b[0m"
      ]
     },
     "execution_count": 40,
     "metadata": {},
     "output_type": "execute_result"
    }
   ],
   "source": [
    "rest_data = CSV.File(\"restaurants.csv\") |> DataFrame\n",
    "# We can also do \n",
    "# CSV.read(open(\"file.csv\"), DataFrame)"
   ]
  },
  {
   "cell_type": "markdown",
   "id": "fd98127d",
   "metadata": {},
   "source": [
    "### Creating sequences \n",
    "We can create sequences to use as indexes for extracting data e.g. \n",
    "`rest_data[index sequence]`  "
   ]
  },
  {
   "cell_type": "markdown",
   "id": "ef90bded",
   "metadata": {},
   "source": [
    "In R we can create a sequence of intergers which a step size of 2 by ;\n",
    "```R\n",
    "seq_one <- seq(1,10, by=2)\n",
    "```\n",
    "or also using the **c()** collect function \n",
    "```R\n",
    "seq_c <- c(1,3,8,25,100) ; seq(along = x)\n",
    "``` "
   ]
  },
  {
   "cell_type": "markdown",
   "id": "3db955ba",
   "metadata": {},
   "source": [
    "In Julia we can do it using **collect()** function as well - with the ranges on either side and the step size in the middle"
   ]
  },
  {
   "cell_type": "code",
   "execution_count": 41,
   "id": "1a7829d3",
   "metadata": {},
   "outputs": [
    {
     "data": {
      "text/plain": [
       "4-element Vector{Int64}:\n",
       "  1\n",
       "  4\n",
       "  7\n",
       " 10"
      ]
     },
     "execution_count": 41,
     "metadata": {},
     "output_type": "execute_result"
    }
   ],
   "source": [
    "seq_one = collect(1:3:10)"
   ]
  },
  {
   "cell_type": "markdown",
   "id": "455b2401",
   "metadata": {},
   "source": [
    "Or just create a vector directly "
   ]
  },
  {
   "cell_type": "code",
   "execution_count": 42,
   "id": "dd788f1c",
   "metadata": {},
   "outputs": [
    {
     "data": {
      "text/plain": [
       "4-element Vector{Int64}:\n",
       "  1\n",
       "  4\n",
       "  7\n",
       " 10"
      ]
     },
     "execution_count": 42,
     "metadata": {},
     "output_type": "execute_result"
    }
   ],
   "source": [
    "seq_vec = Vector(1:3:10)"
   ]
  },
  {
   "cell_type": "markdown",
   "id": "8eac0ee7",
   "metadata": {},
   "source": [
    "Say we want to create a new variable which indicates whether a certain data meet a certain condition, say, they are in the neighbourhoods of Sunnybank or Sunnybank Hills, and thus they are close to me - and if they meet this condition, they are assigned a \"TRUE\" value or a \"FALSE\" value in a new row - how would we do this?"
   ]
  },
  {
   "cell_type": "markdown",
   "id": "1a4ac533",
   "metadata": {},
   "source": [
    "In R;\n",
    "```R\n",
    "restData$nearMe = restData$neighbourhood %in% c(\"Roland Park\", \"Homeland\")\n",
    "```"
   ]
  },
  {
   "cell_type": "markdown",
   "id": "bb3d420b",
   "metadata": {},
   "source": [
    "In Julia - this is a new one for me! - make sure we use the double encapsulation in the array [[]] otherwise broadcasting won't work "
   ]
  },
  {
   "cell_type": "code",
   "execution_count": 43,
   "id": "655bfd20",
   "metadata": {
    "collapsed": true,
    "jupyter": {
     "outputs_hidden": true
    }
   },
   "outputs": [
    {
     "data": {
      "text/plain": [
       "1327-element BitVector:\n",
       " 0\n",
       " 0\n",
       " 0\n",
       " 0\n",
       " 0\n",
       " 0\n",
       " 0\n",
       " 0\n",
       " 0\n",
       " 0\n",
       " 0\n",
       " 0\n",
       " 0\n",
       " ⋮\n",
       " 0\n",
       " 0\n",
       " 0\n",
       " 0\n",
       " 1\n",
       " 0\n",
       " 0\n",
       " 0\n",
       " 0\n",
       " 0\n",
       " 0\n",
       " 0"
      ]
     },
     "execution_count": 43,
     "metadata": {},
     "output_type": "execute_result"
    }
   ],
   "source": [
    "rest_data.nearMe = in.(rest_data.neighborhood, [[\"Roland Park\", \"Homeland\"]])"
   ]
  },
  {
   "cell_type": "markdown",
   "id": "9d488847",
   "metadata": {},
   "source": [
    "R base has the very handy function table() which creates a nice tally of ones variables and counts them in a neat table output - Julia base doesn't really have this single item function so we have to use the **StatsBase** package and the **countmap()** function"
   ]
  },
  {
   "cell_type": "code",
   "execution_count": 44,
   "id": "0aff3f7e",
   "metadata": {
    "collapsed": true,
    "jupyter": {
     "outputs_hidden": true
    }
   },
   "outputs": [
    {
     "name": "stderr",
     "output_type": "stream",
     "text": [
      "\u001b[32m\u001b[1m   Resolving\u001b[22m\u001b[39m package versions...\n",
      "\u001b[32m\u001b[1m  No Changes\u001b[22m\u001b[39m to `~/.julia/environments/v1.10/Project.toml`\n",
      "\u001b[32m\u001b[1m  No Changes\u001b[22m\u001b[39m to `~/.julia/environments/v1.10/Manifest.toml`\n"
     ]
    }
   ],
   "source": [
    "Pkg.add(\"StatsBase\") ; using StatsBase"
   ]
  },
  {
   "cell_type": "code",
   "execution_count": 45,
   "id": "f226290d",
   "metadata": {},
   "outputs": [
    {
     "name": "stdout",
     "output_type": "stream",
     "text": [
      "Dict{Bool, Int64}(0 => 1314, 1 => 13)\n"
     ]
    }
   ],
   "source": [
    "# 0 = true, 1 = false \n",
    "# perhaps we can convert the 0,1 to TRUE/FALSE?\n",
    "qz = countmap(rest_data.nearMe)\n",
    "println(qz)"
   ]
  },
  {
   "cell_type": "markdown",
   "id": "c8f75319",
   "metadata": {},
   "source": [
    "### Creating binary variables \n",
    "We can use the **ifelse()** function with broadcasting to evaluate a conditonal statement and print true or false in a new variables based upon the answer of the condition. Here we'll do it in R first;\n",
    "```R\n",
    "restData$wrongZip = ifelse(restData$zipCode) < -, TRUE, FALSE) \n",
    "```    \n",
    "And then in Julia"
   ]
  },
  {
   "cell_type": "code",
   "execution_count": 46,
   "id": "0cd1f97f",
   "metadata": {
    "collapsed": true,
    "jupyter": {
     "outputs_hidden": true
    }
   },
   "outputs": [
    {
     "data": {
      "text/plain": [
       "1327-element BitVector:\n",
       " 0\n",
       " 0\n",
       " 0\n",
       " 0\n",
       " 0\n",
       " 0\n",
       " 0\n",
       " 0\n",
       " 0\n",
       " 0\n",
       " 0\n",
       " 0\n",
       " 0\n",
       " ⋮\n",
       " 0\n",
       " 0\n",
       " 0\n",
       " 0\n",
       " 0\n",
       " 0\n",
       " 0\n",
       " 0\n",
       " 0\n",
       " 0\n",
       " 0\n",
       " 0"
      ]
     },
     "execution_count": 46,
     "metadata": {},
     "output_type": "execute_result"
    }
   ],
   "source": [
    "rest_data.wrongZip = ifelse.(rest_data.zipCode .< 0, true, false)"
   ]
  },
  {
   "cell_type": "code",
   "execution_count": 47,
   "id": "8f0f4807",
   "metadata": {},
   "outputs": [
    {
     "data": {
      "text/plain": [
       "Dict{Bool, Int64} with 2 entries:\n",
       "  0 => 1326\n",
       "  1 => 1"
      ]
     },
     "execution_count": 47,
     "metadata": {},
     "output_type": "execute_result"
    }
   ],
   "source": [
    "countmap(rest_data.wrongZip)"
   ]
  },
  {
   "cell_type": "markdown",
   "id": "285bdd48",
   "metadata": {},
   "source": [
    "### Creating categorical variables\n",
    "We may want to summarise certain aspects of our dataset by chunking them into categorical blocks - similar to percentiles. Say we want to get a look at the distribution of gene lengths or zip codes in our dataset, at quartile ranges - we can turn to categorical variables"
   ]
  },
  {
   "cell_type": "markdown",
   "id": "1d4ed36a",
   "metadata": {},
   "source": [
    "Create them in Julia https://categoricalarrays.juliadata.org/v0.1/using.html"
   ]
  },
  {
   "cell_type": "code",
   "execution_count": 48,
   "id": "557f52f7",
   "metadata": {
    "collapsed": true,
    "jupyter": {
     "outputs_hidden": true
    }
   },
   "outputs": [
    {
     "name": "stderr",
     "output_type": "stream",
     "text": [
      "\u001b[32m\u001b[1m   Resolving\u001b[22m\u001b[39m package versions...\n",
      "\u001b[32m\u001b[1m  No Changes\u001b[22m\u001b[39m to `~/.julia/environments/v1.10/Project.toml`\n",
      "\u001b[32m\u001b[1m  No Changes\u001b[22m\u001b[39m to `~/.julia/environments/v1.10/Manifest.toml`\n"
     ]
    }
   ],
   "source": [
    "Pkg.add(\"CategoricalArrays\") ; using CategoricalArrays"
   ]
  },
  {
   "cell_type": "code",
   "execution_count": 49,
   "id": "c2fc00d0",
   "metadata": {},
   "outputs": [
    {
     "data": {
      "text/plain": [
       "5-element CategoricalArray{String,1,UInt32}:\n",
       " \"Q1: [4.0, 6.0)\"\n",
       " \"Q2: [6.0, 9.0)\"\n",
       " \"Q3: [9.0, 10.0)\"\n",
       " \"Q4: [10.0, 19.0]\"\n",
       " \"Q4: [10.0, 19.0]\""
      ]
     },
     "execution_count": 49,
     "metadata": {},
     "output_type": "execute_result"
    }
   ],
   "source": [
    "cut(X.col1, 4)"
   ]
  },
  {
   "cell_type": "code",
   "execution_count": 50,
   "id": "3f7dee40",
   "metadata": {},
   "outputs": [
    {
     "data": {
      "text/plain": [
       "Dict{CategoricalValue{String, UInt32}, Int64} with 4 entries:\n",
       "  \"Q4: [21225.5, 21287.0]\"  => 332\n",
       "  \"Q2: [21202.0, 21218.0)\"  => 507\n",
       "  \"Q3: [21218.0, 21225.5)\"  => 351\n",
       "  \"Q1: [-21226.0, 21202.0)\" => 137"
      ]
     },
     "execution_count": 50,
     "metadata": {},
     "output_type": "execute_result"
    }
   ],
   "source": [
    " countmap(cut(rest_data.zipCode, 4))"
   ]
  },
  {
   "cell_type": "markdown",
   "id": "c67fc91a",
   "metadata": {},
   "source": [
    "In R let's use the **Hmisc** library \n",
    "```R\n",
    "library(Hmisc)\n",
    "restData$zipGroups = cut2(restData$zipCode, g=4)\n",
    "table(restData$zipGroups)\n",
    "```"
   ]
  },
  {
   "cell_type": "markdown",
   "id": "d32a4a98",
   "metadata": {},
   "source": [
    "When we turn our data into Categorical variables, we turn them into factors  "
   ]
  },
  {
   "cell_type": "markdown",
   "id": "767c76d6",
   "metadata": {},
   "source": [
    "### Reshaping data \n",
    "The notions of split-apply-combine are prevalent in data analytics, as they are terrific guiding principles for approaching data frames. They were originally popularised in R and built around R packages, but are now supported by plenty of packages in most high level programming languages. \n",
    "\n",
    "We'll start with R and the basic **reshape2()** library \n",
    "```R\n",
    "library(reshape2)\n",
    "head(mtcars) #standard dataset in R\n",
    "``` "
   ]
  },
  {
   "cell_type": "markdown",
   "id": "6ff2d4ee",
   "metadata": {},
   "source": [
    "We can use some of the popular R datasets in Julia using the **RDatasets.jl** package - as we can see almost everything is supported in Julia"
   ]
  },
  {
   "cell_type": "code",
   "execution_count": 51,
   "id": "c3817ed6",
   "metadata": {
    "collapsed": true,
    "jupyter": {
     "outputs_hidden": true
    }
   },
   "outputs": [
    {
     "name": "stderr",
     "output_type": "stream",
     "text": [
      "\u001b[32m\u001b[1m   Resolving\u001b[22m\u001b[39m package versions...\n",
      "\u001b[32m\u001b[1m  No Changes\u001b[22m\u001b[39m to `~/.julia/environments/v1.10/Project.toml`\n",
      "\u001b[32m\u001b[1m  No Changes\u001b[22m\u001b[39m to `~/.julia/environments/v1.10/Manifest.toml`\n"
     ]
    }
   ],
   "source": [
    "Pkg.add(\"RDatasets\") ; using RDatasets"
   ]
  },
  {
   "cell_type": "markdown",
   "id": "bd5e83e7",
   "metadata": {},
   "source": [
    "Load the mtcars dataset from \"datasets\" "
   ]
  },
  {
   "cell_type": "code",
   "execution_count": 52,
   "id": "06b01446",
   "metadata": {
    "collapsed": true,
    "jupyter": {
     "outputs_hidden": true
    }
   },
   "outputs": [
    {
     "data": {
      "text/html": [
       "<div><div style = \"float: left;\"><span>32×12 DataFrame</span></div><div style = \"float: right;\"><span style = \"font-style: italic;\">7 rows omitted</span></div><div style = \"clear: both;\"></div></div><div class = \"data-frame\" style = \"overflow-x: scroll;\"><table class = \"data-frame\" style = \"margin-bottom: 6px;\"><thead><tr class = \"header\"><th class = \"rowNumber\" style = \"font-weight: bold; text-align: right;\">Row</th><th style = \"text-align: left;\">Model</th><th style = \"text-align: left;\">MPG</th><th style = \"text-align: left;\">Cyl</th><th style = \"text-align: left;\">Disp</th><th style = \"text-align: left;\">HP</th><th style = \"text-align: left;\">DRat</th><th style = \"text-align: left;\">WT</th><th style = \"text-align: left;\">QSec</th><th style = \"text-align: left;\">VS</th><th style = \"text-align: left;\">AM</th><th style = \"text-align: left;\">Gear</th><th style = \"text-align: left;\">Carb</th></tr><tr class = \"subheader headerLastRow\"><th class = \"rowNumber\" style = \"font-weight: bold; text-align: right;\"></th><th title = \"String31\" style = \"text-align: left;\">String31</th><th title = \"Float64\" style = \"text-align: left;\">Float64</th><th title = \"Int64\" style = \"text-align: left;\">Int64</th><th title = \"Float64\" style = \"text-align: left;\">Float64</th><th title = \"Int64\" style = \"text-align: left;\">Int64</th><th title = \"Float64\" style = \"text-align: left;\">Float64</th><th title = \"Float64\" style = \"text-align: left;\">Float64</th><th title = \"Float64\" style = \"text-align: left;\">Float64</th><th title = \"Int64\" style = \"text-align: left;\">Int64</th><th title = \"Int64\" style = \"text-align: left;\">Int64</th><th title = \"Int64\" style = \"text-align: left;\">Int64</th><th title = \"Int64\" style = \"text-align: left;\">Int64</th></tr></thead><tbody><tr><td class = \"rowNumber\" style = \"font-weight: bold; text-align: right;\">1</td><td style = \"text-align: left;\">Mazda RX4</td><td style = \"text-align: right;\">21.0</td><td style = \"text-align: right;\">6</td><td style = \"text-align: right;\">160.0</td><td style = \"text-align: right;\">110</td><td style = \"text-align: right;\">3.9</td><td style = \"text-align: right;\">2.62</td><td style = \"text-align: right;\">16.46</td><td style = \"text-align: right;\">0</td><td style = \"text-align: right;\">1</td><td style = \"text-align: right;\">4</td><td style = \"text-align: right;\">4</td></tr><tr><td class = \"rowNumber\" style = \"font-weight: bold; text-align: right;\">2</td><td style = \"text-align: left;\">Mazda RX4 Wag</td><td style = \"text-align: right;\">21.0</td><td style = \"text-align: right;\">6</td><td style = \"text-align: right;\">160.0</td><td style = \"text-align: right;\">110</td><td style = \"text-align: right;\">3.9</td><td style = \"text-align: right;\">2.875</td><td style = \"text-align: right;\">17.02</td><td style = \"text-align: right;\">0</td><td style = \"text-align: right;\">1</td><td style = \"text-align: right;\">4</td><td style = \"text-align: right;\">4</td></tr><tr><td class = \"rowNumber\" style = \"font-weight: bold; text-align: right;\">3</td><td style = \"text-align: left;\">Datsun 710</td><td style = \"text-align: right;\">22.8</td><td style = \"text-align: right;\">4</td><td style = \"text-align: right;\">108.0</td><td style = \"text-align: right;\">93</td><td style = \"text-align: right;\">3.85</td><td style = \"text-align: right;\">2.32</td><td style = \"text-align: right;\">18.61</td><td style = \"text-align: right;\">1</td><td style = \"text-align: right;\">1</td><td style = \"text-align: right;\">4</td><td style = \"text-align: right;\">1</td></tr><tr><td class = \"rowNumber\" style = \"font-weight: bold; text-align: right;\">4</td><td style = \"text-align: left;\">Hornet 4 Drive</td><td style = \"text-align: right;\">21.4</td><td style = \"text-align: right;\">6</td><td style = \"text-align: right;\">258.0</td><td style = \"text-align: right;\">110</td><td style = \"text-align: right;\">3.08</td><td style = \"text-align: right;\">3.215</td><td style = \"text-align: right;\">19.44</td><td style = \"text-align: right;\">1</td><td style = \"text-align: right;\">0</td><td style = \"text-align: right;\">3</td><td style = \"text-align: right;\">1</td></tr><tr><td class = \"rowNumber\" style = \"font-weight: bold; text-align: right;\">5</td><td style = \"text-align: left;\">Hornet Sportabout</td><td style = \"text-align: right;\">18.7</td><td style = \"text-align: right;\">8</td><td style = \"text-align: right;\">360.0</td><td style = \"text-align: right;\">175</td><td style = \"text-align: right;\">3.15</td><td style = \"text-align: right;\">3.44</td><td style = \"text-align: right;\">17.02</td><td style = \"text-align: right;\">0</td><td style = \"text-align: right;\">0</td><td style = \"text-align: right;\">3</td><td style = \"text-align: right;\">2</td></tr><tr><td class = \"rowNumber\" style = \"font-weight: bold; text-align: right;\">6</td><td style = \"text-align: left;\">Valiant</td><td style = \"text-align: right;\">18.1</td><td style = \"text-align: right;\">6</td><td style = \"text-align: right;\">225.0</td><td style = \"text-align: right;\">105</td><td style = \"text-align: right;\">2.76</td><td style = \"text-align: right;\">3.46</td><td style = \"text-align: right;\">20.22</td><td style = \"text-align: right;\">1</td><td style = \"text-align: right;\">0</td><td style = \"text-align: right;\">3</td><td style = \"text-align: right;\">1</td></tr><tr><td class = \"rowNumber\" style = \"font-weight: bold; text-align: right;\">7</td><td style = \"text-align: left;\">Duster 360</td><td style = \"text-align: right;\">14.3</td><td style = \"text-align: right;\">8</td><td style = \"text-align: right;\">360.0</td><td style = \"text-align: right;\">245</td><td style = \"text-align: right;\">3.21</td><td style = \"text-align: right;\">3.57</td><td style = \"text-align: right;\">15.84</td><td style = \"text-align: right;\">0</td><td style = \"text-align: right;\">0</td><td style = \"text-align: right;\">3</td><td style = \"text-align: right;\">4</td></tr><tr><td class = \"rowNumber\" style = \"font-weight: bold; text-align: right;\">8</td><td style = \"text-align: left;\">Merc 240D</td><td style = \"text-align: right;\">24.4</td><td style = \"text-align: right;\">4</td><td style = \"text-align: right;\">146.7</td><td style = \"text-align: right;\">62</td><td style = \"text-align: right;\">3.69</td><td style = \"text-align: right;\">3.19</td><td style = \"text-align: right;\">20.0</td><td style = \"text-align: right;\">1</td><td style = \"text-align: right;\">0</td><td style = \"text-align: right;\">4</td><td style = \"text-align: right;\">2</td></tr><tr><td class = \"rowNumber\" style = \"font-weight: bold; text-align: right;\">9</td><td style = \"text-align: left;\">Merc 230</td><td style = \"text-align: right;\">22.8</td><td style = \"text-align: right;\">4</td><td style = \"text-align: right;\">140.8</td><td style = \"text-align: right;\">95</td><td style = \"text-align: right;\">3.92</td><td style = \"text-align: right;\">3.15</td><td style = \"text-align: right;\">22.9</td><td style = \"text-align: right;\">1</td><td style = \"text-align: right;\">0</td><td style = \"text-align: right;\">4</td><td style = \"text-align: right;\">2</td></tr><tr><td class = \"rowNumber\" style = \"font-weight: bold; text-align: right;\">10</td><td style = \"text-align: left;\">Merc 280</td><td style = \"text-align: right;\">19.2</td><td style = \"text-align: right;\">6</td><td style = \"text-align: right;\">167.6</td><td style = \"text-align: right;\">123</td><td style = \"text-align: right;\">3.92</td><td style = \"text-align: right;\">3.44</td><td style = \"text-align: right;\">18.3</td><td style = \"text-align: right;\">1</td><td style = \"text-align: right;\">0</td><td style = \"text-align: right;\">4</td><td style = \"text-align: right;\">4</td></tr><tr><td class = \"rowNumber\" style = \"font-weight: bold; text-align: right;\">11</td><td style = \"text-align: left;\">Merc 280C</td><td style = \"text-align: right;\">17.8</td><td style = \"text-align: right;\">6</td><td style = \"text-align: right;\">167.6</td><td style = \"text-align: right;\">123</td><td style = \"text-align: right;\">3.92</td><td style = \"text-align: right;\">3.44</td><td style = \"text-align: right;\">18.9</td><td style = \"text-align: right;\">1</td><td style = \"text-align: right;\">0</td><td style = \"text-align: right;\">4</td><td style = \"text-align: right;\">4</td></tr><tr><td class = \"rowNumber\" style = \"font-weight: bold; text-align: right;\">12</td><td style = \"text-align: left;\">Merc 450SE</td><td style = \"text-align: right;\">16.4</td><td style = \"text-align: right;\">8</td><td style = \"text-align: right;\">275.8</td><td style = \"text-align: right;\">180</td><td style = \"text-align: right;\">3.07</td><td style = \"text-align: right;\">4.07</td><td style = \"text-align: right;\">17.4</td><td style = \"text-align: right;\">0</td><td style = \"text-align: right;\">0</td><td style = \"text-align: right;\">3</td><td style = \"text-align: right;\">3</td></tr><tr><td class = \"rowNumber\" style = \"font-weight: bold; text-align: right;\">13</td><td style = \"text-align: left;\">Merc 450SL</td><td style = \"text-align: right;\">17.3</td><td style = \"text-align: right;\">8</td><td style = \"text-align: right;\">275.8</td><td style = \"text-align: right;\">180</td><td style = \"text-align: right;\">3.07</td><td style = \"text-align: right;\">3.73</td><td style = \"text-align: right;\">17.6</td><td style = \"text-align: right;\">0</td><td style = \"text-align: right;\">0</td><td style = \"text-align: right;\">3</td><td style = \"text-align: right;\">3</td></tr><tr><td style = \"text-align: right;\">&vellip;</td><td style = \"text-align: right;\">&vellip;</td><td style = \"text-align: right;\">&vellip;</td><td style = \"text-align: right;\">&vellip;</td><td style = \"text-align: right;\">&vellip;</td><td style = \"text-align: right;\">&vellip;</td><td style = \"text-align: right;\">&vellip;</td><td style = \"text-align: right;\">&vellip;</td><td style = \"text-align: right;\">&vellip;</td><td style = \"text-align: right;\">&vellip;</td><td style = \"text-align: right;\">&vellip;</td><td style = \"text-align: right;\">&vellip;</td><td style = \"text-align: right;\">&vellip;</td></tr><tr><td class = \"rowNumber\" style = \"font-weight: bold; text-align: right;\">21</td><td style = \"text-align: left;\">Toyota Corona</td><td style = \"text-align: right;\">21.5</td><td style = \"text-align: right;\">4</td><td style = \"text-align: right;\">120.1</td><td style = \"text-align: right;\">97</td><td style = \"text-align: right;\">3.7</td><td style = \"text-align: right;\">2.465</td><td style = \"text-align: right;\">20.01</td><td style = \"text-align: right;\">1</td><td style = \"text-align: right;\">0</td><td style = \"text-align: right;\">3</td><td style = \"text-align: right;\">1</td></tr><tr><td class = \"rowNumber\" style = \"font-weight: bold; text-align: right;\">22</td><td style = \"text-align: left;\">Dodge Challenger</td><td style = \"text-align: right;\">15.5</td><td style = \"text-align: right;\">8</td><td style = \"text-align: right;\">318.0</td><td style = \"text-align: right;\">150</td><td style = \"text-align: right;\">2.76</td><td style = \"text-align: right;\">3.52</td><td style = \"text-align: right;\">16.87</td><td style = \"text-align: right;\">0</td><td style = \"text-align: right;\">0</td><td style = \"text-align: right;\">3</td><td style = \"text-align: right;\">2</td></tr><tr><td class = \"rowNumber\" style = \"font-weight: bold; text-align: right;\">23</td><td style = \"text-align: left;\">AMC Javelin</td><td style = \"text-align: right;\">15.2</td><td style = \"text-align: right;\">8</td><td style = \"text-align: right;\">304.0</td><td style = \"text-align: right;\">150</td><td style = \"text-align: right;\">3.15</td><td style = \"text-align: right;\">3.435</td><td style = \"text-align: right;\">17.3</td><td style = \"text-align: right;\">0</td><td style = \"text-align: right;\">0</td><td style = \"text-align: right;\">3</td><td style = \"text-align: right;\">2</td></tr><tr><td class = \"rowNumber\" style = \"font-weight: bold; text-align: right;\">24</td><td style = \"text-align: left;\">Camaro Z28</td><td style = \"text-align: right;\">13.3</td><td style = \"text-align: right;\">8</td><td style = \"text-align: right;\">350.0</td><td style = \"text-align: right;\">245</td><td style = \"text-align: right;\">3.73</td><td style = \"text-align: right;\">3.84</td><td style = \"text-align: right;\">15.41</td><td style = \"text-align: right;\">0</td><td style = \"text-align: right;\">0</td><td style = \"text-align: right;\">3</td><td style = \"text-align: right;\">4</td></tr><tr><td class = \"rowNumber\" style = \"font-weight: bold; text-align: right;\">25</td><td style = \"text-align: left;\">Pontiac Firebird</td><td style = \"text-align: right;\">19.2</td><td style = \"text-align: right;\">8</td><td style = \"text-align: right;\">400.0</td><td style = \"text-align: right;\">175</td><td style = \"text-align: right;\">3.08</td><td style = \"text-align: right;\">3.845</td><td style = \"text-align: right;\">17.05</td><td style = \"text-align: right;\">0</td><td style = \"text-align: right;\">0</td><td style = \"text-align: right;\">3</td><td style = \"text-align: right;\">2</td></tr><tr><td class = \"rowNumber\" style = \"font-weight: bold; text-align: right;\">26</td><td style = \"text-align: left;\">Fiat X1-9</td><td style = \"text-align: right;\">27.3</td><td style = \"text-align: right;\">4</td><td style = \"text-align: right;\">79.0</td><td style = \"text-align: right;\">66</td><td style = \"text-align: right;\">4.08</td><td style = \"text-align: right;\">1.935</td><td style = \"text-align: right;\">18.9</td><td style = \"text-align: right;\">1</td><td style = \"text-align: right;\">1</td><td style = \"text-align: right;\">4</td><td style = \"text-align: right;\">1</td></tr><tr><td class = \"rowNumber\" style = \"font-weight: bold; text-align: right;\">27</td><td style = \"text-align: left;\">Porsche 914-2</td><td style = \"text-align: right;\">26.0</td><td style = \"text-align: right;\">4</td><td style = \"text-align: right;\">120.3</td><td style = \"text-align: right;\">91</td><td style = \"text-align: right;\">4.43</td><td style = \"text-align: right;\">2.14</td><td style = \"text-align: right;\">16.7</td><td style = \"text-align: right;\">0</td><td style = \"text-align: right;\">1</td><td style = \"text-align: right;\">5</td><td style = \"text-align: right;\">2</td></tr><tr><td class = \"rowNumber\" style = \"font-weight: bold; text-align: right;\">28</td><td style = \"text-align: left;\">Lotus Europa</td><td style = \"text-align: right;\">30.4</td><td style = \"text-align: right;\">4</td><td style = \"text-align: right;\">95.1</td><td style = \"text-align: right;\">113</td><td style = \"text-align: right;\">3.77</td><td style = \"text-align: right;\">1.513</td><td style = \"text-align: right;\">16.9</td><td style = \"text-align: right;\">1</td><td style = \"text-align: right;\">1</td><td style = \"text-align: right;\">5</td><td style = \"text-align: right;\">2</td></tr><tr><td class = \"rowNumber\" style = \"font-weight: bold; text-align: right;\">29</td><td style = \"text-align: left;\">Ford Pantera L</td><td style = \"text-align: right;\">15.8</td><td style = \"text-align: right;\">8</td><td style = \"text-align: right;\">351.0</td><td style = \"text-align: right;\">264</td><td style = \"text-align: right;\">4.22</td><td style = \"text-align: right;\">3.17</td><td style = \"text-align: right;\">14.5</td><td style = \"text-align: right;\">0</td><td style = \"text-align: right;\">1</td><td style = \"text-align: right;\">5</td><td style = \"text-align: right;\">4</td></tr><tr><td class = \"rowNumber\" style = \"font-weight: bold; text-align: right;\">30</td><td style = \"text-align: left;\">Ferrari Dino</td><td style = \"text-align: right;\">19.7</td><td style = \"text-align: right;\">6</td><td style = \"text-align: right;\">145.0</td><td style = \"text-align: right;\">175</td><td style = \"text-align: right;\">3.62</td><td style = \"text-align: right;\">2.77</td><td style = \"text-align: right;\">15.5</td><td style = \"text-align: right;\">0</td><td style = \"text-align: right;\">1</td><td style = \"text-align: right;\">5</td><td style = \"text-align: right;\">6</td></tr><tr><td class = \"rowNumber\" style = \"font-weight: bold; text-align: right;\">31</td><td style = \"text-align: left;\">Maserati Bora</td><td style = \"text-align: right;\">15.0</td><td style = \"text-align: right;\">8</td><td style = \"text-align: right;\">301.0</td><td style = \"text-align: right;\">335</td><td style = \"text-align: right;\">3.54</td><td style = \"text-align: right;\">3.57</td><td style = \"text-align: right;\">14.6</td><td style = \"text-align: right;\">0</td><td style = \"text-align: right;\">1</td><td style = \"text-align: right;\">5</td><td style = \"text-align: right;\">8</td></tr><tr><td class = \"rowNumber\" style = \"font-weight: bold; text-align: right;\">32</td><td style = \"text-align: left;\">Volvo 142E</td><td style = \"text-align: right;\">21.4</td><td style = \"text-align: right;\">4</td><td style = \"text-align: right;\">121.0</td><td style = \"text-align: right;\">109</td><td style = \"text-align: right;\">4.11</td><td style = \"text-align: right;\">2.78</td><td style = \"text-align: right;\">18.6</td><td style = \"text-align: right;\">1</td><td style = \"text-align: right;\">1</td><td style = \"text-align: right;\">4</td><td style = \"text-align: right;\">2</td></tr></tbody></table></div>"
      ],
      "text/latex": [
       "\\begin{tabular}{r|ccccccccc}\n",
       "\t& Model & MPG & Cyl & Disp & HP & DRat & WT & QSec & \\\\\n",
       "\t\\hline\n",
       "\t& String31 & Float64 & Int64 & Float64 & Int64 & Float64 & Float64 & Float64 & \\\\\n",
       "\t\\hline\n",
       "\t1 & Mazda RX4 & 21.0 & 6 & 160.0 & 110 & 3.9 & 2.62 & 16.46 & $\\dots$ \\\\\n",
       "\t2 & Mazda RX4 Wag & 21.0 & 6 & 160.0 & 110 & 3.9 & 2.875 & 17.02 & $\\dots$ \\\\\n",
       "\t3 & Datsun 710 & 22.8 & 4 & 108.0 & 93 & 3.85 & 2.32 & 18.61 & $\\dots$ \\\\\n",
       "\t4 & Hornet 4 Drive & 21.4 & 6 & 258.0 & 110 & 3.08 & 3.215 & 19.44 & $\\dots$ \\\\\n",
       "\t5 & Hornet Sportabout & 18.7 & 8 & 360.0 & 175 & 3.15 & 3.44 & 17.02 & $\\dots$ \\\\\n",
       "\t6 & Valiant & 18.1 & 6 & 225.0 & 105 & 2.76 & 3.46 & 20.22 & $\\dots$ \\\\\n",
       "\t7 & Duster 360 & 14.3 & 8 & 360.0 & 245 & 3.21 & 3.57 & 15.84 & $\\dots$ \\\\\n",
       "\t8 & Merc 240D & 24.4 & 4 & 146.7 & 62 & 3.69 & 3.19 & 20.0 & $\\dots$ \\\\\n",
       "\t9 & Merc 230 & 22.8 & 4 & 140.8 & 95 & 3.92 & 3.15 & 22.9 & $\\dots$ \\\\\n",
       "\t10 & Merc 280 & 19.2 & 6 & 167.6 & 123 & 3.92 & 3.44 & 18.3 & $\\dots$ \\\\\n",
       "\t11 & Merc 280C & 17.8 & 6 & 167.6 & 123 & 3.92 & 3.44 & 18.9 & $\\dots$ \\\\\n",
       "\t12 & Merc 450SE & 16.4 & 8 & 275.8 & 180 & 3.07 & 4.07 & 17.4 & $\\dots$ \\\\\n",
       "\t13 & Merc 450SL & 17.3 & 8 & 275.8 & 180 & 3.07 & 3.73 & 17.6 & $\\dots$ \\\\\n",
       "\t14 & Merc 450SLC & 15.2 & 8 & 275.8 & 180 & 3.07 & 3.78 & 18.0 & $\\dots$ \\\\\n",
       "\t15 & Cadillac Fleetwood & 10.4 & 8 & 472.0 & 205 & 2.93 & 5.25 & 17.98 & $\\dots$ \\\\\n",
       "\t16 & Lincoln Continental & 10.4 & 8 & 460.0 & 215 & 3.0 & 5.424 & 17.82 & $\\dots$ \\\\\n",
       "\t17 & Chrysler Imperial & 14.7 & 8 & 440.0 & 230 & 3.23 & 5.345 & 17.42 & $\\dots$ \\\\\n",
       "\t18 & Fiat 128 & 32.4 & 4 & 78.7 & 66 & 4.08 & 2.2 & 19.47 & $\\dots$ \\\\\n",
       "\t19 & Honda Civic & 30.4 & 4 & 75.7 & 52 & 4.93 & 1.615 & 18.52 & $\\dots$ \\\\\n",
       "\t20 & Toyota Corolla & 33.9 & 4 & 71.1 & 65 & 4.22 & 1.835 & 19.9 & $\\dots$ \\\\\n",
       "\t21 & Toyota Corona & 21.5 & 4 & 120.1 & 97 & 3.7 & 2.465 & 20.01 & $\\dots$ \\\\\n",
       "\t22 & Dodge Challenger & 15.5 & 8 & 318.0 & 150 & 2.76 & 3.52 & 16.87 & $\\dots$ \\\\\n",
       "\t23 & AMC Javelin & 15.2 & 8 & 304.0 & 150 & 3.15 & 3.435 & 17.3 & $\\dots$ \\\\\n",
       "\t24 & Camaro Z28 & 13.3 & 8 & 350.0 & 245 & 3.73 & 3.84 & 15.41 & $\\dots$ \\\\\n",
       "\t25 & Pontiac Firebird & 19.2 & 8 & 400.0 & 175 & 3.08 & 3.845 & 17.05 & $\\dots$ \\\\\n",
       "\t26 & Fiat X1-9 & 27.3 & 4 & 79.0 & 66 & 4.08 & 1.935 & 18.9 & $\\dots$ \\\\\n",
       "\t27 & Porsche 914-2 & 26.0 & 4 & 120.3 & 91 & 4.43 & 2.14 & 16.7 & $\\dots$ \\\\\n",
       "\t28 & Lotus Europa & 30.4 & 4 & 95.1 & 113 & 3.77 & 1.513 & 16.9 & $\\dots$ \\\\\n",
       "\t29 & Ford Pantera L & 15.8 & 8 & 351.0 & 264 & 4.22 & 3.17 & 14.5 & $\\dots$ \\\\\n",
       "\t30 & Ferrari Dino & 19.7 & 6 & 145.0 & 175 & 3.62 & 2.77 & 15.5 & $\\dots$ \\\\\n",
       "\t$\\dots$ & $\\dots$ & $\\dots$ & $\\dots$ & $\\dots$ & $\\dots$ & $\\dots$ & $\\dots$ & $\\dots$ &  \\\\\n",
       "\\end{tabular}\n"
      ],
      "text/plain": [
       "\u001b[1m32×12 DataFrame\u001b[0m\n",
       "\u001b[1m Row \u001b[0m│\u001b[1m Model             \u001b[0m\u001b[1m MPG     \u001b[0m\u001b[1m Cyl   \u001b[0m\u001b[1m Disp    \u001b[0m\u001b[1m HP    \u001b[0m\u001b[1m DRat    \u001b[0m\u001b[1m WT      \u001b[0m\u001b[1m QS\u001b[0m ⋯\n",
       "     │\u001b[90m String31          \u001b[0m\u001b[90m Float64 \u001b[0m\u001b[90m Int64 \u001b[0m\u001b[90m Float64 \u001b[0m\u001b[90m Int64 \u001b[0m\u001b[90m Float64 \u001b[0m\u001b[90m Float64 \u001b[0m\u001b[90m Fl\u001b[0m ⋯\n",
       "─────┼──────────────────────────────────────────────────────────────────────────\n",
       "   1 │ Mazda RX4             21.0      6    160.0    110     3.9     2.62      ⋯\n",
       "   2 │ Mazda RX4 Wag         21.0      6    160.0    110     3.9     2.875\n",
       "   3 │ Datsun 710            22.8      4    108.0     93     3.85    2.32\n",
       "   4 │ Hornet 4 Drive        21.4      6    258.0    110     3.08    3.215\n",
       "   5 │ Hornet Sportabout     18.7      8    360.0    175     3.15    3.44      ⋯\n",
       "   6 │ Valiant               18.1      6    225.0    105     2.76    3.46\n",
       "   7 │ Duster 360            14.3      8    360.0    245     3.21    3.57\n",
       "   8 │ Merc 240D             24.4      4    146.7     62     3.69    3.19\n",
       "   9 │ Merc 230              22.8      4    140.8     95     3.92    3.15      ⋯\n",
       "  10 │ Merc 280              19.2      6    167.6    123     3.92    3.44\n",
       "  11 │ Merc 280C             17.8      6    167.6    123     3.92    3.44\n",
       "  ⋮  │         ⋮             ⋮       ⋮       ⋮       ⋮       ⋮        ⋮        ⋱\n",
       "  23 │ AMC Javelin           15.2      8    304.0    150     3.15    3.435\n",
       "  24 │ Camaro Z28            13.3      8    350.0    245     3.73    3.84      ⋯\n",
       "  25 │ Pontiac Firebird      19.2      8    400.0    175     3.08    3.845\n",
       "  26 │ Fiat X1-9             27.3      4     79.0     66     4.08    1.935\n",
       "  27 │ Porsche 914-2         26.0      4    120.3     91     4.43    2.14\n",
       "  28 │ Lotus Europa          30.4      4     95.1    113     3.77    1.513     ⋯\n",
       "  29 │ Ford Pantera L        15.8      8    351.0    264     4.22    3.17\n",
       "  30 │ Ferrari Dino          19.7      6    145.0    175     3.62    2.77\n",
       "  31 │ Maserati Bora         15.0      8    301.0    335     3.54    3.57\n",
       "  32 │ Volvo 142E            21.4      4    121.0    109     4.11    2.78      ⋯\n",
       "\u001b[36m                                                   5 columns and 11 rows omitted\u001b[0m"
      ]
     },
     "execution_count": 52,
     "metadata": {},
     "output_type": "execute_result"
    }
   ],
   "source": [
    "mtcars = dataset(\"datasets\", \"mtcars\")"
   ]
  },
  {
   "cell_type": "code",
   "execution_count": 53,
   "id": "db4b95b3",
   "metadata": {
    "collapsed": true,
    "jupyter": {
     "outputs_hidden": true
    }
   },
   "outputs": [
    {
     "data": {
      "text/html": [
       "<div><div style = \"float: left;\"><span>5×12 DataFrame</span></div><div style = \"clear: both;\"></div></div><div class = \"data-frame\" style = \"overflow-x: scroll;\"><table class = \"data-frame\" style = \"margin-bottom: 6px;\"><thead><tr class = \"header\"><th class = \"rowNumber\" style = \"font-weight: bold; text-align: right;\">Row</th><th style = \"text-align: left;\">Model</th><th style = \"text-align: left;\">MPG</th><th style = \"text-align: left;\">Cyl</th><th style = \"text-align: left;\">Disp</th><th style = \"text-align: left;\">HP</th><th style = \"text-align: left;\">DRat</th><th style = \"text-align: left;\">WT</th><th style = \"text-align: left;\">QSec</th><th style = \"text-align: left;\">VS</th><th style = \"text-align: left;\">AM</th><th style = \"text-align: left;\">Gear</th><th style = \"text-align: left;\">Carb</th></tr><tr class = \"subheader headerLastRow\"><th class = \"rowNumber\" style = \"font-weight: bold; text-align: right;\"></th><th title = \"String31\" style = \"text-align: left;\">String31</th><th title = \"Float64\" style = \"text-align: left;\">Float64</th><th title = \"Int64\" style = \"text-align: left;\">Int64</th><th title = \"Float64\" style = \"text-align: left;\">Float64</th><th title = \"Int64\" style = \"text-align: left;\">Int64</th><th title = \"Float64\" style = \"text-align: left;\">Float64</th><th title = \"Float64\" style = \"text-align: left;\">Float64</th><th title = \"Float64\" style = \"text-align: left;\">Float64</th><th title = \"Int64\" style = \"text-align: left;\">Int64</th><th title = \"Int64\" style = \"text-align: left;\">Int64</th><th title = \"Int64\" style = \"text-align: left;\">Int64</th><th title = \"Int64\" style = \"text-align: left;\">Int64</th></tr></thead><tbody><tr><td class = \"rowNumber\" style = \"font-weight: bold; text-align: right;\">1</td><td style = \"text-align: left;\">Mazda RX4</td><td style = \"text-align: right;\">21.0</td><td style = \"text-align: right;\">6</td><td style = \"text-align: right;\">160.0</td><td style = \"text-align: right;\">110</td><td style = \"text-align: right;\">3.9</td><td style = \"text-align: right;\">2.62</td><td style = \"text-align: right;\">16.46</td><td style = \"text-align: right;\">0</td><td style = \"text-align: right;\">1</td><td style = \"text-align: right;\">4</td><td style = \"text-align: right;\">4</td></tr><tr><td class = \"rowNumber\" style = \"font-weight: bold; text-align: right;\">2</td><td style = \"text-align: left;\">Mazda RX4 Wag</td><td style = \"text-align: right;\">21.0</td><td style = \"text-align: right;\">6</td><td style = \"text-align: right;\">160.0</td><td style = \"text-align: right;\">110</td><td style = \"text-align: right;\">3.9</td><td style = \"text-align: right;\">2.875</td><td style = \"text-align: right;\">17.02</td><td style = \"text-align: right;\">0</td><td style = \"text-align: right;\">1</td><td style = \"text-align: right;\">4</td><td style = \"text-align: right;\">4</td></tr><tr><td class = \"rowNumber\" style = \"font-weight: bold; text-align: right;\">3</td><td style = \"text-align: left;\">Datsun 710</td><td style = \"text-align: right;\">22.8</td><td style = \"text-align: right;\">4</td><td style = \"text-align: right;\">108.0</td><td style = \"text-align: right;\">93</td><td style = \"text-align: right;\">3.85</td><td style = \"text-align: right;\">2.32</td><td style = \"text-align: right;\">18.61</td><td style = \"text-align: right;\">1</td><td style = \"text-align: right;\">1</td><td style = \"text-align: right;\">4</td><td style = \"text-align: right;\">1</td></tr><tr><td class = \"rowNumber\" style = \"font-weight: bold; text-align: right;\">4</td><td style = \"text-align: left;\">Hornet 4 Drive</td><td style = \"text-align: right;\">21.4</td><td style = \"text-align: right;\">6</td><td style = \"text-align: right;\">258.0</td><td style = \"text-align: right;\">110</td><td style = \"text-align: right;\">3.08</td><td style = \"text-align: right;\">3.215</td><td style = \"text-align: right;\">19.44</td><td style = \"text-align: right;\">1</td><td style = \"text-align: right;\">0</td><td style = \"text-align: right;\">3</td><td style = \"text-align: right;\">1</td></tr><tr><td class = \"rowNumber\" style = \"font-weight: bold; text-align: right;\">5</td><td style = \"text-align: left;\">Hornet Sportabout</td><td style = \"text-align: right;\">18.7</td><td style = \"text-align: right;\">8</td><td style = \"text-align: right;\">360.0</td><td style = \"text-align: right;\">175</td><td style = \"text-align: right;\">3.15</td><td style = \"text-align: right;\">3.44</td><td style = \"text-align: right;\">17.02</td><td style = \"text-align: right;\">0</td><td style = \"text-align: right;\">0</td><td style = \"text-align: right;\">3</td><td style = \"text-align: right;\">2</td></tr></tbody></table></div>"
      ],
      "text/latex": [
       "\\begin{tabular}{r|cccccccccc}\n",
       "\t& Model & MPG & Cyl & Disp & HP & DRat & WT & QSec & VS & \\\\\n",
       "\t\\hline\n",
       "\t& String31 & Float64 & Int64 & Float64 & Int64 & Float64 & Float64 & Float64 & Int64 & \\\\\n",
       "\t\\hline\n",
       "\t1 & Mazda RX4 & 21.0 & 6 & 160.0 & 110 & 3.9 & 2.62 & 16.46 & 0 & $\\dots$ \\\\\n",
       "\t2 & Mazda RX4 Wag & 21.0 & 6 & 160.0 & 110 & 3.9 & 2.875 & 17.02 & 0 & $\\dots$ \\\\\n",
       "\t3 & Datsun 710 & 22.8 & 4 & 108.0 & 93 & 3.85 & 2.32 & 18.61 & 1 & $\\dots$ \\\\\n",
       "\t4 & Hornet 4 Drive & 21.4 & 6 & 258.0 & 110 & 3.08 & 3.215 & 19.44 & 1 & $\\dots$ \\\\\n",
       "\t5 & Hornet Sportabout & 18.7 & 8 & 360.0 & 175 & 3.15 & 3.44 & 17.02 & 0 & $\\dots$ \\\\\n",
       "\\end{tabular}\n"
      ],
      "text/plain": [
       "\u001b[1m5×12 DataFrame\u001b[0m\n",
       "\u001b[1m Row \u001b[0m│\u001b[1m Model             \u001b[0m\u001b[1m MPG     \u001b[0m\u001b[1m Cyl   \u001b[0m\u001b[1m Disp    \u001b[0m\u001b[1m HP    \u001b[0m\u001b[1m DRat    \u001b[0m\u001b[1m WT      \u001b[0m\u001b[1m QS\u001b[0m ⋯\n",
       "     │\u001b[90m String31          \u001b[0m\u001b[90m Float64 \u001b[0m\u001b[90m Int64 \u001b[0m\u001b[90m Float64 \u001b[0m\u001b[90m Int64 \u001b[0m\u001b[90m Float64 \u001b[0m\u001b[90m Float64 \u001b[0m\u001b[90m Fl\u001b[0m ⋯\n",
       "─────┼──────────────────────────────────────────────────────────────────────────\n",
       "   1 │ Mazda RX4             21.0      6    160.0    110     3.9     2.62      ⋯\n",
       "   2 │ Mazda RX4 Wag         21.0      6    160.0    110     3.9     2.875\n",
       "   3 │ Datsun 710            22.8      4    108.0     93     3.85    2.32\n",
       "   4 │ Hornet 4 Drive        21.4      6    258.0    110     3.08    3.215\n",
       "   5 │ Hornet Sportabout     18.7      8    360.0    175     3.15    3.44      ⋯\n",
       "\u001b[36m                                                               5 columns omitted\u001b[0m"
      ]
     },
     "execution_count": 53,
     "metadata": {},
     "output_type": "execute_result"
    }
   ],
   "source": [
    "first(mtcars, 5)"
   ]
  },
  {
   "cell_type": "code",
   "execution_count": 54,
   "id": "a3c9f22b",
   "metadata": {
    "collapsed": true,
    "jupyter": {
     "outputs_hidden": true
    }
   },
   "outputs": [
    {
     "data": {
      "text/html": [
       "<div><div style = \"float: left;\"><span>12×7 DataFrame</span></div><div style = \"clear: both;\"></div></div><div class = \"data-frame\" style = \"overflow-x: scroll;\"><table class = \"data-frame\" style = \"margin-bottom: 6px;\"><thead><tr class = \"header\"><th class = \"rowNumber\" style = \"font-weight: bold; text-align: right;\">Row</th><th style = \"text-align: left;\">variable</th><th style = \"text-align: left;\">mean</th><th style = \"text-align: left;\">min</th><th style = \"text-align: left;\">median</th><th style = \"text-align: left;\">max</th><th style = \"text-align: left;\">nmissing</th><th style = \"text-align: left;\">eltype</th></tr><tr class = \"subheader headerLastRow\"><th class = \"rowNumber\" style = \"font-weight: bold; text-align: right;\"></th><th title = \"Symbol\" style = \"text-align: left;\">Symbol</th><th title = \"Union{Nothing, Float64}\" style = \"text-align: left;\">Union…</th><th title = \"Any\" style = \"text-align: left;\">Any</th><th title = \"Union{Nothing, Float64}\" style = \"text-align: left;\">Union…</th><th title = \"Any\" style = \"text-align: left;\">Any</th><th title = \"Int64\" style = \"text-align: left;\">Int64</th><th title = \"DataType\" style = \"text-align: left;\">DataType</th></tr></thead><tbody><tr><td class = \"rowNumber\" style = \"font-weight: bold; text-align: right;\">1</td><td style = \"text-align: left;\">Model</td><td style = \"font-style: italic; text-align: left;\"></td><td style = \"text-align: left;\">AMC Javelin</td><td style = \"font-style: italic; text-align: left;\"></td><td style = \"text-align: left;\">Volvo 142E</td><td style = \"text-align: right;\">0</td><td style = \"text-align: left;\">String31</td></tr><tr><td class = \"rowNumber\" style = \"font-weight: bold; text-align: right;\">2</td><td style = \"text-align: left;\">MPG</td><td style = \"text-align: left;\">20.0906</td><td style = \"text-align: left;\">10.4</td><td style = \"text-align: left;\">19.2</td><td style = \"text-align: left;\">33.9</td><td style = \"text-align: right;\">0</td><td style = \"text-align: left;\">Float64</td></tr><tr><td class = \"rowNumber\" style = \"font-weight: bold; text-align: right;\">3</td><td style = \"text-align: left;\">Cyl</td><td style = \"text-align: left;\">6.1875</td><td style = \"text-align: left;\">4</td><td style = \"text-align: left;\">6.0</td><td style = \"text-align: left;\">8</td><td style = \"text-align: right;\">0</td><td style = \"text-align: left;\">Int64</td></tr><tr><td class = \"rowNumber\" style = \"font-weight: bold; text-align: right;\">4</td><td style = \"text-align: left;\">Disp</td><td style = \"text-align: left;\">230.722</td><td style = \"text-align: left;\">71.1</td><td style = \"text-align: left;\">196.3</td><td style = \"text-align: left;\">472.0</td><td style = \"text-align: right;\">0</td><td style = \"text-align: left;\">Float64</td></tr><tr><td class = \"rowNumber\" style = \"font-weight: bold; text-align: right;\">5</td><td style = \"text-align: left;\">HP</td><td style = \"text-align: left;\">146.688</td><td style = \"text-align: left;\">52</td><td style = \"text-align: left;\">123.0</td><td style = \"text-align: left;\">335</td><td style = \"text-align: right;\">0</td><td style = \"text-align: left;\">Int64</td></tr><tr><td class = \"rowNumber\" style = \"font-weight: bold; text-align: right;\">6</td><td style = \"text-align: left;\">DRat</td><td style = \"text-align: left;\">3.59656</td><td style = \"text-align: left;\">2.76</td><td style = \"text-align: left;\">3.695</td><td style = \"text-align: left;\">4.93</td><td style = \"text-align: right;\">0</td><td style = \"text-align: left;\">Float64</td></tr><tr><td class = \"rowNumber\" style = \"font-weight: bold; text-align: right;\">7</td><td style = \"text-align: left;\">WT</td><td style = \"text-align: left;\">3.21725</td><td style = \"text-align: left;\">1.513</td><td style = \"text-align: left;\">3.325</td><td style = \"text-align: left;\">5.424</td><td style = \"text-align: right;\">0</td><td style = \"text-align: left;\">Float64</td></tr><tr><td class = \"rowNumber\" style = \"font-weight: bold; text-align: right;\">8</td><td style = \"text-align: left;\">QSec</td><td style = \"text-align: left;\">17.8487</td><td style = \"text-align: left;\">14.5</td><td style = \"text-align: left;\">17.71</td><td style = \"text-align: left;\">22.9</td><td style = \"text-align: right;\">0</td><td style = \"text-align: left;\">Float64</td></tr><tr><td class = \"rowNumber\" style = \"font-weight: bold; text-align: right;\">9</td><td style = \"text-align: left;\">VS</td><td style = \"text-align: left;\">0.4375</td><td style = \"text-align: left;\">0</td><td style = \"text-align: left;\">0.0</td><td style = \"text-align: left;\">1</td><td style = \"text-align: right;\">0</td><td style = \"text-align: left;\">Int64</td></tr><tr><td class = \"rowNumber\" style = \"font-weight: bold; text-align: right;\">10</td><td style = \"text-align: left;\">AM</td><td style = \"text-align: left;\">0.40625</td><td style = \"text-align: left;\">0</td><td style = \"text-align: left;\">0.0</td><td style = \"text-align: left;\">1</td><td style = \"text-align: right;\">0</td><td style = \"text-align: left;\">Int64</td></tr><tr><td class = \"rowNumber\" style = \"font-weight: bold; text-align: right;\">11</td><td style = \"text-align: left;\">Gear</td><td style = \"text-align: left;\">3.6875</td><td style = \"text-align: left;\">3</td><td style = \"text-align: left;\">4.0</td><td style = \"text-align: left;\">5</td><td style = \"text-align: right;\">0</td><td style = \"text-align: left;\">Int64</td></tr><tr><td class = \"rowNumber\" style = \"font-weight: bold; text-align: right;\">12</td><td style = \"text-align: left;\">Carb</td><td style = \"text-align: left;\">2.8125</td><td style = \"text-align: left;\">1</td><td style = \"text-align: left;\">2.0</td><td style = \"text-align: left;\">8</td><td style = \"text-align: right;\">0</td><td style = \"text-align: left;\">Int64</td></tr></tbody></table></div>"
      ],
      "text/latex": [
       "\\begin{tabular}{r|ccccccc}\n",
       "\t& variable & mean & min & median & max & nmissing & eltype\\\\\n",
       "\t\\hline\n",
       "\t& Symbol & Union… & Any & Union… & Any & Int64 & DataType\\\\\n",
       "\t\\hline\n",
       "\t1 & Model &  & AMC Javelin &  & Volvo 142E & 0 & String31 \\\\\n",
       "\t2 & MPG & 20.0906 & 10.4 & 19.2 & 33.9 & 0 & Float64 \\\\\n",
       "\t3 & Cyl & 6.1875 & 4 & 6.0 & 8 & 0 & Int64 \\\\\n",
       "\t4 & Disp & 230.722 & 71.1 & 196.3 & 472.0 & 0 & Float64 \\\\\n",
       "\t5 & HP & 146.688 & 52 & 123.0 & 335 & 0 & Int64 \\\\\n",
       "\t6 & DRat & 3.59656 & 2.76 & 3.695 & 4.93 & 0 & Float64 \\\\\n",
       "\t7 & WT & 3.21725 & 1.513 & 3.325 & 5.424 & 0 & Float64 \\\\\n",
       "\t8 & QSec & 17.8487 & 14.5 & 17.71 & 22.9 & 0 & Float64 \\\\\n",
       "\t9 & VS & 0.4375 & 0 & 0.0 & 1 & 0 & Int64 \\\\\n",
       "\t10 & AM & 0.40625 & 0 & 0.0 & 1 & 0 & Int64 \\\\\n",
       "\t11 & Gear & 3.6875 & 3 & 4.0 & 5 & 0 & Int64 \\\\\n",
       "\t12 & Carb & 2.8125 & 1 & 2.0 & 8 & 0 & Int64 \\\\\n",
       "\\end{tabular}\n"
      ],
      "text/plain": [
       "\u001b[1m12×7 DataFrame\u001b[0m\n",
       "\u001b[1m Row \u001b[0m│\u001b[1m variable \u001b[0m\u001b[1m mean    \u001b[0m\u001b[1m min         \u001b[0m\u001b[1m median \u001b[0m\u001b[1m max        \u001b[0m\u001b[1m nmissing \u001b[0m\u001b[1m eltype   \u001b[0m\n",
       "     │\u001b[90m Symbol   \u001b[0m\u001b[90m Union…  \u001b[0m\u001b[90m Any         \u001b[0m\u001b[90m Union… \u001b[0m\u001b[90m Any        \u001b[0m\u001b[90m Int64    \u001b[0m\u001b[90m DataType \u001b[0m\n",
       "─────┼────────────────────────────────────────────────────────────────────────\n",
       "   1 │ Model    \u001b[90m         \u001b[0m AMC Javelin \u001b[90m        \u001b[0m Volvo 142E         0  String31\n",
       "   2 │ MPG       20.0906  10.4         19.2    33.9               0  Float64\n",
       "   3 │ Cyl       6.1875   4            6.0     8                  0  Int64\n",
       "   4 │ Disp      230.722  71.1         196.3   472.0              0  Float64\n",
       "   5 │ HP        146.688  52           123.0   335                0  Int64\n",
       "   6 │ DRat      3.59656  2.76         3.695   4.93               0  Float64\n",
       "   7 │ WT        3.21725  1.513        3.325   5.424              0  Float64\n",
       "   8 │ QSec      17.8487  14.5         17.71   22.9               0  Float64\n",
       "   9 │ VS        0.4375   0            0.0     1                  0  Int64\n",
       "  10 │ AM        0.40625  0            0.0     1                  0  Int64\n",
       "  11 │ Gear      3.6875   3            4.0     5                  0  Int64\n",
       "  12 │ Carb      2.8125   1            2.0     8                  0  Int64"
      ]
     },
     "execution_count": 54,
     "metadata": {},
     "output_type": "execute_result"
    }
   ],
   "source": [
    "# descriptive stats\n",
    "describe(mtcars)"
   ]
  },
  {
   "cell_type": "code",
   "execution_count": 55,
   "id": "b698206b",
   "metadata": {},
   "outputs": [
    {
     "data": {
      "text/plain": [
       "12-element Vector{String}:\n",
       " \"Model\"\n",
       " \"MPG\"\n",
       " \"Cyl\"\n",
       " \"Disp\"\n",
       " \"HP\"\n",
       " \"DRat\"\n",
       " \"WT\"\n",
       " \"QSec\"\n",
       " \"VS\"\n",
       " \"AM\"\n",
       " \"Gear\"\n",
       " \"Carb\""
      ]
     },
     "execution_count": 55,
     "metadata": {},
     "output_type": "execute_result"
    }
   ],
   "source": [
    "# column names\n",
    "names(mtcars)"
   ]
  },
  {
   "cell_type": "markdown",
   "id": "a02b69ac",
   "metadata": {},
   "source": [
    "### \"Melting\" dataframes in R / \"Reshaping\" in Julia\n",
    "The main idea behind melting is the presence of \"id\" and \"value\" variables - the ID variables will represent the consistent identifiers we want to retain, and the value variables will be \"stacked\" to form a group with its own column - almost like a sub-data frame - it's hard to imagine but easier to understand once we play with it a little bit ourselves - so when performing the melt and stack functions, we need to always designate these two variables. In R, id variables come first and the measure variables seconds, whereas in Julia it is the other way around. Let's take a look in R;\n",
    "```R\n",
    "mtcars$carname <- rownames(mtcars) # looks redunant based on julia code \n",
    "carMelt <- melt(mtcares, id=c(\"carname\", \"gear\", \"cyl\"), measure.vars=c(\"mpg\", \"hp\"))\n",
    "```"
   ]
  },
  {
   "cell_type": "markdown",
   "id": "ab218f18",
   "metadata": {},
   "source": [
    "In Julia this is perform with the DataFrames package and **stack()**"
   ]
  },
  {
   "cell_type": "code",
   "execution_count": 56,
   "id": "facf7a54",
   "metadata": {
    "collapsed": true,
    "jupyter": {
     "outputs_hidden": true
    }
   },
   "outputs": [
    {
     "data": {
      "text/html": [
       "<div><div style = \"float: left;\"><span>64×5 DataFrame</span></div><div style = \"float: right;\"><span style = \"font-style: italic;\">39 rows omitted</span></div><div style = \"clear: both;\"></div></div><div class = \"data-frame\" style = \"overflow-x: scroll;\"><table class = \"data-frame\" style = \"margin-bottom: 6px;\"><thead><tr class = \"header\"><th class = \"rowNumber\" style = \"font-weight: bold; text-align: right;\">Row</th><th style = \"text-align: left;\">Model</th><th style = \"text-align: left;\">Gear</th><th style = \"text-align: left;\">Cyl</th><th style = \"text-align: left;\">variable</th><th style = \"text-align: left;\">value</th></tr><tr class = \"subheader headerLastRow\"><th class = \"rowNumber\" style = \"font-weight: bold; text-align: right;\"></th><th title = \"String31\" style = \"text-align: left;\">String31</th><th title = \"Int64\" style = \"text-align: left;\">Int64</th><th title = \"Int64\" style = \"text-align: left;\">Int64</th><th title = \"String\" style = \"text-align: left;\">String</th><th title = \"Float64\" style = \"text-align: left;\">Float64</th></tr></thead><tbody><tr><td class = \"rowNumber\" style = \"font-weight: bold; text-align: right;\">1</td><td style = \"text-align: left;\">Mazda RX4</td><td style = \"text-align: right;\">4</td><td style = \"text-align: right;\">6</td><td style = \"text-align: left;\">MPG</td><td style = \"text-align: right;\">21.0</td></tr><tr><td class = \"rowNumber\" style = \"font-weight: bold; text-align: right;\">2</td><td style = \"text-align: left;\">Mazda RX4 Wag</td><td style = \"text-align: right;\">4</td><td style = \"text-align: right;\">6</td><td style = \"text-align: left;\">MPG</td><td style = \"text-align: right;\">21.0</td></tr><tr><td class = \"rowNumber\" style = \"font-weight: bold; text-align: right;\">3</td><td style = \"text-align: left;\">Datsun 710</td><td style = \"text-align: right;\">4</td><td style = \"text-align: right;\">4</td><td style = \"text-align: left;\">MPG</td><td style = \"text-align: right;\">22.8</td></tr><tr><td class = \"rowNumber\" style = \"font-weight: bold; text-align: right;\">4</td><td style = \"text-align: left;\">Hornet 4 Drive</td><td style = \"text-align: right;\">3</td><td style = \"text-align: right;\">6</td><td style = \"text-align: left;\">MPG</td><td style = \"text-align: right;\">21.4</td></tr><tr><td class = \"rowNumber\" style = \"font-weight: bold; text-align: right;\">5</td><td style = \"text-align: left;\">Hornet Sportabout</td><td style = \"text-align: right;\">3</td><td style = \"text-align: right;\">8</td><td style = \"text-align: left;\">MPG</td><td style = \"text-align: right;\">18.7</td></tr><tr><td class = \"rowNumber\" style = \"font-weight: bold; text-align: right;\">6</td><td style = \"text-align: left;\">Valiant</td><td style = \"text-align: right;\">3</td><td style = \"text-align: right;\">6</td><td style = \"text-align: left;\">MPG</td><td style = \"text-align: right;\">18.1</td></tr><tr><td class = \"rowNumber\" style = \"font-weight: bold; text-align: right;\">7</td><td style = \"text-align: left;\">Duster 360</td><td style = \"text-align: right;\">3</td><td style = \"text-align: right;\">8</td><td style = \"text-align: left;\">MPG</td><td style = \"text-align: right;\">14.3</td></tr><tr><td class = \"rowNumber\" style = \"font-weight: bold; text-align: right;\">8</td><td style = \"text-align: left;\">Merc 240D</td><td style = \"text-align: right;\">4</td><td style = \"text-align: right;\">4</td><td style = \"text-align: left;\">MPG</td><td style = \"text-align: right;\">24.4</td></tr><tr><td class = \"rowNumber\" style = \"font-weight: bold; text-align: right;\">9</td><td style = \"text-align: left;\">Merc 230</td><td style = \"text-align: right;\">4</td><td style = \"text-align: right;\">4</td><td style = \"text-align: left;\">MPG</td><td style = \"text-align: right;\">22.8</td></tr><tr><td class = \"rowNumber\" style = \"font-weight: bold; text-align: right;\">10</td><td style = \"text-align: left;\">Merc 280</td><td style = \"text-align: right;\">4</td><td style = \"text-align: right;\">6</td><td style = \"text-align: left;\">MPG</td><td style = \"text-align: right;\">19.2</td></tr><tr><td class = \"rowNumber\" style = \"font-weight: bold; text-align: right;\">11</td><td style = \"text-align: left;\">Merc 280C</td><td style = \"text-align: right;\">4</td><td style = \"text-align: right;\">6</td><td style = \"text-align: left;\">MPG</td><td style = \"text-align: right;\">17.8</td></tr><tr><td class = \"rowNumber\" style = \"font-weight: bold; text-align: right;\">12</td><td style = \"text-align: left;\">Merc 450SE</td><td style = \"text-align: right;\">3</td><td style = \"text-align: right;\">8</td><td style = \"text-align: left;\">MPG</td><td style = \"text-align: right;\">16.4</td></tr><tr><td class = \"rowNumber\" style = \"font-weight: bold; text-align: right;\">13</td><td style = \"text-align: left;\">Merc 450SL</td><td style = \"text-align: right;\">3</td><td style = \"text-align: right;\">8</td><td style = \"text-align: left;\">MPG</td><td style = \"text-align: right;\">17.3</td></tr><tr><td style = \"text-align: right;\">&vellip;</td><td style = \"text-align: right;\">&vellip;</td><td style = \"text-align: right;\">&vellip;</td><td style = \"text-align: right;\">&vellip;</td><td style = \"text-align: right;\">&vellip;</td><td style = \"text-align: right;\">&vellip;</td></tr><tr><td class = \"rowNumber\" style = \"font-weight: bold; text-align: right;\">53</td><td style = \"text-align: left;\">Toyota Corona</td><td style = \"text-align: right;\">3</td><td style = \"text-align: right;\">4</td><td style = \"text-align: left;\">HP</td><td style = \"text-align: right;\">97.0</td></tr><tr><td class = \"rowNumber\" style = \"font-weight: bold; text-align: right;\">54</td><td style = \"text-align: left;\">Dodge Challenger</td><td style = \"text-align: right;\">3</td><td style = \"text-align: right;\">8</td><td style = \"text-align: left;\">HP</td><td style = \"text-align: right;\">150.0</td></tr><tr><td class = \"rowNumber\" style = \"font-weight: bold; text-align: right;\">55</td><td style = \"text-align: left;\">AMC Javelin</td><td style = \"text-align: right;\">3</td><td style = \"text-align: right;\">8</td><td style = \"text-align: left;\">HP</td><td style = \"text-align: right;\">150.0</td></tr><tr><td class = \"rowNumber\" style = \"font-weight: bold; text-align: right;\">56</td><td style = \"text-align: left;\">Camaro Z28</td><td style = \"text-align: right;\">3</td><td style = \"text-align: right;\">8</td><td style = \"text-align: left;\">HP</td><td style = \"text-align: right;\">245.0</td></tr><tr><td class = \"rowNumber\" style = \"font-weight: bold; text-align: right;\">57</td><td style = \"text-align: left;\">Pontiac Firebird</td><td style = \"text-align: right;\">3</td><td style = \"text-align: right;\">8</td><td style = \"text-align: left;\">HP</td><td style = \"text-align: right;\">175.0</td></tr><tr><td class = \"rowNumber\" style = \"font-weight: bold; text-align: right;\">58</td><td style = \"text-align: left;\">Fiat X1-9</td><td style = \"text-align: right;\">4</td><td style = \"text-align: right;\">4</td><td style = \"text-align: left;\">HP</td><td style = \"text-align: right;\">66.0</td></tr><tr><td class = \"rowNumber\" style = \"font-weight: bold; text-align: right;\">59</td><td style = \"text-align: left;\">Porsche 914-2</td><td style = \"text-align: right;\">5</td><td style = \"text-align: right;\">4</td><td style = \"text-align: left;\">HP</td><td style = \"text-align: right;\">91.0</td></tr><tr><td class = \"rowNumber\" style = \"font-weight: bold; text-align: right;\">60</td><td style = \"text-align: left;\">Lotus Europa</td><td style = \"text-align: right;\">5</td><td style = \"text-align: right;\">4</td><td style = \"text-align: left;\">HP</td><td style = \"text-align: right;\">113.0</td></tr><tr><td class = \"rowNumber\" style = \"font-weight: bold; text-align: right;\">61</td><td style = \"text-align: left;\">Ford Pantera L</td><td style = \"text-align: right;\">5</td><td style = \"text-align: right;\">8</td><td style = \"text-align: left;\">HP</td><td style = \"text-align: right;\">264.0</td></tr><tr><td class = \"rowNumber\" style = \"font-weight: bold; text-align: right;\">62</td><td style = \"text-align: left;\">Ferrari Dino</td><td style = \"text-align: right;\">5</td><td style = \"text-align: right;\">6</td><td style = \"text-align: left;\">HP</td><td style = \"text-align: right;\">175.0</td></tr><tr><td class = \"rowNumber\" style = \"font-weight: bold; text-align: right;\">63</td><td style = \"text-align: left;\">Maserati Bora</td><td style = \"text-align: right;\">5</td><td style = \"text-align: right;\">8</td><td style = \"text-align: left;\">HP</td><td style = \"text-align: right;\">335.0</td></tr><tr><td class = \"rowNumber\" style = \"font-weight: bold; text-align: right;\">64</td><td style = \"text-align: left;\">Volvo 142E</td><td style = \"text-align: right;\">4</td><td style = \"text-align: right;\">4</td><td style = \"text-align: left;\">HP</td><td style = \"text-align: right;\">109.0</td></tr></tbody></table></div>"
      ],
      "text/latex": [
       "\\begin{tabular}{r|ccccc}\n",
       "\t& Model & Gear & Cyl & variable & value\\\\\n",
       "\t\\hline\n",
       "\t& String31 & Int64 & Int64 & String & Float64\\\\\n",
       "\t\\hline\n",
       "\t1 & Mazda RX4 & 4 & 6 & MPG & 21.0 \\\\\n",
       "\t2 & Mazda RX4 Wag & 4 & 6 & MPG & 21.0 \\\\\n",
       "\t3 & Datsun 710 & 4 & 4 & MPG & 22.8 \\\\\n",
       "\t4 & Hornet 4 Drive & 3 & 6 & MPG & 21.4 \\\\\n",
       "\t5 & Hornet Sportabout & 3 & 8 & MPG & 18.7 \\\\\n",
       "\t6 & Valiant & 3 & 6 & MPG & 18.1 \\\\\n",
       "\t7 & Duster 360 & 3 & 8 & MPG & 14.3 \\\\\n",
       "\t8 & Merc 240D & 4 & 4 & MPG & 24.4 \\\\\n",
       "\t9 & Merc 230 & 4 & 4 & MPG & 22.8 \\\\\n",
       "\t10 & Merc 280 & 4 & 6 & MPG & 19.2 \\\\\n",
       "\t11 & Merc 280C & 4 & 6 & MPG & 17.8 \\\\\n",
       "\t12 & Merc 450SE & 3 & 8 & MPG & 16.4 \\\\\n",
       "\t13 & Merc 450SL & 3 & 8 & MPG & 17.3 \\\\\n",
       "\t14 & Merc 450SLC & 3 & 8 & MPG & 15.2 \\\\\n",
       "\t15 & Cadillac Fleetwood & 3 & 8 & MPG & 10.4 \\\\\n",
       "\t16 & Lincoln Continental & 3 & 8 & MPG & 10.4 \\\\\n",
       "\t17 & Chrysler Imperial & 3 & 8 & MPG & 14.7 \\\\\n",
       "\t18 & Fiat 128 & 4 & 4 & MPG & 32.4 \\\\\n",
       "\t19 & Honda Civic & 4 & 4 & MPG & 30.4 \\\\\n",
       "\t20 & Toyota Corolla & 4 & 4 & MPG & 33.9 \\\\\n",
       "\t21 & Toyota Corona & 3 & 4 & MPG & 21.5 \\\\\n",
       "\t22 & Dodge Challenger & 3 & 8 & MPG & 15.5 \\\\\n",
       "\t23 & AMC Javelin & 3 & 8 & MPG & 15.2 \\\\\n",
       "\t24 & Camaro Z28 & 3 & 8 & MPG & 13.3 \\\\\n",
       "\t25 & Pontiac Firebird & 3 & 8 & MPG & 19.2 \\\\\n",
       "\t26 & Fiat X1-9 & 4 & 4 & MPG & 27.3 \\\\\n",
       "\t27 & Porsche 914-2 & 5 & 4 & MPG & 26.0 \\\\\n",
       "\t28 & Lotus Europa & 5 & 4 & MPG & 30.4 \\\\\n",
       "\t29 & Ford Pantera L & 5 & 8 & MPG & 15.8 \\\\\n",
       "\t30 & Ferrari Dino & 5 & 6 & MPG & 19.7 \\\\\n",
       "\t$\\dots$ & $\\dots$ & $\\dots$ & $\\dots$ & $\\dots$ & $\\dots$ \\\\\n",
       "\\end{tabular}\n"
      ],
      "text/plain": [
       "\u001b[1m64×5 DataFrame\u001b[0m\n",
       "\u001b[1m Row \u001b[0m│\u001b[1m Model             \u001b[0m\u001b[1m Gear  \u001b[0m\u001b[1m Cyl   \u001b[0m\u001b[1m variable \u001b[0m\u001b[1m value   \u001b[0m\n",
       "     │\u001b[90m String31          \u001b[0m\u001b[90m Int64 \u001b[0m\u001b[90m Int64 \u001b[0m\u001b[90m String   \u001b[0m\u001b[90m Float64 \u001b[0m\n",
       "─────┼────────────────────────────────────────────────────\n",
       "   1 │ Mazda RX4              4      6  MPG          21.0\n",
       "   2 │ Mazda RX4 Wag          4      6  MPG          21.0\n",
       "   3 │ Datsun 710             4      4  MPG          22.8\n",
       "   4 │ Hornet 4 Drive         3      6  MPG          21.4\n",
       "   5 │ Hornet Sportabout      3      8  MPG          18.7\n",
       "   6 │ Valiant                3      6  MPG          18.1\n",
       "   7 │ Duster 360             3      8  MPG          14.3\n",
       "   8 │ Merc 240D              4      4  MPG          24.4\n",
       "   9 │ Merc 230               4      4  MPG          22.8\n",
       "  10 │ Merc 280               4      6  MPG          19.2\n",
       "  11 │ Merc 280C              4      6  MPG          17.8\n",
       "  ⋮  │         ⋮            ⋮      ⋮       ⋮         ⋮\n",
       "  55 │ AMC Javelin            3      8  HP          150.0\n",
       "  56 │ Camaro Z28             3      8  HP          245.0\n",
       "  57 │ Pontiac Firebird       3      8  HP          175.0\n",
       "  58 │ Fiat X1-9              4      4  HP           66.0\n",
       "  59 │ Porsche 914-2          5      4  HP           91.0\n",
       "  60 │ Lotus Europa           5      4  HP          113.0\n",
       "  61 │ Ford Pantera L         5      8  HP          264.0\n",
       "  62 │ Ferrari Dino           5      6  HP          175.0\n",
       "  63 │ Maserati Bora          5      8  HP          335.0\n",
       "  64 │ Volvo 142E             4      4  HP          109.0\n",
       "\u001b[36m                                           43 rows omitted\u001b[0m"
      ]
     },
     "execution_count": 56,
     "metadata": {},
     "output_type": "execute_result"
    }
   ],
   "source": [
    "mt_stack = stack(mtcars, [:MPG, :HP], [:Model, :Gear, :Cyl])"
   ]
  },
  {
   "cell_type": "markdown",
   "id": "c50bb102",
   "metadata": {},
   "source": [
    "### Casting dataframes"
   ]
  },
  {
   "cell_type": "markdown",
   "id": "8119b675",
   "metadata": {},
   "source": [
    "Imagine we want to get a quick overview of how many values of a certain variable we have in our dataset - say, the distribution of miles per gallon and horse power based upon the cylinders a car has - the relation between cylinders and engine performance : Cylinders ~ engine. In R we would use **dcast()**; \n",
    "```R\n",
    "cylData <- dcast(carMelt, cyl ~ variable) \n",
    "```"
   ]
  },
  {
   "cell_type": "markdown",
   "id": "70454ac9",
   "metadata": {},
   "source": [
    "This is a littler trickier in Julia as there's not as much supporting documentation yet, but this is called a \"pivot table\" in Julia -- bogumil (who else?!) has a great post here https://www.juliabloggers.com/pivot-tables-in-dataframes-jl/ "
   ]
  },
  {
   "cell_type": "code",
   "execution_count": 57,
   "id": "a3ab4fb6",
   "metadata": {},
   "outputs": [
    {
     "data": {
      "text/html": [
       "<div><div style = \"float: left;\"><span>3×3 DataFrame</span></div><div style = \"clear: both;\"></div></div><div class = \"data-frame\" style = \"overflow-x: scroll;\"><table class = \"data-frame\" style = \"margin-bottom: 6px;\"><thead><tr class = \"header\"><th class = \"rowNumber\" style = \"font-weight: bold; text-align: right;\">Row</th><th style = \"text-align: left;\">Cyl</th><th style = \"text-align: left;\">MPG</th><th style = \"text-align: left;\">HP</th></tr><tr class = \"subheader headerLastRow\"><th class = \"rowNumber\" style = \"font-weight: bold; text-align: right;\"></th><th title = \"Int64\" style = \"text-align: left;\">Int64</th><th title = \"Union{Missing, Int64}\" style = \"text-align: left;\">Int64?</th><th title = \"Union{Missing, Int64}\" style = \"text-align: left;\">Int64?</th></tr></thead><tbody><tr><td class = \"rowNumber\" style = \"font-weight: bold; text-align: right;\">1</td><td style = \"text-align: right;\">6</td><td style = \"text-align: right;\">7</td><td style = \"text-align: right;\">7</td></tr><tr><td class = \"rowNumber\" style = \"font-weight: bold; text-align: right;\">2</td><td style = \"text-align: right;\">4</td><td style = \"text-align: right;\">11</td><td style = \"text-align: right;\">11</td></tr><tr><td class = \"rowNumber\" style = \"font-weight: bold; text-align: right;\">3</td><td style = \"text-align: right;\">8</td><td style = \"text-align: right;\">14</td><td style = \"text-align: right;\">14</td></tr></tbody></table></div>"
      ],
      "text/latex": [
       "\\begin{tabular}{r|ccc}\n",
       "\t& Cyl & MPG & HP\\\\\n",
       "\t\\hline\n",
       "\t& Int64 & Int64? & Int64?\\\\\n",
       "\t\\hline\n",
       "\t1 & 6 & 7 & 7 \\\\\n",
       "\t2 & 4 & 11 & 11 \\\\\n",
       "\t3 & 8 & 14 & 14 \\\\\n",
       "\\end{tabular}\n"
      ],
      "text/plain": [
       "\u001b[1m3×3 DataFrame\u001b[0m\n",
       "\u001b[1m Row \u001b[0m│\u001b[1m Cyl   \u001b[0m\u001b[1m MPG    \u001b[0m\u001b[1m HP     \u001b[0m\n",
       "     │\u001b[90m Int64 \u001b[0m\u001b[90m Int64? \u001b[0m\u001b[90m Int64? \u001b[0m\n",
       "─────┼───────────────────────\n",
       "   1 │     6       7       7\n",
       "   2 │     4      11      11\n",
       "   3 │     8      14      14"
      ]
     },
     "execution_count": 57,
     "metadata": {},
     "output_type": "execute_result"
    }
   ],
   "source": [
    "unstack(mt_stack, :Cyl, :variable, :Cyl, combine=length)"
   ]
  },
  {
   "cell_type": "markdown",
   "id": "1a1d2bc4",
   "metadata": {},
   "source": [
    "Now let's get the mean of these measures, rather than their length?"
   ]
  },
  {
   "cell_type": "code",
   "execution_count": 58,
   "id": "483ee23a",
   "metadata": {},
   "outputs": [
    {
     "data": {
      "text/html": [
       "<div><div style = \"float: left;\"><span>3×3 DataFrame</span></div><div style = \"clear: both;\"></div></div><div class = \"data-frame\" style = \"overflow-x: scroll;\"><table class = \"data-frame\" style = \"margin-bottom: 6px;\"><thead><tr class = \"header\"><th class = \"rowNumber\" style = \"font-weight: bold; text-align: right;\">Row</th><th style = \"text-align: left;\">Cyl</th><th style = \"text-align: left;\">MPG</th><th style = \"text-align: left;\">HP</th></tr><tr class = \"subheader headerLastRow\"><th class = \"rowNumber\" style = \"font-weight: bold; text-align: right;\"></th><th title = \"Int64\" style = \"text-align: left;\">Int64</th><th title = \"Union{Missing, Float64}\" style = \"text-align: left;\">Float64?</th><th title = \"Union{Missing, Float64}\" style = \"text-align: left;\">Float64?</th></tr></thead><tbody><tr><td class = \"rowNumber\" style = \"font-weight: bold; text-align: right;\">1</td><td style = \"text-align: right;\">6</td><td style = \"text-align: right;\">19.7429</td><td style = \"text-align: right;\">122.286</td></tr><tr><td class = \"rowNumber\" style = \"font-weight: bold; text-align: right;\">2</td><td style = \"text-align: right;\">4</td><td style = \"text-align: right;\">26.6636</td><td style = \"text-align: right;\">82.6364</td></tr><tr><td class = \"rowNumber\" style = \"font-weight: bold; text-align: right;\">3</td><td style = \"text-align: right;\">8</td><td style = \"text-align: right;\">15.1</td><td style = \"text-align: right;\">209.214</td></tr></tbody></table></div>"
      ],
      "text/latex": [
       "\\begin{tabular}{r|ccc}\n",
       "\t& Cyl & MPG & HP\\\\\n",
       "\t\\hline\n",
       "\t& Int64 & Float64? & Float64?\\\\\n",
       "\t\\hline\n",
       "\t1 & 6 & 19.7429 & 122.286 \\\\\n",
       "\t2 & 4 & 26.6636 & 82.6364 \\\\\n",
       "\t3 & 8 & 15.1 & 209.214 \\\\\n",
       "\\end{tabular}\n"
      ],
      "text/plain": [
       "\u001b[1m3×3 DataFrame\u001b[0m\n",
       "\u001b[1m Row \u001b[0m│\u001b[1m Cyl   \u001b[0m\u001b[1m MPG      \u001b[0m\u001b[1m HP       \u001b[0m\n",
       "     │\u001b[90m Int64 \u001b[0m\u001b[90m Float64? \u001b[0m\u001b[90m Float64? \u001b[0m\n",
       "─────┼───────────────────────────\n",
       "   1 │     6   19.7429  122.286\n",
       "   2 │     4   26.6636   82.6364\n",
       "   3 │     8   15.1     209.214"
      ]
     },
     "execution_count": 58,
     "metadata": {},
     "output_type": "execute_result"
    }
   ],
   "source": [
    "unstack(mt_stack, :Cyl, :variable, :value, combine=mean)"
   ]
  },
  {
   "cell_type": "markdown",
   "id": "466425ab",
   "metadata": {},
   "source": [
    "### Averaging values"
   ]
  },
  {
   "cell_type": "code",
   "execution_count": 59,
   "id": "77df412e",
   "metadata": {},
   "outputs": [
    {
     "data": {
      "text/plain": [
       "Dict{Int64, Int64} with 2 entries:\n",
       "  0 => 19\n",
       "  1 => 13"
      ]
     },
     "execution_count": 59,
     "metadata": {},
     "output_type": "execute_result"
    }
   ],
   "source": [
    "countmap(sum.(mtcars.AM))"
   ]
  },
  {
   "cell_type": "code",
   "execution_count": 60,
   "id": "bc15aa01",
   "metadata": {
    "collapsed": true,
    "jupyter": {
     "outputs_hidden": true
    }
   },
   "outputs": [
    {
     "data": {
      "text/html": [
       "<p><b>GroupedDataFrame with 3 groups based on key: Cyl</b></p><div><div style = \"float: left;\"><span>First Group (11 rows): Cyl = 4</span></div><div style = \"clear: both;\"></div></div><div class = \"data-frame\" style = \"overflow-x: scroll;\"><table class = \"data-frame\" style = \"margin-bottom: 6px;\"><thead><tr class = \"header\"><th class = \"rowNumber\" style = \"font-weight: bold; text-align: right;\">Row</th><th style = \"text-align: left;\">Model</th><th style = \"text-align: left;\">MPG</th><th style = \"text-align: left;\">Cyl</th><th style = \"text-align: left;\">Disp</th><th style = \"text-align: left;\">HP</th><th style = \"text-align: left;\">DRat</th><th style = \"text-align: left;\">WT</th><th style = \"text-align: left;\">QSec</th><th style = \"text-align: left;\">VS</th><th style = \"text-align: left;\">AM</th><th style = \"text-align: left;\">Gear</th><th style = \"text-align: left;\">Carb</th></tr><tr class = \"subheader headerLastRow\"><th class = \"rowNumber\" style = \"font-weight: bold; text-align: right;\"></th><th title = \"String31\" style = \"text-align: left;\">String31</th><th title = \"Float64\" style = \"text-align: left;\">Float64</th><th title = \"Int64\" style = \"text-align: left;\">Int64</th><th title = \"Float64\" style = \"text-align: left;\">Float64</th><th title = \"Int64\" style = \"text-align: left;\">Int64</th><th title = \"Float64\" style = \"text-align: left;\">Float64</th><th title = \"Float64\" style = \"text-align: left;\">Float64</th><th title = \"Float64\" style = \"text-align: left;\">Float64</th><th title = \"Int64\" style = \"text-align: left;\">Int64</th><th title = \"Int64\" style = \"text-align: left;\">Int64</th><th title = \"Int64\" style = \"text-align: left;\">Int64</th><th title = \"Int64\" style = \"text-align: left;\">Int64</th></tr></thead><tbody><tr><td class = \"rowNumber\" style = \"font-weight: bold; text-align: right;\">1</td><td style = \"text-align: left;\">Datsun 710</td><td style = \"text-align: right;\">22.8</td><td style = \"text-align: right;\">4</td><td style = \"text-align: right;\">108.0</td><td style = \"text-align: right;\">93</td><td style = \"text-align: right;\">3.85</td><td style = \"text-align: right;\">2.32</td><td style = \"text-align: right;\">18.61</td><td style = \"text-align: right;\">1</td><td style = \"text-align: right;\">1</td><td style = \"text-align: right;\">4</td><td style = \"text-align: right;\">1</td></tr><tr><td class = \"rowNumber\" style = \"font-weight: bold; text-align: right;\">2</td><td style = \"text-align: left;\">Merc 240D</td><td style = \"text-align: right;\">24.4</td><td style = \"text-align: right;\">4</td><td style = \"text-align: right;\">146.7</td><td style = \"text-align: right;\">62</td><td style = \"text-align: right;\">3.69</td><td style = \"text-align: right;\">3.19</td><td style = \"text-align: right;\">20.0</td><td style = \"text-align: right;\">1</td><td style = \"text-align: right;\">0</td><td style = \"text-align: right;\">4</td><td style = \"text-align: right;\">2</td></tr><tr><td class = \"rowNumber\" style = \"font-weight: bold; text-align: right;\">3</td><td style = \"text-align: left;\">Merc 230</td><td style = \"text-align: right;\">22.8</td><td style = \"text-align: right;\">4</td><td style = \"text-align: right;\">140.8</td><td style = \"text-align: right;\">95</td><td style = \"text-align: right;\">3.92</td><td style = \"text-align: right;\">3.15</td><td style = \"text-align: right;\">22.9</td><td style = \"text-align: right;\">1</td><td style = \"text-align: right;\">0</td><td style = \"text-align: right;\">4</td><td style = \"text-align: right;\">2</td></tr><tr><td class = \"rowNumber\" style = \"font-weight: bold; text-align: right;\">4</td><td style = \"text-align: left;\">Fiat 128</td><td style = \"text-align: right;\">32.4</td><td style = \"text-align: right;\">4</td><td style = \"text-align: right;\">78.7</td><td style = \"text-align: right;\">66</td><td style = \"text-align: right;\">4.08</td><td style = \"text-align: right;\">2.2</td><td style = \"text-align: right;\">19.47</td><td style = \"text-align: right;\">1</td><td style = \"text-align: right;\">1</td><td style = \"text-align: right;\">4</td><td style = \"text-align: right;\">1</td></tr><tr><td class = \"rowNumber\" style = \"font-weight: bold; text-align: right;\">5</td><td style = \"text-align: left;\">Honda Civic</td><td style = \"text-align: right;\">30.4</td><td style = \"text-align: right;\">4</td><td style = \"text-align: right;\">75.7</td><td style = \"text-align: right;\">52</td><td style = \"text-align: right;\">4.93</td><td style = \"text-align: right;\">1.615</td><td style = \"text-align: right;\">18.52</td><td style = \"text-align: right;\">1</td><td style = \"text-align: right;\">1</td><td style = \"text-align: right;\">4</td><td style = \"text-align: right;\">2</td></tr><tr><td class = \"rowNumber\" style = \"font-weight: bold; text-align: right;\">6</td><td style = \"text-align: left;\">Toyota Corolla</td><td style = \"text-align: right;\">33.9</td><td style = \"text-align: right;\">4</td><td style = \"text-align: right;\">71.1</td><td style = \"text-align: right;\">65</td><td style = \"text-align: right;\">4.22</td><td style = \"text-align: right;\">1.835</td><td style = \"text-align: right;\">19.9</td><td style = \"text-align: right;\">1</td><td style = \"text-align: right;\">1</td><td style = \"text-align: right;\">4</td><td style = \"text-align: right;\">1</td></tr><tr><td class = \"rowNumber\" style = \"font-weight: bold; text-align: right;\">7</td><td style = \"text-align: left;\">Toyota Corona</td><td style = \"text-align: right;\">21.5</td><td style = \"text-align: right;\">4</td><td style = \"text-align: right;\">120.1</td><td style = \"text-align: right;\">97</td><td style = \"text-align: right;\">3.7</td><td style = \"text-align: right;\">2.465</td><td style = \"text-align: right;\">20.01</td><td style = \"text-align: right;\">1</td><td style = \"text-align: right;\">0</td><td style = \"text-align: right;\">3</td><td style = \"text-align: right;\">1</td></tr><tr><td class = \"rowNumber\" style = \"font-weight: bold; text-align: right;\">8</td><td style = \"text-align: left;\">Fiat X1-9</td><td style = \"text-align: right;\">27.3</td><td style = \"text-align: right;\">4</td><td style = \"text-align: right;\">79.0</td><td style = \"text-align: right;\">66</td><td style = \"text-align: right;\">4.08</td><td style = \"text-align: right;\">1.935</td><td style = \"text-align: right;\">18.9</td><td style = \"text-align: right;\">1</td><td style = \"text-align: right;\">1</td><td style = \"text-align: right;\">4</td><td style = \"text-align: right;\">1</td></tr><tr><td class = \"rowNumber\" style = \"font-weight: bold; text-align: right;\">9</td><td style = \"text-align: left;\">Porsche 914-2</td><td style = \"text-align: right;\">26.0</td><td style = \"text-align: right;\">4</td><td style = \"text-align: right;\">120.3</td><td style = \"text-align: right;\">91</td><td style = \"text-align: right;\">4.43</td><td style = \"text-align: right;\">2.14</td><td style = \"text-align: right;\">16.7</td><td style = \"text-align: right;\">0</td><td style = \"text-align: right;\">1</td><td style = \"text-align: right;\">5</td><td style = \"text-align: right;\">2</td></tr><tr><td class = \"rowNumber\" style = \"font-weight: bold; text-align: right;\">10</td><td style = \"text-align: left;\">Lotus Europa</td><td style = \"text-align: right;\">30.4</td><td style = \"text-align: right;\">4</td><td style = \"text-align: right;\">95.1</td><td style = \"text-align: right;\">113</td><td style = \"text-align: right;\">3.77</td><td style = \"text-align: right;\">1.513</td><td style = \"text-align: right;\">16.9</td><td style = \"text-align: right;\">1</td><td style = \"text-align: right;\">1</td><td style = \"text-align: right;\">5</td><td style = \"text-align: right;\">2</td></tr><tr><td class = \"rowNumber\" style = \"font-weight: bold; text-align: right;\">11</td><td style = \"text-align: left;\">Volvo 142E</td><td style = \"text-align: right;\">21.4</td><td style = \"text-align: right;\">4</td><td style = \"text-align: right;\">121.0</td><td style = \"text-align: right;\">109</td><td style = \"text-align: right;\">4.11</td><td style = \"text-align: right;\">2.78</td><td style = \"text-align: right;\">18.6</td><td style = \"text-align: right;\">1</td><td style = \"text-align: right;\">1</td><td style = \"text-align: right;\">4</td><td style = \"text-align: right;\">2</td></tr></tbody></table></div><p>&vellip;</p><div><div style = \"float: left;\"><span>Last Group (14 rows): Cyl = 8</span></div><div style = \"clear: both;\"></div></div><div class = \"data-frame\" style = \"overflow-x: scroll;\"><table class = \"data-frame\" style = \"margin-bottom: 6px;\"><thead><tr class = \"header\"><th class = \"rowNumber\" style = \"font-weight: bold; text-align: right;\">Row</th><th style = \"text-align: left;\">Model</th><th style = \"text-align: left;\">MPG</th><th style = \"text-align: left;\">Cyl</th><th style = \"text-align: left;\">Disp</th><th style = \"text-align: left;\">HP</th><th style = \"text-align: left;\">DRat</th><th style = \"text-align: left;\">WT</th><th style = \"text-align: left;\">QSec</th><th style = \"text-align: left;\">VS</th><th style = \"text-align: left;\">AM</th><th style = \"text-align: left;\">Gear</th><th style = \"text-align: left;\">Carb</th></tr><tr class = \"subheader headerLastRow\"><th class = \"rowNumber\" style = \"font-weight: bold; text-align: right;\"></th><th title = \"String31\" style = \"text-align: left;\">String31</th><th title = \"Float64\" style = \"text-align: left;\">Float64</th><th title = \"Int64\" style = \"text-align: left;\">Int64</th><th title = \"Float64\" style = \"text-align: left;\">Float64</th><th title = \"Int64\" style = \"text-align: left;\">Int64</th><th title = \"Float64\" style = \"text-align: left;\">Float64</th><th title = \"Float64\" style = \"text-align: left;\">Float64</th><th title = \"Float64\" style = \"text-align: left;\">Float64</th><th title = \"Int64\" style = \"text-align: left;\">Int64</th><th title = \"Int64\" style = \"text-align: left;\">Int64</th><th title = \"Int64\" style = \"text-align: left;\">Int64</th><th title = \"Int64\" style = \"text-align: left;\">Int64</th></tr></thead><tbody><tr><td class = \"rowNumber\" style = \"font-weight: bold; text-align: right;\">1</td><td style = \"text-align: left;\">Hornet Sportabout</td><td style = \"text-align: right;\">18.7</td><td style = \"text-align: right;\">8</td><td style = \"text-align: right;\">360.0</td><td style = \"text-align: right;\">175</td><td style = \"text-align: right;\">3.15</td><td style = \"text-align: right;\">3.44</td><td style = \"text-align: right;\">17.02</td><td style = \"text-align: right;\">0</td><td style = \"text-align: right;\">0</td><td style = \"text-align: right;\">3</td><td style = \"text-align: right;\">2</td></tr><tr><td class = \"rowNumber\" style = \"font-weight: bold; text-align: right;\">2</td><td style = \"text-align: left;\">Duster 360</td><td style = \"text-align: right;\">14.3</td><td style = \"text-align: right;\">8</td><td style = \"text-align: right;\">360.0</td><td style = \"text-align: right;\">245</td><td style = \"text-align: right;\">3.21</td><td style = \"text-align: right;\">3.57</td><td style = \"text-align: right;\">15.84</td><td style = \"text-align: right;\">0</td><td style = \"text-align: right;\">0</td><td style = \"text-align: right;\">3</td><td style = \"text-align: right;\">4</td></tr><tr><td class = \"rowNumber\" style = \"font-weight: bold; text-align: right;\">3</td><td style = \"text-align: left;\">Merc 450SE</td><td style = \"text-align: right;\">16.4</td><td style = \"text-align: right;\">8</td><td style = \"text-align: right;\">275.8</td><td style = \"text-align: right;\">180</td><td style = \"text-align: right;\">3.07</td><td style = \"text-align: right;\">4.07</td><td style = \"text-align: right;\">17.4</td><td style = \"text-align: right;\">0</td><td style = \"text-align: right;\">0</td><td style = \"text-align: right;\">3</td><td style = \"text-align: right;\">3</td></tr><tr><td class = \"rowNumber\" style = \"font-weight: bold; text-align: right;\">4</td><td style = \"text-align: left;\">Merc 450SL</td><td style = \"text-align: right;\">17.3</td><td style = \"text-align: right;\">8</td><td style = \"text-align: right;\">275.8</td><td style = \"text-align: right;\">180</td><td style = \"text-align: right;\">3.07</td><td style = \"text-align: right;\">3.73</td><td style = \"text-align: right;\">17.6</td><td style = \"text-align: right;\">0</td><td style = \"text-align: right;\">0</td><td style = \"text-align: right;\">3</td><td style = \"text-align: right;\">3</td></tr><tr><td class = \"rowNumber\" style = \"font-weight: bold; text-align: right;\">5</td><td style = \"text-align: left;\">Merc 450SLC</td><td style = \"text-align: right;\">15.2</td><td style = \"text-align: right;\">8</td><td style = \"text-align: right;\">275.8</td><td style = \"text-align: right;\">180</td><td style = \"text-align: right;\">3.07</td><td style = \"text-align: right;\">3.78</td><td style = \"text-align: right;\">18.0</td><td style = \"text-align: right;\">0</td><td style = \"text-align: right;\">0</td><td style = \"text-align: right;\">3</td><td style = \"text-align: right;\">3</td></tr><tr><td class = \"rowNumber\" style = \"font-weight: bold; text-align: right;\">6</td><td style = \"text-align: left;\">Cadillac Fleetwood</td><td style = \"text-align: right;\">10.4</td><td style = \"text-align: right;\">8</td><td style = \"text-align: right;\">472.0</td><td style = \"text-align: right;\">205</td><td style = \"text-align: right;\">2.93</td><td style = \"text-align: right;\">5.25</td><td style = \"text-align: right;\">17.98</td><td style = \"text-align: right;\">0</td><td style = \"text-align: right;\">0</td><td style = \"text-align: right;\">3</td><td style = \"text-align: right;\">4</td></tr><tr><td class = \"rowNumber\" style = \"font-weight: bold; text-align: right;\">7</td><td style = \"text-align: left;\">Lincoln Continental</td><td style = \"text-align: right;\">10.4</td><td style = \"text-align: right;\">8</td><td style = \"text-align: right;\">460.0</td><td style = \"text-align: right;\">215</td><td style = \"text-align: right;\">3.0</td><td style = \"text-align: right;\">5.424</td><td style = \"text-align: right;\">17.82</td><td style = \"text-align: right;\">0</td><td style = \"text-align: right;\">0</td><td style = \"text-align: right;\">3</td><td style = \"text-align: right;\">4</td></tr><tr><td class = \"rowNumber\" style = \"font-weight: bold; text-align: right;\">8</td><td style = \"text-align: left;\">Chrysler Imperial</td><td style = \"text-align: right;\">14.7</td><td style = \"text-align: right;\">8</td><td style = \"text-align: right;\">440.0</td><td style = \"text-align: right;\">230</td><td style = \"text-align: right;\">3.23</td><td style = \"text-align: right;\">5.345</td><td style = \"text-align: right;\">17.42</td><td style = \"text-align: right;\">0</td><td style = \"text-align: right;\">0</td><td style = \"text-align: right;\">3</td><td style = \"text-align: right;\">4</td></tr><tr><td class = \"rowNumber\" style = \"font-weight: bold; text-align: right;\">9</td><td style = \"text-align: left;\">Dodge Challenger</td><td style = \"text-align: right;\">15.5</td><td style = \"text-align: right;\">8</td><td style = \"text-align: right;\">318.0</td><td style = \"text-align: right;\">150</td><td style = \"text-align: right;\">2.76</td><td style = \"text-align: right;\">3.52</td><td style = \"text-align: right;\">16.87</td><td style = \"text-align: right;\">0</td><td style = \"text-align: right;\">0</td><td style = \"text-align: right;\">3</td><td style = \"text-align: right;\">2</td></tr><tr><td class = \"rowNumber\" style = \"font-weight: bold; text-align: right;\">10</td><td style = \"text-align: left;\">AMC Javelin</td><td style = \"text-align: right;\">15.2</td><td style = \"text-align: right;\">8</td><td style = \"text-align: right;\">304.0</td><td style = \"text-align: right;\">150</td><td style = \"text-align: right;\">3.15</td><td style = \"text-align: right;\">3.435</td><td style = \"text-align: right;\">17.3</td><td style = \"text-align: right;\">0</td><td style = \"text-align: right;\">0</td><td style = \"text-align: right;\">3</td><td style = \"text-align: right;\">2</td></tr><tr><td class = \"rowNumber\" style = \"font-weight: bold; text-align: right;\">11</td><td style = \"text-align: left;\">Camaro Z28</td><td style = \"text-align: right;\">13.3</td><td style = \"text-align: right;\">8</td><td style = \"text-align: right;\">350.0</td><td style = \"text-align: right;\">245</td><td style = \"text-align: right;\">3.73</td><td style = \"text-align: right;\">3.84</td><td style = \"text-align: right;\">15.41</td><td style = \"text-align: right;\">0</td><td style = \"text-align: right;\">0</td><td style = \"text-align: right;\">3</td><td style = \"text-align: right;\">4</td></tr><tr><td class = \"rowNumber\" style = \"font-weight: bold; text-align: right;\">12</td><td style = \"text-align: left;\">Pontiac Firebird</td><td style = \"text-align: right;\">19.2</td><td style = \"text-align: right;\">8</td><td style = \"text-align: right;\">400.0</td><td style = \"text-align: right;\">175</td><td style = \"text-align: right;\">3.08</td><td style = \"text-align: right;\">3.845</td><td style = \"text-align: right;\">17.05</td><td style = \"text-align: right;\">0</td><td style = \"text-align: right;\">0</td><td style = \"text-align: right;\">3</td><td style = \"text-align: right;\">2</td></tr><tr><td class = \"rowNumber\" style = \"font-weight: bold; text-align: right;\">13</td><td style = \"text-align: left;\">Ford Pantera L</td><td style = \"text-align: right;\">15.8</td><td style = \"text-align: right;\">8</td><td style = \"text-align: right;\">351.0</td><td style = \"text-align: right;\">264</td><td style = \"text-align: right;\">4.22</td><td style = \"text-align: right;\">3.17</td><td style = \"text-align: right;\">14.5</td><td style = \"text-align: right;\">0</td><td style = \"text-align: right;\">1</td><td style = \"text-align: right;\">5</td><td style = \"text-align: right;\">4</td></tr><tr><td class = \"rowNumber\" style = \"font-weight: bold; text-align: right;\">14</td><td style = \"text-align: left;\">Maserati Bora</td><td style = \"text-align: right;\">15.0</td><td style = \"text-align: right;\">8</td><td style = \"text-align: right;\">301.0</td><td style = \"text-align: right;\">335</td><td style = \"text-align: right;\">3.54</td><td style = \"text-align: right;\">3.57</td><td style = \"text-align: right;\">14.6</td><td style = \"text-align: right;\">0</td><td style = \"text-align: right;\">1</td><td style = \"text-align: right;\">5</td><td style = \"text-align: right;\">8</td></tr></tbody></table></div>"
      ],
      "text/latex": [
       "GroupedDataFrame with 3 groups based on key: Cyl\n",
       "\n",
       "First Group (11 rows): Cyl = 4\n",
       "\n",
       "\\begin{tabular}{r|cccccccccc}\n",
       "\t& Model & MPG & Cyl & Disp & HP & DRat & WT & QSec & VS & \\\\\n",
       "\t\\hline\n",
       "\t& String31 & Float64 & Int64 & Float64 & Int64 & Float64 & Float64 & Float64 & Int64 & \\\\\n",
       "\t\\hline\n",
       "\t1 & Datsun 710 & 22.8 & 4 & 108.0 & 93 & 3.85 & 2.32 & 18.61 & 1 & $\\dots$ \\\\\n",
       "\t2 & Merc 240D & 24.4 & 4 & 146.7 & 62 & 3.69 & 3.19 & 20.0 & 1 & $\\dots$ \\\\\n",
       "\t3 & Merc 230 & 22.8 & 4 & 140.8 & 95 & 3.92 & 3.15 & 22.9 & 1 & $\\dots$ \\\\\n",
       "\t4 & Fiat 128 & 32.4 & 4 & 78.7 & 66 & 4.08 & 2.2 & 19.47 & 1 & $\\dots$ \\\\\n",
       "\t5 & Honda Civic & 30.4 & 4 & 75.7 & 52 & 4.93 & 1.615 & 18.52 & 1 & $\\dots$ \\\\\n",
       "\t6 & Toyota Corolla & 33.9 & 4 & 71.1 & 65 & 4.22 & 1.835 & 19.9 & 1 & $\\dots$ \\\\\n",
       "\t7 & Toyota Corona & 21.5 & 4 & 120.1 & 97 & 3.7 & 2.465 & 20.01 & 1 & $\\dots$ \\\\\n",
       "\t8 & Fiat X1-9 & 27.3 & 4 & 79.0 & 66 & 4.08 & 1.935 & 18.9 & 1 & $\\dots$ \\\\\n",
       "\t9 & Porsche 914-2 & 26.0 & 4 & 120.3 & 91 & 4.43 & 2.14 & 16.7 & 0 & $\\dots$ \\\\\n",
       "\t10 & Lotus Europa & 30.4 & 4 & 95.1 & 113 & 3.77 & 1.513 & 16.9 & 1 & $\\dots$ \\\\\n",
       "\t11 & Volvo 142E & 21.4 & 4 & 121.0 & 109 & 4.11 & 2.78 & 18.6 & 1 & $\\dots$ \\\\\n",
       "\\end{tabular}\n",
       "\n",
       "$\\dots$\n",
       "\n",
       "Last Group (14 rows): Cyl = 8\n",
       "\n",
       "\\begin{tabular}{r|ccccccccc}\n",
       "\t& Model & MPG & Cyl & Disp & HP & DRat & WT & QSec & \\\\\n",
       "\t\\hline\n",
       "\t& String31 & Float64 & Int64 & Float64 & Int64 & Float64 & Float64 & Float64 & \\\\\n",
       "\t\\hline\n",
       "\t1 & Hornet Sportabout & 18.7 & 8 & 360.0 & 175 & 3.15 & 3.44 & 17.02 & $\\dots$ \\\\\n",
       "\t2 & Duster 360 & 14.3 & 8 & 360.0 & 245 & 3.21 & 3.57 & 15.84 & $\\dots$ \\\\\n",
       "\t3 & Merc 450SE & 16.4 & 8 & 275.8 & 180 & 3.07 & 4.07 & 17.4 & $\\dots$ \\\\\n",
       "\t4 & Merc 450SL & 17.3 & 8 & 275.8 & 180 & 3.07 & 3.73 & 17.6 & $\\dots$ \\\\\n",
       "\t5 & Merc 450SLC & 15.2 & 8 & 275.8 & 180 & 3.07 & 3.78 & 18.0 & $\\dots$ \\\\\n",
       "\t6 & Cadillac Fleetwood & 10.4 & 8 & 472.0 & 205 & 2.93 & 5.25 & 17.98 & $\\dots$ \\\\\n",
       "\t7 & Lincoln Continental & 10.4 & 8 & 460.0 & 215 & 3.0 & 5.424 & 17.82 & $\\dots$ \\\\\n",
       "\t8 & Chrysler Imperial & 14.7 & 8 & 440.0 & 230 & 3.23 & 5.345 & 17.42 & $\\dots$ \\\\\n",
       "\t9 & Dodge Challenger & 15.5 & 8 & 318.0 & 150 & 2.76 & 3.52 & 16.87 & $\\dots$ \\\\\n",
       "\t10 & AMC Javelin & 15.2 & 8 & 304.0 & 150 & 3.15 & 3.435 & 17.3 & $\\dots$ \\\\\n",
       "\t11 & Camaro Z28 & 13.3 & 8 & 350.0 & 245 & 3.73 & 3.84 & 15.41 & $\\dots$ \\\\\n",
       "\t12 & Pontiac Firebird & 19.2 & 8 & 400.0 & 175 & 3.08 & 3.845 & 17.05 & $\\dots$ \\\\\n",
       "\t13 & Ford Pantera L & 15.8 & 8 & 351.0 & 264 & 4.22 & 3.17 & 14.5 & $\\dots$ \\\\\n",
       "\t14 & Maserati Bora & 15.0 & 8 & 301.0 & 335 & 3.54 & 3.57 & 14.6 & $\\dots$ \\\\\n",
       "\\end{tabular}\n"
      ],
      "text/plain": [
       "GroupedDataFrame with 3 groups based on key: Cyl\n",
       "First Group (11 rows): Cyl = 4\n",
       "\u001b[1m Row \u001b[0m│\u001b[1m Model          \u001b[0m\u001b[1m MPG     \u001b[0m\u001b[1m Cyl   \u001b[0m\u001b[1m Disp    \u001b[0m\u001b[1m HP    \u001b[0m\u001b[1m DRat    \u001b[0m\u001b[1m WT      \u001b[0m\u001b[1m QSec \u001b[0m ⋯\n",
       "     │\u001b[90m String31       \u001b[0m\u001b[90m Float64 \u001b[0m\u001b[90m Int64 \u001b[0m\u001b[90m Float64 \u001b[0m\u001b[90m Int64 \u001b[0m\u001b[90m Float64 \u001b[0m\u001b[90m Float64 \u001b[0m\u001b[90m Float\u001b[0m ⋯\n",
       "─────┼──────────────────────────────────────────────────────────────────────────\n",
       "   1 │ Datsun 710         22.8      4    108.0     93     3.85    2.32     18. ⋯\n",
       "   2 │ Merc 240D          24.4      4    146.7     62     3.69    3.19     20.\n",
       "   3 │ Merc 230           22.8      4    140.8     95     3.92    3.15     22.\n",
       "   4 │ Fiat 128           32.4      4     78.7     66     4.08    2.2      19.\n",
       "  ⋮  │       ⋮            ⋮       ⋮       ⋮       ⋮       ⋮        ⋮        ⋮  ⋱\n",
       "   9 │ Porsche 914-2      26.0      4    120.3     91     4.43    2.14     16. ⋯\n",
       "  10 │ Lotus Europa       30.4      4     95.1    113     3.77    1.513    16.\n",
       "  11 │ Volvo 142E         21.4      4    121.0    109     4.11    2.78     18.\n",
       "\u001b[36m                                                    5 columns and 4 rows omitted\u001b[0m\n",
       "⋮\n",
       "Last Group (14 rows): Cyl = 8\n",
       "\u001b[1m Row \u001b[0m│\u001b[1m Model              \u001b[0m\u001b[1m MPG     \u001b[0m\u001b[1m Cyl   \u001b[0m\u001b[1m Disp    \u001b[0m\u001b[1m HP    \u001b[0m\u001b[1m DRat    \u001b[0m\u001b[1m WT      \u001b[0m\u001b[1m Q\u001b[0m ⋯\n",
       "     │\u001b[90m String31           \u001b[0m\u001b[90m Float64 \u001b[0m\u001b[90m Int64 \u001b[0m\u001b[90m Float64 \u001b[0m\u001b[90m Int64 \u001b[0m\u001b[90m Float64 \u001b[0m\u001b[90m Float64 \u001b[0m\u001b[90m F\u001b[0m ⋯\n",
       "─────┼──────────────────────────────────────────────────────────────────────────\n",
       "   1 │ Hornet Sportabout      18.7      8    360.0    175     3.15    3.44     ⋯\n",
       "   2 │ Duster 360             14.3      8    360.0    245     3.21    3.57\n",
       "   3 │ Merc 450SE             16.4      8    275.8    180     3.07    4.07\n",
       "  ⋮  │         ⋮              ⋮       ⋮       ⋮       ⋮       ⋮        ⋮       ⋱\n",
       "  12 │ Pontiac Firebird       19.2      8    400.0    175     3.08    3.845\n",
       "  13 │ Ford Pantera L         15.8      8    351.0    264     4.22    3.17     ⋯\n",
       "  14 │ Maserati Bora          15.0      8    301.0    335     3.54    3.57\n",
       "\u001b[36m                                                    5 columns and 8 rows omitted\u001b[0m"
      ]
     },
     "execution_count": 60,
     "metadata": {},
     "output_type": "execute_result"
    }
   ],
   "source": [
    "groupby(mtcars, :Cyl)"
   ]
  },
  {
   "cell_type": "markdown",
   "id": "e089d428",
   "metadata": {},
   "source": [
    "## DataFrames.jl \n",
    "Almost everything covered herein appears to be described somewhere on the DataFrames.jl package site https://dataframes.juliadata.org/stable/man/split_apply_combine/ and/or on the DataFramesMeta site https://juliadata.org/DataFramesMeta.jl/stable/dplyr/ . It may take some googling and forum scouring, but rest assured that the developers have considered many many procedures and functions. As such it is best to work through Bogumil's book and create your own projects that you're interested in - passion and curiosity as the backbones of science and inquiry! "
   ]
  },
  {
   "cell_type": "markdown",
   "id": "72080738",
   "metadata": {},
   "source": [
    "## Merging/Joining data \n",
    "Joining datasets together is a common operation, especially within SQL - we can think of the common terminology of inner join, outer join and so on that's almost synonymous with databases. In R lets merge some data; \n",
    "```R\n",
    "mergedData = merge(reviews, solution, by.x=\"solution_id\", by.y=\"yd\", all=TRUE)\n",
    "```"
   ]
  },
  {
   "cell_type": "markdown",
   "id": "c0078cc9",
   "metadata": {},
   "source": [
    "In Julia let's create some mock data "
   ]
  },
  {
   "cell_type": "code",
   "execution_count": 61,
   "id": "1a01f36a",
   "metadata": {},
   "outputs": [
    {
     "data": {
      "text/html": [
       "<div><div style = \"float: left;\"><span>2×2 DataFrame</span></div><div style = \"clear: both;\"></div></div><div class = \"data-frame\" style = \"overflow-x: scroll;\"><table class = \"data-frame\" style = \"margin-bottom: 6px;\"><thead><tr class = \"header\"><th class = \"rowNumber\" style = \"font-weight: bold; text-align: right;\">Row</th><th style = \"text-align: left;\">ID</th><th style = \"text-align: left;\">Name</th></tr><tr class = \"subheader headerLastRow\"><th class = \"rowNumber\" style = \"font-weight: bold; text-align: right;\"></th><th title = \"Int64\" style = \"text-align: left;\">Int64</th><th title = \"String\" style = \"text-align: left;\">String</th></tr></thead><tbody><tr><td class = \"rowNumber\" style = \"font-weight: bold; text-align: right;\">1</td><td style = \"text-align: right;\">20</td><td style = \"text-align: left;\">John Doe</td></tr><tr><td class = \"rowNumber\" style = \"font-weight: bold; text-align: right;\">2</td><td style = \"text-align: right;\">40</td><td style = \"text-align: left;\">Jane Doe</td></tr></tbody></table></div>"
      ],
      "text/latex": [
       "\\begin{tabular}{r|cc}\n",
       "\t& ID & Name\\\\\n",
       "\t\\hline\n",
       "\t& Int64 & String\\\\\n",
       "\t\\hline\n",
       "\t1 & 20 & John Doe \\\\\n",
       "\t2 & 40 & Jane Doe \\\\\n",
       "\\end{tabular}\n"
      ],
      "text/plain": [
       "\u001b[1m2×2 DataFrame\u001b[0m\n",
       "\u001b[1m Row \u001b[0m│\u001b[1m ID    \u001b[0m\u001b[1m Name     \u001b[0m\n",
       "     │\u001b[90m Int64 \u001b[0m\u001b[90m String   \u001b[0m\n",
       "─────┼─────────────────\n",
       "   1 │    20  John Doe\n",
       "   2 │    40  Jane Doe"
      ]
     },
     "execution_count": 61,
     "metadata": {},
     "output_type": "execute_result"
    }
   ],
   "source": [
    "people = DataFrame(ID=[20, 40], Name=[\"John Doe\", \"Jane Doe\"])"
   ]
  },
  {
   "cell_type": "code",
   "execution_count": 62,
   "id": "91b58e37",
   "metadata": {},
   "outputs": [
    {
     "data": {
      "text/html": [
       "<div><div style = \"float: left;\"><span>2×2 DataFrame</span></div><div style = \"clear: both;\"></div></div><div class = \"data-frame\" style = \"overflow-x: scroll;\"><table class = \"data-frame\" style = \"margin-bottom: 6px;\"><thead><tr class = \"header\"><th class = \"rowNumber\" style = \"font-weight: bold; text-align: right;\">Row</th><th style = \"text-align: left;\">ID</th><th style = \"text-align: left;\">Job</th></tr><tr class = \"subheader headerLastRow\"><th class = \"rowNumber\" style = \"font-weight: bold; text-align: right;\"></th><th title = \"Int64\" style = \"text-align: left;\">Int64</th><th title = \"String\" style = \"text-align: left;\">String</th></tr></thead><tbody><tr><td class = \"rowNumber\" style = \"font-weight: bold; text-align: right;\">1</td><td style = \"text-align: right;\">20</td><td style = \"text-align: left;\">Lawyer</td></tr><tr><td class = \"rowNumber\" style = \"font-weight: bold; text-align: right;\">2</td><td style = \"text-align: right;\">40</td><td style = \"text-align: left;\">Doctor</td></tr></tbody></table></div>"
      ],
      "text/latex": [
       "\\begin{tabular}{r|cc}\n",
       "\t& ID & Job\\\\\n",
       "\t\\hline\n",
       "\t& Int64 & String\\\\\n",
       "\t\\hline\n",
       "\t1 & 20 & Lawyer \\\\\n",
       "\t2 & 40 & Doctor \\\\\n",
       "\\end{tabular}\n"
      ],
      "text/plain": [
       "\u001b[1m2×2 DataFrame\u001b[0m\n",
       "\u001b[1m Row \u001b[0m│\u001b[1m ID    \u001b[0m\u001b[1m Job    \u001b[0m\n",
       "     │\u001b[90m Int64 \u001b[0m\u001b[90m String \u001b[0m\n",
       "─────┼───────────────\n",
       "   1 │    20  Lawyer\n",
       "   2 │    40  Doctor"
      ]
     },
     "execution_count": 62,
     "metadata": {},
     "output_type": "execute_result"
    }
   ],
   "source": [
    "jobs = DataFrame(ID=[20, 40], Job=[\"Lawyer\", \"Doctor\"]) "
   ]
  },
  {
   "cell_type": "markdown",
   "id": "7ba3b107",
   "metadata": {},
   "source": [
    "Say there is a common ID shared between datasets, we can take advantage of this ID and 'sink' our data around it, in some sense this is like performing a union operation on a set - the common element is never duplicated. \n",
    "\n",
    "**Inner joins are \"the output contains rows for values of the key that exist in all passed data frames.\"**"
   ]
  },
  {
   "cell_type": "code",
   "execution_count": 63,
   "id": "42b8950a",
   "metadata": {},
   "outputs": [
    {
     "data": {
      "text/html": [
       "<div><div style = \"float: left;\"><span>2×3 DataFrame</span></div><div style = \"clear: both;\"></div></div><div class = \"data-frame\" style = \"overflow-x: scroll;\"><table class = \"data-frame\" style = \"margin-bottom: 6px;\"><thead><tr class = \"header\"><th class = \"rowNumber\" style = \"font-weight: bold; text-align: right;\">Row</th><th style = \"text-align: left;\">ID</th><th style = \"text-align: left;\">Name</th><th style = \"text-align: left;\">Job</th></tr><tr class = \"subheader headerLastRow\"><th class = \"rowNumber\" style = \"font-weight: bold; text-align: right;\"></th><th title = \"Int64\" style = \"text-align: left;\">Int64</th><th title = \"String\" style = \"text-align: left;\">String</th><th title = \"String\" style = \"text-align: left;\">String</th></tr></thead><tbody><tr><td class = \"rowNumber\" style = \"font-weight: bold; text-align: right;\">1</td><td style = \"text-align: right;\">20</td><td style = \"text-align: left;\">John Doe</td><td style = \"text-align: left;\">Lawyer</td></tr><tr><td class = \"rowNumber\" style = \"font-weight: bold; text-align: right;\">2</td><td style = \"text-align: right;\">40</td><td style = \"text-align: left;\">Jane Doe</td><td style = \"text-align: left;\">Doctor</td></tr></tbody></table></div>"
      ],
      "text/latex": [
       "\\begin{tabular}{r|ccc}\n",
       "\t& ID & Name & Job\\\\\n",
       "\t\\hline\n",
       "\t& Int64 & String & String\\\\\n",
       "\t\\hline\n",
       "\t1 & 20 & John Doe & Lawyer \\\\\n",
       "\t2 & 40 & Jane Doe & Doctor \\\\\n",
       "\\end{tabular}\n"
      ],
      "text/plain": [
       "\u001b[1m2×3 DataFrame\u001b[0m\n",
       "\u001b[1m Row \u001b[0m│\u001b[1m ID    \u001b[0m\u001b[1m Name     \u001b[0m\u001b[1m Job    \u001b[0m\n",
       "     │\u001b[90m Int64 \u001b[0m\u001b[90m String   \u001b[0m\u001b[90m String \u001b[0m\n",
       "─────┼─────────────────────────\n",
       "   1 │    20  John Doe  Lawyer\n",
       "   2 │    40  Jane Doe  Doctor"
      ]
     },
     "execution_count": 63,
     "metadata": {},
     "output_type": "execute_result"
    }
   ],
   "source": [
    "innerjoin(people, jobs, on = :ID)"
   ]
  },
  {
   "cell_type": "code",
   "execution_count": 64,
   "id": "2b23acd9",
   "metadata": {},
   "outputs": [
    {
     "data": {
      "text/plain": [
       "1-element Vector{String}:\n",
       " \"ID\""
      ]
     },
     "execution_count": 64,
     "metadata": {},
     "output_type": "execute_result"
    }
   ],
   "source": [
    "intersect(names(people), names(jobs))"
   ]
  },
  {
   "cell_type": "code",
   "execution_count": 65,
   "id": "b90058c9",
   "metadata": {},
   "outputs": [
    {
     "data": {
      "text/html": [
       "<div><div style = \"float: left;\"><span>2×2 DataFrame</span></div><div style = \"clear: both;\"></div></div><div class = \"data-frame\" style = \"overflow-x: scroll;\"><table class = \"data-frame\" style = \"margin-bottom: 6px;\"><thead><tr class = \"header\"><th class = \"rowNumber\" style = \"font-weight: bold; text-align: right;\">Row</th><th style = \"text-align: left;\">ID</th><th style = \"text-align: left;\">Fruit</th></tr><tr class = \"subheader headerLastRow\"><th class = \"rowNumber\" style = \"font-weight: bold; text-align: right;\"></th><th title = \"Int64\" style = \"text-align: left;\">Int64</th><th title = \"String\" style = \"text-align: left;\">String</th></tr></thead><tbody><tr><td class = \"rowNumber\" style = \"font-weight: bold; text-align: right;\">1</td><td style = \"text-align: right;\">20</td><td style = \"text-align: left;\">Apple</td></tr><tr><td class = \"rowNumber\" style = \"font-weight: bold; text-align: right;\">2</td><td style = \"text-align: right;\">60</td><td style = \"text-align: left;\">Watermelon</td></tr></tbody></table></div>"
      ],
      "text/latex": [
       "\\begin{tabular}{r|cc}\n",
       "\t& ID & Fruit\\\\\n",
       "\t\\hline\n",
       "\t& Int64 & String\\\\\n",
       "\t\\hline\n",
       "\t1 & 20 & Apple \\\\\n",
       "\t2 & 60 & Watermelon \\\\\n",
       "\\end{tabular}\n"
      ],
      "text/plain": [
       "\u001b[1m2×2 DataFrame\u001b[0m\n",
       "\u001b[1m Row \u001b[0m│\u001b[1m ID    \u001b[0m\u001b[1m Fruit      \u001b[0m\n",
       "     │\u001b[90m Int64 \u001b[0m\u001b[90m String     \u001b[0m\n",
       "─────┼───────────────────\n",
       "   1 │    20  Apple\n",
       "   2 │    60  Watermelon"
      ]
     },
     "execution_count": 65,
     "metadata": {},
     "output_type": "execute_result"
    }
   ],
   "source": [
    "breaks = DataFrame(ID=[20, 60], Fruit=[\"Apple\", \"Watermelon\"])"
   ]
  },
  {
   "cell_type": "markdown",
   "id": "1d4eaf12",
   "metadata": {},
   "source": [
    "To merge all of the datasets together based upon a shared variable, even if not all of the rows are present in the other datasets, we can use the **outerjoin()** method "
   ]
  },
  {
   "cell_type": "code",
   "execution_count": 66,
   "id": "24d7aa34",
   "metadata": {},
   "outputs": [
    {
     "data": {
      "text/html": [
       "<div><div style = \"float: left;\"><span>3×4 DataFrame</span></div><div style = \"clear: both;\"></div></div><div class = \"data-frame\" style = \"overflow-x: scroll;\"><table class = \"data-frame\" style = \"margin-bottom: 6px;\"><thead><tr class = \"header\"><th class = \"rowNumber\" style = \"font-weight: bold; text-align: right;\">Row</th><th style = \"text-align: left;\">ID</th><th style = \"text-align: left;\">Fruit</th><th style = \"text-align: left;\">Name</th><th style = \"text-align: left;\">Job</th></tr><tr class = \"subheader headerLastRow\"><th class = \"rowNumber\" style = \"font-weight: bold; text-align: right;\"></th><th title = \"Int64\" style = \"text-align: left;\">Int64</th><th title = \"Union{Missing, String}\" style = \"text-align: left;\">String?</th><th title = \"Union{Missing, String}\" style = \"text-align: left;\">String?</th><th title = \"Union{Missing, String}\" style = \"text-align: left;\">String?</th></tr></thead><tbody><tr><td class = \"rowNumber\" style = \"font-weight: bold; text-align: right;\">1</td><td style = \"text-align: right;\">20</td><td style = \"text-align: left;\">Apple</td><td style = \"text-align: left;\">John Doe</td><td style = \"text-align: left;\">Lawyer</td></tr><tr><td class = \"rowNumber\" style = \"font-weight: bold; text-align: right;\">2</td><td style = \"text-align: right;\">40</td><td style = \"font-style: italic; text-align: left;\">missing</td><td style = \"text-align: left;\">Jane Doe</td><td style = \"text-align: left;\">Doctor</td></tr><tr><td class = \"rowNumber\" style = \"font-weight: bold; text-align: right;\">3</td><td style = \"text-align: right;\">60</td><td style = \"text-align: left;\">Watermelon</td><td style = \"font-style: italic; text-align: left;\">missing</td><td style = \"font-style: italic; text-align: left;\">missing</td></tr></tbody></table></div>"
      ],
      "text/latex": [
       "\\begin{tabular}{r|cccc}\n",
       "\t& ID & Fruit & Name & Job\\\\\n",
       "\t\\hline\n",
       "\t& Int64 & String? & String? & String?\\\\\n",
       "\t\\hline\n",
       "\t1 & 20 & Apple & John Doe & Lawyer \\\\\n",
       "\t2 & 40 & \\emph{missing} & Jane Doe & Doctor \\\\\n",
       "\t3 & 60 & Watermelon & \\emph{missing} & \\emph{missing} \\\\\n",
       "\\end{tabular}\n"
      ],
      "text/plain": [
       "\u001b[1m3×4 DataFrame\u001b[0m\n",
       "\u001b[1m Row \u001b[0m│\u001b[1m ID    \u001b[0m\u001b[1m Fruit      \u001b[0m\u001b[1m Name     \u001b[0m\u001b[1m Job     \u001b[0m\n",
       "     │\u001b[90m Int64 \u001b[0m\u001b[90m String?    \u001b[0m\u001b[90m String?  \u001b[0m\u001b[90m String? \u001b[0m\n",
       "─────┼──────────────────────────────────────\n",
       "   1 │    20  Apple       John Doe  Lawyer\n",
       "   2 │    40 \u001b[90m missing    \u001b[0m Jane Doe  Doctor\n",
       "   3 │    60  Watermelon \u001b[90m missing  \u001b[0m\u001b[90m missing \u001b[0m"
      ]
     },
     "execution_count": 66,
     "metadata": {},
     "output_type": "execute_result"
    }
   ],
   "source": [
    "outerjoin(breaks, people, jobs, on = :ID)"
   ]
  },
  {
   "cell_type": "markdown",
   "id": "ffe7907d",
   "metadata": {},
   "source": [
    "In R we provide all of the column names this time;\n",
    "```R\n",
    "mergedData2 <- merge(reviews, solutions, all=TRUE)\n",
    "```"
   ]
  },
  {
   "cell_type": "markdown",
   "id": "b0b0ab93",
   "metadata": {},
   "source": [
    "# Quiz"
   ]
  },
  {
   "cell_type": "markdown",
   "id": "0a71f2ca",
   "metadata": {},
   "source": [
    "## 1. \n",
    "The American Community Survey distributes downloadable data about United States communities. Download the 2006 microdata survey about housing for the state of Idaho using download.file() from here: \n",
    "\n",
    "https://d396qusza40orc.cloudfront.net/getdata%2Fdata%2Fss06hid.csv\n",
    "\n",
    "and load the data into R. The code book, describing the variable names is here:\n",
    "\n",
    "https://d396qusza40orc.cloudfront.net/getdata%2Fdata%2FPUMSDataDict06.pdf \n",
    "\n",
    "Create a logical vector that identifies the households on greater than 10 acres who sold more than $10,000 worth of agriculture products. Assign that logical vector to the variable agricultureLogical. Apply the which() function like this to identify the rows of the data frame where the logical vector is TRUE. \n",
    "\n",
    "```R\n",
    "which(agricultureLogical) \n",
    "```\n",
    "\n",
    "What are the first 3 values that result? "
   ]
  },
  {
   "cell_type": "code",
   "execution_count": 67,
   "id": "c7484dfa",
   "metadata": {},
   "outputs": [
    {
     "data": {
      "text/plain": [
       "\"quiz3_q1.csv\""
      ]
     },
     "execution_count": 67,
     "metadata": {},
     "output_type": "execute_result"
    }
   ],
   "source": [
    "download(\"https://d396qusza40orc.cloudfront.net/getdata%2Fdata%2Fss06hid.csv\", \"quiz3_q1.csv\")"
   ]
  },
  {
   "cell_type": "code",
   "execution_count": 94,
   "id": "dcc412ec",
   "metadata": {
    "collapsed": true,
    "jupyter": {
     "outputs_hidden": true
    }
   },
   "outputs": [
    {
     "data": {
      "text/html": [
       "<div><div style = \"float: left;\"><span>6496×188 DataFrame</span></div><div style = \"float: right;\"><span style = \"font-style: italic;\">88 columns and 6471 rows omitted</span></div><div style = \"clear: both;\"></div></div><div class = \"data-frame\" style = \"overflow-x: scroll;\"><table class = \"data-frame\" style = \"margin-bottom: 6px;\"><thead><tr class = \"header\"><th class = \"rowNumber\" style = \"font-weight: bold; text-align: right;\">Row</th><th style = \"text-align: left;\">RT</th><th style = \"text-align: left;\">SERIALNO</th><th style = \"text-align: left;\">DIVISION</th><th style = \"text-align: left;\">PUMA</th><th style = \"text-align: left;\">REGION</th><th style = \"text-align: left;\">ST</th><th style = \"text-align: left;\">ADJUST</th><th style = \"text-align: left;\">WGTP</th><th style = \"text-align: left;\">NP</th><th style = \"text-align: left;\">TYPE</th><th style = \"text-align: left;\">ACR</th><th style = \"text-align: left;\">AGS</th><th style = \"text-align: left;\">BDS</th><th style = \"text-align: left;\">BLD</th><th style = \"text-align: left;\">BUS</th><th style = \"text-align: left;\">CONP</th><th style = \"text-align: left;\">ELEP</th><th style = \"text-align: left;\">FS</th><th style = \"text-align: left;\">FULP</th><th style = \"text-align: left;\">GASP</th><th style = \"text-align: left;\">HFL</th><th style = \"text-align: left;\">INSP</th><th style = \"text-align: left;\">KIT</th><th style = \"text-align: left;\">MHP</th><th style = \"text-align: left;\">MRGI</th><th style = \"text-align: left;\">MRGP</th><th style = \"text-align: left;\">MRGT</th><th style = \"text-align: left;\">MRGX</th><th style = \"text-align: left;\">PLM</th><th style = \"text-align: left;\">RMS</th><th style = \"text-align: left;\">RNTM</th><th style = \"text-align: left;\">RNTP</th><th style = \"text-align: left;\">SMP</th><th style = \"text-align: left;\">TEL</th><th style = \"text-align: left;\">TEN</th><th style = \"text-align: left;\">VACS</th><th style = \"text-align: left;\">VAL</th><th style = \"text-align: left;\">VEH</th><th style = \"text-align: left;\">WATP</th><th style = \"text-align: left;\">YBL</th><th style = \"text-align: left;\">FES</th><th style = \"text-align: left;\">FINCP</th><th style = \"text-align: left;\">FPARC</th><th style = \"text-align: left;\">GRNTP</th><th style = \"text-align: left;\">GRPIP</th><th style = \"text-align: left;\">HHL</th><th style = \"text-align: left;\">HHT</th><th style = \"text-align: left;\">HINCP</th><th style = \"text-align: left;\">HUGCL</th><th style = \"text-align: left;\">HUPAC</th><th style = \"text-align: left;\">HUPAOC</th><th style = \"text-align: left;\">HUPARC</th><th style = \"text-align: left;\">LNGI</th><th style = \"text-align: left;\">MV</th><th style = \"text-align: left;\">NOC</th><th style = \"text-align: left;\">NPF</th><th style = \"text-align: left;\">NPP</th><th style = \"text-align: left;\">NR</th><th style = \"text-align: left;\">NRC</th><th style = \"text-align: left;\">OCPIP</th><th style = \"text-align: left;\">PARTNER</th><th style = \"text-align: left;\">PSF</th><th style = \"text-align: left;\">R18</th><th style = \"text-align: left;\">R60</th><th style = \"text-align: left;\">R65</th><th style = \"text-align: left;\">RESMODE</th><th style = \"text-align: left;\">SMOCP</th><th style = \"text-align: left;\">SMX</th><th style = \"text-align: left;\">SRNT</th><th style = \"text-align: left;\">SVAL</th><th style = \"text-align: left;\">TAXP</th><th style = \"text-align: left;\">WIF</th><th style = \"text-align: left;\">WKEXREL</th><th style = \"text-align: left;\">WORKSTAT</th><th style = \"text-align: left;\">FACRP</th><th style = \"text-align: left;\">FAGSP</th><th style = \"text-align: left;\">FBDSP</th><th style = \"text-align: left;\">FBLDP</th><th style = \"text-align: left;\">FBUSP</th><th style = \"text-align: left;\">FCONP</th><th style = \"text-align: left;\">FELEP</th><th style = \"text-align: left;\">FFSP</th><th style = \"text-align: left;\">FFULP</th><th style = \"text-align: left;\">FGASP</th><th style = \"text-align: left;\">FHFLP</th><th style = \"text-align: left;\">FINSP</th><th style = \"text-align: left;\">FKITP</th><th style = \"text-align: left;\">FMHP</th><th style = \"text-align: left;\">FMRGIP</th><th style = \"text-align: left;\">FMRGP</th><th style = \"text-align: left;\">FMRGTP</th><th style = \"text-align: left;\">FMRGXP</th><th style = \"text-align: left;\">FMVYP</th><th style = \"text-align: left;\">FPLMP</th><th style = \"text-align: left;\">FRMSP</th><th style = \"text-align: left;\">FRNTMP</th><th style = \"text-align: left;\">FRNTP</th><th style = \"text-align: left;\">FSMP</th><th style = \"text-align: left;\">FSMXHP</th><th style = \"text-align: left;\">FSMXSP</th><th style = \"text-align: right;\">&ctdot;</th></tr><tr class = \"subheader headerLastRow\"><th class = \"rowNumber\" style = \"font-weight: bold; text-align: right;\"></th><th title = \"String1\" style = \"text-align: left;\">String1</th><th title = \"Int64\" style = \"text-align: left;\">Int64</th><th title = \"Int64\" style = \"text-align: left;\">Int64</th><th title = \"Int64\" style = \"text-align: left;\">Int64</th><th title = \"Int64\" style = \"text-align: left;\">Int64</th><th title = \"Int64\" style = \"text-align: left;\">Int64</th><th title = \"Int64\" style = \"text-align: left;\">Int64</th><th title = \"Int64\" style = \"text-align: left;\">Int64</th><th title = \"Int64\" style = \"text-align: left;\">Int64</th><th title = \"Int64\" style = \"text-align: left;\">Int64</th><th title = \"Union{Missing, Int64}\" style = \"text-align: left;\">Int64?</th><th title = \"Union{Missing, Int64}\" style = \"text-align: left;\">Int64?</th><th title = \"Union{Missing, Int64}\" style = \"text-align: left;\">Int64?</th><th title = \"Union{Missing, Int64}\" style = \"text-align: left;\">Int64?</th><th title = \"Union{Missing, Int64}\" style = \"text-align: left;\">Int64?</th><th title = \"Union{Missing, Int64}\" style = \"text-align: left;\">Int64?</th><th title = \"Union{Missing, Int64}\" style = \"text-align: left;\">Int64?</th><th title = \"Union{Missing, Int64}\" style = \"text-align: left;\">Int64?</th><th title = \"Union{Missing, Int64}\" style = \"text-align: left;\">Int64?</th><th title = \"Union{Missing, Int64}\" style = \"text-align: left;\">Int64?</th><th title = \"Union{Missing, Int64}\" style = \"text-align: left;\">Int64?</th><th title = \"Union{Missing, Int64}\" style = \"text-align: left;\">Int64?</th><th title = \"Union{Missing, Int64}\" style = \"text-align: left;\">Int64?</th><th title = \"Union{Missing, Int64}\" style = \"text-align: left;\">Int64?</th><th title = \"Union{Missing, Int64}\" style = \"text-align: left;\">Int64?</th><th title = \"Union{Missing, Int64}\" style = \"text-align: left;\">Int64?</th><th title = \"Union{Missing, Int64}\" style = \"text-align: left;\">Int64?</th><th title = \"Union{Missing, Int64}\" style = \"text-align: left;\">Int64?</th><th title = \"Union{Missing, Int64}\" style = \"text-align: left;\">Int64?</th><th title = \"Union{Missing, Int64}\" style = \"text-align: left;\">Int64?</th><th title = \"Union{Missing, Int64}\" style = \"text-align: left;\">Int64?</th><th title = \"Union{Missing, Int64}\" style = \"text-align: left;\">Int64?</th><th title = \"Union{Missing, Int64}\" style = \"text-align: left;\">Int64?</th><th title = \"Union{Missing, Int64}\" style = \"text-align: left;\">Int64?</th><th title = \"Union{Missing, Int64}\" style = \"text-align: left;\">Int64?</th><th title = \"Union{Missing, Int64}\" style = \"text-align: left;\">Int64?</th><th title = \"Union{Missing, Int64}\" style = \"text-align: left;\">Int64?</th><th title = \"Union{Missing, Int64}\" style = \"text-align: left;\">Int64?</th><th title = \"Union{Missing, Int64}\" style = \"text-align: left;\">Int64?</th><th title = \"Union{Missing, Int64}\" style = \"text-align: left;\">Int64?</th><th title = \"Union{Missing, Int64}\" style = \"text-align: left;\">Int64?</th><th title = \"Union{Missing, Int64}\" style = \"text-align: left;\">Int64?</th><th title = \"Union{Missing, Int64}\" style = \"text-align: left;\">Int64?</th><th title = \"Union{Missing, Int64}\" style = \"text-align: left;\">Int64?</th><th title = \"Union{Missing, Int64}\" style = \"text-align: left;\">Int64?</th><th title = \"Union{Missing, Int64}\" style = \"text-align: left;\">Int64?</th><th title = \"Union{Missing, Int64}\" style = \"text-align: left;\">Int64?</th><th title = \"Union{Missing, Int64}\" style = \"text-align: left;\">Int64?</th><th title = \"Union{Missing, Int64}\" style = \"text-align: left;\">Int64?</th><th title = \"Union{Missing, Int64}\" style = \"text-align: left;\">Int64?</th><th title = \"Union{Missing, Int64}\" style = \"text-align: left;\">Int64?</th><th title = \"Union{Missing, Int64}\" style = \"text-align: left;\">Int64?</th><th title = \"Union{Missing, Int64}\" style = \"text-align: left;\">Int64?</th><th title = \"Union{Missing, Int64}\" style = \"text-align: left;\">Int64?</th><th title = \"Union{Missing, Int64}\" style = \"text-align: left;\">Int64?</th><th title = \"Union{Missing, Int64}\" style = \"text-align: left;\">Int64?</th><th title = \"Union{Missing, Int64}\" style = \"text-align: left;\">Int64?</th><th title = \"Union{Missing, Int64}\" style = \"text-align: left;\">Int64?</th><th title = \"Union{Missing, Int64}\" style = \"text-align: left;\">Int64?</th><th title = \"Union{Missing, Int64}\" style = \"text-align: left;\">Int64?</th><th title = \"Union{Missing, Int64}\" style = \"text-align: left;\">Int64?</th><th title = \"Union{Missing, Int64}\" style = \"text-align: left;\">Int64?</th><th title = \"Union{Missing, Int64}\" style = \"text-align: left;\">Int64?</th><th title = \"Union{Missing, Int64}\" style = \"text-align: left;\">Int64?</th><th title = \"Union{Missing, Int64}\" style = \"text-align: left;\">Int64?</th><th title = \"Union{Missing, Int64}\" style = \"text-align: left;\">Int64?</th><th title = \"Union{Missing, Int64}\" style = \"text-align: left;\">Int64?</th><th title = \"Union{Missing, Int64}\" style = \"text-align: left;\">Int64?</th><th title = \"Union{Missing, Int64}\" style = \"text-align: left;\">Int64?</th><th title = \"Union{Missing, Int64}\" style = \"text-align: left;\">Int64?</th><th title = \"Union{Missing, Int64}\" style = \"text-align: left;\">Int64?</th><th title = \"Union{Missing, Int64}\" style = \"text-align: left;\">Int64?</th><th title = \"Union{Missing, Int64}\" style = \"text-align: left;\">Int64?</th><th title = \"Union{Missing, Int64}\" style = \"text-align: left;\">Int64?</th><th title = \"Union{Missing, Int64}\" style = \"text-align: left;\">Int64?</th><th title = \"Union{Missing, Int64}\" style = \"text-align: left;\">Int64?</th><th title = \"Union{Missing, Int64}\" style = \"text-align: left;\">Int64?</th><th title = \"Union{Missing, Int64}\" style = \"text-align: left;\">Int64?</th><th title = \"Union{Missing, Int64}\" style = \"text-align: left;\">Int64?</th><th title = \"Union{Missing, Int64}\" style = \"text-align: left;\">Int64?</th><th title = \"Union{Missing, Int64}\" style = \"text-align: left;\">Int64?</th><th title = \"Int64\" style = \"text-align: left;\">Int64</th><th title = \"Union{Missing, Int64}\" style = \"text-align: left;\">Int64?</th><th title = \"Union{Missing, Int64}\" style = \"text-align: left;\">Int64?</th><th title = \"Union{Missing, Int64}\" style = \"text-align: left;\">Int64?</th><th title = \"Union{Missing, Int64}\" style = \"text-align: left;\">Int64?</th><th title = \"Union{Missing, Int64}\" style = \"text-align: left;\">Int64?</th><th title = \"Union{Missing, Int64}\" style = \"text-align: left;\">Int64?</th><th title = \"Union{Missing, Int64}\" style = \"text-align: left;\">Int64?</th><th title = \"Union{Missing, Int64}\" style = \"text-align: left;\">Int64?</th><th title = \"Union{Missing, Int64}\" style = \"text-align: left;\">Int64?</th><th title = \"Union{Missing, Int64}\" style = \"text-align: left;\">Int64?</th><th title = \"Union{Missing, Int64}\" style = \"text-align: left;\">Int64?</th><th title = \"Union{Missing, Int64}\" style = \"text-align: left;\">Int64?</th><th title = \"Union{Missing, Int64}\" style = \"text-align: left;\">Int64?</th><th title = \"Union{Missing, Int64}\" style = \"text-align: left;\">Int64?</th><th title = \"Union{Missing, Int64}\" style = \"text-align: left;\">Int64?</th><th title = \"Union{Missing, Int64}\" style = \"text-align: left;\">Int64?</th><th title = \"Union{Missing, Int64}\" style = \"text-align: left;\">Int64?</th><th title = \"Union{Missing, Int64}\" style = \"text-align: left;\">Int64?</th><th title = \"Union{Missing, Int64}\" style = \"text-align: right;\">&ctdot;</th></tr></thead><tbody><tr><td class = \"rowNumber\" style = \"font-weight: bold; text-align: right;\">1</td><td style = \"text-align: left;\">H</td><td style = \"text-align: right;\">186</td><td style = \"text-align: right;\">8</td><td style = \"text-align: right;\">700</td><td style = \"text-align: right;\">4</td><td style = \"text-align: right;\">16</td><td style = \"text-align: right;\">1015675</td><td style = \"text-align: right;\">89</td><td style = \"text-align: right;\">4</td><td style = \"text-align: right;\">1</td><td style = \"text-align: right;\">1</td><td style = \"font-style: italic; text-align: right;\">missing</td><td style = \"text-align: right;\">4</td><td style = \"text-align: right;\">2</td><td style = \"text-align: right;\">2</td><td style = \"font-style: italic; text-align: right;\">missing</td><td style = \"text-align: right;\">180</td><td style = \"text-align: right;\">0</td><td style = \"text-align: right;\">2</td><td style = \"text-align: right;\">3</td><td style = \"text-align: right;\">3</td><td style = \"text-align: right;\">600</td><td style = \"text-align: right;\">1</td><td style = \"font-style: italic; text-align: right;\">missing</td><td style = \"text-align: right;\">1</td><td style = \"text-align: right;\">1300</td><td style = \"text-align: right;\">1</td><td style = \"text-align: right;\">1</td><td style = \"text-align: right;\">1</td><td style = \"text-align: right;\">9</td><td style = \"font-style: italic; text-align: right;\">missing</td><td style = \"font-style: italic; text-align: right;\">missing</td><td style = \"font-style: italic; text-align: right;\">missing</td><td style = \"text-align: right;\">1</td><td style = \"text-align: right;\">1</td><td style = \"font-style: italic; text-align: right;\">missing</td><td style = \"text-align: right;\">17</td><td style = \"text-align: right;\">3</td><td style = \"text-align: right;\">840</td><td style = \"text-align: right;\">5</td><td style = \"text-align: right;\">2</td><td style = \"text-align: right;\">105600</td><td style = \"text-align: right;\">2</td><td style = \"font-style: italic; text-align: right;\">missing</td><td style = \"font-style: italic; text-align: right;\">missing</td><td style = \"text-align: right;\">1</td><td style = \"text-align: right;\">1</td><td style = \"text-align: right;\">105600</td><td style = \"text-align: right;\">0</td><td style = \"text-align: right;\">2</td><td style = \"text-align: right;\">2</td><td style = \"text-align: right;\">2</td><td style = \"text-align: right;\">1</td><td style = \"text-align: right;\">4</td><td style = \"text-align: right;\">2</td><td style = \"text-align: right;\">4</td><td style = \"text-align: right;\">0</td><td style = \"text-align: right;\">0</td><td style = \"text-align: right;\">2</td><td style = \"text-align: right;\">18</td><td style = \"text-align: right;\">0</td><td style = \"text-align: right;\">0</td><td style = \"text-align: right;\">1</td><td style = \"text-align: right;\">0</td><td style = \"text-align: right;\">0</td><td style = \"text-align: right;\">1</td><td style = \"text-align: right;\">1550</td><td style = \"text-align: right;\">3</td><td style = \"text-align: right;\">0</td><td style = \"text-align: right;\">1</td><td style = \"text-align: right;\">24</td><td style = \"text-align: right;\">3</td><td style = \"text-align: right;\">2</td><td style = \"text-align: right;\">3</td><td style = \"text-align: right;\">0</td><td style = \"text-align: right;\">0</td><td style = \"text-align: right;\">0</td><td style = \"text-align: right;\">0</td><td style = \"text-align: right;\">0</td><td style = \"text-align: right;\">0</td><td style = \"text-align: right;\">0</td><td style = \"text-align: right;\">0</td><td style = \"text-align: right;\">0</td><td style = \"text-align: right;\">0</td><td style = \"text-align: right;\">0</td><td style = \"text-align: right;\">0</td><td style = \"text-align: right;\">0</td><td style = \"text-align: right;\">0</td><td style = \"text-align: right;\">0</td><td style = \"text-align: right;\">0</td><td style = \"text-align: right;\">0</td><td style = \"text-align: right;\">0</td><td style = \"text-align: right;\">0</td><td style = \"text-align: right;\">0</td><td style = \"text-align: right;\">0</td><td style = \"text-align: right;\">0</td><td style = \"text-align: right;\">0</td><td style = \"text-align: right;\">0</td><td style = \"text-align: right;\">0</td><td style = \"text-align: right;\">0</td><td style = \"text-align: right;\">&ctdot;</td></tr><tr><td class = \"rowNumber\" style = \"font-weight: bold; text-align: right;\">2</td><td style = \"text-align: left;\">H</td><td style = \"text-align: right;\">306</td><td style = \"text-align: right;\">8</td><td style = \"text-align: right;\">700</td><td style = \"text-align: right;\">4</td><td style = \"text-align: right;\">16</td><td style = \"text-align: right;\">1015675</td><td style = \"text-align: right;\">310</td><td style = \"text-align: right;\">1</td><td style = \"text-align: right;\">1</td><td style = \"font-style: italic; text-align: right;\">missing</td><td style = \"font-style: italic; text-align: right;\">missing</td><td style = \"text-align: right;\">1</td><td style = \"text-align: right;\">7</td><td style = \"font-style: italic; text-align: right;\">missing</td><td style = \"font-style: italic; text-align: right;\">missing</td><td style = \"text-align: right;\">60</td><td style = \"text-align: right;\">0</td><td style = \"text-align: right;\">2</td><td style = \"text-align: right;\">3</td><td style = \"text-align: right;\">3</td><td style = \"font-style: italic; text-align: right;\">missing</td><td style = \"text-align: right;\">1</td><td style = \"font-style: italic; text-align: right;\">missing</td><td style = \"font-style: italic; text-align: right;\">missing</td><td style = \"font-style: italic; text-align: right;\">missing</td><td style = \"font-style: italic; text-align: right;\">missing</td><td style = \"font-style: italic; text-align: right;\">missing</td><td style = \"text-align: right;\">1</td><td style = \"text-align: right;\">2</td><td style = \"text-align: right;\">2</td><td style = \"text-align: right;\">600</td><td style = \"font-style: italic; text-align: right;\">missing</td><td style = \"text-align: right;\">1</td><td style = \"text-align: right;\">3</td><td style = \"font-style: italic; text-align: right;\">missing</td><td style = \"font-style: italic; text-align: right;\">missing</td><td style = \"text-align: right;\">1</td><td style = \"text-align: right;\">1</td><td style = \"text-align: right;\">3</td><td style = \"font-style: italic; text-align: right;\">missing</td><td style = \"font-style: italic; text-align: right;\">missing</td><td style = \"font-style: italic; text-align: right;\">missing</td><td style = \"text-align: right;\">660</td><td style = \"text-align: right;\">23</td><td style = \"text-align: right;\">1</td><td style = \"text-align: right;\">4</td><td style = \"text-align: right;\">34000</td><td style = \"text-align: right;\">0</td><td style = \"text-align: right;\">4</td><td style = \"text-align: right;\">4</td><td style = \"text-align: right;\">4</td><td style = \"text-align: right;\">1</td><td style = \"text-align: right;\">3</td><td style = \"text-align: right;\">0</td><td style = \"font-style: italic; text-align: right;\">missing</td><td style = \"text-align: right;\">0</td><td style = \"text-align: right;\">0</td><td style = \"text-align: right;\">0</td><td style = \"font-style: italic; text-align: right;\">missing</td><td style = \"text-align: right;\">0</td><td style = \"text-align: right;\">0</td><td style = \"text-align: right;\">0</td><td style = \"text-align: right;\">0</td><td style = \"text-align: right;\">0</td><td style = \"text-align: right;\">2</td><td style = \"font-style: italic; text-align: right;\">missing</td><td style = \"font-style: italic; text-align: right;\">missing</td><td style = \"text-align: right;\">1</td><td style = \"text-align: right;\">0</td><td style = \"font-style: italic; text-align: right;\">missing</td><td style = \"font-style: italic; text-align: right;\">missing</td><td style = \"font-style: italic; text-align: right;\">missing</td><td style = \"font-style: italic; text-align: right;\">missing</td><td style = \"text-align: right;\">0</td><td style = \"text-align: right;\">0</td><td style = \"text-align: right;\">0</td><td style = \"text-align: right;\">0</td><td style = \"text-align: right;\">0</td><td style = \"text-align: right;\">0</td><td style = \"text-align: right;\">0</td><td style = \"text-align: right;\">0</td><td style = \"text-align: right;\">0</td><td style = \"text-align: right;\">0</td><td style = \"text-align: right;\">0</td><td style = \"text-align: right;\">0</td><td style = \"text-align: right;\">0</td><td style = \"text-align: right;\">0</td><td style = \"text-align: right;\">0</td><td style = \"text-align: right;\">0</td><td style = \"text-align: right;\">0</td><td style = \"text-align: right;\">0</td><td style = \"text-align: right;\">0</td><td style = \"text-align: right;\">0</td><td style = \"text-align: right;\">0</td><td style = \"text-align: right;\">0</td><td style = \"text-align: right;\">0</td><td style = \"text-align: right;\">0</td><td style = \"text-align: right;\">0</td><td style = \"text-align: right;\">0</td><td style = \"text-align: right;\">&ctdot;</td></tr><tr><td class = \"rowNumber\" style = \"font-weight: bold; text-align: right;\">3</td><td style = \"text-align: left;\">H</td><td style = \"text-align: right;\">395</td><td style = \"text-align: right;\">8</td><td style = \"text-align: right;\">100</td><td style = \"text-align: right;\">4</td><td style = \"text-align: right;\">16</td><td style = \"text-align: right;\">1015675</td><td style = \"text-align: right;\">106</td><td style = \"text-align: right;\">2</td><td style = \"text-align: right;\">1</td><td style = \"text-align: right;\">1</td><td style = \"font-style: italic; text-align: right;\">missing</td><td style = \"text-align: right;\">3</td><td style = \"text-align: right;\">2</td><td style = \"text-align: right;\">2</td><td style = \"font-style: italic; text-align: right;\">missing</td><td style = \"text-align: right;\">70</td><td style = \"text-align: right;\">0</td><td style = \"text-align: right;\">2</td><td style = \"text-align: right;\">30</td><td style = \"text-align: right;\">1</td><td style = \"text-align: right;\">200</td><td style = \"text-align: right;\">1</td><td style = \"font-style: italic; text-align: right;\">missing</td><td style = \"font-style: italic; text-align: right;\">missing</td><td style = \"font-style: italic; text-align: right;\">missing</td><td style = \"font-style: italic; text-align: right;\">missing</td><td style = \"text-align: right;\">3</td><td style = \"text-align: right;\">1</td><td style = \"text-align: right;\">7</td><td style = \"font-style: italic; text-align: right;\">missing</td><td style = \"font-style: italic; text-align: right;\">missing</td><td style = \"font-style: italic; text-align: right;\">missing</td><td style = \"text-align: right;\">1</td><td style = \"text-align: right;\">2</td><td style = \"font-style: italic; text-align: right;\">missing</td><td style = \"text-align: right;\">18</td><td style = \"text-align: right;\">2</td><td style = \"text-align: right;\">50</td><td style = \"text-align: right;\">5</td><td style = \"text-align: right;\">7</td><td style = \"text-align: right;\">9400</td><td style = \"text-align: right;\">2</td><td style = \"font-style: italic; text-align: right;\">missing</td><td style = \"font-style: italic; text-align: right;\">missing</td><td style = \"text-align: right;\">1</td><td style = \"text-align: right;\">3</td><td style = \"text-align: right;\">9400</td><td style = \"text-align: right;\">0</td><td style = \"text-align: right;\">2</td><td style = \"text-align: right;\">2</td><td style = \"text-align: right;\">2</td><td style = \"text-align: right;\">1</td><td style = \"text-align: right;\">2</td><td style = \"text-align: right;\">1</td><td style = \"text-align: right;\">2</td><td style = \"text-align: right;\">0</td><td style = \"text-align: right;\">0</td><td style = \"text-align: right;\">1</td><td style = \"text-align: right;\">23</td><td style = \"text-align: right;\">0</td><td style = \"text-align: right;\">0</td><td style = \"text-align: right;\">1</td><td style = \"text-align: right;\">0</td><td style = \"text-align: right;\">0</td><td style = \"text-align: right;\">1</td><td style = \"text-align: right;\">179</td><td style = \"font-style: italic; text-align: right;\">missing</td><td style = \"text-align: right;\">0</td><td style = \"text-align: right;\">1</td><td style = \"text-align: right;\">16</td><td style = \"text-align: right;\">1</td><td style = \"text-align: right;\">13</td><td style = \"text-align: right;\">13</td><td style = \"text-align: right;\">0</td><td style = \"text-align: right;\">0</td><td style = \"text-align: right;\">0</td><td style = \"text-align: right;\">0</td><td style = \"text-align: right;\">0</td><td style = \"text-align: right;\">0</td><td style = \"text-align: right;\">0</td><td style = \"text-align: right;\">0</td><td style = \"text-align: right;\">0</td><td style = \"text-align: right;\">0</td><td style = \"text-align: right;\">0</td><td style = \"text-align: right;\">0</td><td style = \"text-align: right;\">0</td><td style = \"text-align: right;\">0</td><td style = \"text-align: right;\">0</td><td style = \"text-align: right;\">0</td><td style = \"text-align: right;\">0</td><td style = \"text-align: right;\">0</td><td style = \"text-align: right;\">0</td><td style = \"text-align: right;\">0</td><td style = \"text-align: right;\">0</td><td style = \"text-align: right;\">0</td><td style = \"text-align: right;\">0</td><td style = \"text-align: right;\">0</td><td style = \"text-align: right;\">0</td><td style = \"text-align: right;\">0</td><td style = \"text-align: right;\">&ctdot;</td></tr><tr><td class = \"rowNumber\" style = \"font-weight: bold; text-align: right;\">4</td><td style = \"text-align: left;\">H</td><td style = \"text-align: right;\">506</td><td style = \"text-align: right;\">8</td><td style = \"text-align: right;\">700</td><td style = \"text-align: right;\">4</td><td style = \"text-align: right;\">16</td><td style = \"text-align: right;\">1015675</td><td style = \"text-align: right;\">240</td><td style = \"text-align: right;\">4</td><td style = \"text-align: right;\">1</td><td style = \"text-align: right;\">1</td><td style = \"font-style: italic; text-align: right;\">missing</td><td style = \"text-align: right;\">4</td><td style = \"text-align: right;\">2</td><td style = \"text-align: right;\">2</td><td style = \"font-style: italic; text-align: right;\">missing</td><td style = \"text-align: right;\">40</td><td style = \"text-align: right;\">0</td><td style = \"text-align: right;\">2</td><td style = \"text-align: right;\">80</td><td style = \"text-align: right;\">1</td><td style = \"text-align: right;\">200</td><td style = \"text-align: right;\">1</td><td style = \"font-style: italic; text-align: right;\">missing</td><td style = \"text-align: right;\">1</td><td style = \"text-align: right;\">860</td><td style = \"text-align: right;\">1</td><td style = \"text-align: right;\">1</td><td style = \"text-align: right;\">1</td><td style = \"text-align: right;\">6</td><td style = \"font-style: italic; text-align: right;\">missing</td><td style = \"font-style: italic; text-align: right;\">missing</td><td style = \"text-align: right;\">400</td><td style = \"text-align: right;\">1</td><td style = \"text-align: right;\">1</td><td style = \"font-style: italic; text-align: right;\">missing</td><td style = \"text-align: right;\">19</td><td style = \"text-align: right;\">3</td><td style = \"text-align: right;\">500</td><td style = \"text-align: right;\">2</td><td style = \"text-align: right;\">1</td><td style = \"text-align: right;\">66000</td><td style = \"text-align: right;\">1</td><td style = \"font-style: italic; text-align: right;\">missing</td><td style = \"font-style: italic; text-align: right;\">missing</td><td style = \"text-align: right;\">1</td><td style = \"text-align: right;\">1</td><td style = \"text-align: right;\">66000</td><td style = \"text-align: right;\">0</td><td style = \"text-align: right;\">1</td><td style = \"text-align: right;\">1</td><td style = \"text-align: right;\">1</td><td style = \"text-align: right;\">1</td><td style = \"text-align: right;\">3</td><td style = \"text-align: right;\">2</td><td style = \"text-align: right;\">4</td><td style = \"text-align: right;\">0</td><td style = \"text-align: right;\">0</td><td style = \"text-align: right;\">2</td><td style = \"text-align: right;\">26</td><td style = \"text-align: right;\">0</td><td style = \"text-align: right;\">0</td><td style = \"text-align: right;\">1</td><td style = \"text-align: right;\">0</td><td style = \"text-align: right;\">0</td><td style = \"text-align: right;\">2</td><td style = \"text-align: right;\">1422</td><td style = \"text-align: right;\">1</td><td style = \"text-align: right;\">0</td><td style = \"text-align: right;\">1</td><td style = \"text-align: right;\">31</td><td style = \"text-align: right;\">2</td><td style = \"text-align: right;\">2</td><td style = \"text-align: right;\">1</td><td style = \"text-align: right;\">0</td><td style = \"text-align: right;\">0</td><td style = \"text-align: right;\">0</td><td style = \"text-align: right;\">0</td><td style = \"text-align: right;\">0</td><td style = \"text-align: right;\">0</td><td style = \"text-align: right;\">0</td><td style = \"text-align: right;\">0</td><td style = \"text-align: right;\">0</td><td style = \"text-align: right;\">0</td><td style = \"text-align: right;\">0</td><td style = \"text-align: right;\">0</td><td style = \"text-align: right;\">0</td><td style = \"text-align: right;\">0</td><td style = \"text-align: right;\">0</td><td style = \"text-align: right;\">0</td><td style = \"text-align: right;\">0</td><td style = \"text-align: right;\">0</td><td style = \"text-align: right;\">0</td><td style = \"text-align: right;\">0</td><td style = \"text-align: right;\">0</td><td style = \"text-align: right;\">0</td><td style = \"text-align: right;\">0</td><td style = \"text-align: right;\">0</td><td style = \"text-align: right;\">0</td><td style = \"text-align: right;\">0</td><td style = \"text-align: right;\">&ctdot;</td></tr><tr><td class = \"rowNumber\" style = \"font-weight: bold; text-align: right;\">5</td><td style = \"text-align: left;\">H</td><td style = \"text-align: right;\">835</td><td style = \"text-align: right;\">8</td><td style = \"text-align: right;\">800</td><td style = \"text-align: right;\">4</td><td style = \"text-align: right;\">16</td><td style = \"text-align: right;\">1015675</td><td style = \"text-align: right;\">118</td><td style = \"text-align: right;\">4</td><td style = \"text-align: right;\">1</td><td style = \"text-align: right;\">2</td><td style = \"text-align: right;\">1</td><td style = \"text-align: right;\">5</td><td style = \"text-align: right;\">2</td><td style = \"text-align: right;\">2</td><td style = \"font-style: italic; text-align: right;\">missing</td><td style = \"text-align: right;\">250</td><td style = \"text-align: right;\">0</td><td style = \"text-align: right;\">2</td><td style = \"text-align: right;\">3</td><td style = \"text-align: right;\">3</td><td style = \"text-align: right;\">700</td><td style = \"text-align: right;\">1</td><td style = \"font-style: italic; text-align: right;\">missing</td><td style = \"text-align: right;\">1</td><td style = \"text-align: right;\">1900</td><td style = \"text-align: right;\">1</td><td style = \"text-align: right;\">1</td><td style = \"text-align: right;\">1</td><td style = \"text-align: right;\">7</td><td style = \"font-style: italic; text-align: right;\">missing</td><td style = \"font-style: italic; text-align: right;\">missing</td><td style = \"text-align: right;\">650</td><td style = \"text-align: right;\">1</td><td style = \"text-align: right;\">1</td><td style = \"font-style: italic; text-align: right;\">missing</td><td style = \"text-align: right;\">20</td><td style = \"text-align: right;\">5</td><td style = \"text-align: right;\">2</td><td style = \"text-align: right;\">3</td><td style = \"text-align: right;\">1</td><td style = \"text-align: right;\">93000</td><td style = \"text-align: right;\">2</td><td style = \"font-style: italic; text-align: right;\">missing</td><td style = \"font-style: italic; text-align: right;\">missing</td><td style = \"text-align: right;\">1</td><td style = \"text-align: right;\">1</td><td style = \"text-align: right;\">93000</td><td style = \"text-align: right;\">0</td><td style = \"text-align: right;\">2</td><td style = \"text-align: right;\">2</td><td style = \"text-align: right;\">2</td><td style = \"text-align: right;\">1</td><td style = \"text-align: right;\">1</td><td style = \"text-align: right;\">1</td><td style = \"text-align: right;\">4</td><td style = \"text-align: right;\">0</td><td style = \"text-align: right;\">0</td><td style = \"text-align: right;\">1</td><td style = \"text-align: right;\">36</td><td style = \"text-align: right;\">0</td><td style = \"text-align: right;\">0</td><td style = \"text-align: right;\">1</td><td style = \"text-align: right;\">0</td><td style = \"text-align: right;\">0</td><td style = \"text-align: right;\">1</td><td style = \"text-align: right;\">2800</td><td style = \"text-align: right;\">1</td><td style = \"text-align: right;\">0</td><td style = \"text-align: right;\">1</td><td style = \"text-align: right;\">25</td><td style = \"text-align: right;\">3</td><td style = \"text-align: right;\">1</td><td style = \"text-align: right;\">1</td><td style = \"text-align: right;\">0</td><td style = \"text-align: right;\">0</td><td style = \"text-align: right;\">0</td><td style = \"text-align: right;\">0</td><td style = \"text-align: right;\">0</td><td style = \"text-align: right;\">0</td><td style = \"text-align: right;\">0</td><td style = \"text-align: right;\">0</td><td style = \"text-align: right;\">0</td><td style = \"text-align: right;\">0</td><td style = \"text-align: right;\">0</td><td style = \"text-align: right;\">0</td><td style = \"text-align: right;\">0</td><td style = \"text-align: right;\">0</td><td style = \"text-align: right;\">0</td><td style = \"text-align: right;\">0</td><td style = \"text-align: right;\">0</td><td style = \"text-align: right;\">0</td><td style = \"text-align: right;\">0</td><td style = \"text-align: right;\">0</td><td style = \"text-align: right;\">0</td><td style = \"text-align: right;\">0</td><td style = \"text-align: right;\">0</td><td style = \"text-align: right;\">0</td><td style = \"text-align: right;\">0</td><td style = \"text-align: right;\">0</td><td style = \"text-align: right;\">&ctdot;</td></tr><tr><td class = \"rowNumber\" style = \"font-weight: bold; text-align: right;\">6</td><td style = \"text-align: left;\">H</td><td style = \"text-align: right;\">989</td><td style = \"text-align: right;\">8</td><td style = \"text-align: right;\">700</td><td style = \"text-align: right;\">4</td><td style = \"text-align: right;\">16</td><td style = \"text-align: right;\">1015675</td><td style = \"text-align: right;\">115</td><td style = \"text-align: right;\">4</td><td style = \"text-align: right;\">1</td><td style = \"text-align: right;\">1</td><td style = \"font-style: italic; text-align: right;\">missing</td><td style = \"text-align: right;\">3</td><td style = \"text-align: right;\">2</td><td style = \"text-align: right;\">2</td><td style = \"font-style: italic; text-align: right;\">missing</td><td style = \"text-align: right;\">130</td><td style = \"text-align: right;\">0</td><td style = \"text-align: right;\">2</td><td style = \"text-align: right;\">3</td><td style = \"text-align: right;\">3</td><td style = \"text-align: right;\">250</td><td style = \"text-align: right;\">1</td><td style = \"font-style: italic; text-align: right;\">missing</td><td style = \"text-align: right;\">1</td><td style = \"text-align: right;\">700</td><td style = \"text-align: right;\">1</td><td style = \"text-align: right;\">1</td><td style = \"text-align: right;\">1</td><td style = \"text-align: right;\">6</td><td style = \"font-style: italic; text-align: right;\">missing</td><td style = \"font-style: italic; text-align: right;\">missing</td><td style = \"text-align: right;\">400</td><td style = \"text-align: right;\">1</td><td style = \"text-align: right;\">1</td><td style = \"font-style: italic; text-align: right;\">missing</td><td style = \"text-align: right;\">15</td><td style = \"text-align: right;\">2</td><td style = \"text-align: right;\">1200</td><td style = \"text-align: right;\">5</td><td style = \"text-align: right;\">2</td><td style = \"text-align: right;\">61000</td><td style = \"text-align: right;\">1</td><td style = \"font-style: italic; text-align: right;\">missing</td><td style = \"font-style: italic; text-align: right;\">missing</td><td style = \"text-align: right;\">1</td><td style = \"text-align: right;\">1</td><td style = \"text-align: right;\">61000</td><td style = \"text-align: right;\">0</td><td style = \"text-align: right;\">1</td><td style = \"text-align: right;\">1</td><td style = \"text-align: right;\">1</td><td style = \"text-align: right;\">1</td><td style = \"text-align: right;\">4</td><td style = \"text-align: right;\">2</td><td style = \"text-align: right;\">4</td><td style = \"text-align: right;\">0</td><td style = \"text-align: right;\">0</td><td style = \"text-align: right;\">2</td><td style = \"text-align: right;\">26</td><td style = \"text-align: right;\">0</td><td style = \"text-align: right;\">0</td><td style = \"text-align: right;\">1</td><td style = \"text-align: right;\">0</td><td style = \"text-align: right;\">0</td><td style = \"text-align: right;\">2</td><td style = \"text-align: right;\">1330</td><td style = \"text-align: right;\">2</td><td style = \"text-align: right;\">0</td><td style = \"text-align: right;\">1</td><td style = \"text-align: right;\">7</td><td style = \"text-align: right;\">1</td><td style = \"text-align: right;\">7</td><td style = \"text-align: right;\">3</td><td style = \"text-align: right;\">0</td><td style = \"text-align: right;\">0</td><td style = \"text-align: right;\">0</td><td style = \"text-align: right;\">0</td><td style = \"text-align: right;\">0</td><td style = \"text-align: right;\">0</td><td style = \"text-align: right;\">0</td><td style = \"text-align: right;\">0</td><td style = \"text-align: right;\">0</td><td style = \"text-align: right;\">0</td><td style = \"text-align: right;\">0</td><td style = \"text-align: right;\">1</td><td style = \"text-align: right;\">0</td><td style = \"text-align: right;\">0</td><td style = \"text-align: right;\">0</td><td style = \"text-align: right;\">0</td><td style = \"text-align: right;\">0</td><td style = \"text-align: right;\">0</td><td style = \"text-align: right;\">0</td><td style = \"text-align: right;\">0</td><td style = \"text-align: right;\">0</td><td style = \"text-align: right;\">0</td><td style = \"text-align: right;\">0</td><td style = \"text-align: right;\">0</td><td style = \"text-align: right;\">0</td><td style = \"text-align: right;\">0</td><td style = \"text-align: right;\">&ctdot;</td></tr><tr><td class = \"rowNumber\" style = \"font-weight: bold; text-align: right;\">7</td><td style = \"text-align: left;\">H</td><td style = \"text-align: right;\">1861</td><td style = \"text-align: right;\">8</td><td style = \"text-align: right;\">700</td><td style = \"text-align: right;\">4</td><td style = \"text-align: right;\">16</td><td style = \"text-align: right;\">1015675</td><td style = \"text-align: right;\">0</td><td style = \"text-align: right;\">1</td><td style = \"text-align: right;\">2</td><td style = \"font-style: italic; text-align: right;\">missing</td><td style = \"font-style: italic; text-align: right;\">missing</td><td style = \"font-style: italic; text-align: right;\">missing</td><td style = \"font-style: italic; text-align: right;\">missing</td><td style = \"font-style: italic; text-align: right;\">missing</td><td style = \"font-style: italic; text-align: right;\">missing</td><td style = \"font-style: italic; text-align: right;\">missing</td><td style = \"text-align: right;\">0</td><td style = \"font-style: italic; text-align: right;\">missing</td><td style = \"font-style: italic; text-align: right;\">missing</td><td style = \"font-style: italic; text-align: right;\">missing</td><td style = \"font-style: italic; text-align: right;\">missing</td><td style = \"font-style: italic; text-align: right;\">missing</td><td style = \"font-style: italic; text-align: right;\">missing</td><td style = \"font-style: italic; text-align: right;\">missing</td><td style = \"font-style: italic; text-align: right;\">missing</td><td style = \"font-style: italic; text-align: right;\">missing</td><td style = \"font-style: italic; text-align: right;\">missing</td><td style = \"font-style: italic; text-align: right;\">missing</td><td style = \"font-style: italic; text-align: right;\">missing</td><td style = \"font-style: italic; text-align: right;\">missing</td><td style = \"font-style: italic; text-align: right;\">missing</td><td style = \"font-style: italic; text-align: right;\">missing</td><td style = \"font-style: italic; text-align: right;\">missing</td><td style = \"font-style: italic; text-align: right;\">missing</td><td style = \"font-style: italic; text-align: right;\">missing</td><td style = \"font-style: italic; text-align: right;\">missing</td><td style = \"font-style: italic; text-align: right;\">missing</td><td style = \"font-style: italic; text-align: right;\">missing</td><td style = \"font-style: italic; text-align: right;\">missing</td><td style = \"font-style: italic; text-align: right;\">missing</td><td style = \"font-style: italic; text-align: right;\">missing</td><td style = \"font-style: italic; text-align: right;\">missing</td><td style = \"font-style: italic; text-align: right;\">missing</td><td style = \"font-style: italic; text-align: right;\">missing</td><td style = \"font-style: italic; text-align: right;\">missing</td><td style = \"font-style: italic; text-align: right;\">missing</td><td style = \"font-style: italic; text-align: right;\">missing</td><td style = \"font-style: italic; text-align: right;\">missing</td><td style = \"font-style: italic; text-align: right;\">missing</td><td style = \"font-style: italic; text-align: right;\">missing</td><td style = \"font-style: italic; text-align: right;\">missing</td><td style = \"font-style: italic; text-align: right;\">missing</td><td style = \"text-align: right;\">5</td><td style = \"font-style: italic; text-align: right;\">missing</td><td style = \"font-style: italic; text-align: right;\">missing</td><td style = \"font-style: italic; text-align: right;\">missing</td><td style = \"font-style: italic; text-align: right;\">missing</td><td style = \"font-style: italic; text-align: right;\">missing</td><td style = \"font-style: italic; text-align: right;\">missing</td><td style = \"font-style: italic; text-align: right;\">missing</td><td style = \"font-style: italic; text-align: right;\">missing</td><td style = \"font-style: italic; text-align: right;\">missing</td><td style = \"font-style: italic; text-align: right;\">missing</td><td style = \"font-style: italic; text-align: right;\">missing</td><td style = \"font-style: italic; text-align: right;\">missing</td><td style = \"font-style: italic; text-align: right;\">missing</td><td style = \"font-style: italic; text-align: right;\">missing</td><td style = \"font-style: italic; text-align: right;\">missing</td><td style = \"font-style: italic; text-align: right;\">missing</td><td style = \"font-style: italic; text-align: right;\">missing</td><td style = \"font-style: italic; text-align: right;\">missing</td><td style = \"font-style: italic; text-align: right;\">missing</td><td style = \"font-style: italic; text-align: right;\">missing</td><td style = \"font-style: italic; text-align: right;\">missing</td><td style = \"font-style: italic; text-align: right;\">missing</td><td style = \"font-style: italic; text-align: right;\">missing</td><td style = \"font-style: italic; text-align: right;\">missing</td><td style = \"font-style: italic; text-align: right;\">missing</td><td style = \"font-style: italic; text-align: right;\">missing</td><td style = \"font-style: italic; text-align: right;\">missing</td><td style = \"text-align: right;\">0</td><td style = \"font-style: italic; text-align: right;\">missing</td><td style = \"font-style: italic; text-align: right;\">missing</td><td style = \"font-style: italic; text-align: right;\">missing</td><td style = \"font-style: italic; text-align: right;\">missing</td><td style = \"font-style: italic; text-align: right;\">missing</td><td style = \"font-style: italic; text-align: right;\">missing</td><td style = \"font-style: italic; text-align: right;\">missing</td><td style = \"font-style: italic; text-align: right;\">missing</td><td style = \"font-style: italic; text-align: right;\">missing</td><td style = \"font-style: italic; text-align: right;\">missing</td><td style = \"font-style: italic; text-align: right;\">missing</td><td style = \"font-style: italic; text-align: right;\">missing</td><td style = \"font-style: italic; text-align: right;\">missing</td><td style = \"font-style: italic; text-align: right;\">missing</td><td style = \"font-style: italic; text-align: right;\">missing</td><td style = \"font-style: italic; text-align: right;\">missing</td><td style = \"font-style: italic; text-align: right;\">missing</td><td style = \"font-style: italic; text-align: right;\">missing</td><td style = \"text-align: right;\">&ctdot;</td></tr><tr><td class = \"rowNumber\" style = \"font-weight: bold; text-align: right;\">8</td><td style = \"text-align: left;\">H</td><td style = \"text-align: right;\">2120</td><td style = \"text-align: right;\">8</td><td style = \"text-align: right;\">200</td><td style = \"text-align: right;\">4</td><td style = \"text-align: right;\">16</td><td style = \"text-align: right;\">1015675</td><td style = \"text-align: right;\">35</td><td style = \"text-align: right;\">1</td><td style = \"text-align: right;\">1</td><td style = \"text-align: right;\">1</td><td style = \"font-style: italic; text-align: right;\">missing</td><td style = \"text-align: right;\">2</td><td style = \"text-align: right;\">1</td><td style = \"text-align: right;\">2</td><td style = \"font-style: italic; text-align: right;\">missing</td><td style = \"text-align: right;\">40</td><td style = \"text-align: right;\">0</td><td style = \"text-align: right;\">480</td><td style = \"text-align: right;\">3</td><td style = \"text-align: right;\">4</td><td style = \"font-style: italic; text-align: right;\">missing</td><td style = \"text-align: right;\">1</td><td style = \"font-style: italic; text-align: right;\">missing</td><td style = \"font-style: italic; text-align: right;\">missing</td><td style = \"font-style: italic; text-align: right;\">missing</td><td style = \"font-style: italic; text-align: right;\">missing</td><td style = \"font-style: italic; text-align: right;\">missing</td><td style = \"text-align: right;\">1</td><td style = \"text-align: right;\">4</td><td style = \"font-style: italic; text-align: right;\">missing</td><td style = \"font-style: italic; text-align: right;\">missing</td><td style = \"font-style: italic; text-align: right;\">missing</td><td style = \"text-align: right;\">1</td><td style = \"text-align: right;\">4</td><td style = \"font-style: italic; text-align: right;\">missing</td><td style = \"font-style: italic; text-align: right;\">missing</td><td style = \"text-align: right;\">1</td><td style = \"text-align: right;\">650</td><td style = \"text-align: right;\">5</td><td style = \"font-style: italic; text-align: right;\">missing</td><td style = \"font-style: italic; text-align: right;\">missing</td><td style = \"font-style: italic; text-align: right;\">missing</td><td style = \"font-style: italic; text-align: right;\">missing</td><td style = \"font-style: italic; text-align: right;\">missing</td><td style = \"text-align: right;\">1</td><td style = \"text-align: right;\">6</td><td style = \"text-align: right;\">10400</td><td style = \"text-align: right;\">0</td><td style = \"text-align: right;\">4</td><td style = \"text-align: right;\">4</td><td style = \"text-align: right;\">4</td><td style = \"text-align: right;\">1</td><td style = \"text-align: right;\">5</td><td style = \"text-align: right;\">0</td><td style = \"font-style: italic; text-align: right;\">missing</td><td style = \"text-align: right;\">0</td><td style = \"text-align: right;\">0</td><td style = \"text-align: right;\">0</td><td style = \"font-style: italic; text-align: right;\">missing</td><td style = \"text-align: right;\">0</td><td style = \"text-align: right;\">0</td><td style = \"text-align: right;\">0</td><td style = \"text-align: right;\">1</td><td style = \"text-align: right;\">1</td><td style = \"text-align: right;\">2</td><td style = \"font-style: italic; text-align: right;\">missing</td><td style = \"font-style: italic; text-align: right;\">missing</td><td style = \"text-align: right;\">1</td><td style = \"text-align: right;\">0</td><td style = \"font-style: italic; text-align: right;\">missing</td><td style = \"font-style: italic; text-align: right;\">missing</td><td style = \"font-style: italic; text-align: right;\">missing</td><td style = \"font-style: italic; text-align: right;\">missing</td><td style = \"text-align: right;\">0</td><td style = \"text-align: right;\">0</td><td style = \"text-align: right;\">0</td><td style = \"text-align: right;\">0</td><td style = \"text-align: right;\">0</td><td style = \"text-align: right;\">0</td><td style = \"text-align: right;\">0</td><td style = \"text-align: right;\">0</td><td style = \"text-align: right;\">0</td><td style = \"text-align: right;\">0</td><td style = \"text-align: right;\">0</td><td style = \"text-align: right;\">0</td><td style = \"text-align: right;\">0</td><td style = \"text-align: right;\">0</td><td style = \"text-align: right;\">0</td><td style = \"text-align: right;\">0</td><td style = \"text-align: right;\">0</td><td style = \"text-align: right;\">0</td><td style = \"text-align: right;\">0</td><td style = \"text-align: right;\">0</td><td style = \"text-align: right;\">0</td><td style = \"text-align: right;\">0</td><td style = \"text-align: right;\">0</td><td style = \"text-align: right;\">0</td><td style = \"text-align: right;\">0</td><td style = \"text-align: right;\">0</td><td style = \"text-align: right;\">&ctdot;</td></tr><tr><td class = \"rowNumber\" style = \"font-weight: bold; text-align: right;\">9</td><td style = \"text-align: left;\">H</td><td style = \"text-align: right;\">2278</td><td style = \"text-align: right;\">8</td><td style = \"text-align: right;\">400</td><td style = \"text-align: right;\">4</td><td style = \"text-align: right;\">16</td><td style = \"text-align: right;\">1015675</td><td style = \"text-align: right;\">47</td><td style = \"text-align: right;\">2</td><td style = \"text-align: right;\">1</td><td style = \"text-align: right;\">1</td><td style = \"font-style: italic; text-align: right;\">missing</td><td style = \"text-align: right;\">3</td><td style = \"text-align: right;\">2</td><td style = \"text-align: right;\">2</td><td style = \"font-style: italic; text-align: right;\">missing</td><td style = \"text-align: right;\">2</td><td style = \"text-align: right;\">0</td><td style = \"text-align: right;\">2</td><td style = \"text-align: right;\">3</td><td style = \"text-align: right;\">3</td><td style = \"text-align: right;\">770</td><td style = \"text-align: right;\">1</td><td style = \"font-style: italic; text-align: right;\">missing</td><td style = \"text-align: right;\">1</td><td style = \"text-align: right;\">750</td><td style = \"text-align: right;\">1</td><td style = \"text-align: right;\">1</td><td style = \"text-align: right;\">1</td><td style = \"text-align: right;\">6</td><td style = \"font-style: italic; text-align: right;\">missing</td><td style = \"font-style: italic; text-align: right;\">missing</td><td style = \"font-style: italic; text-align: right;\">missing</td><td style = \"text-align: right;\">1</td><td style = \"text-align: right;\">1</td><td style = \"font-style: italic; text-align: right;\">missing</td><td style = \"text-align: right;\">13</td><td style = \"text-align: right;\">2</td><td style = \"text-align: right;\">660</td><td style = \"text-align: right;\">3</td><td style = \"text-align: right;\">2</td><td style = \"text-align: right;\">209000</td><td style = \"text-align: right;\">4</td><td style = \"font-style: italic; text-align: right;\">missing</td><td style = \"font-style: italic; text-align: right;\">missing</td><td style = \"text-align: right;\">1</td><td style = \"text-align: right;\">1</td><td style = \"text-align: right;\">209000</td><td style = \"text-align: right;\">0</td><td style = \"text-align: right;\">4</td><td style = \"text-align: right;\">4</td><td style = \"text-align: right;\">4</td><td style = \"text-align: right;\">1</td><td style = \"text-align: right;\">1</td><td style = \"text-align: right;\">0</td><td style = \"text-align: right;\">2</td><td style = \"text-align: right;\">0</td><td style = \"text-align: right;\">0</td><td style = \"text-align: right;\">0</td><td style = \"text-align: right;\">5</td><td style = \"text-align: right;\">0</td><td style = \"text-align: right;\">0</td><td style = \"text-align: right;\">0</td><td style = \"text-align: right;\">1</td><td style = \"text-align: right;\">1</td><td style = \"text-align: right;\">1</td><td style = \"text-align: right;\">805</td><td style = \"text-align: right;\">3</td><td style = \"text-align: right;\">0</td><td style = \"text-align: right;\">1</td><td style = \"text-align: right;\">22</td><td style = \"text-align: right;\">1</td><td style = \"text-align: right;\">6</td><td style = \"text-align: right;\">3</td><td style = \"text-align: right;\">0</td><td style = \"text-align: right;\">0</td><td style = \"text-align: right;\">0</td><td style = \"text-align: right;\">0</td><td style = \"text-align: right;\">0</td><td style = \"text-align: right;\">0</td><td style = \"text-align: right;\">0</td><td style = \"text-align: right;\">0</td><td style = \"text-align: right;\">0</td><td style = \"text-align: right;\">0</td><td style = \"text-align: right;\">0</td><td style = \"text-align: right;\">0</td><td style = \"text-align: right;\">0</td><td style = \"text-align: right;\">0</td><td style = \"text-align: right;\">0</td><td style = \"text-align: right;\">0</td><td style = \"text-align: right;\">0</td><td style = \"text-align: right;\">0</td><td style = \"text-align: right;\">0</td><td style = \"text-align: right;\">0</td><td style = \"text-align: right;\">0</td><td style = \"text-align: right;\">0</td><td style = \"text-align: right;\">0</td><td style = \"text-align: right;\">0</td><td style = \"text-align: right;\">0</td><td style = \"text-align: right;\">0</td><td style = \"text-align: right;\">&ctdot;</td></tr><tr><td class = \"rowNumber\" style = \"font-weight: bold; text-align: right;\">10</td><td style = \"text-align: left;\">H</td><td style = \"text-align: right;\">2428</td><td style = \"text-align: right;\">8</td><td style = \"text-align: right;\">500</td><td style = \"text-align: right;\">4</td><td style = \"text-align: right;\">16</td><td style = \"text-align: right;\">1015675</td><td style = \"text-align: right;\">51</td><td style = \"text-align: right;\">2</td><td style = \"text-align: right;\">1</td><td style = \"text-align: right;\">1</td><td style = \"font-style: italic; text-align: right;\">missing</td><td style = \"text-align: right;\">2</td><td style = \"text-align: right;\">1</td><td style = \"text-align: right;\">2</td><td style = \"font-style: italic; text-align: right;\">missing</td><td style = \"text-align: right;\">20</td><td style = \"text-align: right;\">0</td><td style = \"text-align: right;\">2</td><td style = \"text-align: right;\">140</td><td style = \"text-align: right;\">1</td><td style = \"text-align: right;\">120</td><td style = \"text-align: right;\">1</td><td style = \"text-align: right;\">220</td><td style = \"font-style: italic; text-align: right;\">missing</td><td style = \"font-style: italic; text-align: right;\">missing</td><td style = \"font-style: italic; text-align: right;\">missing</td><td style = \"text-align: right;\">3</td><td style = \"text-align: right;\">1</td><td style = \"text-align: right;\">5</td><td style = \"font-style: italic; text-align: right;\">missing</td><td style = \"font-style: italic; text-align: right;\">missing</td><td style = \"font-style: italic; text-align: right;\">missing</td><td style = \"text-align: right;\">1</td><td style = \"text-align: right;\">2</td><td style = \"font-style: italic; text-align: right;\">missing</td><td style = \"text-align: right;\">1</td><td style = \"text-align: right;\">2</td><td style = \"text-align: right;\">2</td><td style = \"text-align: right;\">5</td><td style = \"font-style: italic; text-align: right;\">missing</td><td style = \"font-style: italic; text-align: right;\">missing</td><td style = \"font-style: italic; text-align: right;\">missing</td><td style = \"font-style: italic; text-align: right;\">missing</td><td style = \"font-style: italic; text-align: right;\">missing</td><td style = \"text-align: right;\">2</td><td style = \"text-align: right;\">5</td><td style = \"text-align: right;\">35400</td><td style = \"text-align: right;\">0</td><td style = \"text-align: right;\">4</td><td style = \"text-align: right;\">4</td><td style = \"text-align: right;\">4</td><td style = \"text-align: right;\">2</td><td style = \"text-align: right;\">1</td><td style = \"text-align: right;\">0</td><td style = \"font-style: italic; text-align: right;\">missing</td><td style = \"text-align: right;\">0</td><td style = \"text-align: right;\">1</td><td style = \"text-align: right;\">0</td><td style = \"text-align: right;\">7</td><td style = \"text-align: right;\">0</td><td style = \"text-align: right;\">0</td><td style = \"text-align: right;\">0</td><td style = \"text-align: right;\">0</td><td style = \"text-align: right;\">0</td><td style = \"text-align: right;\">1</td><td style = \"text-align: right;\">196</td><td style = \"font-style: italic; text-align: right;\">missing</td><td style = \"text-align: right;\">0</td><td style = \"text-align: right;\">0</td><td style = \"text-align: right;\">4</td><td style = \"font-style: italic; text-align: right;\">missing</td><td style = \"font-style: italic; text-align: right;\">missing</td><td style = \"font-style: italic; text-align: right;\">missing</td><td style = \"text-align: right;\">1</td><td style = \"text-align: right;\">0</td><td style = \"text-align: right;\">0</td><td style = \"text-align: right;\">0</td><td style = \"text-align: right;\">0</td><td style = \"text-align: right;\">0</td><td style = \"text-align: right;\">0</td><td style = \"text-align: right;\">0</td><td style = \"text-align: right;\">0</td><td style = \"text-align: right;\">0</td><td style = \"text-align: right;\">0</td><td style = \"text-align: right;\">0</td><td style = \"text-align: right;\">0</td><td style = \"text-align: right;\">0</td><td style = \"text-align: right;\">0</td><td style = \"text-align: right;\">0</td><td style = \"text-align: right;\">0</td><td style = \"text-align: right;\">0</td><td style = \"text-align: right;\">0</td><td style = \"text-align: right;\">0</td><td style = \"text-align: right;\">1</td><td style = \"text-align: right;\">0</td><td style = \"text-align: right;\">0</td><td style = \"text-align: right;\">0</td><td style = \"text-align: right;\">0</td><td style = \"text-align: right;\">0</td><td style = \"text-align: right;\">&ctdot;</td></tr><tr><td class = \"rowNumber\" style = \"font-weight: bold; text-align: right;\">11</td><td style = \"text-align: left;\">H</td><td style = \"text-align: right;\">2677</td><td style = \"text-align: right;\">8</td><td style = \"text-align: right;\">400</td><td style = \"text-align: right;\">4</td><td style = \"text-align: right;\">16</td><td style = \"text-align: right;\">1015675</td><td style = \"text-align: right;\">114</td><td style = \"text-align: right;\">2</td><td style = \"text-align: right;\">1</td><td style = \"text-align: right;\">1</td><td style = \"font-style: italic; text-align: right;\">missing</td><td style = \"text-align: right;\">3</td><td style = \"text-align: right;\">2</td><td style = \"text-align: right;\">2</td><td style = \"font-style: italic; text-align: right;\">missing</td><td style = \"text-align: right;\">50</td><td style = \"text-align: right;\">0</td><td style = \"text-align: right;\">2</td><td style = \"text-align: right;\">50</td><td style = \"text-align: right;\">1</td><td style = \"text-align: right;\">400</td><td style = \"text-align: right;\">1</td><td style = \"font-style: italic; text-align: right;\">missing</td><td style = \"text-align: right;\">1</td><td style = \"text-align: right;\">600</td><td style = \"text-align: right;\">1</td><td style = \"text-align: right;\">1</td><td style = \"text-align: right;\">1</td><td style = \"text-align: right;\">5</td><td style = \"font-style: italic; text-align: right;\">missing</td><td style = \"font-style: italic; text-align: right;\">missing</td><td style = \"font-style: italic; text-align: right;\">missing</td><td style = \"text-align: right;\">1</td><td style = \"text-align: right;\">1</td><td style = \"font-style: italic; text-align: right;\">missing</td><td style = \"text-align: right;\">12</td><td style = \"text-align: right;\">1</td><td style = \"text-align: right;\">420</td><td style = \"text-align: right;\">9</td><td style = \"text-align: right;\">7</td><td style = \"text-align: right;\">35000</td><td style = \"text-align: right;\">2</td><td style = \"font-style: italic; text-align: right;\">missing</td><td style = \"font-style: italic; text-align: right;\">missing</td><td style = \"text-align: right;\">1</td><td style = \"text-align: right;\">3</td><td style = \"text-align: right;\">35000</td><td style = \"text-align: right;\">0</td><td style = \"text-align: right;\">2</td><td style = \"text-align: right;\">2</td><td style = \"text-align: right;\">2</td><td style = \"text-align: right;\">1</td><td style = \"text-align: right;\">4</td><td style = \"text-align: right;\">1</td><td style = \"text-align: right;\">2</td><td style = \"text-align: right;\">0</td><td style = \"text-align: right;\">0</td><td style = \"text-align: right;\">1</td><td style = \"text-align: right;\">25</td><td style = \"text-align: right;\">0</td><td style = \"text-align: right;\">0</td><td style = \"text-align: right;\">1</td><td style = \"text-align: right;\">0</td><td style = \"text-align: right;\">0</td><td style = \"text-align: right;\">1</td><td style = \"text-align: right;\">735</td><td style = \"text-align: right;\">3</td><td style = \"text-align: right;\">0</td><td style = \"text-align: right;\">1</td><td style = \"text-align: right;\">23</td><td style = \"text-align: right;\">1</td><td style = \"text-align: right;\">13</td><td style = \"text-align: right;\">13</td><td style = \"text-align: right;\">0</td><td style = \"text-align: right;\">0</td><td style = \"text-align: right;\">0</td><td style = \"text-align: right;\">0</td><td style = \"text-align: right;\">0</td><td style = \"text-align: right;\">0</td><td style = \"text-align: right;\">0</td><td style = \"text-align: right;\">0</td><td style = \"text-align: right;\">0</td><td style = \"text-align: right;\">0</td><td style = \"text-align: right;\">0</td><td style = \"text-align: right;\">1</td><td style = \"text-align: right;\">0</td><td style = \"text-align: right;\">0</td><td style = \"text-align: right;\">0</td><td style = \"text-align: right;\">0</td><td style = \"text-align: right;\">0</td><td style = \"text-align: right;\">0</td><td style = \"text-align: right;\">0</td><td style = \"text-align: right;\">0</td><td style = \"text-align: right;\">0</td><td style = \"text-align: right;\">0</td><td style = \"text-align: right;\">0</td><td style = \"text-align: right;\">0</td><td style = \"text-align: right;\">0</td><td style = \"text-align: right;\">0</td><td style = \"text-align: right;\">&ctdot;</td></tr><tr><td class = \"rowNumber\" style = \"font-weight: bold; text-align: right;\">12</td><td style = \"text-align: left;\">H</td><td style = \"text-align: right;\">2928</td><td style = \"text-align: right;\">8</td><td style = \"text-align: right;\">800</td><td style = \"text-align: right;\">4</td><td style = \"text-align: right;\">16</td><td style = \"text-align: right;\">1015675</td><td style = \"text-align: right;\">51</td><td style = \"text-align: right;\">2</td><td style = \"text-align: right;\">1</td><td style = \"text-align: right;\">1</td><td style = \"font-style: italic; text-align: right;\">missing</td><td style = \"text-align: right;\">3</td><td style = \"text-align: right;\">2</td><td style = \"text-align: right;\">2</td><td style = \"font-style: italic; text-align: right;\">missing</td><td style = \"text-align: right;\">100</td><td style = \"text-align: right;\">0</td><td style = \"text-align: right;\">2</td><td style = \"text-align: right;\">3</td><td style = \"text-align: right;\">3</td><td style = \"text-align: right;\">500</td><td style = \"text-align: right;\">1</td><td style = \"font-style: italic; text-align: right;\">missing</td><td style = \"font-style: italic; text-align: right;\">missing</td><td style = \"font-style: italic; text-align: right;\">missing</td><td style = \"font-style: italic; text-align: right;\">missing</td><td style = \"text-align: right;\">3</td><td style = \"text-align: right;\">1</td><td style = \"text-align: right;\">5</td><td style = \"font-style: italic; text-align: right;\">missing</td><td style = \"font-style: italic; text-align: right;\">missing</td><td style = \"font-style: italic; text-align: right;\">missing</td><td style = \"text-align: right;\">1</td><td style = \"text-align: right;\">2</td><td style = \"font-style: italic; text-align: right;\">missing</td><td style = \"text-align: right;\">15</td><td style = \"text-align: right;\">1</td><td style = \"text-align: right;\">2</td><td style = \"text-align: right;\">5</td><td style = \"text-align: right;\">2</td><td style = \"text-align: right;\">23000</td><td style = \"text-align: right;\">4</td><td style = \"font-style: italic; text-align: right;\">missing</td><td style = \"font-style: italic; text-align: right;\">missing</td><td style = \"text-align: right;\">1</td><td style = \"text-align: right;\">1</td><td style = \"text-align: right;\">23000</td><td style = \"text-align: right;\">0</td><td style = \"text-align: right;\">4</td><td style = \"text-align: right;\">4</td><td style = \"text-align: right;\">4</td><td style = \"text-align: right;\">1</td><td style = \"text-align: right;\">6</td><td style = \"text-align: right;\">0</td><td style = \"text-align: right;\">2</td><td style = \"text-align: right;\">0</td><td style = \"text-align: right;\">0</td><td style = \"text-align: right;\">0</td><td style = \"text-align: right;\">9</td><td style = \"text-align: right;\">0</td><td style = \"text-align: right;\">0</td><td style = \"text-align: right;\">0</td><td style = \"text-align: right;\">1</td><td style = \"text-align: right;\">0</td><td style = \"text-align: right;\">1</td><td style = \"text-align: right;\">172</td><td style = \"font-style: italic; text-align: right;\">missing</td><td style = \"text-align: right;\">0</td><td style = \"text-align: right;\">1</td><td style = \"text-align: right;\">9</td><td style = \"text-align: right;\">2</td><td style = \"text-align: right;\">5</td><td style = \"text-align: right;\">3</td><td style = \"text-align: right;\">0</td><td style = \"text-align: right;\">0</td><td style = \"text-align: right;\">0</td><td style = \"text-align: right;\">0</td><td style = \"text-align: right;\">0</td><td style = \"text-align: right;\">0</td><td style = \"text-align: right;\">0</td><td style = \"text-align: right;\">0</td><td style = \"text-align: right;\">0</td><td style = \"text-align: right;\">1</td><td style = \"text-align: right;\">0</td><td style = \"text-align: right;\">0</td><td style = \"text-align: right;\">0</td><td style = \"text-align: right;\">0</td><td style = \"text-align: right;\">0</td><td style = \"text-align: right;\">0</td><td style = \"text-align: right;\">0</td><td style = \"text-align: right;\">0</td><td style = \"text-align: right;\">1</td><td style = \"text-align: right;\">0</td><td style = \"text-align: right;\">0</td><td style = \"text-align: right;\">0</td><td style = \"text-align: right;\">0</td><td style = \"text-align: right;\">0</td><td style = \"text-align: right;\">0</td><td style = \"text-align: right;\">0</td><td style = \"text-align: right;\">&ctdot;</td></tr><tr><td class = \"rowNumber\" style = \"font-weight: bold; text-align: right;\">13</td><td style = \"text-align: left;\">H</td><td style = \"text-align: right;\">3283</td><td style = \"text-align: right;\">8</td><td style = \"text-align: right;\">400</td><td style = \"text-align: right;\">4</td><td style = \"text-align: right;\">16</td><td style = \"text-align: right;\">1015675</td><td style = \"text-align: right;\">67</td><td style = \"text-align: right;\">3</td><td style = \"text-align: right;\">1</td><td style = \"text-align: right;\">1</td><td style = \"font-style: italic; text-align: right;\">missing</td><td style = \"text-align: right;\">2</td><td style = \"text-align: right;\">2</td><td style = \"text-align: right;\">2</td><td style = \"font-style: italic; text-align: right;\">missing</td><td style = \"text-align: right;\">100</td><td style = \"text-align: right;\">0</td><td style = \"text-align: right;\">600</td><td style = \"text-align: right;\">40</td><td style = \"text-align: right;\">1</td><td style = \"text-align: right;\">500</td><td style = \"text-align: right;\">1</td><td style = \"font-style: italic; text-align: right;\">missing</td><td style = \"text-align: right;\">1</td><td style = \"text-align: right;\">550</td><td style = \"text-align: right;\">1</td><td style = \"text-align: right;\">1</td><td style = \"text-align: right;\">1</td><td style = \"text-align: right;\">5</td><td style = \"font-style: italic; text-align: right;\">missing</td><td style = \"font-style: italic; text-align: right;\">missing</td><td style = \"text-align: right;\">400</td><td style = \"text-align: right;\">1</td><td style = \"text-align: right;\">1</td><td style = \"font-style: italic; text-align: right;\">missing</td><td style = \"text-align: right;\">12</td><td style = \"text-align: right;\">5</td><td style = \"text-align: right;\">600</td><td style = \"text-align: right;\">7</td><td style = \"text-align: right;\">1</td><td style = \"text-align: right;\">84000</td><td style = \"text-align: right;\">4</td><td style = \"font-style: italic; text-align: right;\">missing</td><td style = \"font-style: italic; text-align: right;\">missing</td><td style = \"text-align: right;\">1</td><td style = \"text-align: right;\">1</td><td style = \"text-align: right;\">84000</td><td style = \"text-align: right;\">0</td><td style = \"text-align: right;\">4</td><td style = \"text-align: right;\">4</td><td style = \"text-align: right;\">4</td><td style = \"text-align: right;\">1</td><td style = \"text-align: right;\">5</td><td style = \"text-align: right;\">0</td><td style = \"text-align: right;\">3</td><td style = \"text-align: right;\">0</td><td style = \"text-align: right;\">0</td><td style = \"text-align: right;\">0</td><td style = \"text-align: right;\">17</td><td style = \"text-align: right;\">0</td><td style = \"text-align: right;\">0</td><td style = \"text-align: right;\">0</td><td style = \"text-align: right;\">1</td><td style = \"text-align: right;\">0</td><td style = \"text-align: right;\">2</td><td style = \"text-align: right;\">1190</td><td style = \"text-align: right;\">2</td><td style = \"text-align: right;\">0</td><td style = \"text-align: right;\">1</td><td style = \"text-align: right;\">14</td><td style = \"text-align: right;\">3</td><td style = \"text-align: right;\">1</td><td style = \"text-align: right;\">1</td><td style = \"text-align: right;\">0</td><td style = \"text-align: right;\">0</td><td style = \"text-align: right;\">0</td><td style = \"text-align: right;\">0</td><td style = \"text-align: right;\">0</td><td style = \"text-align: right;\">0</td><td style = \"text-align: right;\">0</td><td style = \"text-align: right;\">0</td><td style = \"text-align: right;\">0</td><td style = \"text-align: right;\">0</td><td style = \"text-align: right;\">0</td><td style = \"text-align: right;\">0</td><td style = \"text-align: right;\">0</td><td style = \"text-align: right;\">0</td><td style = \"text-align: right;\">0</td><td style = \"text-align: right;\">0</td><td style = \"text-align: right;\">0</td><td style = \"text-align: right;\">0</td><td style = \"text-align: right;\">0</td><td style = \"text-align: right;\">0</td><td style = \"text-align: right;\">0</td><td style = \"text-align: right;\">0</td><td style = \"text-align: right;\">0</td><td style = \"text-align: right;\">0</td><td style = \"text-align: right;\">0</td><td style = \"text-align: right;\">0</td><td style = \"text-align: right;\">&ctdot;</td></tr><tr><td style = \"text-align: right;\">&vellip;</td><td style = \"text-align: right;\">&vellip;</td><td style = \"text-align: right;\">&vellip;</td><td style = \"text-align: right;\">&vellip;</td><td style = \"text-align: right;\">&vellip;</td><td style = \"text-align: right;\">&vellip;</td><td style = \"text-align: right;\">&vellip;</td><td style = \"text-align: right;\">&vellip;</td><td style = \"text-align: right;\">&vellip;</td><td style = \"text-align: right;\">&vellip;</td><td style = \"text-align: right;\">&vellip;</td><td style = \"text-align: right;\">&vellip;</td><td style = \"text-align: right;\">&vellip;</td><td style = \"text-align: right;\">&vellip;</td><td style = \"text-align: right;\">&vellip;</td><td style = \"text-align: right;\">&vellip;</td><td style = \"text-align: right;\">&vellip;</td><td style = \"text-align: right;\">&vellip;</td><td style = \"text-align: right;\">&vellip;</td><td style = \"text-align: right;\">&vellip;</td><td style = \"text-align: right;\">&vellip;</td><td style = \"text-align: right;\">&vellip;</td><td style = \"text-align: right;\">&vellip;</td><td style = \"text-align: right;\">&vellip;</td><td style = \"text-align: right;\">&vellip;</td><td style = \"text-align: right;\">&vellip;</td><td style = \"text-align: right;\">&vellip;</td><td style = \"text-align: right;\">&vellip;</td><td style = \"text-align: right;\">&vellip;</td><td style = \"text-align: right;\">&vellip;</td><td style = \"text-align: right;\">&vellip;</td><td style = \"text-align: right;\">&vellip;</td><td style = \"text-align: right;\">&vellip;</td><td style = \"text-align: right;\">&vellip;</td><td style = \"text-align: right;\">&vellip;</td><td style = \"text-align: right;\">&vellip;</td><td style = \"text-align: right;\">&vellip;</td><td style = \"text-align: right;\">&vellip;</td><td style = \"text-align: right;\">&vellip;</td><td style = \"text-align: right;\">&vellip;</td><td style = \"text-align: right;\">&vellip;</td><td style = \"text-align: right;\">&vellip;</td><td style = \"text-align: right;\">&vellip;</td><td style = \"text-align: right;\">&vellip;</td><td style = \"text-align: right;\">&vellip;</td><td style = \"text-align: right;\">&vellip;</td><td style = \"text-align: right;\">&vellip;</td><td style = \"text-align: right;\">&vellip;</td><td style = \"text-align: right;\">&vellip;</td><td style = \"text-align: right;\">&vellip;</td><td style = \"text-align: right;\">&vellip;</td><td style = \"text-align: right;\">&vellip;</td><td style = \"text-align: right;\">&vellip;</td><td style = \"text-align: right;\">&vellip;</td><td style = \"text-align: right;\">&vellip;</td><td style = \"text-align: right;\">&vellip;</td><td style = \"text-align: right;\">&vellip;</td><td style = \"text-align: right;\">&vellip;</td><td style = \"text-align: right;\">&vellip;</td><td style = \"text-align: right;\">&vellip;</td><td style = \"text-align: right;\">&vellip;</td><td style = \"text-align: right;\">&vellip;</td><td style = \"text-align: right;\">&vellip;</td><td style = \"text-align: right;\">&vellip;</td><td style = \"text-align: right;\">&vellip;</td><td style = \"text-align: right;\">&vellip;</td><td style = \"text-align: right;\">&vellip;</td><td style = \"text-align: right;\">&vellip;</td><td style = \"text-align: right;\">&vellip;</td><td style = \"text-align: right;\">&vellip;</td><td style = \"text-align: right;\">&vellip;</td><td style = \"text-align: right;\">&vellip;</td><td style = \"text-align: right;\">&vellip;</td><td style = \"text-align: right;\">&vellip;</td><td style = \"text-align: right;\">&vellip;</td><td style = \"text-align: right;\">&vellip;</td><td style = \"text-align: right;\">&vellip;</td><td style = \"text-align: right;\">&vellip;</td><td style = \"text-align: right;\">&vellip;</td><td style = \"text-align: right;\">&vellip;</td><td style = \"text-align: right;\">&vellip;</td><td style = \"text-align: right;\">&vellip;</td><td style = \"text-align: right;\">&vellip;</td><td style = \"text-align: right;\">&vellip;</td><td style = \"text-align: right;\">&vellip;</td><td style = \"text-align: right;\">&vellip;</td><td style = \"text-align: right;\">&vellip;</td><td style = \"text-align: right;\">&vellip;</td><td style = \"text-align: right;\">&vellip;</td><td style = \"text-align: right;\">&vellip;</td><td style = \"text-align: right;\">&vellip;</td><td style = \"text-align: right;\">&vellip;</td><td style = \"text-align: right;\">&vellip;</td><td style = \"text-align: right;\">&vellip;</td><td style = \"text-align: right;\">&vellip;</td><td style = \"text-align: right;\">&vellip;</td><td style = \"text-align: right;\">&vellip;</td><td style = \"text-align: right;\">&vellip;</td><td style = \"text-align: right;\">&vellip;</td><td style = \"text-align: right;\">&vellip;</td><td style = \"text-align: right;\">&vellip;</td><td style = \"text-align: right;\">&dtdot;</td></tr><tr><td class = \"rowNumber\" style = \"font-weight: bold; text-align: right;\">6485</td><td style = \"text-align: left;\">H</td><td style = \"text-align: right;\">1356102</td><td style = \"text-align: right;\">8</td><td style = \"text-align: right;\">800</td><td style = \"text-align: right;\">4</td><td style = \"text-align: right;\">16</td><td style = \"text-align: right;\">1015675</td><td style = \"text-align: right;\">34</td><td style = \"text-align: right;\">2</td><td style = \"text-align: right;\">1</td><td style = \"text-align: right;\">1</td><td style = \"font-style: italic; text-align: right;\">missing</td><td style = \"text-align: right;\">2</td><td style = \"text-align: right;\">1</td><td style = \"text-align: right;\">2</td><td style = \"font-style: italic; text-align: right;\">missing</td><td style = \"text-align: right;\">50</td><td style = \"text-align: right;\">0</td><td style = \"text-align: right;\">150</td><td style = \"text-align: right;\">3</td><td style = \"text-align: right;\">6</td><td style = \"text-align: right;\">0</td><td style = \"text-align: right;\">1</td><td style = \"text-align: right;\">0</td><td style = \"font-style: italic; text-align: right;\">missing</td><td style = \"font-style: italic; text-align: right;\">missing</td><td style = \"font-style: italic; text-align: right;\">missing</td><td style = \"text-align: right;\">3</td><td style = \"text-align: right;\">1</td><td style = \"text-align: right;\">4</td><td style = \"font-style: italic; text-align: right;\">missing</td><td style = \"font-style: italic; text-align: right;\">missing</td><td style = \"font-style: italic; text-align: right;\">missing</td><td style = \"text-align: right;\">1</td><td style = \"text-align: right;\">2</td><td style = \"font-style: italic; text-align: right;\">missing</td><td style = \"text-align: right;\">6</td><td style = \"text-align: right;\">2</td><td style = \"text-align: right;\">450</td><td style = \"text-align: right;\">5</td><td style = \"text-align: right;\">4</td><td style = \"text-align: right;\">17900</td><td style = \"text-align: right;\">4</td><td style = \"font-style: italic; text-align: right;\">missing</td><td style = \"font-style: italic; text-align: right;\">missing</td><td style = \"text-align: right;\">1</td><td style = \"text-align: right;\">1</td><td style = \"text-align: right;\">17900</td><td style = \"text-align: right;\">0</td><td style = \"text-align: right;\">4</td><td style = \"text-align: right;\">4</td><td style = \"text-align: right;\">4</td><td style = \"text-align: right;\">1</td><td style = \"text-align: right;\">6</td><td style = \"text-align: right;\">0</td><td style = \"text-align: right;\">2</td><td style = \"text-align: right;\">0</td><td style = \"text-align: right;\">0</td><td style = \"text-align: right;\">0</td><td style = \"text-align: right;\">9</td><td style = \"text-align: right;\">0</td><td style = \"text-align: right;\">0</td><td style = \"text-align: right;\">0</td><td style = \"text-align: right;\">1</td><td style = \"text-align: right;\">1</td><td style = \"text-align: right;\">2</td><td style = \"text-align: right;\">134</td><td style = \"font-style: italic; text-align: right;\">missing</td><td style = \"text-align: right;\">0</td><td style = \"text-align: right;\">0</td><td style = \"text-align: right;\">9</td><td style = \"text-align: right;\">1</td><td style = \"text-align: right;\">6</td><td style = \"text-align: right;\">9</td><td style = \"text-align: right;\">0</td><td style = \"text-align: right;\">0</td><td style = \"text-align: right;\">0</td><td style = \"text-align: right;\">0</td><td style = \"text-align: right;\">0</td><td style = \"text-align: right;\">0</td><td style = \"text-align: right;\">0</td><td style = \"text-align: right;\">0</td><td style = \"text-align: right;\">0</td><td style = \"text-align: right;\">0</td><td style = \"text-align: right;\">0</td><td style = \"text-align: right;\">0</td><td style = \"text-align: right;\">0</td><td style = \"text-align: right;\">0</td><td style = \"text-align: right;\">0</td><td style = \"text-align: right;\">0</td><td style = \"text-align: right;\">0</td><td style = \"text-align: right;\">0</td><td style = \"text-align: right;\">0</td><td style = \"text-align: right;\">0</td><td style = \"text-align: right;\">0</td><td style = \"text-align: right;\">0</td><td style = \"text-align: right;\">0</td><td style = \"text-align: right;\">0</td><td style = \"text-align: right;\">0</td><td style = \"text-align: right;\">0</td><td style = \"text-align: right;\">&ctdot;</td></tr><tr><td class = \"rowNumber\" style = \"font-weight: bold; text-align: right;\">6486</td><td style = \"text-align: left;\">H</td><td style = \"text-align: right;\">1356367</td><td style = \"text-align: right;\">8</td><td style = \"text-align: right;\">600</td><td style = \"text-align: right;\">4</td><td style = \"text-align: right;\">16</td><td style = \"text-align: right;\">1015675</td><td style = \"text-align: right;\">257</td><td style = \"text-align: right;\">1</td><td style = \"text-align: right;\">1</td><td style = \"text-align: right;\">1</td><td style = \"font-style: italic; text-align: right;\">missing</td><td style = \"text-align: right;\">1</td><td style = \"text-align: right;\">1</td><td style = \"text-align: right;\">2</td><td style = \"font-style: italic; text-align: right;\">missing</td><td style = \"text-align: right;\">30</td><td style = \"text-align: right;\">0</td><td style = \"text-align: right;\">2</td><td style = \"text-align: right;\">10</td><td style = \"text-align: right;\">1</td><td style = \"font-style: italic; text-align: right;\">missing</td><td style = \"text-align: right;\">1</td><td style = \"font-style: italic; text-align: right;\">missing</td><td style = \"font-style: italic; text-align: right;\">missing</td><td style = \"font-style: italic; text-align: right;\">missing</td><td style = \"font-style: italic; text-align: right;\">missing</td><td style = \"font-style: italic; text-align: right;\">missing</td><td style = \"text-align: right;\">1</td><td style = \"text-align: right;\">3</td><td style = \"text-align: right;\">2</td><td style = \"text-align: right;\">440</td><td style = \"font-style: italic; text-align: right;\">missing</td><td style = \"text-align: right;\">1</td><td style = \"text-align: right;\">3</td><td style = \"font-style: italic; text-align: right;\">missing</td><td style = \"font-style: italic; text-align: right;\">missing</td><td style = \"text-align: right;\">1</td><td style = \"text-align: right;\">1</td><td style = \"text-align: right;\">2</td><td style = \"font-style: italic; text-align: right;\">missing</td><td style = \"font-style: italic; text-align: right;\">missing</td><td style = \"font-style: italic; text-align: right;\">missing</td><td style = \"text-align: right;\">480</td><td style = \"text-align: right;\">32</td><td style = \"text-align: right;\">1</td><td style = \"text-align: right;\">4</td><td style = \"text-align: right;\">18000</td><td style = \"text-align: right;\">0</td><td style = \"text-align: right;\">4</td><td style = \"text-align: right;\">4</td><td style = \"text-align: right;\">4</td><td style = \"text-align: right;\">1</td><td style = \"text-align: right;\">1</td><td style = \"text-align: right;\">0</td><td style = \"font-style: italic; text-align: right;\">missing</td><td style = \"text-align: right;\">0</td><td style = \"text-align: right;\">0</td><td style = \"text-align: right;\">0</td><td style = \"font-style: italic; text-align: right;\">missing</td><td style = \"text-align: right;\">0</td><td style = \"text-align: right;\">0</td><td style = \"text-align: right;\">0</td><td style = \"text-align: right;\">0</td><td style = \"text-align: right;\">0</td><td style = \"text-align: right;\">2</td><td style = \"font-style: italic; text-align: right;\">missing</td><td style = \"font-style: italic; text-align: right;\">missing</td><td style = \"text-align: right;\">1</td><td style = \"text-align: right;\">0</td><td style = \"font-style: italic; text-align: right;\">missing</td><td style = \"font-style: italic; text-align: right;\">missing</td><td style = \"font-style: italic; text-align: right;\">missing</td><td style = \"font-style: italic; text-align: right;\">missing</td><td style = \"text-align: right;\">0</td><td style = \"text-align: right;\">0</td><td style = \"text-align: right;\">0</td><td style = \"text-align: right;\">0</td><td style = \"text-align: right;\">0</td><td style = \"text-align: right;\">0</td><td style = \"text-align: right;\">0</td><td style = \"text-align: right;\">0</td><td style = \"text-align: right;\">0</td><td style = \"text-align: right;\">0</td><td style = \"text-align: right;\">0</td><td style = \"text-align: right;\">0</td><td style = \"text-align: right;\">0</td><td style = \"text-align: right;\">0</td><td style = \"text-align: right;\">0</td><td style = \"text-align: right;\">0</td><td style = \"text-align: right;\">0</td><td style = \"text-align: right;\">0</td><td style = \"text-align: right;\">0</td><td style = \"text-align: right;\">0</td><td style = \"text-align: right;\">0</td><td style = \"text-align: right;\">0</td><td style = \"text-align: right;\">0</td><td style = \"text-align: right;\">0</td><td style = \"text-align: right;\">0</td><td style = \"text-align: right;\">0</td><td style = \"text-align: right;\">&ctdot;</td></tr><tr><td class = \"rowNumber\" style = \"font-weight: bold; text-align: right;\">6487</td><td style = \"text-align: left;\">H</td><td style = \"text-align: right;\">1356413</td><td style = \"text-align: right;\">8</td><td style = \"text-align: right;\">800</td><td style = \"text-align: right;\">4</td><td style = \"text-align: right;\">16</td><td style = \"text-align: right;\">1015675</td><td style = \"text-align: right;\">44</td><td style = \"text-align: right;\">3</td><td style = \"text-align: right;\">1</td><td style = \"text-align: right;\">1</td><td style = \"font-style: italic; text-align: right;\">missing</td><td style = \"text-align: right;\">3</td><td style = \"text-align: right;\">1</td><td style = \"text-align: right;\">2</td><td style = \"font-style: italic; text-align: right;\">missing</td><td style = \"text-align: right;\">1</td><td style = \"text-align: right;\">0</td><td style = \"text-align: right;\">2</td><td style = \"text-align: right;\">1</td><td style = \"text-align: right;\">3</td><td style = \"font-style: italic; text-align: right;\">missing</td><td style = \"text-align: right;\">1</td><td style = \"font-style: italic; text-align: right;\">missing</td><td style = \"font-style: italic; text-align: right;\">missing</td><td style = \"font-style: italic; text-align: right;\">missing</td><td style = \"font-style: italic; text-align: right;\">missing</td><td style = \"font-style: italic; text-align: right;\">missing</td><td style = \"text-align: right;\">1</td><td style = \"text-align: right;\">5</td><td style = \"font-style: italic; text-align: right;\">missing</td><td style = \"font-style: italic; text-align: right;\">missing</td><td style = \"font-style: italic; text-align: right;\">missing</td><td style = \"text-align: right;\">1</td><td style = \"text-align: right;\">4</td><td style = \"font-style: italic; text-align: right;\">missing</td><td style = \"font-style: italic; text-align: right;\">missing</td><td style = \"text-align: right;\">2</td><td style = \"text-align: right;\">1</td><td style = \"text-align: right;\">4</td><td style = \"text-align: right;\">1</td><td style = \"text-align: right;\">34800</td><td style = \"text-align: right;\">2</td><td style = \"font-style: italic; text-align: right;\">missing</td><td style = \"font-style: italic; text-align: right;\">missing</td><td style = \"text-align: right;\">1</td><td style = \"text-align: right;\">1</td><td style = \"text-align: right;\">34800</td><td style = \"text-align: right;\">0</td><td style = \"text-align: right;\">2</td><td style = \"text-align: right;\">2</td><td style = \"text-align: right;\">2</td><td style = \"text-align: right;\">1</td><td style = \"text-align: right;\">3</td><td style = \"text-align: right;\">1</td><td style = \"text-align: right;\">3</td><td style = \"text-align: right;\">0</td><td style = \"text-align: right;\">0</td><td style = \"text-align: right;\">1</td><td style = \"font-style: italic; text-align: right;\">missing</td><td style = \"text-align: right;\">0</td><td style = \"text-align: right;\">0</td><td style = \"text-align: right;\">1</td><td style = \"text-align: right;\">0</td><td style = \"text-align: right;\">0</td><td style = \"text-align: right;\">1</td><td style = \"font-style: italic; text-align: right;\">missing</td><td style = \"font-style: italic; text-align: right;\">missing</td><td style = \"text-align: right;\">1</td><td style = \"text-align: right;\">0</td><td style = \"font-style: italic; text-align: right;\">missing</td><td style = \"text-align: right;\">2</td><td style = \"text-align: right;\">5</td><td style = \"text-align: right;\">1</td><td style = \"text-align: right;\">0</td><td style = \"text-align: right;\">0</td><td style = \"text-align: right;\">0</td><td style = \"text-align: right;\">0</td><td style = \"text-align: right;\">0</td><td style = \"text-align: right;\">0</td><td style = \"text-align: right;\">0</td><td style = \"text-align: right;\">0</td><td style = \"text-align: right;\">0</td><td style = \"text-align: right;\">0</td><td style = \"text-align: right;\">0</td><td style = \"text-align: right;\">0</td><td style = \"text-align: right;\">0</td><td style = \"text-align: right;\">0</td><td style = \"text-align: right;\">0</td><td style = \"text-align: right;\">0</td><td style = \"text-align: right;\">0</td><td style = \"text-align: right;\">0</td><td style = \"text-align: right;\">0</td><td style = \"text-align: right;\">0</td><td style = \"text-align: right;\">1</td><td style = \"text-align: right;\">0</td><td style = \"text-align: right;\">0</td><td style = \"text-align: right;\">0</td><td style = \"text-align: right;\">0</td><td style = \"text-align: right;\">0</td><td style = \"text-align: right;\">&ctdot;</td></tr><tr><td class = \"rowNumber\" style = \"font-weight: bold; text-align: right;\">6488</td><td style = \"text-align: left;\">H</td><td style = \"text-align: right;\">1356517</td><td style = \"text-align: right;\">8</td><td style = \"text-align: right;\">200</td><td style = \"text-align: right;\">4</td><td style = \"text-align: right;\">16</td><td style = \"text-align: right;\">1015675</td><td style = \"text-align: right;\">0</td><td style = \"text-align: right;\">1</td><td style = \"text-align: right;\">2</td><td style = \"font-style: italic; text-align: right;\">missing</td><td style = \"font-style: italic; text-align: right;\">missing</td><td style = \"font-style: italic; text-align: right;\">missing</td><td style = \"font-style: italic; text-align: right;\">missing</td><td style = \"font-style: italic; text-align: right;\">missing</td><td style = \"font-style: italic; text-align: right;\">missing</td><td style = \"font-style: italic; text-align: right;\">missing</td><td style = \"text-align: right;\">0</td><td style = \"font-style: italic; text-align: right;\">missing</td><td style = \"font-style: italic; text-align: right;\">missing</td><td style = \"font-style: italic; text-align: right;\">missing</td><td style = \"font-style: italic; text-align: right;\">missing</td><td style = \"font-style: italic; text-align: right;\">missing</td><td style = \"font-style: italic; text-align: right;\">missing</td><td style = \"font-style: italic; text-align: right;\">missing</td><td style = \"font-style: italic; text-align: right;\">missing</td><td style = \"font-style: italic; text-align: right;\">missing</td><td style = \"font-style: italic; text-align: right;\">missing</td><td style = \"font-style: italic; text-align: right;\">missing</td><td style = \"font-style: italic; text-align: right;\">missing</td><td style = \"font-style: italic; text-align: right;\">missing</td><td style = \"font-style: italic; text-align: right;\">missing</td><td style = \"font-style: italic; text-align: right;\">missing</td><td style = \"font-style: italic; text-align: right;\">missing</td><td style = \"font-style: italic; text-align: right;\">missing</td><td style = \"font-style: italic; text-align: right;\">missing</td><td style = \"font-style: italic; text-align: right;\">missing</td><td style = \"font-style: italic; text-align: right;\">missing</td><td style = \"font-style: italic; text-align: right;\">missing</td><td style = \"font-style: italic; text-align: right;\">missing</td><td style = \"font-style: italic; text-align: right;\">missing</td><td style = \"font-style: italic; text-align: right;\">missing</td><td style = \"font-style: italic; text-align: right;\">missing</td><td style = \"font-style: italic; text-align: right;\">missing</td><td style = \"font-style: italic; text-align: right;\">missing</td><td style = \"font-style: italic; text-align: right;\">missing</td><td style = \"font-style: italic; text-align: right;\">missing</td><td style = \"font-style: italic; text-align: right;\">missing</td><td style = \"font-style: italic; text-align: right;\">missing</td><td style = \"font-style: italic; text-align: right;\">missing</td><td style = \"font-style: italic; text-align: right;\">missing</td><td style = \"font-style: italic; text-align: right;\">missing</td><td style = \"font-style: italic; text-align: right;\">missing</td><td style = \"text-align: right;\">5</td><td style = \"font-style: italic; text-align: right;\">missing</td><td style = \"font-style: italic; text-align: right;\">missing</td><td style = \"font-style: italic; text-align: right;\">missing</td><td style = \"font-style: italic; text-align: right;\">missing</td><td style = \"font-style: italic; text-align: right;\">missing</td><td style = \"font-style: italic; text-align: right;\">missing</td><td style = \"font-style: italic; text-align: right;\">missing</td><td style = \"font-style: italic; text-align: right;\">missing</td><td style = \"font-style: italic; text-align: right;\">missing</td><td style = \"font-style: italic; text-align: right;\">missing</td><td style = \"font-style: italic; text-align: right;\">missing</td><td style = \"font-style: italic; text-align: right;\">missing</td><td style = \"font-style: italic; text-align: right;\">missing</td><td style = \"font-style: italic; text-align: right;\">missing</td><td style = \"font-style: italic; text-align: right;\">missing</td><td style = \"font-style: italic; text-align: right;\">missing</td><td style = \"font-style: italic; text-align: right;\">missing</td><td style = \"font-style: italic; text-align: right;\">missing</td><td style = \"font-style: italic; text-align: right;\">missing</td><td style = \"font-style: italic; text-align: right;\">missing</td><td style = \"font-style: italic; text-align: right;\">missing</td><td style = \"font-style: italic; text-align: right;\">missing</td><td style = \"font-style: italic; text-align: right;\">missing</td><td style = \"font-style: italic; text-align: right;\">missing</td><td style = \"font-style: italic; text-align: right;\">missing</td><td style = \"font-style: italic; text-align: right;\">missing</td><td style = \"font-style: italic; text-align: right;\">missing</td><td style = \"text-align: right;\">0</td><td style = \"font-style: italic; text-align: right;\">missing</td><td style = \"font-style: italic; text-align: right;\">missing</td><td style = \"font-style: italic; text-align: right;\">missing</td><td style = \"font-style: italic; text-align: right;\">missing</td><td style = \"font-style: italic; text-align: right;\">missing</td><td style = \"font-style: italic; text-align: right;\">missing</td><td style = \"font-style: italic; text-align: right;\">missing</td><td style = \"font-style: italic; text-align: right;\">missing</td><td style = \"font-style: italic; text-align: right;\">missing</td><td style = \"font-style: italic; text-align: right;\">missing</td><td style = \"font-style: italic; text-align: right;\">missing</td><td style = \"font-style: italic; text-align: right;\">missing</td><td style = \"font-style: italic; text-align: right;\">missing</td><td style = \"font-style: italic; text-align: right;\">missing</td><td style = \"font-style: italic; text-align: right;\">missing</td><td style = \"font-style: italic; text-align: right;\">missing</td><td style = \"font-style: italic; text-align: right;\">missing</td><td style = \"font-style: italic; text-align: right;\">missing</td><td style = \"text-align: right;\">&ctdot;</td></tr><tr><td class = \"rowNumber\" style = \"font-weight: bold; text-align: right;\">6489</td><td style = \"text-align: left;\">H</td><td style = \"text-align: right;\">1356950</td><td style = \"text-align: right;\">8</td><td style = \"text-align: right;\">500</td><td style = \"text-align: right;\">4</td><td style = \"text-align: right;\">16</td><td style = \"text-align: right;\">1015675</td><td style = \"text-align: right;\">71</td><td style = \"text-align: right;\">3</td><td style = \"text-align: right;\">1</td><td style = \"text-align: right;\">1</td><td style = \"font-style: italic; text-align: right;\">missing</td><td style = \"text-align: right;\">3</td><td style = \"text-align: right;\">2</td><td style = \"text-align: right;\">2</td><td style = \"font-style: italic; text-align: right;\">missing</td><td style = \"text-align: right;\">130</td><td style = \"text-align: right;\">0</td><td style = \"text-align: right;\">2</td><td style = \"text-align: right;\">20</td><td style = \"text-align: right;\">1</td><td style = \"text-align: right;\">1200</td><td style = \"text-align: right;\">1</td><td style = \"font-style: italic; text-align: right;\">missing</td><td style = \"text-align: right;\">2</td><td style = \"text-align: right;\">1000</td><td style = \"text-align: right;\">2</td><td style = \"text-align: right;\">1</td><td style = \"text-align: right;\">1</td><td style = \"text-align: right;\">5</td><td style = \"font-style: italic; text-align: right;\">missing</td><td style = \"font-style: italic; text-align: right;\">missing</td><td style = \"font-style: italic; text-align: right;\">missing</td><td style = \"text-align: right;\">1</td><td style = \"text-align: right;\">1</td><td style = \"font-style: italic; text-align: right;\">missing</td><td style = \"text-align: right;\">15</td><td style = \"text-align: right;\">2</td><td style = \"text-align: right;\">50</td><td style = \"text-align: right;\">8</td><td style = \"text-align: right;\">1</td><td style = \"text-align: right;\">64000</td><td style = \"text-align: right;\">2</td><td style = \"font-style: italic; text-align: right;\">missing</td><td style = \"font-style: italic; text-align: right;\">missing</td><td style = \"text-align: right;\">1</td><td style = \"text-align: right;\">1</td><td style = \"text-align: right;\">64000</td><td style = \"text-align: right;\">0</td><td style = \"text-align: right;\">2</td><td style = \"text-align: right;\">2</td><td style = \"text-align: right;\">2</td><td style = \"text-align: right;\">1</td><td style = \"text-align: right;\">5</td><td style = \"text-align: right;\">1</td><td style = \"text-align: right;\">3</td><td style = \"text-align: right;\">0</td><td style = \"text-align: right;\">0</td><td style = \"text-align: right;\">1</td><td style = \"text-align: right;\">25</td><td style = \"text-align: right;\">0</td><td style = \"text-align: right;\">0</td><td style = \"text-align: right;\">1</td><td style = \"text-align: right;\">0</td><td style = \"text-align: right;\">0</td><td style = \"text-align: right;\">1</td><td style = \"text-align: right;\">1337</td><td style = \"text-align: right;\">3</td><td style = \"text-align: right;\">0</td><td style = \"text-align: right;\">1</td><td style = \"text-align: right;\">22</td><td style = \"text-align: right;\">2</td><td style = \"text-align: right;\">4</td><td style = \"text-align: right;\">1</td><td style = \"text-align: right;\">0</td><td style = \"text-align: right;\">0</td><td style = \"text-align: right;\">0</td><td style = \"text-align: right;\">0</td><td style = \"text-align: right;\">0</td><td style = \"text-align: right;\">0</td><td style = \"text-align: right;\">0</td><td style = \"text-align: right;\">0</td><td style = \"text-align: right;\">0</td><td style = \"text-align: right;\">0</td><td style = \"text-align: right;\">0</td><td style = \"text-align: right;\">0</td><td style = \"text-align: right;\">0</td><td style = \"text-align: right;\">0</td><td style = \"text-align: right;\">0</td><td style = \"text-align: right;\">0</td><td style = \"text-align: right;\">0</td><td style = \"text-align: right;\">0</td><td style = \"text-align: right;\">0</td><td style = \"text-align: right;\">0</td><td style = \"text-align: right;\">0</td><td style = \"text-align: right;\">0</td><td style = \"text-align: right;\">0</td><td style = \"text-align: right;\">0</td><td style = \"text-align: right;\">0</td><td style = \"text-align: right;\">0</td><td style = \"text-align: right;\">&ctdot;</td></tr><tr><td class = \"rowNumber\" style = \"font-weight: bold; text-align: right;\">6490</td><td style = \"text-align: left;\">H</td><td style = \"text-align: right;\">1357182</td><td style = \"text-align: right;\">8</td><td style = \"text-align: right;\">700</td><td style = \"text-align: right;\">4</td><td style = \"text-align: right;\">16</td><td style = \"text-align: right;\">1015675</td><td style = \"text-align: right;\">23</td><td style = \"text-align: right;\">2</td><td style = \"text-align: right;\">1</td><td style = \"text-align: right;\">1</td><td style = \"font-style: italic; text-align: right;\">missing</td><td style = \"text-align: right;\">4</td><td style = \"text-align: right;\">2</td><td style = \"text-align: right;\">2</td><td style = \"font-style: italic; text-align: right;\">missing</td><td style = \"text-align: right;\">50</td><td style = \"text-align: right;\">0</td><td style = \"text-align: right;\">2</td><td style = \"text-align: right;\">140</td><td style = \"text-align: right;\">1</td><td style = \"text-align: right;\">320</td><td style = \"text-align: right;\">1</td><td style = \"font-style: italic; text-align: right;\">missing</td><td style = \"text-align: right;\">1</td><td style = \"text-align: right;\">820</td><td style = \"text-align: right;\">1</td><td style = \"text-align: right;\">1</td><td style = \"text-align: right;\">1</td><td style = \"text-align: right;\">6</td><td style = \"font-style: italic; text-align: right;\">missing</td><td style = \"font-style: italic; text-align: right;\">missing</td><td style = \"text-align: right;\">70</td><td style = \"text-align: right;\">1</td><td style = \"text-align: right;\">1</td><td style = \"font-style: italic; text-align: right;\">missing</td><td style = \"text-align: right;\">16</td><td style = \"text-align: right;\">1</td><td style = \"text-align: right;\">560</td><td style = \"text-align: right;\">2</td><td style = \"text-align: right;\">6</td><td style = \"text-align: right;\">400</td><td style = \"text-align: right;\">1</td><td style = \"font-style: italic; text-align: right;\">missing</td><td style = \"font-style: italic; text-align: right;\">missing</td><td style = \"text-align: right;\">1</td><td style = \"text-align: right;\">2</td><td style = \"text-align: right;\">400</td><td style = \"text-align: right;\">0</td><td style = \"text-align: right;\">1</td><td style = \"text-align: right;\">1</td><td style = \"text-align: right;\">1</td><td style = \"text-align: right;\">1</td><td style = \"text-align: right;\">3</td><td style = \"text-align: right;\">1</td><td style = \"text-align: right;\">2</td><td style = \"text-align: right;\">0</td><td style = \"text-align: right;\">0</td><td style = \"text-align: right;\">1</td><td style = \"text-align: right;\">101</td><td style = \"text-align: right;\">0</td><td style = \"text-align: right;\">0</td><td style = \"text-align: right;\">1</td><td style = \"text-align: right;\">0</td><td style = \"text-align: right;\">0</td><td style = \"text-align: right;\">1</td><td style = \"text-align: right;\">1127</td><td style = \"text-align: right;\">2</td><td style = \"text-align: right;\">0</td><td style = \"text-align: right;\">1</td><td style = \"text-align: right;\">30</td><td style = \"text-align: right;\">1</td><td style = \"text-align: right;\">11</td><td style = \"text-align: right;\">12</td><td style = \"text-align: right;\">0</td><td style = \"text-align: right;\">0</td><td style = \"text-align: right;\">0</td><td style = \"text-align: right;\">0</td><td style = \"text-align: right;\">0</td><td style = \"text-align: right;\">0</td><td style = \"text-align: right;\">0</td><td style = \"text-align: right;\">0</td><td style = \"text-align: right;\">0</td><td style = \"text-align: right;\">0</td><td style = \"text-align: right;\">0</td><td style = \"text-align: right;\">0</td><td style = \"text-align: right;\">0</td><td style = \"text-align: right;\">0</td><td style = \"text-align: right;\">0</td><td style = \"text-align: right;\">0</td><td style = \"text-align: right;\">0</td><td style = \"text-align: right;\">0</td><td style = \"text-align: right;\">0</td><td style = \"text-align: right;\">0</td><td style = \"text-align: right;\">0</td><td style = \"text-align: right;\">0</td><td style = \"text-align: right;\">0</td><td style = \"text-align: right;\">0</td><td style = \"text-align: right;\">0</td><td style = \"text-align: right;\">0</td><td style = \"text-align: right;\">&ctdot;</td></tr><tr><td class = \"rowNumber\" style = \"font-weight: bold; text-align: right;\">6491</td><td style = \"text-align: left;\">H</td><td style = \"text-align: right;\">1357195</td><td style = \"text-align: right;\">8</td><td style = \"text-align: right;\">300</td><td style = \"text-align: right;\">4</td><td style = \"text-align: right;\">16</td><td style = \"text-align: right;\">1015675</td><td style = \"text-align: right;\">19</td><td style = \"text-align: right;\">0</td><td style = \"text-align: right;\">1</td><td style = \"text-align: right;\">1</td><td style = \"font-style: italic; text-align: right;\">missing</td><td style = \"text-align: right;\">2</td><td style = \"text-align: right;\">1</td><td style = \"text-align: right;\">2</td><td style = \"font-style: italic; text-align: right;\">missing</td><td style = \"font-style: italic; text-align: right;\">missing</td><td style = \"font-style: italic; text-align: right;\">missing</td><td style = \"font-style: italic; text-align: right;\">missing</td><td style = \"font-style: italic; text-align: right;\">missing</td><td style = \"font-style: italic; text-align: right;\">missing</td><td style = \"font-style: italic; text-align: right;\">missing</td><td style = \"text-align: right;\">1</td><td style = \"font-style: italic; text-align: right;\">missing</td><td style = \"font-style: italic; text-align: right;\">missing</td><td style = \"font-style: italic; text-align: right;\">missing</td><td style = \"font-style: italic; text-align: right;\">missing</td><td style = \"font-style: italic; text-align: right;\">missing</td><td style = \"text-align: right;\">1</td><td style = \"text-align: right;\">4</td><td style = \"text-align: right;\">2</td><td style = \"text-align: right;\">650</td><td style = \"font-style: italic; text-align: right;\">missing</td><td style = \"font-style: italic; text-align: right;\">missing</td><td style = \"font-style: italic; text-align: right;\">missing</td><td style = \"text-align: right;\">2</td><td style = \"font-style: italic; text-align: right;\">missing</td><td style = \"font-style: italic; text-align: right;\">missing</td><td style = \"font-style: italic; text-align: right;\">missing</td><td style = \"text-align: right;\">3</td><td style = \"font-style: italic; text-align: right;\">missing</td><td style = \"font-style: italic; text-align: right;\">missing</td><td style = \"font-style: italic; text-align: right;\">missing</td><td style = \"font-style: italic; text-align: right;\">missing</td><td style = \"font-style: italic; text-align: right;\">missing</td><td style = \"font-style: italic; text-align: right;\">missing</td><td style = \"font-style: italic; text-align: right;\">missing</td><td style = \"font-style: italic; text-align: right;\">missing</td><td style = \"font-style: italic; text-align: right;\">missing</td><td style = \"font-style: italic; text-align: right;\">missing</td><td style = \"font-style: italic; text-align: right;\">missing</td><td style = \"font-style: italic; text-align: right;\">missing</td><td style = \"font-style: italic; text-align: right;\">missing</td><td style = \"font-style: italic; text-align: right;\">missing</td><td style = \"font-style: italic; text-align: right;\">missing</td><td style = \"font-style: italic; text-align: right;\">missing</td><td style = \"font-style: italic; text-align: right;\">missing</td><td style = \"font-style: italic; text-align: right;\">missing</td><td style = \"font-style: italic; text-align: right;\">missing</td><td style = \"font-style: italic; text-align: right;\">missing</td><td style = \"font-style: italic; text-align: right;\">missing</td><td style = \"font-style: italic; text-align: right;\">missing</td><td style = \"font-style: italic; text-align: right;\">missing</td><td style = \"font-style: italic; text-align: right;\">missing</td><td style = \"font-style: italic; text-align: right;\">missing</td><td style = \"text-align: right;\">2</td><td style = \"font-style: italic; text-align: right;\">missing</td><td style = \"font-style: italic; text-align: right;\">missing</td><td style = \"text-align: right;\">1</td><td style = \"text-align: right;\">0</td><td style = \"font-style: italic; text-align: right;\">missing</td><td style = \"font-style: italic; text-align: right;\">missing</td><td style = \"font-style: italic; text-align: right;\">missing</td><td style = \"font-style: italic; text-align: right;\">missing</td><td style = \"text-align: right;\">0</td><td style = \"text-align: right;\">0</td><td style = \"text-align: right;\">0</td><td style = \"text-align: right;\">0</td><td style = \"text-align: right;\">0</td><td style = \"text-align: right;\">0</td><td style = \"text-align: right;\">0</td><td style = \"text-align: right;\">0</td><td style = \"text-align: right;\">0</td><td style = \"text-align: right;\">0</td><td style = \"text-align: right;\">0</td><td style = \"text-align: right;\">0</td><td style = \"text-align: right;\">0</td><td style = \"text-align: right;\">0</td><td style = \"text-align: right;\">0</td><td style = \"text-align: right;\">0</td><td style = \"text-align: right;\">0</td><td style = \"text-align: right;\">0</td><td style = \"text-align: right;\">0</td><td style = \"text-align: right;\">0</td><td style = \"text-align: right;\">0</td><td style = \"text-align: right;\">0</td><td style = \"text-align: right;\">0</td><td style = \"text-align: right;\">0</td><td style = \"text-align: right;\">0</td><td style = \"text-align: right;\">0</td><td style = \"text-align: right;\">&ctdot;</td></tr><tr><td class = \"rowNumber\" style = \"font-weight: bold; text-align: right;\">6492</td><td style = \"text-align: left;\">H</td><td style = \"text-align: right;\">1357238</td><td style = \"text-align: right;\">8</td><td style = \"text-align: right;\">300</td><td style = \"text-align: right;\">4</td><td style = \"text-align: right;\">16</td><td style = \"text-align: right;\">1015675</td><td style = \"text-align: right;\">108</td><td style = \"text-align: right;\">2</td><td style = \"text-align: right;\">1</td><td style = \"font-style: italic; text-align: right;\">missing</td><td style = \"font-style: italic; text-align: right;\">missing</td><td style = \"text-align: right;\">2</td><td style = \"text-align: right;\">5</td><td style = \"font-style: italic; text-align: right;\">missing</td><td style = \"font-style: italic; text-align: right;\">missing</td><td style = \"text-align: right;\">40</td><td style = \"text-align: right;\">0</td><td style = \"text-align: right;\">1</td><td style = \"text-align: right;\">3</td><td style = \"text-align: right;\">3</td><td style = \"font-style: italic; text-align: right;\">missing</td><td style = \"text-align: right;\">1</td><td style = \"font-style: italic; text-align: right;\">missing</td><td style = \"font-style: italic; text-align: right;\">missing</td><td style = \"font-style: italic; text-align: right;\">missing</td><td style = \"font-style: italic; text-align: right;\">missing</td><td style = \"font-style: italic; text-align: right;\">missing</td><td style = \"text-align: right;\">1</td><td style = \"text-align: right;\">3</td><td style = \"text-align: right;\">2</td><td style = \"text-align: right;\">480</td><td style = \"font-style: italic; text-align: right;\">missing</td><td style = \"text-align: right;\">2</td><td style = \"text-align: right;\">3</td><td style = \"font-style: italic; text-align: right;\">missing</td><td style = \"font-style: italic; text-align: right;\">missing</td><td style = \"text-align: right;\">1</td><td style = \"text-align: right;\">1</td><td style = \"text-align: right;\">2</td><td style = \"text-align: right;\">2</td><td style = \"text-align: right;\">-2600</td><td style = \"text-align: right;\">4</td><td style = \"text-align: right;\">520</td><td style = \"font-style: italic; text-align: right;\">missing</td><td style = \"text-align: right;\">1</td><td style = \"text-align: right;\">1</td><td style = \"text-align: right;\">-2600</td><td style = \"text-align: right;\">0</td><td style = \"text-align: right;\">4</td><td style = \"text-align: right;\">4</td><td style = \"text-align: right;\">4</td><td style = \"text-align: right;\">1</td><td style = \"text-align: right;\">1</td><td style = \"text-align: right;\">0</td><td style = \"text-align: right;\">2</td><td style = \"text-align: right;\">0</td><td style = \"text-align: right;\">0</td><td style = \"text-align: right;\">0</td><td style = \"font-style: italic; text-align: right;\">missing</td><td style = \"text-align: right;\">0</td><td style = \"text-align: right;\">0</td><td style = \"text-align: right;\">0</td><td style = \"text-align: right;\">0</td><td style = \"text-align: right;\">0</td><td style = \"text-align: right;\">1</td><td style = \"font-style: italic; text-align: right;\">missing</td><td style = \"font-style: italic; text-align: right;\">missing</td><td style = \"text-align: right;\">1</td><td style = \"text-align: right;\">0</td><td style = \"font-style: italic; text-align: right;\">missing</td><td style = \"text-align: right;\">1</td><td style = \"text-align: right;\">6</td><td style = \"text-align: right;\">3</td><td style = \"text-align: right;\">0</td><td style = \"text-align: right;\">0</td><td style = \"text-align: right;\">0</td><td style = \"text-align: right;\">0</td><td style = \"text-align: right;\">0</td><td style = \"text-align: right;\">0</td><td style = \"text-align: right;\">0</td><td style = \"text-align: right;\">0</td><td style = \"text-align: right;\">0</td><td style = \"text-align: right;\">0</td><td style = \"text-align: right;\">0</td><td style = \"text-align: right;\">0</td><td style = \"text-align: right;\">0</td><td style = \"text-align: right;\">0</td><td style = \"text-align: right;\">0</td><td style = \"text-align: right;\">0</td><td style = \"text-align: right;\">0</td><td style = \"text-align: right;\">0</td><td style = \"text-align: right;\">0</td><td style = \"text-align: right;\">0</td><td style = \"text-align: right;\">0</td><td style = \"text-align: right;\">0</td><td style = \"text-align: right;\">0</td><td style = \"text-align: right;\">0</td><td style = \"text-align: right;\">0</td><td style = \"text-align: right;\">0</td><td style = \"text-align: right;\">&ctdot;</td></tr><tr><td class = \"rowNumber\" style = \"font-weight: bold; text-align: right;\">6493</td><td style = \"text-align: left;\">H</td><td style = \"text-align: right;\">1357340</td><td style = \"text-align: right;\">8</td><td style = \"text-align: right;\">400</td><td style = \"text-align: right;\">4</td><td style = \"text-align: right;\">16</td><td style = \"text-align: right;\">1015675</td><td style = \"text-align: right;\">58</td><td style = \"text-align: right;\">2</td><td style = \"text-align: right;\">1</td><td style = \"text-align: right;\">1</td><td style = \"font-style: italic; text-align: right;\">missing</td><td style = \"text-align: right;\">3</td><td style = \"text-align: right;\">2</td><td style = \"text-align: right;\">2</td><td style = \"font-style: italic; text-align: right;\">missing</td><td style = \"text-align: right;\">30</td><td style = \"text-align: right;\">0</td><td style = \"text-align: right;\">2</td><td style = \"text-align: right;\">70</td><td style = \"text-align: right;\">1</td><td style = \"text-align: right;\">260</td><td style = \"text-align: right;\">1</td><td style = \"font-style: italic; text-align: right;\">missing</td><td style = \"font-style: italic; text-align: right;\">missing</td><td style = \"font-style: italic; text-align: right;\">missing</td><td style = \"font-style: italic; text-align: right;\">missing</td><td style = \"text-align: right;\">3</td><td style = \"text-align: right;\">1</td><td style = \"text-align: right;\">6</td><td style = \"font-style: italic; text-align: right;\">missing</td><td style = \"font-style: italic; text-align: right;\">missing</td><td style = \"font-style: italic; text-align: right;\">missing</td><td style = \"text-align: right;\">1</td><td style = \"text-align: right;\">2</td><td style = \"font-style: italic; text-align: right;\">missing</td><td style = \"text-align: right;\">16</td><td style = \"text-align: right;\">1</td><td style = \"text-align: right;\">400</td><td style = \"text-align: right;\">3</td><td style = \"text-align: right;\">4</td><td style = \"text-align: right;\">53200</td><td style = \"text-align: right;\">4</td><td style = \"font-style: italic; text-align: right;\">missing</td><td style = \"font-style: italic; text-align: right;\">missing</td><td style = \"text-align: right;\">1</td><td style = \"text-align: right;\">1</td><td style = \"text-align: right;\">53200</td><td style = \"text-align: right;\">0</td><td style = \"text-align: right;\">4</td><td style = \"text-align: right;\">4</td><td style = \"text-align: right;\">4</td><td style = \"text-align: right;\">1</td><td style = \"text-align: right;\">5</td><td style = \"text-align: right;\">0</td><td style = \"text-align: right;\">2</td><td style = \"text-align: right;\">0</td><td style = \"text-align: right;\">0</td><td style = \"text-align: right;\">0</td><td style = \"text-align: right;\">6</td><td style = \"text-align: right;\">0</td><td style = \"text-align: right;\">0</td><td style = \"text-align: right;\">0</td><td style = \"text-align: right;\">2</td><td style = \"text-align: right;\">2</td><td style = \"text-align: right;\">1</td><td style = \"text-align: right;\">273</td><td style = \"font-style: italic; text-align: right;\">missing</td><td style = \"text-align: right;\">0</td><td style = \"text-align: right;\">1</td><td style = \"text-align: right;\">26</td><td style = \"text-align: right;\">0</td><td style = \"text-align: right;\">9</td><td style = \"text-align: right;\">9</td><td style = \"text-align: right;\">0</td><td style = \"text-align: right;\">0</td><td style = \"text-align: right;\">0</td><td style = \"text-align: right;\">0</td><td style = \"text-align: right;\">0</td><td style = \"text-align: right;\">0</td><td style = \"text-align: right;\">0</td><td style = \"text-align: right;\">0</td><td style = \"text-align: right;\">0</td><td style = \"text-align: right;\">0</td><td style = \"text-align: right;\">0</td><td style = \"text-align: right;\">0</td><td style = \"text-align: right;\">0</td><td style = \"text-align: right;\">0</td><td style = \"text-align: right;\">0</td><td style = \"text-align: right;\">0</td><td style = \"text-align: right;\">0</td><td style = \"text-align: right;\">0</td><td style = \"text-align: right;\">0</td><td style = \"text-align: right;\">0</td><td style = \"text-align: right;\">0</td><td style = \"text-align: right;\">0</td><td style = \"text-align: right;\">0</td><td style = \"text-align: right;\">0</td><td style = \"text-align: right;\">0</td><td style = \"text-align: right;\">0</td><td style = \"text-align: right;\">&ctdot;</td></tr><tr><td class = \"rowNumber\" style = \"font-weight: bold; text-align: right;\">6494</td><td style = \"text-align: left;\">H</td><td style = \"text-align: right;\">1357874</td><td style = \"text-align: right;\">8</td><td style = \"text-align: right;\">900</td><td style = \"text-align: right;\">4</td><td style = \"text-align: right;\">16</td><td style = \"text-align: right;\">1015675</td><td style = \"text-align: right;\">32</td><td style = \"text-align: right;\">2</td><td style = \"text-align: right;\">1</td><td style = \"text-align: right;\">1</td><td style = \"font-style: italic; text-align: right;\">missing</td><td style = \"text-align: right;\">2</td><td style = \"text-align: right;\">2</td><td style = \"text-align: right;\">2</td><td style = \"font-style: italic; text-align: right;\">missing</td><td style = \"text-align: right;\">70</td><td style = \"text-align: right;\">0</td><td style = \"text-align: right;\">2</td><td style = \"text-align: right;\">120</td><td style = \"text-align: right;\">1</td><td style = \"text-align: right;\">420</td><td style = \"text-align: right;\">1</td><td style = \"font-style: italic; text-align: right;\">missing</td><td style = \"text-align: right;\">2</td><td style = \"text-align: right;\">400</td><td style = \"text-align: right;\">2</td><td style = \"text-align: right;\">1</td><td style = \"text-align: right;\">1</td><td style = \"text-align: right;\">4</td><td style = \"font-style: italic; text-align: right;\">missing</td><td style = \"font-style: italic; text-align: right;\">missing</td><td style = \"text-align: right;\">240</td><td style = \"text-align: right;\">1</td><td style = \"text-align: right;\">1</td><td style = \"font-style: italic; text-align: right;\">missing</td><td style = \"text-align: right;\">6</td><td style = \"text-align: right;\">2</td><td style = \"text-align: right;\">410</td><td style = \"text-align: right;\">9</td><td style = \"text-align: right;\">3</td><td style = \"text-align: right;\">18000</td><td style = \"text-align: right;\">4</td><td style = \"font-style: italic; text-align: right;\">missing</td><td style = \"font-style: italic; text-align: right;\">missing</td><td style = \"text-align: right;\">1</td><td style = \"text-align: right;\">1</td><td style = \"text-align: right;\">18000</td><td style = \"text-align: right;\">0</td><td style = \"text-align: right;\">4</td><td style = \"text-align: right;\">4</td><td style = \"text-align: right;\">4</td><td style = \"text-align: right;\">1</td><td style = \"text-align: right;\">4</td><td style = \"text-align: right;\">0</td><td style = \"text-align: right;\">2</td><td style = \"text-align: right;\">0</td><td style = \"text-align: right;\">0</td><td style = \"text-align: right;\">0</td><td style = \"text-align: right;\">63</td><td style = \"text-align: right;\">0</td><td style = \"text-align: right;\">0</td><td style = \"text-align: right;\">0</td><td style = \"text-align: right;\">2</td><td style = \"text-align: right;\">2</td><td style = \"text-align: right;\">1</td><td style = \"text-align: right;\">949</td><td style = \"text-align: right;\">2</td><td style = \"text-align: right;\">0</td><td style = \"text-align: right;\">1</td><td style = \"text-align: right;\">14</td><td style = \"text-align: right;\">1</td><td style = \"text-align: right;\">8</td><td style = \"text-align: right;\">7</td><td style = \"text-align: right;\">0</td><td style = \"text-align: right;\">0</td><td style = \"text-align: right;\">0</td><td style = \"text-align: right;\">0</td><td style = \"text-align: right;\">0</td><td style = \"text-align: right;\">0</td><td style = \"text-align: right;\">0</td><td style = \"text-align: right;\">0</td><td style = \"text-align: right;\">1</td><td style = \"text-align: right;\">0</td><td style = \"text-align: right;\">0</td><td style = \"text-align: right;\">0</td><td style = \"text-align: right;\">0</td><td style = \"text-align: right;\">0</td><td style = \"text-align: right;\">0</td><td style = \"text-align: right;\">0</td><td style = \"text-align: right;\">0</td><td style = \"text-align: right;\">0</td><td style = \"text-align: right;\">1</td><td style = \"text-align: right;\">0</td><td style = \"text-align: right;\">0</td><td style = \"text-align: right;\">0</td><td style = \"text-align: right;\">0</td><td style = \"text-align: right;\">1</td><td style = \"text-align: right;\">0</td><td style = \"text-align: right;\">0</td><td style = \"text-align: right;\">&ctdot;</td></tr><tr><td class = \"rowNumber\" style = \"font-weight: bold; text-align: right;\">6495</td><td style = \"text-align: left;\">H</td><td style = \"text-align: right;\">1357880</td><td style = \"text-align: right;\">8</td><td style = \"text-align: right;\">500</td><td style = \"text-align: right;\">4</td><td style = \"text-align: right;\">16</td><td style = \"text-align: right;\">1015675</td><td style = \"text-align: right;\">123</td><td style = \"text-align: right;\">2</td><td style = \"text-align: right;\">1</td><td style = \"text-align: right;\">2</td><td style = \"text-align: right;\">1</td><td style = \"text-align: right;\">1</td><td style = \"text-align: right;\">2</td><td style = \"text-align: right;\">2</td><td style = \"font-style: italic; text-align: right;\">missing</td><td style = \"text-align: right;\">140</td><td style = \"text-align: right;\">0</td><td style = \"text-align: right;\">2</td><td style = \"text-align: right;\">3</td><td style = \"text-align: right;\">3</td><td style = \"font-style: italic; text-align: right;\">missing</td><td style = \"text-align: right;\">1</td><td style = \"font-style: italic; text-align: right;\">missing</td><td style = \"font-style: italic; text-align: right;\">missing</td><td style = \"font-style: italic; text-align: right;\">missing</td><td style = \"font-style: italic; text-align: right;\">missing</td><td style = \"font-style: italic; text-align: right;\">missing</td><td style = \"text-align: right;\">1</td><td style = \"text-align: right;\">3</td><td style = \"text-align: right;\">2</td><td style = \"text-align: right;\">600</td><td style = \"font-style: italic; text-align: right;\">missing</td><td style = \"text-align: right;\">2</td><td style = \"text-align: right;\">3</td><td style = \"font-style: italic; text-align: right;\">missing</td><td style = \"font-style: italic; text-align: right;\">missing</td><td style = \"text-align: right;\">5</td><td style = \"text-align: right;\">1</td><td style = \"text-align: right;\">9</td><td style = \"text-align: right;\">1</td><td style = \"text-align: right;\">33000</td><td style = \"text-align: right;\">4</td><td style = \"text-align: right;\">740</td><td style = \"text-align: right;\">27</td><td style = \"text-align: right;\">1</td><td style = \"text-align: right;\">1</td><td style = \"text-align: right;\">33000</td><td style = \"text-align: right;\">0</td><td style = \"text-align: right;\">4</td><td style = \"text-align: right;\">4</td><td style = \"text-align: right;\">4</td><td style = \"text-align: right;\">1</td><td style = \"text-align: right;\">2</td><td style = \"text-align: right;\">0</td><td style = \"text-align: right;\">2</td><td style = \"text-align: right;\">0</td><td style = \"text-align: right;\">0</td><td style = \"text-align: right;\">0</td><td style = \"font-style: italic; text-align: right;\">missing</td><td style = \"text-align: right;\">0</td><td style = \"text-align: right;\">0</td><td style = \"text-align: right;\">0</td><td style = \"text-align: right;\">0</td><td style = \"text-align: right;\">0</td><td style = \"text-align: right;\">1</td><td style = \"font-style: italic; text-align: right;\">missing</td><td style = \"font-style: italic; text-align: right;\">missing</td><td style = \"text-align: right;\">1</td><td style = \"text-align: right;\">0</td><td style = \"font-style: italic; text-align: right;\">missing</td><td style = \"text-align: right;\">2</td><td style = \"text-align: right;\">4</td><td style = \"text-align: right;\">1</td><td style = \"text-align: right;\">0</td><td style = \"text-align: right;\">0</td><td style = \"text-align: right;\">0</td><td style = \"text-align: right;\">0</td><td style = \"text-align: right;\">0</td><td style = \"text-align: right;\">0</td><td style = \"text-align: right;\">0</td><td style = \"text-align: right;\">0</td><td style = \"text-align: right;\">0</td><td style = \"text-align: right;\">0</td><td style = \"text-align: right;\">0</td><td style = \"text-align: right;\">0</td><td style = \"text-align: right;\">0</td><td style = \"text-align: right;\">0</td><td style = \"text-align: right;\">0</td><td style = \"text-align: right;\">0</td><td style = \"text-align: right;\">0</td><td style = \"text-align: right;\">0</td><td style = \"text-align: right;\">0</td><td style = \"text-align: right;\">0</td><td style = \"text-align: right;\">0</td><td style = \"text-align: right;\">0</td><td style = \"text-align: right;\">0</td><td style = \"text-align: right;\">0</td><td style = \"text-align: right;\">0</td><td style = \"text-align: right;\">0</td><td style = \"text-align: right;\">&ctdot;</td></tr><tr><td class = \"rowNumber\" style = \"font-weight: bold; text-align: right;\">6496</td><td style = \"text-align: left;\">H</td><td style = \"text-align: right;\">1358490</td><td style = \"text-align: right;\">8</td><td style = \"text-align: right;\">700</td><td style = \"text-align: right;\">4</td><td style = \"text-align: right;\">16</td><td style = \"text-align: right;\">1015675</td><td style = \"text-align: right;\">353</td><td style = \"text-align: right;\">2</td><td style = \"text-align: right;\">1</td><td style = \"font-style: italic; text-align: right;\">missing</td><td style = \"font-style: italic; text-align: right;\">missing</td><td style = \"text-align: right;\">2</td><td style = \"text-align: right;\">7</td><td style = \"font-style: italic; text-align: right;\">missing</td><td style = \"font-style: italic; text-align: right;\">missing</td><td style = \"text-align: right;\">30</td><td style = \"text-align: right;\">0</td><td style = \"text-align: right;\">2</td><td style = \"text-align: right;\">3</td><td style = \"text-align: right;\">3</td><td style = \"font-style: italic; text-align: right;\">missing</td><td style = \"text-align: right;\">1</td><td style = \"font-style: italic; text-align: right;\">missing</td><td style = \"font-style: italic; text-align: right;\">missing</td><td style = \"font-style: italic; text-align: right;\">missing</td><td style = \"font-style: italic; text-align: right;\">missing</td><td style = \"font-style: italic; text-align: right;\">missing</td><td style = \"text-align: right;\">1</td><td style = \"text-align: right;\">3</td><td style = \"text-align: right;\">2</td><td style = \"text-align: right;\">610</td><td style = \"font-style: italic; text-align: right;\">missing</td><td style = \"text-align: right;\">1</td><td style = \"text-align: right;\">3</td><td style = \"font-style: italic; text-align: right;\">missing</td><td style = \"font-style: italic; text-align: right;\">missing</td><td style = \"text-align: right;\">2</td><td style = \"text-align: right;\">1</td><td style = \"text-align: right;\">3</td><td style = \"text-align: right;\">5</td><td style = \"text-align: right;\">32600</td><td style = \"text-align: right;\">4</td><td style = \"text-align: right;\">640</td><td style = \"text-align: right;\">24</td><td style = \"text-align: right;\">1</td><td style = \"text-align: right;\">2</td><td style = \"text-align: right;\">32600</td><td style = \"text-align: right;\">0</td><td style = \"text-align: right;\">4</td><td style = \"text-align: right;\">4</td><td style = \"text-align: right;\">4</td><td style = \"text-align: right;\">1</td><td style = \"text-align: right;\">3</td><td style = \"text-align: right;\">0</td><td style = \"text-align: right;\">2</td><td style = \"text-align: right;\">0</td><td style = \"text-align: right;\">0</td><td style = \"text-align: right;\">0</td><td style = \"font-style: italic; text-align: right;\">missing</td><td style = \"text-align: right;\">0</td><td style = \"text-align: right;\">0</td><td style = \"text-align: right;\">0</td><td style = \"text-align: right;\">0</td><td style = \"text-align: right;\">0</td><td style = \"text-align: right;\">2</td><td style = \"font-style: italic; text-align: right;\">missing</td><td style = \"font-style: italic; text-align: right;\">missing</td><td style = \"text-align: right;\">1</td><td style = \"text-align: right;\">0</td><td style = \"font-style: italic; text-align: right;\">missing</td><td style = \"text-align: right;\">2</td><td style = \"text-align: right;\">10</td><td style = \"text-align: right;\">10</td><td style = \"text-align: right;\">0</td><td style = \"text-align: right;\">0</td><td style = \"text-align: right;\">0</td><td style = \"text-align: right;\">0</td><td style = \"text-align: right;\">0</td><td style = \"text-align: right;\">0</td><td style = \"text-align: right;\">1</td><td style = \"text-align: right;\">0</td><td style = \"text-align: right;\">0</td><td style = \"text-align: right;\">0</td><td style = \"text-align: right;\">0</td><td style = \"text-align: right;\">0</td><td style = \"text-align: right;\">0</td><td style = \"text-align: right;\">0</td><td style = \"text-align: right;\">0</td><td style = \"text-align: right;\">0</td><td style = \"text-align: right;\">0</td><td style = \"text-align: right;\">0</td><td style = \"text-align: right;\">0</td><td style = \"text-align: right;\">0</td><td style = \"text-align: right;\">0</td><td style = \"text-align: right;\">0</td><td style = \"text-align: right;\">0</td><td style = \"text-align: right;\">0</td><td style = \"text-align: right;\">0</td><td style = \"text-align: right;\">0</td><td style = \"text-align: right;\">&ctdot;</td></tr></tbody></table></div>"
      ],
      "text/latex": [
       "\\begin{tabular}{r|ccccccccccc}\n",
       "\t& RT & SERIALNO & DIVISION & PUMA & REGION & ST & ADJUST & WGTP & NP & TYPE & \\\\\n",
       "\t\\hline\n",
       "\t& String1 & Int64 & Int64 & Int64 & Int64 & Int64 & Int64 & Int64 & Int64 & Int64 & \\\\\n",
       "\t\\hline\n",
       "\t1 & H & 186 & 8 & 700 & 4 & 16 & 1015675 & 89 & 4 & 1 & $\\dots$ \\\\\n",
       "\t2 & H & 306 & 8 & 700 & 4 & 16 & 1015675 & 310 & 1 & 1 & $\\dots$ \\\\\n",
       "\t3 & H & 395 & 8 & 100 & 4 & 16 & 1015675 & 106 & 2 & 1 & $\\dots$ \\\\\n",
       "\t4 & H & 506 & 8 & 700 & 4 & 16 & 1015675 & 240 & 4 & 1 & $\\dots$ \\\\\n",
       "\t5 & H & 835 & 8 & 800 & 4 & 16 & 1015675 & 118 & 4 & 1 & $\\dots$ \\\\\n",
       "\t6 & H & 989 & 8 & 700 & 4 & 16 & 1015675 & 115 & 4 & 1 & $\\dots$ \\\\\n",
       "\t7 & H & 1861 & 8 & 700 & 4 & 16 & 1015675 & 0 & 1 & 2 & $\\dots$ \\\\\n",
       "\t8 & H & 2120 & 8 & 200 & 4 & 16 & 1015675 & 35 & 1 & 1 & $\\dots$ \\\\\n",
       "\t9 & H & 2278 & 8 & 400 & 4 & 16 & 1015675 & 47 & 2 & 1 & $\\dots$ \\\\\n",
       "\t10 & H & 2428 & 8 & 500 & 4 & 16 & 1015675 & 51 & 2 & 1 & $\\dots$ \\\\\n",
       "\t11 & H & 2677 & 8 & 400 & 4 & 16 & 1015675 & 114 & 2 & 1 & $\\dots$ \\\\\n",
       "\t12 & H & 2928 & 8 & 800 & 4 & 16 & 1015675 & 51 & 2 & 1 & $\\dots$ \\\\\n",
       "\t13 & H & 3283 & 8 & 400 & 4 & 16 & 1015675 & 67 & 3 & 1 & $\\dots$ \\\\\n",
       "\t14 & H & 3331 & 8 & 600 & 4 & 16 & 1015675 & 0 & 1 & 2 & $\\dots$ \\\\\n",
       "\t15 & H & 3341 & 8 & 500 & 4 & 16 & 1015675 & 92 & 1 & 1 & $\\dots$ \\\\\n",
       "\t16 & H & 3827 & 8 & 300 & 4 & 16 & 1015675 & 51 & 2 & 1 & $\\dots$ \\\\\n",
       "\t17 & H & 4331 & 8 & 800 & 4 & 16 & 1015675 & 71 & 3 & 1 & $\\dots$ \\\\\n",
       "\t18 & H & 4425 & 8 & 400 & 4 & 16 & 1015675 & 349 & 1 & 1 & $\\dots$ \\\\\n",
       "\t19 & H & 4457 & 8 & 900 & 4 & 16 & 1015675 & 270 & 4 & 1 & $\\dots$ \\\\\n",
       "\t20 & H & 4551 & 8 & 500 & 4 & 16 & 1015675 & 83 & 3 & 1 & $\\dots$ \\\\\n",
       "\t21 & H & 4609 & 8 & 600 & 4 & 16 & 1015675 & 78 & 1 & 1 & $\\dots$ \\\\\n",
       "\t22 & H & 4720 & 8 & 200 & 4 & 16 & 1015675 & 115 & 1 & 1 & $\\dots$ \\\\\n",
       "\t23 & H & 5191 & 8 & 600 & 4 & 16 & 1015675 & 314 & 2 & 1 & $\\dots$ \\\\\n",
       "\t24 & H & 5465 & 8 & 100 & 4 & 16 & 1015675 & 22 & 1 & 1 & $\\dots$ \\\\\n",
       "\t25 & H & 5590 & 8 & 100 & 4 & 16 & 1015675 & 73 & 2 & 1 & $\\dots$ \\\\\n",
       "\t26 & H & 5763 & 8 & 800 & 4 & 16 & 1015675 & 73 & 4 & 1 & $\\dots$ \\\\\n",
       "\t27 & H & 5890 & 8 & 800 & 4 & 16 & 1015675 & 39 & 1 & 1 & $\\dots$ \\\\\n",
       "\t28 & H & 6517 & 8 & 800 & 4 & 16 & 1015675 & 63 & 1 & 1 & $\\dots$ \\\\\n",
       "\t29 & H & 6581 & 8 & 300 & 4 & 16 & 1015675 & 88 & 1 & 1 & $\\dots$ \\\\\n",
       "\t30 & H & 6789 & 8 & 600 & 4 & 16 & 1015675 & 321 & 2 & 1 & $\\dots$ \\\\\n",
       "\t$\\dots$ & $\\dots$ & $\\dots$ & $\\dots$ & $\\dots$ & $\\dots$ & $\\dots$ & $\\dots$ & $\\dots$ & $\\dots$ & $\\dots$ &  \\\\\n",
       "\\end{tabular}\n"
      ],
      "text/plain": [
       "\u001b[1m6496×188 DataFrame\u001b[0m\n",
       "\u001b[1m  Row \u001b[0m│\u001b[1m RT      \u001b[0m\u001b[1m SERIALNO \u001b[0m\u001b[1m DIVISION \u001b[0m\u001b[1m PUMA  \u001b[0m\u001b[1m REGION \u001b[0m\u001b[1m ST    \u001b[0m\u001b[1m ADJUST  \u001b[0m\u001b[1m WGTP  \u001b[0m\u001b[1m NP \u001b[0m ⋯\n",
       "      │\u001b[90m String1 \u001b[0m\u001b[90m Int64    \u001b[0m\u001b[90m Int64    \u001b[0m\u001b[90m Int64 \u001b[0m\u001b[90m Int64  \u001b[0m\u001b[90m Int64 \u001b[0m\u001b[90m Int64   \u001b[0m\u001b[90m Int64 \u001b[0m\u001b[90m Int\u001b[0m ⋯\n",
       "──────┼─────────────────────────────────────────────────────────────────────────\n",
       "    1 │ H             186         8    700       4     16  1015675     89      ⋯\n",
       "    2 │ H             306         8    700       4     16  1015675    310\n",
       "    3 │ H             395         8    100       4     16  1015675    106\n",
       "    4 │ H             506         8    700       4     16  1015675    240\n",
       "    5 │ H             835         8    800       4     16  1015675    118      ⋯\n",
       "    6 │ H             989         8    700       4     16  1015675    115\n",
       "    7 │ H            1861         8    700       4     16  1015675      0\n",
       "    8 │ H            2120         8    200       4     16  1015675     35\n",
       "    9 │ H            2278         8    400       4     16  1015675     47      ⋯\n",
       "   10 │ H            2428         8    500       4     16  1015675     51\n",
       "   11 │ H            2677         8    400       4     16  1015675    114\n",
       "  ⋮   │    ⋮        ⋮         ⋮        ⋮      ⋮       ⋮       ⋮       ⋮      ⋮ ⋱\n",
       " 6487 │ H         1356413         8    800       4     16  1015675     44\n",
       " 6488 │ H         1356517         8    200       4     16  1015675      0      ⋯\n",
       " 6489 │ H         1356950         8    500       4     16  1015675     71\n",
       " 6490 │ H         1357182         8    700       4     16  1015675     23\n",
       " 6491 │ H         1357195         8    300       4     16  1015675     19\n",
       " 6492 │ H         1357238         8    300       4     16  1015675    108      ⋯\n",
       " 6493 │ H         1357340         8    400       4     16  1015675     58\n",
       " 6494 │ H         1357874         8    900       4     16  1015675     32\n",
       " 6495 │ H         1357880         8    500       4     16  1015675    123\n",
       " 6496 │ H         1358490         8    700       4     16  1015675    353      ⋯\n",
       "\u001b[36m                                               180 columns and 6475 rows omitted\u001b[0m"
      ]
     },
     "execution_count": 94,
     "metadata": {},
     "output_type": "execute_result"
    }
   ],
   "source": [
    "first_q = CSV.File(\"quiz3_q1.csv\") |> DataFrame"
   ]
  },
  {
   "cell_type": "markdown",
   "id": "4298323c",
   "metadata": {},
   "source": [
    "The **filter()** function seems like an obvious first choice, until we try to work with missing values, and this is where it comes short - instead we should use **subset()** in combination by **ByRow()** to parse  this correctly"
   ]
  },
  {
   "cell_type": "code",
   "execution_count": 69,
   "id": "63d06ccf",
   "metadata": {
    "collapsed": true,
    "jupyter": {
     "outputs_hidden": true
    }
   },
   "outputs": [
    {
     "data": {
      "text/html": [
       "<div><div style = \"float: left;\"><span>77×188 DataFrame</span></div><div style = \"float: right;\"><span style = \"font-style: italic;\">88 columns and 52 rows omitted</span></div><div style = \"clear: both;\"></div></div><div class = \"data-frame\" style = \"overflow-x: scroll;\"><table class = \"data-frame\" style = \"margin-bottom: 6px;\"><thead><tr class = \"header\"><th class = \"rowNumber\" style = \"font-weight: bold; text-align: right;\">Row</th><th style = \"text-align: left;\">RT</th><th style = \"text-align: left;\">SERIALNO</th><th style = \"text-align: left;\">DIVISION</th><th style = \"text-align: left;\">PUMA</th><th style = \"text-align: left;\">REGION</th><th style = \"text-align: left;\">ST</th><th style = \"text-align: left;\">ADJUST</th><th style = \"text-align: left;\">WGTP</th><th style = \"text-align: left;\">NP</th><th style = \"text-align: left;\">TYPE</th><th style = \"text-align: left;\">ACR</th><th style = \"text-align: left;\">AGS</th><th style = \"text-align: left;\">BDS</th><th style = \"text-align: left;\">BLD</th><th style = \"text-align: left;\">BUS</th><th style = \"text-align: left;\">CONP</th><th style = \"text-align: left;\">ELEP</th><th style = \"text-align: left;\">FS</th><th style = \"text-align: left;\">FULP</th><th style = \"text-align: left;\">GASP</th><th style = \"text-align: left;\">HFL</th><th style = \"text-align: left;\">INSP</th><th style = \"text-align: left;\">KIT</th><th style = \"text-align: left;\">MHP</th><th style = \"text-align: left;\">MRGI</th><th style = \"text-align: left;\">MRGP</th><th style = \"text-align: left;\">MRGT</th><th style = \"text-align: left;\">MRGX</th><th style = \"text-align: left;\">PLM</th><th style = \"text-align: left;\">RMS</th><th style = \"text-align: left;\">RNTM</th><th style = \"text-align: left;\">RNTP</th><th style = \"text-align: left;\">SMP</th><th style = \"text-align: left;\">TEL</th><th style = \"text-align: left;\">TEN</th><th style = \"text-align: left;\">VACS</th><th style = \"text-align: left;\">VAL</th><th style = \"text-align: left;\">VEH</th><th style = \"text-align: left;\">WATP</th><th style = \"text-align: left;\">YBL</th><th style = \"text-align: left;\">FES</th><th style = \"text-align: left;\">FINCP</th><th style = \"text-align: left;\">FPARC</th><th style = \"text-align: left;\">GRNTP</th><th style = \"text-align: left;\">GRPIP</th><th style = \"text-align: left;\">HHL</th><th style = \"text-align: left;\">HHT</th><th style = \"text-align: left;\">HINCP</th><th style = \"text-align: left;\">HUGCL</th><th style = \"text-align: left;\">HUPAC</th><th style = \"text-align: left;\">HUPAOC</th><th style = \"text-align: left;\">HUPARC</th><th style = \"text-align: left;\">LNGI</th><th style = \"text-align: left;\">MV</th><th style = \"text-align: left;\">NOC</th><th style = \"text-align: left;\">NPF</th><th style = \"text-align: left;\">NPP</th><th style = \"text-align: left;\">NR</th><th style = \"text-align: left;\">NRC</th><th style = \"text-align: left;\">OCPIP</th><th style = \"text-align: left;\">PARTNER</th><th style = \"text-align: left;\">PSF</th><th style = \"text-align: left;\">R18</th><th style = \"text-align: left;\">R60</th><th style = \"text-align: left;\">R65</th><th style = \"text-align: left;\">RESMODE</th><th style = \"text-align: left;\">SMOCP</th><th style = \"text-align: left;\">SMX</th><th style = \"text-align: left;\">SRNT</th><th style = \"text-align: left;\">SVAL</th><th style = \"text-align: left;\">TAXP</th><th style = \"text-align: left;\">WIF</th><th style = \"text-align: left;\">WKEXREL</th><th style = \"text-align: left;\">WORKSTAT</th><th style = \"text-align: left;\">FACRP</th><th style = \"text-align: left;\">FAGSP</th><th style = \"text-align: left;\">FBDSP</th><th style = \"text-align: left;\">FBLDP</th><th style = \"text-align: left;\">FBUSP</th><th style = \"text-align: left;\">FCONP</th><th style = \"text-align: left;\">FELEP</th><th style = \"text-align: left;\">FFSP</th><th style = \"text-align: left;\">FFULP</th><th style = \"text-align: left;\">FGASP</th><th style = \"text-align: left;\">FHFLP</th><th style = \"text-align: left;\">FINSP</th><th style = \"text-align: left;\">FKITP</th><th style = \"text-align: left;\">FMHP</th><th style = \"text-align: left;\">FMRGIP</th><th style = \"text-align: left;\">FMRGP</th><th style = \"text-align: left;\">FMRGTP</th><th style = \"text-align: left;\">FMRGXP</th><th style = \"text-align: left;\">FMVYP</th><th style = \"text-align: left;\">FPLMP</th><th style = \"text-align: left;\">FRMSP</th><th style = \"text-align: left;\">FRNTMP</th><th style = \"text-align: left;\">FRNTP</th><th style = \"text-align: left;\">FSMP</th><th style = \"text-align: left;\">FSMXHP</th><th style = \"text-align: left;\">FSMXSP</th><th style = \"text-align: right;\">&ctdot;</th></tr><tr class = \"subheader headerLastRow\"><th class = \"rowNumber\" style = \"font-weight: bold; text-align: right;\"></th><th title = \"String1\" style = \"text-align: left;\">String1</th><th title = \"Int64\" style = \"text-align: left;\">Int64</th><th title = \"Int64\" style = \"text-align: left;\">Int64</th><th title = \"Int64\" style = \"text-align: left;\">Int64</th><th title = \"Int64\" style = \"text-align: left;\">Int64</th><th title = \"Int64\" style = \"text-align: left;\">Int64</th><th title = \"Int64\" style = \"text-align: left;\">Int64</th><th title = \"Int64\" style = \"text-align: left;\">Int64</th><th title = \"Int64\" style = \"text-align: left;\">Int64</th><th title = \"Int64\" style = \"text-align: left;\">Int64</th><th title = \"Union{Missing, Int64}\" style = \"text-align: left;\">Int64?</th><th title = \"Union{Missing, Int64}\" style = \"text-align: left;\">Int64?</th><th title = \"Union{Missing, Int64}\" style = \"text-align: left;\">Int64?</th><th title = \"Union{Missing, Int64}\" style = \"text-align: left;\">Int64?</th><th title = \"Union{Missing, Int64}\" style = \"text-align: left;\">Int64?</th><th title = \"Union{Missing, Int64}\" style = \"text-align: left;\">Int64?</th><th title = \"Union{Missing, Int64}\" style = \"text-align: left;\">Int64?</th><th title = \"Union{Missing, Int64}\" style = \"text-align: left;\">Int64?</th><th title = \"Union{Missing, Int64}\" style = \"text-align: left;\">Int64?</th><th title = \"Union{Missing, Int64}\" style = \"text-align: left;\">Int64?</th><th title = \"Union{Missing, Int64}\" style = \"text-align: left;\">Int64?</th><th title = \"Union{Missing, Int64}\" style = \"text-align: left;\">Int64?</th><th title = \"Union{Missing, Int64}\" style = \"text-align: left;\">Int64?</th><th title = \"Union{Missing, Int64}\" style = \"text-align: left;\">Int64?</th><th title = \"Union{Missing, Int64}\" style = \"text-align: left;\">Int64?</th><th title = \"Union{Missing, Int64}\" style = \"text-align: left;\">Int64?</th><th title = \"Union{Missing, Int64}\" style = \"text-align: left;\">Int64?</th><th title = \"Union{Missing, Int64}\" style = \"text-align: left;\">Int64?</th><th title = \"Union{Missing, Int64}\" style = \"text-align: left;\">Int64?</th><th title = \"Union{Missing, Int64}\" style = \"text-align: left;\">Int64?</th><th title = \"Union{Missing, Int64}\" style = \"text-align: left;\">Int64?</th><th title = \"Union{Missing, Int64}\" style = \"text-align: left;\">Int64?</th><th title = \"Union{Missing, Int64}\" style = \"text-align: left;\">Int64?</th><th title = \"Union{Missing, Int64}\" style = \"text-align: left;\">Int64?</th><th title = \"Union{Missing, Int64}\" style = \"text-align: left;\">Int64?</th><th title = \"Union{Missing, Int64}\" style = \"text-align: left;\">Int64?</th><th title = \"Union{Missing, Int64}\" style = \"text-align: left;\">Int64?</th><th title = \"Union{Missing, Int64}\" style = \"text-align: left;\">Int64?</th><th title = \"Union{Missing, Int64}\" style = \"text-align: left;\">Int64?</th><th title = \"Union{Missing, Int64}\" style = \"text-align: left;\">Int64?</th><th title = \"Union{Missing, Int64}\" style = \"text-align: left;\">Int64?</th><th title = \"Union{Missing, Int64}\" style = \"text-align: left;\">Int64?</th><th title = \"Union{Missing, Int64}\" style = \"text-align: left;\">Int64?</th><th title = \"Union{Missing, Int64}\" style = \"text-align: left;\">Int64?</th><th title = \"Union{Missing, Int64}\" style = \"text-align: left;\">Int64?</th><th title = \"Union{Missing, Int64}\" style = \"text-align: left;\">Int64?</th><th title = \"Union{Missing, Int64}\" style = \"text-align: left;\">Int64?</th><th title = \"Union{Missing, Int64}\" style = \"text-align: left;\">Int64?</th><th title = \"Union{Missing, Int64}\" style = \"text-align: left;\">Int64?</th><th title = \"Union{Missing, Int64}\" style = \"text-align: left;\">Int64?</th><th title = \"Union{Missing, Int64}\" style = \"text-align: left;\">Int64?</th><th title = \"Union{Missing, Int64}\" style = \"text-align: left;\">Int64?</th><th title = \"Union{Missing, Int64}\" style = \"text-align: left;\">Int64?</th><th title = \"Union{Missing, Int64}\" style = \"text-align: left;\">Int64?</th><th title = \"Union{Missing, Int64}\" style = \"text-align: left;\">Int64?</th><th title = \"Union{Missing, Int64}\" style = \"text-align: left;\">Int64?</th><th title = \"Union{Missing, Int64}\" style = \"text-align: left;\">Int64?</th><th title = \"Union{Missing, Int64}\" style = \"text-align: left;\">Int64?</th><th title = \"Union{Missing, Int64}\" style = \"text-align: left;\">Int64?</th><th title = \"Union{Missing, Int64}\" style = \"text-align: left;\">Int64?</th><th title = \"Union{Missing, Int64}\" style = \"text-align: left;\">Int64?</th><th title = \"Union{Missing, Int64}\" style = \"text-align: left;\">Int64?</th><th title = \"Union{Missing, Int64}\" style = \"text-align: left;\">Int64?</th><th title = \"Union{Missing, Int64}\" style = \"text-align: left;\">Int64?</th><th title = \"Union{Missing, Int64}\" style = \"text-align: left;\">Int64?</th><th title = \"Union{Missing, Int64}\" style = \"text-align: left;\">Int64?</th><th title = \"Union{Missing, Int64}\" style = \"text-align: left;\">Int64?</th><th title = \"Union{Missing, Int64}\" style = \"text-align: left;\">Int64?</th><th title = \"Union{Missing, Int64}\" style = \"text-align: left;\">Int64?</th><th title = \"Union{Missing, Int64}\" style = \"text-align: left;\">Int64?</th><th title = \"Union{Missing, Int64}\" style = \"text-align: left;\">Int64?</th><th title = \"Union{Missing, Int64}\" style = \"text-align: left;\">Int64?</th><th title = \"Union{Missing, Int64}\" style = \"text-align: left;\">Int64?</th><th title = \"Union{Missing, Int64}\" style = \"text-align: left;\">Int64?</th><th title = \"Union{Missing, Int64}\" style = \"text-align: left;\">Int64?</th><th title = \"Union{Missing, Int64}\" style = \"text-align: left;\">Int64?</th><th title = \"Union{Missing, Int64}\" style = \"text-align: left;\">Int64?</th><th title = \"Union{Missing, Int64}\" style = \"text-align: left;\">Int64?</th><th title = \"Union{Missing, Int64}\" style = \"text-align: left;\">Int64?</th><th title = \"Union{Missing, Int64}\" style = \"text-align: left;\">Int64?</th><th title = \"Union{Missing, Int64}\" style = \"text-align: left;\">Int64?</th><th title = \"Int64\" style = \"text-align: left;\">Int64</th><th title = \"Union{Missing, Int64}\" style = \"text-align: left;\">Int64?</th><th title = \"Union{Missing, Int64}\" style = \"text-align: left;\">Int64?</th><th title = \"Union{Missing, Int64}\" style = \"text-align: left;\">Int64?</th><th title = \"Union{Missing, Int64}\" style = \"text-align: left;\">Int64?</th><th title = \"Union{Missing, Int64}\" style = \"text-align: left;\">Int64?</th><th title = \"Union{Missing, Int64}\" style = \"text-align: left;\">Int64?</th><th title = \"Union{Missing, Int64}\" style = \"text-align: left;\">Int64?</th><th title = \"Union{Missing, Int64}\" style = \"text-align: left;\">Int64?</th><th title = \"Union{Missing, Int64}\" style = \"text-align: left;\">Int64?</th><th title = \"Union{Missing, Int64}\" style = \"text-align: left;\">Int64?</th><th title = \"Union{Missing, Int64}\" style = \"text-align: left;\">Int64?</th><th title = \"Union{Missing, Int64}\" style = \"text-align: left;\">Int64?</th><th title = \"Union{Missing, Int64}\" style = \"text-align: left;\">Int64?</th><th title = \"Union{Missing, Int64}\" style = \"text-align: left;\">Int64?</th><th title = \"Union{Missing, Int64}\" style = \"text-align: left;\">Int64?</th><th title = \"Union{Missing, Int64}\" style = \"text-align: left;\">Int64?</th><th title = \"Union{Missing, Int64}\" style = \"text-align: left;\">Int64?</th><th title = \"Union{Missing, Int64}\" style = \"text-align: left;\">Int64?</th><th title = \"Union{Missing, Int64}\" style = \"text-align: right;\">&ctdot;</th></tr></thead><tbody><tr><td class = \"rowNumber\" style = \"font-weight: bold; text-align: right;\">1</td><td style = \"text-align: left;\">H</td><td style = \"text-align: right;\">30346</td><td style = \"text-align: right;\">8</td><td style = \"text-align: right;\">400</td><td style = \"text-align: right;\">4</td><td style = \"text-align: right;\">16</td><td style = \"text-align: right;\">1015675</td><td style = \"text-align: right;\">120</td><td style = \"text-align: right;\">4</td><td style = \"text-align: right;\">1</td><td style = \"text-align: right;\">3</td><td style = \"text-align: right;\">6</td><td style = \"text-align: right;\">3</td><td style = \"text-align: right;\">2</td><td style = \"text-align: right;\">2</td><td style = \"font-style: italic; text-align: right;\">missing</td><td style = \"text-align: right;\">150</td><td style = \"text-align: right;\">0</td><td style = \"text-align: right;\">2</td><td style = \"text-align: right;\">3</td><td style = \"text-align: right;\">3</td><td style = \"text-align: right;\">600</td><td style = \"text-align: right;\">1</td><td style = \"font-style: italic; text-align: right;\">missing</td><td style = \"text-align: right;\">1</td><td style = \"text-align: right;\">1400</td><td style = \"text-align: right;\">1</td><td style = \"text-align: right;\">1</td><td style = \"text-align: right;\">1</td><td style = \"text-align: right;\">5</td><td style = \"font-style: italic; text-align: right;\">missing</td><td style = \"font-style: italic; text-align: right;\">missing</td><td style = \"font-style: italic; text-align: right;\">missing</td><td style = \"text-align: right;\">1</td><td style = \"text-align: right;\">1</td><td style = \"font-style: italic; text-align: right;\">missing</td><td style = \"text-align: right;\">20</td><td style = \"text-align: right;\">2</td><td style = \"text-align: right;\">2</td><td style = \"text-align: right;\">3</td><td style = \"text-align: right;\">1</td><td style = \"text-align: right;\">62600</td><td style = \"text-align: right;\">2</td><td style = \"font-style: italic; text-align: right;\">missing</td><td style = \"font-style: italic; text-align: right;\">missing</td><td style = \"text-align: right;\">3</td><td style = \"text-align: right;\">1</td><td style = \"text-align: right;\">62600</td><td style = \"text-align: right;\">0</td><td style = \"text-align: right;\">2</td><td style = \"text-align: right;\">2</td><td style = \"text-align: right;\">2</td><td style = \"text-align: right;\">1</td><td style = \"text-align: right;\">1</td><td style = \"text-align: right;\">2</td><td style = \"text-align: right;\">4</td><td style = \"text-align: right;\">0</td><td style = \"text-align: right;\">0</td><td style = \"text-align: right;\">2</td><td style = \"text-align: right;\">30</td><td style = \"text-align: right;\">0</td><td style = \"text-align: right;\">0</td><td style = \"text-align: right;\">1</td><td style = \"text-align: right;\">0</td><td style = \"text-align: right;\">0</td><td style = \"text-align: right;\">1</td><td style = \"text-align: right;\">1550</td><td style = \"text-align: right;\">3</td><td style = \"text-align: right;\">0</td><td style = \"text-align: right;\">0</td><td style = \"text-align: right;\">24</td><td style = \"text-align: right;\">2</td><td style = \"text-align: right;\">1</td><td style = \"text-align: right;\">1</td><td style = \"text-align: right;\">0</td><td style = \"text-align: right;\">0</td><td style = \"text-align: right;\">0</td><td style = \"text-align: right;\">0</td><td style = \"text-align: right;\">0</td><td style = \"text-align: right;\">0</td><td style = \"text-align: right;\">0</td><td style = \"text-align: right;\">0</td><td style = \"text-align: right;\">0</td><td style = \"text-align: right;\">0</td><td style = \"text-align: right;\">0</td><td style = \"text-align: right;\">0</td><td style = \"text-align: right;\">0</td><td style = \"text-align: right;\">0</td><td style = \"text-align: right;\">0</td><td style = \"text-align: right;\">0</td><td style = \"text-align: right;\">0</td><td style = \"text-align: right;\">0</td><td style = \"text-align: right;\">0</td><td style = \"text-align: right;\">0</td><td style = \"text-align: right;\">1</td><td style = \"text-align: right;\">0</td><td style = \"text-align: right;\">0</td><td style = \"text-align: right;\">0</td><td style = \"text-align: right;\">0</td><td style = \"text-align: right;\">0</td><td style = \"text-align: right;\">&ctdot;</td></tr><tr><td class = \"rowNumber\" style = \"font-weight: bold; text-align: right;\">2</td><td style = \"text-align: left;\">H</td><td style = \"text-align: right;\">53292</td><td style = \"text-align: right;\">8</td><td style = \"text-align: right;\">300</td><td style = \"text-align: right;\">4</td><td style = \"text-align: right;\">16</td><td style = \"text-align: right;\">1015675</td><td style = \"text-align: right;\">26</td><td style = \"text-align: right;\">3</td><td style = \"text-align: right;\">1</td><td style = \"text-align: right;\">3</td><td style = \"text-align: right;\">6</td><td style = \"text-align: right;\">2</td><td style = \"text-align: right;\">3</td><td style = \"text-align: right;\">2</td><td style = \"font-style: italic; text-align: right;\">missing</td><td style = \"text-align: right;\">120</td><td style = \"text-align: right;\">0</td><td style = \"text-align: right;\">1000</td><td style = \"text-align: right;\">3</td><td style = \"text-align: right;\">6</td><td style = \"text-align: right;\">1500</td><td style = \"text-align: right;\">1</td><td style = \"font-style: italic; text-align: right;\">missing</td><td style = \"text-align: right;\">2</td><td style = \"text-align: right;\">1400</td><td style = \"text-align: right;\">2</td><td style = \"text-align: right;\">1</td><td style = \"text-align: right;\">1</td><td style = \"text-align: right;\">4</td><td style = \"font-style: italic; text-align: right;\">missing</td><td style = \"font-style: italic; text-align: right;\">missing</td><td style = \"font-style: italic; text-align: right;\">missing</td><td style = \"text-align: right;\">1</td><td style = \"text-align: right;\">1</td><td style = \"font-style: italic; text-align: right;\">missing</td><td style = \"text-align: right;\">11</td><td style = \"text-align: right;\">3</td><td style = \"text-align: right;\">100</td><td style = \"text-align: right;\">5</td><td style = \"text-align: right;\">1</td><td style = \"text-align: right;\">120000</td><td style = \"text-align: right;\">2</td><td style = \"font-style: italic; text-align: right;\">missing</td><td style = \"font-style: italic; text-align: right;\">missing</td><td style = \"text-align: right;\">1</td><td style = \"text-align: right;\">1</td><td style = \"text-align: right;\">120000</td><td style = \"text-align: right;\">0</td><td style = \"text-align: right;\">2</td><td style = \"text-align: right;\">2</td><td style = \"text-align: right;\">2</td><td style = \"text-align: right;\">1</td><td style = \"text-align: right;\">6</td><td style = \"text-align: right;\">1</td><td style = \"text-align: right;\">3</td><td style = \"text-align: right;\">0</td><td style = \"text-align: right;\">0</td><td style = \"text-align: right;\">1</td><td style = \"text-align: right;\">18</td><td style = \"text-align: right;\">0</td><td style = \"text-align: right;\">0</td><td style = \"text-align: right;\">1</td><td style = \"text-align: right;\">0</td><td style = \"text-align: right;\">0</td><td style = \"text-align: right;\">1</td><td style = \"text-align: right;\">1819</td><td style = \"text-align: right;\">3</td><td style = \"text-align: right;\">0</td><td style = \"text-align: right;\">0</td><td style = \"text-align: right;\">22</td><td style = \"text-align: right;\">2</td><td style = \"text-align: right;\">1</td><td style = \"text-align: right;\">1</td><td style = \"text-align: right;\">0</td><td style = \"text-align: right;\">0</td><td style = \"text-align: right;\">0</td><td style = \"text-align: right;\">0</td><td style = \"text-align: right;\">0</td><td style = \"text-align: right;\">0</td><td style = \"text-align: right;\">0</td><td style = \"text-align: right;\">0</td><td style = \"text-align: right;\">0</td><td style = \"text-align: right;\">0</td><td style = \"text-align: right;\">0</td><td style = \"text-align: right;\">0</td><td style = \"text-align: right;\">0</td><td style = \"text-align: right;\">0</td><td style = \"text-align: right;\">0</td><td style = \"text-align: right;\">0</td><td style = \"text-align: right;\">0</td><td style = \"text-align: right;\">0</td><td style = \"text-align: right;\">0</td><td style = \"text-align: right;\">0</td><td style = \"text-align: right;\">0</td><td style = \"text-align: right;\">0</td><td style = \"text-align: right;\">0</td><td style = \"text-align: right;\">0</td><td style = \"text-align: right;\">0</td><td style = \"text-align: right;\">0</td><td style = \"text-align: right;\">&ctdot;</td></tr><tr><td class = \"rowNumber\" style = \"font-weight: bold; text-align: right;\">3</td><td style = \"text-align: left;\">H</td><td style = \"text-align: right;\">56299</td><td style = \"text-align: right;\">8</td><td style = \"text-align: right;\">800</td><td style = \"text-align: right;\">4</td><td style = \"text-align: right;\">16</td><td style = \"text-align: right;\">1015675</td><td style = \"text-align: right;\">97</td><td style = \"text-align: right;\">2</td><td style = \"text-align: right;\">1</td><td style = \"text-align: right;\">3</td><td style = \"text-align: right;\">6</td><td style = \"text-align: right;\">2</td><td style = \"text-align: right;\">2</td><td style = \"text-align: right;\">2</td><td style = \"font-style: italic; text-align: right;\">missing</td><td style = \"text-align: right;\">80</td><td style = \"text-align: right;\">0</td><td style = \"text-align: right;\">2</td><td style = \"text-align: right;\">110</td><td style = \"text-align: right;\">1</td><td style = \"font-style: italic; text-align: right;\">missing</td><td style = \"text-align: right;\">1</td><td style = \"font-style: italic; text-align: right;\">missing</td><td style = \"font-style: italic; text-align: right;\">missing</td><td style = \"font-style: italic; text-align: right;\">missing</td><td style = \"font-style: italic; text-align: right;\">missing</td><td style = \"font-style: italic; text-align: right;\">missing</td><td style = \"text-align: right;\">1</td><td style = \"text-align: right;\">5</td><td style = \"font-style: italic; text-align: right;\">missing</td><td style = \"font-style: italic; text-align: right;\">missing</td><td style = \"font-style: italic; text-align: right;\">missing</td><td style = \"text-align: right;\">1</td><td style = \"text-align: right;\">4</td><td style = \"font-style: italic; text-align: right;\">missing</td><td style = \"font-style: italic; text-align: right;\">missing</td><td style = \"text-align: right;\">2</td><td style = \"text-align: right;\">2</td><td style = \"text-align: right;\">9</td><td style = \"text-align: right;\">2</td><td style = \"text-align: right;\">23200</td><td style = \"text-align: right;\">4</td><td style = \"font-style: italic; text-align: right;\">missing</td><td style = \"font-style: italic; text-align: right;\">missing</td><td style = \"text-align: right;\">1</td><td style = \"text-align: right;\">1</td><td style = \"text-align: right;\">23200</td><td style = \"text-align: right;\">0</td><td style = \"text-align: right;\">4</td><td style = \"text-align: right;\">4</td><td style = \"text-align: right;\">4</td><td style = \"text-align: right;\">1</td><td style = \"text-align: right;\">4</td><td style = \"text-align: right;\">0</td><td style = \"text-align: right;\">2</td><td style = \"text-align: right;\">0</td><td style = \"text-align: right;\">0</td><td style = \"text-align: right;\">0</td><td style = \"font-style: italic; text-align: right;\">missing</td><td style = \"text-align: right;\">0</td><td style = \"text-align: right;\">0</td><td style = \"text-align: right;\">0</td><td style = \"text-align: right;\">2</td><td style = \"text-align: right;\">0</td><td style = \"text-align: right;\">2</td><td style = \"font-style: italic; text-align: right;\">missing</td><td style = \"font-style: italic; text-align: right;\">missing</td><td style = \"text-align: right;\">0</td><td style = \"text-align: right;\">0</td><td style = \"font-style: italic; text-align: right;\">missing</td><td style = \"text-align: right;\">1</td><td style = \"text-align: right;\">3</td><td style = \"text-align: right;\">3</td><td style = \"text-align: right;\">0</td><td style = \"text-align: right;\">1</td><td style = \"text-align: right;\">0</td><td style = \"text-align: right;\">0</td><td style = \"text-align: right;\">0</td><td style = \"text-align: right;\">0</td><td style = \"text-align: right;\">0</td><td style = \"text-align: right;\">0</td><td style = \"text-align: right;\">0</td><td style = \"text-align: right;\">0</td><td style = \"text-align: right;\">0</td><td style = \"text-align: right;\">0</td><td style = \"text-align: right;\">0</td><td style = \"text-align: right;\">0</td><td style = \"text-align: right;\">0</td><td style = \"text-align: right;\">0</td><td style = \"text-align: right;\">0</td><td style = \"text-align: right;\">0</td><td style = \"text-align: right;\">0</td><td style = \"text-align: right;\">0</td><td style = \"text-align: right;\">0</td><td style = \"text-align: right;\">0</td><td style = \"text-align: right;\">0</td><td style = \"text-align: right;\">0</td><td style = \"text-align: right;\">0</td><td style = \"text-align: right;\">0</td><td style = \"text-align: right;\">&ctdot;</td></tr><tr><td class = \"rowNumber\" style = \"font-weight: bold; text-align: right;\">4</td><td style = \"text-align: left;\">H</td><td style = \"text-align: right;\">101282</td><td style = \"text-align: right;\">8</td><td style = \"text-align: right;\">800</td><td style = \"text-align: right;\">4</td><td style = \"text-align: right;\">16</td><td style = \"text-align: right;\">1015675</td><td style = \"text-align: right;\">76</td><td style = \"text-align: right;\">2</td><td style = \"text-align: right;\">1</td><td style = \"text-align: right;\">3</td><td style = \"text-align: right;\">6</td><td style = \"text-align: right;\">3</td><td style = \"text-align: right;\">2</td><td style = \"text-align: right;\">2</td><td style = \"font-style: italic; text-align: right;\">missing</td><td style = \"text-align: right;\">70</td><td style = \"text-align: right;\">0</td><td style = \"text-align: right;\">850</td><td style = \"text-align: right;\">3</td><td style = \"text-align: right;\">4</td><td style = \"text-align: right;\">860</td><td style = \"text-align: right;\">1</td><td style = \"font-style: italic; text-align: right;\">missing</td><td style = \"text-align: right;\">2</td><td style = \"text-align: right;\">600</td><td style = \"text-align: right;\">2</td><td style = \"text-align: right;\">1</td><td style = \"text-align: right;\">1</td><td style = \"text-align: right;\">9</td><td style = \"font-style: italic; text-align: right;\">missing</td><td style = \"font-style: italic; text-align: right;\">missing</td><td style = \"font-style: italic; text-align: right;\">missing</td><td style = \"text-align: right;\">1</td><td style = \"text-align: right;\">1</td><td style = \"font-style: italic; text-align: right;\">missing</td><td style = \"text-align: right;\">14</td><td style = \"text-align: right;\">4</td><td style = \"text-align: right;\">2</td><td style = \"text-align: right;\">9</td><td style = \"text-align: right;\">1</td><td style = \"text-align: right;\">27500</td><td style = \"text-align: right;\">4</td><td style = \"font-style: italic; text-align: right;\">missing</td><td style = \"font-style: italic; text-align: right;\">missing</td><td style = \"text-align: right;\">1</td><td style = \"text-align: right;\">1</td><td style = \"text-align: right;\">27500</td><td style = \"text-align: right;\">0</td><td style = \"text-align: right;\">4</td><td style = \"text-align: right;\">4</td><td style = \"text-align: right;\">4</td><td style = \"text-align: right;\">1</td><td style = \"text-align: right;\">7</td><td style = \"text-align: right;\">0</td><td style = \"text-align: right;\">2</td><td style = \"text-align: right;\">0</td><td style = \"text-align: right;\">0</td><td style = \"text-align: right;\">0</td><td style = \"text-align: right;\">39</td><td style = \"text-align: right;\">0</td><td style = \"text-align: right;\">0</td><td style = \"text-align: right;\">0</td><td style = \"text-align: right;\">1</td><td style = \"text-align: right;\">0</td><td style = \"text-align: right;\">1</td><td style = \"text-align: right;\">883</td><td style = \"text-align: right;\">3</td><td style = \"text-align: right;\">0</td><td style = \"text-align: right;\">0</td><td style = \"text-align: right;\">18</td><td style = \"text-align: right;\">2</td><td style = \"text-align: right;\">2</td><td style = \"text-align: right;\">1</td><td style = \"text-align: right;\">0</td><td style = \"text-align: right;\">0</td><td style = \"text-align: right;\">0</td><td style = \"text-align: right;\">0</td><td style = \"text-align: right;\">0</td><td style = \"text-align: right;\">0</td><td style = \"text-align: right;\">0</td><td style = \"text-align: right;\">0</td><td style = \"text-align: right;\">0</td><td style = \"text-align: right;\">0</td><td style = \"text-align: right;\">0</td><td style = \"text-align: right;\">1</td><td style = \"text-align: right;\">0</td><td style = \"text-align: right;\">0</td><td style = \"text-align: right;\">0</td><td style = \"text-align: right;\">1</td><td style = \"text-align: right;\">0</td><td style = \"text-align: right;\">0</td><td style = \"text-align: right;\">0</td><td style = \"text-align: right;\">0</td><td style = \"text-align: right;\">0</td><td style = \"text-align: right;\">0</td><td style = \"text-align: right;\">0</td><td style = \"text-align: right;\">0</td><td style = \"text-align: right;\">0</td><td style = \"text-align: right;\">0</td><td style = \"text-align: right;\">&ctdot;</td></tr><tr><td class = \"rowNumber\" style = \"font-weight: bold; text-align: right;\">5</td><td style = \"text-align: left;\">H</td><td style = \"text-align: right;\">120351</td><td style = \"text-align: right;\">8</td><td style = \"text-align: right;\">800</td><td style = \"text-align: right;\">4</td><td style = \"text-align: right;\">16</td><td style = \"text-align: right;\">1015675</td><td style = \"text-align: right;\">51</td><td style = \"text-align: right;\">5</td><td style = \"text-align: right;\">1</td><td style = \"text-align: right;\">3</td><td style = \"text-align: right;\">6</td><td style = \"text-align: right;\">5</td><td style = \"text-align: right;\">2</td><td style = \"text-align: right;\">2</td><td style = \"font-style: italic; text-align: right;\">missing</td><td style = \"text-align: right;\">80</td><td style = \"text-align: right;\">0</td><td style = \"text-align: right;\">2</td><td style = \"text-align: right;\">10</td><td style = \"text-align: right;\">2</td><td style = \"text-align: right;\">0</td><td style = \"text-align: right;\">1</td><td style = \"font-style: italic; text-align: right;\">missing</td><td style = \"font-style: italic; text-align: right;\">missing</td><td style = \"font-style: italic; text-align: right;\">missing</td><td style = \"font-style: italic; text-align: right;\">missing</td><td style = \"text-align: right;\">3</td><td style = \"text-align: right;\">1</td><td style = \"text-align: right;\">9</td><td style = \"font-style: italic; text-align: right;\">missing</td><td style = \"font-style: italic; text-align: right;\">missing</td><td style = \"font-style: italic; text-align: right;\">missing</td><td style = \"text-align: right;\">1</td><td style = \"text-align: right;\">2</td><td style = \"font-style: italic; text-align: right;\">missing</td><td style = \"text-align: right;\">24</td><td style = \"text-align: right;\">2</td><td style = \"text-align: right;\">2</td><td style = \"text-align: right;\">1</td><td style = \"text-align: right;\">2</td><td style = \"text-align: right;\">41500</td><td style = \"text-align: right;\">3</td><td style = \"font-style: italic; text-align: right;\">missing</td><td style = \"font-style: italic; text-align: right;\">missing</td><td style = \"text-align: right;\">1</td><td style = \"text-align: right;\">1</td><td style = \"text-align: right;\">41500</td><td style = \"text-align: right;\">0</td><td style = \"text-align: right;\">1</td><td style = \"text-align: right;\">1</td><td style = \"text-align: right;\">1</td><td style = \"text-align: right;\">1</td><td style = \"text-align: right;\">1</td><td style = \"text-align: right;\">3</td><td style = \"text-align: right;\">5</td><td style = \"text-align: right;\">0</td><td style = \"text-align: right;\">0</td><td style = \"text-align: right;\">3</td><td style = \"text-align: right;\">7</td><td style = \"text-align: right;\">0</td><td style = \"text-align: right;\">0</td><td style = \"text-align: right;\">1</td><td style = \"text-align: right;\">0</td><td style = \"text-align: right;\">0</td><td style = \"text-align: right;\">1</td><td style = \"text-align: right;\">257</td><td style = \"font-style: italic; text-align: right;\">missing</td><td style = \"text-align: right;\">0</td><td style = \"text-align: right;\">0</td><td style = \"text-align: right;\">32</td><td style = \"text-align: right;\">2</td><td style = \"text-align: right;\">2</td><td style = \"text-align: right;\">3</td><td style = \"text-align: right;\">0</td><td style = \"text-align: right;\">0</td><td style = \"text-align: right;\">0</td><td style = \"text-align: right;\">0</td><td style = \"text-align: right;\">0</td><td style = \"text-align: right;\">0</td><td style = \"text-align: right;\">0</td><td style = \"text-align: right;\">0</td><td style = \"text-align: right;\">0</td><td style = \"text-align: right;\">0</td><td style = \"text-align: right;\">0</td><td style = \"text-align: right;\">0</td><td style = \"text-align: right;\">0</td><td style = \"text-align: right;\">0</td><td style = \"text-align: right;\">0</td><td style = \"text-align: right;\">0</td><td style = \"text-align: right;\">0</td><td style = \"text-align: right;\">0</td><td style = \"text-align: right;\">0</td><td style = \"text-align: right;\">0</td><td style = \"text-align: right;\">0</td><td style = \"text-align: right;\">0</td><td style = \"text-align: right;\">0</td><td style = \"text-align: right;\">0</td><td style = \"text-align: right;\">0</td><td style = \"text-align: right;\">0</td><td style = \"text-align: right;\">&ctdot;</td></tr><tr><td class = \"rowNumber\" style = \"font-weight: bold; text-align: right;\">6</td><td style = \"text-align: left;\">H</td><td style = \"text-align: right;\">122802</td><td style = \"text-align: right;\">8</td><td style = \"text-align: right;\">800</td><td style = \"text-align: right;\">4</td><td style = \"text-align: right;\">16</td><td style = \"text-align: right;\">1015675</td><td style = \"text-align: right;\">63</td><td style = \"text-align: right;\">5</td><td style = \"text-align: right;\">1</td><td style = \"text-align: right;\">3</td><td style = \"text-align: right;\">6</td><td style = \"text-align: right;\">3</td><td style = \"text-align: right;\">2</td><td style = \"text-align: right;\">2</td><td style = \"font-style: italic; text-align: right;\">missing</td><td style = \"text-align: right;\">150</td><td style = \"text-align: right;\">0</td><td style = \"text-align: right;\">2</td><td style = \"text-align: right;\">3</td><td style = \"text-align: right;\">3</td><td style = \"text-align: right;\">4800</td><td style = \"text-align: right;\">1</td><td style = \"font-style: italic; text-align: right;\">missing</td><td style = \"text-align: right;\">2</td><td style = \"text-align: right;\">1100</td><td style = \"text-align: right;\">2</td><td style = \"text-align: right;\">1</td><td style = \"text-align: right;\">1</td><td style = \"text-align: right;\">6</td><td style = \"font-style: italic; text-align: right;\">missing</td><td style = \"font-style: italic; text-align: right;\">missing</td><td style = \"font-style: italic; text-align: right;\">missing</td><td style = \"text-align: right;\">1</td><td style = \"text-align: right;\">1</td><td style = \"font-style: italic; text-align: right;\">missing</td><td style = \"text-align: right;\">24</td><td style = \"text-align: right;\">3</td><td style = \"text-align: right;\">2</td><td style = \"text-align: right;\">5</td><td style = \"text-align: right;\">1</td><td style = \"text-align: right;\">5200</td><td style = \"text-align: right;\">2</td><td style = \"font-style: italic; text-align: right;\">missing</td><td style = \"font-style: italic; text-align: right;\">missing</td><td style = \"text-align: right;\">2</td><td style = \"text-align: right;\">1</td><td style = \"text-align: right;\">5200</td><td style = \"text-align: right;\">0</td><td style = \"text-align: right;\">2</td><td style = \"text-align: right;\">2</td><td style = \"text-align: right;\">2</td><td style = \"text-align: right;\">1</td><td style = \"text-align: right;\">5</td><td style = \"text-align: right;\">3</td><td style = \"text-align: right;\">5</td><td style = \"text-align: right;\">0</td><td style = \"text-align: right;\">0</td><td style = \"text-align: right;\">3</td><td style = \"text-align: right;\">101</td><td style = \"text-align: right;\">0</td><td style = \"text-align: right;\">0</td><td style = \"text-align: right;\">1</td><td style = \"text-align: right;\">0</td><td style = \"text-align: right;\">0</td><td style = \"text-align: right;\">1</td><td style = \"text-align: right;\">2233</td><td style = \"text-align: right;\">3</td><td style = \"text-align: right;\">0</td><td style = \"text-align: right;\">0</td><td style = \"text-align: right;\">65</td><td style = \"text-align: right;\">2</td><td style = \"text-align: right;\">2</td><td style = \"text-align: right;\">1</td><td style = \"text-align: right;\">0</td><td style = \"text-align: right;\">0</td><td style = \"text-align: right;\">0</td><td style = \"text-align: right;\">0</td><td style = \"text-align: right;\">0</td><td style = \"text-align: right;\">0</td><td style = \"text-align: right;\">0</td><td style = \"text-align: right;\">0</td><td style = \"text-align: right;\">0</td><td style = \"text-align: right;\">0</td><td style = \"text-align: right;\">0</td><td style = \"text-align: right;\">0</td><td style = \"text-align: right;\">0</td><td style = \"text-align: right;\">0</td><td style = \"text-align: right;\">0</td><td style = \"text-align: right;\">1</td><td style = \"text-align: right;\">0</td><td style = \"text-align: right;\">0</td><td style = \"text-align: right;\">0</td><td style = \"text-align: right;\">0</td><td style = \"text-align: right;\">0</td><td style = \"text-align: right;\">0</td><td style = \"text-align: right;\">0</td><td style = \"text-align: right;\">0</td><td style = \"text-align: right;\">0</td><td style = \"text-align: right;\">0</td><td style = \"text-align: right;\">&ctdot;</td></tr><tr><td class = \"rowNumber\" style = \"font-weight: bold; text-align: right;\">7</td><td style = \"text-align: left;\">H</td><td style = \"text-align: right;\">133128</td><td style = \"text-align: right;\">8</td><td style = \"text-align: right;\">300</td><td style = \"text-align: right;\">4</td><td style = \"text-align: right;\">16</td><td style = \"text-align: right;\">1015675</td><td style = \"text-align: right;\">15</td><td style = \"text-align: right;\">2</td><td style = \"text-align: right;\">1</td><td style = \"text-align: right;\">3</td><td style = \"text-align: right;\">6</td><td style = \"text-align: right;\">1</td><td style = \"text-align: right;\">2</td><td style = \"text-align: right;\">2</td><td style = \"font-style: italic; text-align: right;\">missing</td><td style = \"text-align: right;\">100</td><td style = \"text-align: right;\">0</td><td style = \"text-align: right;\">770</td><td style = \"text-align: right;\">3</td><td style = \"text-align: right;\">4</td><td style = \"text-align: right;\">2000</td><td style = \"text-align: right;\">1</td><td style = \"font-style: italic; text-align: right;\">missing</td><td style = \"text-align: right;\">2</td><td style = \"text-align: right;\">870</td><td style = \"text-align: right;\">2</td><td style = \"text-align: right;\">1</td><td style = \"text-align: right;\">1</td><td style = \"text-align: right;\">5</td><td style = \"font-style: italic; text-align: right;\">missing</td><td style = \"font-style: italic; text-align: right;\">missing</td><td style = \"font-style: italic; text-align: right;\">missing</td><td style = \"text-align: right;\">1</td><td style = \"text-align: right;\">1</td><td style = \"font-style: italic; text-align: right;\">missing</td><td style = \"text-align: right;\">22</td><td style = \"text-align: right;\">4</td><td style = \"text-align: right;\">2</td><td style = \"text-align: right;\">9</td><td style = \"text-align: right;\">2</td><td style = \"text-align: right;\">32200</td><td style = \"text-align: right;\">4</td><td style = \"font-style: italic; text-align: right;\">missing</td><td style = \"font-style: italic; text-align: right;\">missing</td><td style = \"text-align: right;\">1</td><td style = \"text-align: right;\">1</td><td style = \"text-align: right;\">32200</td><td style = \"text-align: right;\">0</td><td style = \"text-align: right;\">4</td><td style = \"text-align: right;\">4</td><td style = \"text-align: right;\">4</td><td style = \"text-align: right;\">1</td><td style = \"text-align: right;\">7</td><td style = \"text-align: right;\">0</td><td style = \"text-align: right;\">2</td><td style = \"text-align: right;\">0</td><td style = \"text-align: right;\">0</td><td style = \"text-align: right;\">0</td><td style = \"text-align: right;\">53</td><td style = \"text-align: right;\">0</td><td style = \"text-align: right;\">0</td><td style = \"text-align: right;\">0</td><td style = \"text-align: right;\">2</td><td style = \"text-align: right;\">2</td><td style = \"text-align: right;\">2</td><td style = \"text-align: right;\">1409</td><td style = \"text-align: right;\">3</td><td style = \"text-align: right;\">0</td><td style = \"text-align: right;\">0</td><td style = \"text-align: right;\">37</td><td style = \"text-align: right;\">1</td><td style = \"text-align: right;\">6</td><td style = \"text-align: right;\">3</td><td style = \"text-align: right;\">0</td><td style = \"text-align: right;\">0</td><td style = \"text-align: right;\">0</td><td style = \"text-align: right;\">0</td><td style = \"text-align: right;\">0</td><td style = \"text-align: right;\">0</td><td style = \"text-align: right;\">0</td><td style = \"text-align: right;\">0</td><td style = \"text-align: right;\">1</td><td style = \"text-align: right;\">0</td><td style = \"text-align: right;\">0</td><td style = \"text-align: right;\">0</td><td style = \"text-align: right;\">0</td><td style = \"text-align: right;\">0</td><td style = \"text-align: right;\">0</td><td style = \"text-align: right;\">0</td><td style = \"text-align: right;\">0</td><td style = \"text-align: right;\">0</td><td style = \"text-align: right;\">0</td><td style = \"text-align: right;\">0</td><td style = \"text-align: right;\">0</td><td style = \"text-align: right;\">0</td><td style = \"text-align: right;\">0</td><td style = \"text-align: right;\">0</td><td style = \"text-align: right;\">0</td><td style = \"text-align: right;\">0</td><td style = \"text-align: right;\">&ctdot;</td></tr><tr><td class = \"rowNumber\" style = \"font-weight: bold; text-align: right;\">8</td><td style = \"text-align: left;\">H</td><td style = \"text-align: right;\">140896</td><td style = \"text-align: right;\">8</td><td style = \"text-align: right;\">400</td><td style = \"text-align: right;\">4</td><td style = \"text-align: right;\">16</td><td style = \"text-align: right;\">1015675</td><td style = \"text-align: right;\">72</td><td style = \"text-align: right;\">2</td><td style = \"text-align: right;\">1</td><td style = \"text-align: right;\">3</td><td style = \"text-align: right;\">6</td><td style = \"text-align: right;\">4</td><td style = \"text-align: right;\">2</td><td style = \"text-align: right;\">2</td><td style = \"font-style: italic; text-align: right;\">missing</td><td style = \"text-align: right;\">130</td><td style = \"text-align: right;\">0</td><td style = \"text-align: right;\">2</td><td style = \"text-align: right;\">3</td><td style = \"text-align: right;\">2</td><td style = \"text-align: right;\">800</td><td style = \"text-align: right;\">1</td><td style = \"font-style: italic; text-align: right;\">missing</td><td style = \"font-style: italic; text-align: right;\">missing</td><td style = \"font-style: italic; text-align: right;\">missing</td><td style = \"font-style: italic; text-align: right;\">missing</td><td style = \"text-align: right;\">3</td><td style = \"text-align: right;\">1</td><td style = \"text-align: right;\">9</td><td style = \"font-style: italic; text-align: right;\">missing</td><td style = \"font-style: italic; text-align: right;\">missing</td><td style = \"font-style: italic; text-align: right;\">missing</td><td style = \"text-align: right;\">1</td><td style = \"text-align: right;\">2</td><td style = \"font-style: italic; text-align: right;\">missing</td><td style = \"text-align: right;\">17</td><td style = \"text-align: right;\">2</td><td style = \"text-align: right;\">2</td><td style = \"text-align: right;\">8</td><td style = \"text-align: right;\">2</td><td style = \"text-align: right;\">32000</td><td style = \"text-align: right;\">4</td><td style = \"font-style: italic; text-align: right;\">missing</td><td style = \"font-style: italic; text-align: right;\">missing</td><td style = \"text-align: right;\">1</td><td style = \"text-align: right;\">1</td><td style = \"text-align: right;\">32000</td><td style = \"text-align: right;\">0</td><td style = \"text-align: right;\">4</td><td style = \"text-align: right;\">4</td><td style = \"text-align: right;\">4</td><td style = \"text-align: right;\">1</td><td style = \"text-align: right;\">6</td><td style = \"text-align: right;\">0</td><td style = \"text-align: right;\">2</td><td style = \"text-align: right;\">0</td><td style = \"text-align: right;\">0</td><td style = \"text-align: right;\">0</td><td style = \"text-align: right;\">11</td><td style = \"text-align: right;\">0</td><td style = \"text-align: right;\">0</td><td style = \"text-align: right;\">0</td><td style = \"text-align: right;\">0</td><td style = \"text-align: right;\">0</td><td style = \"text-align: right;\">1</td><td style = \"text-align: right;\">289</td><td style = \"font-style: italic; text-align: right;\">missing</td><td style = \"text-align: right;\">0</td><td style = \"text-align: right;\">0</td><td style = \"text-align: right;\">23</td><td style = \"text-align: right;\">1</td><td style = \"text-align: right;\">6</td><td style = \"text-align: right;\">3</td><td style = \"text-align: right;\">0</td><td style = \"text-align: right;\">0</td><td style = \"text-align: right;\">0</td><td style = \"text-align: right;\">0</td><td style = \"text-align: right;\">0</td><td style = \"text-align: right;\">0</td><td style = \"text-align: right;\">0</td><td style = \"text-align: right;\">0</td><td style = \"text-align: right;\">0</td><td style = \"text-align: right;\">0</td><td style = \"text-align: right;\">0</td><td style = \"text-align: right;\">0</td><td style = \"text-align: right;\">0</td><td style = \"text-align: right;\">0</td><td style = \"text-align: right;\">0</td><td style = \"text-align: right;\">0</td><td style = \"text-align: right;\">0</td><td style = \"text-align: right;\">0</td><td style = \"text-align: right;\">0</td><td style = \"text-align: right;\">0</td><td style = \"text-align: right;\">0</td><td style = \"text-align: right;\">0</td><td style = \"text-align: right;\">0</td><td style = \"text-align: right;\">0</td><td style = \"text-align: right;\">0</td><td style = \"text-align: right;\">0</td><td style = \"text-align: right;\">&ctdot;</td></tr><tr><td class = \"rowNumber\" style = \"font-weight: bold; text-align: right;\">9</td><td style = \"text-align: left;\">H</td><td style = \"text-align: right;\">169806</td><td style = \"text-align: right;\">8</td><td style = \"text-align: right;\">800</td><td style = \"text-align: right;\">4</td><td style = \"text-align: right;\">16</td><td style = \"text-align: right;\">1015675</td><td style = \"text-align: right;\">62</td><td style = \"text-align: right;\">1</td><td style = \"text-align: right;\">1</td><td style = \"text-align: right;\">3</td><td style = \"text-align: right;\">6</td><td style = \"text-align: right;\">4</td><td style = \"text-align: right;\">2</td><td style = \"text-align: right;\">2</td><td style = \"font-style: italic; text-align: right;\">missing</td><td style = \"text-align: right;\">100</td><td style = \"text-align: right;\">0</td><td style = \"text-align: right;\">2</td><td style = \"text-align: right;\">3</td><td style = \"text-align: right;\">3</td><td style = \"text-align: right;\">1500</td><td style = \"text-align: right;\">1</td><td style = \"font-style: italic; text-align: right;\">missing</td><td style = \"font-style: italic; text-align: right;\">missing</td><td style = \"font-style: italic; text-align: right;\">missing</td><td style = \"font-style: italic; text-align: right;\">missing</td><td style = \"text-align: right;\">3</td><td style = \"text-align: right;\">1</td><td style = \"text-align: right;\">8</td><td style = \"font-style: italic; text-align: right;\">missing</td><td style = \"font-style: italic; text-align: right;\">missing</td><td style = \"font-style: italic; text-align: right;\">missing</td><td style = \"text-align: right;\">1</td><td style = \"text-align: right;\">2</td><td style = \"font-style: italic; text-align: right;\">missing</td><td style = \"text-align: right;\">24</td><td style = \"text-align: right;\">2</td><td style = \"text-align: right;\">2</td><td style = \"text-align: right;\">6</td><td style = \"font-style: italic; text-align: right;\">missing</td><td style = \"font-style: italic; text-align: right;\">missing</td><td style = \"font-style: italic; text-align: right;\">missing</td><td style = \"font-style: italic; text-align: right;\">missing</td><td style = \"font-style: italic; text-align: right;\">missing</td><td style = \"text-align: right;\">1</td><td style = \"text-align: right;\">4</td><td style = \"text-align: right;\">30700</td><td style = \"text-align: right;\">0</td><td style = \"text-align: right;\">4</td><td style = \"text-align: right;\">4</td><td style = \"text-align: right;\">4</td><td style = \"text-align: right;\">1</td><td style = \"text-align: right;\">7</td><td style = \"text-align: right;\">0</td><td style = \"font-style: italic; text-align: right;\">missing</td><td style = \"text-align: right;\">0</td><td style = \"text-align: right;\">0</td><td style = \"text-align: right;\">0</td><td style = \"text-align: right;\">28</td><td style = \"text-align: right;\">0</td><td style = \"text-align: right;\">0</td><td style = \"text-align: right;\">0</td><td style = \"text-align: right;\">1</td><td style = \"text-align: right;\">1</td><td style = \"text-align: right;\">1</td><td style = \"text-align: right;\">725</td><td style = \"font-style: italic; text-align: right;\">missing</td><td style = \"text-align: right;\">0</td><td style = \"text-align: right;\">0</td><td style = \"text-align: right;\">64</td><td style = \"font-style: italic; text-align: right;\">missing</td><td style = \"font-style: italic; text-align: right;\">missing</td><td style = \"font-style: italic; text-align: right;\">missing</td><td style = \"text-align: right;\">0</td><td style = \"text-align: right;\">0</td><td style = \"text-align: right;\">0</td><td style = \"text-align: right;\">0</td><td style = \"text-align: right;\">0</td><td style = \"text-align: right;\">0</td><td style = \"text-align: right;\">0</td><td style = \"text-align: right;\">0</td><td style = \"text-align: right;\">1</td><td style = \"text-align: right;\">1</td><td style = \"text-align: right;\">0</td><td style = \"text-align: right;\">0</td><td style = \"text-align: right;\">0</td><td style = \"text-align: right;\">0</td><td style = \"text-align: right;\">0</td><td style = \"text-align: right;\">0</td><td style = \"text-align: right;\">0</td><td style = \"text-align: right;\">0</td><td style = \"text-align: right;\">0</td><td style = \"text-align: right;\">0</td><td style = \"text-align: right;\">0</td><td style = \"text-align: right;\">0</td><td style = \"text-align: right;\">0</td><td style = \"text-align: right;\">0</td><td style = \"text-align: right;\">0</td><td style = \"text-align: right;\">0</td><td style = \"text-align: right;\">&ctdot;</td></tr><tr><td class = \"rowNumber\" style = \"font-weight: bold; text-align: right;\">10</td><td style = \"text-align: left;\">H</td><td style = \"text-align: right;\">173013</td><td style = \"text-align: right;\">8</td><td style = \"text-align: right;\">500</td><td style = \"text-align: right;\">4</td><td style = \"text-align: right;\">16</td><td style = \"text-align: right;\">1015675</td><td style = \"text-align: right;\">77</td><td style = \"text-align: right;\">2</td><td style = \"text-align: right;\">1</td><td style = \"text-align: right;\">3</td><td style = \"text-align: right;\">6</td><td style = \"text-align: right;\">3</td><td style = \"text-align: right;\">2</td><td style = \"text-align: right;\">2</td><td style = \"font-style: italic; text-align: right;\">missing</td><td style = \"text-align: right;\">50</td><td style = \"text-align: right;\">0</td><td style = \"text-align: right;\">2</td><td style = \"text-align: right;\">70</td><td style = \"text-align: right;\">3</td><td style = \"text-align: right;\">200</td><td style = \"text-align: right;\">1</td><td style = \"font-style: italic; text-align: right;\">missing</td><td style = \"text-align: right;\">1</td><td style = \"text-align: right;\">900</td><td style = \"text-align: right;\">2</td><td style = \"text-align: right;\">1</td><td style = \"text-align: right;\">1</td><td style = \"text-align: right;\">6</td><td style = \"font-style: italic; text-align: right;\">missing</td><td style = \"font-style: italic; text-align: right;\">missing</td><td style = \"font-style: italic; text-align: right;\">missing</td><td style = \"text-align: right;\">1</td><td style = \"text-align: right;\">1</td><td style = \"font-style: italic; text-align: right;\">missing</td><td style = \"text-align: right;\">20</td><td style = \"text-align: right;\">5</td><td style = \"text-align: right;\">2</td><td style = \"text-align: right;\">2</td><td style = \"text-align: right;\">2</td><td style = \"text-align: right;\">120000</td><td style = \"text-align: right;\">4</td><td style = \"font-style: italic; text-align: right;\">missing</td><td style = \"font-style: italic; text-align: right;\">missing</td><td style = \"text-align: right;\">1</td><td style = \"text-align: right;\">1</td><td style = \"text-align: right;\">120000</td><td style = \"text-align: right;\">0</td><td style = \"text-align: right;\">4</td><td style = \"text-align: right;\">4</td><td style = \"text-align: right;\">4</td><td style = \"text-align: right;\">1</td><td style = \"text-align: right;\">3</td><td style = \"text-align: right;\">0</td><td style = \"text-align: right;\">2</td><td style = \"text-align: right;\">0</td><td style = \"text-align: right;\">0</td><td style = \"text-align: right;\">0</td><td style = \"text-align: right;\">11</td><td style = \"text-align: right;\">0</td><td style = \"text-align: right;\">0</td><td style = \"text-align: right;\">0</td><td style = \"text-align: right;\">2</td><td style = \"text-align: right;\">0</td><td style = \"text-align: right;\">1</td><td style = \"text-align: right;\">1120</td><td style = \"text-align: right;\">3</td><td style = \"text-align: right;\">0</td><td style = \"text-align: right;\">0</td><td style = \"text-align: right;\">24</td><td style = \"text-align: right;\">1</td><td style = \"text-align: right;\">3</td><td style = \"text-align: right;\">3</td><td style = \"text-align: right;\">0</td><td style = \"text-align: right;\">0</td><td style = \"text-align: right;\">0</td><td style = \"text-align: right;\">0</td><td style = \"text-align: right;\">0</td><td style = \"text-align: right;\">0</td><td style = \"text-align: right;\">0</td><td style = \"text-align: right;\">0</td><td style = \"text-align: right;\">0</td><td style = \"text-align: right;\">0</td><td style = \"text-align: right;\">0</td><td style = \"text-align: right;\">0</td><td style = \"text-align: right;\">0</td><td style = \"text-align: right;\">0</td><td style = \"text-align: right;\">0</td><td style = \"text-align: right;\">0</td><td style = \"text-align: right;\">0</td><td style = \"text-align: right;\">0</td><td style = \"text-align: right;\">0</td><td style = \"text-align: right;\">0</td><td style = \"text-align: right;\">0</td><td style = \"text-align: right;\">0</td><td style = \"text-align: right;\">0</td><td style = \"text-align: right;\">0</td><td style = \"text-align: right;\">0</td><td style = \"text-align: right;\">0</td><td style = \"text-align: right;\">&ctdot;</td></tr><tr><td class = \"rowNumber\" style = \"font-weight: bold; text-align: right;\">11</td><td style = \"text-align: left;\">H</td><td style = \"text-align: right;\">176884</td><td style = \"text-align: right;\">8</td><td style = \"text-align: right;\">900</td><td style = \"text-align: right;\">4</td><td style = \"text-align: right;\">16</td><td style = \"text-align: right;\">1015675</td><td style = \"text-align: right;\">88</td><td style = \"text-align: right;\">1</td><td style = \"text-align: right;\">1</td><td style = \"text-align: right;\">3</td><td style = \"text-align: right;\">6</td><td style = \"text-align: right;\">4</td><td style = \"text-align: right;\">2</td><td style = \"text-align: right;\">2</td><td style = \"font-style: italic; text-align: right;\">missing</td><td style = \"text-align: right;\">30</td><td style = \"text-align: right;\">0</td><td style = \"text-align: right;\">3500</td><td style = \"text-align: right;\">3</td><td style = \"text-align: right;\">4</td><td style = \"text-align: right;\">300</td><td style = \"text-align: right;\">1</td><td style = \"font-style: italic; text-align: right;\">missing</td><td style = \"font-style: italic; text-align: right;\">missing</td><td style = \"font-style: italic; text-align: right;\">missing</td><td style = \"font-style: italic; text-align: right;\">missing</td><td style = \"text-align: right;\">3</td><td style = \"text-align: right;\">1</td><td style = \"text-align: right;\">9</td><td style = \"font-style: italic; text-align: right;\">missing</td><td style = \"font-style: italic; text-align: right;\">missing</td><td style = \"font-style: italic; text-align: right;\">missing</td><td style = \"text-align: right;\">1</td><td style = \"text-align: right;\">2</td><td style = \"font-style: italic; text-align: right;\">missing</td><td style = \"text-align: right;\">10</td><td style = \"text-align: right;\">2</td><td style = \"text-align: right;\">2</td><td style = \"text-align: right;\">8</td><td style = \"font-style: italic; text-align: right;\">missing</td><td style = \"font-style: italic; text-align: right;\">missing</td><td style = \"font-style: italic; text-align: right;\">missing</td><td style = \"font-style: italic; text-align: right;\">missing</td><td style = \"font-style: italic; text-align: right;\">missing</td><td style = \"text-align: right;\">1</td><td style = \"text-align: right;\">6</td><td style = \"text-align: right;\">17280</td><td style = \"text-align: right;\">0</td><td style = \"text-align: right;\">4</td><td style = \"text-align: right;\">4</td><td style = \"text-align: right;\">4</td><td style = \"text-align: right;\">1</td><td style = \"text-align: right;\">7</td><td style = \"text-align: right;\">0</td><td style = \"font-style: italic; text-align: right;\">missing</td><td style = \"text-align: right;\">0</td><td style = \"text-align: right;\">0</td><td style = \"text-align: right;\">0</td><td style = \"text-align: right;\">28</td><td style = \"text-align: right;\">0</td><td style = \"text-align: right;\">0</td><td style = \"text-align: right;\">0</td><td style = \"text-align: right;\">1</td><td style = \"text-align: right;\">1</td><td style = \"text-align: right;\">2</td><td style = \"text-align: right;\">397</td><td style = \"font-style: italic; text-align: right;\">missing</td><td style = \"text-align: right;\">0</td><td style = \"text-align: right;\">0</td><td style = \"text-align: right;\">14</td><td style = \"font-style: italic; text-align: right;\">missing</td><td style = \"font-style: italic; text-align: right;\">missing</td><td style = \"font-style: italic; text-align: right;\">missing</td><td style = \"text-align: right;\">0</td><td style = \"text-align: right;\">1</td><td style = \"text-align: right;\">0</td><td style = \"text-align: right;\">0</td><td style = \"text-align: right;\">0</td><td style = \"text-align: right;\">0</td><td style = \"text-align: right;\">0</td><td style = \"text-align: right;\">0</td><td style = \"text-align: right;\">0</td><td style = \"text-align: right;\">0</td><td style = \"text-align: right;\">0</td><td style = \"text-align: right;\">1</td><td style = \"text-align: right;\">0</td><td style = \"text-align: right;\">0</td><td style = \"text-align: right;\">0</td><td style = \"text-align: right;\">0</td><td style = \"text-align: right;\">0</td><td style = \"text-align: right;\">0</td><td style = \"text-align: right;\">0</td><td style = \"text-align: right;\">0</td><td style = \"text-align: right;\">0</td><td style = \"text-align: right;\">0</td><td style = \"text-align: right;\">0</td><td style = \"text-align: right;\">0</td><td style = \"text-align: right;\">0</td><td style = \"text-align: right;\">0</td><td style = \"text-align: right;\">&ctdot;</td></tr><tr><td class = \"rowNumber\" style = \"font-weight: bold; text-align: right;\">12</td><td style = \"text-align: left;\">H</td><td style = \"text-align: right;\">183434</td><td style = \"text-align: right;\">8</td><td style = \"text-align: right;\">500</td><td style = \"text-align: right;\">4</td><td style = \"text-align: right;\">16</td><td style = \"text-align: right;\">1015675</td><td style = \"text-align: right;\">54</td><td style = \"text-align: right;\">2</td><td style = \"text-align: right;\">1</td><td style = \"text-align: right;\">3</td><td style = \"text-align: right;\">6</td><td style = \"text-align: right;\">3</td><td style = \"text-align: right;\">2</td><td style = \"text-align: right;\">2</td><td style = \"font-style: italic; text-align: right;\">missing</td><td style = \"text-align: right;\">200</td><td style = \"text-align: right;\">0</td><td style = \"text-align: right;\">500</td><td style = \"text-align: right;\">3</td><td style = \"text-align: right;\">6</td><td style = \"text-align: right;\">500</td><td style = \"text-align: right;\">1</td><td style = \"font-style: italic; text-align: right;\">missing</td><td style = \"font-style: italic; text-align: right;\">missing</td><td style = \"font-style: italic; text-align: right;\">missing</td><td style = \"font-style: italic; text-align: right;\">missing</td><td style = \"text-align: right;\">3</td><td style = \"text-align: right;\">1</td><td style = \"text-align: right;\">5</td><td style = \"font-style: italic; text-align: right;\">missing</td><td style = \"font-style: italic; text-align: right;\">missing</td><td style = \"font-style: italic; text-align: right;\">missing</td><td style = \"text-align: right;\">1</td><td style = \"text-align: right;\">2</td><td style = \"font-style: italic; text-align: right;\">missing</td><td style = \"text-align: right;\">14</td><td style = \"text-align: right;\">3</td><td style = \"text-align: right;\">2</td><td style = \"text-align: right;\">9</td><td style = \"text-align: right;\">4</td><td style = \"text-align: right;\">12000</td><td style = \"text-align: right;\">4</td><td style = \"font-style: italic; text-align: right;\">missing</td><td style = \"font-style: italic; text-align: right;\">missing</td><td style = \"text-align: right;\">3</td><td style = \"text-align: right;\">1</td><td style = \"text-align: right;\">12000</td><td style = \"text-align: right;\">0</td><td style = \"text-align: right;\">4</td><td style = \"text-align: right;\">4</td><td style = \"text-align: right;\">4</td><td style = \"text-align: right;\">1</td><td style = \"text-align: right;\">6</td><td style = \"text-align: right;\">0</td><td style = \"text-align: right;\">2</td><td style = \"text-align: right;\">0</td><td style = \"text-align: right;\">0</td><td style = \"text-align: right;\">0</td><td style = \"text-align: right;\">37</td><td style = \"text-align: right;\">0</td><td style = \"text-align: right;\">0</td><td style = \"text-align: right;\">0</td><td style = \"text-align: right;\">2</td><td style = \"text-align: right;\">2</td><td style = \"text-align: right;\">1</td><td style = \"text-align: right;\">367</td><td style = \"font-style: italic; text-align: right;\">missing</td><td style = \"text-align: right;\">0</td><td style = \"text-align: right;\">0</td><td style = \"text-align: right;\">22</td><td style = \"text-align: right;\">0</td><td style = \"text-align: right;\">9</td><td style = \"text-align: right;\">9</td><td style = \"text-align: right;\">0</td><td style = \"text-align: right;\">0</td><td style = \"text-align: right;\">0</td><td style = \"text-align: right;\">0</td><td style = \"text-align: right;\">0</td><td style = \"text-align: right;\">0</td><td style = \"text-align: right;\">0</td><td style = \"text-align: right;\">0</td><td style = \"text-align: right;\">0</td><td style = \"text-align: right;\">0</td><td style = \"text-align: right;\">0</td><td style = \"text-align: right;\">0</td><td style = \"text-align: right;\">0</td><td style = \"text-align: right;\">0</td><td style = \"text-align: right;\">0</td><td style = \"text-align: right;\">0</td><td style = \"text-align: right;\">0</td><td style = \"text-align: right;\">0</td><td style = \"text-align: right;\">0</td><td style = \"text-align: right;\">0</td><td style = \"text-align: right;\">1</td><td style = \"text-align: right;\">0</td><td style = \"text-align: right;\">0</td><td style = \"text-align: right;\">0</td><td style = \"text-align: right;\">0</td><td style = \"text-align: right;\">0</td><td style = \"text-align: right;\">&ctdot;</td></tr><tr><td class = \"rowNumber\" style = \"font-weight: bold; text-align: right;\">13</td><td style = \"text-align: left;\">H</td><td style = \"text-align: right;\">203578</td><td style = \"text-align: right;\">8</td><td style = \"text-align: right;\">800</td><td style = \"text-align: right;\">4</td><td style = \"text-align: right;\">16</td><td style = \"text-align: right;\">1015675</td><td style = \"text-align: right;\">70</td><td style = \"text-align: right;\">2</td><td style = \"text-align: right;\">1</td><td style = \"text-align: right;\">3</td><td style = \"text-align: right;\">6</td><td style = \"text-align: right;\">3</td><td style = \"text-align: right;\">2</td><td style = \"text-align: right;\">2</td><td style = \"font-style: italic; text-align: right;\">missing</td><td style = \"text-align: right;\">50</td><td style = \"text-align: right;\">0</td><td style = \"text-align: right;\">600</td><td style = \"text-align: right;\">3</td><td style = \"text-align: right;\">5</td><td style = \"text-align: right;\">200</td><td style = \"text-align: right;\">1</td><td style = \"font-style: italic; text-align: right;\">missing</td><td style = \"font-style: italic; text-align: right;\">missing</td><td style = \"font-style: italic; text-align: right;\">missing</td><td style = \"font-style: italic; text-align: right;\">missing</td><td style = \"text-align: right;\">3</td><td style = \"text-align: right;\">1</td><td style = \"text-align: right;\">5</td><td style = \"font-style: italic; text-align: right;\">missing</td><td style = \"font-style: italic; text-align: right;\">missing</td><td style = \"font-style: italic; text-align: right;\">missing</td><td style = \"text-align: right;\">1</td><td style = \"text-align: right;\">2</td><td style = \"font-style: italic; text-align: right;\">missing</td><td style = \"text-align: right;\">15</td><td style = \"text-align: right;\">2</td><td style = \"text-align: right;\">2</td><td style = \"text-align: right;\">9</td><td style = \"text-align: right;\">2</td><td style = \"text-align: right;\">24430</td><td style = \"text-align: right;\">4</td><td style = \"font-style: italic; text-align: right;\">missing</td><td style = \"font-style: italic; text-align: right;\">missing</td><td style = \"text-align: right;\">1</td><td style = \"text-align: right;\">1</td><td style = \"text-align: right;\">24430</td><td style = \"text-align: right;\">0</td><td style = \"text-align: right;\">4</td><td style = \"text-align: right;\">4</td><td style = \"text-align: right;\">4</td><td style = \"text-align: right;\">1</td><td style = \"text-align: right;\">7</td><td style = \"text-align: right;\">0</td><td style = \"text-align: right;\">2</td><td style = \"text-align: right;\">0</td><td style = \"text-align: right;\">0</td><td style = \"text-align: right;\">0</td><td style = \"text-align: right;\">8</td><td style = \"text-align: right;\">0</td><td style = \"text-align: right;\">0</td><td style = \"text-align: right;\">0</td><td style = \"text-align: right;\">2</td><td style = \"text-align: right;\">2</td><td style = \"text-align: right;\">1</td><td style = \"text-align: right;\">159</td><td style = \"font-style: italic; text-align: right;\">missing</td><td style = \"text-align: right;\">0</td><td style = \"text-align: right;\">0</td><td style = \"text-align: right;\">12</td><td style = \"text-align: right;\">1</td><td style = \"text-align: right;\">3</td><td style = \"text-align: right;\">3</td><td style = \"text-align: right;\">0</td><td style = \"text-align: right;\">0</td><td style = \"text-align: right;\">0</td><td style = \"text-align: right;\">0</td><td style = \"text-align: right;\">0</td><td style = \"text-align: right;\">0</td><td style = \"text-align: right;\">0</td><td style = \"text-align: right;\">0</td><td style = \"text-align: right;\">0</td><td style = \"text-align: right;\">0</td><td style = \"text-align: right;\">0</td><td style = \"text-align: right;\">1</td><td style = \"text-align: right;\">0</td><td style = \"text-align: right;\">0</td><td style = \"text-align: right;\">0</td><td style = \"text-align: right;\">0</td><td style = \"text-align: right;\">0</td><td style = \"text-align: right;\">0</td><td style = \"text-align: right;\">0</td><td style = \"text-align: right;\">0</td><td style = \"text-align: right;\">0</td><td style = \"text-align: right;\">0</td><td style = \"text-align: right;\">0</td><td style = \"text-align: right;\">0</td><td style = \"text-align: right;\">0</td><td style = \"text-align: right;\">0</td><td style = \"text-align: right;\">&ctdot;</td></tr><tr><td style = \"text-align: right;\">&vellip;</td><td style = \"text-align: right;\">&vellip;</td><td style = \"text-align: right;\">&vellip;</td><td style = \"text-align: right;\">&vellip;</td><td style = \"text-align: right;\">&vellip;</td><td style = \"text-align: right;\">&vellip;</td><td style = \"text-align: right;\">&vellip;</td><td style = \"text-align: right;\">&vellip;</td><td style = \"text-align: right;\">&vellip;</td><td style = \"text-align: right;\">&vellip;</td><td style = \"text-align: right;\">&vellip;</td><td style = \"text-align: right;\">&vellip;</td><td style = \"text-align: right;\">&vellip;</td><td style = \"text-align: right;\">&vellip;</td><td style = \"text-align: right;\">&vellip;</td><td style = \"text-align: right;\">&vellip;</td><td style = \"text-align: right;\">&vellip;</td><td style = \"text-align: right;\">&vellip;</td><td style = \"text-align: right;\">&vellip;</td><td style = \"text-align: right;\">&vellip;</td><td style = \"text-align: right;\">&vellip;</td><td style = \"text-align: right;\">&vellip;</td><td style = \"text-align: right;\">&vellip;</td><td style = \"text-align: right;\">&vellip;</td><td style = \"text-align: right;\">&vellip;</td><td style = \"text-align: right;\">&vellip;</td><td style = \"text-align: right;\">&vellip;</td><td style = \"text-align: right;\">&vellip;</td><td style = \"text-align: right;\">&vellip;</td><td style = \"text-align: right;\">&vellip;</td><td style = \"text-align: right;\">&vellip;</td><td style = \"text-align: right;\">&vellip;</td><td style = \"text-align: right;\">&vellip;</td><td style = \"text-align: right;\">&vellip;</td><td style = \"text-align: right;\">&vellip;</td><td style = \"text-align: right;\">&vellip;</td><td style = \"text-align: right;\">&vellip;</td><td style = \"text-align: right;\">&vellip;</td><td style = \"text-align: right;\">&vellip;</td><td style = \"text-align: right;\">&vellip;</td><td style = \"text-align: right;\">&vellip;</td><td style = \"text-align: right;\">&vellip;</td><td style = \"text-align: right;\">&vellip;</td><td style = \"text-align: right;\">&vellip;</td><td style = \"text-align: right;\">&vellip;</td><td style = \"text-align: right;\">&vellip;</td><td style = \"text-align: right;\">&vellip;</td><td style = \"text-align: right;\">&vellip;</td><td style = \"text-align: right;\">&vellip;</td><td style = \"text-align: right;\">&vellip;</td><td style = \"text-align: right;\">&vellip;</td><td style = \"text-align: right;\">&vellip;</td><td style = \"text-align: right;\">&vellip;</td><td style = \"text-align: right;\">&vellip;</td><td style = \"text-align: right;\">&vellip;</td><td style = \"text-align: right;\">&vellip;</td><td style = \"text-align: right;\">&vellip;</td><td style = \"text-align: right;\">&vellip;</td><td style = \"text-align: right;\">&vellip;</td><td style = \"text-align: right;\">&vellip;</td><td style = \"text-align: right;\">&vellip;</td><td style = \"text-align: right;\">&vellip;</td><td style = \"text-align: right;\">&vellip;</td><td style = \"text-align: right;\">&vellip;</td><td style = \"text-align: right;\">&vellip;</td><td style = \"text-align: right;\">&vellip;</td><td style = \"text-align: right;\">&vellip;</td><td style = \"text-align: right;\">&vellip;</td><td style = \"text-align: right;\">&vellip;</td><td style = \"text-align: right;\">&vellip;</td><td style = \"text-align: right;\">&vellip;</td><td style = \"text-align: right;\">&vellip;</td><td style = \"text-align: right;\">&vellip;</td><td style = \"text-align: right;\">&vellip;</td><td style = \"text-align: right;\">&vellip;</td><td style = \"text-align: right;\">&vellip;</td><td style = \"text-align: right;\">&vellip;</td><td style = \"text-align: right;\">&vellip;</td><td style = \"text-align: right;\">&vellip;</td><td style = \"text-align: right;\">&vellip;</td><td style = \"text-align: right;\">&vellip;</td><td style = \"text-align: right;\">&vellip;</td><td style = \"text-align: right;\">&vellip;</td><td style = \"text-align: right;\">&vellip;</td><td style = \"text-align: right;\">&vellip;</td><td style = \"text-align: right;\">&vellip;</td><td style = \"text-align: right;\">&vellip;</td><td style = \"text-align: right;\">&vellip;</td><td style = \"text-align: right;\">&vellip;</td><td style = \"text-align: right;\">&vellip;</td><td style = \"text-align: right;\">&vellip;</td><td style = \"text-align: right;\">&vellip;</td><td style = \"text-align: right;\">&vellip;</td><td style = \"text-align: right;\">&vellip;</td><td style = \"text-align: right;\">&vellip;</td><td style = \"text-align: right;\">&vellip;</td><td style = \"text-align: right;\">&vellip;</td><td style = \"text-align: right;\">&vellip;</td><td style = \"text-align: right;\">&vellip;</td><td style = \"text-align: right;\">&vellip;</td><td style = \"text-align: right;\">&vellip;</td><td style = \"text-align: right;\">&dtdot;</td></tr><tr><td class = \"rowNumber\" style = \"font-weight: bold; text-align: right;\">66</td><td style = \"text-align: left;\">H</td><td style = \"text-align: right;\">1095632</td><td style = \"text-align: right;\">8</td><td style = \"text-align: right;\">900</td><td style = \"text-align: right;\">4</td><td style = \"text-align: right;\">16</td><td style = \"text-align: right;\">1015675</td><td style = \"text-align: right;\">13</td><td style = \"text-align: right;\">2</td><td style = \"text-align: right;\">1</td><td style = \"text-align: right;\">3</td><td style = \"text-align: right;\">6</td><td style = \"text-align: right;\">5</td><td style = \"text-align: right;\">2</td><td style = \"text-align: right;\">2</td><td style = \"font-style: italic; text-align: right;\">missing</td><td style = \"text-align: right;\">30</td><td style = \"text-align: right;\">0</td><td style = \"text-align: right;\">2</td><td style = \"text-align: right;\">100</td><td style = \"text-align: right;\">2</td><td style = \"text-align: right;\">800</td><td style = \"text-align: right;\">1</td><td style = \"font-style: italic; text-align: right;\">missing</td><td style = \"font-style: italic; text-align: right;\">missing</td><td style = \"font-style: italic; text-align: right;\">missing</td><td style = \"font-style: italic; text-align: right;\">missing</td><td style = \"text-align: right;\">3</td><td style = \"text-align: right;\">1</td><td style = \"text-align: right;\">8</td><td style = \"font-style: italic; text-align: right;\">missing</td><td style = \"font-style: italic; text-align: right;\">missing</td><td style = \"font-style: italic; text-align: right;\">missing</td><td style = \"text-align: right;\">1</td><td style = \"text-align: right;\">2</td><td style = \"font-style: italic; text-align: right;\">missing</td><td style = \"text-align: right;\">17</td><td style = \"text-align: right;\">2</td><td style = \"text-align: right;\">160</td><td style = \"text-align: right;\">7</td><td style = \"text-align: right;\">1</td><td style = \"text-align: right;\">39421</td><td style = \"text-align: right;\">4</td><td style = \"font-style: italic; text-align: right;\">missing</td><td style = \"font-style: italic; text-align: right;\">missing</td><td style = \"text-align: right;\">5</td><td style = \"text-align: right;\">1</td><td style = \"text-align: right;\">39421</td><td style = \"text-align: right;\">0</td><td style = \"text-align: right;\">4</td><td style = \"text-align: right;\">4</td><td style = \"text-align: right;\">4</td><td style = \"text-align: right;\">1</td><td style = \"text-align: right;\">5</td><td style = \"text-align: right;\">0</td><td style = \"text-align: right;\">2</td><td style = \"text-align: right;\">0</td><td style = \"text-align: right;\">0</td><td style = \"text-align: right;\">0</td><td style = \"text-align: right;\">12</td><td style = \"text-align: right;\">0</td><td style = \"text-align: right;\">0</td><td style = \"text-align: right;\">0</td><td style = \"text-align: right;\">0</td><td style = \"text-align: right;\">0</td><td style = \"text-align: right;\">1</td><td style = \"text-align: right;\">398</td><td style = \"font-style: italic; text-align: right;\">missing</td><td style = \"text-align: right;\">0</td><td style = \"text-align: right;\">0</td><td style = \"text-align: right;\">34</td><td style = \"text-align: right;\">2</td><td style = \"text-align: right;\">5</td><td style = \"text-align: right;\">1</td><td style = \"text-align: right;\">0</td><td style = \"text-align: right;\">0</td><td style = \"text-align: right;\">0</td><td style = \"text-align: right;\">0</td><td style = \"text-align: right;\">0</td><td style = \"text-align: right;\">0</td><td style = \"text-align: right;\">0</td><td style = \"text-align: right;\">0</td><td style = \"text-align: right;\">1</td><td style = \"text-align: right;\">0</td><td style = \"text-align: right;\">0</td><td style = \"text-align: right;\">0</td><td style = \"text-align: right;\">0</td><td style = \"text-align: right;\">0</td><td style = \"text-align: right;\">0</td><td style = \"text-align: right;\">0</td><td style = \"text-align: right;\">0</td><td style = \"text-align: right;\">0</td><td style = \"text-align: right;\">0</td><td style = \"text-align: right;\">0</td><td style = \"text-align: right;\">0</td><td style = \"text-align: right;\">0</td><td style = \"text-align: right;\">0</td><td style = \"text-align: right;\">0</td><td style = \"text-align: right;\">0</td><td style = \"text-align: right;\">0</td><td style = \"text-align: right;\">&ctdot;</td></tr><tr><td class = \"rowNumber\" style = \"font-weight: bold; text-align: right;\">67</td><td style = \"text-align: left;\">H</td><td style = \"text-align: right;\">1114504</td><td style = \"text-align: right;\">8</td><td style = \"text-align: right;\">200</td><td style = \"text-align: right;\">4</td><td style = \"text-align: right;\">16</td><td style = \"text-align: right;\">1015675</td><td style = \"text-align: right;\">22</td><td style = \"text-align: right;\">2</td><td style = \"text-align: right;\">1</td><td style = \"text-align: right;\">3</td><td style = \"text-align: right;\">6</td><td style = \"text-align: right;\">2</td><td style = \"text-align: right;\">2</td><td style = \"text-align: right;\">2</td><td style = \"font-style: italic; text-align: right;\">missing</td><td style = \"text-align: right;\">190</td><td style = \"text-align: right;\">0</td><td style = \"text-align: right;\">1200</td><td style = \"text-align: right;\">200</td><td style = \"text-align: right;\">2</td><td style = \"font-style: italic; text-align: right;\">missing</td><td style = \"text-align: right;\">1</td><td style = \"font-style: italic; text-align: right;\">missing</td><td style = \"font-style: italic; text-align: right;\">missing</td><td style = \"font-style: italic; text-align: right;\">missing</td><td style = \"font-style: italic; text-align: right;\">missing</td><td style = \"font-style: italic; text-align: right;\">missing</td><td style = \"text-align: right;\">1</td><td style = \"text-align: right;\">5</td><td style = \"font-style: italic; text-align: right;\">missing</td><td style = \"font-style: italic; text-align: right;\">missing</td><td style = \"font-style: italic; text-align: right;\">missing</td><td style = \"text-align: right;\">1</td><td style = \"text-align: right;\">4</td><td style = \"font-style: italic; text-align: right;\">missing</td><td style = \"font-style: italic; text-align: right;\">missing</td><td style = \"text-align: right;\">2</td><td style = \"text-align: right;\">2</td><td style = \"text-align: right;\">9</td><td style = \"text-align: right;\">4</td><td style = \"text-align: right;\">17300</td><td style = \"text-align: right;\">4</td><td style = \"font-style: italic; text-align: right;\">missing</td><td style = \"font-style: italic; text-align: right;\">missing</td><td style = \"text-align: right;\">1</td><td style = \"text-align: right;\">1</td><td style = \"text-align: right;\">17300</td><td style = \"text-align: right;\">0</td><td style = \"text-align: right;\">4</td><td style = \"text-align: right;\">4</td><td style = \"text-align: right;\">4</td><td style = \"text-align: right;\">1</td><td style = \"text-align: right;\">7</td><td style = \"text-align: right;\">0</td><td style = \"text-align: right;\">2</td><td style = \"text-align: right;\">0</td><td style = \"text-align: right;\">0</td><td style = \"text-align: right;\">0</td><td style = \"font-style: italic; text-align: right;\">missing</td><td style = \"text-align: right;\">0</td><td style = \"text-align: right;\">0</td><td style = \"text-align: right;\">0</td><td style = \"text-align: right;\">2</td><td style = \"text-align: right;\">0</td><td style = \"text-align: right;\">1</td><td style = \"font-style: italic; text-align: right;\">missing</td><td style = \"font-style: italic; text-align: right;\">missing</td><td style = \"text-align: right;\">0</td><td style = \"text-align: right;\">0</td><td style = \"font-style: italic; text-align: right;\">missing</td><td style = \"text-align: right;\">0</td><td style = \"text-align: right;\">9</td><td style = \"text-align: right;\">9</td><td style = \"text-align: right;\">0</td><td style = \"text-align: right;\">0</td><td style = \"text-align: right;\">0</td><td style = \"text-align: right;\">0</td><td style = \"text-align: right;\">0</td><td style = \"text-align: right;\">0</td><td style = \"text-align: right;\">0</td><td style = \"text-align: right;\">0</td><td style = \"text-align: right;\">0</td><td style = \"text-align: right;\">0</td><td style = \"text-align: right;\">0</td><td style = \"text-align: right;\">0</td><td style = \"text-align: right;\">0</td><td style = \"text-align: right;\">0</td><td style = \"text-align: right;\">0</td><td style = \"text-align: right;\">0</td><td style = \"text-align: right;\">0</td><td style = \"text-align: right;\">0</td><td style = \"text-align: right;\">0</td><td style = \"text-align: right;\">0</td><td style = \"text-align: right;\">0</td><td style = \"text-align: right;\">0</td><td style = \"text-align: right;\">0</td><td style = \"text-align: right;\">0</td><td style = \"text-align: right;\">0</td><td style = \"text-align: right;\">0</td><td style = \"text-align: right;\">&ctdot;</td></tr><tr><td class = \"rowNumber\" style = \"font-weight: bold; text-align: right;\">68</td><td style = \"text-align: left;\">H</td><td style = \"text-align: right;\">1134401</td><td style = \"text-align: right;\">8</td><td style = \"text-align: right;\">800</td><td style = \"text-align: right;\">4</td><td style = \"text-align: right;\">16</td><td style = \"text-align: right;\">1015675</td><td style = \"text-align: right;\">80</td><td style = \"text-align: right;\">2</td><td style = \"text-align: right;\">1</td><td style = \"text-align: right;\">3</td><td style = \"text-align: right;\">6</td><td style = \"text-align: right;\">3</td><td style = \"text-align: right;\">2</td><td style = \"text-align: right;\">2</td><td style = \"font-style: italic; text-align: right;\">missing</td><td style = \"text-align: right;\">250</td><td style = \"text-align: right;\">0</td><td style = \"text-align: right;\">2</td><td style = \"text-align: right;\">3</td><td style = \"text-align: right;\">3</td><td style = \"text-align: right;\">400</td><td style = \"text-align: right;\">1</td><td style = \"font-style: italic; text-align: right;\">missing</td><td style = \"font-style: italic; text-align: right;\">missing</td><td style = \"font-style: italic; text-align: right;\">missing</td><td style = \"font-style: italic; text-align: right;\">missing</td><td style = \"text-align: right;\">3</td><td style = \"text-align: right;\">1</td><td style = \"text-align: right;\">7</td><td style = \"font-style: italic; text-align: right;\">missing</td><td style = \"font-style: italic; text-align: right;\">missing</td><td style = \"font-style: italic; text-align: right;\">missing</td><td style = \"text-align: right;\">1</td><td style = \"text-align: right;\">2</td><td style = \"font-style: italic; text-align: right;\">missing</td><td style = \"text-align: right;\">18</td><td style = \"text-align: right;\">3</td><td style = \"text-align: right;\">2</td><td style = \"text-align: right;\">6</td><td style = \"text-align: right;\">1</td><td style = \"text-align: right;\">52102</td><td style = \"text-align: right;\">4</td><td style = \"font-style: italic; text-align: right;\">missing</td><td style = \"font-style: italic; text-align: right;\">missing</td><td style = \"text-align: right;\">1</td><td style = \"text-align: right;\">1</td><td style = \"text-align: right;\">52102</td><td style = \"text-align: right;\">0</td><td style = \"text-align: right;\">4</td><td style = \"text-align: right;\">4</td><td style = \"text-align: right;\">4</td><td style = \"text-align: right;\">1</td><td style = \"text-align: right;\">7</td><td style = \"text-align: right;\">0</td><td style = \"text-align: right;\">2</td><td style = \"text-align: right;\">0</td><td style = \"text-align: right;\">0</td><td style = \"text-align: right;\">0</td><td style = \"text-align: right;\">10</td><td style = \"text-align: right;\">0</td><td style = \"text-align: right;\">0</td><td style = \"text-align: right;\">0</td><td style = \"text-align: right;\">2</td><td style = \"text-align: right;\">2</td><td style = \"text-align: right;\">1</td><td style = \"text-align: right;\">433</td><td style = \"font-style: italic; text-align: right;\">missing</td><td style = \"text-align: right;\">0</td><td style = \"text-align: right;\">0</td><td style = \"text-align: right;\">30</td><td style = \"text-align: right;\">2</td><td style = \"text-align: right;\">1</td><td style = \"text-align: right;\">1</td><td style = \"text-align: right;\">0</td><td style = \"text-align: right;\">0</td><td style = \"text-align: right;\">0</td><td style = \"text-align: right;\">0</td><td style = \"text-align: right;\">0</td><td style = \"text-align: right;\">0</td><td style = \"text-align: right;\">0</td><td style = \"text-align: right;\">0</td><td style = \"text-align: right;\">0</td><td style = \"text-align: right;\">0</td><td style = \"text-align: right;\">0</td><td style = \"text-align: right;\">0</td><td style = \"text-align: right;\">0</td><td style = \"text-align: right;\">0</td><td style = \"text-align: right;\">0</td><td style = \"text-align: right;\">0</td><td style = \"text-align: right;\">0</td><td style = \"text-align: right;\">0</td><td style = \"text-align: right;\">0</td><td style = \"text-align: right;\">0</td><td style = \"text-align: right;\">0</td><td style = \"text-align: right;\">0</td><td style = \"text-align: right;\">0</td><td style = \"text-align: right;\">0</td><td style = \"text-align: right;\">0</td><td style = \"text-align: right;\">0</td><td style = \"text-align: right;\">&ctdot;</td></tr><tr><td class = \"rowNumber\" style = \"font-weight: bold; text-align: right;\">69</td><td style = \"text-align: left;\">H</td><td style = \"text-align: right;\">1156976</td><td style = \"text-align: right;\">8</td><td style = \"text-align: right;\">100</td><td style = \"text-align: right;\">4</td><td style = \"text-align: right;\">16</td><td style = \"text-align: right;\">1015675</td><td style = \"text-align: right;\">154</td><td style = \"text-align: right;\">2</td><td style = \"text-align: right;\">1</td><td style = \"text-align: right;\">3</td><td style = \"text-align: right;\">6</td><td style = \"text-align: right;\">3</td><td style = \"text-align: right;\">2</td><td style = \"text-align: right;\">1</td><td style = \"font-style: italic; text-align: right;\">missing</td><td style = \"text-align: right;\">170</td><td style = \"text-align: right;\">0</td><td style = \"text-align: right;\">1800</td><td style = \"text-align: right;\">80</td><td style = \"text-align: right;\">2</td><td style = \"text-align: right;\">1400</td><td style = \"text-align: right;\">1</td><td style = \"font-style: italic; text-align: right;\">missing</td><td style = \"font-style: italic; text-align: right;\">missing</td><td style = \"font-style: italic; text-align: right;\">missing</td><td style = \"font-style: italic; text-align: right;\">missing</td><td style = \"text-align: right;\">3</td><td style = \"text-align: right;\">1</td><td style = \"text-align: right;\">7</td><td style = \"font-style: italic; text-align: right;\">missing</td><td style = \"font-style: italic; text-align: right;\">missing</td><td style = \"font-style: italic; text-align: right;\">missing</td><td style = \"text-align: right;\">1</td><td style = \"text-align: right;\">2</td><td style = \"font-style: italic; text-align: right;\">missing</td><td style = \"text-align: right;\">19</td><td style = \"text-align: right;\">2</td><td style = \"text-align: right;\">2</td><td style = \"text-align: right;\">4</td><td style = \"text-align: right;\">4</td><td style = \"text-align: right;\">30801</td><td style = \"text-align: right;\">4</td><td style = \"font-style: italic; text-align: right;\">missing</td><td style = \"font-style: italic; text-align: right;\">missing</td><td style = \"text-align: right;\">1</td><td style = \"text-align: right;\">1</td><td style = \"text-align: right;\">30801</td><td style = \"text-align: right;\">0</td><td style = \"text-align: right;\">4</td><td style = \"text-align: right;\">4</td><td style = \"text-align: right;\">4</td><td style = \"text-align: right;\">1</td><td style = \"text-align: right;\">6</td><td style = \"text-align: right;\">0</td><td style = \"text-align: right;\">2</td><td style = \"text-align: right;\">0</td><td style = \"text-align: right;\">0</td><td style = \"text-align: right;\">0</td><td style = \"text-align: right;\">24</td><td style = \"text-align: right;\">0</td><td style = \"text-align: right;\">0</td><td style = \"text-align: right;\">0</td><td style = \"text-align: right;\">2</td><td style = \"text-align: right;\">2</td><td style = \"text-align: right;\">1</td><td style = \"text-align: right;\">609</td><td style = \"font-style: italic; text-align: right;\">missing</td><td style = \"text-align: right;\">0</td><td style = \"text-align: right;\">0</td><td style = \"text-align: right;\">23</td><td style = \"text-align: right;\">0</td><td style = \"text-align: right;\">9</td><td style = \"text-align: right;\">9</td><td style = \"text-align: right;\">0</td><td style = \"text-align: right;\">0</td><td style = \"text-align: right;\">0</td><td style = \"text-align: right;\">0</td><td style = \"text-align: right;\">0</td><td style = \"text-align: right;\">0</td><td style = \"text-align: right;\">0</td><td style = \"text-align: right;\">0</td><td style = \"text-align: right;\">0</td><td style = \"text-align: right;\">0</td><td style = \"text-align: right;\">0</td><td style = \"text-align: right;\">1</td><td style = \"text-align: right;\">0</td><td style = \"text-align: right;\">0</td><td style = \"text-align: right;\">0</td><td style = \"text-align: right;\">0</td><td style = \"text-align: right;\">0</td><td style = \"text-align: right;\">0</td><td style = \"text-align: right;\">0</td><td style = \"text-align: right;\">0</td><td style = \"text-align: right;\">1</td><td style = \"text-align: right;\">0</td><td style = \"text-align: right;\">0</td><td style = \"text-align: right;\">0</td><td style = \"text-align: right;\">0</td><td style = \"text-align: right;\">0</td><td style = \"text-align: right;\">&ctdot;</td></tr><tr><td class = \"rowNumber\" style = \"font-weight: bold; text-align: right;\">70</td><td style = \"text-align: left;\">H</td><td style = \"text-align: right;\">1163909</td><td style = \"text-align: right;\">8</td><td style = \"text-align: right;\">500</td><td style = \"text-align: right;\">4</td><td style = \"text-align: right;\">16</td><td style = \"text-align: right;\">1015675</td><td style = \"text-align: right;\">73</td><td style = \"text-align: right;\">2</td><td style = \"text-align: right;\">1</td><td style = \"text-align: right;\">3</td><td style = \"text-align: right;\">6</td><td style = \"text-align: right;\">5</td><td style = \"text-align: right;\">2</td><td style = \"text-align: right;\">2</td><td style = \"font-style: italic; text-align: right;\">missing</td><td style = \"text-align: right;\">70</td><td style = \"text-align: right;\">0</td><td style = \"text-align: right;\">820</td><td style = \"text-align: right;\">3</td><td style = \"text-align: right;\">5</td><td style = \"text-align: right;\">0</td><td style = \"text-align: right;\">1</td><td style = \"font-style: italic; text-align: right;\">missing</td><td style = \"font-style: italic; text-align: right;\">missing</td><td style = \"font-style: italic; text-align: right;\">missing</td><td style = \"font-style: italic; text-align: right;\">missing</td><td style = \"text-align: right;\">3</td><td style = \"text-align: right;\">1</td><td style = \"text-align: right;\">9</td><td style = \"font-style: italic; text-align: right;\">missing</td><td style = \"font-style: italic; text-align: right;\">missing</td><td style = \"font-style: italic; text-align: right;\">missing</td><td style = \"text-align: right;\">1</td><td style = \"text-align: right;\">2</td><td style = \"font-style: italic; text-align: right;\">missing</td><td style = \"text-align: right;\">15</td><td style = \"text-align: right;\">6</td><td style = \"text-align: right;\">2</td><td style = \"text-align: right;\">9</td><td style = \"text-align: right;\">4</td><td style = \"text-align: right;\">28100</td><td style = \"text-align: right;\">4</td><td style = \"font-style: italic; text-align: right;\">missing</td><td style = \"font-style: italic; text-align: right;\">missing</td><td style = \"text-align: right;\">1</td><td style = \"text-align: right;\">1</td><td style = \"text-align: right;\">28100</td><td style = \"text-align: right;\">0</td><td style = \"text-align: right;\">4</td><td style = \"text-align: right;\">4</td><td style = \"text-align: right;\">4</td><td style = \"text-align: right;\">1</td><td style = \"text-align: right;\">7</td><td style = \"text-align: right;\">0</td><td style = \"text-align: right;\">2</td><td style = \"text-align: right;\">0</td><td style = \"text-align: right;\">0</td><td style = \"text-align: right;\">0</td><td style = \"text-align: right;\">10</td><td style = \"text-align: right;\">0</td><td style = \"text-align: right;\">0</td><td style = \"text-align: right;\">0</td><td style = \"text-align: right;\">2</td><td style = \"text-align: right;\">2</td><td style = \"text-align: right;\">1</td><td style = \"text-align: right;\">240</td><td style = \"font-style: italic; text-align: right;\">missing</td><td style = \"text-align: right;\">0</td><td style = \"text-align: right;\">0</td><td style = \"text-align: right;\">24</td><td style = \"text-align: right;\">0</td><td style = \"text-align: right;\">9</td><td style = \"text-align: right;\">9</td><td style = \"text-align: right;\">0</td><td style = \"text-align: right;\">0</td><td style = \"text-align: right;\">0</td><td style = \"text-align: right;\">0</td><td style = \"text-align: right;\">0</td><td style = \"text-align: right;\">0</td><td style = \"text-align: right;\">0</td><td style = \"text-align: right;\">0</td><td style = \"text-align: right;\">0</td><td style = \"text-align: right;\">0</td><td style = \"text-align: right;\">0</td><td style = \"text-align: right;\">0</td><td style = \"text-align: right;\">0</td><td style = \"text-align: right;\">0</td><td style = \"text-align: right;\">0</td><td style = \"text-align: right;\">0</td><td style = \"text-align: right;\">0</td><td style = \"text-align: right;\">0</td><td style = \"text-align: right;\">0</td><td style = \"text-align: right;\">0</td><td style = \"text-align: right;\">0</td><td style = \"text-align: right;\">0</td><td style = \"text-align: right;\">0</td><td style = \"text-align: right;\">0</td><td style = \"text-align: right;\">0</td><td style = \"text-align: right;\">0</td><td style = \"text-align: right;\">&ctdot;</td></tr><tr><td class = \"rowNumber\" style = \"font-weight: bold; text-align: right;\">71</td><td style = \"text-align: left;\">H</td><td style = \"text-align: right;\">1228279</td><td style = \"text-align: right;\">8</td><td style = \"text-align: right;\">900</td><td style = \"text-align: right;\">4</td><td style = \"text-align: right;\">16</td><td style = \"text-align: right;\">1015675</td><td style = \"text-align: right;\">22</td><td style = \"text-align: right;\">2</td><td style = \"text-align: right;\">1</td><td style = \"text-align: right;\">3</td><td style = \"text-align: right;\">6</td><td style = \"text-align: right;\">5</td><td style = \"text-align: right;\">2</td><td style = \"text-align: right;\">2</td><td style = \"font-style: italic; text-align: right;\">missing</td><td style = \"text-align: right;\">80</td><td style = \"text-align: right;\">0</td><td style = \"text-align: right;\">2</td><td style = \"text-align: right;\">3</td><td style = \"text-align: right;\">3</td><td style = \"text-align: right;\">300</td><td style = \"text-align: right;\">1</td><td style = \"font-style: italic; text-align: right;\">missing</td><td style = \"font-style: italic; text-align: right;\">missing</td><td style = \"font-style: italic; text-align: right;\">missing</td><td style = \"font-style: italic; text-align: right;\">missing</td><td style = \"text-align: right;\">3</td><td style = \"text-align: right;\">1</td><td style = \"text-align: right;\">9</td><td style = \"font-style: italic; text-align: right;\">missing</td><td style = \"font-style: italic; text-align: right;\">missing</td><td style = \"font-style: italic; text-align: right;\">missing</td><td style = \"text-align: right;\">1</td><td style = \"text-align: right;\">2</td><td style = \"font-style: italic; text-align: right;\">missing</td><td style = \"text-align: right;\">17</td><td style = \"text-align: right;\">3</td><td style = \"text-align: right;\">2</td><td style = \"text-align: right;\">5</td><td style = \"text-align: right;\">1</td><td style = \"text-align: right;\">57800</td><td style = \"text-align: right;\">4</td><td style = \"font-style: italic; text-align: right;\">missing</td><td style = \"font-style: italic; text-align: right;\">missing</td><td style = \"text-align: right;\">1</td><td style = \"text-align: right;\">1</td><td style = \"text-align: right;\">57800</td><td style = \"text-align: right;\">0</td><td style = \"text-align: right;\">4</td><td style = \"text-align: right;\">4</td><td style = \"text-align: right;\">4</td><td style = \"text-align: right;\">1</td><td style = \"text-align: right;\">6</td><td style = \"text-align: right;\">0</td><td style = \"text-align: right;\">2</td><td style = \"text-align: right;\">0</td><td style = \"text-align: right;\">0</td><td style = \"text-align: right;\">0</td><td style = \"text-align: right;\">3</td><td style = \"text-align: right;\">0</td><td style = \"text-align: right;\">0</td><td style = \"text-align: right;\">0</td><td style = \"text-align: right;\">1</td><td style = \"text-align: right;\">0</td><td style = \"text-align: right;\">1</td><td style = \"text-align: right;\">155</td><td style = \"font-style: italic; text-align: right;\">missing</td><td style = \"text-align: right;\">0</td><td style = \"text-align: right;\">0</td><td style = \"text-align: right;\">14</td><td style = \"text-align: right;\">2</td><td style = \"text-align: right;\">2</td><td style = \"text-align: right;\">1</td><td style = \"text-align: right;\">0</td><td style = \"text-align: right;\">0</td><td style = \"text-align: right;\">0</td><td style = \"text-align: right;\">0</td><td style = \"text-align: right;\">0</td><td style = \"text-align: right;\">0</td><td style = \"text-align: right;\">0</td><td style = \"text-align: right;\">0</td><td style = \"text-align: right;\">0</td><td style = \"text-align: right;\">0</td><td style = \"text-align: right;\">0</td><td style = \"text-align: right;\">0</td><td style = \"text-align: right;\">0</td><td style = \"text-align: right;\">0</td><td style = \"text-align: right;\">0</td><td style = \"text-align: right;\">0</td><td style = \"text-align: right;\">0</td><td style = \"text-align: right;\">0</td><td style = \"text-align: right;\">0</td><td style = \"text-align: right;\">0</td><td style = \"text-align: right;\">0</td><td style = \"text-align: right;\">0</td><td style = \"text-align: right;\">0</td><td style = \"text-align: right;\">0</td><td style = \"text-align: right;\">0</td><td style = \"text-align: right;\">0</td><td style = \"text-align: right;\">&ctdot;</td></tr><tr><td class = \"rowNumber\" style = \"font-weight: bold; text-align: right;\">72</td><td style = \"text-align: left;\">H</td><td style = \"text-align: right;\">1261283</td><td style = \"text-align: right;\">8</td><td style = \"text-align: right;\">900</td><td style = \"text-align: right;\">4</td><td style = \"text-align: right;\">16</td><td style = \"text-align: right;\">1015675</td><td style = \"text-align: right;\">18</td><td style = \"text-align: right;\">2</td><td style = \"text-align: right;\">1</td><td style = \"text-align: right;\">3</td><td style = \"text-align: right;\">6</td><td style = \"text-align: right;\">3</td><td style = \"text-align: right;\">2</td><td style = \"text-align: right;\">2</td><td style = \"font-style: italic; text-align: right;\">missing</td><td style = \"text-align: right;\">130</td><td style = \"text-align: right;\">0</td><td style = \"text-align: right;\">2</td><td style = \"text-align: right;\">80</td><td style = \"text-align: right;\">2</td><td style = \"text-align: right;\">1200</td><td style = \"text-align: right;\">1</td><td style = \"font-style: italic; text-align: right;\">missing</td><td style = \"text-align: right;\">1</td><td style = \"text-align: right;\">480</td><td style = \"text-align: right;\">1</td><td style = \"text-align: right;\">1</td><td style = \"text-align: right;\">1</td><td style = \"text-align: right;\">5</td><td style = \"font-style: italic; text-align: right;\">missing</td><td style = \"font-style: italic; text-align: right;\">missing</td><td style = \"font-style: italic; text-align: right;\">missing</td><td style = \"text-align: right;\">1</td><td style = \"text-align: right;\">1</td><td style = \"font-style: italic; text-align: right;\">missing</td><td style = \"text-align: right;\">11</td><td style = \"text-align: right;\">2</td><td style = \"text-align: right;\">2</td><td style = \"text-align: right;\">9</td><td style = \"text-align: right;\">4</td><td style = \"text-align: right;\">32000</td><td style = \"text-align: right;\">4</td><td style = \"font-style: italic; text-align: right;\">missing</td><td style = \"font-style: italic; text-align: right;\">missing</td><td style = \"text-align: right;\">1</td><td style = \"text-align: right;\">1</td><td style = \"text-align: right;\">32000</td><td style = \"text-align: right;\">0</td><td style = \"text-align: right;\">4</td><td style = \"text-align: right;\">4</td><td style = \"text-align: right;\">4</td><td style = \"text-align: right;\">1</td><td style = \"text-align: right;\">7</td><td style = \"text-align: right;\">0</td><td style = \"text-align: right;\">2</td><td style = \"text-align: right;\">0</td><td style = \"text-align: right;\">0</td><td style = \"text-align: right;\">0</td><td style = \"text-align: right;\">26</td><td style = \"text-align: right;\">0</td><td style = \"text-align: right;\">0</td><td style = \"text-align: right;\">0</td><td style = \"text-align: right;\">0</td><td style = \"text-align: right;\">0</td><td style = \"text-align: right;\">1</td><td style = \"text-align: right;\">690</td><td style = \"text-align: right;\">3</td><td style = \"text-align: right;\">0</td><td style = \"text-align: right;\">0</td><td style = \"text-align: right;\">11</td><td style = \"text-align: right;\">1</td><td style = \"text-align: right;\">6</td><td style = \"text-align: right;\">9</td><td style = \"text-align: right;\">0</td><td style = \"text-align: right;\">0</td><td style = \"text-align: right;\">0</td><td style = \"text-align: right;\">0</td><td style = \"text-align: right;\">0</td><td style = \"text-align: right;\">0</td><td style = \"text-align: right;\">0</td><td style = \"text-align: right;\">0</td><td style = \"text-align: right;\">0</td><td style = \"text-align: right;\">1</td><td style = \"text-align: right;\">0</td><td style = \"text-align: right;\">1</td><td style = \"text-align: right;\">0</td><td style = \"text-align: right;\">0</td><td style = \"text-align: right;\">1</td><td style = \"text-align: right;\">1</td><td style = \"text-align: right;\">1</td><td style = \"text-align: right;\">1</td><td style = \"text-align: right;\">0</td><td style = \"text-align: right;\">0</td><td style = \"text-align: right;\">0</td><td style = \"text-align: right;\">0</td><td style = \"text-align: right;\">0</td><td style = \"text-align: right;\">1</td><td style = \"text-align: right;\">1</td><td style = \"text-align: right;\">1</td><td style = \"text-align: right;\">&ctdot;</td></tr><tr><td class = \"rowNumber\" style = \"font-weight: bold; text-align: right;\">73</td><td style = \"text-align: left;\">H</td><td style = \"text-align: right;\">1264322</td><td style = \"text-align: right;\">8</td><td style = \"text-align: right;\">400</td><td style = \"text-align: right;\">4</td><td style = \"text-align: right;\">16</td><td style = \"text-align: right;\">1015675</td><td style = \"text-align: right;\">233</td><td style = \"text-align: right;\">2</td><td style = \"text-align: right;\">1</td><td style = \"text-align: right;\">3</td><td style = \"text-align: right;\">6</td><td style = \"text-align: right;\">4</td><td style = \"text-align: right;\">2</td><td style = \"text-align: right;\">2</td><td style = \"font-style: italic; text-align: right;\">missing</td><td style = \"text-align: right;\">120</td><td style = \"text-align: right;\">0</td><td style = \"text-align: right;\">1000</td><td style = \"text-align: right;\">3</td><td style = \"text-align: right;\">6</td><td style = \"font-style: italic; text-align: right;\">missing</td><td style = \"text-align: right;\">1</td><td style = \"font-style: italic; text-align: right;\">missing</td><td style = \"font-style: italic; text-align: right;\">missing</td><td style = \"font-style: italic; text-align: right;\">missing</td><td style = \"font-style: italic; text-align: right;\">missing</td><td style = \"font-style: italic; text-align: right;\">missing</td><td style = \"text-align: right;\">1</td><td style = \"text-align: right;\">7</td><td style = \"font-style: italic; text-align: right;\">missing</td><td style = \"font-style: italic; text-align: right;\">missing</td><td style = \"font-style: italic; text-align: right;\">missing</td><td style = \"text-align: right;\">1</td><td style = \"text-align: right;\">4</td><td style = \"font-style: italic; text-align: right;\">missing</td><td style = \"font-style: italic; text-align: right;\">missing</td><td style = \"text-align: right;\">2</td><td style = \"text-align: right;\">2</td><td style = \"text-align: right;\">9</td><td style = \"text-align: right;\">6</td><td style = \"text-align: right;\">9000</td><td style = \"text-align: right;\">2</td><td style = \"font-style: italic; text-align: right;\">missing</td><td style = \"font-style: italic; text-align: right;\">missing</td><td style = \"text-align: right;\">1</td><td style = \"text-align: right;\">2</td><td style = \"text-align: right;\">9000</td><td style = \"text-align: right;\">0</td><td style = \"text-align: right;\">2</td><td style = \"text-align: right;\">4</td><td style = \"text-align: right;\">2</td><td style = \"text-align: right;\">1</td><td style = \"text-align: right;\">5</td><td style = \"text-align: right;\">0</td><td style = \"text-align: right;\">2</td><td style = \"text-align: right;\">0</td><td style = \"text-align: right;\">0</td><td style = \"text-align: right;\">1</td><td style = \"font-style: italic; text-align: right;\">missing</td><td style = \"text-align: right;\">0</td><td style = \"text-align: right;\">0</td><td style = \"text-align: right;\">1</td><td style = \"text-align: right;\">0</td><td style = \"text-align: right;\">0</td><td style = \"text-align: right;\">1</td><td style = \"font-style: italic; text-align: right;\">missing</td><td style = \"font-style: italic; text-align: right;\">missing</td><td style = \"text-align: right;\">0</td><td style = \"text-align: right;\">0</td><td style = \"font-style: italic; text-align: right;\">missing</td><td style = \"text-align: right;\">2</td><td style = \"text-align: right;\">11</td><td style = \"text-align: right;\">12</td><td style = \"text-align: right;\">0</td><td style = \"text-align: right;\">0</td><td style = \"text-align: right;\">0</td><td style = \"text-align: right;\">0</td><td style = \"text-align: right;\">0</td><td style = \"text-align: right;\">0</td><td style = \"text-align: right;\">0</td><td style = \"text-align: right;\">0</td><td style = \"text-align: right;\">0</td><td style = \"text-align: right;\">0</td><td style = \"text-align: right;\">0</td><td style = \"text-align: right;\">0</td><td style = \"text-align: right;\">0</td><td style = \"text-align: right;\">0</td><td style = \"text-align: right;\">0</td><td style = \"text-align: right;\">0</td><td style = \"text-align: right;\">0</td><td style = \"text-align: right;\">0</td><td style = \"text-align: right;\">0</td><td style = \"text-align: right;\">0</td><td style = \"text-align: right;\">0</td><td style = \"text-align: right;\">0</td><td style = \"text-align: right;\">0</td><td style = \"text-align: right;\">0</td><td style = \"text-align: right;\">0</td><td style = \"text-align: right;\">0</td><td style = \"text-align: right;\">&ctdot;</td></tr><tr><td class = \"rowNumber\" style = \"font-weight: bold; text-align: right;\">74</td><td style = \"text-align: left;\">H</td><td style = \"text-align: right;\">1273785</td><td style = \"text-align: right;\">8</td><td style = \"text-align: right;\">200</td><td style = \"text-align: right;\">4</td><td style = \"text-align: right;\">16</td><td style = \"text-align: right;\">1015675</td><td style = \"text-align: right;\">96</td><td style = \"text-align: right;\">2</td><td style = \"text-align: right;\">1</td><td style = \"text-align: right;\">3</td><td style = \"text-align: right;\">6</td><td style = \"text-align: right;\">4</td><td style = \"text-align: right;\">1</td><td style = \"text-align: right;\">2</td><td style = \"font-style: italic; text-align: right;\">missing</td><td style = \"text-align: right;\">90</td><td style = \"text-align: right;\">0</td><td style = \"text-align: right;\">2</td><td style = \"text-align: right;\">3</td><td style = \"text-align: right;\">6</td><td style = \"text-align: right;\">450</td><td style = \"text-align: right;\">1</td><td style = \"text-align: right;\">0</td><td style = \"font-style: italic; text-align: right;\">missing</td><td style = \"font-style: italic; text-align: right;\">missing</td><td style = \"font-style: italic; text-align: right;\">missing</td><td style = \"text-align: right;\">3</td><td style = \"text-align: right;\">1</td><td style = \"text-align: right;\">9</td><td style = \"font-style: italic; text-align: right;\">missing</td><td style = \"font-style: italic; text-align: right;\">missing</td><td style = \"font-style: italic; text-align: right;\">missing</td><td style = \"text-align: right;\">1</td><td style = \"text-align: right;\">2</td><td style = \"font-style: italic; text-align: right;\">missing</td><td style = \"text-align: right;\">10</td><td style = \"text-align: right;\">2</td><td style = \"text-align: right;\">2</td><td style = \"text-align: right;\">5</td><td style = \"text-align: right;\">2</td><td style = \"text-align: right;\">41000</td><td style = \"text-align: right;\">4</td><td style = \"font-style: italic; text-align: right;\">missing</td><td style = \"font-style: italic; text-align: right;\">missing</td><td style = \"text-align: right;\">1</td><td style = \"text-align: right;\">1</td><td style = \"text-align: right;\">41000</td><td style = \"text-align: right;\">0</td><td style = \"text-align: right;\">4</td><td style = \"text-align: right;\">4</td><td style = \"text-align: right;\">4</td><td style = \"text-align: right;\">1</td><td style = \"text-align: right;\">6</td><td style = \"text-align: right;\">0</td><td style = \"text-align: right;\">2</td><td style = \"text-align: right;\">0</td><td style = \"text-align: right;\">0</td><td style = \"text-align: right;\">0</td><td style = \"text-align: right;\">5</td><td style = \"text-align: right;\">0</td><td style = \"text-align: right;\">0</td><td style = \"text-align: right;\">0</td><td style = \"text-align: right;\">1</td><td style = \"text-align: right;\">0</td><td style = \"text-align: right;\">2</td><td style = \"text-align: right;\">170</td><td style = \"font-style: italic; text-align: right;\">missing</td><td style = \"text-align: right;\">0</td><td style = \"text-align: right;\">0</td><td style = \"text-align: right;\">12</td><td style = \"text-align: right;\">1</td><td style = \"text-align: right;\">7</td><td style = \"text-align: right;\">3</td><td style = \"text-align: right;\">0</td><td style = \"text-align: right;\">1</td><td style = \"text-align: right;\">0</td><td style = \"text-align: right;\">0</td><td style = \"text-align: right;\">0</td><td style = \"text-align: right;\">0</td><td style = \"text-align: right;\">0</td><td style = \"text-align: right;\">0</td><td style = \"text-align: right;\">0</td><td style = \"text-align: right;\">0</td><td style = \"text-align: right;\">0</td><td style = \"text-align: right;\">1</td><td style = \"text-align: right;\">0</td><td style = \"text-align: right;\">0</td><td style = \"text-align: right;\">0</td><td style = \"text-align: right;\">0</td><td style = \"text-align: right;\">0</td><td style = \"text-align: right;\">0</td><td style = \"text-align: right;\">0</td><td style = \"text-align: right;\">0</td><td style = \"text-align: right;\">0</td><td style = \"text-align: right;\">0</td><td style = \"text-align: right;\">0</td><td style = \"text-align: right;\">0</td><td style = \"text-align: right;\">0</td><td style = \"text-align: right;\">0</td><td style = \"text-align: right;\">&ctdot;</td></tr><tr><td class = \"rowNumber\" style = \"font-weight: bold; text-align: right;\">75</td><td style = \"text-align: left;\">H</td><td style = \"text-align: right;\">1314024</td><td style = \"text-align: right;\">8</td><td style = \"text-align: right;\">800</td><td style = \"text-align: right;\">4</td><td style = \"text-align: right;\">16</td><td style = \"text-align: right;\">1015675</td><td style = \"text-align: right;\">68</td><td style = \"text-align: right;\">2</td><td style = \"text-align: right;\">1</td><td style = \"text-align: right;\">3</td><td style = \"text-align: right;\">6</td><td style = \"text-align: right;\">4</td><td style = \"text-align: right;\">2</td><td style = \"text-align: right;\">2</td><td style = \"font-style: italic; text-align: right;\">missing</td><td style = \"text-align: right;\">180</td><td style = \"text-align: right;\">0</td><td style = \"text-align: right;\">300</td><td style = \"text-align: right;\">3</td><td style = \"text-align: right;\">3</td><td style = \"text-align: right;\">700</td><td style = \"text-align: right;\">1</td><td style = \"font-style: italic; text-align: right;\">missing</td><td style = \"font-style: italic; text-align: right;\">missing</td><td style = \"font-style: italic; text-align: right;\">missing</td><td style = \"font-style: italic; text-align: right;\">missing</td><td style = \"text-align: right;\">3</td><td style = \"text-align: right;\">1</td><td style = \"text-align: right;\">7</td><td style = \"font-style: italic; text-align: right;\">missing</td><td style = \"font-style: italic; text-align: right;\">missing</td><td style = \"font-style: italic; text-align: right;\">missing</td><td style = \"text-align: right;\">1</td><td style = \"text-align: right;\">2</td><td style = \"font-style: italic; text-align: right;\">missing</td><td style = \"text-align: right;\">16</td><td style = \"text-align: right;\">4</td><td style = \"text-align: right;\">2</td><td style = \"text-align: right;\">6</td><td style = \"text-align: right;\">1</td><td style = \"text-align: right;\">41000</td><td style = \"text-align: right;\">4</td><td style = \"font-style: italic; text-align: right;\">missing</td><td style = \"font-style: italic; text-align: right;\">missing</td><td style = \"text-align: right;\">1</td><td style = \"text-align: right;\">1</td><td style = \"text-align: right;\">41000</td><td style = \"text-align: right;\">0</td><td style = \"text-align: right;\">4</td><td style = \"text-align: right;\">4</td><td style = \"text-align: right;\">4</td><td style = \"text-align: right;\">1</td><td style = \"text-align: right;\">7</td><td style = \"text-align: right;\">0</td><td style = \"text-align: right;\">2</td><td style = \"text-align: right;\">0</td><td style = \"text-align: right;\">0</td><td style = \"text-align: right;\">0</td><td style = \"text-align: right;\">15</td><td style = \"text-align: right;\">0</td><td style = \"text-align: right;\">0</td><td style = \"text-align: right;\">0</td><td style = \"text-align: right;\">1</td><td style = \"text-align: right;\">0</td><td style = \"text-align: right;\">1</td><td style = \"text-align: right;\">513</td><td style = \"font-style: italic; text-align: right;\">missing</td><td style = \"text-align: right;\">0</td><td style = \"text-align: right;\">0</td><td style = \"text-align: right;\">42</td><td style = \"text-align: right;\">2</td><td style = \"text-align: right;\">2</td><td style = \"text-align: right;\">1</td><td style = \"text-align: right;\">0</td><td style = \"text-align: right;\">0</td><td style = \"text-align: right;\">0</td><td style = \"text-align: right;\">0</td><td style = \"text-align: right;\">0</td><td style = \"text-align: right;\">0</td><td style = \"text-align: right;\">0</td><td style = \"text-align: right;\">0</td><td style = \"text-align: right;\">0</td><td style = \"text-align: right;\">1</td><td style = \"text-align: right;\">0</td><td style = \"text-align: right;\">0</td><td style = \"text-align: right;\">0</td><td style = \"text-align: right;\">0</td><td style = \"text-align: right;\">0</td><td style = \"text-align: right;\">0</td><td style = \"text-align: right;\">0</td><td style = \"text-align: right;\">0</td><td style = \"text-align: right;\">0</td><td style = \"text-align: right;\">0</td><td style = \"text-align: right;\">0</td><td style = \"text-align: right;\">0</td><td style = \"text-align: right;\">0</td><td style = \"text-align: right;\">0</td><td style = \"text-align: right;\">0</td><td style = \"text-align: right;\">0</td><td style = \"text-align: right;\">&ctdot;</td></tr><tr><td class = \"rowNumber\" style = \"font-weight: bold; text-align: right;\">76</td><td style = \"text-align: left;\">H</td><td style = \"text-align: right;\">1334157</td><td style = \"text-align: right;\">8</td><td style = \"text-align: right;\">300</td><td style = \"text-align: right;\">4</td><td style = \"text-align: right;\">16</td><td style = \"text-align: right;\">1015675</td><td style = \"text-align: right;\">75</td><td style = \"text-align: right;\">2</td><td style = \"text-align: right;\">1</td><td style = \"text-align: right;\">3</td><td style = \"text-align: right;\">6</td><td style = \"text-align: right;\">4</td><td style = \"text-align: right;\">2</td><td style = \"text-align: right;\">1</td><td style = \"font-style: italic; text-align: right;\">missing</td><td style = \"text-align: right;\">80</td><td style = \"text-align: right;\">0</td><td style = \"text-align: right;\">2</td><td style = \"text-align: right;\">3</td><td style = \"text-align: right;\">2</td><td style = \"text-align: right;\">430</td><td style = \"text-align: right;\">1</td><td style = \"font-style: italic; text-align: right;\">missing</td><td style = \"text-align: right;\">2</td><td style = \"text-align: right;\">900</td><td style = \"text-align: right;\">2</td><td style = \"text-align: right;\">1</td><td style = \"text-align: right;\">1</td><td style = \"text-align: right;\">8</td><td style = \"font-style: italic; text-align: right;\">missing</td><td style = \"font-style: italic; text-align: right;\">missing</td><td style = \"text-align: right;\">300</td><td style = \"text-align: right;\">1</td><td style = \"text-align: right;\">1</td><td style = \"font-style: italic; text-align: right;\">missing</td><td style = \"text-align: right;\">16</td><td style = \"text-align: right;\">5</td><td style = \"text-align: right;\">2</td><td style = \"text-align: right;\">8</td><td style = \"text-align: right;\">2</td><td style = \"text-align: right;\">74701</td><td style = \"text-align: right;\">4</td><td style = \"font-style: italic; text-align: right;\">missing</td><td style = \"font-style: italic; text-align: right;\">missing</td><td style = \"text-align: right;\">1</td><td style = \"text-align: right;\">1</td><td style = \"text-align: right;\">74701</td><td style = \"text-align: right;\">0</td><td style = \"text-align: right;\">4</td><td style = \"text-align: right;\">4</td><td style = \"text-align: right;\">4</td><td style = \"text-align: right;\">1</td><td style = \"text-align: right;\">7</td><td style = \"text-align: right;\">0</td><td style = \"text-align: right;\">2</td><td style = \"text-align: right;\">0</td><td style = \"text-align: right;\">0</td><td style = \"text-align: right;\">0</td><td style = \"text-align: right;\">22</td><td style = \"text-align: right;\">0</td><td style = \"text-align: right;\">0</td><td style = \"text-align: right;\">0</td><td style = \"text-align: right;\">0</td><td style = \"text-align: right;\">0</td><td style = \"text-align: right;\">1</td><td style = \"text-align: right;\">1395</td><td style = \"text-align: right;\">2</td><td style = \"text-align: right;\">0</td><td style = \"text-align: right;\">0</td><td style = \"text-align: right;\">21</td><td style = \"text-align: right;\">2</td><td style = \"text-align: right;\">2</td><td style = \"text-align: right;\">3</td><td style = \"text-align: right;\">0</td><td style = \"text-align: right;\">0</td><td style = \"text-align: right;\">0</td><td style = \"text-align: right;\">0</td><td style = \"text-align: right;\">0</td><td style = \"text-align: right;\">0</td><td style = \"text-align: right;\">0</td><td style = \"text-align: right;\">0</td><td style = \"text-align: right;\">0</td><td style = \"text-align: right;\">0</td><td style = \"text-align: right;\">0</td><td style = \"text-align: right;\">0</td><td style = \"text-align: right;\">0</td><td style = \"text-align: right;\">0</td><td style = \"text-align: right;\">0</td><td style = \"text-align: right;\">0</td><td style = \"text-align: right;\">0</td><td style = \"text-align: right;\">0</td><td style = \"text-align: right;\">0</td><td style = \"text-align: right;\">0</td><td style = \"text-align: right;\">0</td><td style = \"text-align: right;\">0</td><td style = \"text-align: right;\">0</td><td style = \"text-align: right;\">0</td><td style = \"text-align: right;\">0</td><td style = \"text-align: right;\">0</td><td style = \"text-align: right;\">&ctdot;</td></tr><tr><td class = \"rowNumber\" style = \"font-weight: bold; text-align: right;\">77</td><td style = \"text-align: left;\">H</td><td style = \"text-align: right;\">1343898</td><td style = \"text-align: right;\">8</td><td style = \"text-align: right;\">800</td><td style = \"text-align: right;\">4</td><td style = \"text-align: right;\">16</td><td style = \"text-align: right;\">1015675</td><td style = \"text-align: right;\">22</td><td style = \"text-align: right;\">4</td><td style = \"text-align: right;\">1</td><td style = \"text-align: right;\">3</td><td style = \"text-align: right;\">6</td><td style = \"text-align: right;\">5</td><td style = \"text-align: right;\">2</td><td style = \"text-align: right;\">2</td><td style = \"font-style: italic; text-align: right;\">missing</td><td style = \"text-align: right;\">90</td><td style = \"text-align: right;\">0</td><td style = \"text-align: right;\">2</td><td style = \"text-align: right;\">30</td><td style = \"text-align: right;\">6</td><td style = \"text-align: right;\">1000</td><td style = \"text-align: right;\">1</td><td style = \"font-style: italic; text-align: right;\">missing</td><td style = \"text-align: right;\">1</td><td style = \"text-align: right;\">990</td><td style = \"text-align: right;\">1</td><td style = \"text-align: right;\">1</td><td style = \"text-align: right;\">1</td><td style = \"text-align: right;\">7</td><td style = \"font-style: italic; text-align: right;\">missing</td><td style = \"font-style: italic; text-align: right;\">missing</td><td style = \"font-style: italic; text-align: right;\">missing</td><td style = \"text-align: right;\">1</td><td style = \"text-align: right;\">1</td><td style = \"font-style: italic; text-align: right;\">missing</td><td style = \"text-align: right;\">24</td><td style = \"text-align: right;\">2</td><td style = \"text-align: right;\">360</td><td style = \"text-align: right;\">4</td><td style = \"text-align: right;\">3</td><td style = \"text-align: right;\">78760</td><td style = \"text-align: right;\">2</td><td style = \"font-style: italic; text-align: right;\">missing</td><td style = \"font-style: italic; text-align: right;\">missing</td><td style = \"text-align: right;\">1</td><td style = \"text-align: right;\">1</td><td style = \"text-align: right;\">78760</td><td style = \"text-align: right;\">0</td><td style = \"text-align: right;\">2</td><td style = \"text-align: right;\">2</td><td style = \"text-align: right;\">2</td><td style = \"text-align: right;\">1</td><td style = \"text-align: right;\">1</td><td style = \"text-align: right;\">2</td><td style = \"text-align: right;\">4</td><td style = \"text-align: right;\">0</td><td style = \"text-align: right;\">0</td><td style = \"text-align: right;\">2</td><td style = \"text-align: right;\">17</td><td style = \"text-align: right;\">0</td><td style = \"text-align: right;\">0</td><td style = \"text-align: right;\">1</td><td style = \"text-align: right;\">0</td><td style = \"text-align: right;\">0</td><td style = \"text-align: right;\">2</td><td style = \"text-align: right;\">1140</td><td style = \"text-align: right;\">3</td><td style = \"text-align: right;\">0</td><td style = \"text-align: right;\">0</td><td style = \"text-align: right;\">62</td><td style = \"text-align: right;\">2</td><td style = \"text-align: right;\">2</td><td style = \"text-align: right;\">7</td><td style = \"text-align: right;\">0</td><td style = \"text-align: right;\">0</td><td style = \"text-align: right;\">0</td><td style = \"text-align: right;\">0</td><td style = \"text-align: right;\">0</td><td style = \"text-align: right;\">0</td><td style = \"text-align: right;\">0</td><td style = \"text-align: right;\">0</td><td style = \"text-align: right;\">1</td><td style = \"text-align: right;\">0</td><td style = \"text-align: right;\">0</td><td style = \"text-align: right;\">1</td><td style = \"text-align: right;\">0</td><td style = \"text-align: right;\">0</td><td style = \"text-align: right;\">1</td><td style = \"text-align: right;\">1</td><td style = \"text-align: right;\">1</td><td style = \"text-align: right;\">0</td><td style = \"text-align: right;\">0</td><td style = \"text-align: right;\">0</td><td style = \"text-align: right;\">0</td><td style = \"text-align: right;\">0</td><td style = \"text-align: right;\">0</td><td style = \"text-align: right;\">1</td><td style = \"text-align: right;\">0</td><td style = \"text-align: right;\">0</td><td style = \"text-align: right;\">&ctdot;</td></tr></tbody></table></div>"
      ],
      "text/latex": [
       "\\begin{tabular}{r|ccccccccccc}\n",
       "\t& RT & SERIALNO & DIVISION & PUMA & REGION & ST & ADJUST & WGTP & NP & TYPE & \\\\\n",
       "\t\\hline\n",
       "\t& String1 & Int64 & Int64 & Int64 & Int64 & Int64 & Int64 & Int64 & Int64 & Int64 & \\\\\n",
       "\t\\hline\n",
       "\t1 & H & 30346 & 8 & 400 & 4 & 16 & 1015675 & 120 & 4 & 1 & $\\dots$ \\\\\n",
       "\t2 & H & 53292 & 8 & 300 & 4 & 16 & 1015675 & 26 & 3 & 1 & $\\dots$ \\\\\n",
       "\t3 & H & 56299 & 8 & 800 & 4 & 16 & 1015675 & 97 & 2 & 1 & $\\dots$ \\\\\n",
       "\t4 & H & 101282 & 8 & 800 & 4 & 16 & 1015675 & 76 & 2 & 1 & $\\dots$ \\\\\n",
       "\t5 & H & 120351 & 8 & 800 & 4 & 16 & 1015675 & 51 & 5 & 1 & $\\dots$ \\\\\n",
       "\t6 & H & 122802 & 8 & 800 & 4 & 16 & 1015675 & 63 & 5 & 1 & $\\dots$ \\\\\n",
       "\t7 & H & 133128 & 8 & 300 & 4 & 16 & 1015675 & 15 & 2 & 1 & $\\dots$ \\\\\n",
       "\t8 & H & 140896 & 8 & 400 & 4 & 16 & 1015675 & 72 & 2 & 1 & $\\dots$ \\\\\n",
       "\t9 & H & 169806 & 8 & 800 & 4 & 16 & 1015675 & 62 & 1 & 1 & $\\dots$ \\\\\n",
       "\t10 & H & 173013 & 8 & 500 & 4 & 16 & 1015675 & 77 & 2 & 1 & $\\dots$ \\\\\n",
       "\t11 & H & 176884 & 8 & 900 & 4 & 16 & 1015675 & 88 & 1 & 1 & $\\dots$ \\\\\n",
       "\t12 & H & 183434 & 8 & 500 & 4 & 16 & 1015675 & 54 & 2 & 1 & $\\dots$ \\\\\n",
       "\t13 & H & 203578 & 8 & 800 & 4 & 16 & 1015675 & 70 & 2 & 1 & $\\dots$ \\\\\n",
       "\t14 & H & 204262 & 8 & 200 & 4 & 16 & 1015675 & 24 & 2 & 1 & $\\dots$ \\\\\n",
       "\t15 & H & 223184 & 8 & 100 & 4 & 16 & 1015675 & 22 & 5 & 1 & $\\dots$ \\\\\n",
       "\t16 & H & 270844 & 8 & 300 & 4 & 16 & 1015675 & 67 & 2 & 1 & $\\dots$ \\\\\n",
       "\t17 & H & 272251 & 8 & 800 & 4 & 16 & 1015675 & 24 & 2 & 1 & $\\dots$ \\\\\n",
       "\t18 & H & 278331 & 8 & 300 & 4 & 16 & 1015675 & 163 & 3 & 1 & $\\dots$ \\\\\n",
       "\t19 & H & 293603 & 8 & 300 & 4 & 16 & 1015675 & 73 & 4 & 1 & $\\dots$ \\\\\n",
       "\t20 & H & 341269 & 8 & 900 & 4 & 16 & 1015675 & 146 & 2 & 1 & $\\dots$ \\\\\n",
       "\t21 & H & 347362 & 8 & 900 & 4 & 16 & 1015675 & 126 & 2 & 1 & $\\dots$ \\\\\n",
       "\t22 & H & 352408 & 8 & 400 & 4 & 16 & 1015675 & 52 & 2 & 1 & $\\dots$ \\\\\n",
       "\t23 & H & 395701 & 8 & 300 & 4 & 16 & 1015675 & 40 & 2 & 1 & $\\dots$ \\\\\n",
       "\t24 & H & 409401 & 8 & 800 & 4 & 16 & 1015675 & 22 & 2 & 1 & $\\dots$ \\\\\n",
       "\t25 & H & 444160 & 8 & 800 & 4 & 16 & 1015675 & 371 & 2 & 1 & $\\dots$ \\\\\n",
       "\t26 & H & 465760 & 8 & 200 & 4 & 16 & 1015675 & 24 & 4 & 1 & $\\dots$ \\\\\n",
       "\t27 & H & 510757 & 8 & 400 & 4 & 16 & 1015675 & 24 & 3 & 1 & $\\dots$ \\\\\n",
       "\t28 & H & 519912 & 8 & 800 & 4 & 16 & 1015675 & 42 & 2 & 1 & $\\dots$ \\\\\n",
       "\t29 & H & 537967 & 8 & 300 & 4 & 16 & 1015675 & 83 & 3 & 1 & $\\dots$ \\\\\n",
       "\t30 & H & 546403 & 8 & 200 & 4 & 16 & 1015675 & 27 & 2 & 1 & $\\dots$ \\\\\n",
       "\t$\\dots$ & $\\dots$ & $\\dots$ & $\\dots$ & $\\dots$ & $\\dots$ & $\\dots$ & $\\dots$ & $\\dots$ & $\\dots$ & $\\dots$ &  \\\\\n",
       "\\end{tabular}\n"
      ],
      "text/plain": [
       "\u001b[1m77×188 DataFrame\u001b[0m\n",
       "\u001b[1m Row \u001b[0m│\u001b[1m RT      \u001b[0m\u001b[1m SERIALNO \u001b[0m\u001b[1m DIVISION \u001b[0m\u001b[1m PUMA  \u001b[0m\u001b[1m REGION \u001b[0m\u001b[1m ST    \u001b[0m\u001b[1m ADJUST  \u001b[0m\u001b[1m WGTP  \u001b[0m\u001b[1m NP  \u001b[0m ⋯\n",
       "     │\u001b[90m String1 \u001b[0m\u001b[90m Int64    \u001b[0m\u001b[90m Int64    \u001b[0m\u001b[90m Int64 \u001b[0m\u001b[90m Int64  \u001b[0m\u001b[90m Int64 \u001b[0m\u001b[90m Int64   \u001b[0m\u001b[90m Int64 \u001b[0m\u001b[90m Int6\u001b[0m ⋯\n",
       "─────┼──────────────────────────────────────────────────────────────────────────\n",
       "   1 │ H           30346         8    400       4     16  1015675    120       ⋯\n",
       "   2 │ H           53292         8    300       4     16  1015675     26\n",
       "   3 │ H           56299         8    800       4     16  1015675     97\n",
       "   4 │ H          101282         8    800       4     16  1015675     76\n",
       "   5 │ H          120351         8    800       4     16  1015675     51       ⋯\n",
       "   6 │ H          122802         8    800       4     16  1015675     63\n",
       "   7 │ H          133128         8    300       4     16  1015675     15\n",
       "   8 │ H          140896         8    400       4     16  1015675     72\n",
       "   9 │ H          169806         8    800       4     16  1015675     62       ⋯\n",
       "  10 │ H          173013         8    500       4     16  1015675     77\n",
       "  11 │ H          176884         8    900       4     16  1015675     88\n",
       "  ⋮  │    ⋮        ⋮         ⋮        ⋮      ⋮       ⋮       ⋮       ⋮      ⋮  ⋱\n",
       "  68 │ H         1134401         8    800       4     16  1015675     80\n",
       "  69 │ H         1156976         8    100       4     16  1015675    154       ⋯\n",
       "  70 │ H         1163909         8    500       4     16  1015675     73\n",
       "  71 │ H         1228279         8    900       4     16  1015675     22\n",
       "  72 │ H         1261283         8    900       4     16  1015675     18\n",
       "  73 │ H         1264322         8    400       4     16  1015675    233       ⋯\n",
       "  74 │ H         1273785         8    200       4     16  1015675     96\n",
       "  75 │ H         1314024         8    800       4     16  1015675     68\n",
       "  76 │ H         1334157         8    300       4     16  1015675     75\n",
       "  77 │ H         1343898         8    800       4     16  1015675     22       ⋯\n",
       "\u001b[36m                                                 180 columns and 56 rows omitted\u001b[0m"
      ]
     },
     "execution_count": 69,
     "metadata": {},
     "output_type": "execute_result"
    }
   ],
   "source": [
    "#filter(row -> row.AGS == 6 && row.ACR == 3, first_q)\n",
    "subset(first_q, :AGS => ByRow(==(6)), :ACR => ByRow(==(3)), skipmissing=true)"
   ]
  },
  {
   "cell_type": "markdown",
   "id": "3552ba55",
   "metadata": {},
   "source": [
    "But we have to create construct a new variable based upon the evaluation of a conditional - if it is true then it will be represented as such in each row in the new column, and conversly as false if it is not. I was stuck for a very long time until finding this post by who else than Bogumil https://stackoverflow.com/questions/50114613/add-column-conditionally "
   ]
  },
  {
   "cell_type": "code",
   "execution_count": 95,
   "id": "acb4b1c1",
   "metadata": {
    "collapsed": true,
    "jupyter": {
     "outputs_hidden": true
    }
   },
   "outputs": [
    {
     "data": {
      "text/plain": [
       "6496-element BitVector:\n",
       " 0\n",
       " 0\n",
       " 0\n",
       " 0\n",
       " 0\n",
       " 0\n",
       " 0\n",
       " 0\n",
       " 0\n",
       " 0\n",
       " 0\n",
       " 0\n",
       " 0\n",
       " ⋮\n",
       " 0\n",
       " 0\n",
       " 0\n",
       " 0\n",
       " 0\n",
       " 0\n",
       " 0\n",
       " 0\n",
       " 0\n",
       " 0\n",
       " 0\n",
       " 0"
      ]
     },
     "execution_count": 95,
     "metadata": {},
     "output_type": "execute_result"
    }
   ],
   "source": [
    "first_q.largeLand = ifelse.((ismissing.(first_q.AGS)) .| (first_q.AGS .!= 6) .| (first_q.ACR .!= 3), false, true)"
   ]
  },
  {
   "cell_type": "code",
   "execution_count": 96,
   "id": "0c5a8811",
   "metadata": {},
   "outputs": [
    {
     "data": {
      "text/plain": [
       "Dict{Bool, Int64} with 2 entries:\n",
       "  0 => 6419\n",
       "  1 => 77"
      ]
     },
     "execution_count": 96,
     "metadata": {},
     "output_type": "execute_result"
    }
   ],
   "source": [
    "countmap(first_q.largeLand)"
   ]
  },
  {
   "cell_type": "code",
   "execution_count": 98,
   "id": "e377ece2",
   "metadata": {
    "collapsed": true,
    "jupyter": {
     "outputs_hidden": true
    }
   },
   "outputs": [
    {
     "data": {
      "text/plain": [
       "77-element Vector{Int64}:\n",
       "  125\n",
       "  238\n",
       "  262\n",
       "  470\n",
       "  555\n",
       "  568\n",
       "  608\n",
       "  643\n",
       "  787\n",
       "  808\n",
       "  824\n",
       "  849\n",
       "  952\n",
       "    ⋮\n",
       " 5236\n",
       " 5326\n",
       " 5417\n",
       " 5531\n",
       " 5574\n",
       " 5894\n",
       " 6033\n",
       " 6044\n",
       " 6089\n",
       " 6275\n",
       " 6376\n",
       " 6420"
      ]
     },
     "execution_count": 98,
     "metadata": {},
     "output_type": "execute_result"
    }
   ],
   "source": [
    "findall(first_q.largeLand .== 1)"
   ]
  },
  {
   "cell_type": "markdown",
   "id": "dd466684",
   "metadata": {},
   "source": [
    "The answer is 125, 238, 262 - these represent the row numbers"
   ]
  },
  {
   "cell_type": "markdown",
   "id": "0c51a2aa",
   "metadata": {},
   "source": [
    "## 2. \n",
    "Using the jpeg package read in the following picture of your instructor into R\n",
    "\n",
    " https://d396qusza40orc.cloudfront.net/getdata%2Fjeff.jpg \n",
    "\n",
    "Use the parameter native=TRUE. What are the 30th and 80th quantiles of the resulting data? (some Linux systems may produce an answer 638 different for the 30th quantile)"
   ]
  },
  {
   "cell_type": "code",
   "execution_count": 99,
   "id": "0930fbf7",
   "metadata": {},
   "outputs": [
    {
     "data": {
      "text/plain": [
       "\"leek.jpg\""
      ]
     },
     "execution_count": 99,
     "metadata": {},
     "output_type": "execute_result"
    }
   ],
   "source": [
    "download(\"https://d396qusza40orc.cloudfront.net/getdata%2Fjeff.jpg\", \"leek.jpg\")"
   ]
  },
  {
   "cell_type": "code",
   "execution_count": 142,
   "id": "f51254d5",
   "metadata": {
    "collapsed": true,
    "jupyter": {
     "outputs_hidden": true
    }
   },
   "outputs": [
    {
     "name": "stderr",
     "output_type": "stream",
     "text": [
      "\u001b[32m\u001b[1m   Resolving\u001b[22m\u001b[39m package versions...\n",
      "\u001b[32m\u001b[1m   Installed\u001b[22m\u001b[39m JpegTurbo_jll ───────────── v3.0.1+0\n",
      "\u001b[32m\u001b[1m   Installed\u001b[22m\u001b[39m LERC_jll ────────────────── v3.0.0+1\n",
      "\u001b[32m\u001b[1m   Installed\u001b[22m\u001b[39m TiledIteration ──────────── v0.3.1\n",
      "\u001b[32m\u001b[1m   Installed\u001b[22m\u001b[39m Images ──────────────────── v0.24.1\n",
      "\u001b[32m\u001b[1m   Installed\u001b[22m\u001b[39m ImageMagick ─────────────── v1.3.0\n",
      "\u001b[32m\u001b[1m   Installed\u001b[22m\u001b[39m FFTW ────────────────────── v1.8.0\n",
      "\u001b[32m\u001b[1m   Installed\u001b[22m\u001b[39m IdentityRanges ──────────── v0.3.1\n",
      "\u001b[32m\u001b[1m   Installed\u001b[22m\u001b[39m IntelOpenMP_jll ─────────── v2024.0.2+0\n",
      "\u001b[32m\u001b[1m   Installed\u001b[22m\u001b[39m Netpbm ──────────────────── v1.0.1\n",
      "\u001b[32m\u001b[1m   Installed\u001b[22m\u001b[39m StaticArrays ────────────── v1.9.2\n",
      "\u001b[32m\u001b[1m   Installed\u001b[22m\u001b[39m RealDot ─────────────────── v0.1.0\n",
      "\u001b[32m\u001b[1m   Installed\u001b[22m\u001b[39m Distances ───────────────── v0.10.11\n",
      "\u001b[32m\u001b[1m   Installed\u001b[22m\u001b[39m StaticArraysCore ────────── v1.4.2\n",
      "\u001b[32m\u001b[1m   Installed\u001b[22m\u001b[39m CustomUnitRanges ────────── v1.0.2\n",
      "\u001b[32m\u001b[1m   Installed\u001b[22m\u001b[39m Ratios ──────────────────── v0.4.5\n",
      "\u001b[32m\u001b[1m   Installed\u001b[22m\u001b[39m ImageMetadata ───────────── v0.9.5\n",
      "\u001b[32m\u001b[1m   Installed\u001b[22m\u001b[39m ComputationalResources ──── v0.3.2\n",
      "\u001b[32m\u001b[1m   Installed\u001b[22m\u001b[39m ImageMagick_jll ─────────── v6.9.10-12+3\n",
      "\u001b[32m\u001b[1m   Installed\u001b[22m\u001b[39m CatIndices ──────────────── v0.2.2\n",
      "\u001b[32m\u001b[1m   Installed\u001b[22m\u001b[39m Zstd_jll ────────────────── v1.5.5+0\n",
      "\u001b[32m\u001b[1m   Installed\u001b[22m\u001b[39m ImageQualityIndexes ─────── v0.2.2\n",
      "\u001b[32m\u001b[1m   Installed\u001b[22m\u001b[39m ImageTransformations ────── v0.8.13\n",
      "\u001b[32m\u001b[1m   Installed\u001b[22m\u001b[39m MKL_jll ─────────────────── v2024.0.0+0\n",
      "\u001b[32m\u001b[1m   Installed\u001b[22m\u001b[39m ImageShow ───────────────── v0.3.1\n",
      "\u001b[32m\u001b[1m   Installed\u001b[22m\u001b[39m Libtiff_jll ─────────────── v4.4.0+0\n",
      "\u001b[32m\u001b[1m   Installed\u001b[22m\u001b[39m CoordinateTransformations ─ v0.6.3\n",
      "\u001b[32m\u001b[1m   Installed\u001b[22m\u001b[39m ChainRulesCore ──────────── v1.21.1\n",
      "\u001b[32m\u001b[1m   Installed\u001b[22m\u001b[39m Quaternions ─────────────── v0.7.6\n",
      "\u001b[32m\u001b[1m   Installed\u001b[22m\u001b[39m Rotations ───────────────── v1.7.0\n",
      "\u001b[32m\u001b[1m   Installed\u001b[22m\u001b[39m FFTW_jll ────────────────── v3.3.10+0\n",
      "\u001b[32m\u001b[1m   Installed\u001b[22m\u001b[39m UnPack ──────────────────── v1.0.2\n",
      "\u001b[32m\u001b[1m   Installed\u001b[22m\u001b[39m ImageCore ───────────────── v0.8.22\n",
      "\u001b[32m\u001b[1m   Installed\u001b[22m\u001b[39m IndirectArrays ──────────── v0.5.1\n",
      "\u001b[32m\u001b[1m   Installed\u001b[22m\u001b[39m AxisAlgorithms ──────────── v1.0.1\n",
      "\u001b[32m\u001b[1m   Installed\u001b[22m\u001b[39m ImageDistances ──────────── v0.2.13\n",
      "\u001b[32m\u001b[1m   Installed\u001b[22m\u001b[39m ImageAxes ───────────────── v0.6.9\n",
      "\u001b[32m\u001b[1m   Installed\u001b[22m\u001b[39m FFTViews ────────────────── v0.3.2\n",
      "\u001b[32m\u001b[1m   Installed\u001b[22m\u001b[39m Parameters ──────────────── v0.12.3\n",
      "\u001b[32m\u001b[1m   Installed\u001b[22m\u001b[39m WoodburyMatrices ────────── v0.5.6\n",
      "\u001b[32m\u001b[1m   Installed\u001b[22m\u001b[39m ImageMorphology ─────────── v0.2.11\n",
      "\u001b[32m\u001b[1m   Installed\u001b[22m\u001b[39m ImageContrastAdjustment ─── v0.3.7\n",
      "\u001b[32m\u001b[1m   Installed\u001b[22m\u001b[39m ImageFiltering ──────────── v0.6.21\n",
      "\u001b[32m\u001b[1m   Installed\u001b[22m\u001b[39m Interpolations ──────────── v0.13.6\n",
      "\u001b[32m\u001b[1m    Updating\u001b[22m\u001b[39m `~/.julia/environments/v1.10/Project.toml`\n",
      "  \u001b[90m[6218d12a] \u001b[39m\u001b[92m+ ImageMagick v1.3.0\u001b[39m\n",
      "\u001b[32m⌃\u001b[39m \u001b[90m[916415d5] \u001b[39m\u001b[92m+ Images v0.24.1\u001b[39m\n",
      "\u001b[32m\u001b[1m    Updating\u001b[22m\u001b[39m `~/.julia/environments/v1.10/Manifest.toml`\n",
      "\u001b[32m⌃\u001b[39m \u001b[90m[13072b0f] \u001b[39m\u001b[92m+ AxisAlgorithms v1.0.1\u001b[39m\n",
      "  \u001b[90m[aafaddc9] \u001b[39m\u001b[92m+ CatIndices v0.2.2\u001b[39m\n",
      "  \u001b[90m[d360d2e6] \u001b[39m\u001b[92m+ ChainRulesCore v1.21.1\u001b[39m\n",
      "  \u001b[90m[ed09eef8] \u001b[39m\u001b[92m+ ComputationalResources v0.3.2\u001b[39m\n",
      "  \u001b[90m[150eb455] \u001b[39m\u001b[92m+ CoordinateTransformations v0.6.3\u001b[39m\n",
      "  \u001b[90m[dc8bdbbb] \u001b[39m\u001b[92m+ CustomUnitRanges v1.0.2\u001b[39m\n",
      "  \u001b[90m[864edb3b] \u001b[39m\u001b[93m↑ DataStructures v0.17.20 ⇒ v0.18.16\u001b[39m\n",
      "  \u001b[90m[b4f34e82] \u001b[39m\u001b[92m+ Distances v0.10.11\u001b[39m\n",
      "  \u001b[90m[4f61f5a4] \u001b[39m\u001b[92m+ FFTViews v0.3.2\u001b[39m\n",
      "  \u001b[90m[7a1cc6ca] \u001b[39m\u001b[92m+ FFTW v1.8.0\u001b[39m\n",
      "  \u001b[90m[bbac6d45] \u001b[39m\u001b[92m+ IdentityRanges v0.3.1\u001b[39m\n",
      "\u001b[32m⌃\u001b[39m \u001b[90m[2803e5a7] \u001b[39m\u001b[95m↓ ImageAxes v0.6.11 ⇒ v0.6.9\u001b[39m\n",
      "  \u001b[90m[c817782e] \u001b[39m\u001b[91m- ImageBase v0.1.5\u001b[39m\n",
      "\u001b[32m⌃\u001b[39m \u001b[90m[f332f351] \u001b[39m\u001b[92m+ ImageContrastAdjustment v0.3.7\u001b[39m\n",
      "\u001b[33m⌅\u001b[39m \u001b[90m[a09fc81d] \u001b[39m\u001b[95m↓ ImageCore v0.9.4 ⇒ v0.8.22\u001b[39m\n",
      "\u001b[32m⌃\u001b[39m \u001b[90m[51556ac3] \u001b[39m\u001b[92m+ ImageDistances v0.2.13\u001b[39m\n",
      "\u001b[33m⌅\u001b[39m \u001b[90m[6a3955dd] \u001b[39m\u001b[92m+ ImageFiltering v0.6.21\u001b[39m\n",
      "  \u001b[90m[6218d12a] \u001b[39m\u001b[92m+ ImageMagick v1.3.0\u001b[39m\n",
      "\u001b[32m⌃\u001b[39m \u001b[90m[bc367c6b] \u001b[39m\u001b[95m↓ ImageMetadata v0.9.9 ⇒ v0.9.5\u001b[39m\n",
      "\u001b[33m⌅\u001b[39m \u001b[90m[787d08f9] \u001b[39m\u001b[92m+ ImageMorphology v0.2.11\u001b[39m\n",
      "\u001b[33m⌅\u001b[39m \u001b[90m[2996bd0c] \u001b[39m\u001b[92m+ ImageQualityIndexes v0.2.2\u001b[39m\n",
      "\u001b[32m⌃\u001b[39m \u001b[90m[4e3cecfd] \u001b[39m\u001b[92m+ ImageShow v0.3.1\u001b[39m\n",
      "\u001b[33m⌅\u001b[39m \u001b[90m[02fcd773] \u001b[39m\u001b[92m+ ImageTransformations v0.8.13\u001b[39m\n",
      "\u001b[32m⌃\u001b[39m \u001b[90m[916415d5] \u001b[39m\u001b[92m+ Images v0.24.1\u001b[39m\n",
      "\u001b[33m⌅\u001b[39m \u001b[90m[9b13fd28] \u001b[39m\u001b[95m↓ IndirectArrays v1.0.0 ⇒ v0.5.1\u001b[39m\n",
      "\u001b[33m⌅\u001b[39m \u001b[90m[a98d9a8b] \u001b[39m\u001b[92m+ Interpolations v0.13.6\u001b[39m\n",
      "  \u001b[90m[86f7a689] \u001b[39m\u001b[93m↑ NamedArrays v0.9.4 ⇒ v0.10.0\u001b[39m\n",
      "\u001b[32m⌃\u001b[39m \u001b[90m[f09324ee] \u001b[39m\u001b[95m↓ Netpbm v1.1.1 ⇒ v1.0.1\u001b[39m\n",
      "  \u001b[90m[d96e819e] \u001b[39m\u001b[92m+ Parameters v0.12.3\u001b[39m\n",
      "  \u001b[90m[94ee1d12] \u001b[39m\u001b[92m+ Quaternions v0.7.6\u001b[39m\n",
      "  \u001b[90m[c84ed2f1] \u001b[39m\u001b[92m+ Ratios v0.4.5\u001b[39m\n",
      "  \u001b[90m[c1ae055f] \u001b[39m\u001b[92m+ RealDot v0.1.0\u001b[39m\n",
      "  \u001b[90m[6038ab10] \u001b[39m\u001b[92m+ Rotations v1.7.0\u001b[39m\n",
      "  \u001b[90m[90137ffa] \u001b[39m\u001b[92m+ StaticArrays v1.9.2\u001b[39m\n",
      "  \u001b[90m[1e83bf80] \u001b[39m\u001b[92m+ StaticArraysCore v1.4.2\u001b[39m\n",
      "\u001b[33m⌅\u001b[39m \u001b[90m[06e1c1a7] \u001b[39m\u001b[92m+ TiledIteration v0.3.1\u001b[39m\n",
      "  \u001b[90m[3a884ed6] \u001b[39m\u001b[92m+ UnPack v1.0.2\u001b[39m\n",
      "\u001b[33m⌅\u001b[39m \u001b[90m[efce3f68] \u001b[39m\u001b[92m+ WoodburyMatrices v0.5.6\u001b[39m\n",
      "  \u001b[90m[f5851436] \u001b[39m\u001b[92m+ FFTW_jll v3.3.10+0\u001b[39m\n",
      "\u001b[33m⌅\u001b[39m \u001b[90m[c73af94c] \u001b[39m\u001b[92m+ ImageMagick_jll v6.9.10-12+3\u001b[39m\n",
      "  \u001b[90m[1d5cc7b8] \u001b[39m\u001b[92m+ IntelOpenMP_jll v2024.0.2+0\u001b[39m\n",
      "  \u001b[90m[aacddb02] \u001b[39m\u001b[92m+ JpegTurbo_jll v3.0.1+0\u001b[39m\n",
      "  \u001b[90m[88015f11] \u001b[39m\u001b[92m+ LERC_jll v3.0.0+1\u001b[39m\n",
      "\u001b[33m⌅\u001b[39m \u001b[90m[89763e89] \u001b[39m\u001b[92m+ Libtiff_jll v4.4.0+0\u001b[39m\n",
      "  \u001b[90m[856f044c] \u001b[39m\u001b[92m+ MKL_jll v2024.0.0+0\u001b[39m\n",
      "  \u001b[90m[3161d3a3] \u001b[39m\u001b[92m+ Zstd_jll v1.5.5+0\u001b[39m\n",
      "  \u001b[90m[8ba89e20] \u001b[39m\u001b[92m+ Distributed\u001b[39m\n",
      "  \u001b[90m[1a1011a3] \u001b[39m\u001b[92m+ SharedArrays\u001b[39m\n",
      "\u001b[36m\u001b[1m        Info\u001b[22m\u001b[39m Packages marked with \u001b[32m⌃\u001b[39m and \u001b[33m⌅\u001b[39m have new versions available. Those with \u001b[32m⌃\u001b[39m may be upgradable, but those with \u001b[33m⌅\u001b[39m are restricted by compatibility constraints from upgrading. To see why use `status --outdated -m`\n",
      "\u001b[32m\u001b[1mPrecompiling\u001b[22m\u001b[39m project...\n",
      "\u001b[32m  ✓ \u001b[39m\u001b[90mCustomUnitRanges\u001b[39m\n",
      "\u001b[32m  ✓ \u001b[39m\u001b[90mIdentityRanges\u001b[39m\n",
      "\u001b[32m  ✓ \u001b[39m\u001b[90mUnPack\u001b[39m\n",
      "\u001b[32m  ✓ \u001b[39m\u001b[90mIndirectArrays\u001b[39m\n",
      "\u001b[32m  ✓ \u001b[39m\u001b[90mRealDot\u001b[39m\n",
      "\u001b[32m  ✓ \u001b[39m\u001b[90mStaticArraysCore\u001b[39m\n",
      "\u001b[32m  ✓ \u001b[39m\u001b[90mRatios\u001b[39m\n",
      "\u001b[32m  ✓ \u001b[39m\u001b[90mTiledIteration\u001b[39m\n",
      "\u001b[32m  ✓ \u001b[39m\u001b[90mComputationalResources\u001b[39m\n",
      "\u001b[32m  ✓ \u001b[39m\u001b[90mWoodburyMatrices\u001b[39m\n",
      "\u001b[32m  ✓ \u001b[39m\u001b[90mIntelOpenMP_jll\u001b[39m\n",
      "\u001b[32m  ✓ \u001b[39m\u001b[90mLERC_jll\u001b[39m\n",
      "\u001b[32m  ✓ \u001b[39m\u001b[90mChainRulesCore\u001b[39m\n",
      "\u001b[32m  ✓ \u001b[39m\u001b[90mZstd_jll\u001b[39m\n",
      "\u001b[32m  ✓ \u001b[39m\u001b[90mFFTW_jll\u001b[39m\n",
      "\u001b[32m  ✓ \u001b[39m\u001b[90mJpegTurbo_jll\u001b[39m\n",
      "\u001b[32m  ✓ \u001b[39m\u001b[90mCatIndices\u001b[39m\n",
      "\u001b[32m  ✓ \u001b[39m\u001b[90mParameters\u001b[39m\n",
      "\u001b[32m  ✓ \u001b[39m\u001b[90mQuaternions\u001b[39m\n",
      "\u001b[32m  ✓ \u001b[39m\u001b[90mDistances\u001b[39m\n",
      "\u001b[33m  ✓ \u001b[39m\u001b[90mDataStructures\u001b[39m\n",
      "\u001b[32m  ✓ \u001b[39m\u001b[90mRatios → RatiosFixedPointNumbersExt\u001b[39m\n",
      "\u001b[32m  ✓ \u001b[39m\u001b[90mAxisAlgorithms\u001b[39m\n",
      "\u001b[32m  ✓ \u001b[39m\u001b[90mChainRulesCore → ChainRulesCoreSparseArraysExt\u001b[39m\n",
      "\u001b[32m  ✓ \u001b[39m\u001b[90mAbstractFFTs → AbstractFFTsChainRulesCoreExt\u001b[39m\n",
      "\u001b[32m  ✓ \u001b[39m\u001b[90mDistances → DistancesSparseArraysExt\u001b[39m\n",
      "\u001b[32m  ✓ \u001b[39m\u001b[90mLibtiff_jll\u001b[39m\n",
      "\u001b[32m  ✓ \u001b[39m\u001b[90mLogExpFunctions → LogExpFunctionsChainRulesCoreExt\u001b[39m\n",
      "\u001b[32m  ✓ \u001b[39m\u001b[90mDistances → DistancesChainRulesCoreExt\u001b[39m\n",
      "\u001b[33m  ✓ \u001b[39m\u001b[90mNamedArrays\u001b[39m\n",
      "\u001b[32m  ✓ \u001b[39m\u001b[90mImageMagick_jll\u001b[39m\n",
      "\u001b[32m  ✓ \u001b[39m\u001b[90mImageCore\u001b[39m\n",
      "\u001b[32m  ✓ \u001b[39m\u001b[90mImageMorphology\u001b[39m\n",
      "\u001b[32m  ✓ \u001b[39m\u001b[90mImageAxes\u001b[39m\n",
      "\u001b[32m  ✓ \u001b[39m\u001b[90mImageShow\u001b[39m\n",
      "\u001b[32m  ✓ \u001b[39m\u001b[90mStaticArrays\u001b[39m\n",
      "\u001b[32m  ✓ \u001b[39m\u001b[90mNetpbm\u001b[39m\n",
      "\u001b[32m  ✓ \u001b[39m\u001b[90mImageDistances\u001b[39m\n",
      "\u001b[32m  ✓ \u001b[39m\u001b[90mPNGFiles\u001b[39m\n",
      "\u001b[32m  ✓ \u001b[39m\u001b[90mImageMetadata\u001b[39m\n",
      "\u001b[32m  ✓ \u001b[39m\u001b[90mStaticArrays → StaticArraysStatisticsExt\u001b[39m\n"
     ]
    },
    {
     "name": "stderr",
     "output_type": "stream",
     "text": [
      "\u001b[32m  ✓ \u001b[39m\u001b[90mStaticArrays → StaticArraysChainRulesCoreExt\u001b[39m\n",
      "\u001b[32m  ✓ \u001b[39mImageMagick\n",
      "\u001b[32m  ✓ \u001b[39m\u001b[90mCoordinateTransformations\u001b[39m\n",
      "\u001b[32m  ✓ \u001b[39m\u001b[90mRotations\u001b[39m\n",
      "\u001b[32m  ✓ \u001b[39m\u001b[90mInterpolations\u001b[39m\n",
      "MKL_jll\u001b[33m Waiting for background task / IO / timer.\u001b[39m\n",
      "[pid 371619] waiting for IO to finish:\n",
      " Handle type        uv_handle_t->data\n",
      " timer              0x140ffc0->0x7f7c3ff8fb80\n",
      "This means that a package has started a background task or event source that has not finished running. For precompilation to complete successfully, the event source needs to be closed explicitly. See the developer documentation on fixing precompilation hangs for more help.\n",
      "\u001b[32m  ✓ \u001b[39m\u001b[90mImageTransformations\u001b[39m\n",
      "\u001b[32m  ✓ \u001b[39m\u001b[90mMKL_jll\u001b[39m\n",
      "\u001b[32m  ✓ \u001b[39m\u001b[90mImageContrastAdjustment\u001b[39m\n",
      "\u001b[32m  ✓ \u001b[39m\u001b[90mFFTW\u001b[39m\n",
      "\u001b[32m  ✓ \u001b[39m\u001b[90mFFTViews\u001b[39m\n",
      "\u001b[32m  ✓ \u001b[39m\u001b[90mImageFiltering\u001b[39m\n",
      "\u001b[32m  ✓ \u001b[39m\u001b[90mImageQualityIndexes\u001b[39m\n",
      "\u001b[32m  ✓ \u001b[39mImages\n",
      "  54 dependencies successfully precompiled in 277 seconds. 136 already precompiled. 1 skipped during auto due to previous errors.\n",
      "  \u001b[33m2\u001b[39m dependencies precompiled but different versions are currently loaded. Restart julia to access the new versions\n",
      "  \u001b[33m2\u001b[39m dependencies had output during precompilation:\u001b[33m\n",
      "┌ \u001b[39mMKL_jll\u001b[33m\n",
      "│  \u001b[39m\u001b[32m\u001b[1m Downloading\u001b[22m\u001b[39m artifact: MKL\u001b[33m\n",
      "│  \u001b[39m\u001b[33m\n",
      "│  \u001b[39m[pid 371619] waiting for IO to finish:\u001b[33m\n",
      "│  \u001b[39m Handle type        uv_handle_t->data\u001b[33m\n",
      "│  \u001b[39m timer              0x140ffc0->0x7f7c3ff8fb80\u001b[33m\n",
      "│  \u001b[39mThis means that a package has started a background task or event source that has not finished running. For precompilation to complete successfully, the event source needs to be closed explicitly. See the developer documentation on fixing precompilation hangs for more help.\u001b[33m\n",
      "└  \u001b[39m\u001b[33m\n",
      "┌ \u001b[39mInterpolations\u001b[33m\n",
      "│  \u001b[39mWARNING: method definition for checkbounds at /home/number25/.julia/packages/Interpolations/y4lLj/src/Interpolations.jl:454 declares type variable N but does not use it.\u001b[33m\n",
      "│  \u001b[39mWARNING: method definition for checkbounds at /home/number25/.julia/packages/Interpolations/y4lLj/src/Interpolations.jl:457 declares type variable N but does not use it.\u001b[33m\n",
      "│  \u001b[39mWARNING: method definition for GriddedInterpolation at /home/number25/.julia/packages/Interpolations/y4lLj/src/gridded/gridded.jl:37 declares type variable pad but does not use it.\u001b[33m\n",
      "│  \u001b[39mWARNING: method definition for GriddedInterpolation at /home/number25/.julia/packages/Interpolations/y4lLj/src/gridded/gridded.jl:60 declares type variable pad but does not use it.\u001b[33m\n",
      "│  \u001b[39mWARNING: method definition for interpolate! at /home/number25/.julia/packages/Interpolations/y4lLj/src/deprecations.jl:30 declares type variable TWeights but does not use it.\u001b[33m\n",
      "└  \u001b[39m\n"
     ]
    }
   ],
   "source": [
    "Pkg.add([\"ImageIO\", \"Images\", \"ImageMagick\", \"FileIO\"]) ; using ImageIO, FileIO, ImageMagick"
   ]
  },
  {
   "cell_type": "markdown",
   "id": "4a0d4fc2",
   "metadata": {},
   "source": [
    "I'm gonna put this on hold as it's a bit hard to understand at the moment "
   ]
  },
  {
   "cell_type": "markdown",
   "id": "7d415ac8",
   "metadata": {},
   "source": [
    "## 3. \n",
    "Load the Gross Domestic Product data for the 190 ranked countries in this data set:\n",
    "\n",
    " https://d396qusza40orc.cloudfront.net/getdata%2Fdata%2FGDP.csv\n",
    " \n",
    "\n",
    "Load the educational data from this data set:\n",
    "\n",
    "https://d396qusza40orc.cloudfront.net/getdata%2Fdata%2FEDSTATS_Country.csv\n",
    "\n",
    "Match the data based on the country shortcode. How many of the IDs match? Sort the data frame in descending order by GDP rank (so United States is last). What is the 13th country in the resulting data frame?\n",
    "\n",
    "Original data sources: \n",
    "\n",
    "http://data.worldbank.org/data-catalog/GDP-ranking-table\n",
    "\n",
    "http://data.worldbank.org/data-catalog/ed-stats\n",
    "\n",
    "1 point\n",
    " "
   ]
  },
  {
   "cell_type": "code",
   "execution_count": 167,
   "id": "d2967d48",
   "metadata": {},
   "outputs": [
    {
     "data": {
      "text/plain": [
       "\"education.csv\""
      ]
     },
     "execution_count": 167,
     "metadata": {},
     "output_type": "execute_result"
    }
   ],
   "source": [
    "download(\"https://d396qusza40orc.cloudfront.net/getdata%2Fdata%2FGDP.csv\", \"gdp.csv\") ; download(\"https://d396qusza40orc.cloudfront.net/getdata%2Fdata%2FEDSTATS_Country.csv\", \"education.csv\")"
   ]
  },
  {
   "cell_type": "markdown",
   "id": "c16d7c07",
   "metadata": {},
   "source": [
    "Take a look at the structure of the .csv using some bash commands - this will let us know what the delimiters look like, the header structure and any other important features to take into consideration"
   ]
  },
  {
   "cell_type": "code",
   "execution_count": 178,
   "id": "ab85a237",
   "metadata": {},
   "outputs": [
    {
     "name": "stdout",
     "output_type": "stream",
     "text": [
      ",Gross domestic product 2012,,,,,,,,\r\n",
      ",,,,,,,,,\r\n",
      ",,,,(millions of,,,,,\r\n",
      ",Ranking,,Economy,US dollars),,,,,\r\n",
      ",,,,,,,,,\r\n",
      "USA,1,,United States,\" 16,244,600 \",,,,,\r\n",
      "CHN,2,,China,\" 8,227,103 \",,,,,\r\n",
      "JPN,3,,Japan,\" 5,959,718 \",,,,,\r\n",
      "DEU,4,,Germany,\" 3,428,131 \",,,,,\r\n",
      "FRA,5,,France,\" 2,612,878 \",,,,,\r\n",
      "GBR,6,,United Kingdom,\" 2,471,784 \",,,,,\r\n",
      "BRA,7,,Brazil,\" 2,252,664 \",,,,,\r\n",
      "RUS,8,,Russian Federation,\" 2,014,775 \",,,,,\r\n",
      "ITA,9,,Italy,\" 2,014,670 \",,,,,\r\n",
      "IND,10,,India,\" 1,841,710 \",,,,,\r\n",
      "CAN,11,,Canada,\" 1,821,424 \",,,,,\r\n",
      "AUS,12,,Australia,\" 1,532,408 \",,,,,\r\n",
      "ESP,13,,Spain,\" 1,322,965 \",,,,,\r\n",
      "MEX,14,,Mexico,\" 1,178,126 \",,,,,\r\n",
      "KOR,15,,\"Korea, Rep.\",\" 1,129,598 \",,,,,\r\n"
     ]
    },
    {
     "data": {
      "text/plain": [
       "Process(`\u001b[4mhead\u001b[24m \u001b[4mgdp.csv\u001b[24m \u001b[4m-n\u001b[24m \u001b[4m20\u001b[24m`, ProcessExited(0))"
      ]
     },
     "execution_count": 178,
     "metadata": {},
     "output_type": "execute_result"
    }
   ],
   "source": [
    "run(`head gdp.csv -n 20`)"
   ]
  },
  {
   "cell_type": "markdown",
   "id": "bd0bbb58",
   "metadata": {},
   "source": [
    "Import the data into a Dataframe, start parsing the data from line 6 as the first 5 lines are headers, and the header is located on the 4th line. Since the dataframe contains many ill-formated columns and missing rows, we'll only extract the 4 columns that have been properly input, and then drop the missing rows. We'll also rename the columns to make it easier to read and work with. "
   ]
  },
  {
   "cell_type": "code",
   "execution_count": 298,
   "id": "69ae3191",
   "metadata": {
    "collapsed": true,
    "jupyter": {
     "outputs_hidden": true
    }
   },
   "outputs": [
    {
     "data": {
      "text/html": [
       "<div><div style = \"float: left;\"><span>190×4 DataFrame</span></div><div style = \"float: right;\"><span style = \"font-style: italic;\">165 rows omitted</span></div><div style = \"clear: both;\"></div></div><div class = \"data-frame\" style = \"overflow-x: scroll;\"><table class = \"data-frame\" style = \"margin-bottom: 6px;\"><thead><tr class = \"header\"><th class = \"rowNumber\" style = \"font-weight: bold; text-align: right;\">Row</th><th style = \"text-align: left;\">CountryCode</th><th style = \"text-align: left;\">Rank</th><th style = \"text-align: left;\">Country</th><th style = \"text-align: left;\">US_dollars</th></tr><tr class = \"subheader headerLastRow\"><th class = \"rowNumber\" style = \"font-weight: bold; text-align: right;\"></th><th title = \"String3\" style = \"text-align: left;\">String3</th><th title = \"String\" style = \"text-align: left;\">String</th><th title = \"String31\" style = \"text-align: left;\">String31</th><th title = \"String15\" style = \"text-align: left;\">String15</th></tr></thead><tbody><tr><td class = \"rowNumber\" style = \"font-weight: bold; text-align: right;\">1</td><td style = \"text-align: left;\">USA</td><td style = \"text-align: left;\">1</td><td style = \"text-align: left;\">United States</td><td style = \"text-align: left;\"> 16,244,600 </td></tr><tr><td class = \"rowNumber\" style = \"font-weight: bold; text-align: right;\">2</td><td style = \"text-align: left;\">CHN</td><td style = \"text-align: left;\">2</td><td style = \"text-align: left;\">China</td><td style = \"text-align: left;\"> 8,227,103 </td></tr><tr><td class = \"rowNumber\" style = \"font-weight: bold; text-align: right;\">3</td><td style = \"text-align: left;\">JPN</td><td style = \"text-align: left;\">3</td><td style = \"text-align: left;\">Japan</td><td style = \"text-align: left;\"> 5,959,718 </td></tr><tr><td class = \"rowNumber\" style = \"font-weight: bold; text-align: right;\">4</td><td style = \"text-align: left;\">DEU</td><td style = \"text-align: left;\">4</td><td style = \"text-align: left;\">Germany</td><td style = \"text-align: left;\"> 3,428,131 </td></tr><tr><td class = \"rowNumber\" style = \"font-weight: bold; text-align: right;\">5</td><td style = \"text-align: left;\">FRA</td><td style = \"text-align: left;\">5</td><td style = \"text-align: left;\">France</td><td style = \"text-align: left;\"> 2,612,878 </td></tr><tr><td class = \"rowNumber\" style = \"font-weight: bold; text-align: right;\">6</td><td style = \"text-align: left;\">GBR</td><td style = \"text-align: left;\">6</td><td style = \"text-align: left;\">United Kingdom</td><td style = \"text-align: left;\"> 2,471,784 </td></tr><tr><td class = \"rowNumber\" style = \"font-weight: bold; text-align: right;\">7</td><td style = \"text-align: left;\">BRA</td><td style = \"text-align: left;\">7</td><td style = \"text-align: left;\">Brazil</td><td style = \"text-align: left;\"> 2,252,664 </td></tr><tr><td class = \"rowNumber\" style = \"font-weight: bold; text-align: right;\">8</td><td style = \"text-align: left;\">RUS</td><td style = \"text-align: left;\">8</td><td style = \"text-align: left;\">Russian Federation</td><td style = \"text-align: left;\"> 2,014,775 </td></tr><tr><td class = \"rowNumber\" style = \"font-weight: bold; text-align: right;\">9</td><td style = \"text-align: left;\">ITA</td><td style = \"text-align: left;\">9</td><td style = \"text-align: left;\">Italy</td><td style = \"text-align: left;\"> 2,014,670 </td></tr><tr><td class = \"rowNumber\" style = \"font-weight: bold; text-align: right;\">10</td><td style = \"text-align: left;\">IND</td><td style = \"text-align: left;\">10</td><td style = \"text-align: left;\">India</td><td style = \"text-align: left;\"> 1,841,710 </td></tr><tr><td class = \"rowNumber\" style = \"font-weight: bold; text-align: right;\">11</td><td style = \"text-align: left;\">CAN</td><td style = \"text-align: left;\">11</td><td style = \"text-align: left;\">Canada</td><td style = \"text-align: left;\"> 1,821,424 </td></tr><tr><td class = \"rowNumber\" style = \"font-weight: bold; text-align: right;\">12</td><td style = \"text-align: left;\">AUS</td><td style = \"text-align: left;\">12</td><td style = \"text-align: left;\">Australia</td><td style = \"text-align: left;\"> 1,532,408 </td></tr><tr><td class = \"rowNumber\" style = \"font-weight: bold; text-align: right;\">13</td><td style = \"text-align: left;\">ESP</td><td style = \"text-align: left;\">13</td><td style = \"text-align: left;\">Spain</td><td style = \"text-align: left;\"> 1,322,965 </td></tr><tr><td style = \"text-align: right;\">&vellip;</td><td style = \"text-align: right;\">&vellip;</td><td style = \"text-align: right;\">&vellip;</td><td style = \"text-align: right;\">&vellip;</td><td style = \"text-align: right;\">&vellip;</td></tr><tr><td class = \"rowNumber\" style = \"font-weight: bold; text-align: right;\">179</td><td style = \"text-align: left;\">KNA</td><td style = \"text-align: left;\">178</td><td style = \"text-align: left;\">St. Kitts and Nevis</td><td style = \"text-align: left;\"> 767 </td></tr><tr><td class = \"rowNumber\" style = \"font-weight: bold; text-align: right;\">180</td><td style = \"text-align: left;\">VCT</td><td style = \"text-align: left;\">180</td><td style = \"text-align: left;\">St. Vincent and the Grenadines</td><td style = \"text-align: left;\"> 713 </td></tr><tr><td class = \"rowNumber\" style = \"font-weight: bold; text-align: right;\">181</td><td style = \"text-align: left;\">WSM</td><td style = \"text-align: left;\">181</td><td style = \"text-align: left;\">Samoa</td><td style = \"text-align: left;\"> 684 </td></tr><tr><td class = \"rowNumber\" style = \"font-weight: bold; text-align: right;\">182</td><td style = \"text-align: left;\">COM</td><td style = \"text-align: left;\">182</td><td style = \"text-align: left;\">Comoros</td><td style = \"text-align: left;\"> 596 </td></tr><tr><td class = \"rowNumber\" style = \"font-weight: bold; text-align: right;\">183</td><td style = \"text-align: left;\">DMA</td><td style = \"text-align: left;\">183</td><td style = \"text-align: left;\">Dominica</td><td style = \"text-align: left;\"> 480 </td></tr><tr><td class = \"rowNumber\" style = \"font-weight: bold; text-align: right;\">184</td><td style = \"text-align: left;\">TON</td><td style = \"text-align: left;\">184</td><td style = \"text-align: left;\">Tonga</td><td style = \"text-align: left;\"> 472 </td></tr><tr><td class = \"rowNumber\" style = \"font-weight: bold; text-align: right;\">185</td><td style = \"text-align: left;\">FSM</td><td style = \"text-align: left;\">185</td><td style = \"text-align: left;\">Micronesia, Fed. Sts.</td><td style = \"text-align: left;\"> 326 </td></tr><tr><td class = \"rowNumber\" style = \"font-weight: bold; text-align: right;\">186</td><td style = \"text-align: left;\">STP</td><td style = \"text-align: left;\">186</td><td style = \"text-align: left;\">S\\xe3o Tom\\xe9 and Principe</td><td style = \"text-align: left;\"> 263 </td></tr><tr><td class = \"rowNumber\" style = \"font-weight: bold; text-align: right;\">187</td><td style = \"text-align: left;\">PLW</td><td style = \"text-align: left;\">187</td><td style = \"text-align: left;\">Palau</td><td style = \"text-align: left;\"> 228 </td></tr><tr><td class = \"rowNumber\" style = \"font-weight: bold; text-align: right;\">188</td><td style = \"text-align: left;\">MHL</td><td style = \"text-align: left;\">188</td><td style = \"text-align: left;\">Marshall Islands</td><td style = \"text-align: left;\"> 182 </td></tr><tr><td class = \"rowNumber\" style = \"font-weight: bold; text-align: right;\">189</td><td style = \"text-align: left;\">KIR</td><td style = \"text-align: left;\">189</td><td style = \"text-align: left;\">Kiribati</td><td style = \"text-align: left;\"> 175 </td></tr><tr><td class = \"rowNumber\" style = \"font-weight: bold; text-align: right;\">190</td><td style = \"text-align: left;\">TUV</td><td style = \"text-align: left;\">190</td><td style = \"text-align: left;\">Tuvalu</td><td style = \"text-align: left;\"> 40 </td></tr></tbody></table></div>"
      ],
      "text/latex": [
       "\\begin{tabular}{r|cccc}\n",
       "\t& CountryCode & Rank & Country & US\\_dollars\\\\\n",
       "\t\\hline\n",
       "\t& String3 & String & String31 & String15\\\\\n",
       "\t\\hline\n",
       "\t1 & USA & 1 & United States &  16,244,600  \\\\\n",
       "\t2 & CHN & 2 & China &  8,227,103  \\\\\n",
       "\t3 & JPN & 3 & Japan &  5,959,718  \\\\\n",
       "\t4 & DEU & 4 & Germany &  3,428,131  \\\\\n",
       "\t5 & FRA & 5 & France &  2,612,878  \\\\\n",
       "\t6 & GBR & 6 & United Kingdom &  2,471,784  \\\\\n",
       "\t7 & BRA & 7 & Brazil &  2,252,664  \\\\\n",
       "\t8 & RUS & 8 & Russian Federation &  2,014,775  \\\\\n",
       "\t9 & ITA & 9 & Italy &  2,014,670  \\\\\n",
       "\t10 & IND & 10 & India &  1,841,710  \\\\\n",
       "\t11 & CAN & 11 & Canada &  1,821,424  \\\\\n",
       "\t12 & AUS & 12 & Australia &  1,532,408  \\\\\n",
       "\t13 & ESP & 13 & Spain &  1,322,965  \\\\\n",
       "\t14 & MEX & 14 & Mexico &  1,178,126  \\\\\n",
       "\t15 & KOR & 15 & Korea, Rep. &  1,129,598  \\\\\n",
       "\t16 & IDN & 16 & Indonesia &  878,043  \\\\\n",
       "\t17 & TUR & 17 & Turkey &  789,257  \\\\\n",
       "\t18 & NLD & 18 & Netherlands &  770,555  \\\\\n",
       "\t19 & SAU & 19 & Saudi Arabia &  711,050  \\\\\n",
       "\t20 & CHE & 20 & Switzerland &  631,173  \\\\\n",
       "\t21 & SWE & 21 & Sweden &  523,806  \\\\\n",
       "\t22 & IRN & 22 & Iran, Islamic Rep. &  514,060  \\\\\n",
       "\t23 & NOR & 23 & Norway &  499,667  \\\\\n",
       "\t24 & POL & 24 & Poland &  489,795  \\\\\n",
       "\t25 & BEL & 25 & Belgium &  483,262  \\\\\n",
       "\t26 & ARG & 26 & Argentina &  475,502  \\\\\n",
       "\t27 & AUT & 27 & Austria &  394,708  \\\\\n",
       "\t28 & ZAF & 28 & South Africa &  384,313  \\\\\n",
       "\t29 & VEN & 29 & Venezuela, RB &  381,286  \\\\\n",
       "\t30 & COL & 30 & Colombia &  369,606  \\\\\n",
       "\t$\\dots$ & $\\dots$ & $\\dots$ & $\\dots$ & $\\dots$ \\\\\n",
       "\\end{tabular}\n"
      ],
      "text/plain": [
       "\u001b[1m190×4 DataFrame\u001b[0m\n",
       "\u001b[1m Row \u001b[0m│\u001b[1m CountryCode \u001b[0m\u001b[1m Rank   \u001b[0m\u001b[1m Country                        \u001b[0m\u001b[1m US_dollars   \u001b[0m\n",
       "     │\u001b[90m String3     \u001b[0m\u001b[90m String \u001b[0m\u001b[90m String31                       \u001b[0m\u001b[90m String15     \u001b[0m\n",
       "─────┼───────────────────────────────────────────────────────────────────\n",
       "   1 │ USA          1       United States                    16,244,600\n",
       "   2 │ CHN          2       China                            8,227,103\n",
       "   3 │ JPN          3       Japan                            5,959,718\n",
       "   4 │ DEU          4       Germany                          3,428,131\n",
       "   5 │ FRA          5       France                           2,612,878\n",
       "   6 │ GBR          6       United Kingdom                   2,471,784\n",
       "   7 │ BRA          7       Brazil                           2,252,664\n",
       "   8 │ RUS          8       Russian Federation               2,014,775\n",
       "   9 │ ITA          9       Italy                            2,014,670\n",
       "  10 │ IND          10      India                            1,841,710\n",
       "  11 │ CAN          11      Canada                           1,821,424\n",
       "  ⋮  │      ⋮         ⋮                   ⋮                      ⋮\n",
       " 181 │ WSM          181     Samoa                            684\n",
       " 182 │ COM          182     Comoros                          596\n",
       " 183 │ DMA          183     Dominica                         480\n",
       " 184 │ TON          184     Tonga                            472\n",
       " 185 │ FSM          185     Micronesia, Fed. Sts.            326\n",
       " 186 │ STP          186     S\\xe3o Tom\\xe9 and Principe      263\n",
       " 187 │ PLW          187     Palau                            228\n",
       " 188 │ MHL          188     Marshall Islands                 182\n",
       " 189 │ KIR          189     Kiribati                         175\n",
       " 190 │ TUV          190     Tuvalu                           40\n",
       "\u001b[36m                                                         169 rows omitted\u001b[0m"
      ]
     },
     "execution_count": 298,
     "metadata": {},
     "output_type": "execute_result"
    }
   ],
   "source": [
    "gdp_raw = CSV.read(\"gdp.csv\", DataFrame, skipto=6, header=4) \n",
    "gdp_raw_nomissing = dropmissing(gdp_raw[:, [:1, :2, :4, :5]])\n",
    "gdp_cleaned = rename!(gdp_raw_nomissing, [\"CountryCode\", \"Rank\", \"Country\", \"US_dollars\"])"
   ]
  },
  {
   "cell_type": "markdown",
   "id": "35cf5cad",
   "metadata": {},
   "source": [
    "The commas in the US_dollars column are causing the numeric values to be represented as Strings, and thus the column type is String15 -- in order to perform numeric operations, we need to change this column type. We'll remove the commas and then parse the columns values as Intergers to create the new frame"
   ]
  },
  {
   "cell_type": "code",
   "execution_count": 299,
   "id": "f3d3b3fd",
   "metadata": {
    "collapsed": true,
    "jupyter": {
     "outputs_hidden": true
    }
   },
   "outputs": [
    {
     "data": {
      "text/plain": [
       "190-element Vector{Int64}:\n",
       "   1\n",
       "   2\n",
       "   3\n",
       "   4\n",
       "   5\n",
       "   6\n",
       "   7\n",
       "   8\n",
       "   9\n",
       "  10\n",
       "  11\n",
       "  12\n",
       "  13\n",
       "   ⋮\n",
       " 178\n",
       " 180\n",
       " 181\n",
       " 182\n",
       " 183\n",
       " 184\n",
       " 185\n",
       " 186\n",
       " 187\n",
       " 188\n",
       " 189\n",
       " 190"
      ]
     },
     "execution_count": 299,
     "metadata": {},
     "output_type": "execute_result"
    }
   ],
   "source": [
    "gdp_cleaned.US_dollars .= replace.(gdp_cleaned.US_dollars, \",\" => \"\")\n",
    "gdp_cleaned.US_dollars = parse.(Int, gdp_cleaned.US_dollars)\n",
    "gdp_cleaned.Rank = parse.(Int, gdp_cleaned.Rank)\n",
    "#gdp_cleaned"
   ]
  },
  {
   "cell_type": "code",
   "execution_count": 300,
   "id": "7d94ec7e",
   "metadata": {
    "collapsed": true,
    "jupyter": {
     "outputs_hidden": true
    }
   },
   "outputs": [
    {
     "data": {
      "text/html": [
       "<div><div style = \"float: left;\"><span>190×4 DataFrame</span></div><div style = \"float: right;\"><span style = \"font-style: italic;\">165 rows omitted</span></div><div style = \"clear: both;\"></div></div><div class = \"data-frame\" style = \"overflow-x: scroll;\"><table class = \"data-frame\" style = \"margin-bottom: 6px;\"><thead><tr class = \"header\"><th class = \"rowNumber\" style = \"font-weight: bold; text-align: right;\">Row</th><th style = \"text-align: left;\">CountryCode</th><th style = \"text-align: left;\">Rank</th><th style = \"text-align: left;\">Country</th><th style = \"text-align: left;\">US_dollars</th></tr><tr class = \"subheader headerLastRow\"><th class = \"rowNumber\" style = \"font-weight: bold; text-align: right;\"></th><th title = \"String3\" style = \"text-align: left;\">String3</th><th title = \"Int64\" style = \"text-align: left;\">Int64</th><th title = \"String31\" style = \"text-align: left;\">String31</th><th title = \"Int64\" style = \"text-align: left;\">Int64</th></tr></thead><tbody><tr><td class = \"rowNumber\" style = \"font-weight: bold; text-align: right;\">1</td><td style = \"text-align: left;\">USA</td><td style = \"text-align: right;\">1</td><td style = \"text-align: left;\">United States</td><td style = \"text-align: right;\">16244600</td></tr><tr><td class = \"rowNumber\" style = \"font-weight: bold; text-align: right;\">2</td><td style = \"text-align: left;\">CHN</td><td style = \"text-align: right;\">2</td><td style = \"text-align: left;\">China</td><td style = \"text-align: right;\">8227103</td></tr><tr><td class = \"rowNumber\" style = \"font-weight: bold; text-align: right;\">3</td><td style = \"text-align: left;\">JPN</td><td style = \"text-align: right;\">3</td><td style = \"text-align: left;\">Japan</td><td style = \"text-align: right;\">5959718</td></tr><tr><td class = \"rowNumber\" style = \"font-weight: bold; text-align: right;\">4</td><td style = \"text-align: left;\">DEU</td><td style = \"text-align: right;\">4</td><td style = \"text-align: left;\">Germany</td><td style = \"text-align: right;\">3428131</td></tr><tr><td class = \"rowNumber\" style = \"font-weight: bold; text-align: right;\">5</td><td style = \"text-align: left;\">FRA</td><td style = \"text-align: right;\">5</td><td style = \"text-align: left;\">France</td><td style = \"text-align: right;\">2612878</td></tr><tr><td class = \"rowNumber\" style = \"font-weight: bold; text-align: right;\">6</td><td style = \"text-align: left;\">GBR</td><td style = \"text-align: right;\">6</td><td style = \"text-align: left;\">United Kingdom</td><td style = \"text-align: right;\">2471784</td></tr><tr><td class = \"rowNumber\" style = \"font-weight: bold; text-align: right;\">7</td><td style = \"text-align: left;\">BRA</td><td style = \"text-align: right;\">7</td><td style = \"text-align: left;\">Brazil</td><td style = \"text-align: right;\">2252664</td></tr><tr><td class = \"rowNumber\" style = \"font-weight: bold; text-align: right;\">8</td><td style = \"text-align: left;\">RUS</td><td style = \"text-align: right;\">8</td><td style = \"text-align: left;\">Russian Federation</td><td style = \"text-align: right;\">2014775</td></tr><tr><td class = \"rowNumber\" style = \"font-weight: bold; text-align: right;\">9</td><td style = \"text-align: left;\">ITA</td><td style = \"text-align: right;\">9</td><td style = \"text-align: left;\">Italy</td><td style = \"text-align: right;\">2014670</td></tr><tr><td class = \"rowNumber\" style = \"font-weight: bold; text-align: right;\">10</td><td style = \"text-align: left;\">IND</td><td style = \"text-align: right;\">10</td><td style = \"text-align: left;\">India</td><td style = \"text-align: right;\">1841710</td></tr><tr><td class = \"rowNumber\" style = \"font-weight: bold; text-align: right;\">11</td><td style = \"text-align: left;\">CAN</td><td style = \"text-align: right;\">11</td><td style = \"text-align: left;\">Canada</td><td style = \"text-align: right;\">1821424</td></tr><tr><td class = \"rowNumber\" style = \"font-weight: bold; text-align: right;\">12</td><td style = \"text-align: left;\">AUS</td><td style = \"text-align: right;\">12</td><td style = \"text-align: left;\">Australia</td><td style = \"text-align: right;\">1532408</td></tr><tr><td class = \"rowNumber\" style = \"font-weight: bold; text-align: right;\">13</td><td style = \"text-align: left;\">ESP</td><td style = \"text-align: right;\">13</td><td style = \"text-align: left;\">Spain</td><td style = \"text-align: right;\">1322965</td></tr><tr><td style = \"text-align: right;\">&vellip;</td><td style = \"text-align: right;\">&vellip;</td><td style = \"text-align: right;\">&vellip;</td><td style = \"text-align: right;\">&vellip;</td><td style = \"text-align: right;\">&vellip;</td></tr><tr><td class = \"rowNumber\" style = \"font-weight: bold; text-align: right;\">179</td><td style = \"text-align: left;\">KNA</td><td style = \"text-align: right;\">178</td><td style = \"text-align: left;\">St. Kitts and Nevis</td><td style = \"text-align: right;\">767</td></tr><tr><td class = \"rowNumber\" style = \"font-weight: bold; text-align: right;\">180</td><td style = \"text-align: left;\">VCT</td><td style = \"text-align: right;\">180</td><td style = \"text-align: left;\">St. Vincent and the Grenadines</td><td style = \"text-align: right;\">713</td></tr><tr><td class = \"rowNumber\" style = \"font-weight: bold; text-align: right;\">181</td><td style = \"text-align: left;\">WSM</td><td style = \"text-align: right;\">181</td><td style = \"text-align: left;\">Samoa</td><td style = \"text-align: right;\">684</td></tr><tr><td class = \"rowNumber\" style = \"font-weight: bold; text-align: right;\">182</td><td style = \"text-align: left;\">COM</td><td style = \"text-align: right;\">182</td><td style = \"text-align: left;\">Comoros</td><td style = \"text-align: right;\">596</td></tr><tr><td class = \"rowNumber\" style = \"font-weight: bold; text-align: right;\">183</td><td style = \"text-align: left;\">DMA</td><td style = \"text-align: right;\">183</td><td style = \"text-align: left;\">Dominica</td><td style = \"text-align: right;\">480</td></tr><tr><td class = \"rowNumber\" style = \"font-weight: bold; text-align: right;\">184</td><td style = \"text-align: left;\">TON</td><td style = \"text-align: right;\">184</td><td style = \"text-align: left;\">Tonga</td><td style = \"text-align: right;\">472</td></tr><tr><td class = \"rowNumber\" style = \"font-weight: bold; text-align: right;\">185</td><td style = \"text-align: left;\">FSM</td><td style = \"text-align: right;\">185</td><td style = \"text-align: left;\">Micronesia, Fed. Sts.</td><td style = \"text-align: right;\">326</td></tr><tr><td class = \"rowNumber\" style = \"font-weight: bold; text-align: right;\">186</td><td style = \"text-align: left;\">STP</td><td style = \"text-align: right;\">186</td><td style = \"text-align: left;\">S\\xe3o Tom\\xe9 and Principe</td><td style = \"text-align: right;\">263</td></tr><tr><td class = \"rowNumber\" style = \"font-weight: bold; text-align: right;\">187</td><td style = \"text-align: left;\">PLW</td><td style = \"text-align: right;\">187</td><td style = \"text-align: left;\">Palau</td><td style = \"text-align: right;\">228</td></tr><tr><td class = \"rowNumber\" style = \"font-weight: bold; text-align: right;\">188</td><td style = \"text-align: left;\">MHL</td><td style = \"text-align: right;\">188</td><td style = \"text-align: left;\">Marshall Islands</td><td style = \"text-align: right;\">182</td></tr><tr><td class = \"rowNumber\" style = \"font-weight: bold; text-align: right;\">189</td><td style = \"text-align: left;\">KIR</td><td style = \"text-align: right;\">189</td><td style = \"text-align: left;\">Kiribati</td><td style = \"text-align: right;\">175</td></tr><tr><td class = \"rowNumber\" style = \"font-weight: bold; text-align: right;\">190</td><td style = \"text-align: left;\">TUV</td><td style = \"text-align: right;\">190</td><td style = \"text-align: left;\">Tuvalu</td><td style = \"text-align: right;\">40</td></tr></tbody></table></div>"
      ],
      "text/latex": [
       "\\begin{tabular}{r|cccc}\n",
       "\t& CountryCode & Rank & Country & US\\_dollars\\\\\n",
       "\t\\hline\n",
       "\t& String3 & Int64 & String31 & Int64\\\\\n",
       "\t\\hline\n",
       "\t1 & USA & 1 & United States & 16244600 \\\\\n",
       "\t2 & CHN & 2 & China & 8227103 \\\\\n",
       "\t3 & JPN & 3 & Japan & 5959718 \\\\\n",
       "\t4 & DEU & 4 & Germany & 3428131 \\\\\n",
       "\t5 & FRA & 5 & France & 2612878 \\\\\n",
       "\t6 & GBR & 6 & United Kingdom & 2471784 \\\\\n",
       "\t7 & BRA & 7 & Brazil & 2252664 \\\\\n",
       "\t8 & RUS & 8 & Russian Federation & 2014775 \\\\\n",
       "\t9 & ITA & 9 & Italy & 2014670 \\\\\n",
       "\t10 & IND & 10 & India & 1841710 \\\\\n",
       "\t11 & CAN & 11 & Canada & 1821424 \\\\\n",
       "\t12 & AUS & 12 & Australia & 1532408 \\\\\n",
       "\t13 & ESP & 13 & Spain & 1322965 \\\\\n",
       "\t14 & MEX & 14 & Mexico & 1178126 \\\\\n",
       "\t15 & KOR & 15 & Korea, Rep. & 1129598 \\\\\n",
       "\t16 & IDN & 16 & Indonesia & 878043 \\\\\n",
       "\t17 & TUR & 17 & Turkey & 789257 \\\\\n",
       "\t18 & NLD & 18 & Netherlands & 770555 \\\\\n",
       "\t19 & SAU & 19 & Saudi Arabia & 711050 \\\\\n",
       "\t20 & CHE & 20 & Switzerland & 631173 \\\\\n",
       "\t21 & SWE & 21 & Sweden & 523806 \\\\\n",
       "\t22 & IRN & 22 & Iran, Islamic Rep. & 514060 \\\\\n",
       "\t23 & NOR & 23 & Norway & 499667 \\\\\n",
       "\t24 & POL & 24 & Poland & 489795 \\\\\n",
       "\t25 & BEL & 25 & Belgium & 483262 \\\\\n",
       "\t26 & ARG & 26 & Argentina & 475502 \\\\\n",
       "\t27 & AUT & 27 & Austria & 394708 \\\\\n",
       "\t28 & ZAF & 28 & South Africa & 384313 \\\\\n",
       "\t29 & VEN & 29 & Venezuela, RB & 381286 \\\\\n",
       "\t30 & COL & 30 & Colombia & 369606 \\\\\n",
       "\t$\\dots$ & $\\dots$ & $\\dots$ & $\\dots$ & $\\dots$ \\\\\n",
       "\\end{tabular}\n"
      ],
      "text/plain": [
       "\u001b[1m190×4 DataFrame\u001b[0m\n",
       "\u001b[1m Row \u001b[0m│\u001b[1m CountryCode \u001b[0m\u001b[1m Rank  \u001b[0m\u001b[1m Country                        \u001b[0m\u001b[1m US_dollars \u001b[0m\n",
       "     │\u001b[90m String3     \u001b[0m\u001b[90m Int64 \u001b[0m\u001b[90m String31                       \u001b[0m\u001b[90m Int64      \u001b[0m\n",
       "─────┼────────────────────────────────────────────────────────────────\n",
       "   1 │ USA              1  United States                     16244600\n",
       "   2 │ CHN              2  China                              8227103\n",
       "   3 │ JPN              3  Japan                              5959718\n",
       "   4 │ DEU              4  Germany                            3428131\n",
       "   5 │ FRA              5  France                             2612878\n",
       "   6 │ GBR              6  United Kingdom                     2471784\n",
       "   7 │ BRA              7  Brazil                             2252664\n",
       "   8 │ RUS              8  Russian Federation                 2014775\n",
       "   9 │ ITA              9  Italy                              2014670\n",
       "  10 │ IND             10  India                              1841710\n",
       "  11 │ CAN             11  Canada                             1821424\n",
       "  ⋮  │      ⋮         ⋮                  ⋮                     ⋮\n",
       " 181 │ WSM            181  Samoa                                  684\n",
       " 182 │ COM            182  Comoros                                596\n",
       " 183 │ DMA            183  Dominica                               480\n",
       " 184 │ TON            184  Tonga                                  472\n",
       " 185 │ FSM            185  Micronesia, Fed. Sts.                  326\n",
       " 186 │ STP            186  S\\xe3o Tom\\xe9 and Principe            263\n",
       " 187 │ PLW            187  Palau                                  228\n",
       " 188 │ MHL            188  Marshall Islands                       182\n",
       " 189 │ KIR            189  Kiribati                               175\n",
       " 190 │ TUV            190  Tuvalu                                  40\n",
       "\u001b[36m                                                      169 rows omitted\u001b[0m"
      ]
     },
     "execution_count": 300,
     "metadata": {},
     "output_type": "execute_result"
    }
   ],
   "source": [
    "gdp_cleaned"
   ]
  },
  {
   "cell_type": "markdown",
   "id": "70f34988",
   "metadata": {},
   "source": [
    "Import education data"
   ]
  },
  {
   "cell_type": "code",
   "execution_count": 301,
   "id": "d8926616",
   "metadata": {
    "collapsed": true,
    "jupyter": {
     "outputs_hidden": true
    }
   },
   "outputs": [
    {
     "data": {
      "text/html": [
       "<div><div style = \"float: left;\"><span>234×31 DataFrame</span></div><div style = \"float: right;\"><span style = \"font-style: italic;\">209 rows omitted</span></div><div style = \"clear: both;\"></div></div><div class = \"data-frame\" style = \"overflow-x: scroll;\"><table class = \"data-frame\" style = \"margin-bottom: 6px;\"><thead><tr class = \"header\"><th class = \"rowNumber\" style = \"font-weight: bold; text-align: right;\">Row</th><th style = \"text-align: left;\">CountryCode</th><th style = \"text-align: left;\">Long Name</th><th style = \"text-align: left;\">Income Group</th><th style = \"text-align: left;\">Region</th><th style = \"text-align: left;\">Lending category</th><th style = \"text-align: left;\">Other groups</th><th style = \"text-align: left;\">Currency Unit</th><th style = \"text-align: left;\">Latest population census</th><th style = \"text-align: left;\">Latest household survey</th><th style = \"text-align: left;\">Special Notes</th><th style = \"text-align: left;\">National accounts base year</th><th style = \"text-align: left;\">National accounts reference year</th><th style = \"text-align: left;\">System of National Accounts</th><th style = \"text-align: left;\">SNA price valuation</th><th style = \"text-align: left;\">Alternative conversion factor</th><th style = \"text-align: left;\">PPP survey year</th><th style = \"text-align: left;\">Balance of Payments Manual in use</th><th style = \"text-align: left;\">External debt Reporting status</th><th style = \"text-align: left;\">System of trade</th><th style = \"text-align: left;\">Government Accounting concept</th><th style = \"text-align: left;\">IMF data dissemination standard</th><th style = \"text-align: left;\">Source of most recent Income and expenditure data</th><th style = \"text-align: left;\">Vital registration complete</th><th style = \"text-align: left;\">Latest agricultural census</th><th style = \"text-align: left;\">Latest industrial data</th><th style = \"text-align: left;\">Latest trade data</th><th style = \"text-align: left;\">Latest water withdrawal data</th><th style = \"text-align: left;\">2-alpha code</th><th style = \"text-align: left;\">WB-2 code</th><th style = \"text-align: left;\">Table Name</th><th style = \"text-align: left;\">Short Name</th></tr><tr class = \"subheader headerLastRow\"><th class = \"rowNumber\" style = \"font-weight: bold; text-align: right;\"></th><th title = \"String3\" style = \"text-align: left;\">String3</th><th title = \"String\" style = \"text-align: left;\">String</th><th title = \"Union{Missing, String31}\" style = \"text-align: left;\">String31?</th><th title = \"Union{Missing, String31}\" style = \"text-align: left;\">String31?</th><th title = \"Union{Missing, String7}\" style = \"text-align: left;\">String7?</th><th title = \"Union{Missing, String15}\" style = \"text-align: left;\">String15?</th><th title = \"Union{Missing, String}\" style = \"text-align: left;\">String?</th><th title = \"Union{Missing, String15}\" style = \"text-align: left;\">String15?</th><th title = \"Union{Missing, String31}\" style = \"text-align: left;\">String31?</th><th title = \"Union{Missing, String}\" style = \"text-align: left;\">String?</th><th title = \"Union{Missing, String}\" style = \"text-align: left;\">String?</th><th title = \"Union{Missing, Int64}\" style = \"text-align: left;\">Int64?</th><th title = \"Union{Missing, Int64}\" style = \"text-align: left;\">Int64?</th><th title = \"Union{Missing, String3}\" style = \"text-align: left;\">String3?</th><th title = \"Union{Missing, String31}\" style = \"text-align: left;\">String31?</th><th title = \"Union{Missing, Int64}\" style = \"text-align: left;\">Int64?</th><th title = \"Union{Missing, String7}\" style = \"text-align: left;\">String7?</th><th title = \"Union{Missing, String15}\" style = \"text-align: left;\">String15?</th><th title = \"Union{Missing, String7}\" style = \"text-align: left;\">String7?</th><th title = \"Union{Missing, String15}\" style = \"text-align: left;\">String15?</th><th title = \"Union{Missing, String7}\" style = \"text-align: left;\">String7?</th><th title = \"Union{Missing, String15}\" style = \"text-align: left;\">String15?</th><th title = \"Union{Missing, String3}\" style = \"text-align: left;\">String3?</th><th title = \"Union{Missing, String31}\" style = \"text-align: left;\">String31?</th><th title = \"Union{Missing, Int64}\" style = \"text-align: left;\">Int64?</th><th title = \"Union{Missing, Int64}\" style = \"text-align: left;\">Int64?</th><th title = \"Union{Missing, Int64}\" style = \"text-align: left;\">Int64?</th><th title = \"Union{Missing, String3}\" style = \"text-align: left;\">String3?</th><th title = \"Union{Missing, String3}\" style = \"text-align: left;\">String3?</th><th title = \"String\" style = \"text-align: left;\">String</th><th title = \"String\" style = \"text-align: left;\">String</th></tr></thead><tbody><tr><td class = \"rowNumber\" style = \"font-weight: bold; text-align: right;\">1</td><td style = \"text-align: left;\">ABW</td><td style = \"text-align: left;\">Aruba</td><td style = \"text-align: left;\">High income: nonOECD</td><td style = \"text-align: left;\">Latin America &amp; Caribbean</td><td style = \"font-style: italic; text-align: left;\">missing</td><td style = \"font-style: italic; text-align: left;\">missing</td><td style = \"text-align: left;\">Aruban florin</td><td style = \"text-align: left;\">2000</td><td style = \"font-style: italic; text-align: left;\">missing</td><td style = \"font-style: italic; text-align: left;\">missing</td><td style = \"text-align: left;\">1995</td><td style = \"font-style: italic; text-align: right;\">missing</td><td style = \"font-style: italic; text-align: right;\">missing</td><td style = \"font-style: italic; text-align: left;\">missing</td><td style = \"font-style: italic; text-align: left;\">missing</td><td style = \"font-style: italic; text-align: right;\">missing</td><td style = \"font-style: italic; text-align: left;\">missing</td><td style = \"font-style: italic; text-align: left;\">missing</td><td style = \"text-align: left;\">Special</td><td style = \"font-style: italic; text-align: left;\">missing</td><td style = \"font-style: italic; text-align: left;\">missing</td><td style = \"font-style: italic; text-align: left;\">missing</td><td style = \"font-style: italic; text-align: left;\">missing</td><td style = \"font-style: italic; text-align: left;\">missing</td><td style = \"font-style: italic; text-align: right;\">missing</td><td style = \"text-align: right;\">2008</td><td style = \"font-style: italic; text-align: right;\">missing</td><td style = \"text-align: left;\">AW</td><td style = \"text-align: left;\">AW</td><td style = \"text-align: left;\">Aruba</td><td style = \"text-align: left;\">Aruba</td></tr><tr><td class = \"rowNumber\" style = \"font-weight: bold; text-align: right;\">2</td><td style = \"text-align: left;\">ADO</td><td style = \"text-align: left;\">Principality of Andorra</td><td style = \"text-align: left;\">High income: nonOECD</td><td style = \"text-align: left;\">Europe &amp; Central Asia</td><td style = \"font-style: italic; text-align: left;\">missing</td><td style = \"font-style: italic; text-align: left;\">missing</td><td style = \"text-align: left;\">Euro</td><td style = \"text-align: left;\">Register based</td><td style = \"font-style: italic; text-align: left;\">missing</td><td style = \"font-style: italic; text-align: left;\">missing</td><td style = \"font-style: italic; text-align: left;\">missing</td><td style = \"font-style: italic; text-align: right;\">missing</td><td style = \"font-style: italic; text-align: right;\">missing</td><td style = \"font-style: italic; text-align: left;\">missing</td><td style = \"font-style: italic; text-align: left;\">missing</td><td style = \"font-style: italic; text-align: right;\">missing</td><td style = \"font-style: italic; text-align: left;\">missing</td><td style = \"font-style: italic; text-align: left;\">missing</td><td style = \"text-align: left;\">General</td><td style = \"font-style: italic; text-align: left;\">missing</td><td style = \"font-style: italic; text-align: left;\">missing</td><td style = \"font-style: italic; text-align: left;\">missing</td><td style = \"text-align: left;\">Yes</td><td style = \"font-style: italic; text-align: left;\">missing</td><td style = \"font-style: italic; text-align: right;\">missing</td><td style = \"text-align: right;\">2006</td><td style = \"font-style: italic; text-align: right;\">missing</td><td style = \"text-align: left;\">AD</td><td style = \"text-align: left;\">AD</td><td style = \"text-align: left;\">Andorra</td><td style = \"text-align: left;\">Andorra</td></tr><tr><td class = \"rowNumber\" style = \"font-weight: bold; text-align: right;\">3</td><td style = \"text-align: left;\">AFG</td><td style = \"text-align: left;\">Islamic State of Afghanistan</td><td style = \"text-align: left;\">Low income</td><td style = \"text-align: left;\">South Asia</td><td style = \"text-align: left;\">IDA</td><td style = \"text-align: left;\">HIPC</td><td style = \"text-align: left;\">Afghan afghani</td><td style = \"text-align: left;\">1979</td><td style = \"text-align: left;\">MICS, 2003</td><td style = \"text-align: left;\">Fiscal year end: March 20; reporting period for national accounts data: FY.</td><td style = \"text-align: left;\">2002/2003</td><td style = \"font-style: italic; text-align: right;\">missing</td><td style = \"font-style: italic; text-align: right;\">missing</td><td style = \"text-align: left;\">VAB</td><td style = \"font-style: italic; text-align: left;\">missing</td><td style = \"font-style: italic; text-align: right;\">missing</td><td style = \"font-style: italic; text-align: left;\">missing</td><td style = \"text-align: left;\">Actual</td><td style = \"text-align: left;\">General</td><td style = \"text-align: left;\">Consolidated</td><td style = \"text-align: left;\">GDDS</td><td style = \"font-style: italic; text-align: left;\">missing</td><td style = \"font-style: italic; text-align: left;\">missing</td><td style = \"font-style: italic; text-align: left;\">missing</td><td style = \"font-style: italic; text-align: right;\">missing</td><td style = \"text-align: right;\">2008</td><td style = \"text-align: right;\">2000</td><td style = \"text-align: left;\">AF</td><td style = \"text-align: left;\">AF</td><td style = \"text-align: left;\">Afghanistan</td><td style = \"text-align: left;\">Afghanistan</td></tr><tr><td class = \"rowNumber\" style = \"font-weight: bold; text-align: right;\">4</td><td style = \"text-align: left;\">AGO</td><td style = \"text-align: left;\">People&apos;s Republic of Angola</td><td style = \"text-align: left;\">Lower middle income</td><td style = \"text-align: left;\">Sub-Saharan Africa</td><td style = \"text-align: left;\">IDA</td><td style = \"font-style: italic; text-align: left;\">missing</td><td style = \"text-align: left;\">Angolan kwanza</td><td style = \"text-align: left;\">1970</td><td style = \"text-align: left;\">MICS, 2001, MIS, 2006/07</td><td style = \"font-style: italic; text-align: left;\">missing</td><td style = \"text-align: left;\">1997</td><td style = \"font-style: italic; text-align: right;\">missing</td><td style = \"font-style: italic; text-align: right;\">missing</td><td style = \"text-align: left;\">VAP</td><td style = \"text-align: left;\">1991-96</td><td style = \"text-align: right;\">2005</td><td style = \"text-align: left;\">BPM5</td><td style = \"text-align: left;\">Actual</td><td style = \"text-align: left;\">Special</td><td style = \"font-style: italic; text-align: left;\">missing</td><td style = \"text-align: left;\">GDDS</td><td style = \"text-align: left;\">IHS, 2000</td><td style = \"font-style: italic; text-align: left;\">missing</td><td style = \"text-align: left;\">1964-65</td><td style = \"font-style: italic; text-align: right;\">missing</td><td style = \"text-align: right;\">1991</td><td style = \"text-align: right;\">2000</td><td style = \"text-align: left;\">AO</td><td style = \"text-align: left;\">AO</td><td style = \"text-align: left;\">Angola</td><td style = \"text-align: left;\">Angola</td></tr><tr><td class = \"rowNumber\" style = \"font-weight: bold; text-align: right;\">5</td><td style = \"text-align: left;\">ALB</td><td style = \"text-align: left;\">Republic of Albania</td><td style = \"text-align: left;\">Upper middle income</td><td style = \"text-align: left;\">Europe &amp; Central Asia</td><td style = \"text-align: left;\">IBRD</td><td style = \"font-style: italic; text-align: left;\">missing</td><td style = \"text-align: left;\">Albanian lek</td><td style = \"text-align: left;\">2001</td><td style = \"text-align: left;\">MICS, 2005</td><td style = \"font-style: italic; text-align: left;\">missing</td><td style = \"font-style: italic; text-align: left;\">missing</td><td style = \"text-align: right;\">1996</td><td style = \"text-align: right;\">1993</td><td style = \"text-align: left;\">VAB</td><td style = \"font-style: italic; text-align: left;\">missing</td><td style = \"text-align: right;\">2005</td><td style = \"text-align: left;\">BPM5</td><td style = \"text-align: left;\">Actual</td><td style = \"text-align: left;\">General</td><td style = \"text-align: left;\">Consolidated</td><td style = \"text-align: left;\">GDDS</td><td style = \"text-align: left;\">LSMS, 2005</td><td style = \"text-align: left;\">Yes</td><td style = \"text-align: left;\">1998</td><td style = \"text-align: right;\">2005</td><td style = \"text-align: right;\">2008</td><td style = \"text-align: right;\">2000</td><td style = \"text-align: left;\">AL</td><td style = \"text-align: left;\">AL</td><td style = \"text-align: left;\">Albania</td><td style = \"text-align: left;\">Albania</td></tr><tr><td class = \"rowNumber\" style = \"font-weight: bold; text-align: right;\">6</td><td style = \"text-align: left;\">ARE</td><td style = \"text-align: left;\">United Arab Emirates</td><td style = \"text-align: left;\">High income: nonOECD</td><td style = \"text-align: left;\">Middle East &amp; North Africa</td><td style = \"font-style: italic; text-align: left;\">missing</td><td style = \"font-style: italic; text-align: left;\">missing</td><td style = \"text-align: left;\">U.A.E. dirham</td><td style = \"text-align: left;\">2005</td><td style = \"font-style: italic; text-align: left;\">missing</td><td style = \"font-style: italic; text-align: left;\">missing</td><td style = \"text-align: left;\">1995</td><td style = \"font-style: italic; text-align: right;\">missing</td><td style = \"font-style: italic; text-align: right;\">missing</td><td style = \"text-align: left;\">VAB</td><td style = \"font-style: italic; text-align: left;\">missing</td><td style = \"font-style: italic; text-align: right;\">missing</td><td style = \"text-align: left;\">BPM4</td><td style = \"font-style: italic; text-align: left;\">missing</td><td style = \"text-align: left;\">General</td><td style = \"text-align: left;\">Consolidated</td><td style = \"text-align: left;\">GDDS</td><td style = \"font-style: italic; text-align: left;\">missing</td><td style = \"font-style: italic; text-align: left;\">missing</td><td style = \"text-align: left;\">1998</td><td style = \"font-style: italic; text-align: right;\">missing</td><td style = \"text-align: right;\">2008</td><td style = \"text-align: right;\">2005</td><td style = \"text-align: left;\">AE</td><td style = \"text-align: left;\">AE</td><td style = \"text-align: left;\">United Arab Emirates</td><td style = \"text-align: left;\">United Arab Emirates</td></tr><tr><td class = \"rowNumber\" style = \"font-weight: bold; text-align: right;\">7</td><td style = \"text-align: left;\">ARG</td><td style = \"text-align: left;\">Argentine Republic</td><td style = \"text-align: left;\">Upper middle income</td><td style = \"text-align: left;\">Latin America &amp; Caribbean</td><td style = \"text-align: left;\">IBRD</td><td style = \"font-style: italic; text-align: left;\">missing</td><td style = \"text-align: left;\">Argentine peso</td><td style = \"text-align: left;\">2001</td><td style = \"font-style: italic; text-align: left;\">missing</td><td style = \"font-style: italic; text-align: left;\">missing</td><td style = \"text-align: left;\">1993</td><td style = \"font-style: italic; text-align: right;\">missing</td><td style = \"text-align: right;\">1993</td><td style = \"text-align: left;\">VAB</td><td style = \"text-align: left;\">1971-84</td><td style = \"text-align: right;\">2005</td><td style = \"text-align: left;\">BPM5</td><td style = \"text-align: left;\">Actual</td><td style = \"text-align: left;\">Special</td><td style = \"text-align: left;\">Consolidated</td><td style = \"text-align: left;\">SDDS</td><td style = \"text-align: left;\">IHS, 2006</td><td style = \"text-align: left;\">Yes</td><td style = \"text-align: left;\">2002</td><td style = \"text-align: right;\">2001</td><td style = \"text-align: right;\">2008</td><td style = \"text-align: right;\">2000</td><td style = \"text-align: left;\">AR</td><td style = \"text-align: left;\">AR</td><td style = \"text-align: left;\">Argentina</td><td style = \"text-align: left;\">Argentina</td></tr><tr><td class = \"rowNumber\" style = \"font-weight: bold; text-align: right;\">8</td><td style = \"text-align: left;\">ARM</td><td style = \"text-align: left;\">Republic of Armenia</td><td style = \"text-align: left;\">Lower middle income</td><td style = \"text-align: left;\">Europe &amp; Central Asia</td><td style = \"text-align: left;\">Blend</td><td style = \"font-style: italic; text-align: left;\">missing</td><td style = \"text-align: left;\">Armenian dram</td><td style = \"text-align: left;\">2001</td><td style = \"text-align: left;\">DHS, 2005</td><td style = \"font-style: italic; text-align: left;\">missing</td><td style = \"font-style: italic; text-align: left;\">missing</td><td style = \"text-align: right;\">1996</td><td style = \"text-align: right;\">1993</td><td style = \"text-align: left;\">VAB</td><td style = \"text-align: left;\">1990-95</td><td style = \"text-align: right;\">2005</td><td style = \"text-align: left;\">BPM5</td><td style = \"text-align: left;\">Actual</td><td style = \"text-align: left;\">Special</td><td style = \"text-align: left;\">Consolidated</td><td style = \"text-align: left;\">SDDS</td><td style = \"text-align: left;\">IHS, 2007</td><td style = \"text-align: left;\">Yes</td><td style = \"font-style: italic; text-align: left;\">missing</td><td style = \"font-style: italic; text-align: right;\">missing</td><td style = \"text-align: right;\">2008</td><td style = \"text-align: right;\">2000</td><td style = \"text-align: left;\">AM</td><td style = \"text-align: left;\">AM</td><td style = \"text-align: left;\">Armenia</td><td style = \"text-align: left;\">Armenia</td></tr><tr><td class = \"rowNumber\" style = \"font-weight: bold; text-align: right;\">9</td><td style = \"text-align: left;\">ASM</td><td style = \"text-align: left;\">American Samoa</td><td style = \"text-align: left;\">Upper middle income</td><td style = \"text-align: left;\">East Asia &amp; Pacific</td><td style = \"font-style: italic; text-align: left;\">missing</td><td style = \"font-style: italic; text-align: left;\">missing</td><td style = \"text-align: left;\">U.S. dollar</td><td style = \"text-align: left;\">2000</td><td style = \"font-style: italic; text-align: left;\">missing</td><td style = \"font-style: italic; text-align: left;\">missing</td><td style = \"font-style: italic; text-align: left;\">missing</td><td style = \"font-style: italic; text-align: right;\">missing</td><td style = \"font-style: italic; text-align: right;\">missing</td><td style = \"font-style: italic; text-align: left;\">missing</td><td style = \"font-style: italic; text-align: left;\">missing</td><td style = \"font-style: italic; text-align: right;\">missing</td><td style = \"font-style: italic; text-align: left;\">missing</td><td style = \"font-style: italic; text-align: left;\">missing</td><td style = \"font-style: italic; text-align: left;\">missing</td><td style = \"font-style: italic; text-align: left;\">missing</td><td style = \"font-style: italic; text-align: left;\">missing</td><td style = \"font-style: italic; text-align: left;\">missing</td><td style = \"text-align: left;\">Yes</td><td style = \"font-style: italic; text-align: left;\">missing</td><td style = \"font-style: italic; text-align: right;\">missing</td><td style = \"font-style: italic; text-align: right;\">missing</td><td style = \"font-style: italic; text-align: right;\">missing</td><td style = \"text-align: left;\">AS</td><td style = \"text-align: left;\">AS</td><td style = \"text-align: left;\">American Samoa</td><td style = \"text-align: left;\">American Samoa</td></tr><tr><td class = \"rowNumber\" style = \"font-weight: bold; text-align: right;\">10</td><td style = \"text-align: left;\">ATG</td><td style = \"text-align: left;\">Antigua and Barbuda</td><td style = \"text-align: left;\">Upper middle income</td><td style = \"text-align: left;\">Latin America &amp; Caribbean</td><td style = \"text-align: left;\">IBRD</td><td style = \"font-style: italic; text-align: left;\">missing</td><td style = \"text-align: left;\">East Caribbean dollar</td><td style = \"text-align: left;\">2001</td><td style = \"font-style: italic; text-align: left;\">missing</td><td style = \"text-align: left;\">The government has revised national accounts data for 1998-2008.</td><td style = \"text-align: left;\">1990</td><td style = \"font-style: italic; text-align: right;\">missing</td><td style = \"font-style: italic; text-align: right;\">missing</td><td style = \"text-align: left;\">VAB</td><td style = \"font-style: italic; text-align: left;\">missing</td><td style = \"font-style: italic; text-align: right;\">missing</td><td style = \"text-align: left;\">BPM5</td><td style = \"font-style: italic; text-align: left;\">missing</td><td style = \"text-align: left;\">General</td><td style = \"font-style: italic; text-align: left;\">missing</td><td style = \"text-align: left;\">GDDS</td><td style = \"font-style: italic; text-align: left;\">missing</td><td style = \"text-align: left;\">Yes</td><td style = \"font-style: italic; text-align: left;\">missing</td><td style = \"font-style: italic; text-align: right;\">missing</td><td style = \"text-align: right;\">2007</td><td style = \"text-align: right;\">1990</td><td style = \"text-align: left;\">AG</td><td style = \"text-align: left;\">AG</td><td style = \"text-align: left;\">Antigua and Barbuda</td><td style = \"text-align: left;\">Antigua and Barbuda</td></tr><tr><td class = \"rowNumber\" style = \"font-weight: bold; text-align: right;\">11</td><td style = \"text-align: left;\">AUS</td><td style = \"text-align: left;\">Commonwealth of Australia</td><td style = \"text-align: left;\">High income: OECD</td><td style = \"text-align: left;\">East Asia &amp; Pacific</td><td style = \"font-style: italic; text-align: left;\">missing</td><td style = \"font-style: italic; text-align: left;\">missing</td><td style = \"text-align: left;\">Australian dollar</td><td style = \"text-align: left;\">2006</td><td style = \"font-style: italic; text-align: left;\">missing</td><td style = \"text-align: left;\">Fiscal year end: June 30; reporting period for national accounts data: FY.</td><td style = \"font-style: italic; text-align: left;\">missing</td><td style = \"text-align: right;\">2007</td><td style = \"text-align: right;\">1993</td><td style = \"text-align: left;\">VAB</td><td style = \"font-style: italic; text-align: left;\">missing</td><td style = \"text-align: right;\">2005</td><td style = \"text-align: left;\">BPM5</td><td style = \"font-style: italic; text-align: left;\">missing</td><td style = \"text-align: left;\">General</td><td style = \"text-align: left;\">Consolidated</td><td style = \"text-align: left;\">SDDS</td><td style = \"text-align: left;\">ES/BS, 1994</td><td style = \"text-align: left;\">Yes</td><td style = \"text-align: left;\">2001</td><td style = \"text-align: right;\">2004</td><td style = \"text-align: right;\">2008</td><td style = \"text-align: right;\">2000</td><td style = \"text-align: left;\">AU</td><td style = \"text-align: left;\">AU</td><td style = \"text-align: left;\">Australia</td><td style = \"text-align: left;\">Australia</td></tr><tr><td class = \"rowNumber\" style = \"font-weight: bold; text-align: right;\">12</td><td style = \"text-align: left;\">AUT</td><td style = \"text-align: left;\">Republic of Austria</td><td style = \"text-align: left;\">High income: OECD</td><td style = \"text-align: left;\">Europe &amp; Central Asia</td><td style = \"font-style: italic; text-align: left;\">missing</td><td style = \"text-align: left;\">Euro area</td><td style = \"text-align: left;\">Euro</td><td style = \"text-align: left;\">2001</td><td style = \"font-style: italic; text-align: left;\">missing</td><td style = \"text-align: left;\">A simple multiplier is used to convert the national currencies of EMU members to euros. The following irrevocable euro conversion rate was adopted by the EU Council on January 1, 1999: 1 euro = 13.7603 Austrian schilling. Please note that historical data before 1999 are not actual euros and are not comparable or suitable for aggregation across countries.</td><td style = \"text-align: left;\">2000</td><td style = \"font-style: italic; text-align: right;\">missing</td><td style = \"text-align: right;\">1993</td><td style = \"text-align: left;\">VAB</td><td style = \"font-style: italic; text-align: left;\">missing</td><td style = \"text-align: right;\">2005</td><td style = \"text-align: left;\">BPM5</td><td style = \"font-style: italic; text-align: left;\">missing</td><td style = \"text-align: left;\">Special</td><td style = \"text-align: left;\">Consolidated</td><td style = \"text-align: left;\">SDDS</td><td style = \"text-align: left;\">IS 2000</td><td style = \"text-align: left;\">Yes</td><td style = \"text-align: left;\">1999-2000</td><td style = \"text-align: right;\">2004</td><td style = \"text-align: right;\">2008</td><td style = \"text-align: right;\">2000</td><td style = \"text-align: left;\">AT</td><td style = \"text-align: left;\">AT</td><td style = \"text-align: left;\">Austria</td><td style = \"text-align: left;\">Austria</td></tr><tr><td class = \"rowNumber\" style = \"font-weight: bold; text-align: right;\">13</td><td style = \"text-align: left;\">AZE</td><td style = \"text-align: left;\">Republic of Azerbaijan</td><td style = \"text-align: left;\">Upper middle income</td><td style = \"text-align: left;\">Europe &amp; Central Asia</td><td style = \"text-align: left;\">Blend</td><td style = \"font-style: italic; text-align: left;\">missing</td><td style = \"text-align: left;\">New Azeri manat</td><td style = \"text-align: left;\">2009</td><td style = \"text-align: left;\">DHS, 2006</td><td style = \"font-style: italic; text-align: left;\">missing</td><td style = \"font-style: italic; text-align: left;\">missing</td><td style = \"text-align: right;\">2003</td><td style = \"text-align: right;\">1993</td><td style = \"text-align: left;\">VAB</td><td style = \"text-align: left;\">1992-95</td><td style = \"text-align: right;\">2005</td><td style = \"text-align: left;\">BPM5</td><td style = \"text-align: left;\">Actual</td><td style = \"text-align: left;\">General</td><td style = \"text-align: left;\">Consolidated</td><td style = \"text-align: left;\">GDDS</td><td style = \"text-align: left;\">ES/BS, 2005</td><td style = \"text-align: left;\">Yes</td><td style = \"font-style: italic; text-align: left;\">missing</td><td style = \"text-align: right;\">2005</td><td style = \"text-align: right;\">2008</td><td style = \"text-align: right;\">2005</td><td style = \"text-align: left;\">AZ</td><td style = \"text-align: left;\">AZ</td><td style = \"text-align: left;\">Azerbaijan</td><td style = \"text-align: left;\">Azerbaijan</td></tr><tr><td style = \"text-align: right;\">&vellip;</td><td style = \"text-align: right;\">&vellip;</td><td style = \"text-align: right;\">&vellip;</td><td style = \"text-align: right;\">&vellip;</td><td style = \"text-align: right;\">&vellip;</td><td style = \"text-align: right;\">&vellip;</td><td style = \"text-align: right;\">&vellip;</td><td style = \"text-align: right;\">&vellip;</td><td style = \"text-align: right;\">&vellip;</td><td style = \"text-align: right;\">&vellip;</td><td style = \"text-align: right;\">&vellip;</td><td style = \"text-align: right;\">&vellip;</td><td style = \"text-align: right;\">&vellip;</td><td style = \"text-align: right;\">&vellip;</td><td style = \"text-align: right;\">&vellip;</td><td style = \"text-align: right;\">&vellip;</td><td style = \"text-align: right;\">&vellip;</td><td style = \"text-align: right;\">&vellip;</td><td style = \"text-align: right;\">&vellip;</td><td style = \"text-align: right;\">&vellip;</td><td style = \"text-align: right;\">&vellip;</td><td style = \"text-align: right;\">&vellip;</td><td style = \"text-align: right;\">&vellip;</td><td style = \"text-align: right;\">&vellip;</td><td style = \"text-align: right;\">&vellip;</td><td style = \"text-align: right;\">&vellip;</td><td style = \"text-align: right;\">&vellip;</td><td style = \"text-align: right;\">&vellip;</td><td style = \"text-align: right;\">&vellip;</td><td style = \"text-align: right;\">&vellip;</td><td style = \"text-align: right;\">&vellip;</td><td style = \"text-align: right;\">&vellip;</td></tr><tr><td class = \"rowNumber\" style = \"font-weight: bold; text-align: right;\">223</td><td style = \"text-align: left;\">VEN</td><td style = \"text-align: left;\">Rep\\xfablica Bolivariana de Venezuela</td><td style = \"text-align: left;\">Upper middle income</td><td style = \"text-align: left;\">Latin America &amp; Caribbean</td><td style = \"text-align: left;\">IBRD</td><td style = \"font-style: italic; text-align: left;\">missing</td><td style = \"text-align: left;\">Venezuelan bolivar fuerte</td><td style = \"text-align: left;\">2001</td><td style = \"text-align: left;\">MICS, 2000</td><td style = \"font-style: italic; text-align: left;\">missing</td><td style = \"text-align: left;\">1997</td><td style = \"font-style: italic; text-align: right;\">missing</td><td style = \"font-style: italic; text-align: right;\">missing</td><td style = \"text-align: left;\">VAB</td><td style = \"font-style: italic; text-align: left;\">missing</td><td style = \"text-align: right;\">2005</td><td style = \"text-align: left;\">BPM5</td><td style = \"text-align: left;\">Actual</td><td style = \"text-align: left;\">General</td><td style = \"text-align: left;\">Consolidated</td><td style = \"text-align: left;\">GDDS</td><td style = \"text-align: left;\">IHS, 2003</td><td style = \"text-align: left;\">Yes</td><td style = \"text-align: left;\">1997</td><td style = \"font-style: italic; text-align: right;\">missing</td><td style = \"text-align: right;\">2008</td><td style = \"font-style: italic; text-align: right;\">missing</td><td style = \"text-align: left;\">VE</td><td style = \"text-align: left;\">VE</td><td style = \"text-align: left;\">Venezuela, RB</td><td style = \"text-align: left;\">Venezuela</td></tr><tr><td class = \"rowNumber\" style = \"font-weight: bold; text-align: right;\">224</td><td style = \"text-align: left;\">VIR</td><td style = \"text-align: left;\">Virgin Islands of the United States</td><td style = \"text-align: left;\">High income: nonOECD</td><td style = \"text-align: left;\">Latin America &amp; Caribbean</td><td style = \"font-style: italic; text-align: left;\">missing</td><td style = \"font-style: italic; text-align: left;\">missing</td><td style = \"text-align: left;\">U.S. dollar</td><td style = \"text-align: left;\">2000</td><td style = \"font-style: italic; text-align: left;\">missing</td><td style = \"font-style: italic; text-align: left;\">missing</td><td style = \"text-align: left;\">1982</td><td style = \"font-style: italic; text-align: right;\">missing</td><td style = \"font-style: italic; text-align: right;\">missing</td><td style = \"font-style: italic; text-align: left;\">missing</td><td style = \"font-style: italic; text-align: left;\">missing</td><td style = \"font-style: italic; text-align: right;\">missing</td><td style = \"font-style: italic; text-align: left;\">missing</td><td style = \"font-style: italic; text-align: left;\">missing</td><td style = \"text-align: left;\">General</td><td style = \"font-style: italic; text-align: left;\">missing</td><td style = \"font-style: italic; text-align: left;\">missing</td><td style = \"font-style: italic; text-align: left;\">missing</td><td style = \"text-align: left;\">Yes</td><td style = \"font-style: italic; text-align: left;\">missing</td><td style = \"font-style: italic; text-align: right;\">missing</td><td style = \"font-style: italic; text-align: right;\">missing</td><td style = \"font-style: italic; text-align: right;\">missing</td><td style = \"text-align: left;\">VI</td><td style = \"text-align: left;\">VI</td><td style = \"text-align: left;\">Virgin Islands (U.S.)</td><td style = \"text-align: left;\">Virgin Islands</td></tr><tr><td class = \"rowNumber\" style = \"font-weight: bold; text-align: right;\">225</td><td style = \"text-align: left;\">VNM</td><td style = \"text-align: left;\">Socialist Republic of Vietnam</td><td style = \"text-align: left;\">Lower middle income</td><td style = \"text-align: left;\">East Asia &amp; Pacific</td><td style = \"text-align: left;\">Blend</td><td style = \"font-style: italic; text-align: left;\">missing</td><td style = \"text-align: left;\">Vietnamese dong</td><td style = \"text-align: left;\">2009</td><td style = \"text-align: left;\">MICS, 2006</td><td style = \"font-style: italic; text-align: left;\">missing</td><td style = \"text-align: left;\">1994</td><td style = \"font-style: italic; text-align: right;\">missing</td><td style = \"text-align: right;\">1993</td><td style = \"text-align: left;\">VAP</td><td style = \"text-align: left;\">1991</td><td style = \"text-align: right;\">2005</td><td style = \"text-align: left;\">BPM4</td><td style = \"text-align: left;\">Estimate</td><td style = \"text-align: left;\">General</td><td style = \"text-align: left;\">Consolidated</td><td style = \"text-align: left;\">GDDS</td><td style = \"text-align: left;\">IHS, 2006</td><td style = \"font-style: italic; text-align: left;\">missing</td><td style = \"text-align: left;\">2001</td><td style = \"text-align: right;\">1999</td><td style = \"text-align: right;\">2008</td><td style = \"text-align: right;\">2000</td><td style = \"text-align: left;\">VN</td><td style = \"text-align: left;\">VN</td><td style = \"text-align: left;\">Vietnam</td><td style = \"text-align: left;\">Vietnam</td></tr><tr><td class = \"rowNumber\" style = \"font-weight: bold; text-align: right;\">226</td><td style = \"text-align: left;\">VUT</td><td style = \"text-align: left;\">Republic of Vanuatu</td><td style = \"text-align: left;\">Lower middle income</td><td style = \"text-align: left;\">East Asia &amp; Pacific</td><td style = \"text-align: left;\">IDA</td><td style = \"font-style: italic; text-align: left;\">missing</td><td style = \"text-align: left;\">Vanuatu vatu</td><td style = \"text-align: left;\">2009</td><td style = \"font-style: italic; text-align: left;\">missing</td><td style = \"font-style: italic; text-align: left;\">missing</td><td style = \"text-align: left;\">1983</td><td style = \"font-style: italic; text-align: right;\">missing</td><td style = \"font-style: italic; text-align: right;\">missing</td><td style = \"text-align: left;\">VAP</td><td style = \"font-style: italic; text-align: left;\">missing</td><td style = \"font-style: italic; text-align: right;\">missing</td><td style = \"text-align: left;\">BPM5</td><td style = \"text-align: left;\">Estimate</td><td style = \"font-style: italic; text-align: left;\">missing</td><td style = \"text-align: left;\">Consolidated</td><td style = \"text-align: left;\">GDDS</td><td style = \"font-style: italic; text-align: left;\">missing</td><td style = \"font-style: italic; text-align: left;\">missing</td><td style = \"font-style: italic; text-align: left;\">missing</td><td style = \"font-style: italic; text-align: right;\">missing</td><td style = \"text-align: right;\">2007</td><td style = \"font-style: italic; text-align: right;\">missing</td><td style = \"text-align: left;\">VU</td><td style = \"text-align: left;\">VU</td><td style = \"text-align: left;\">Vanuatu</td><td style = \"text-align: left;\">Vanuatu</td></tr><tr><td class = \"rowNumber\" style = \"font-weight: bold; text-align: right;\">227</td><td style = \"text-align: left;\">WBG</td><td style = \"text-align: left;\">West Bank and Gaza</td><td style = \"text-align: left;\">Lower middle income</td><td style = \"text-align: left;\">Middle East &amp; North Africa</td><td style = \"font-style: italic; text-align: left;\">missing</td><td style = \"font-style: italic; text-align: left;\">missing</td><td style = \"text-align: left;\">Israeli new shekel</td><td style = \"text-align: left;\">2007</td><td style = \"text-align: left;\">PAPFAM, 2006</td><td style = \"font-style: italic; text-align: left;\">missing</td><td style = \"text-align: left;\">1997</td><td style = \"font-style: italic; text-align: right;\">missing</td><td style = \"font-style: italic; text-align: right;\">missing</td><td style = \"text-align: left;\">VAB</td><td style = \"font-style: italic; text-align: left;\">missing</td><td style = \"font-style: italic; text-align: right;\">missing</td><td style = \"font-style: italic; text-align: left;\">missing</td><td style = \"font-style: italic; text-align: left;\">missing</td><td style = \"font-style: italic; text-align: left;\">missing</td><td style = \"text-align: left;\">Budgetary</td><td style = \"text-align: left;\">GDDS</td><td style = \"font-style: italic; text-align: left;\">missing</td><td style = \"font-style: italic; text-align: left;\">missing</td><td style = \"text-align: left;\">1971</td><td style = \"font-style: italic; text-align: right;\">missing</td><td style = \"font-style: italic; text-align: right;\">missing</td><td style = \"font-style: italic; text-align: right;\">missing</td><td style = \"text-align: left;\">PS</td><td style = \"text-align: left;\">GZ</td><td style = \"text-align: left;\">West Bank and Gaza</td><td style = \"text-align: left;\">West Bank and Gaza</td></tr><tr><td class = \"rowNumber\" style = \"font-weight: bold; text-align: right;\">228</td><td style = \"text-align: left;\">WLD</td><td style = \"text-align: left;\">World</td><td style = \"font-style: italic; text-align: left;\">missing</td><td style = \"font-style: italic; text-align: left;\">missing</td><td style = \"font-style: italic; text-align: left;\">missing</td><td style = \"font-style: italic; text-align: left;\">missing</td><td style = \"font-style: italic; text-align: left;\">missing</td><td style = \"font-style: italic; text-align: left;\">missing</td><td style = \"font-style: italic; text-align: left;\">missing</td><td style = \"text-align: left;\">World aggregate.</td><td style = \"font-style: italic; text-align: left;\">missing</td><td style = \"font-style: italic; text-align: right;\">missing</td><td style = \"font-style: italic; text-align: right;\">missing</td><td style = \"font-style: italic; text-align: left;\">missing</td><td style = \"font-style: italic; text-align: left;\">missing</td><td style = \"font-style: italic; text-align: right;\">missing</td><td style = \"font-style: italic; text-align: left;\">missing</td><td style = \"font-style: italic; text-align: left;\">missing</td><td style = \"font-style: italic; text-align: left;\">missing</td><td style = \"font-style: italic; text-align: left;\">missing</td><td style = \"font-style: italic; text-align: left;\">missing</td><td style = \"font-style: italic; text-align: left;\">missing</td><td style = \"font-style: italic; text-align: left;\">missing</td><td style = \"font-style: italic; text-align: left;\">missing</td><td style = \"font-style: italic; text-align: right;\">missing</td><td style = \"font-style: italic; text-align: right;\">missing</td><td style = \"font-style: italic; text-align: right;\">missing</td><td style = \"font-style: italic; text-align: left;\">missing</td><td style = \"font-style: italic; text-align: left;\">missing</td><td style = \"text-align: left;\">World</td><td style = \"text-align: left;\">World</td></tr><tr><td class = \"rowNumber\" style = \"font-weight: bold; text-align: right;\">229</td><td style = \"text-align: left;\">WSM</td><td style = \"text-align: left;\">Samoa</td><td style = \"text-align: left;\">Lower middle income</td><td style = \"text-align: left;\">East Asia &amp; Pacific</td><td style = \"text-align: left;\">IDA</td><td style = \"font-style: italic; text-align: left;\">missing</td><td style = \"text-align: left;\">Samoan tala</td><td style = \"text-align: left;\">2006</td><td style = \"font-style: italic; text-align: left;\">missing</td><td style = \"font-style: italic; text-align: left;\">missing</td><td style = \"text-align: left;\">2002</td><td style = \"font-style: italic; text-align: right;\">missing</td><td style = \"font-style: italic; text-align: right;\">missing</td><td style = \"text-align: left;\">VAB</td><td style = \"font-style: italic; text-align: left;\">missing</td><td style = \"font-style: italic; text-align: right;\">missing</td><td style = \"text-align: left;\">BPM5</td><td style = \"text-align: left;\">Preliminary</td><td style = \"text-align: left;\">General</td><td style = \"font-style: italic; text-align: left;\">missing</td><td style = \"font-style: italic; text-align: left;\">missing</td><td style = \"font-style: italic; text-align: left;\">missing</td><td style = \"font-style: italic; text-align: left;\">missing</td><td style = \"text-align: left;\">1999</td><td style = \"font-style: italic; text-align: right;\">missing</td><td style = \"text-align: right;\">2008</td><td style = \"font-style: italic; text-align: right;\">missing</td><td style = \"text-align: left;\">WS</td><td style = \"text-align: left;\">WS</td><td style = \"text-align: left;\">Samoa</td><td style = \"text-align: left;\">Samoa</td></tr><tr><td class = \"rowNumber\" style = \"font-weight: bold; text-align: right;\">230</td><td style = \"text-align: left;\">YEM</td><td style = \"text-align: left;\">Republic of Yemen</td><td style = \"text-align: left;\">Lower middle income</td><td style = \"text-align: left;\">Middle East &amp; North Africa</td><td style = \"text-align: left;\">IDA</td><td style = \"font-style: italic; text-align: left;\">missing</td><td style = \"text-align: left;\">Yemeni rial</td><td style = \"text-align: left;\">2004</td><td style = \"text-align: left;\">MICS, 2006</td><td style = \"font-style: italic; text-align: left;\">missing</td><td style = \"text-align: left;\">1990</td><td style = \"font-style: italic; text-align: right;\">missing</td><td style = \"font-style: italic; text-align: right;\">missing</td><td style = \"text-align: left;\">VAP</td><td style = \"text-align: left;\">1990-96</td><td style = \"text-align: right;\">2005</td><td style = \"text-align: left;\">BPM5</td><td style = \"text-align: left;\">Actual</td><td style = \"text-align: left;\">General</td><td style = \"text-align: left;\">Budgetary</td><td style = \"text-align: left;\">GDDS</td><td style = \"text-align: left;\">ES/BS, 2005</td><td style = \"font-style: italic; text-align: left;\">missing</td><td style = \"text-align: left;\">2002</td><td style = \"text-align: right;\">2005</td><td style = \"text-align: right;\">2008</td><td style = \"text-align: right;\">2000</td><td style = \"text-align: left;\">YE</td><td style = \"text-align: left;\">RY</td><td style = \"text-align: left;\">Yemen, Rep.</td><td style = \"text-align: left;\">Yemen</td></tr><tr><td class = \"rowNumber\" style = \"font-weight: bold; text-align: right;\">231</td><td style = \"text-align: left;\">ZAF</td><td style = \"text-align: left;\">Republic of South Africa</td><td style = \"text-align: left;\">Upper middle income</td><td style = \"text-align: left;\">Sub-Saharan Africa</td><td style = \"text-align: left;\">IBRD</td><td style = \"font-style: italic; text-align: left;\">missing</td><td style = \"text-align: left;\">South African rand</td><td style = \"text-align: left;\">2001</td><td style = \"text-align: left;\">DHS, 2003</td><td style = \"text-align: left;\">Fiscal year end: March 31; reporting period for national accounts data: CY.</td><td style = \"text-align: left;\">2000</td><td style = \"font-style: italic; text-align: right;\">missing</td><td style = \"text-align: right;\">1993</td><td style = \"text-align: left;\">VAB</td><td style = \"font-style: italic; text-align: left;\">missing</td><td style = \"text-align: right;\">2005</td><td style = \"text-align: left;\">BPM5</td><td style = \"text-align: left;\">Preliminary</td><td style = \"text-align: left;\">General</td><td style = \"text-align: left;\">Consolidated</td><td style = \"text-align: left;\">SDDS</td><td style = \"text-align: left;\">ES/BS, 2000</td><td style = \"font-style: italic; text-align: left;\">missing</td><td style = \"text-align: left;\">2000</td><td style = \"text-align: right;\">2005</td><td style = \"text-align: right;\">2008</td><td style = \"text-align: right;\">2000</td><td style = \"text-align: left;\">ZA</td><td style = \"text-align: left;\">ZA</td><td style = \"text-align: left;\">South Africa</td><td style = \"text-align: left;\">South Africa</td></tr><tr><td class = \"rowNumber\" style = \"font-weight: bold; text-align: right;\">232</td><td style = \"text-align: left;\">ZAR</td><td style = \"text-align: left;\">Democratic Republic of the Congo</td><td style = \"text-align: left;\">Low income</td><td style = \"text-align: left;\">Sub-Saharan Africa</td><td style = \"text-align: left;\">IDA</td><td style = \"text-align: left;\">HIPC</td><td style = \"text-align: left;\">Congolese franc</td><td style = \"text-align: left;\">1984</td><td style = \"text-align: left;\">DHS 2007</td><td style = \"font-style: italic; text-align: left;\">missing</td><td style = \"text-align: left;\">1987</td><td style = \"font-style: italic; text-align: right;\">missing</td><td style = \"text-align: right;\">1993</td><td style = \"text-align: left;\">VAB</td><td style = \"text-align: left;\">1999-01</td><td style = \"text-align: right;\">2005</td><td style = \"text-align: left;\">BPM5</td><td style = \"text-align: left;\">Estimate</td><td style = \"text-align: left;\">Special</td><td style = \"text-align: left;\">Consolidated</td><td style = \"text-align: left;\">GDDS</td><td style = \"text-align: left;\">1-2-3, 2005-06</td><td style = \"font-style: italic; text-align: left;\">missing</td><td style = \"text-align: left;\">1990</td><td style = \"font-style: italic; text-align: right;\">missing</td><td style = \"text-align: right;\">1986</td><td style = \"text-align: right;\">2000</td><td style = \"text-align: left;\">CD</td><td style = \"text-align: left;\">ZR</td><td style = \"text-align: left;\">Congo, Dem. Rep.</td><td style = \"text-align: left;\">Dem. Rep. Congo</td></tr><tr><td class = \"rowNumber\" style = \"font-weight: bold; text-align: right;\">233</td><td style = \"text-align: left;\">ZMB</td><td style = \"text-align: left;\">Republic of Zambia</td><td style = \"text-align: left;\">Low income</td><td style = \"text-align: left;\">Sub-Saharan Africa</td><td style = \"text-align: left;\">IDA</td><td style = \"text-align: left;\">HIPC</td><td style = \"text-align: left;\">Zambian kwacha</td><td style = \"text-align: left;\">2000</td><td style = \"text-align: left;\">DHS, 2007</td><td style = \"font-style: italic; text-align: left;\">missing</td><td style = \"text-align: left;\">1994</td><td style = \"font-style: italic; text-align: right;\">missing</td><td style = \"font-style: italic; text-align: right;\">missing</td><td style = \"text-align: left;\">VAB</td><td style = \"text-align: left;\">1990-92</td><td style = \"text-align: right;\">2005</td><td style = \"text-align: left;\">BPM5</td><td style = \"text-align: left;\">Preliminary</td><td style = \"text-align: left;\">General</td><td style = \"text-align: left;\">Budgetary</td><td style = \"text-align: left;\">GDDS</td><td style = \"text-align: left;\">IHS, 2004-05</td><td style = \"font-style: italic; text-align: left;\">missing</td><td style = \"text-align: left;\">1990</td><td style = \"font-style: italic; text-align: right;\">missing</td><td style = \"text-align: right;\">2008</td><td style = \"text-align: right;\">2000</td><td style = \"text-align: left;\">ZM</td><td style = \"text-align: left;\">ZM</td><td style = \"text-align: left;\">Zambia</td><td style = \"text-align: left;\">Zambia</td></tr><tr><td class = \"rowNumber\" style = \"font-weight: bold; text-align: right;\">234</td><td style = \"text-align: left;\">ZWE</td><td style = \"text-align: left;\">Republic of Zimbabwe</td><td style = \"text-align: left;\">Low income</td><td style = \"text-align: left;\">Sub-Saharan Africa</td><td style = \"text-align: left;\">Blend</td><td style = \"font-style: italic; text-align: left;\">missing</td><td style = \"text-align: left;\">Zimbabwe dollar</td><td style = \"text-align: left;\">2002</td><td style = \"text-align: left;\">DHS, 2005/06</td><td style = \"text-align: left;\">Fiscal year end: June 30; reporting period for national accounts data: CY.</td><td style = \"text-align: left;\">1990</td><td style = \"font-style: italic; text-align: right;\">missing</td><td style = \"font-style: italic; text-align: right;\">missing</td><td style = \"text-align: left;\">VAB</td><td style = \"text-align: left;\">1991, 1998</td><td style = \"text-align: right;\">2005</td><td style = \"text-align: left;\">BPM5</td><td style = \"text-align: left;\">Actual</td><td style = \"text-align: left;\">General</td><td style = \"text-align: left;\">Consolidated</td><td style = \"text-align: left;\">GDDS</td><td style = \"font-style: italic; text-align: left;\">missing</td><td style = \"font-style: italic; text-align: left;\">missing</td><td style = \"text-align: left;\">1960</td><td style = \"text-align: right;\">1995</td><td style = \"text-align: right;\">2008</td><td style = \"text-align: right;\">2002</td><td style = \"text-align: left;\">ZW</td><td style = \"text-align: left;\">ZW</td><td style = \"text-align: left;\">Zimbabwe</td><td style = \"text-align: left;\">Zimbabwe</td></tr></tbody></table></div>"
      ],
      "text/latex": [
       "\\begin{tabular}{r|ccccc}\n",
       "\t& CountryCode & Long Name & Income Group & Region & \\\\\n",
       "\t\\hline\n",
       "\t& String3 & String & String31? & String31? & \\\\\n",
       "\t\\hline\n",
       "\t1 & ABW & Aruba & High income: nonOECD & Latin America \\& Caribbean & $\\dots$ \\\\\n",
       "\t2 & ADO & Principality of Andorra & High income: nonOECD & Europe \\& Central Asia & $\\dots$ \\\\\n",
       "\t3 & AFG & Islamic State of Afghanistan & Low income & South Asia & $\\dots$ \\\\\n",
       "\t4 & AGO & People's Republic of Angola & Lower middle income & Sub-Saharan Africa & $\\dots$ \\\\\n",
       "\t5 & ALB & Republic of Albania & Upper middle income & Europe \\& Central Asia & $\\dots$ \\\\\n",
       "\t6 & ARE & United Arab Emirates & High income: nonOECD & Middle East \\& North Africa & $\\dots$ \\\\\n",
       "\t7 & ARG & Argentine Republic & Upper middle income & Latin America \\& Caribbean & $\\dots$ \\\\\n",
       "\t8 & ARM & Republic of Armenia & Lower middle income & Europe \\& Central Asia & $\\dots$ \\\\\n",
       "\t9 & ASM & American Samoa & Upper middle income & East Asia \\& Pacific & $\\dots$ \\\\\n",
       "\t10 & ATG & Antigua and Barbuda & Upper middle income & Latin America \\& Caribbean & $\\dots$ \\\\\n",
       "\t11 & AUS & Commonwealth of Australia & High income: OECD & East Asia \\& Pacific & $\\dots$ \\\\\n",
       "\t12 & AUT & Republic of Austria & High income: OECD & Europe \\& Central Asia & $\\dots$ \\\\\n",
       "\t13 & AZE & Republic of Azerbaijan & Upper middle income & Europe \\& Central Asia & $\\dots$ \\\\\n",
       "\t14 & BDI & Republic of Burundi & Low income & Sub-Saharan Africa & $\\dots$ \\\\\n",
       "\t15 & BEL & Kingdom of Belgium & High income: OECD & Europe \\& Central Asia & $\\dots$ \\\\\n",
       "\t16 & BEN & Republic of Benin & Low income & Sub-Saharan Africa & $\\dots$ \\\\\n",
       "\t17 & BFA & Burkina Faso & Low income & Sub-Saharan Africa & $\\dots$ \\\\\n",
       "\t18 & BGD & People's Republic of Bangladesh & Low income & South Asia & $\\dots$ \\\\\n",
       "\t19 & BGR & Republic of Bulgaria & Upper middle income & Europe \\& Central Asia & $\\dots$ \\\\\n",
       "\t20 & BHR & Kingdom of Bahrain & High income: nonOECD & Middle East \\& North Africa & $\\dots$ \\\\\n",
       "\t21 & BHS & Commonwealth of The Bahamas & High income: nonOECD & Latin America \\& Caribbean & $\\dots$ \\\\\n",
       "\t22 & BIH & Bosnia and Herzegovina & Upper middle income & Europe \\& Central Asia & $\\dots$ \\\\\n",
       "\t23 & BLR & Republic of Belarus & Upper middle income & Europe \\& Central Asia & $\\dots$ \\\\\n",
       "\t24 & BLZ & Belize & Lower middle income & Latin America \\& Caribbean & $\\dots$ \\\\\n",
       "\t25 & BMU & The Bermudas & High income: nonOECD & North America & $\\dots$ \\\\\n",
       "\t26 & BOL & Plurinational State of Bolivia & Lower middle income & Latin America \\& Caribbean & $\\dots$ \\\\\n",
       "\t27 & BRA & Federative Republic of Brazil & Upper middle income & Latin America \\& Caribbean & $\\dots$ \\\\\n",
       "\t28 & BRB & Barbados & High income: nonOECD & Latin America \\& Caribbean & $\\dots$ \\\\\n",
       "\t29 & BRN & Brunei Darussalam & High income: nonOECD & East Asia \\& Pacific & $\\dots$ \\\\\n",
       "\t30 & BTN & Kingdom of Bhutan & Lower middle income & South Asia & $\\dots$ \\\\\n",
       "\t$\\dots$ & $\\dots$ & $\\dots$ & $\\dots$ & $\\dots$ &  \\\\\n",
       "\\end{tabular}\n"
      ],
      "text/plain": [
       "\u001b[1m234×31 DataFrame\u001b[0m\n",
       "\u001b[1m Row \u001b[0m│\u001b[1m CountryCode \u001b[0m\u001b[1m Long Name                         \u001b[0m\u001b[1m Income Group         \u001b[0m\u001b[1m R\u001b[0m ⋯\n",
       "     │\u001b[90m String3     \u001b[0m\u001b[90m String                            \u001b[0m\u001b[90m String31?            \u001b[0m\u001b[90m S\u001b[0m ⋯\n",
       "─────┼──────────────────────────────────────────────────────────────────────────\n",
       "   1 │ ABW          Aruba                              High income: nonOECD  L ⋯\n",
       "   2 │ ADO          Principality of Andorra            High income: nonOECD  E\n",
       "   3 │ AFG          Islamic State of Afghanistan       Low income            S\n",
       "   4 │ AGO          People's Republic of Angola        Lower middle income   S\n",
       "   5 │ ALB          Republic of Albania                Upper middle income   E ⋯\n",
       "   6 │ ARE          United Arab Emirates               High income: nonOECD  M\n",
       "   7 │ ARG          Argentine Republic                 Upper middle income   L\n",
       "   8 │ ARM          Republic of Armenia                Lower middle income   E\n",
       "   9 │ ASM          American Samoa                     Upper middle income   E ⋯\n",
       "  10 │ ATG          Antigua and Barbuda                Upper middle income   L\n",
       "  11 │ AUS          Commonwealth of Australia          High income: OECD     E\n",
       "  ⋮  │      ⋮                       ⋮                           ⋮              ⋱\n",
       " 225 │ VNM          Socialist Republic of Vietnam      Lower middle income   E\n",
       " 226 │ VUT          Republic of Vanuatu                Lower middle income   E ⋯\n",
       " 227 │ WBG          West Bank and Gaza                 Lower middle income   M\n",
       " 228 │ WLD          World                             \u001b[90m missing              \u001b[0m\u001b[90m m\u001b[0m\n",
       " 229 │ WSM          Samoa                              Lower middle income   E\n",
       " 230 │ YEM          Republic of Yemen                  Lower middle income   M ⋯\n",
       " 231 │ ZAF          Republic of South Africa           Upper middle income   S\n",
       " 232 │ ZAR          Democratic Republic of the Congo   Low income            S\n",
       " 233 │ ZMB          Republic of Zambia                 Low income            S\n",
       " 234 │ ZWE          Republic of Zimbabwe               Low income            S ⋯\n",
       "\u001b[36m                                                 28 columns and 213 rows omitted\u001b[0m"
      ]
     },
     "execution_count": 301,
     "metadata": {},
     "output_type": "execute_result"
    }
   ],
   "source": [
    "edu_raw = CSV.read(\"education.csv\", DataFrame)"
   ]
  },
  {
   "cell_type": "markdown",
   "id": "fec20497",
   "metadata": {},
   "source": [
    "Perform an inner join on the \"Country Code\" columns"
   ]
  },
  {
   "cell_type": "code",
   "execution_count": 302,
   "id": "b279daa7",
   "metadata": {
    "collapsed": true,
    "jupyter": {
     "outputs_hidden": true
    }
   },
   "outputs": [
    {
     "data": {
      "text/html": [
       "<div><div style = \"float: left;\"><span>189×34 DataFrame</span></div><div style = \"float: right;\"><span style = \"font-style: italic;\">164 rows omitted</span></div><div style = \"clear: both;\"></div></div><div class = \"data-frame\" style = \"overflow-x: scroll;\"><table class = \"data-frame\" style = \"margin-bottom: 6px;\"><thead><tr class = \"header\"><th class = \"rowNumber\" style = \"font-weight: bold; text-align: right;\">Row</th><th style = \"text-align: left;\">CountryCode</th><th style = \"text-align: left;\">Rank</th><th style = \"text-align: left;\">Country</th><th style = \"text-align: left;\">US_dollars</th><th style = \"text-align: left;\">Long Name</th><th style = \"text-align: left;\">Income Group</th><th style = \"text-align: left;\">Region</th><th style = \"text-align: left;\">Lending category</th><th style = \"text-align: left;\">Other groups</th><th style = \"text-align: left;\">Currency Unit</th><th style = \"text-align: left;\">Latest population census</th><th style = \"text-align: left;\">Latest household survey</th><th style = \"text-align: left;\">Special Notes</th><th style = \"text-align: left;\">National accounts base year</th><th style = \"text-align: left;\">National accounts reference year</th><th style = \"text-align: left;\">System of National Accounts</th><th style = \"text-align: left;\">SNA price valuation</th><th style = \"text-align: left;\">Alternative conversion factor</th><th style = \"text-align: left;\">PPP survey year</th><th style = \"text-align: left;\">Balance of Payments Manual in use</th><th style = \"text-align: left;\">External debt Reporting status</th><th style = \"text-align: left;\">System of trade</th><th style = \"text-align: left;\">Government Accounting concept</th><th style = \"text-align: left;\">IMF data dissemination standard</th><th style = \"text-align: left;\">Source of most recent Income and expenditure data</th><th style = \"text-align: left;\">Vital registration complete</th><th style = \"text-align: left;\">Latest agricultural census</th><th style = \"text-align: left;\">Latest industrial data</th><th style = \"text-align: left;\">Latest trade data</th><th style = \"text-align: left;\">Latest water withdrawal data</th><th style = \"text-align: left;\">2-alpha code</th><th style = \"text-align: left;\">WB-2 code</th><th style = \"text-align: left;\">Table Name</th><th style = \"text-align: left;\">Short Name</th></tr><tr class = \"subheader headerLastRow\"><th class = \"rowNumber\" style = \"font-weight: bold; text-align: right;\"></th><th title = \"String3\" style = \"text-align: left;\">String3</th><th title = \"Int64\" style = \"text-align: left;\">Int64</th><th title = \"String31\" style = \"text-align: left;\">String31</th><th title = \"Int64\" style = \"text-align: left;\">Int64</th><th title = \"String\" style = \"text-align: left;\">String</th><th title = \"Union{Missing, String31}\" style = \"text-align: left;\">String31?</th><th title = \"Union{Missing, String31}\" style = \"text-align: left;\">String31?</th><th title = \"Union{Missing, String7}\" style = \"text-align: left;\">String7?</th><th title = \"Union{Missing, String15}\" style = \"text-align: left;\">String15?</th><th title = \"Union{Missing, String}\" style = \"text-align: left;\">String?</th><th title = \"Union{Missing, String15}\" style = \"text-align: left;\">String15?</th><th title = \"Union{Missing, String31}\" style = \"text-align: left;\">String31?</th><th title = \"Union{Missing, String}\" style = \"text-align: left;\">String?</th><th title = \"Union{Missing, String}\" style = \"text-align: left;\">String?</th><th title = \"Union{Missing, Int64}\" style = \"text-align: left;\">Int64?</th><th title = \"Union{Missing, Int64}\" style = \"text-align: left;\">Int64?</th><th title = \"Union{Missing, String3}\" style = \"text-align: left;\">String3?</th><th title = \"Union{Missing, String31}\" style = \"text-align: left;\">String31?</th><th title = \"Union{Missing, Int64}\" style = \"text-align: left;\">Int64?</th><th title = \"Union{Missing, String7}\" style = \"text-align: left;\">String7?</th><th title = \"Union{Missing, String15}\" style = \"text-align: left;\">String15?</th><th title = \"Union{Missing, String7}\" style = \"text-align: left;\">String7?</th><th title = \"Union{Missing, String15}\" style = \"text-align: left;\">String15?</th><th title = \"Union{Missing, String7}\" style = \"text-align: left;\">String7?</th><th title = \"Union{Missing, String15}\" style = \"text-align: left;\">String15?</th><th title = \"Union{Missing, String3}\" style = \"text-align: left;\">String3?</th><th title = \"Union{Missing, String31}\" style = \"text-align: left;\">String31?</th><th title = \"Union{Missing, Int64}\" style = \"text-align: left;\">Int64?</th><th title = \"Union{Missing, Int64}\" style = \"text-align: left;\">Int64?</th><th title = \"Union{Missing, Int64}\" style = \"text-align: left;\">Int64?</th><th title = \"Union{Missing, String3}\" style = \"text-align: left;\">String3?</th><th title = \"Union{Missing, String3}\" style = \"text-align: left;\">String3?</th><th title = \"String\" style = \"text-align: left;\">String</th><th title = \"String\" style = \"text-align: left;\">String</th></tr></thead><tbody><tr><td class = \"rowNumber\" style = \"font-weight: bold; text-align: right;\">1</td><td style = \"text-align: left;\">ABW</td><td style = \"text-align: right;\">161</td><td style = \"text-align: left;\">Aruba</td><td style = \"text-align: right;\">2584</td><td style = \"text-align: left;\">Aruba</td><td style = \"text-align: left;\">High income: nonOECD</td><td style = \"text-align: left;\">Latin America &amp; Caribbean</td><td style = \"font-style: italic; text-align: left;\">missing</td><td style = \"font-style: italic; text-align: left;\">missing</td><td style = \"text-align: left;\">Aruban florin</td><td style = \"text-align: left;\">2000</td><td style = \"font-style: italic; text-align: left;\">missing</td><td style = \"font-style: italic; text-align: left;\">missing</td><td style = \"text-align: left;\">1995</td><td style = \"font-style: italic; text-align: right;\">missing</td><td style = \"font-style: italic; text-align: right;\">missing</td><td style = \"font-style: italic; text-align: left;\">missing</td><td style = \"font-style: italic; text-align: left;\">missing</td><td style = \"font-style: italic; text-align: right;\">missing</td><td style = \"font-style: italic; text-align: left;\">missing</td><td style = \"font-style: italic; text-align: left;\">missing</td><td style = \"text-align: left;\">Special</td><td style = \"font-style: italic; text-align: left;\">missing</td><td style = \"font-style: italic; text-align: left;\">missing</td><td style = \"font-style: italic; text-align: left;\">missing</td><td style = \"font-style: italic; text-align: left;\">missing</td><td style = \"font-style: italic; text-align: left;\">missing</td><td style = \"font-style: italic; text-align: right;\">missing</td><td style = \"text-align: right;\">2008</td><td style = \"font-style: italic; text-align: right;\">missing</td><td style = \"text-align: left;\">AW</td><td style = \"text-align: left;\">AW</td><td style = \"text-align: left;\">Aruba</td><td style = \"text-align: left;\">Aruba</td></tr><tr><td class = \"rowNumber\" style = \"font-weight: bold; text-align: right;\">2</td><td style = \"text-align: left;\">AFG</td><td style = \"text-align: right;\">105</td><td style = \"text-align: left;\">Afghanistan</td><td style = \"text-align: right;\">20497</td><td style = \"text-align: left;\">Islamic State of Afghanistan</td><td style = \"text-align: left;\">Low income</td><td style = \"text-align: left;\">South Asia</td><td style = \"text-align: left;\">IDA</td><td style = \"text-align: left;\">HIPC</td><td style = \"text-align: left;\">Afghan afghani</td><td style = \"text-align: left;\">1979</td><td style = \"text-align: left;\">MICS, 2003</td><td style = \"text-align: left;\">Fiscal year end: March 20; reporting period for national accounts data: FY.</td><td style = \"text-align: left;\">2002/2003</td><td style = \"font-style: italic; text-align: right;\">missing</td><td style = \"font-style: italic; text-align: right;\">missing</td><td style = \"text-align: left;\">VAB</td><td style = \"font-style: italic; text-align: left;\">missing</td><td style = \"font-style: italic; text-align: right;\">missing</td><td style = \"font-style: italic; text-align: left;\">missing</td><td style = \"text-align: left;\">Actual</td><td style = \"text-align: left;\">General</td><td style = \"text-align: left;\">Consolidated</td><td style = \"text-align: left;\">GDDS</td><td style = \"font-style: italic; text-align: left;\">missing</td><td style = \"font-style: italic; text-align: left;\">missing</td><td style = \"font-style: italic; text-align: left;\">missing</td><td style = \"font-style: italic; text-align: right;\">missing</td><td style = \"text-align: right;\">2008</td><td style = \"text-align: right;\">2000</td><td style = \"text-align: left;\">AF</td><td style = \"text-align: left;\">AF</td><td style = \"text-align: left;\">Afghanistan</td><td style = \"text-align: left;\">Afghanistan</td></tr><tr><td class = \"rowNumber\" style = \"font-weight: bold; text-align: right;\">3</td><td style = \"text-align: left;\">AGO</td><td style = \"text-align: right;\">60</td><td style = \"text-align: left;\">Angola</td><td style = \"text-align: right;\">114147</td><td style = \"text-align: left;\">People&apos;s Republic of Angola</td><td style = \"text-align: left;\">Lower middle income</td><td style = \"text-align: left;\">Sub-Saharan Africa</td><td style = \"text-align: left;\">IDA</td><td style = \"font-style: italic; text-align: left;\">missing</td><td style = \"text-align: left;\">Angolan kwanza</td><td style = \"text-align: left;\">1970</td><td style = \"text-align: left;\">MICS, 2001, MIS, 2006/07</td><td style = \"font-style: italic; text-align: left;\">missing</td><td style = \"text-align: left;\">1997</td><td style = \"font-style: italic; text-align: right;\">missing</td><td style = \"font-style: italic; text-align: right;\">missing</td><td style = \"text-align: left;\">VAP</td><td style = \"text-align: left;\">1991-96</td><td style = \"text-align: right;\">2005</td><td style = \"text-align: left;\">BPM5</td><td style = \"text-align: left;\">Actual</td><td style = \"text-align: left;\">Special</td><td style = \"font-style: italic; text-align: left;\">missing</td><td style = \"text-align: left;\">GDDS</td><td style = \"text-align: left;\">IHS, 2000</td><td style = \"font-style: italic; text-align: left;\">missing</td><td style = \"text-align: left;\">1964-65</td><td style = \"font-style: italic; text-align: right;\">missing</td><td style = \"text-align: right;\">1991</td><td style = \"text-align: right;\">2000</td><td style = \"text-align: left;\">AO</td><td style = \"text-align: left;\">AO</td><td style = \"text-align: left;\">Angola</td><td style = \"text-align: left;\">Angola</td></tr><tr><td class = \"rowNumber\" style = \"font-weight: bold; text-align: right;\">4</td><td style = \"text-align: left;\">ALB</td><td style = \"text-align: right;\">125</td><td style = \"text-align: left;\">Albania</td><td style = \"text-align: right;\">12648</td><td style = \"text-align: left;\">Republic of Albania</td><td style = \"text-align: left;\">Upper middle income</td><td style = \"text-align: left;\">Europe &amp; Central Asia</td><td style = \"text-align: left;\">IBRD</td><td style = \"font-style: italic; text-align: left;\">missing</td><td style = \"text-align: left;\">Albanian lek</td><td style = \"text-align: left;\">2001</td><td style = \"text-align: left;\">MICS, 2005</td><td style = \"font-style: italic; text-align: left;\">missing</td><td style = \"font-style: italic; text-align: left;\">missing</td><td style = \"text-align: right;\">1996</td><td style = \"text-align: right;\">1993</td><td style = \"text-align: left;\">VAB</td><td style = \"font-style: italic; text-align: left;\">missing</td><td style = \"text-align: right;\">2005</td><td style = \"text-align: left;\">BPM5</td><td style = \"text-align: left;\">Actual</td><td style = \"text-align: left;\">General</td><td style = \"text-align: left;\">Consolidated</td><td style = \"text-align: left;\">GDDS</td><td style = \"text-align: left;\">LSMS, 2005</td><td style = \"text-align: left;\">Yes</td><td style = \"text-align: left;\">1998</td><td style = \"text-align: right;\">2005</td><td style = \"text-align: right;\">2008</td><td style = \"text-align: right;\">2000</td><td style = \"text-align: left;\">AL</td><td style = \"text-align: left;\">AL</td><td style = \"text-align: left;\">Albania</td><td style = \"text-align: left;\">Albania</td></tr><tr><td class = \"rowNumber\" style = \"font-weight: bold; text-align: right;\">5</td><td style = \"text-align: left;\">ARE</td><td style = \"text-align: right;\">32</td><td style = \"text-align: left;\">United Arab Emirates</td><td style = \"text-align: right;\">348595</td><td style = \"text-align: left;\">United Arab Emirates</td><td style = \"text-align: left;\">High income: nonOECD</td><td style = \"text-align: left;\">Middle East &amp; North Africa</td><td style = \"font-style: italic; text-align: left;\">missing</td><td style = \"font-style: italic; text-align: left;\">missing</td><td style = \"text-align: left;\">U.A.E. dirham</td><td style = \"text-align: left;\">2005</td><td style = \"font-style: italic; text-align: left;\">missing</td><td style = \"font-style: italic; text-align: left;\">missing</td><td style = \"text-align: left;\">1995</td><td style = \"font-style: italic; text-align: right;\">missing</td><td style = \"font-style: italic; text-align: right;\">missing</td><td style = \"text-align: left;\">VAB</td><td style = \"font-style: italic; text-align: left;\">missing</td><td style = \"font-style: italic; text-align: right;\">missing</td><td style = \"text-align: left;\">BPM4</td><td style = \"font-style: italic; text-align: left;\">missing</td><td style = \"text-align: left;\">General</td><td style = \"text-align: left;\">Consolidated</td><td style = \"text-align: left;\">GDDS</td><td style = \"font-style: italic; text-align: left;\">missing</td><td style = \"font-style: italic; text-align: left;\">missing</td><td style = \"text-align: left;\">1998</td><td style = \"font-style: italic; text-align: right;\">missing</td><td style = \"text-align: right;\">2008</td><td style = \"text-align: right;\">2005</td><td style = \"text-align: left;\">AE</td><td style = \"text-align: left;\">AE</td><td style = \"text-align: left;\">United Arab Emirates</td><td style = \"text-align: left;\">United Arab Emirates</td></tr><tr><td class = \"rowNumber\" style = \"font-weight: bold; text-align: right;\">6</td><td style = \"text-align: left;\">ARG</td><td style = \"text-align: right;\">26</td><td style = \"text-align: left;\">Argentina</td><td style = \"text-align: right;\">475502</td><td style = \"text-align: left;\">Argentine Republic</td><td style = \"text-align: left;\">Upper middle income</td><td style = \"text-align: left;\">Latin America &amp; Caribbean</td><td style = \"text-align: left;\">IBRD</td><td style = \"font-style: italic; text-align: left;\">missing</td><td style = \"text-align: left;\">Argentine peso</td><td style = \"text-align: left;\">2001</td><td style = \"font-style: italic; text-align: left;\">missing</td><td style = \"font-style: italic; text-align: left;\">missing</td><td style = \"text-align: left;\">1993</td><td style = \"font-style: italic; text-align: right;\">missing</td><td style = \"text-align: right;\">1993</td><td style = \"text-align: left;\">VAB</td><td style = \"text-align: left;\">1971-84</td><td style = \"text-align: right;\">2005</td><td style = \"text-align: left;\">BPM5</td><td style = \"text-align: left;\">Actual</td><td style = \"text-align: left;\">Special</td><td style = \"text-align: left;\">Consolidated</td><td style = \"text-align: left;\">SDDS</td><td style = \"text-align: left;\">IHS, 2006</td><td style = \"text-align: left;\">Yes</td><td style = \"text-align: left;\">2002</td><td style = \"text-align: right;\">2001</td><td style = \"text-align: right;\">2008</td><td style = \"text-align: right;\">2000</td><td style = \"text-align: left;\">AR</td><td style = \"text-align: left;\">AR</td><td style = \"text-align: left;\">Argentina</td><td style = \"text-align: left;\">Argentina</td></tr><tr><td class = \"rowNumber\" style = \"font-weight: bold; text-align: right;\">7</td><td style = \"text-align: left;\">ARM</td><td style = \"text-align: right;\">133</td><td style = \"text-align: left;\">Armenia</td><td style = \"text-align: right;\">9951</td><td style = \"text-align: left;\">Republic of Armenia</td><td style = \"text-align: left;\">Lower middle income</td><td style = \"text-align: left;\">Europe &amp; Central Asia</td><td style = \"text-align: left;\">Blend</td><td style = \"font-style: italic; text-align: left;\">missing</td><td style = \"text-align: left;\">Armenian dram</td><td style = \"text-align: left;\">2001</td><td style = \"text-align: left;\">DHS, 2005</td><td style = \"font-style: italic; text-align: left;\">missing</td><td style = \"font-style: italic; text-align: left;\">missing</td><td style = \"text-align: right;\">1996</td><td style = \"text-align: right;\">1993</td><td style = \"text-align: left;\">VAB</td><td style = \"text-align: left;\">1990-95</td><td style = \"text-align: right;\">2005</td><td style = \"text-align: left;\">BPM5</td><td style = \"text-align: left;\">Actual</td><td style = \"text-align: left;\">Special</td><td style = \"text-align: left;\">Consolidated</td><td style = \"text-align: left;\">SDDS</td><td style = \"text-align: left;\">IHS, 2007</td><td style = \"text-align: left;\">Yes</td><td style = \"font-style: italic; text-align: left;\">missing</td><td style = \"font-style: italic; text-align: right;\">missing</td><td style = \"text-align: right;\">2008</td><td style = \"text-align: right;\">2000</td><td style = \"text-align: left;\">AM</td><td style = \"text-align: left;\">AM</td><td style = \"text-align: left;\">Armenia</td><td style = \"text-align: left;\">Armenia</td></tr><tr><td class = \"rowNumber\" style = \"font-weight: bold; text-align: right;\">8</td><td style = \"text-align: left;\">ATG</td><td style = \"text-align: right;\">172</td><td style = \"text-align: left;\">Antigua and Barbuda</td><td style = \"text-align: right;\">1134</td><td style = \"text-align: left;\">Antigua and Barbuda</td><td style = \"text-align: left;\">Upper middle income</td><td style = \"text-align: left;\">Latin America &amp; Caribbean</td><td style = \"text-align: left;\">IBRD</td><td style = \"font-style: italic; text-align: left;\">missing</td><td style = \"text-align: left;\">East Caribbean dollar</td><td style = \"text-align: left;\">2001</td><td style = \"font-style: italic; text-align: left;\">missing</td><td style = \"text-align: left;\">The government has revised national accounts data for 1998-2008.</td><td style = \"text-align: left;\">1990</td><td style = \"font-style: italic; text-align: right;\">missing</td><td style = \"font-style: italic; text-align: right;\">missing</td><td style = \"text-align: left;\">VAB</td><td style = \"font-style: italic; text-align: left;\">missing</td><td style = \"font-style: italic; text-align: right;\">missing</td><td style = \"text-align: left;\">BPM5</td><td style = \"font-style: italic; text-align: left;\">missing</td><td style = \"text-align: left;\">General</td><td style = \"font-style: italic; text-align: left;\">missing</td><td style = \"text-align: left;\">GDDS</td><td style = \"font-style: italic; text-align: left;\">missing</td><td style = \"text-align: left;\">Yes</td><td style = \"font-style: italic; text-align: left;\">missing</td><td style = \"font-style: italic; text-align: right;\">missing</td><td style = \"text-align: right;\">2007</td><td style = \"text-align: right;\">1990</td><td style = \"text-align: left;\">AG</td><td style = \"text-align: left;\">AG</td><td style = \"text-align: left;\">Antigua and Barbuda</td><td style = \"text-align: left;\">Antigua and Barbuda</td></tr><tr><td class = \"rowNumber\" style = \"font-weight: bold; text-align: right;\">9</td><td style = \"text-align: left;\">AUS</td><td style = \"text-align: right;\">12</td><td style = \"text-align: left;\">Australia</td><td style = \"text-align: right;\">1532408</td><td style = \"text-align: left;\">Commonwealth of Australia</td><td style = \"text-align: left;\">High income: OECD</td><td style = \"text-align: left;\">East Asia &amp; Pacific</td><td style = \"font-style: italic; text-align: left;\">missing</td><td style = \"font-style: italic; text-align: left;\">missing</td><td style = \"text-align: left;\">Australian dollar</td><td style = \"text-align: left;\">2006</td><td style = \"font-style: italic; text-align: left;\">missing</td><td style = \"text-align: left;\">Fiscal year end: June 30; reporting period for national accounts data: FY.</td><td style = \"font-style: italic; text-align: left;\">missing</td><td style = \"text-align: right;\">2007</td><td style = \"text-align: right;\">1993</td><td style = \"text-align: left;\">VAB</td><td style = \"font-style: italic; text-align: left;\">missing</td><td style = \"text-align: right;\">2005</td><td style = \"text-align: left;\">BPM5</td><td style = \"font-style: italic; text-align: left;\">missing</td><td style = \"text-align: left;\">General</td><td style = \"text-align: left;\">Consolidated</td><td style = \"text-align: left;\">SDDS</td><td style = \"text-align: left;\">ES/BS, 1994</td><td style = \"text-align: left;\">Yes</td><td style = \"text-align: left;\">2001</td><td style = \"text-align: right;\">2004</td><td style = \"text-align: right;\">2008</td><td style = \"text-align: right;\">2000</td><td style = \"text-align: left;\">AU</td><td style = \"text-align: left;\">AU</td><td style = \"text-align: left;\">Australia</td><td style = \"text-align: left;\">Australia</td></tr><tr><td class = \"rowNumber\" style = \"font-weight: bold; text-align: right;\">10</td><td style = \"text-align: left;\">AUT</td><td style = \"text-align: right;\">27</td><td style = \"text-align: left;\">Austria</td><td style = \"text-align: right;\">394708</td><td style = \"text-align: left;\">Republic of Austria</td><td style = \"text-align: left;\">High income: OECD</td><td style = \"text-align: left;\">Europe &amp; Central Asia</td><td style = \"font-style: italic; text-align: left;\">missing</td><td style = \"text-align: left;\">Euro area</td><td style = \"text-align: left;\">Euro</td><td style = \"text-align: left;\">2001</td><td style = \"font-style: italic; text-align: left;\">missing</td><td style = \"text-align: left;\">A simple multiplier is used to convert the national currencies of EMU members to euros. The following irrevocable euro conversion rate was adopted by the EU Council on January 1, 1999: 1 euro = 13.7603 Austrian schilling. Please note that historical data before 1999 are not actual euros and are not comparable or suitable for aggregation across countries.</td><td style = \"text-align: left;\">2000</td><td style = \"font-style: italic; text-align: right;\">missing</td><td style = \"text-align: right;\">1993</td><td style = \"text-align: left;\">VAB</td><td style = \"font-style: italic; text-align: left;\">missing</td><td style = \"text-align: right;\">2005</td><td style = \"text-align: left;\">BPM5</td><td style = \"font-style: italic; text-align: left;\">missing</td><td style = \"text-align: left;\">Special</td><td style = \"text-align: left;\">Consolidated</td><td style = \"text-align: left;\">SDDS</td><td style = \"text-align: left;\">IS 2000</td><td style = \"text-align: left;\">Yes</td><td style = \"text-align: left;\">1999-2000</td><td style = \"text-align: right;\">2004</td><td style = \"text-align: right;\">2008</td><td style = \"text-align: right;\">2000</td><td style = \"text-align: left;\">AT</td><td style = \"text-align: left;\">AT</td><td style = \"text-align: left;\">Austria</td><td style = \"text-align: left;\">Austria</td></tr><tr><td class = \"rowNumber\" style = \"font-weight: bold; text-align: right;\">11</td><td style = \"text-align: left;\">AZE</td><td style = \"text-align: right;\">68</td><td style = \"text-align: left;\">Azerbaijan</td><td style = \"text-align: right;\">66605</td><td style = \"text-align: left;\">Republic of Azerbaijan</td><td style = \"text-align: left;\">Upper middle income</td><td style = \"text-align: left;\">Europe &amp; Central Asia</td><td style = \"text-align: left;\">Blend</td><td style = \"font-style: italic; text-align: left;\">missing</td><td style = \"text-align: left;\">New Azeri manat</td><td style = \"text-align: left;\">2009</td><td style = \"text-align: left;\">DHS, 2006</td><td style = \"font-style: italic; text-align: left;\">missing</td><td style = \"font-style: italic; text-align: left;\">missing</td><td style = \"text-align: right;\">2003</td><td style = \"text-align: right;\">1993</td><td style = \"text-align: left;\">VAB</td><td style = \"text-align: left;\">1992-95</td><td style = \"text-align: right;\">2005</td><td style = \"text-align: left;\">BPM5</td><td style = \"text-align: left;\">Actual</td><td style = \"text-align: left;\">General</td><td style = \"text-align: left;\">Consolidated</td><td style = \"text-align: left;\">GDDS</td><td style = \"text-align: left;\">ES/BS, 2005</td><td style = \"text-align: left;\">Yes</td><td style = \"font-style: italic; text-align: left;\">missing</td><td style = \"text-align: right;\">2005</td><td style = \"text-align: right;\">2008</td><td style = \"text-align: right;\">2005</td><td style = \"text-align: left;\">AZ</td><td style = \"text-align: left;\">AZ</td><td style = \"text-align: left;\">Azerbaijan</td><td style = \"text-align: left;\">Azerbaijan</td></tr><tr><td class = \"rowNumber\" style = \"font-weight: bold; text-align: right;\">12</td><td style = \"text-align: left;\">BDI</td><td style = \"text-align: right;\">162</td><td style = \"text-align: left;\">Burundi</td><td style = \"text-align: right;\">2472</td><td style = \"text-align: left;\">Republic of Burundi</td><td style = \"text-align: left;\">Low income</td><td style = \"text-align: left;\">Sub-Saharan Africa</td><td style = \"text-align: left;\">IDA</td><td style = \"text-align: left;\">HIPC</td><td style = \"text-align: left;\">Burundi franc</td><td style = \"text-align: left;\">1990</td><td style = \"text-align: left;\">MICS, 2005</td><td style = \"font-style: italic; text-align: left;\">missing</td><td style = \"text-align: left;\">1980</td><td style = \"font-style: italic; text-align: right;\">missing</td><td style = \"font-style: italic; text-align: right;\">missing</td><td style = \"text-align: left;\">VAB</td><td style = \"font-style: italic; text-align: left;\">missing</td><td style = \"text-align: right;\">2005</td><td style = \"text-align: left;\">BPM5</td><td style = \"text-align: left;\">Actual</td><td style = \"text-align: left;\">Special</td><td style = \"text-align: left;\">Consolidated</td><td style = \"font-style: italic; text-align: left;\">missing</td><td style = \"text-align: left;\">CWIQ, 2006</td><td style = \"font-style: italic; text-align: left;\">missing</td><td style = \"font-style: italic; text-align: left;\">missing</td><td style = \"font-style: italic; text-align: right;\">missing</td><td style = \"text-align: right;\">2008</td><td style = \"text-align: right;\">2000</td><td style = \"text-align: left;\">BI</td><td style = \"text-align: left;\">BI</td><td style = \"text-align: left;\">Burundi</td><td style = \"text-align: left;\">Burundi</td></tr><tr><td class = \"rowNumber\" style = \"font-weight: bold; text-align: right;\">13</td><td style = \"text-align: left;\">BEL</td><td style = \"text-align: right;\">25</td><td style = \"text-align: left;\">Belgium</td><td style = \"text-align: right;\">483262</td><td style = \"text-align: left;\">Kingdom of Belgium</td><td style = \"text-align: left;\">High income: OECD</td><td style = \"text-align: left;\">Europe &amp; Central Asia</td><td style = \"font-style: italic; text-align: left;\">missing</td><td style = \"text-align: left;\">Euro area</td><td style = \"text-align: left;\">Euro</td><td style = \"text-align: left;\">2001</td><td style = \"font-style: italic; text-align: left;\">missing</td><td style = \"text-align: left;\">A simple multiplier is used to convert the national currencies of EMU members to euros. The following irrevocable euro conversion rate was adopted by the EU Council on January 1, 1999: 1 euro = 40.3399 Belgian franc. Please note that historical data before 1999 are not actual euros and are not comparable or suitable for aggregation across countries.</td><td style = \"text-align: left;\">2000</td><td style = \"font-style: italic; text-align: right;\">missing</td><td style = \"text-align: right;\">1993</td><td style = \"text-align: left;\">VAB</td><td style = \"font-style: italic; text-align: left;\">missing</td><td style = \"text-align: right;\">2005</td><td style = \"text-align: left;\">BPM5</td><td style = \"font-style: italic; text-align: left;\">missing</td><td style = \"text-align: left;\">Special</td><td style = \"text-align: left;\">Consolidated</td><td style = \"text-align: left;\">SDDS</td><td style = \"text-align: left;\">IHS, 2000</td><td style = \"text-align: left;\">Yes</td><td style = \"text-align: left;\">1999-2000 (conducted annually)</td><td style = \"text-align: right;\">2004</td><td style = \"text-align: right;\">2008</td><td style = \"font-style: italic; text-align: right;\">missing</td><td style = \"text-align: left;\">BE</td><td style = \"text-align: left;\">BE</td><td style = \"text-align: left;\">Belgium</td><td style = \"text-align: left;\">Belgium</td></tr><tr><td style = \"text-align: right;\">&vellip;</td><td style = \"text-align: right;\">&vellip;</td><td style = \"text-align: right;\">&vellip;</td><td style = \"text-align: right;\">&vellip;</td><td style = \"text-align: right;\">&vellip;</td><td style = \"text-align: right;\">&vellip;</td><td style = \"text-align: right;\">&vellip;</td><td style = \"text-align: right;\">&vellip;</td><td style = \"text-align: right;\">&vellip;</td><td style = \"text-align: right;\">&vellip;</td><td style = \"text-align: right;\">&vellip;</td><td style = \"text-align: right;\">&vellip;</td><td style = \"text-align: right;\">&vellip;</td><td style = \"text-align: right;\">&vellip;</td><td style = \"text-align: right;\">&vellip;</td><td style = \"text-align: right;\">&vellip;</td><td style = \"text-align: right;\">&vellip;</td><td style = \"text-align: right;\">&vellip;</td><td style = \"text-align: right;\">&vellip;</td><td style = \"text-align: right;\">&vellip;</td><td style = \"text-align: right;\">&vellip;</td><td style = \"text-align: right;\">&vellip;</td><td style = \"text-align: right;\">&vellip;</td><td style = \"text-align: right;\">&vellip;</td><td style = \"text-align: right;\">&vellip;</td><td style = \"text-align: right;\">&vellip;</td><td style = \"text-align: right;\">&vellip;</td><td style = \"text-align: right;\">&vellip;</td><td style = \"text-align: right;\">&vellip;</td><td style = \"text-align: right;\">&vellip;</td><td style = \"text-align: right;\">&vellip;</td><td style = \"text-align: right;\">&vellip;</td><td style = \"text-align: right;\">&vellip;</td><td style = \"text-align: right;\">&vellip;</td><td style = \"text-align: right;\">&vellip;</td></tr><tr><td class = \"rowNumber\" style = \"font-weight: bold; text-align: right;\">178</td><td style = \"text-align: left;\">USA</td><td style = \"text-align: right;\">1</td><td style = \"text-align: left;\">United States</td><td style = \"text-align: right;\">16244600</td><td style = \"text-align: left;\">United States of America</td><td style = \"text-align: left;\">High income: OECD</td><td style = \"text-align: left;\">North America</td><td style = \"font-style: italic; text-align: left;\">missing</td><td style = \"font-style: italic; text-align: left;\">missing</td><td style = \"text-align: left;\">U.S. dollar</td><td style = \"text-align: left;\">2000</td><td style = \"text-align: left;\">CPS (monthly)</td><td style = \"text-align: left;\">Fiscal year end: September 30; reporting period for national accounts data: CY.</td><td style = \"font-style: italic; text-align: left;\">missing</td><td style = \"text-align: right;\">2000</td><td style = \"font-style: italic; text-align: right;\">missing</td><td style = \"text-align: left;\">VAB</td><td style = \"font-style: italic; text-align: left;\">missing</td><td style = \"text-align: right;\">2005</td><td style = \"text-align: left;\">BPM5</td><td style = \"font-style: italic; text-align: left;\">missing</td><td style = \"text-align: left;\">General</td><td style = \"text-align: left;\">Consolidated</td><td style = \"text-align: left;\">SDDS</td><td style = \"text-align: left;\">LFS 2000</td><td style = \"text-align: left;\">Yes</td><td style = \"text-align: left;\">1997/2002</td><td style = \"text-align: right;\">2004</td><td style = \"text-align: right;\">2008</td><td style = \"text-align: right;\">2000</td><td style = \"text-align: left;\">US</td><td style = \"text-align: left;\">US</td><td style = \"text-align: left;\">United States</td><td style = \"text-align: left;\">United States</td></tr><tr><td class = \"rowNumber\" style = \"font-weight: bold; text-align: right;\">179</td><td style = \"text-align: left;\">UZB</td><td style = \"text-align: right;\">75</td><td style = \"text-align: left;\">Uzbekistan</td><td style = \"text-align: right;\">51113</td><td style = \"text-align: left;\">Republic of Uzbekistan</td><td style = \"text-align: left;\">Lower middle income</td><td style = \"text-align: left;\">Europe &amp; Central Asia</td><td style = \"text-align: left;\">Blend</td><td style = \"font-style: italic; text-align: left;\">missing</td><td style = \"text-align: left;\">Uzbek sum</td><td style = \"text-align: left;\">1989</td><td style = \"text-align: left;\">MICS, 2006</td><td style = \"font-style: italic; text-align: left;\">missing</td><td style = \"font-style: italic; text-align: left;\">missing</td><td style = \"text-align: right;\">1997</td><td style = \"text-align: right;\">1993</td><td style = \"text-align: left;\">VAB</td><td style = \"text-align: left;\">1990-95</td><td style = \"font-style: italic; text-align: right;\">missing</td><td style = \"text-align: left;\">BPM5</td><td style = \"text-align: left;\">Actual</td><td style = \"text-align: left;\">General</td><td style = \"font-style: italic; text-align: left;\">missing</td><td style = \"font-style: italic; text-align: left;\">missing</td><td style = \"text-align: left;\">ES/BS, 2003</td><td style = \"text-align: left;\">Yes</td><td style = \"font-style: italic; text-align: left;\">missing</td><td style = \"font-style: italic; text-align: right;\">missing</td><td style = \"font-style: italic; text-align: right;\">missing</td><td style = \"text-align: right;\">2000</td><td style = \"text-align: left;\">UZ</td><td style = \"text-align: left;\">UZ</td><td style = \"text-align: left;\">Uzbekistan</td><td style = \"text-align: left;\">Uzbekistan</td></tr><tr><td class = \"rowNumber\" style = \"font-weight: bold; text-align: right;\">180</td><td style = \"text-align: left;\">VCT</td><td style = \"text-align: right;\">180</td><td style = \"text-align: left;\">St. Vincent and the Grenadines</td><td style = \"text-align: right;\">713</td><td style = \"text-align: left;\">St. Vincent and the Grenadines</td><td style = \"text-align: left;\">Upper middle income</td><td style = \"text-align: left;\">Latin America &amp; Caribbean</td><td style = \"text-align: left;\">Blend</td><td style = \"font-style: italic; text-align: left;\">missing</td><td style = \"text-align: left;\">East Caribbean dollar</td><td style = \"text-align: left;\">2001</td><td style = \"font-style: italic; text-align: left;\">missing</td><td style = \"font-style: italic; text-align: left;\">missing</td><td style = \"text-align: left;\">1990</td><td style = \"font-style: italic; text-align: right;\">missing</td><td style = \"font-style: italic; text-align: right;\">missing</td><td style = \"text-align: left;\">VAB</td><td style = \"font-style: italic; text-align: left;\">missing</td><td style = \"font-style: italic; text-align: right;\">missing</td><td style = \"text-align: left;\">BPM5</td><td style = \"text-align: left;\">Preliminary</td><td style = \"text-align: left;\">General</td><td style = \"text-align: left;\">Consolidated</td><td style = \"text-align: left;\">GDDS</td><td style = \"font-style: italic; text-align: left;\">missing</td><td style = \"text-align: left;\">Yes</td><td style = \"font-style: italic; text-align: left;\">missing</td><td style = \"font-style: italic; text-align: right;\">missing</td><td style = \"text-align: right;\">2008</td><td style = \"font-style: italic; text-align: right;\">missing</td><td style = \"text-align: left;\">VC</td><td style = \"text-align: left;\">VC</td><td style = \"text-align: left;\">St. Vincent and the Grenadines</td><td style = \"text-align: left;\">St. Vincent and the Grenadines</td></tr><tr><td class = \"rowNumber\" style = \"font-weight: bold; text-align: right;\">181</td><td style = \"text-align: left;\">VEN</td><td style = \"text-align: right;\">29</td><td style = \"text-align: left;\">Venezuela, RB</td><td style = \"text-align: right;\">381286</td><td style = \"text-align: left;\">Rep\\xfablica Bolivariana de Venezuela</td><td style = \"text-align: left;\">Upper middle income</td><td style = \"text-align: left;\">Latin America &amp; Caribbean</td><td style = \"text-align: left;\">IBRD</td><td style = \"font-style: italic; text-align: left;\">missing</td><td style = \"text-align: left;\">Venezuelan bolivar fuerte</td><td style = \"text-align: left;\">2001</td><td style = \"text-align: left;\">MICS, 2000</td><td style = \"font-style: italic; text-align: left;\">missing</td><td style = \"text-align: left;\">1997</td><td style = \"font-style: italic; text-align: right;\">missing</td><td style = \"font-style: italic; text-align: right;\">missing</td><td style = \"text-align: left;\">VAB</td><td style = \"font-style: italic; text-align: left;\">missing</td><td style = \"text-align: right;\">2005</td><td style = \"text-align: left;\">BPM5</td><td style = \"text-align: left;\">Actual</td><td style = \"text-align: left;\">General</td><td style = \"text-align: left;\">Consolidated</td><td style = \"text-align: left;\">GDDS</td><td style = \"text-align: left;\">IHS, 2003</td><td style = \"text-align: left;\">Yes</td><td style = \"text-align: left;\">1997</td><td style = \"font-style: italic; text-align: right;\">missing</td><td style = \"text-align: right;\">2008</td><td style = \"font-style: italic; text-align: right;\">missing</td><td style = \"text-align: left;\">VE</td><td style = \"text-align: left;\">VE</td><td style = \"text-align: left;\">Venezuela, RB</td><td style = \"text-align: left;\">Venezuela</td></tr><tr><td class = \"rowNumber\" style = \"font-weight: bold; text-align: right;\">182</td><td style = \"text-align: left;\">VNM</td><td style = \"text-align: right;\">57</td><td style = \"text-align: left;\">Vietnam</td><td style = \"text-align: right;\">155820</td><td style = \"text-align: left;\">Socialist Republic of Vietnam</td><td style = \"text-align: left;\">Lower middle income</td><td style = \"text-align: left;\">East Asia &amp; Pacific</td><td style = \"text-align: left;\">Blend</td><td style = \"font-style: italic; text-align: left;\">missing</td><td style = \"text-align: left;\">Vietnamese dong</td><td style = \"text-align: left;\">2009</td><td style = \"text-align: left;\">MICS, 2006</td><td style = \"font-style: italic; text-align: left;\">missing</td><td style = \"text-align: left;\">1994</td><td style = \"font-style: italic; text-align: right;\">missing</td><td style = \"text-align: right;\">1993</td><td style = \"text-align: left;\">VAP</td><td style = \"text-align: left;\">1991</td><td style = \"text-align: right;\">2005</td><td style = \"text-align: left;\">BPM4</td><td style = \"text-align: left;\">Estimate</td><td style = \"text-align: left;\">General</td><td style = \"text-align: left;\">Consolidated</td><td style = \"text-align: left;\">GDDS</td><td style = \"text-align: left;\">IHS, 2006</td><td style = \"font-style: italic; text-align: left;\">missing</td><td style = \"text-align: left;\">2001</td><td style = \"text-align: right;\">1999</td><td style = \"text-align: right;\">2008</td><td style = \"text-align: right;\">2000</td><td style = \"text-align: left;\">VN</td><td style = \"text-align: left;\">VN</td><td style = \"text-align: left;\">Vietnam</td><td style = \"text-align: left;\">Vietnam</td></tr><tr><td class = \"rowNumber\" style = \"font-weight: bold; text-align: right;\">183</td><td style = \"text-align: left;\">VUT</td><td style = \"text-align: right;\">177</td><td style = \"text-align: left;\">Vanuatu</td><td style = \"text-align: right;\">787</td><td style = \"text-align: left;\">Republic of Vanuatu</td><td style = \"text-align: left;\">Lower middle income</td><td style = \"text-align: left;\">East Asia &amp; Pacific</td><td style = \"text-align: left;\">IDA</td><td style = \"font-style: italic; text-align: left;\">missing</td><td style = \"text-align: left;\">Vanuatu vatu</td><td style = \"text-align: left;\">2009</td><td style = \"font-style: italic; text-align: left;\">missing</td><td style = \"font-style: italic; text-align: left;\">missing</td><td style = \"text-align: left;\">1983</td><td style = \"font-style: italic; text-align: right;\">missing</td><td style = \"font-style: italic; text-align: right;\">missing</td><td style = \"text-align: left;\">VAP</td><td style = \"font-style: italic; text-align: left;\">missing</td><td style = \"font-style: italic; text-align: right;\">missing</td><td style = \"text-align: left;\">BPM5</td><td style = \"text-align: left;\">Estimate</td><td style = \"font-style: italic; text-align: left;\">missing</td><td style = \"text-align: left;\">Consolidated</td><td style = \"text-align: left;\">GDDS</td><td style = \"font-style: italic; text-align: left;\">missing</td><td style = \"font-style: italic; text-align: left;\">missing</td><td style = \"font-style: italic; text-align: left;\">missing</td><td style = \"font-style: italic; text-align: right;\">missing</td><td style = \"text-align: right;\">2007</td><td style = \"font-style: italic; text-align: right;\">missing</td><td style = \"text-align: left;\">VU</td><td style = \"text-align: left;\">VU</td><td style = \"text-align: left;\">Vanuatu</td><td style = \"text-align: left;\">Vanuatu</td></tr><tr><td class = \"rowNumber\" style = \"font-weight: bold; text-align: right;\">184</td><td style = \"text-align: left;\">WSM</td><td style = \"text-align: right;\">181</td><td style = \"text-align: left;\">Samoa</td><td style = \"text-align: right;\">684</td><td style = \"text-align: left;\">Samoa</td><td style = \"text-align: left;\">Lower middle income</td><td style = \"text-align: left;\">East Asia &amp; Pacific</td><td style = \"text-align: left;\">IDA</td><td style = \"font-style: italic; text-align: left;\">missing</td><td style = \"text-align: left;\">Samoan tala</td><td style = \"text-align: left;\">2006</td><td style = \"font-style: italic; text-align: left;\">missing</td><td style = \"font-style: italic; text-align: left;\">missing</td><td style = \"text-align: left;\">2002</td><td style = \"font-style: italic; text-align: right;\">missing</td><td style = \"font-style: italic; text-align: right;\">missing</td><td style = \"text-align: left;\">VAB</td><td style = \"font-style: italic; text-align: left;\">missing</td><td style = \"font-style: italic; text-align: right;\">missing</td><td style = \"text-align: left;\">BPM5</td><td style = \"text-align: left;\">Preliminary</td><td style = \"text-align: left;\">General</td><td style = \"font-style: italic; text-align: left;\">missing</td><td style = \"font-style: italic; text-align: left;\">missing</td><td style = \"font-style: italic; text-align: left;\">missing</td><td style = \"font-style: italic; text-align: left;\">missing</td><td style = \"text-align: left;\">1999</td><td style = \"font-style: italic; text-align: right;\">missing</td><td style = \"text-align: right;\">2008</td><td style = \"font-style: italic; text-align: right;\">missing</td><td style = \"text-align: left;\">WS</td><td style = \"text-align: left;\">WS</td><td style = \"text-align: left;\">Samoa</td><td style = \"text-align: left;\">Samoa</td></tr><tr><td class = \"rowNumber\" style = \"font-weight: bold; text-align: right;\">185</td><td style = \"text-align: left;\">YEM</td><td style = \"text-align: right;\">90</td><td style = \"text-align: left;\">Yemen, Rep.</td><td style = \"text-align: right;\">35646</td><td style = \"text-align: left;\">Republic of Yemen</td><td style = \"text-align: left;\">Lower middle income</td><td style = \"text-align: left;\">Middle East &amp; North Africa</td><td style = \"text-align: left;\">IDA</td><td style = \"font-style: italic; text-align: left;\">missing</td><td style = \"text-align: left;\">Yemeni rial</td><td style = \"text-align: left;\">2004</td><td style = \"text-align: left;\">MICS, 2006</td><td style = \"font-style: italic; text-align: left;\">missing</td><td style = \"text-align: left;\">1990</td><td style = \"font-style: italic; text-align: right;\">missing</td><td style = \"font-style: italic; text-align: right;\">missing</td><td style = \"text-align: left;\">VAP</td><td style = \"text-align: left;\">1990-96</td><td style = \"text-align: right;\">2005</td><td style = \"text-align: left;\">BPM5</td><td style = \"text-align: left;\">Actual</td><td style = \"text-align: left;\">General</td><td style = \"text-align: left;\">Budgetary</td><td style = \"text-align: left;\">GDDS</td><td style = \"text-align: left;\">ES/BS, 2005</td><td style = \"font-style: italic; text-align: left;\">missing</td><td style = \"text-align: left;\">2002</td><td style = \"text-align: right;\">2005</td><td style = \"text-align: right;\">2008</td><td style = \"text-align: right;\">2000</td><td style = \"text-align: left;\">YE</td><td style = \"text-align: left;\">RY</td><td style = \"text-align: left;\">Yemen, Rep.</td><td style = \"text-align: left;\">Yemen</td></tr><tr><td class = \"rowNumber\" style = \"font-weight: bold; text-align: right;\">186</td><td style = \"text-align: left;\">ZAF</td><td style = \"text-align: right;\">28</td><td style = \"text-align: left;\">South Africa</td><td style = \"text-align: right;\">384313</td><td style = \"text-align: left;\">Republic of South Africa</td><td style = \"text-align: left;\">Upper middle income</td><td style = \"text-align: left;\">Sub-Saharan Africa</td><td style = \"text-align: left;\">IBRD</td><td style = \"font-style: italic; text-align: left;\">missing</td><td style = \"text-align: left;\">South African rand</td><td style = \"text-align: left;\">2001</td><td style = \"text-align: left;\">DHS, 2003</td><td style = \"text-align: left;\">Fiscal year end: March 31; reporting period for national accounts data: CY.</td><td style = \"text-align: left;\">2000</td><td style = \"font-style: italic; text-align: right;\">missing</td><td style = \"text-align: right;\">1993</td><td style = \"text-align: left;\">VAB</td><td style = \"font-style: italic; text-align: left;\">missing</td><td style = \"text-align: right;\">2005</td><td style = \"text-align: left;\">BPM5</td><td style = \"text-align: left;\">Preliminary</td><td style = \"text-align: left;\">General</td><td style = \"text-align: left;\">Consolidated</td><td style = \"text-align: left;\">SDDS</td><td style = \"text-align: left;\">ES/BS, 2000</td><td style = \"font-style: italic; text-align: left;\">missing</td><td style = \"text-align: left;\">2000</td><td style = \"text-align: right;\">2005</td><td style = \"text-align: right;\">2008</td><td style = \"text-align: right;\">2000</td><td style = \"text-align: left;\">ZA</td><td style = \"text-align: left;\">ZA</td><td style = \"text-align: left;\">South Africa</td><td style = \"text-align: left;\">South Africa</td></tr><tr><td class = \"rowNumber\" style = \"font-weight: bold; text-align: right;\">187</td><td style = \"text-align: left;\">ZAR</td><td style = \"text-align: right;\">112</td><td style = \"text-align: left;\">Congo, Dem. Rep.</td><td style = \"text-align: right;\">17204</td><td style = \"text-align: left;\">Democratic Republic of the Congo</td><td style = \"text-align: left;\">Low income</td><td style = \"text-align: left;\">Sub-Saharan Africa</td><td style = \"text-align: left;\">IDA</td><td style = \"text-align: left;\">HIPC</td><td style = \"text-align: left;\">Congolese franc</td><td style = \"text-align: left;\">1984</td><td style = \"text-align: left;\">DHS 2007</td><td style = \"font-style: italic; text-align: left;\">missing</td><td style = \"text-align: left;\">1987</td><td style = \"font-style: italic; text-align: right;\">missing</td><td style = \"text-align: right;\">1993</td><td style = \"text-align: left;\">VAB</td><td style = \"text-align: left;\">1999-01</td><td style = \"text-align: right;\">2005</td><td style = \"text-align: left;\">BPM5</td><td style = \"text-align: left;\">Estimate</td><td style = \"text-align: left;\">Special</td><td style = \"text-align: left;\">Consolidated</td><td style = \"text-align: left;\">GDDS</td><td style = \"text-align: left;\">1-2-3, 2005-06</td><td style = \"font-style: italic; text-align: left;\">missing</td><td style = \"text-align: left;\">1990</td><td style = \"font-style: italic; text-align: right;\">missing</td><td style = \"text-align: right;\">1986</td><td style = \"text-align: right;\">2000</td><td style = \"text-align: left;\">CD</td><td style = \"text-align: left;\">ZR</td><td style = \"text-align: left;\">Congo, Dem. Rep.</td><td style = \"text-align: left;\">Dem. Rep. Congo</td></tr><tr><td class = \"rowNumber\" style = \"font-weight: bold; text-align: right;\">188</td><td style = \"text-align: left;\">ZMB</td><td style = \"text-align: right;\">104</td><td style = \"text-align: left;\">Zambia</td><td style = \"text-align: right;\">20678</td><td style = \"text-align: left;\">Republic of Zambia</td><td style = \"text-align: left;\">Low income</td><td style = \"text-align: left;\">Sub-Saharan Africa</td><td style = \"text-align: left;\">IDA</td><td style = \"text-align: left;\">HIPC</td><td style = \"text-align: left;\">Zambian kwacha</td><td style = \"text-align: left;\">2000</td><td style = \"text-align: left;\">DHS, 2007</td><td style = \"font-style: italic; text-align: left;\">missing</td><td style = \"text-align: left;\">1994</td><td style = \"font-style: italic; text-align: right;\">missing</td><td style = \"font-style: italic; text-align: right;\">missing</td><td style = \"text-align: left;\">VAB</td><td style = \"text-align: left;\">1990-92</td><td style = \"text-align: right;\">2005</td><td style = \"text-align: left;\">BPM5</td><td style = \"text-align: left;\">Preliminary</td><td style = \"text-align: left;\">General</td><td style = \"text-align: left;\">Budgetary</td><td style = \"text-align: left;\">GDDS</td><td style = \"text-align: left;\">IHS, 2004-05</td><td style = \"font-style: italic; text-align: left;\">missing</td><td style = \"text-align: left;\">1990</td><td style = \"font-style: italic; text-align: right;\">missing</td><td style = \"text-align: right;\">2008</td><td style = \"text-align: right;\">2000</td><td style = \"text-align: left;\">ZM</td><td style = \"text-align: left;\">ZM</td><td style = \"text-align: left;\">Zambia</td><td style = \"text-align: left;\">Zambia</td></tr><tr><td class = \"rowNumber\" style = \"font-weight: bold; text-align: right;\">189</td><td style = \"text-align: left;\">ZWE</td><td style = \"text-align: right;\">134</td><td style = \"text-align: left;\">Zimbabwe</td><td style = \"text-align: right;\">9802</td><td style = \"text-align: left;\">Republic of Zimbabwe</td><td style = \"text-align: left;\">Low income</td><td style = \"text-align: left;\">Sub-Saharan Africa</td><td style = \"text-align: left;\">Blend</td><td style = \"font-style: italic; text-align: left;\">missing</td><td style = \"text-align: left;\">Zimbabwe dollar</td><td style = \"text-align: left;\">2002</td><td style = \"text-align: left;\">DHS, 2005/06</td><td style = \"text-align: left;\">Fiscal year end: June 30; reporting period for national accounts data: CY.</td><td style = \"text-align: left;\">1990</td><td style = \"font-style: italic; text-align: right;\">missing</td><td style = \"font-style: italic; text-align: right;\">missing</td><td style = \"text-align: left;\">VAB</td><td style = \"text-align: left;\">1991, 1998</td><td style = \"text-align: right;\">2005</td><td style = \"text-align: left;\">BPM5</td><td style = \"text-align: left;\">Actual</td><td style = \"text-align: left;\">General</td><td style = \"text-align: left;\">Consolidated</td><td style = \"text-align: left;\">GDDS</td><td style = \"font-style: italic; text-align: left;\">missing</td><td style = \"font-style: italic; text-align: left;\">missing</td><td style = \"text-align: left;\">1960</td><td style = \"text-align: right;\">1995</td><td style = \"text-align: right;\">2008</td><td style = \"text-align: right;\">2002</td><td style = \"text-align: left;\">ZW</td><td style = \"text-align: left;\">ZW</td><td style = \"text-align: left;\">Zimbabwe</td><td style = \"text-align: left;\">Zimbabwe</td></tr></tbody></table></div>"
      ],
      "text/latex": [
       "\\begin{tabular}{r|cccccc}\n",
       "\t& CountryCode & Rank & Country & US\\_dollars & Long Name & \\\\\n",
       "\t\\hline\n",
       "\t& String3 & Int64 & String31 & Int64 & String & \\\\\n",
       "\t\\hline\n",
       "\t1 & ABW & 161 & Aruba & 2584 & Aruba & $\\dots$ \\\\\n",
       "\t2 & AFG & 105 & Afghanistan & 20497 & Islamic State of Afghanistan & $\\dots$ \\\\\n",
       "\t3 & AGO & 60 & Angola & 114147 & People's Republic of Angola & $\\dots$ \\\\\n",
       "\t4 & ALB & 125 & Albania & 12648 & Republic of Albania & $\\dots$ \\\\\n",
       "\t5 & ARE & 32 & United Arab Emirates & 348595 & United Arab Emirates & $\\dots$ \\\\\n",
       "\t6 & ARG & 26 & Argentina & 475502 & Argentine Republic & $\\dots$ \\\\\n",
       "\t7 & ARM & 133 & Armenia & 9951 & Republic of Armenia & $\\dots$ \\\\\n",
       "\t8 & ATG & 172 & Antigua and Barbuda & 1134 & Antigua and Barbuda & $\\dots$ \\\\\n",
       "\t9 & AUS & 12 & Australia & 1532408 & Commonwealth of Australia & $\\dots$ \\\\\n",
       "\t10 & AUT & 27 & Austria & 394708 & Republic of Austria & $\\dots$ \\\\\n",
       "\t11 & AZE & 68 & Azerbaijan & 66605 & Republic of Azerbaijan & $\\dots$ \\\\\n",
       "\t12 & BDI & 162 & Burundi & 2472 & Republic of Burundi & $\\dots$ \\\\\n",
       "\t13 & BEL & 25 & Belgium & 483262 & Kingdom of Belgium & $\\dots$ \\\\\n",
       "\t14 & BEN & 140 & Benin & 7557 & Republic of Benin & $\\dots$ \\\\\n",
       "\t15 & BFA & 128 & Burkina Faso & 10441 & Burkina Faso & $\\dots$ \\\\\n",
       "\t16 & BGD & 59 & Bangladesh & 116355 & People's Republic of Bangladesh & $\\dots$ \\\\\n",
       "\t17 & BGR & 76 & Bulgaria & 50972 & Republic of Bulgaria & $\\dots$ \\\\\n",
       "\t18 & BHR & 93 & Bahrain & 29044 & Kingdom of Bahrain & $\\dots$ \\\\\n",
       "\t19 & BHS & 138 & Bahamas, The & 8149 & Commonwealth of The Bahamas & $\\dots$ \\\\\n",
       "\t20 & BIH & 111 & Bosnia and Herzegovina & 17466 & Bosnia and Herzegovina & $\\dots$ \\\\\n",
       "\t21 & BLR & 69 & Belarus & 63267 & Republic of Belarus & $\\dots$ \\\\\n",
       "\t22 & BLZ & 169 & Belize & 1493 & Belize & $\\dots$ \\\\\n",
       "\t23 & BMU & 149 & Bermuda & 5474 & The Bermudas & $\\dots$ \\\\\n",
       "\t24 & BOL & 96 & Bolivia & 27035 & Plurinational State of Bolivia & $\\dots$ \\\\\n",
       "\t25 & BRA & 7 & Brazil & 2252664 & Federative Republic of Brazil & $\\dots$ \\\\\n",
       "\t26 & BRB & 153 & Barbados & 4225 & Barbados & $\\dots$ \\\\\n",
       "\t27 & BRN & 113 & Brunei Darussalam & 16954 & Brunei Darussalam & $\\dots$ \\\\\n",
       "\t28 & BTN & 167 & Bhutan & 1780 & Kingdom of Bhutan & $\\dots$ \\\\\n",
       "\t29 & BWA & 117 & Botswana & 14504 & Republic of Botswana & $\\dots$ \\\\\n",
       "\t30 & CAF & 165 & Central African Republic & 2184 & Central African Republic & $\\dots$ \\\\\n",
       "\t$\\dots$ & $\\dots$ & $\\dots$ & $\\dots$ & $\\dots$ & $\\dots$ &  \\\\\n",
       "\\end{tabular}\n"
      ],
      "text/plain": [
       "\u001b[1m189×34 DataFrame\u001b[0m\n",
       "\u001b[1m Row \u001b[0m│\u001b[1m CountryCode \u001b[0m\u001b[1m Rank  \u001b[0m\u001b[1m Country                        \u001b[0m\u001b[1m US_dollars \u001b[0m\u001b[1m Long Na\u001b[0m ⋯\n",
       "     │\u001b[90m String3     \u001b[0m\u001b[90m Int64 \u001b[0m\u001b[90m String31                       \u001b[0m\u001b[90m Int64      \u001b[0m\u001b[90m String \u001b[0m ⋯\n",
       "─────┼──────────────────────────────────────────────────────────────────────────\n",
       "   1 │ ABW            161  Aruba                                 2584  Aruba   ⋯\n",
       "   2 │ AFG            105  Afghanistan                          20497  Islamic\n",
       "   3 │ AGO             60  Angola                              114147  People'\n",
       "   4 │ ALB            125  Albania                              12648  Republi\n",
       "   5 │ ARE             32  United Arab Emirates                348595  United  ⋯\n",
       "   6 │ ARG             26  Argentina                           475502  Argenti\n",
       "   7 │ ARM            133  Armenia                               9951  Republi\n",
       "   8 │ ATG            172  Antigua and Barbuda                   1134  Antigua\n",
       "   9 │ AUS             12  Australia                          1532408  Commonw ⋯\n",
       "  10 │ AUT             27  Austria                             394708  Republi\n",
       "  11 │ AZE             68  Azerbaijan                           66605  Republi\n",
       "  ⋮  │      ⋮         ⋮                  ⋮                     ⋮               ⋱\n",
       " 180 │ VCT            180  St. Vincent and the Grenadines         713  St. Vin\n",
       " 181 │ VEN             29  Venezuela, RB                       381286  Rep\\xfa ⋯\n",
       " 182 │ VNM             57  Vietnam                             155820  Sociali\n",
       " 183 │ VUT            177  Vanuatu                                787  Republi\n",
       " 184 │ WSM            181  Samoa                                  684  Samoa\n",
       " 185 │ YEM             90  Yemen, Rep.                          35646  Republi ⋯\n",
       " 186 │ ZAF             28  South Africa                        384313  Republi\n",
       " 187 │ ZAR            112  Congo, Dem. Rep.                     17204  Democra\n",
       " 188 │ ZMB            104  Zambia                               20678  Republi\n",
       " 189 │ ZWE            134  Zimbabwe                              9802  Republi ⋯\n",
       "\u001b[36m                                                 30 columns and 168 rows omitted\u001b[0m"
      ]
     },
     "execution_count": 302,
     "metadata": {},
     "output_type": "execute_result"
    }
   ],
   "source": [
    "gdp_edu = innerjoin(gdp_cleaned, edu_raw, on=:CountryCode)"
   ]
  },
  {
   "cell_type": "markdown",
   "id": "747ff3e9",
   "metadata": {},
   "source": [
    "Sort the dataframe column \"US_dollars\" "
   ]
  },
  {
   "cell_type": "code",
   "execution_count": 279,
   "id": "3a9e9916",
   "metadata": {
    "collapsed": true,
    "jupyter": {
     "outputs_hidden": true
    }
   },
   "outputs": [
    {
     "data": {
      "text/html": [
       "<div><div style = \"float: left;\"><span>189×34 DataFrame</span></div><div style = \"float: right;\"><span style = \"font-style: italic;\">164 rows omitted</span></div><div style = \"clear: both;\"></div></div><div class = \"data-frame\" style = \"overflow-x: scroll;\"><table class = \"data-frame\" style = \"margin-bottom: 6px;\"><thead><tr class = \"header\"><th class = \"rowNumber\" style = \"font-weight: bold; text-align: right;\">Row</th><th style = \"text-align: left;\">CountryCode</th><th style = \"text-align: left;\">Rank</th><th style = \"text-align: left;\">Country</th><th style = \"text-align: left;\">US_dollars</th><th style = \"text-align: left;\">Long Name</th><th style = \"text-align: left;\">Income Group</th><th style = \"text-align: left;\">Region</th><th style = \"text-align: left;\">Lending category</th><th style = \"text-align: left;\">Other groups</th><th style = \"text-align: left;\">Currency Unit</th><th style = \"text-align: left;\">Latest population census</th><th style = \"text-align: left;\">Latest household survey</th><th style = \"text-align: left;\">Special Notes</th><th style = \"text-align: left;\">National accounts base year</th><th style = \"text-align: left;\">National accounts reference year</th><th style = \"text-align: left;\">System of National Accounts</th><th style = \"text-align: left;\">SNA price valuation</th><th style = \"text-align: left;\">Alternative conversion factor</th><th style = \"text-align: left;\">PPP survey year</th><th style = \"text-align: left;\">Balance of Payments Manual in use</th><th style = \"text-align: left;\">External debt Reporting status</th><th style = \"text-align: left;\">System of trade</th><th style = \"text-align: left;\">Government Accounting concept</th><th style = \"text-align: left;\">IMF data dissemination standard</th><th style = \"text-align: left;\">Source of most recent Income and expenditure data</th><th style = \"text-align: left;\">Vital registration complete</th><th style = \"text-align: left;\">Latest agricultural census</th><th style = \"text-align: left;\">Latest industrial data</th><th style = \"text-align: left;\">Latest trade data</th><th style = \"text-align: left;\">Latest water withdrawal data</th><th style = \"text-align: left;\">2-alpha code</th><th style = \"text-align: left;\">WB-2 code</th><th style = \"text-align: left;\">Table Name</th><th style = \"text-align: left;\">Short Name</th></tr><tr class = \"subheader headerLastRow\"><th class = \"rowNumber\" style = \"font-weight: bold; text-align: right;\"></th><th title = \"String3\" style = \"text-align: left;\">String3</th><th title = \"String\" style = \"text-align: left;\">String</th><th title = \"String31\" style = \"text-align: left;\">String31</th><th title = \"Int64\" style = \"text-align: left;\">Int64</th><th title = \"String\" style = \"text-align: left;\">String</th><th title = \"Union{Missing, String31}\" style = \"text-align: left;\">String31?</th><th title = \"Union{Missing, String31}\" style = \"text-align: left;\">String31?</th><th title = \"Union{Missing, String7}\" style = \"text-align: left;\">String7?</th><th title = \"Union{Missing, String15}\" style = \"text-align: left;\">String15?</th><th title = \"Union{Missing, String}\" style = \"text-align: left;\">String?</th><th title = \"Union{Missing, String15}\" style = \"text-align: left;\">String15?</th><th title = \"Union{Missing, String31}\" style = \"text-align: left;\">String31?</th><th title = \"Union{Missing, String}\" style = \"text-align: left;\">String?</th><th title = \"Union{Missing, String}\" style = \"text-align: left;\">String?</th><th title = \"Union{Missing, Int64}\" style = \"text-align: left;\">Int64?</th><th title = \"Union{Missing, Int64}\" style = \"text-align: left;\">Int64?</th><th title = \"Union{Missing, String3}\" style = \"text-align: left;\">String3?</th><th title = \"Union{Missing, String31}\" style = \"text-align: left;\">String31?</th><th title = \"Union{Missing, Int64}\" style = \"text-align: left;\">Int64?</th><th title = \"Union{Missing, String7}\" style = \"text-align: left;\">String7?</th><th title = \"Union{Missing, String15}\" style = \"text-align: left;\">String15?</th><th title = \"Union{Missing, String7}\" style = \"text-align: left;\">String7?</th><th title = \"Union{Missing, String15}\" style = \"text-align: left;\">String15?</th><th title = \"Union{Missing, String7}\" style = \"text-align: left;\">String7?</th><th title = \"Union{Missing, String15}\" style = \"text-align: left;\">String15?</th><th title = \"Union{Missing, String3}\" style = \"text-align: left;\">String3?</th><th title = \"Union{Missing, String31}\" style = \"text-align: left;\">String31?</th><th title = \"Union{Missing, Int64}\" style = \"text-align: left;\">Int64?</th><th title = \"Union{Missing, Int64}\" style = \"text-align: left;\">Int64?</th><th title = \"Union{Missing, Int64}\" style = \"text-align: left;\">Int64?</th><th title = \"Union{Missing, String3}\" style = \"text-align: left;\">String3?</th><th title = \"Union{Missing, String3}\" style = \"text-align: left;\">String3?</th><th title = \"String\" style = \"text-align: left;\">String</th><th title = \"String\" style = \"text-align: left;\">String</th></tr></thead><tbody><tr><td class = \"rowNumber\" style = \"font-weight: bold; text-align: right;\">1</td><td style = \"text-align: left;\">TUV</td><td style = \"text-align: left;\">190</td><td style = \"text-align: left;\">Tuvalu</td><td style = \"text-align: right;\">40</td><td style = \"text-align: left;\">Tuvalu</td><td style = \"text-align: left;\">Lower middle income</td><td style = \"text-align: left;\">East Asia &amp; Pacific</td><td style = \"font-style: italic; text-align: left;\">missing</td><td style = \"font-style: italic; text-align: left;\">missing</td><td style = \"text-align: left;\">Australian dollar</td><td style = \"font-style: italic; text-align: left;\">missing</td><td style = \"font-style: italic; text-align: left;\">missing</td><td style = \"font-style: italic; text-align: left;\">missing</td><td style = \"font-style: italic; text-align: left;\">missing</td><td style = \"font-style: italic; text-align: right;\">missing</td><td style = \"font-style: italic; text-align: right;\">missing</td><td style = \"font-style: italic; text-align: left;\">missing</td><td style = \"font-style: italic; text-align: left;\">missing</td><td style = \"font-style: italic; text-align: right;\">missing</td><td style = \"font-style: italic; text-align: left;\">missing</td><td style = \"font-style: italic; text-align: left;\">missing</td><td style = \"font-style: italic; text-align: left;\">missing</td><td style = \"font-style: italic; text-align: left;\">missing</td><td style = \"font-style: italic; text-align: left;\">missing</td><td style = \"font-style: italic; text-align: left;\">missing</td><td style = \"font-style: italic; text-align: left;\">missing</td><td style = \"font-style: italic; text-align: left;\">missing</td><td style = \"font-style: italic; text-align: right;\">missing</td><td style = \"font-style: italic; text-align: right;\">missing</td><td style = \"font-style: italic; text-align: right;\">missing</td><td style = \"text-align: left;\">TV</td><td style = \"text-align: left;\">TV</td><td style = \"text-align: left;\">Tuvalu</td><td style = \"text-align: left;\">Tuvalu</td></tr><tr><td class = \"rowNumber\" style = \"font-weight: bold; text-align: right;\">2</td><td style = \"text-align: left;\">KIR</td><td style = \"text-align: left;\">189</td><td style = \"text-align: left;\">Kiribati</td><td style = \"text-align: right;\">175</td><td style = \"text-align: left;\">Republic of Kiribati</td><td style = \"text-align: left;\">Lower middle income</td><td style = \"text-align: left;\">East Asia &amp; Pacific</td><td style = \"text-align: left;\">IDA</td><td style = \"font-style: italic; text-align: left;\">missing</td><td style = \"text-align: left;\">Australian dollar</td><td style = \"text-align: left;\">2005</td><td style = \"font-style: italic; text-align: left;\">missing</td><td style = \"text-align: left;\">The government statistical office has revised national accounts data for 1970-2008.</td><td style = \"text-align: left;\">1991</td><td style = \"font-style: italic; text-align: right;\">missing</td><td style = \"font-style: italic; text-align: right;\">missing</td><td style = \"text-align: left;\">VAB</td><td style = \"font-style: italic; text-align: left;\">missing</td><td style = \"font-style: italic; text-align: right;\">missing</td><td style = \"font-style: italic; text-align: left;\">missing</td><td style = \"font-style: italic; text-align: left;\">missing</td><td style = \"text-align: left;\">General</td><td style = \"font-style: italic; text-align: left;\">missing</td><td style = \"text-align: left;\">GDDS</td><td style = \"font-style: italic; text-align: left;\">missing</td><td style = \"font-style: italic; text-align: left;\">missing</td><td style = \"font-style: italic; text-align: left;\">missing</td><td style = \"font-style: italic; text-align: right;\">missing</td><td style = \"text-align: right;\">2005</td><td style = \"font-style: italic; text-align: right;\">missing</td><td style = \"text-align: left;\">KI</td><td style = \"text-align: left;\">KI</td><td style = \"text-align: left;\">Kiribati</td><td style = \"text-align: left;\">Kiribati</td></tr><tr><td class = \"rowNumber\" style = \"font-weight: bold; text-align: right;\">3</td><td style = \"text-align: left;\">MHL</td><td style = \"text-align: left;\">188</td><td style = \"text-align: left;\">Marshall Islands</td><td style = \"text-align: right;\">182</td><td style = \"text-align: left;\">Republic of the Marshall Islands</td><td style = \"text-align: left;\">Lower middle income</td><td style = \"text-align: left;\">East Asia &amp; Pacific</td><td style = \"text-align: left;\">IBRD</td><td style = \"font-style: italic; text-align: left;\">missing</td><td style = \"text-align: left;\">U.S. dollar</td><td style = \"text-align: left;\">1999</td><td style = \"font-style: italic; text-align: left;\">missing</td><td style = \"font-style: italic; text-align: left;\">missing</td><td style = \"text-align: left;\">1991</td><td style = \"font-style: italic; text-align: right;\">missing</td><td style = \"font-style: italic; text-align: right;\">missing</td><td style = \"text-align: left;\">VAB</td><td style = \"font-style: italic; text-align: left;\">missing</td><td style = \"font-style: italic; text-align: right;\">missing</td><td style = \"font-style: italic; text-align: left;\">missing</td><td style = \"font-style: italic; text-align: left;\">missing</td><td style = \"font-style: italic; text-align: left;\">missing</td><td style = \"font-style: italic; text-align: left;\">missing</td><td style = \"font-style: italic; text-align: left;\">missing</td><td style = \"font-style: italic; text-align: left;\">missing</td><td style = \"font-style: italic; text-align: left;\">missing</td><td style = \"font-style: italic; text-align: left;\">missing</td><td style = \"font-style: italic; text-align: right;\">missing</td><td style = \"font-style: italic; text-align: right;\">missing</td><td style = \"font-style: italic; text-align: right;\">missing</td><td style = \"text-align: left;\">MH</td><td style = \"text-align: left;\">MH</td><td style = \"text-align: left;\">Marshall Islands</td><td style = \"text-align: left;\">Marshall Islands</td></tr><tr><td class = \"rowNumber\" style = \"font-weight: bold; text-align: right;\">4</td><td style = \"text-align: left;\">PLW</td><td style = \"text-align: left;\">187</td><td style = \"text-align: left;\">Palau</td><td style = \"text-align: right;\">228</td><td style = \"text-align: left;\">Republic of Palau</td><td style = \"text-align: left;\">Upper middle income</td><td style = \"text-align: left;\">East Asia &amp; Pacific</td><td style = \"text-align: left;\">IBRD</td><td style = \"font-style: italic; text-align: left;\">missing</td><td style = \"text-align: left;\">U.S. dollar</td><td style = \"text-align: left;\">2005</td><td style = \"font-style: italic; text-align: left;\">missing</td><td style = \"font-style: italic; text-align: left;\">missing</td><td style = \"text-align: left;\">1995</td><td style = \"font-style: italic; text-align: right;\">missing</td><td style = \"font-style: italic; text-align: right;\">missing</td><td style = \"text-align: left;\">VAB</td><td style = \"font-style: italic; text-align: left;\">missing</td><td style = \"font-style: italic; text-align: right;\">missing</td><td style = \"font-style: italic; text-align: left;\">missing</td><td style = \"font-style: italic; text-align: left;\">missing</td><td style = \"font-style: italic; text-align: left;\">missing</td><td style = \"font-style: italic; text-align: left;\">missing</td><td style = \"font-style: italic; text-align: left;\">missing</td><td style = \"font-style: italic; text-align: left;\">missing</td><td style = \"text-align: left;\">Yes</td><td style = \"font-style: italic; text-align: left;\">missing</td><td style = \"font-style: italic; text-align: right;\">missing</td><td style = \"font-style: italic; text-align: right;\">missing</td><td style = \"font-style: italic; text-align: right;\">missing</td><td style = \"text-align: left;\">PW</td><td style = \"text-align: left;\">PW</td><td style = \"text-align: left;\">Palau</td><td style = \"text-align: left;\">Palau</td></tr><tr><td class = \"rowNumber\" style = \"font-weight: bold; text-align: right;\">5</td><td style = \"text-align: left;\">STP</td><td style = \"text-align: left;\">186</td><td style = \"text-align: left;\">S\\xe3o Tom\\xe9 and Principe</td><td style = \"text-align: right;\">263</td><td style = \"text-align: left;\">Democratic Republic of S\\xe3o Tom\\xe9 and Principe</td><td style = \"text-align: left;\">Lower middle income</td><td style = \"text-align: left;\">Sub-Saharan Africa</td><td style = \"text-align: left;\">IDA</td><td style = \"text-align: left;\">HIPC</td><td style = \"text-align: left;\">S\\xe3o Tom\\xe9 and Principe dobra</td><td style = \"text-align: left;\">2001</td><td style = \"font-style: italic; text-align: left;\">missing</td><td style = \"font-style: italic; text-align: left;\">missing</td><td style = \"text-align: left;\">2001</td><td style = \"font-style: italic; text-align: right;\">missing</td><td style = \"font-style: italic; text-align: right;\">missing</td><td style = \"text-align: left;\">VAP</td><td style = \"font-style: italic; text-align: left;\">missing</td><td style = \"text-align: right;\">2005</td><td style = \"font-style: italic; text-align: left;\">missing</td><td style = \"text-align: left;\">Preliminary</td><td style = \"text-align: left;\">Special</td><td style = \"font-style: italic; text-align: left;\">missing</td><td style = \"text-align: left;\">GDDS</td><td style = \"text-align: left;\">PS 2000-01</td><td style = \"font-style: italic; text-align: left;\">missing</td><td style = \"font-style: italic; text-align: left;\">missing</td><td style = \"font-style: italic; text-align: right;\">missing</td><td style = \"text-align: right;\">2008</td><td style = \"font-style: italic; text-align: right;\">missing</td><td style = \"text-align: left;\">ST</td><td style = \"text-align: left;\">ST</td><td style = \"text-align: left;\">S\\xe3o Tom\\xe9 and Principe</td><td style = \"text-align: left;\">S\\xe3o Tom\\xe9 and Principe</td></tr><tr><td class = \"rowNumber\" style = \"font-weight: bold; text-align: right;\">6</td><td style = \"text-align: left;\">FSM</td><td style = \"text-align: left;\">185</td><td style = \"text-align: left;\">Micronesia, Fed. Sts.</td><td style = \"text-align: right;\">326</td><td style = \"text-align: left;\">Federated States of Micronesia</td><td style = \"text-align: left;\">Lower middle income</td><td style = \"text-align: left;\">East Asia &amp; Pacific</td><td style = \"text-align: left;\">IBRD</td><td style = \"font-style: italic; text-align: left;\">missing</td><td style = \"text-align: left;\">U.S. dollar</td><td style = \"text-align: left;\">2000</td><td style = \"font-style: italic; text-align: left;\">missing</td><td style = \"text-align: left;\">The government statistical office has revised national accounts data for 1995-2008.</td><td style = \"text-align: left;\">1998</td><td style = \"font-style: italic; text-align: right;\">missing</td><td style = \"font-style: italic; text-align: right;\">missing</td><td style = \"text-align: left;\">VAB</td><td style = \"font-style: italic; text-align: left;\">missing</td><td style = \"font-style: italic; text-align: right;\">missing</td><td style = \"font-style: italic; text-align: left;\">missing</td><td style = \"font-style: italic; text-align: left;\">missing</td><td style = \"font-style: italic; text-align: left;\">missing</td><td style = \"font-style: italic; text-align: left;\">missing</td><td style = \"font-style: italic; text-align: left;\">missing</td><td style = \"font-style: italic; text-align: left;\">missing</td><td style = \"font-style: italic; text-align: left;\">missing</td><td style = \"font-style: italic; text-align: left;\">missing</td><td style = \"font-style: italic; text-align: right;\">missing</td><td style = \"font-style: italic; text-align: right;\">missing</td><td style = \"font-style: italic; text-align: right;\">missing</td><td style = \"text-align: left;\">FM</td><td style = \"text-align: left;\">FM</td><td style = \"text-align: left;\">Micronesia, Fed. Sts.</td><td style = \"text-align: left;\">Micronesia</td></tr><tr><td class = \"rowNumber\" style = \"font-weight: bold; text-align: right;\">7</td><td style = \"text-align: left;\">TON</td><td style = \"text-align: left;\">184</td><td style = \"text-align: left;\">Tonga</td><td style = \"text-align: right;\">472</td><td style = \"text-align: left;\">Kingdom of Tonga</td><td style = \"text-align: left;\">Lower middle income</td><td style = \"text-align: left;\">East Asia &amp; Pacific</td><td style = \"text-align: left;\">IDA</td><td style = \"font-style: italic; text-align: left;\">missing</td><td style = \"text-align: left;\">Tongan pa&apos;anga</td><td style = \"text-align: left;\">2006</td><td style = \"font-style: italic; text-align: left;\">missing</td><td style = \"font-style: italic; text-align: left;\">missing</td><td style = \"text-align: left;\">2000/2001</td><td style = \"font-style: italic; text-align: right;\">missing</td><td style = \"font-style: italic; text-align: right;\">missing</td><td style = \"text-align: left;\">VAB</td><td style = \"font-style: italic; text-align: left;\">missing</td><td style = \"font-style: italic; text-align: right;\">missing</td><td style = \"text-align: left;\">BPM5</td><td style = \"text-align: left;\">Actual</td><td style = \"font-style: italic; text-align: left;\">missing</td><td style = \"font-style: italic; text-align: left;\">missing</td><td style = \"text-align: left;\">GDDS</td><td style = \"font-style: italic; text-align: left;\">missing</td><td style = \"text-align: left;\">Yes</td><td style = \"text-align: left;\">2001</td><td style = \"font-style: italic; text-align: right;\">missing</td><td style = \"text-align: right;\">2007</td><td style = \"font-style: italic; text-align: right;\">missing</td><td style = \"text-align: left;\">TO</td><td style = \"text-align: left;\">TO</td><td style = \"text-align: left;\">Tonga</td><td style = \"text-align: left;\">Tonga</td></tr><tr><td class = \"rowNumber\" style = \"font-weight: bold; text-align: right;\">8</td><td style = \"text-align: left;\">DMA</td><td style = \"text-align: left;\">183</td><td style = \"text-align: left;\">Dominica</td><td style = \"text-align: right;\">480</td><td style = \"text-align: left;\">Commonwealth of Dominica</td><td style = \"text-align: left;\">Upper middle income</td><td style = \"text-align: left;\">Latin America &amp; Caribbean</td><td style = \"text-align: left;\">Blend</td><td style = \"font-style: italic; text-align: left;\">missing</td><td style = \"text-align: left;\">East Caribbean dollar</td><td style = \"text-align: left;\">2001</td><td style = \"font-style: italic; text-align: left;\">missing</td><td style = \"font-style: italic; text-align: left;\">missing</td><td style = \"text-align: left;\">1990</td><td style = \"font-style: italic; text-align: right;\">missing</td><td style = \"text-align: right;\">1993</td><td style = \"text-align: left;\">VAB</td><td style = \"font-style: italic; text-align: left;\">missing</td><td style = \"font-style: italic; text-align: right;\">missing</td><td style = \"text-align: left;\">BPM5</td><td style = \"text-align: left;\">Actual</td><td style = \"text-align: left;\">General</td><td style = \"font-style: italic; text-align: left;\">missing</td><td style = \"text-align: left;\">GDDS</td><td style = \"font-style: italic; text-align: left;\">missing</td><td style = \"text-align: left;\">Yes</td><td style = \"font-style: italic; text-align: left;\">missing</td><td style = \"font-style: italic; text-align: right;\">missing</td><td style = \"text-align: right;\">2008</td><td style = \"font-style: italic; text-align: right;\">missing</td><td style = \"text-align: left;\">DM</td><td style = \"text-align: left;\">DM</td><td style = \"text-align: left;\">Dominica</td><td style = \"text-align: left;\">Dominica</td></tr><tr><td class = \"rowNumber\" style = \"font-weight: bold; text-align: right;\">9</td><td style = \"text-align: left;\">COM</td><td style = \"text-align: left;\">182</td><td style = \"text-align: left;\">Comoros</td><td style = \"text-align: right;\">596</td><td style = \"text-align: left;\">Union of the Comoros</td><td style = \"text-align: left;\">Low income</td><td style = \"text-align: left;\">Sub-Saharan Africa</td><td style = \"text-align: left;\">IDA</td><td style = \"text-align: left;\">HIPC</td><td style = \"text-align: left;\">Comorian franc</td><td style = \"text-align: left;\">2003</td><td style = \"text-align: left;\">MICS, 2000</td><td style = \"font-style: italic; text-align: left;\">missing</td><td style = \"text-align: left;\">1990</td><td style = \"font-style: italic; text-align: right;\">missing</td><td style = \"font-style: italic; text-align: right;\">missing</td><td style = \"text-align: left;\">VAP</td><td style = \"font-style: italic; text-align: left;\">missing</td><td style = \"text-align: right;\">2005</td><td style = \"font-style: italic; text-align: left;\">missing</td><td style = \"text-align: left;\">Preliminary</td><td style = \"font-style: italic; text-align: left;\">missing</td><td style = \"font-style: italic; text-align: left;\">missing</td><td style = \"font-style: italic; text-align: left;\">missing</td><td style = \"text-align: left;\">IHS, 2004</td><td style = \"font-style: italic; text-align: left;\">missing</td><td style = \"font-style: italic; text-align: left;\">missing</td><td style = \"font-style: italic; text-align: right;\">missing</td><td style = \"text-align: right;\">2007</td><td style = \"font-style: italic; text-align: right;\">missing</td><td style = \"text-align: left;\">KM</td><td style = \"text-align: left;\">KM</td><td style = \"text-align: left;\">Comoros</td><td style = \"text-align: left;\">Comoros</td></tr><tr><td class = \"rowNumber\" style = \"font-weight: bold; text-align: right;\">10</td><td style = \"text-align: left;\">WSM</td><td style = \"text-align: left;\">181</td><td style = \"text-align: left;\">Samoa</td><td style = \"text-align: right;\">684</td><td style = \"text-align: left;\">Samoa</td><td style = \"text-align: left;\">Lower middle income</td><td style = \"text-align: left;\">East Asia &amp; Pacific</td><td style = \"text-align: left;\">IDA</td><td style = \"font-style: italic; text-align: left;\">missing</td><td style = \"text-align: left;\">Samoan tala</td><td style = \"text-align: left;\">2006</td><td style = \"font-style: italic; text-align: left;\">missing</td><td style = \"font-style: italic; text-align: left;\">missing</td><td style = \"text-align: left;\">2002</td><td style = \"font-style: italic; text-align: right;\">missing</td><td style = \"font-style: italic; text-align: right;\">missing</td><td style = \"text-align: left;\">VAB</td><td style = \"font-style: italic; text-align: left;\">missing</td><td style = \"font-style: italic; text-align: right;\">missing</td><td style = \"text-align: left;\">BPM5</td><td style = \"text-align: left;\">Preliminary</td><td style = \"text-align: left;\">General</td><td style = \"font-style: italic; text-align: left;\">missing</td><td style = \"font-style: italic; text-align: left;\">missing</td><td style = \"font-style: italic; text-align: left;\">missing</td><td style = \"font-style: italic; text-align: left;\">missing</td><td style = \"text-align: left;\">1999</td><td style = \"font-style: italic; text-align: right;\">missing</td><td style = \"text-align: right;\">2008</td><td style = \"font-style: italic; text-align: right;\">missing</td><td style = \"text-align: left;\">WS</td><td style = \"text-align: left;\">WS</td><td style = \"text-align: left;\">Samoa</td><td style = \"text-align: left;\">Samoa</td></tr><tr><td class = \"rowNumber\" style = \"font-weight: bold; text-align: right;\">11</td><td style = \"text-align: left;\">VCT</td><td style = \"text-align: left;\">180</td><td style = \"text-align: left;\">St. Vincent and the Grenadines</td><td style = \"text-align: right;\">713</td><td style = \"text-align: left;\">St. Vincent and the Grenadines</td><td style = \"text-align: left;\">Upper middle income</td><td style = \"text-align: left;\">Latin America &amp; Caribbean</td><td style = \"text-align: left;\">Blend</td><td style = \"font-style: italic; text-align: left;\">missing</td><td style = \"text-align: left;\">East Caribbean dollar</td><td style = \"text-align: left;\">2001</td><td style = \"font-style: italic; text-align: left;\">missing</td><td style = \"font-style: italic; text-align: left;\">missing</td><td style = \"text-align: left;\">1990</td><td style = \"font-style: italic; text-align: right;\">missing</td><td style = \"font-style: italic; text-align: right;\">missing</td><td style = \"text-align: left;\">VAB</td><td style = \"font-style: italic; text-align: left;\">missing</td><td style = \"font-style: italic; text-align: right;\">missing</td><td style = \"text-align: left;\">BPM5</td><td style = \"text-align: left;\">Preliminary</td><td style = \"text-align: left;\">General</td><td style = \"text-align: left;\">Consolidated</td><td style = \"text-align: left;\">GDDS</td><td style = \"font-style: italic; text-align: left;\">missing</td><td style = \"text-align: left;\">Yes</td><td style = \"font-style: italic; text-align: left;\">missing</td><td style = \"font-style: italic; text-align: right;\">missing</td><td style = \"text-align: right;\">2008</td><td style = \"font-style: italic; text-align: right;\">missing</td><td style = \"text-align: left;\">VC</td><td style = \"text-align: left;\">VC</td><td style = \"text-align: left;\">St. Vincent and the Grenadines</td><td style = \"text-align: left;\">St. Vincent and the Grenadines</td></tr><tr><td class = \"rowNumber\" style = \"font-weight: bold; text-align: right;\">12</td><td style = \"text-align: left;\">GRD</td><td style = \"text-align: left;\">178</td><td style = \"text-align: left;\">Grenada</td><td style = \"text-align: right;\">767</td><td style = \"text-align: left;\">Grenada</td><td style = \"text-align: left;\">Upper middle income</td><td style = \"text-align: left;\">Latin America &amp; Caribbean</td><td style = \"text-align: left;\">Blend</td><td style = \"font-style: italic; text-align: left;\">missing</td><td style = \"text-align: left;\">East Caribbean dollar</td><td style = \"text-align: left;\">2001</td><td style = \"font-style: italic; text-align: left;\">missing</td><td style = \"font-style: italic; text-align: left;\">missing</td><td style = \"text-align: left;\">1990</td><td style = \"font-style: italic; text-align: right;\">missing</td><td style = \"font-style: italic; text-align: right;\">missing</td><td style = \"text-align: left;\">VAB</td><td style = \"font-style: italic; text-align: left;\">missing</td><td style = \"font-style: italic; text-align: right;\">missing</td><td style = \"text-align: left;\">BPM5</td><td style = \"text-align: left;\">Actual</td><td style = \"text-align: left;\">General</td><td style = \"text-align: left;\">Budgetary</td><td style = \"text-align: left;\">GDDS</td><td style = \"font-style: italic; text-align: left;\">missing</td><td style = \"font-style: italic; text-align: left;\">missing</td><td style = \"font-style: italic; text-align: left;\">missing</td><td style = \"font-style: italic; text-align: right;\">missing</td><td style = \"text-align: right;\">2008</td><td style = \"font-style: italic; text-align: right;\">missing</td><td style = \"text-align: left;\">GD</td><td style = \"text-align: left;\">GD</td><td style = \"text-align: left;\">Grenada</td><td style = \"text-align: left;\">Grenada</td></tr><tr><td class = \"rowNumber\" style = \"font-weight: bold; text-align: right;\">13</td><td style = \"text-align: left;\">KNA</td><td style = \"text-align: left;\">178</td><td style = \"text-align: left;\">St. Kitts and Nevis</td><td style = \"text-align: right;\">767</td><td style = \"text-align: left;\">St. Kitts and Nevis</td><td style = \"text-align: left;\">Upper middle income</td><td style = \"text-align: left;\">Latin America &amp; Caribbean</td><td style = \"text-align: left;\">IBRD</td><td style = \"font-style: italic; text-align: left;\">missing</td><td style = \"text-align: left;\">East Caribbean dollar</td><td style = \"text-align: left;\">2001</td><td style = \"font-style: italic; text-align: left;\">missing</td><td style = \"font-style: italic; text-align: left;\">missing</td><td style = \"text-align: left;\">1990</td><td style = \"font-style: italic; text-align: right;\">missing</td><td style = \"text-align: right;\">1993</td><td style = \"text-align: left;\">VAB</td><td style = \"font-style: italic; text-align: left;\">missing</td><td style = \"font-style: italic; text-align: right;\">missing</td><td style = \"text-align: left;\">BPM5</td><td style = \"text-align: left;\">Preliminary</td><td style = \"text-align: left;\">General</td><td style = \"text-align: left;\">Consolidated</td><td style = \"text-align: left;\">GDDS</td><td style = \"font-style: italic; text-align: left;\">missing</td><td style = \"font-style: italic; text-align: left;\">missing</td><td style = \"font-style: italic; text-align: left;\">missing</td><td style = \"font-style: italic; text-align: right;\">missing</td><td style = \"text-align: right;\">2007</td><td style = \"font-style: italic; text-align: right;\">missing</td><td style = \"text-align: left;\">KN</td><td style = \"text-align: left;\">KN</td><td style = \"text-align: left;\">St. Kitts and Nevis</td><td style = \"text-align: left;\">St. Kitts and Nevis</td></tr><tr><td style = \"text-align: right;\">&vellip;</td><td style = \"text-align: right;\">&vellip;</td><td style = \"text-align: right;\">&vellip;</td><td style = \"text-align: right;\">&vellip;</td><td style = \"text-align: right;\">&vellip;</td><td style = \"text-align: right;\">&vellip;</td><td style = \"text-align: right;\">&vellip;</td><td style = \"text-align: right;\">&vellip;</td><td style = \"text-align: right;\">&vellip;</td><td style = \"text-align: right;\">&vellip;</td><td style = \"text-align: right;\">&vellip;</td><td style = \"text-align: right;\">&vellip;</td><td style = \"text-align: right;\">&vellip;</td><td style = \"text-align: right;\">&vellip;</td><td style = \"text-align: right;\">&vellip;</td><td style = \"text-align: right;\">&vellip;</td><td style = \"text-align: right;\">&vellip;</td><td style = \"text-align: right;\">&vellip;</td><td style = \"text-align: right;\">&vellip;</td><td style = \"text-align: right;\">&vellip;</td><td style = \"text-align: right;\">&vellip;</td><td style = \"text-align: right;\">&vellip;</td><td style = \"text-align: right;\">&vellip;</td><td style = \"text-align: right;\">&vellip;</td><td style = \"text-align: right;\">&vellip;</td><td style = \"text-align: right;\">&vellip;</td><td style = \"text-align: right;\">&vellip;</td><td style = \"text-align: right;\">&vellip;</td><td style = \"text-align: right;\">&vellip;</td><td style = \"text-align: right;\">&vellip;</td><td style = \"text-align: right;\">&vellip;</td><td style = \"text-align: right;\">&vellip;</td><td style = \"text-align: right;\">&vellip;</td><td style = \"text-align: right;\">&vellip;</td><td style = \"text-align: right;\">&vellip;</td></tr><tr><td class = \"rowNumber\" style = \"font-weight: bold; text-align: right;\">178</td><td style = \"text-align: left;\">AUS</td><td style = \"text-align: left;\">12</td><td style = \"text-align: left;\">Australia</td><td style = \"text-align: right;\">1532408</td><td style = \"text-align: left;\">Commonwealth of Australia</td><td style = \"text-align: left;\">High income: OECD</td><td style = \"text-align: left;\">East Asia &amp; Pacific</td><td style = \"font-style: italic; text-align: left;\">missing</td><td style = \"font-style: italic; text-align: left;\">missing</td><td style = \"text-align: left;\">Australian dollar</td><td style = \"text-align: left;\">2006</td><td style = \"font-style: italic; text-align: left;\">missing</td><td style = \"text-align: left;\">Fiscal year end: June 30; reporting period for national accounts data: FY.</td><td style = \"font-style: italic; text-align: left;\">missing</td><td style = \"text-align: right;\">2007</td><td style = \"text-align: right;\">1993</td><td style = \"text-align: left;\">VAB</td><td style = \"font-style: italic; text-align: left;\">missing</td><td style = \"text-align: right;\">2005</td><td style = \"text-align: left;\">BPM5</td><td style = \"font-style: italic; text-align: left;\">missing</td><td style = \"text-align: left;\">General</td><td style = \"text-align: left;\">Consolidated</td><td style = \"text-align: left;\">SDDS</td><td style = \"text-align: left;\">ES/BS, 1994</td><td style = \"text-align: left;\">Yes</td><td style = \"text-align: left;\">2001</td><td style = \"text-align: right;\">2004</td><td style = \"text-align: right;\">2008</td><td style = \"text-align: right;\">2000</td><td style = \"text-align: left;\">AU</td><td style = \"text-align: left;\">AU</td><td style = \"text-align: left;\">Australia</td><td style = \"text-align: left;\">Australia</td></tr><tr><td class = \"rowNumber\" style = \"font-weight: bold; text-align: right;\">179</td><td style = \"text-align: left;\">CAN</td><td style = \"text-align: left;\">11</td><td style = \"text-align: left;\">Canada</td><td style = \"text-align: right;\">1821424</td><td style = \"text-align: left;\">Canada</td><td style = \"text-align: left;\">High income: OECD</td><td style = \"text-align: left;\">North America</td><td style = \"font-style: italic; text-align: left;\">missing</td><td style = \"font-style: italic; text-align: left;\">missing</td><td style = \"text-align: left;\">Canadian dollar</td><td style = \"text-align: left;\">2006</td><td style = \"font-style: italic; text-align: left;\">missing</td><td style = \"text-align: left;\">Fiscal year end: March 31; reporting period for national accounts data: CY.</td><td style = \"text-align: left;\">2000</td><td style = \"font-style: italic; text-align: right;\">missing</td><td style = \"text-align: right;\">1993</td><td style = \"text-align: left;\">VAB</td><td style = \"font-style: italic; text-align: left;\">missing</td><td style = \"text-align: right;\">2005</td><td style = \"text-align: left;\">BPM5</td><td style = \"font-style: italic; text-align: left;\">missing</td><td style = \"text-align: left;\">General</td><td style = \"text-align: left;\">Consolidated</td><td style = \"text-align: left;\">SDDS</td><td style = \"text-align: left;\">LFS, 2000</td><td style = \"text-align: left;\">Yes</td><td style = \"text-align: left;\">1996/2001</td><td style = \"text-align: right;\">2001</td><td style = \"text-align: right;\">2008</td><td style = \"text-align: right;\">2000</td><td style = \"text-align: left;\">CA</td><td style = \"text-align: left;\">CA</td><td style = \"text-align: left;\">Canada</td><td style = \"text-align: left;\">Canada</td></tr><tr><td class = \"rowNumber\" style = \"font-weight: bold; text-align: right;\">180</td><td style = \"text-align: left;\">IND</td><td style = \"text-align: left;\">10</td><td style = \"text-align: left;\">India</td><td style = \"text-align: right;\">1841710</td><td style = \"text-align: left;\">Republic of India</td><td style = \"text-align: left;\">Lower middle income</td><td style = \"text-align: left;\">South Asia</td><td style = \"text-align: left;\">Blend</td><td style = \"font-style: italic; text-align: left;\">missing</td><td style = \"text-align: left;\">Indian rupee</td><td style = \"text-align: left;\">2001</td><td style = \"text-align: left;\">DHS, 2005/06</td><td style = \"text-align: left;\">Fiscal year end: March 31; reporting period for national accounts data: FY.</td><td style = \"text-align: left;\">1999/2000</td><td style = \"font-style: italic; text-align: right;\">missing</td><td style = \"text-align: right;\">1993</td><td style = \"text-align: left;\">VAB</td><td style = \"font-style: italic; text-align: left;\">missing</td><td style = \"text-align: right;\">2005</td><td style = \"text-align: left;\">BPM5</td><td style = \"text-align: left;\">Actual</td><td style = \"text-align: left;\">General</td><td style = \"text-align: left;\">Consolidated</td><td style = \"text-align: left;\">SDDS</td><td style = \"text-align: left;\">IHS, 2004/05</td><td style = \"font-style: italic; text-align: left;\">missing</td><td style = \"text-align: left;\">1995-1996/2000-2001</td><td style = \"text-align: right;\">2003</td><td style = \"text-align: right;\">2008</td><td style = \"text-align: right;\">2000</td><td style = \"text-align: left;\">IN</td><td style = \"text-align: left;\">IN</td><td style = \"text-align: left;\">India</td><td style = \"text-align: left;\">India</td></tr><tr><td class = \"rowNumber\" style = \"font-weight: bold; text-align: right;\">181</td><td style = \"text-align: left;\">ITA</td><td style = \"text-align: left;\">9</td><td style = \"text-align: left;\">Italy</td><td style = \"text-align: right;\">2014670</td><td style = \"text-align: left;\">Italian Republic</td><td style = \"text-align: left;\">High income: OECD</td><td style = \"text-align: left;\">Europe &amp; Central Asia</td><td style = \"font-style: italic; text-align: left;\">missing</td><td style = \"text-align: left;\">Euro area</td><td style = \"text-align: left;\">Euro</td><td style = \"text-align: left;\">2001</td><td style = \"font-style: italic; text-align: left;\">missing</td><td style = \"text-align: left;\">A simple multiplier is used to convert the national currencies of EMU members to euros. The following irrevocable euro conversion rate was adopted by the EU Council on January 1, 1999: 1 euro = 1936.27 Italian lira. Please note that historical data before 1999 are not actual euros and are not comparable or suitable for aggregation across countries.</td><td style = \"text-align: left;\">2000</td><td style = \"font-style: italic; text-align: right;\">missing</td><td style = \"text-align: right;\">1993</td><td style = \"text-align: left;\">VAB</td><td style = \"font-style: italic; text-align: left;\">missing</td><td style = \"text-align: right;\">2005</td><td style = \"text-align: left;\">BPM5</td><td style = \"font-style: italic; text-align: left;\">missing</td><td style = \"text-align: left;\">Special</td><td style = \"text-align: left;\">Consolidated</td><td style = \"text-align: left;\">SDDS</td><td style = \"text-align: left;\">ES/BS, 2000</td><td style = \"text-align: left;\">Yes</td><td style = \"text-align: left;\">2000</td><td style = \"text-align: right;\">2004</td><td style = \"text-align: right;\">2008</td><td style = \"text-align: right;\">2000</td><td style = \"text-align: left;\">IT</td><td style = \"text-align: left;\">IT</td><td style = \"text-align: left;\">Italy</td><td style = \"text-align: left;\">Italy</td></tr><tr><td class = \"rowNumber\" style = \"font-weight: bold; text-align: right;\">182</td><td style = \"text-align: left;\">RUS</td><td style = \"text-align: left;\">8</td><td style = \"text-align: left;\">Russian Federation</td><td style = \"text-align: right;\">2014775</td><td style = \"text-align: left;\">Russian Federation</td><td style = \"text-align: left;\">Upper middle income</td><td style = \"text-align: left;\">Europe &amp; Central Asia</td><td style = \"text-align: left;\">IBRD</td><td style = \"font-style: italic; text-align: left;\">missing</td><td style = \"text-align: left;\">Russian ruble</td><td style = \"text-align: left;\">2002</td><td style = \"text-align: left;\">RHS, 1996</td><td style = \"font-style: italic; text-align: left;\">missing</td><td style = \"text-align: left;\">2000</td><td style = \"font-style: italic; text-align: right;\">missing</td><td style = \"text-align: right;\">1993</td><td style = \"text-align: left;\">VAB</td><td style = \"text-align: left;\">1987-95</td><td style = \"text-align: right;\">2005</td><td style = \"text-align: left;\">BPM5</td><td style = \"text-align: left;\">Preliminary</td><td style = \"text-align: left;\">General</td><td style = \"text-align: left;\">Consolidated</td><td style = \"text-align: left;\">SDDS</td><td style = \"text-align: left;\">IHS, 2007</td><td style = \"text-align: left;\">Yes</td><td style = \"text-align: left;\">1994-95</td><td style = \"text-align: right;\">2005</td><td style = \"text-align: right;\">2008</td><td style = \"text-align: right;\">2000</td><td style = \"text-align: left;\">RU</td><td style = \"text-align: left;\">RU</td><td style = \"text-align: left;\">Russian Federation</td><td style = \"text-align: left;\">Russia</td></tr><tr><td class = \"rowNumber\" style = \"font-weight: bold; text-align: right;\">183</td><td style = \"text-align: left;\">BRA</td><td style = \"text-align: left;\">7</td><td style = \"text-align: left;\">Brazil</td><td style = \"text-align: right;\">2252664</td><td style = \"text-align: left;\">Federative Republic of Brazil</td><td style = \"text-align: left;\">Upper middle income</td><td style = \"text-align: left;\">Latin America &amp; Caribbean</td><td style = \"text-align: left;\">IBRD</td><td style = \"font-style: italic; text-align: left;\">missing</td><td style = \"text-align: left;\">Brazilian real</td><td style = \"text-align: left;\">2000</td><td style = \"text-align: left;\">DHS, 1996</td><td style = \"font-style: italic; text-align: left;\">missing</td><td style = \"text-align: left;\">2000</td><td style = \"font-style: italic; text-align: right;\">missing</td><td style = \"text-align: right;\">1993</td><td style = \"text-align: left;\">VAB</td><td style = \"font-style: italic; text-align: left;\">missing</td><td style = \"text-align: right;\">2005</td><td style = \"text-align: left;\">BPM5</td><td style = \"text-align: left;\">Actual</td><td style = \"text-align: left;\">Special</td><td style = \"text-align: left;\">Consolidated</td><td style = \"text-align: left;\">SDDS</td><td style = \"text-align: left;\">LFS, 2007</td><td style = \"font-style: italic; text-align: left;\">missing</td><td style = \"text-align: left;\">1996</td><td style = \"text-align: right;\">2004</td><td style = \"text-align: right;\">2008</td><td style = \"text-align: right;\">2000</td><td style = \"text-align: left;\">BR</td><td style = \"text-align: left;\">BR</td><td style = \"text-align: left;\">Brazil</td><td style = \"text-align: left;\">Brazil</td></tr><tr><td class = \"rowNumber\" style = \"font-weight: bold; text-align: right;\">184</td><td style = \"text-align: left;\">GBR</td><td style = \"text-align: left;\">6</td><td style = \"text-align: left;\">United Kingdom</td><td style = \"text-align: right;\">2471784</td><td style = \"text-align: left;\">United Kingdom of Great Britain and Northern Ireland</td><td style = \"text-align: left;\">High income: OECD</td><td style = \"text-align: left;\">Europe &amp; Central Asia</td><td style = \"font-style: italic; text-align: left;\">missing</td><td style = \"font-style: italic; text-align: left;\">missing</td><td style = \"text-align: left;\">Pound sterling</td><td style = \"text-align: left;\">2001</td><td style = \"font-style: italic; text-align: left;\">missing</td><td style = \"font-style: italic; text-align: left;\">missing</td><td style = \"text-align: left;\">2000</td><td style = \"font-style: italic; text-align: right;\">missing</td><td style = \"text-align: right;\">1993</td><td style = \"text-align: left;\">VAB</td><td style = \"font-style: italic; text-align: left;\">missing</td><td style = \"text-align: right;\">2005</td><td style = \"text-align: left;\">BPM5</td><td style = \"font-style: italic; text-align: left;\">missing</td><td style = \"text-align: left;\">General</td><td style = \"text-align: left;\">Consolidated</td><td style = \"text-align: left;\">SDDS</td><td style = \"text-align: left;\">IS, 1999</td><td style = \"text-align: left;\">Yes</td><td style = \"text-align: left;\">1999-2000 (conducted annually)</td><td style = \"text-align: right;\">2004</td><td style = \"text-align: right;\">2008</td><td style = \"text-align: right;\">2000</td><td style = \"text-align: left;\">GB</td><td style = \"text-align: left;\">GB</td><td style = \"text-align: left;\">United Kingdom</td><td style = \"text-align: left;\">United Kingdom</td></tr><tr><td class = \"rowNumber\" style = \"font-weight: bold; text-align: right;\">185</td><td style = \"text-align: left;\">FRA</td><td style = \"text-align: left;\">5</td><td style = \"text-align: left;\">France</td><td style = \"text-align: right;\">2612878</td><td style = \"text-align: left;\">French Republic</td><td style = \"text-align: left;\">High income: OECD</td><td style = \"text-align: left;\">Europe &amp; Central Asia</td><td style = \"font-style: italic; text-align: left;\">missing</td><td style = \"text-align: left;\">Euro area</td><td style = \"text-align: left;\">Euro</td><td style = \"text-align: left;\">2006 (rolling)</td><td style = \"font-style: italic; text-align: left;\">missing</td><td style = \"text-align: left;\">A simple multiplier is used to convert the national currencies of EMU members to euros. The following irrevocable euro conversion rate was adopted by the EU Council on January 1, 1999: 1 euro = 6.55957 French franc. Please note that historical data before 1999 are not actual euros and are not comparable or suitable for aggregation across countries.</td><td style = \"font-style: italic; text-align: left;\">missing</td><td style = \"text-align: right;\">2000</td><td style = \"text-align: right;\">1993</td><td style = \"text-align: left;\">VAB</td><td style = \"font-style: italic; text-align: left;\">missing</td><td style = \"text-align: right;\">2005</td><td style = \"text-align: left;\">BPM5</td><td style = \"font-style: italic; text-align: left;\">missing</td><td style = \"text-align: left;\">Special</td><td style = \"text-align: left;\">Consolidated</td><td style = \"text-align: left;\">SDDS</td><td style = \"text-align: left;\">ES/BS, 1994/95</td><td style = \"text-align: left;\">Yes</td><td style = \"text-align: left;\">1999-2000</td><td style = \"text-align: right;\">2004</td><td style = \"text-align: right;\">2008</td><td style = \"text-align: right;\">2000</td><td style = \"text-align: left;\">FR</td><td style = \"text-align: left;\">FR</td><td style = \"text-align: left;\">France</td><td style = \"text-align: left;\">France</td></tr><tr><td class = \"rowNumber\" style = \"font-weight: bold; text-align: right;\">186</td><td style = \"text-align: left;\">DEU</td><td style = \"text-align: left;\">4</td><td style = \"text-align: left;\">Germany</td><td style = \"text-align: right;\">3428131</td><td style = \"text-align: left;\">Federal Republic of Germany</td><td style = \"text-align: left;\">High income: OECD</td><td style = \"text-align: left;\">Europe &amp; Central Asia</td><td style = \"font-style: italic; text-align: left;\">missing</td><td style = \"text-align: left;\">Euro area</td><td style = \"text-align: left;\">Euro</td><td style = \"text-align: left;\">2001</td><td style = \"font-style: italic; text-align: left;\">missing</td><td style = \"text-align: left;\">A simple multiplier is used to convert the national currencies of EMU members to euros. The following irrevocable euro conversion rate was adopted by the EU Council on January 1, 1999: 1 euro = 1.95583 German mark. Please note that historical data before 1999 are not actual euros and are not comparable or suitable for aggregation across countries.</td><td style = \"text-align: left;\">2000</td><td style = \"font-style: italic; text-align: right;\">missing</td><td style = \"text-align: right;\">1993</td><td style = \"text-align: left;\">VAB</td><td style = \"font-style: italic; text-align: left;\">missing</td><td style = \"text-align: right;\">2005</td><td style = \"text-align: left;\">BPM5</td><td style = \"font-style: italic; text-align: left;\">missing</td><td style = \"text-align: left;\">Special</td><td style = \"text-align: left;\">Consolidated</td><td style = \"text-align: left;\">SDDS</td><td style = \"text-align: left;\">IHS, 2000</td><td style = \"text-align: left;\">Yes</td><td style = \"text-align: left;\">1999-2000</td><td style = \"text-align: right;\">2004</td><td style = \"text-align: right;\">2008</td><td style = \"text-align: right;\">2000</td><td style = \"text-align: left;\">DE</td><td style = \"text-align: left;\">DE</td><td style = \"text-align: left;\">Germany</td><td style = \"text-align: left;\">Germany</td></tr><tr><td class = \"rowNumber\" style = \"font-weight: bold; text-align: right;\">187</td><td style = \"text-align: left;\">JPN</td><td style = \"text-align: left;\">3</td><td style = \"text-align: left;\">Japan</td><td style = \"text-align: right;\">5959718</td><td style = \"text-align: left;\">Japan</td><td style = \"text-align: left;\">High income: OECD</td><td style = \"text-align: left;\">East Asia &amp; Pacific</td><td style = \"font-style: italic; text-align: left;\">missing</td><td style = \"font-style: italic; text-align: left;\">missing</td><td style = \"text-align: left;\">Japanese yen</td><td style = \"text-align: left;\">2005</td><td style = \"font-style: italic; text-align: left;\">missing</td><td style = \"text-align: left;\">Fiscal year end: March 31; reporting period for national accounts data: CY.</td><td style = \"text-align: left;\">2000</td><td style = \"font-style: italic; text-align: right;\">missing</td><td style = \"font-style: italic; text-align: right;\">missing</td><td style = \"text-align: left;\">VAB</td><td style = \"font-style: italic; text-align: left;\">missing</td><td style = \"text-align: right;\">2005</td><td style = \"text-align: left;\">BPM5</td><td style = \"font-style: italic; text-align: left;\">missing</td><td style = \"text-align: left;\">General</td><td style = \"text-align: left;\">Consolidated</td><td style = \"text-align: left;\">SDDS</td><td style = \"text-align: left;\">IS, 1993</td><td style = \"text-align: left;\">Yes</td><td style = \"text-align: left;\">2000</td><td style = \"text-align: right;\">2004</td><td style = \"text-align: right;\">2008</td><td style = \"text-align: right;\">2000</td><td style = \"text-align: left;\">JP</td><td style = \"text-align: left;\">JP</td><td style = \"text-align: left;\">Japan</td><td style = \"text-align: left;\">Japan</td></tr><tr><td class = \"rowNumber\" style = \"font-weight: bold; text-align: right;\">188</td><td style = \"text-align: left;\">CHN</td><td style = \"text-align: left;\">2</td><td style = \"text-align: left;\">China</td><td style = \"text-align: right;\">8227103</td><td style = \"text-align: left;\">People&apos;s Republic of China</td><td style = \"text-align: left;\">Lower middle income</td><td style = \"text-align: left;\">East Asia &amp; Pacific</td><td style = \"text-align: left;\">IBRD</td><td style = \"font-style: italic; text-align: left;\">missing</td><td style = \"text-align: left;\">Chinese yuan</td><td style = \"text-align: left;\">2000</td><td style = \"text-align: left;\">NSS, 2007</td><td style = \"text-align: left;\">On 1 July 1997 China resumed its exercise of sovereignty over Hong Kong; and on 20 December 1999 China resumed its exercise of sovereignty over Macao. Unless otherwise noted, data for China do not include data for Hong Kong SAR, China; Macao SAR, China; or Taiwan, China.</td><td style = \"text-align: left;\">2000</td><td style = \"font-style: italic; text-align: right;\">missing</td><td style = \"text-align: right;\">1993</td><td style = \"text-align: left;\">VAP</td><td style = \"text-align: left;\">1978-93</td><td style = \"text-align: right;\">2005</td><td style = \"text-align: left;\">BPM5</td><td style = \"text-align: left;\">Preliminary</td><td style = \"text-align: left;\">Special</td><td style = \"text-align: left;\">Budgetary</td><td style = \"text-align: left;\">GDDS</td><td style = \"text-align: left;\">IHS, 2005</td><td style = \"font-style: italic; text-align: left;\">missing</td><td style = \"text-align: left;\">1997</td><td style = \"text-align: right;\">2005</td><td style = \"text-align: right;\">2008</td><td style = \"text-align: right;\">2000</td><td style = \"text-align: left;\">CN</td><td style = \"text-align: left;\">CN</td><td style = \"text-align: left;\">China</td><td style = \"text-align: left;\">China</td></tr><tr><td class = \"rowNumber\" style = \"font-weight: bold; text-align: right;\">189</td><td style = \"text-align: left;\">USA</td><td style = \"text-align: left;\">1</td><td style = \"text-align: left;\">United States</td><td style = \"text-align: right;\">16244600</td><td style = \"text-align: left;\">United States of America</td><td style = \"text-align: left;\">High income: OECD</td><td style = \"text-align: left;\">North America</td><td style = \"font-style: italic; text-align: left;\">missing</td><td style = \"font-style: italic; text-align: left;\">missing</td><td style = \"text-align: left;\">U.S. dollar</td><td style = \"text-align: left;\">2000</td><td style = \"text-align: left;\">CPS (monthly)</td><td style = \"text-align: left;\">Fiscal year end: September 30; reporting period for national accounts data: CY.</td><td style = \"font-style: italic; text-align: left;\">missing</td><td style = \"text-align: right;\">2000</td><td style = \"font-style: italic; text-align: right;\">missing</td><td style = \"text-align: left;\">VAB</td><td style = \"font-style: italic; text-align: left;\">missing</td><td style = \"text-align: right;\">2005</td><td style = \"text-align: left;\">BPM5</td><td style = \"font-style: italic; text-align: left;\">missing</td><td style = \"text-align: left;\">General</td><td style = \"text-align: left;\">Consolidated</td><td style = \"text-align: left;\">SDDS</td><td style = \"text-align: left;\">LFS 2000</td><td style = \"text-align: left;\">Yes</td><td style = \"text-align: left;\">1997/2002</td><td style = \"text-align: right;\">2004</td><td style = \"text-align: right;\">2008</td><td style = \"text-align: right;\">2000</td><td style = \"text-align: left;\">US</td><td style = \"text-align: left;\">US</td><td style = \"text-align: left;\">United States</td><td style = \"text-align: left;\">United States</td></tr></tbody></table></div>"
      ],
      "text/latex": [
       "\\begin{tabular}{r|cccccc}\n",
       "\t& CountryCode & Rank & Country & US\\_dollars & Long Name & \\\\\n",
       "\t\\hline\n",
       "\t& String3 & String & String31 & Int64 & String & \\\\\n",
       "\t\\hline\n",
       "\t1 & TUV & 190 & Tuvalu & 40 & Tuvalu & $\\dots$ \\\\\n",
       "\t2 & KIR & 189 & Kiribati & 175 & Republic of Kiribati & $\\dots$ \\\\\n",
       "\t3 & MHL & 188 & Marshall Islands & 182 & Republic of the Marshall Islands & $\\dots$ \\\\\n",
       "\t4 & PLW & 187 & Palau & 228 & Republic of Palau & $\\dots$ \\\\\n",
       "\t5 & STP & 186 & S\\textbackslash{}xe3o Tom\\textbackslash{}xe9 and Principe & 263 & Democratic Republic of S\\textbackslash{}xe3o Tom\\textbackslash{}xe9 and Principe & $\\dots$ \\\\\n",
       "\t6 & FSM & 185 & Micronesia, Fed. Sts. & 326 & Federated States of Micronesia & $\\dots$ \\\\\n",
       "\t7 & TON & 184 & Tonga & 472 & Kingdom of Tonga & $\\dots$ \\\\\n",
       "\t8 & DMA & 183 & Dominica & 480 & Commonwealth of Dominica & $\\dots$ \\\\\n",
       "\t9 & COM & 182 & Comoros & 596 & Union of the Comoros & $\\dots$ \\\\\n",
       "\t10 & WSM & 181 & Samoa & 684 & Samoa & $\\dots$ \\\\\n",
       "\t11 & VCT & 180 & St. Vincent and the Grenadines & 713 & St. Vincent and the Grenadines & $\\dots$ \\\\\n",
       "\t12 & GRD & 178 & Grenada & 767 & Grenada & $\\dots$ \\\\\n",
       "\t13 & KNA & 178 & St. Kitts and Nevis & 767 & St. Kitts and Nevis & $\\dots$ \\\\\n",
       "\t14 & VUT & 177 & Vanuatu & 787 & Republic of Vanuatu & $\\dots$ \\\\\n",
       "\t15 & GNB & 176 & Guinea-Bissau & 822 & Republic of Guinea-Bissau & $\\dots$ \\\\\n",
       "\t16 & GMB & 175 & Gambia, The & 917 & Republic of The Gambia & $\\dots$ \\\\\n",
       "\t17 & SLB & 174 & Solomon Islands & 1008 & Solomon Islands & $\\dots$ \\\\\n",
       "\t18 & SYC & 173 & Seychelles & 1129 & Republic of Seychelles & $\\dots$ \\\\\n",
       "\t19 & ATG & 172 & Antigua and Barbuda & 1134 & Antigua and Barbuda & $\\dots$ \\\\\n",
       "\t20 & LCA & 171 & St. Lucia & 1239 & St. Lucia & $\\dots$ \\\\\n",
       "\t21 & TMP & 170 & Timor-Leste & 1293 & Democratic Republic of Timor-Leste & $\\dots$ \\\\\n",
       "\t22 & BLZ & 169 & Belize & 1493 & Belize & $\\dots$ \\\\\n",
       "\t23 & LBR & 168 & Liberia & 1734 & Republic of Liberia & $\\dots$ \\\\\n",
       "\t24 & BTN & 167 & Bhutan & 1780 & Kingdom of Bhutan & $\\dots$ \\\\\n",
       "\t25 & CPV & 166 & Cape Verde & 1827 & Republic of Cape Verde & $\\dots$ \\\\\n",
       "\t26 & CAF & 165 & Central African Republic & 2184 & Central African Republic & $\\dots$ \\\\\n",
       "\t27 & MDV & 164 & Maldives & 2222 & Republic of Maldives & $\\dots$ \\\\\n",
       "\t28 & LSO & 163 & Lesotho & 2448 & Kingdom of Lesotho & $\\dots$ \\\\\n",
       "\t29 & BDI & 162 & Burundi & 2472 & Republic of Burundi & $\\dots$ \\\\\n",
       "\t30 & ABW & 161 & Aruba & 2584 & Aruba & $\\dots$ \\\\\n",
       "\t$\\dots$ & $\\dots$ & $\\dots$ & $\\dots$ & $\\dots$ & $\\dots$ &  \\\\\n",
       "\\end{tabular}\n"
      ],
      "text/plain": [
       "\u001b[1m189×34 DataFrame\u001b[0m\n",
       "\u001b[1m Row \u001b[0m│\u001b[1m CountryCode \u001b[0m\u001b[1m Rank   \u001b[0m\u001b[1m Country                        \u001b[0m\u001b[1m US_dollars \u001b[0m\u001b[1m Long N\u001b[0m ⋯\n",
       "     │\u001b[90m String3     \u001b[0m\u001b[90m String \u001b[0m\u001b[90m String31                       \u001b[0m\u001b[90m Int64      \u001b[0m\u001b[90m String\u001b[0m ⋯\n",
       "─────┼──────────────────────────────────────────────────────────────────────────\n",
       "   1 │ TUV          190     Tuvalu                                  40  Tuvalu ⋯\n",
       "   2 │ KIR          189     Kiribati                               175  Republ\n",
       "   3 │ MHL          188     Marshall Islands                       182  Republ\n",
       "   4 │ PLW          187     Palau                                  228  Republ\n",
       "   5 │ STP          186     S\\xe3o Tom\\xe9 and Principe            263  Democr ⋯\n",
       "   6 │ FSM          185     Micronesia, Fed. Sts.                  326  Federa\n",
       "   7 │ TON          184     Tonga                                  472  Kingdo\n",
       "   8 │ DMA          183     Dominica                               480  Common\n",
       "   9 │ COM          182     Comoros                                596  Union  ⋯\n",
       "  10 │ WSM          181     Samoa                                  684  Samoa\n",
       "  11 │ VCT          180     St. Vincent and the Grenadines         713  St. Vi\n",
       "  ⋮  │      ⋮         ⋮                   ⋮                     ⋮              ⋱\n",
       " 180 │ IND          10      India                              1841710  Republ\n",
       " 181 │ ITA          9       Italy                              2014670  Italia ⋯\n",
       " 182 │ RUS          8       Russian Federation                 2014775  Russia\n",
       " 183 │ BRA          7       Brazil                             2252664  Federa\n",
       " 184 │ GBR          6       United Kingdom                     2471784  United\n",
       " 185 │ FRA          5       France                             2612878  French ⋯\n",
       " 186 │ DEU          4       Germany                            3428131  Federa\n",
       " 187 │ JPN          3       Japan                              5959718  Japan\n",
       " 188 │ CHN          2       China                              8227103  People\n",
       " 189 │ USA          1       United States                     16244600  United ⋯\n",
       "\u001b[36m                                                 30 columns and 168 rows omitted\u001b[0m"
      ]
     },
     "execution_count": 279,
     "metadata": {},
     "output_type": "execute_result"
    }
   ],
   "source": [
    "sort!(gdp_edu, :US_dollars, rev=false)"
   ]
  },
  {
   "cell_type": "markdown",
   "id": "1f29dfd8",
   "metadata": {},
   "source": [
    "The answer is !\n",
    "189 matches, 13th country is St. Kitts and Nevis "
   ]
  },
  {
   "cell_type": "markdown",
   "id": "8dbc1e55",
   "metadata": {},
   "source": [
    "## 4. \n",
    "What is the average GDP ranking for the \"High income: OECD\" and \"High income: nonOECD\" group?  "
   ]
  },
  {
   "cell_type": "code",
   "execution_count": 280,
   "id": "2d40a5d5",
   "metadata": {
    "collapsed": true,
    "jupyter": {
     "outputs_hidden": true
    }
   },
   "outputs": [
    {
     "data": {
      "text/plain": [
       "23-element PooledArrays.PooledVector{Union{Missing, String31}, UInt32, Vector{UInt32}}:\n",
       " \"High income: nonOECD\"\n",
       " \"High income: nonOECD\"\n",
       " \"High income: nonOECD\"\n",
       " \"High income: nonOECD\"\n",
       " \"High income: nonOECD\"\n",
       " \"High income: nonOECD\"\n",
       " \"High income: nonOECD\"\n",
       " \"High income: nonOECD\"\n",
       " \"High income: nonOECD\"\n",
       " \"High income: nonOECD\"\n",
       " \"High income: nonOECD\"\n",
       " \"High income: nonOECD\"\n",
       " \"High income: nonOECD\"\n",
       " \"High income: nonOECD\"\n",
       " \"High income: nonOECD\"\n",
       " \"High income: nonOECD\"\n",
       " \"High income: nonOECD\"\n",
       " \"High income: nonOECD\"\n",
       " \"High income: nonOECD\"\n",
       " \"High income: nonOECD\"\n",
       " \"High income: nonOECD\"\n",
       " \"High income: nonOECD\"\n",
       " \"High income: nonOECD\""
      ]
     },
     "execution_count": 280,
     "metadata": {},
     "output_type": "execute_result"
    }
   ],
   "source": [
    "filter(x -> x == \"High income: nonOECD\", gdp_edu.var\"Income Group\")"
   ]
  },
  {
   "cell_type": "code",
   "execution_count": 304,
   "id": "b2240ebd",
   "metadata": {
    "collapsed": true,
    "jupyter": {
     "outputs_hidden": true
    }
   },
   "outputs": [
    {
     "data": {
      "text/html": [
       "<div><div style = \"float: left;\"><span>23×34 DataFrame</span></div><div style = \"clear: both;\"></div></div><div class = \"data-frame\" style = \"overflow-x: scroll;\"><table class = \"data-frame\" style = \"margin-bottom: 6px;\"><thead><tr class = \"header\"><th class = \"rowNumber\" style = \"font-weight: bold; text-align: right;\">Row</th><th style = \"text-align: left;\">CountryCode</th><th style = \"text-align: left;\">Rank</th><th style = \"text-align: left;\">Country</th><th style = \"text-align: left;\">US_dollars</th><th style = \"text-align: left;\">Long Name</th><th style = \"text-align: left;\">Income Group</th><th style = \"text-align: left;\">Region</th><th style = \"text-align: left;\">Lending category</th><th style = \"text-align: left;\">Other groups</th><th style = \"text-align: left;\">Currency Unit</th><th style = \"text-align: left;\">Latest population census</th><th style = \"text-align: left;\">Latest household survey</th><th style = \"text-align: left;\">Special Notes</th><th style = \"text-align: left;\">National accounts base year</th><th style = \"text-align: left;\">National accounts reference year</th><th style = \"text-align: left;\">System of National Accounts</th><th style = \"text-align: left;\">SNA price valuation</th><th style = \"text-align: left;\">Alternative conversion factor</th><th style = \"text-align: left;\">PPP survey year</th><th style = \"text-align: left;\">Balance of Payments Manual in use</th><th style = \"text-align: left;\">External debt Reporting status</th><th style = \"text-align: left;\">System of trade</th><th style = \"text-align: left;\">Government Accounting concept</th><th style = \"text-align: left;\">IMF data dissemination standard</th><th style = \"text-align: left;\">Source of most recent Income and expenditure data</th><th style = \"text-align: left;\">Vital registration complete</th><th style = \"text-align: left;\">Latest agricultural census</th><th style = \"text-align: left;\">Latest industrial data</th><th style = \"text-align: left;\">Latest trade data</th><th style = \"text-align: left;\">Latest water withdrawal data</th><th style = \"text-align: left;\">2-alpha code</th><th style = \"text-align: left;\">WB-2 code</th><th style = \"text-align: left;\">Table Name</th><th style = \"text-align: left;\">Short Name</th></tr><tr class = \"subheader headerLastRow\"><th class = \"rowNumber\" style = \"font-weight: bold; text-align: right;\"></th><th title = \"String3\" style = \"text-align: left;\">String3</th><th title = \"Int64\" style = \"text-align: left;\">Int64</th><th title = \"String31\" style = \"text-align: left;\">String31</th><th title = \"Int64\" style = \"text-align: left;\">Int64</th><th title = \"String\" style = \"text-align: left;\">String</th><th title = \"Union{Missing, String31}\" style = \"text-align: left;\">String31?</th><th title = \"Union{Missing, String31}\" style = \"text-align: left;\">String31?</th><th title = \"Union{Missing, String7}\" style = \"text-align: left;\">String7?</th><th title = \"Union{Missing, String15}\" style = \"text-align: left;\">String15?</th><th title = \"Union{Missing, String}\" style = \"text-align: left;\">String?</th><th title = \"Union{Missing, String15}\" style = \"text-align: left;\">String15?</th><th title = \"Union{Missing, String31}\" style = \"text-align: left;\">String31?</th><th title = \"Union{Missing, String}\" style = \"text-align: left;\">String?</th><th title = \"Union{Missing, String}\" style = \"text-align: left;\">String?</th><th title = \"Union{Missing, Int64}\" style = \"text-align: left;\">Int64?</th><th title = \"Union{Missing, Int64}\" style = \"text-align: left;\">Int64?</th><th title = \"Union{Missing, String3}\" style = \"text-align: left;\">String3?</th><th title = \"Union{Missing, String31}\" style = \"text-align: left;\">String31?</th><th title = \"Union{Missing, Int64}\" style = \"text-align: left;\">Int64?</th><th title = \"Union{Missing, String7}\" style = \"text-align: left;\">String7?</th><th title = \"Union{Missing, String15}\" style = \"text-align: left;\">String15?</th><th title = \"Union{Missing, String7}\" style = \"text-align: left;\">String7?</th><th title = \"Union{Missing, String15}\" style = \"text-align: left;\">String15?</th><th title = \"Union{Missing, String7}\" style = \"text-align: left;\">String7?</th><th title = \"Union{Missing, String15}\" style = \"text-align: left;\">String15?</th><th title = \"Union{Missing, String3}\" style = \"text-align: left;\">String3?</th><th title = \"Union{Missing, String31}\" style = \"text-align: left;\">String31?</th><th title = \"Union{Missing, Int64}\" style = \"text-align: left;\">Int64?</th><th title = \"Union{Missing, Int64}\" style = \"text-align: left;\">Int64?</th><th title = \"Union{Missing, Int64}\" style = \"text-align: left;\">Int64?</th><th title = \"Union{Missing, String3}\" style = \"text-align: left;\">String3?</th><th title = \"Union{Missing, String3}\" style = \"text-align: left;\">String3?</th><th title = \"String\" style = \"text-align: left;\">String</th><th title = \"String\" style = \"text-align: left;\">String</th></tr></thead><tbody><tr><td class = \"rowNumber\" style = \"font-weight: bold; text-align: right;\">1</td><td style = \"text-align: left;\">ABW</td><td style = \"text-align: right;\">161</td><td style = \"text-align: left;\">Aruba</td><td style = \"text-align: right;\">2584</td><td style = \"text-align: left;\">Aruba</td><td style = \"text-align: left;\">High income: nonOECD</td><td style = \"text-align: left;\">Latin America &amp; Caribbean</td><td style = \"font-style: italic; text-align: left;\">missing</td><td style = \"font-style: italic; text-align: left;\">missing</td><td style = \"text-align: left;\">Aruban florin</td><td style = \"text-align: left;\">2000</td><td style = \"font-style: italic; text-align: left;\">missing</td><td style = \"font-style: italic; text-align: left;\">missing</td><td style = \"text-align: left;\">1995</td><td style = \"font-style: italic; text-align: right;\">missing</td><td style = \"font-style: italic; text-align: right;\">missing</td><td style = \"font-style: italic; text-align: left;\">missing</td><td style = \"font-style: italic; text-align: left;\">missing</td><td style = \"font-style: italic; text-align: right;\">missing</td><td style = \"font-style: italic; text-align: left;\">missing</td><td style = \"font-style: italic; text-align: left;\">missing</td><td style = \"text-align: left;\">Special</td><td style = \"font-style: italic; text-align: left;\">missing</td><td style = \"font-style: italic; text-align: left;\">missing</td><td style = \"font-style: italic; text-align: left;\">missing</td><td style = \"font-style: italic; text-align: left;\">missing</td><td style = \"font-style: italic; text-align: left;\">missing</td><td style = \"font-style: italic; text-align: right;\">missing</td><td style = \"text-align: right;\">2008</td><td style = \"font-style: italic; text-align: right;\">missing</td><td style = \"text-align: left;\">AW</td><td style = \"text-align: left;\">AW</td><td style = \"text-align: left;\">Aruba</td><td style = \"text-align: left;\">Aruba</td></tr><tr><td class = \"rowNumber\" style = \"font-weight: bold; text-align: right;\">2</td><td style = \"text-align: left;\">ARE</td><td style = \"text-align: right;\">32</td><td style = \"text-align: left;\">United Arab Emirates</td><td style = \"text-align: right;\">348595</td><td style = \"text-align: left;\">United Arab Emirates</td><td style = \"text-align: left;\">High income: nonOECD</td><td style = \"text-align: left;\">Middle East &amp; North Africa</td><td style = \"font-style: italic; text-align: left;\">missing</td><td style = \"font-style: italic; text-align: left;\">missing</td><td style = \"text-align: left;\">U.A.E. dirham</td><td style = \"text-align: left;\">2005</td><td style = \"font-style: italic; text-align: left;\">missing</td><td style = \"font-style: italic; text-align: left;\">missing</td><td style = \"text-align: left;\">1995</td><td style = \"font-style: italic; text-align: right;\">missing</td><td style = \"font-style: italic; text-align: right;\">missing</td><td style = \"text-align: left;\">VAB</td><td style = \"font-style: italic; text-align: left;\">missing</td><td style = \"font-style: italic; text-align: right;\">missing</td><td style = \"text-align: left;\">BPM4</td><td style = \"font-style: italic; text-align: left;\">missing</td><td style = \"text-align: left;\">General</td><td style = \"text-align: left;\">Consolidated</td><td style = \"text-align: left;\">GDDS</td><td style = \"font-style: italic; text-align: left;\">missing</td><td style = \"font-style: italic; text-align: left;\">missing</td><td style = \"text-align: left;\">1998</td><td style = \"font-style: italic; text-align: right;\">missing</td><td style = \"text-align: right;\">2008</td><td style = \"text-align: right;\">2005</td><td style = \"text-align: left;\">AE</td><td style = \"text-align: left;\">AE</td><td style = \"text-align: left;\">United Arab Emirates</td><td style = \"text-align: left;\">United Arab Emirates</td></tr><tr><td class = \"rowNumber\" style = \"font-weight: bold; text-align: right;\">3</td><td style = \"text-align: left;\">BHR</td><td style = \"text-align: right;\">93</td><td style = \"text-align: left;\">Bahrain</td><td style = \"text-align: right;\">29044</td><td style = \"text-align: left;\">Kingdom of Bahrain</td><td style = \"text-align: left;\">High income: nonOECD</td><td style = \"text-align: left;\">Middle East &amp; North Africa</td><td style = \"font-style: italic; text-align: left;\">missing</td><td style = \"font-style: italic; text-align: left;\">missing</td><td style = \"text-align: left;\">Bahraini dinar</td><td style = \"text-align: left;\">2001</td><td style = \"font-style: italic; text-align: left;\">missing</td><td style = \"font-style: italic; text-align: left;\">missing</td><td style = \"text-align: left;\">1985</td><td style = \"font-style: italic; text-align: right;\">missing</td><td style = \"font-style: italic; text-align: right;\">missing</td><td style = \"text-align: left;\">VAP</td><td style = \"font-style: italic; text-align: left;\">missing</td><td style = \"text-align: right;\">2005</td><td style = \"text-align: left;\">BPM5</td><td style = \"font-style: italic; text-align: left;\">missing</td><td style = \"text-align: left;\">General</td><td style = \"text-align: left;\">Consolidated</td><td style = \"text-align: left;\">GDDS</td><td style = \"font-style: italic; text-align: left;\">missing</td><td style = \"text-align: left;\">Yes</td><td style = \"font-style: italic; text-align: left;\">missing</td><td style = \"font-style: italic; text-align: right;\">missing</td><td style = \"text-align: right;\">2007</td><td style = \"text-align: right;\">2003</td><td style = \"text-align: left;\">BH</td><td style = \"text-align: left;\">BH</td><td style = \"text-align: left;\">Bahrain</td><td style = \"text-align: left;\">Bahrain</td></tr><tr><td class = \"rowNumber\" style = \"font-weight: bold; text-align: right;\">4</td><td style = \"text-align: left;\">BHS</td><td style = \"text-align: right;\">138</td><td style = \"text-align: left;\">Bahamas, The</td><td style = \"text-align: right;\">8149</td><td style = \"text-align: left;\">Commonwealth of The Bahamas</td><td style = \"text-align: left;\">High income: nonOECD</td><td style = \"text-align: left;\">Latin America &amp; Caribbean</td><td style = \"font-style: italic; text-align: left;\">missing</td><td style = \"font-style: italic; text-align: left;\">missing</td><td style = \"text-align: left;\">Bahamian dollar</td><td style = \"text-align: left;\">2000</td><td style = \"font-style: italic; text-align: left;\">missing</td><td style = \"text-align: left;\">The government has revised national accounts data for 1997-2007. The new base year is 2006.</td><td style = \"text-align: left;\">2006</td><td style = \"font-style: italic; text-align: right;\">missing</td><td style = \"text-align: right;\">1993</td><td style = \"text-align: left;\">VAB</td><td style = \"font-style: italic; text-align: left;\">missing</td><td style = \"font-style: italic; text-align: right;\">missing</td><td style = \"text-align: left;\">BPM5</td><td style = \"font-style: italic; text-align: left;\">missing</td><td style = \"text-align: left;\">General</td><td style = \"text-align: left;\">Budgetary</td><td style = \"text-align: left;\">GDDS</td><td style = \"font-style: italic; text-align: left;\">missing</td><td style = \"font-style: italic; text-align: left;\">missing</td><td style = \"font-style: italic; text-align: left;\">missing</td><td style = \"text-align: right;\">1997</td><td style = \"text-align: right;\">2008</td><td style = \"font-style: italic; text-align: right;\">missing</td><td style = \"text-align: left;\">BS</td><td style = \"text-align: left;\">BS</td><td style = \"text-align: left;\">Bahamas, The</td><td style = \"text-align: left;\">The Bahamas</td></tr><tr><td class = \"rowNumber\" style = \"font-weight: bold; text-align: right;\">5</td><td style = \"text-align: left;\">BMU</td><td style = \"text-align: right;\">149</td><td style = \"text-align: left;\">Bermuda</td><td style = \"text-align: right;\">5474</td><td style = \"text-align: left;\">The Bermudas</td><td style = \"text-align: left;\">High income: nonOECD</td><td style = \"text-align: left;\">North America</td><td style = \"font-style: italic; text-align: left;\">missing</td><td style = \"font-style: italic; text-align: left;\">missing</td><td style = \"text-align: left;\">Bermuda dollar</td><td style = \"text-align: left;\">2000</td><td style = \"font-style: italic; text-align: left;\">missing</td><td style = \"text-align: left;\">The Statistical Office has revised national accounts data for 1996-2007.</td><td style = \"text-align: left;\">1996</td><td style = \"font-style: italic; text-align: right;\">missing</td><td style = \"font-style: italic; text-align: right;\">missing</td><td style = \"text-align: left;\">VAB</td><td style = \"font-style: italic; text-align: left;\">missing</td><td style = \"font-style: italic; text-align: right;\">missing</td><td style = \"font-style: italic; text-align: left;\">missing</td><td style = \"font-style: italic; text-align: left;\">missing</td><td style = \"font-style: italic; text-align: left;\">missing</td><td style = \"font-style: italic; text-align: left;\">missing</td><td style = \"font-style: italic; text-align: left;\">missing</td><td style = \"font-style: italic; text-align: left;\">missing</td><td style = \"text-align: left;\">Yes</td><td style = \"font-style: italic; text-align: left;\">missing</td><td style = \"font-style: italic; text-align: right;\">missing</td><td style = \"text-align: right;\">2008</td><td style = \"font-style: italic; text-align: right;\">missing</td><td style = \"text-align: left;\">BM</td><td style = \"text-align: left;\">BM</td><td style = \"text-align: left;\">Bermuda</td><td style = \"text-align: left;\">Bermuda</td></tr><tr><td class = \"rowNumber\" style = \"font-weight: bold; text-align: right;\">6</td><td style = \"text-align: left;\">BRB</td><td style = \"text-align: right;\">153</td><td style = \"text-align: left;\">Barbados</td><td style = \"text-align: right;\">4225</td><td style = \"text-align: left;\">Barbados</td><td style = \"text-align: left;\">High income: nonOECD</td><td style = \"text-align: left;\">Latin America &amp; Caribbean</td><td style = \"font-style: italic; text-align: left;\">missing</td><td style = \"font-style: italic; text-align: left;\">missing</td><td style = \"text-align: left;\">Barbados dollar</td><td style = \"text-align: left;\">2000</td><td style = \"font-style: italic; text-align: left;\">missing</td><td style = \"font-style: italic; text-align: left;\">missing</td><td style = \"text-align: left;\">1974</td><td style = \"font-style: italic; text-align: right;\">missing</td><td style = \"font-style: italic; text-align: right;\">missing</td><td style = \"text-align: left;\">VAB</td><td style = \"font-style: italic; text-align: left;\">missing</td><td style = \"font-style: italic; text-align: right;\">missing</td><td style = \"text-align: left;\">BPM5</td><td style = \"font-style: italic; text-align: left;\">missing</td><td style = \"text-align: left;\">General</td><td style = \"text-align: left;\">Consolidated</td><td style = \"text-align: left;\">GDDS</td><td style = \"font-style: italic; text-align: left;\">missing</td><td style = \"text-align: left;\">Yes</td><td style = \"font-style: italic; text-align: left;\">missing</td><td style = \"font-style: italic; text-align: right;\">missing</td><td style = \"text-align: right;\">2008</td><td style = \"text-align: right;\">2000</td><td style = \"text-align: left;\">BB</td><td style = \"text-align: left;\">BB</td><td style = \"text-align: left;\">Barbados</td><td style = \"text-align: left;\">Barbados</td></tr><tr><td class = \"rowNumber\" style = \"font-weight: bold; text-align: right;\">7</td><td style = \"text-align: left;\">BRN</td><td style = \"text-align: right;\">113</td><td style = \"text-align: left;\">Brunei Darussalam</td><td style = \"text-align: right;\">16954</td><td style = \"text-align: left;\">Brunei Darussalam</td><td style = \"text-align: left;\">High income: nonOECD</td><td style = \"text-align: left;\">East Asia &amp; Pacific</td><td style = \"font-style: italic; text-align: left;\">missing</td><td style = \"font-style: italic; text-align: left;\">missing</td><td style = \"text-align: left;\">Brunei dollar</td><td style = \"text-align: left;\">2001</td><td style = \"font-style: italic; text-align: left;\">missing</td><td style = \"font-style: italic; text-align: left;\">missing</td><td style = \"text-align: left;\">2000</td><td style = \"font-style: italic; text-align: right;\">missing</td><td style = \"font-style: italic; text-align: right;\">missing</td><td style = \"text-align: left;\">VAP</td><td style = \"font-style: italic; text-align: left;\">missing</td><td style = \"text-align: right;\">2005</td><td style = \"font-style: italic; text-align: left;\">missing</td><td style = \"font-style: italic; text-align: left;\">missing</td><td style = \"text-align: left;\">General</td><td style = \"font-style: italic; text-align: left;\">missing</td><td style = \"text-align: left;\">GDDS</td><td style = \"font-style: italic; text-align: left;\">missing</td><td style = \"text-align: left;\">Yes</td><td style = \"font-style: italic; text-align: left;\">missing</td><td style = \"font-style: italic; text-align: right;\">missing</td><td style = \"text-align: right;\">2006</td><td style = \"font-style: italic; text-align: right;\">missing</td><td style = \"text-align: left;\">BN</td><td style = \"text-align: left;\">BN</td><td style = \"text-align: left;\">Brunei Darussalam</td><td style = \"text-align: left;\">Brunei</td></tr><tr><td class = \"rowNumber\" style = \"font-weight: bold; text-align: right;\">8</td><td style = \"text-align: left;\">CYP</td><td style = \"text-align: right;\">102</td><td style = \"text-align: left;\">Cyprus</td><td style = \"text-align: right;\">22767</td><td style = \"text-align: left;\">Republic of Cyprus</td><td style = \"text-align: left;\">High income: nonOECD</td><td style = \"text-align: left;\">Europe &amp; Central Asia</td><td style = \"font-style: italic; text-align: left;\">missing</td><td style = \"text-align: left;\">Euro area</td><td style = \"text-align: left;\">Euro</td><td style = \"text-align: left;\">2001</td><td style = \"font-style: italic; text-align: left;\">missing</td><td style = \"text-align: left;\">A simple multiplier is used to convert the national currencies of EMU members to euros. The following irrevocable euro conversion rate entered into force on January 1, 2008: 1 euro = 0.585274 Cyprus pounds. Please note that historical data are not actual euros and are not comparable or suitable for aggregation across countries.</td><td style = \"font-style: italic; text-align: left;\">missing</td><td style = \"text-align: right;\">2000</td><td style = \"font-style: italic; text-align: right;\">missing</td><td style = \"text-align: left;\">VAB</td><td style = \"font-style: italic; text-align: left;\">missing</td><td style = \"text-align: right;\">2005</td><td style = \"text-align: left;\">BPM5</td><td style = \"font-style: italic; text-align: left;\">missing</td><td style = \"text-align: left;\">General</td><td style = \"text-align: left;\">Consolidated</td><td style = \"text-align: left;\">SDDS</td><td style = \"font-style: italic; text-align: left;\">missing</td><td style = \"text-align: left;\">Yes</td><td style = \"font-style: italic; text-align: left;\">missing</td><td style = \"text-align: right;\">2005</td><td style = \"text-align: right;\">2008</td><td style = \"text-align: right;\">2000</td><td style = \"text-align: left;\">CY</td><td style = \"text-align: left;\">CY</td><td style = \"text-align: left;\">Cyprus</td><td style = \"text-align: left;\">Cyprus</td></tr><tr><td class = \"rowNumber\" style = \"font-weight: bold; text-align: right;\">9</td><td style = \"text-align: left;\">EST</td><td style = \"text-align: right;\">103</td><td style = \"text-align: left;\">Estonia</td><td style = \"text-align: right;\">22390</td><td style = \"text-align: left;\">Republic of Estonia</td><td style = \"text-align: left;\">High income: nonOECD</td><td style = \"text-align: left;\">Europe &amp; Central Asia</td><td style = \"font-style: italic; text-align: left;\">missing</td><td style = \"font-style: italic; text-align: left;\">missing</td><td style = \"text-align: left;\">Estonian kroon</td><td style = \"text-align: left;\">2000</td><td style = \"font-style: italic; text-align: left;\">missing</td><td style = \"font-style: italic; text-align: left;\">missing</td><td style = \"text-align: left;\">2000</td><td style = \"font-style: italic; text-align: right;\">missing</td><td style = \"text-align: right;\">1993</td><td style = \"text-align: left;\">VAB</td><td style = \"text-align: left;\">1987-95</td><td style = \"text-align: right;\">2005</td><td style = \"text-align: left;\">BPM5</td><td style = \"font-style: italic; text-align: left;\">missing</td><td style = \"text-align: left;\">General</td><td style = \"text-align: left;\">Consolidated</td><td style = \"text-align: left;\">SDDS</td><td style = \"text-align: left;\">ES/BS, 2004</td><td style = \"text-align: left;\">Yes</td><td style = \"text-align: left;\">2001</td><td style = \"text-align: right;\">2005</td><td style = \"text-align: right;\">2008</td><td style = \"text-align: right;\">2000</td><td style = \"text-align: left;\">EE</td><td style = \"text-align: left;\">EE</td><td style = \"text-align: left;\">Estonia</td><td style = \"text-align: left;\">Estonia</td></tr><tr><td class = \"rowNumber\" style = \"font-weight: bold; text-align: right;\">10</td><td style = \"text-align: left;\">GNQ</td><td style = \"text-align: right;\">110</td><td style = \"text-align: left;\">Equatorial Guinea</td><td style = \"text-align: right;\">17697</td><td style = \"text-align: left;\">Republic of Equatorial Guinea</td><td style = \"text-align: left;\">High income: nonOECD</td><td style = \"text-align: left;\">Sub-Saharan Africa</td><td style = \"text-align: left;\">IBRD</td><td style = \"font-style: italic; text-align: left;\">missing</td><td style = \"text-align: left;\">CFA franc</td><td style = \"text-align: left;\">2002</td><td style = \"font-style: italic; text-align: left;\">missing</td><td style = \"font-style: italic; text-align: left;\">missing</td><td style = \"text-align: left;\">2000</td><td style = \"font-style: italic; text-align: right;\">missing</td><td style = \"font-style: italic; text-align: right;\">missing</td><td style = \"text-align: left;\">VAB</td><td style = \"text-align: left;\">1965-84</td><td style = \"text-align: right;\">2005</td><td style = \"font-style: italic; text-align: left;\">missing</td><td style = \"font-style: italic; text-align: left;\">missing</td><td style = \"font-style: italic; text-align: left;\">missing</td><td style = \"font-style: italic; text-align: left;\">missing</td><td style = \"font-style: italic; text-align: left;\">missing</td><td style = \"font-style: italic; text-align: left;\">missing</td><td style = \"font-style: italic; text-align: left;\">missing</td><td style = \"font-style: italic; text-align: left;\">missing</td><td style = \"font-style: italic; text-align: right;\">missing</td><td style = \"font-style: italic; text-align: right;\">missing</td><td style = \"text-align: right;\">2000</td><td style = \"text-align: left;\">GQ</td><td style = \"text-align: left;\">GQ</td><td style = \"text-align: left;\">Equatorial Guinea</td><td style = \"text-align: left;\">Equatorial Guinea</td></tr><tr><td class = \"rowNumber\" style = \"font-weight: bold; text-align: right;\">11</td><td style = \"text-align: left;\">HKG</td><td style = \"text-align: right;\">37</td><td style = \"text-align: left;\">Hong Kong SAR, China</td><td style = \"text-align: right;\">263259</td><td style = \"text-align: left;\">Hong Kong Special Administrative Region of the People&apos;s Republic of China</td><td style = \"text-align: left;\">High income: nonOECD</td><td style = \"text-align: left;\">East Asia &amp; Pacific</td><td style = \"font-style: italic; text-align: left;\">missing</td><td style = \"font-style: italic; text-align: left;\">missing</td><td style = \"text-align: left;\">Hong Kong dollar</td><td style = \"text-align: left;\">2006</td><td style = \"font-style: italic; text-align: left;\">missing</td><td style = \"text-align: left;\">On 1 July 1997 China resumed its exercise of sovereignty over Hong Kong. Unless otherwise noted, data for China do not include data for Hong Kong SAR, China; Macao SAR, China; or Taiwan, China.</td><td style = \"text-align: left;\">2006</td><td style = \"font-style: italic; text-align: right;\">missing</td><td style = \"text-align: right;\">1993</td><td style = \"text-align: left;\">VAB</td><td style = \"font-style: italic; text-align: left;\">missing</td><td style = \"text-align: right;\">2005</td><td style = \"text-align: left;\">BPM5</td><td style = \"font-style: italic; text-align: left;\">missing</td><td style = \"text-align: left;\">General</td><td style = \"text-align: left;\">Consolidated</td><td style = \"text-align: left;\">SDDS</td><td style = \"font-style: italic; text-align: left;\">missing</td><td style = \"text-align: left;\">Yes</td><td style = \"font-style: italic; text-align: left;\">missing</td><td style = \"font-style: italic; text-align: right;\">missing</td><td style = \"text-align: right;\">2008</td><td style = \"font-style: italic; text-align: right;\">missing</td><td style = \"text-align: left;\">HK</td><td style = \"text-align: left;\">HK</td><td style = \"text-align: left;\">Hong Kong SAR, China</td><td style = \"text-align: left;\">Hong Kong SAR, China</td></tr><tr><td class = \"rowNumber\" style = \"font-weight: bold; text-align: right;\">12</td><td style = \"text-align: left;\">HRV</td><td style = \"text-align: right;\">71</td><td style = \"text-align: left;\">Croatia</td><td style = \"text-align: right;\">59228</td><td style = \"text-align: left;\">Republic of Croatia</td><td style = \"text-align: left;\">High income: nonOECD</td><td style = \"text-align: left;\">Europe &amp; Central Asia</td><td style = \"text-align: left;\">IBRD</td><td style = \"font-style: italic; text-align: left;\">missing</td><td style = \"text-align: left;\">Croatian kuna</td><td style = \"text-align: left;\">2001</td><td style = \"font-style: italic; text-align: left;\">missing</td><td style = \"text-align: left;\">The Statistical Bureau has revised main GDP aggregates for 1995-2005.</td><td style = \"font-style: italic; text-align: left;\">missing</td><td style = \"text-align: right;\">1997</td><td style = \"text-align: right;\">1993</td><td style = \"text-align: left;\">VAB</td><td style = \"font-style: italic; text-align: left;\">missing</td><td style = \"text-align: right;\">2005</td><td style = \"text-align: left;\">BPM5</td><td style = \"font-style: italic; text-align: left;\">missing</td><td style = \"text-align: left;\">General</td><td style = \"text-align: left;\">Consolidated</td><td style = \"text-align: left;\">SDDS</td><td style = \"text-align: left;\">ES/BS, 2005</td><td style = \"text-align: left;\">Yes</td><td style = \"text-align: left;\">2003</td><td style = \"font-style: italic; text-align: right;\">missing</td><td style = \"text-align: right;\">2008</td><td style = \"font-style: italic; text-align: right;\">missing</td><td style = \"text-align: left;\">HR</td><td style = \"text-align: left;\">HR</td><td style = \"text-align: left;\">Croatia</td><td style = \"text-align: left;\">Croatia</td></tr><tr><td class = \"rowNumber\" style = \"font-weight: bold; text-align: right;\">13</td><td style = \"text-align: left;\">KWT</td><td style = \"text-align: right;\">56</td><td style = \"text-align: left;\">Kuwait</td><td style = \"text-align: right;\">160913</td><td style = \"text-align: left;\">State of Kuwait</td><td style = \"text-align: left;\">High income: nonOECD</td><td style = \"text-align: left;\">Middle East &amp; North Africa</td><td style = \"font-style: italic; text-align: left;\">missing</td><td style = \"font-style: italic; text-align: left;\">missing</td><td style = \"text-align: left;\">Kuwaiti dinar</td><td style = \"text-align: left;\">2005</td><td style = \"text-align: left;\">FHS, 1996</td><td style = \"text-align: left;\">Fiscal year end: June 30; reporting period for national accounts data: CY.</td><td style = \"text-align: left;\">1995</td><td style = \"font-style: italic; text-align: right;\">missing</td><td style = \"font-style: italic; text-align: right;\">missing</td><td style = \"text-align: left;\">VAP</td><td style = \"font-style: italic; text-align: left;\">missing</td><td style = \"text-align: right;\">2005</td><td style = \"text-align: left;\">BPM5</td><td style = \"font-style: italic; text-align: left;\">missing</td><td style = \"text-align: left;\">Special</td><td style = \"text-align: left;\">Consolidated</td><td style = \"text-align: left;\">GDDS</td><td style = \"font-style: italic; text-align: left;\">missing</td><td style = \"text-align: left;\">Yes</td><td style = \"text-align: left;\">1970</td><td style = \"font-style: italic; text-align: right;\">missing</td><td style = \"text-align: right;\">2007</td><td style = \"text-align: right;\">2002</td><td style = \"text-align: left;\">KW</td><td style = \"text-align: left;\">KW</td><td style = \"text-align: left;\">Kuwait</td><td style = \"text-align: left;\">Kuwait</td></tr><tr><td class = \"rowNumber\" style = \"font-weight: bold; text-align: right;\">14</td><td style = \"text-align: left;\">LVA</td><td style = \"text-align: right;\">94</td><td style = \"text-align: left;\">Latvia</td><td style = \"text-align: right;\">28373</td><td style = \"text-align: left;\">Republic of Latvia</td><td style = \"text-align: left;\">High income: nonOECD</td><td style = \"text-align: left;\">Europe &amp; Central Asia</td><td style = \"font-style: italic; text-align: left;\">missing</td><td style = \"font-style: italic; text-align: left;\">missing</td><td style = \"text-align: left;\">Latvian lats</td><td style = \"text-align: left;\">2000</td><td style = \"font-style: italic; text-align: left;\">missing</td><td style = \"font-style: italic; text-align: left;\">missing</td><td style = \"text-align: left;\">2000</td><td style = \"font-style: italic; text-align: right;\">missing</td><td style = \"text-align: right;\">1993</td><td style = \"text-align: left;\">VAB</td><td style = \"text-align: left;\">1987-95</td><td style = \"text-align: right;\">2005</td><td style = \"text-align: left;\">BPM5</td><td style = \"text-align: left;\">Actual</td><td style = \"text-align: left;\">Special</td><td style = \"text-align: left;\">Consolidated</td><td style = \"text-align: left;\">SDDS</td><td style = \"text-align: left;\">IHS, 2007</td><td style = \"text-align: left;\">Yes</td><td style = \"text-align: left;\">2001</td><td style = \"text-align: right;\">2005</td><td style = \"text-align: right;\">2008</td><td style = \"text-align: right;\">2000</td><td style = \"text-align: left;\">LV</td><td style = \"text-align: left;\">LV</td><td style = \"text-align: left;\">Latvia</td><td style = \"text-align: left;\">Latvia</td></tr><tr><td class = \"rowNumber\" style = \"font-weight: bold; text-align: right;\">15</td><td style = \"text-align: left;\">MAC</td><td style = \"text-align: right;\">82</td><td style = \"text-align: left;\">Macao SAR, China</td><td style = \"text-align: right;\">43582</td><td style = \"text-align: left;\">Macao Special Administrative Region of the People&apos;s Republic of China</td><td style = \"text-align: left;\">High income: nonOECD</td><td style = \"text-align: left;\">East Asia &amp; Pacific</td><td style = \"font-style: italic; text-align: left;\">missing</td><td style = \"font-style: italic; text-align: left;\">missing</td><td style = \"text-align: left;\">Macao pataca</td><td style = \"text-align: left;\">2006</td><td style = \"font-style: italic; text-align: left;\">missing</td><td style = \"text-align: left;\">On 20 December 1999 China resumed its exercise of sovereignty over Macao. Unless otherwise noted, data for China do not include data for Hong Kong SAR, China; Macao SAR, China; or Taiwan, China.</td><td style = \"text-align: left;\">2002</td><td style = \"font-style: italic; text-align: right;\">missing</td><td style = \"font-style: italic; text-align: right;\">missing</td><td style = \"text-align: left;\">VAB</td><td style = \"font-style: italic; text-align: left;\">missing</td><td style = \"text-align: right;\">2005</td><td style = \"text-align: left;\">BPM5</td><td style = \"font-style: italic; text-align: left;\">missing</td><td style = \"text-align: left;\">General</td><td style = \"text-align: left;\">Consolidated</td><td style = \"text-align: left;\">GDDS</td><td style = \"font-style: italic; text-align: left;\">missing</td><td style = \"text-align: left;\">Yes</td><td style = \"font-style: italic; text-align: left;\">missing</td><td style = \"font-style: italic; text-align: right;\">missing</td><td style = \"text-align: right;\">2008</td><td style = \"font-style: italic; text-align: right;\">missing</td><td style = \"text-align: left;\">MO</td><td style = \"text-align: left;\">MO</td><td style = \"text-align: left;\">Macao SAR, China</td><td style = \"text-align: left;\">Macao SAR, China</td></tr><tr><td class = \"rowNumber\" style = \"font-weight: bold; text-align: right;\">16</td><td style = \"text-align: left;\">MCO</td><td style = \"text-align: right;\">147</td><td style = \"text-align: left;\">Monaco</td><td style = \"text-align: right;\">6075</td><td style = \"text-align: left;\">Principality of Monaco</td><td style = \"text-align: left;\">High income: nonOECD</td><td style = \"text-align: left;\">Europe &amp; Central Asia</td><td style = \"font-style: italic; text-align: left;\">missing</td><td style = \"font-style: italic; text-align: left;\">missing</td><td style = \"text-align: left;\">Euro</td><td style = \"text-align: left;\">2008</td><td style = \"font-style: italic; text-align: left;\">missing</td><td style = \"font-style: italic; text-align: left;\">missing</td><td style = \"font-style: italic; text-align: left;\">missing</td><td style = \"font-style: italic; text-align: right;\">missing</td><td style = \"font-style: italic; text-align: right;\">missing</td><td style = \"font-style: italic; text-align: left;\">missing</td><td style = \"font-style: italic; text-align: left;\">missing</td><td style = \"font-style: italic; text-align: right;\">missing</td><td style = \"font-style: italic; text-align: left;\">missing</td><td style = \"font-style: italic; text-align: left;\">missing</td><td style = \"font-style: italic; text-align: left;\">missing</td><td style = \"font-style: italic; text-align: left;\">missing</td><td style = \"font-style: italic; text-align: left;\">missing</td><td style = \"font-style: italic; text-align: left;\">missing</td><td style = \"font-style: italic; text-align: left;\">missing</td><td style = \"font-style: italic; text-align: left;\">missing</td><td style = \"font-style: italic; text-align: right;\">missing</td><td style = \"font-style: italic; text-align: right;\">missing</td><td style = \"font-style: italic; text-align: right;\">missing</td><td style = \"text-align: left;\">MC</td><td style = \"text-align: left;\">MC</td><td style = \"text-align: left;\">Monaco</td><td style = \"text-align: left;\">Monaco</td></tr><tr><td class = \"rowNumber\" style = \"font-weight: bold; text-align: right;\">17</td><td style = \"text-align: left;\">MLT</td><td style = \"text-align: right;\">137</td><td style = \"text-align: left;\">Malta</td><td style = \"text-align: right;\">8722</td><td style = \"text-align: left;\">Republic of Malta</td><td style = \"text-align: left;\">High income: nonOECD</td><td style = \"text-align: left;\">Middle East &amp; North Africa</td><td style = \"font-style: italic; text-align: left;\">missing</td><td style = \"text-align: left;\">Euro area</td><td style = \"text-align: left;\">Euro (data reported in Maltese liri)</td><td style = \"text-align: left;\">2005</td><td style = \"font-style: italic; text-align: left;\">missing</td><td style = \"font-style: italic; text-align: left;\">missing</td><td style = \"text-align: left;\">1973</td><td style = \"font-style: italic; text-align: right;\">missing</td><td style = \"font-style: italic; text-align: right;\">missing</td><td style = \"text-align: left;\">VAB</td><td style = \"font-style: italic; text-align: left;\">missing</td><td style = \"text-align: right;\">2005</td><td style = \"text-align: left;\">BPM5</td><td style = \"font-style: italic; text-align: left;\">missing</td><td style = \"text-align: left;\">General</td><td style = \"text-align: left;\">Consolidated</td><td style = \"text-align: left;\">SDDS</td><td style = \"font-style: italic; text-align: left;\">missing</td><td style = \"text-align: left;\">Yes</td><td style = \"text-align: left;\">2001</td><td style = \"text-align: right;\">2004</td><td style = \"text-align: right;\">2008</td><td style = \"text-align: right;\">2000</td><td style = \"text-align: left;\">MT</td><td style = \"text-align: left;\">MT</td><td style = \"text-align: left;\">Malta</td><td style = \"text-align: left;\">Malta</td></tr><tr><td class = \"rowNumber\" style = \"font-weight: bold; text-align: right;\">18</td><td style = \"text-align: left;\">OMN</td><td style = \"text-align: right;\">66</td><td style = \"text-align: left;\">Oman</td><td style = \"text-align: right;\">69972</td><td style = \"text-align: left;\">Sultanate of Oman</td><td style = \"text-align: left;\">High income: nonOECD</td><td style = \"text-align: left;\">Middle East &amp; North Africa</td><td style = \"font-style: italic; text-align: left;\">missing</td><td style = \"font-style: italic; text-align: left;\">missing</td><td style = \"text-align: left;\">Rial Omani</td><td style = \"text-align: left;\">2003</td><td style = \"text-align: left;\">FHS, 1995</td><td style = \"font-style: italic; text-align: left;\">missing</td><td style = \"text-align: left;\">1988</td><td style = \"font-style: italic; text-align: right;\">missing</td><td style = \"font-style: italic; text-align: right;\">missing</td><td style = \"text-align: left;\">VAP</td><td style = \"font-style: italic; text-align: left;\">missing</td><td style = \"text-align: right;\">2005</td><td style = \"text-align: left;\">BPM5</td><td style = \"font-style: italic; text-align: left;\">missing</td><td style = \"text-align: left;\">General</td><td style = \"text-align: left;\">Budgetary</td><td style = \"text-align: left;\">GDDS</td><td style = \"font-style: italic; text-align: left;\">missing</td><td style = \"font-style: italic; text-align: left;\">missing</td><td style = \"text-align: left;\">1978-1979</td><td style = \"text-align: right;\">2005</td><td style = \"text-align: right;\">2008</td><td style = \"text-align: right;\">2003</td><td style = \"text-align: left;\">OM</td><td style = \"text-align: left;\">OM</td><td style = \"text-align: left;\">Oman</td><td style = \"text-align: left;\">Oman</td></tr><tr><td class = \"rowNumber\" style = \"font-weight: bold; text-align: right;\">19</td><td style = \"text-align: left;\">PRI</td><td style = \"text-align: right;\">61</td><td style = \"text-align: left;\">Puerto Rico</td><td style = \"text-align: right;\">101496</td><td style = \"text-align: left;\">Puerto Rico</td><td style = \"text-align: left;\">High income: nonOECD</td><td style = \"text-align: left;\">Latin America &amp; Caribbean</td><td style = \"font-style: italic; text-align: left;\">missing</td><td style = \"font-style: italic; text-align: left;\">missing</td><td style = \"text-align: left;\">U.S. dollar</td><td style = \"text-align: left;\">2000</td><td style = \"text-align: left;\">RHS, 1995/96</td><td style = \"text-align: left;\">Fiscal year end: June 30; reporting period for national accounts data: FY.</td><td style = \"text-align: left;\">1954</td><td style = \"font-style: italic; text-align: right;\">missing</td><td style = \"font-style: italic; text-align: right;\">missing</td><td style = \"text-align: left;\">VAP</td><td style = \"font-style: italic; text-align: left;\">missing</td><td style = \"font-style: italic; text-align: right;\">missing</td><td style = \"font-style: italic; text-align: left;\">missing</td><td style = \"font-style: italic; text-align: left;\">missing</td><td style = \"text-align: left;\">General</td><td style = \"font-style: italic; text-align: left;\">missing</td><td style = \"font-style: italic; text-align: left;\">missing</td><td style = \"font-style: italic; text-align: left;\">missing</td><td style = \"text-align: left;\">Yes</td><td style = \"text-align: left;\">1997/2002</td><td style = \"font-style: italic; text-align: right;\">missing</td><td style = \"font-style: italic; text-align: right;\">missing</td><td style = \"font-style: italic; text-align: right;\">missing</td><td style = \"text-align: left;\">PR</td><td style = \"text-align: left;\">PR</td><td style = \"text-align: left;\">Puerto Rico</td><td style = \"text-align: left;\">Puerto Rico</td></tr><tr><td class = \"rowNumber\" style = \"font-weight: bold; text-align: right;\">20</td><td style = \"text-align: left;\">QAT</td><td style = \"text-align: right;\">54</td><td style = \"text-align: left;\">Qatar</td><td style = \"text-align: right;\">171476</td><td style = \"text-align: left;\">State of Qatar</td><td style = \"text-align: left;\">High income: nonOECD</td><td style = \"text-align: left;\">Middle East &amp; North Africa</td><td style = \"font-style: italic; text-align: left;\">missing</td><td style = \"font-style: italic; text-align: left;\">missing</td><td style = \"text-align: left;\">Qatari riyal</td><td style = \"text-align: left;\">2004</td><td style = \"font-style: italic; text-align: left;\">missing</td><td style = \"font-style: italic; text-align: left;\">missing</td><td style = \"text-align: left;\">2001</td><td style = \"font-style: italic; text-align: right;\">missing</td><td style = \"font-style: italic; text-align: right;\">missing</td><td style = \"text-align: left;\">VAP</td><td style = \"font-style: italic; text-align: left;\">missing</td><td style = \"text-align: right;\">2005</td><td style = \"font-style: italic; text-align: left;\">missing</td><td style = \"font-style: italic; text-align: left;\">missing</td><td style = \"text-align: left;\">General</td><td style = \"text-align: left;\">Budgetary</td><td style = \"text-align: left;\">GDDS</td><td style = \"font-style: italic; text-align: left;\">missing</td><td style = \"text-align: left;\">Yes</td><td style = \"text-align: left;\">2000-2001</td><td style = \"text-align: right;\">2005</td><td style = \"text-align: right;\">2008</td><td style = \"text-align: right;\">2005</td><td style = \"text-align: left;\">QA</td><td style = \"text-align: left;\">QA</td><td style = \"text-align: left;\">Qatar</td><td style = \"text-align: left;\">Qatar</td></tr><tr><td class = \"rowNumber\" style = \"font-weight: bold; text-align: right;\">21</td><td style = \"text-align: left;\">SAU</td><td style = \"text-align: right;\">19</td><td style = \"text-align: left;\">Saudi Arabia</td><td style = \"text-align: right;\">711050</td><td style = \"text-align: left;\">Kingdom of Saudi Arabia</td><td style = \"text-align: left;\">High income: nonOECD</td><td style = \"text-align: left;\">Middle East &amp; North Africa</td><td style = \"font-style: italic; text-align: left;\">missing</td><td style = \"font-style: italic; text-align: left;\">missing</td><td style = \"text-align: left;\">Saudi Arabian riyal</td><td style = \"text-align: left;\">2004</td><td style = \"text-align: left;\">Demographic survey, 2007</td><td style = \"font-style: italic; text-align: left;\">missing</td><td style = \"text-align: left;\">1999</td><td style = \"font-style: italic; text-align: right;\">missing</td><td style = \"font-style: italic; text-align: right;\">missing</td><td style = \"text-align: left;\">VAP</td><td style = \"font-style: italic; text-align: left;\">missing</td><td style = \"text-align: right;\">2005</td><td style = \"text-align: left;\">BPM4</td><td style = \"font-style: italic; text-align: left;\">missing</td><td style = \"text-align: left;\">General</td><td style = \"font-style: italic; text-align: left;\">missing</td><td style = \"text-align: left;\">GDDS</td><td style = \"font-style: italic; text-align: left;\">missing</td><td style = \"font-style: italic; text-align: left;\">missing</td><td style = \"text-align: left;\">1999</td><td style = \"text-align: right;\">2005</td><td style = \"text-align: right;\">2007</td><td style = \"text-align: right;\">2006</td><td style = \"text-align: left;\">SA</td><td style = \"text-align: left;\">SA</td><td style = \"text-align: left;\">Saudi Arabia</td><td style = \"text-align: left;\">Saudi Arabia</td></tr><tr><td class = \"rowNumber\" style = \"font-weight: bold; text-align: right;\">22</td><td style = \"text-align: left;\">SGP</td><td style = \"text-align: right;\">35</td><td style = \"text-align: left;\">Singapore</td><td style = \"text-align: right;\">274701</td><td style = \"text-align: left;\">Republic of Singapore</td><td style = \"text-align: left;\">High income: nonOECD</td><td style = \"text-align: left;\">East Asia &amp; Pacific</td><td style = \"font-style: italic; text-align: left;\">missing</td><td style = \"font-style: italic; text-align: left;\">missing</td><td style = \"text-align: left;\">Singapore dollar</td><td style = \"text-align: left;\">2000</td><td style = \"text-align: left;\">General  household, 2005</td><td style = \"text-align: left;\">Fiscal year end: March 31; reporting period for national accounts data: CY.</td><td style = \"text-align: left;\">2000</td><td style = \"font-style: italic; text-align: right;\">missing</td><td style = \"text-align: right;\">1993</td><td style = \"text-align: left;\">VAB</td><td style = \"font-style: italic; text-align: left;\">missing</td><td style = \"text-align: right;\">2005</td><td style = \"text-align: left;\">BPM5</td><td style = \"font-style: italic; text-align: left;\">missing</td><td style = \"text-align: left;\">General</td><td style = \"text-align: left;\">Consolidated</td><td style = \"text-align: left;\">SDDS</td><td style = \"font-style: italic; text-align: left;\">missing</td><td style = \"text-align: left;\">Yes</td><td style = \"font-style: italic; text-align: left;\">missing</td><td style = \"text-align: right;\">2005</td><td style = \"text-align: right;\">2008</td><td style = \"font-style: italic; text-align: right;\">missing</td><td style = \"text-align: left;\">SG</td><td style = \"text-align: left;\">SG</td><td style = \"text-align: left;\">Singapore</td><td style = \"text-align: left;\">Singapore</td></tr><tr><td class = \"rowNumber\" style = \"font-weight: bold; text-align: right;\">23</td><td style = \"text-align: left;\">TTO</td><td style = \"text-align: right;\">101</td><td style = \"text-align: left;\">Trinidad and Tobago</td><td style = \"text-align: right;\">23320</td><td style = \"text-align: left;\">Republic of Trinidad and Tobago</td><td style = \"text-align: left;\">High income: nonOECD</td><td style = \"text-align: left;\">Latin America &amp; Caribbean</td><td style = \"text-align: left;\">IBRD</td><td style = \"font-style: italic; text-align: left;\">missing</td><td style = \"text-align: left;\">Trinidad and Tobago dollar</td><td style = \"text-align: left;\">2000</td><td style = \"text-align: left;\">MICS, 2006</td><td style = \"font-style: italic; text-align: left;\">missing</td><td style = \"text-align: left;\">2000</td><td style = \"font-style: italic; text-align: right;\">missing</td><td style = \"text-align: right;\">1993</td><td style = \"text-align: left;\">VAB</td><td style = \"font-style: italic; text-align: left;\">missing</td><td style = \"font-style: italic; text-align: right;\">missing</td><td style = \"text-align: left;\">BPM5</td><td style = \"font-style: italic; text-align: left;\">missing</td><td style = \"text-align: left;\">Special</td><td style = \"text-align: left;\">Consolidated</td><td style = \"text-align: left;\">GDDS</td><td style = \"text-align: left;\">IHS, 1992</td><td style = \"text-align: left;\">Yes</td><td style = \"text-align: left;\">2004</td><td style = \"text-align: right;\">2005</td><td style = \"text-align: right;\">2008</td><td style = \"text-align: right;\">2000</td><td style = \"text-align: left;\">TT</td><td style = \"text-align: left;\">TT</td><td style = \"text-align: left;\">Trinidad and Tobago</td><td style = \"text-align: left;\">Trinidad and Tobago</td></tr></tbody></table></div>"
      ],
      "text/latex": [
       "\\begin{tabular}{r|cccccc}\n",
       "\t& CountryCode & Rank & Country & US\\_dollars & Long Name & \\\\\n",
       "\t\\hline\n",
       "\t& String3 & Int64 & String31 & Int64 & String & \\\\\n",
       "\t\\hline\n",
       "\t1 & ABW & 161 & Aruba & 2584 & Aruba & $\\dots$ \\\\\n",
       "\t2 & ARE & 32 & United Arab Emirates & 348595 & United Arab Emirates & $\\dots$ \\\\\n",
       "\t3 & BHR & 93 & Bahrain & 29044 & Kingdom of Bahrain & $\\dots$ \\\\\n",
       "\t4 & BHS & 138 & Bahamas, The & 8149 & Commonwealth of The Bahamas & $\\dots$ \\\\\n",
       "\t5 & BMU & 149 & Bermuda & 5474 & The Bermudas & $\\dots$ \\\\\n",
       "\t6 & BRB & 153 & Barbados & 4225 & Barbados & $\\dots$ \\\\\n",
       "\t7 & BRN & 113 & Brunei Darussalam & 16954 & Brunei Darussalam & $\\dots$ \\\\\n",
       "\t8 & CYP & 102 & Cyprus & 22767 & Republic of Cyprus & $\\dots$ \\\\\n",
       "\t9 & EST & 103 & Estonia & 22390 & Republic of Estonia & $\\dots$ \\\\\n",
       "\t10 & GNQ & 110 & Equatorial Guinea & 17697 & Republic of Equatorial Guinea & $\\dots$ \\\\\n",
       "\t11 & HKG & 37 & Hong Kong SAR, China & 263259 & Hong Kong Special Administrative Region of the People's Republic of China & $\\dots$ \\\\\n",
       "\t12 & HRV & 71 & Croatia & 59228 & Republic of Croatia & $\\dots$ \\\\\n",
       "\t13 & KWT & 56 & Kuwait & 160913 & State of Kuwait & $\\dots$ \\\\\n",
       "\t14 & LVA & 94 & Latvia & 28373 & Republic of Latvia & $\\dots$ \\\\\n",
       "\t15 & MAC & 82 & Macao SAR, China & 43582 & Macao Special Administrative Region of the People's Republic of China & $\\dots$ \\\\\n",
       "\t16 & MCO & 147 & Monaco & 6075 & Principality of Monaco & $\\dots$ \\\\\n",
       "\t17 & MLT & 137 & Malta & 8722 & Republic of Malta & $\\dots$ \\\\\n",
       "\t18 & OMN & 66 & Oman & 69972 & Sultanate of Oman & $\\dots$ \\\\\n",
       "\t19 & PRI & 61 & Puerto Rico & 101496 & Puerto Rico & $\\dots$ \\\\\n",
       "\t20 & QAT & 54 & Qatar & 171476 & State of Qatar & $\\dots$ \\\\\n",
       "\t21 & SAU & 19 & Saudi Arabia & 711050 & Kingdom of Saudi Arabia & $\\dots$ \\\\\n",
       "\t22 & SGP & 35 & Singapore & 274701 & Republic of Singapore & $\\dots$ \\\\\n",
       "\t23 & TTO & 101 & Trinidad and Tobago & 23320 & Republic of Trinidad and Tobago & $\\dots$ \\\\\n",
       "\\end{tabular}\n"
      ],
      "text/plain": [
       "\u001b[1m23×34 DataFrame\u001b[0m\n",
       "\u001b[1m Row \u001b[0m│\u001b[1m CountryCode \u001b[0m\u001b[1m Rank  \u001b[0m\u001b[1m Country              \u001b[0m\u001b[1m US_dollars \u001b[0m\u001b[1m Long Name        \u001b[0m ⋯\n",
       "     │\u001b[90m String3     \u001b[0m\u001b[90m Int64 \u001b[0m\u001b[90m String31             \u001b[0m\u001b[90m Int64      \u001b[0m\u001b[90m String           \u001b[0m ⋯\n",
       "─────┼──────────────────────────────────────────────────────────────────────────\n",
       "   1 │ ABW            161  Aruba                       2584  Aruba             ⋯\n",
       "   2 │ ARE             32  United Arab Emirates      348595  United Arab Emira\n",
       "   3 │ BHR             93  Bahrain                    29044  Kingdom of Bahrai\n",
       "   4 │ BHS            138  Bahamas, The                8149  Commonwealth of T\n",
       "   5 │ BMU            149  Bermuda                     5474  The Bermudas      ⋯\n",
       "   6 │ BRB            153  Barbados                    4225  Barbados\n",
       "   7 │ BRN            113  Brunei Darussalam          16954  Brunei Darussalam\n",
       "   8 │ CYP            102  Cyprus                     22767  Republic of Cypru\n",
       "   9 │ EST            103  Estonia                    22390  Republic of Eston ⋯\n",
       "  10 │ GNQ            110  Equatorial Guinea          17697  Republic of Equat\n",
       "  11 │ HKG             37  Hong Kong SAR, China      263259  Hong Kong Special\n",
       "  ⋮  │      ⋮         ⋮             ⋮                ⋮                       ⋮ ⋱\n",
       "  14 │ LVA             94  Latvia                     28373  Republic of Latvi\n",
       "  15 │ MAC             82  Macao SAR, China           43582  Macao Special Adm ⋯\n",
       "  16 │ MCO            147  Monaco                      6075  Principality of M\n",
       "  17 │ MLT            137  Malta                       8722  Republic of Malta\n",
       "  18 │ OMN             66  Oman                       69972  Sultanate of Oman\n",
       "  19 │ PRI             61  Puerto Rico               101496  Puerto Rico       ⋯\n",
       "  20 │ QAT             54  Qatar                     171476  State of Qatar\n",
       "  21 │ SAU             19  Saudi Arabia              711050  Kingdom of Saudi\n",
       "  22 │ SGP             35  Singapore                 274701  Republic of Singa\n",
       "  23 │ TTO            101  Trinidad and Tobago        23320  Republic of Trini ⋯\n",
       "\u001b[36m                                                   30 columns and 2 rows omitted\u001b[0m"
      ]
     },
     "execution_count": 304,
     "metadata": {},
     "output_type": "execute_result"
    }
   ],
   "source": [
    "high_non = filter(row -> row.var\"Income Group\" == \"High income: nonOECD\", gdp_edu)"
   ]
  },
  {
   "cell_type": "code",
   "execution_count": 306,
   "id": "baa13b07",
   "metadata": {},
   "outputs": [
    {
     "data": {
      "text/plain": [
       "1-element Vector{Float64}:\n",
       " 91.91304347826087"
      ]
     },
     "execution_count": 306,
     "metadata": {},
     "output_type": "execute_result"
    }
   ],
   "source": [
    "mean.(eachcol(high_non.Rank))"
   ]
  },
  {
   "cell_type": "markdown",
   "id": "d0e7cef2",
   "metadata": {},
   "source": [
    "Answer is \n",
    "32.96667, 91.91304"
   ]
  },
  {
   "cell_type": "markdown",
   "id": "802424ef",
   "metadata": {},
   "source": [
    "## 5. \n",
    "Cut the GDP ranking into 5 separate quantile groups. Make a table versus Income.Group. How many countries are Lower middle income but among the 38 nations with highest GDP? "
   ]
  },
  {
   "cell_type": "markdown",
   "id": "ca678bf9",
   "metadata": {},
   "source": [
    "Let's see how the quantiles look - combine countmap() with cut(df, n)"
   ]
  },
  {
   "cell_type": "code",
   "execution_count": 323,
   "id": "c432b0c8",
   "metadata": {},
   "outputs": [
    {
     "data": {
      "text/plain": [
       "Dict{CategoricalValue{String, UInt32}, Int64} with 5 entries:\n",
       "  \"Q5: [152.4, 190.0]\" => 38\n",
       "  \"Q4: [113.8, 152.4)\" => 38\n",
       "  \"Q3: [76.2, 113.8)\"  => 37\n",
       "  \"Q2: [38.6, 76.2)\"   => 38\n",
       "  \"Q1: [1.0, 38.6)\"    => 38"
      ]
     },
     "execution_count": 323,
     "metadata": {},
     "output_type": "execute_result"
    }
   ],
   "source": [
    "countmap(cut(gdp_edu.Rank, 5))"
   ]
  },
  {
   "cell_type": "markdown",
   "id": "8d1dfc01",
   "metadata": {},
   "source": [
    "Add a new variable containing the quantile category that each row belongs to "
   ]
  },
  {
   "cell_type": "code",
   "execution_count": 312,
   "id": "2cfdf717",
   "metadata": {
    "collapsed": true,
    "jupyter": {
     "outputs_hidden": true
    }
   },
   "outputs": [
    {
     "data": {
      "text/plain": [
       "189-element CategoricalArray{String,1,UInt32}:\n",
       " \"Q5: [152.4, 190.0]\"\n",
       " \"Q3: [76.2, 113.8)\"\n",
       " \"Q2: [38.6, 76.2)\"\n",
       " \"Q4: [113.8, 152.4)\"\n",
       " \"Q1: [1.0, 38.6)\"\n",
       " \"Q1: [1.0, 38.6)\"\n",
       " \"Q4: [113.8, 152.4)\"\n",
       " \"Q5: [152.4, 190.0]\"\n",
       " \"Q1: [1.0, 38.6)\"\n",
       " \"Q1: [1.0, 38.6)\"\n",
       " \"Q2: [38.6, 76.2)\"\n",
       " \"Q5: [152.4, 190.0]\"\n",
       " \"Q1: [1.0, 38.6)\"\n",
       " ⋮\n",
       " \"Q1: [1.0, 38.6)\"\n",
       " \"Q2: [38.6, 76.2)\"\n",
       " \"Q5: [152.4, 190.0]\"\n",
       " \"Q1: [1.0, 38.6)\"\n",
       " \"Q2: [38.6, 76.2)\"\n",
       " \"Q5: [152.4, 190.0]\"\n",
       " \"Q5: [152.4, 190.0]\"\n",
       " \"Q3: [76.2, 113.8)\"\n",
       " \"Q1: [1.0, 38.6)\"\n",
       " \"Q3: [76.2, 113.8)\"\n",
       " \"Q3: [76.2, 113.8)\"\n",
       " \"Q4: [113.8, 152.4)\""
      ]
     },
     "execution_count": 312,
     "metadata": {},
     "output_type": "execute_result"
    }
   ],
   "source": [
    "gdp_edu.quartile = cut(gdp_edu.Rank, 5)"
   ]
  },
  {
   "cell_type": "markdown",
   "id": "e44e9ea1",
   "metadata": {},
   "source": [
    "Stack the variables - make a table, so that the new value column is differentiated by the income group"
   ]
  },
  {
   "cell_type": "code",
   "execution_count": 316,
   "id": "a34be7db",
   "metadata": {
    "collapsed": true,
    "jupyter": {
     "outputs_hidden": true
    }
   },
   "outputs": [
    {
     "data": {
      "text/html": [
       "<div><div style = \"float: left;\"><span>189×3 DataFrame</span></div><div style = \"float: right;\"><span style = \"font-style: italic;\">164 rows omitted</span></div><div style = \"clear: both;\"></div></div><div class = \"data-frame\" style = \"overflow-x: scroll;\"><table class = \"data-frame\" style = \"margin-bottom: 6px;\"><thead><tr class = \"header\"><th class = \"rowNumber\" style = \"font-weight: bold; text-align: right;\">Row</th><th style = \"text-align: left;\">quartile</th><th style = \"text-align: left;\">variable</th><th style = \"text-align: left;\">value</th></tr><tr class = \"subheader headerLastRow\"><th class = \"rowNumber\" style = \"font-weight: bold; text-align: right;\"></th><th title = \"CategoricalValue{String, UInt32}\" style = \"text-align: left;\">Cat…</th><th title = \"String\" style = \"text-align: left;\">String</th><th title = \"Union{Missing, String31}\" style = \"text-align: left;\">String31?</th></tr></thead><tbody><tr><td class = \"rowNumber\" style = \"font-weight: bold; text-align: right;\">1</td><td style = \"text-align: left;\">Q5: [152.4, 190.0]</td><td style = \"text-align: left;\">Income Group</td><td style = \"text-align: left;\">High income: nonOECD</td></tr><tr><td class = \"rowNumber\" style = \"font-weight: bold; text-align: right;\">2</td><td style = \"text-align: left;\">Q3: [76.2, 113.8)</td><td style = \"text-align: left;\">Income Group</td><td style = \"text-align: left;\">Low income</td></tr><tr><td class = \"rowNumber\" style = \"font-weight: bold; text-align: right;\">3</td><td style = \"text-align: left;\">Q2: [38.6, 76.2)</td><td style = \"text-align: left;\">Income Group</td><td style = \"text-align: left;\">Lower middle income</td></tr><tr><td class = \"rowNumber\" style = \"font-weight: bold; text-align: right;\">4</td><td style = \"text-align: left;\">Q4: [113.8, 152.4)</td><td style = \"text-align: left;\">Income Group</td><td style = \"text-align: left;\">Upper middle income</td></tr><tr><td class = \"rowNumber\" style = \"font-weight: bold; text-align: right;\">5</td><td style = \"text-align: left;\">Q1: [1.0, 38.6)</td><td style = \"text-align: left;\">Income Group</td><td style = \"text-align: left;\">High income: nonOECD</td></tr><tr><td class = \"rowNumber\" style = \"font-weight: bold; text-align: right;\">6</td><td style = \"text-align: left;\">Q1: [1.0, 38.6)</td><td style = \"text-align: left;\">Income Group</td><td style = \"text-align: left;\">Upper middle income</td></tr><tr><td class = \"rowNumber\" style = \"font-weight: bold; text-align: right;\">7</td><td style = \"text-align: left;\">Q4: [113.8, 152.4)</td><td style = \"text-align: left;\">Income Group</td><td style = \"text-align: left;\">Lower middle income</td></tr><tr><td class = \"rowNumber\" style = \"font-weight: bold; text-align: right;\">8</td><td style = \"text-align: left;\">Q5: [152.4, 190.0]</td><td style = \"text-align: left;\">Income Group</td><td style = \"text-align: left;\">Upper middle income</td></tr><tr><td class = \"rowNumber\" style = \"font-weight: bold; text-align: right;\">9</td><td style = \"text-align: left;\">Q1: [1.0, 38.6)</td><td style = \"text-align: left;\">Income Group</td><td style = \"text-align: left;\">High income: OECD</td></tr><tr><td class = \"rowNumber\" style = \"font-weight: bold; text-align: right;\">10</td><td style = \"text-align: left;\">Q1: [1.0, 38.6)</td><td style = \"text-align: left;\">Income Group</td><td style = \"text-align: left;\">High income: OECD</td></tr><tr><td class = \"rowNumber\" style = \"font-weight: bold; text-align: right;\">11</td><td style = \"text-align: left;\">Q2: [38.6, 76.2)</td><td style = \"text-align: left;\">Income Group</td><td style = \"text-align: left;\">Upper middle income</td></tr><tr><td class = \"rowNumber\" style = \"font-weight: bold; text-align: right;\">12</td><td style = \"text-align: left;\">Q5: [152.4, 190.0]</td><td style = \"text-align: left;\">Income Group</td><td style = \"text-align: left;\">Low income</td></tr><tr><td class = \"rowNumber\" style = \"font-weight: bold; text-align: right;\">13</td><td style = \"text-align: left;\">Q1: [1.0, 38.6)</td><td style = \"text-align: left;\">Income Group</td><td style = \"text-align: left;\">High income: OECD</td></tr><tr><td style = \"text-align: right;\">&vellip;</td><td style = \"text-align: right;\">&vellip;</td><td style = \"text-align: right;\">&vellip;</td><td style = \"text-align: right;\">&vellip;</td></tr><tr><td class = \"rowNumber\" style = \"font-weight: bold; text-align: right;\">178</td><td style = \"text-align: left;\">Q1: [1.0, 38.6)</td><td style = \"text-align: left;\">Income Group</td><td style = \"text-align: left;\">High income: OECD</td></tr><tr><td class = \"rowNumber\" style = \"font-weight: bold; text-align: right;\">179</td><td style = \"text-align: left;\">Q2: [38.6, 76.2)</td><td style = \"text-align: left;\">Income Group</td><td style = \"text-align: left;\">Lower middle income</td></tr><tr><td class = \"rowNumber\" style = \"font-weight: bold; text-align: right;\">180</td><td style = \"text-align: left;\">Q5: [152.4, 190.0]</td><td style = \"text-align: left;\">Income Group</td><td style = \"text-align: left;\">Upper middle income</td></tr><tr><td class = \"rowNumber\" style = \"font-weight: bold; text-align: right;\">181</td><td style = \"text-align: left;\">Q1: [1.0, 38.6)</td><td style = \"text-align: left;\">Income Group</td><td style = \"text-align: left;\">Upper middle income</td></tr><tr><td class = \"rowNumber\" style = \"font-weight: bold; text-align: right;\">182</td><td style = \"text-align: left;\">Q2: [38.6, 76.2)</td><td style = \"text-align: left;\">Income Group</td><td style = \"text-align: left;\">Lower middle income</td></tr><tr><td class = \"rowNumber\" style = \"font-weight: bold; text-align: right;\">183</td><td style = \"text-align: left;\">Q5: [152.4, 190.0]</td><td style = \"text-align: left;\">Income Group</td><td style = \"text-align: left;\">Lower middle income</td></tr><tr><td class = \"rowNumber\" style = \"font-weight: bold; text-align: right;\">184</td><td style = \"text-align: left;\">Q5: [152.4, 190.0]</td><td style = \"text-align: left;\">Income Group</td><td style = \"text-align: left;\">Lower middle income</td></tr><tr><td class = \"rowNumber\" style = \"font-weight: bold; text-align: right;\">185</td><td style = \"text-align: left;\">Q3: [76.2, 113.8)</td><td style = \"text-align: left;\">Income Group</td><td style = \"text-align: left;\">Lower middle income</td></tr><tr><td class = \"rowNumber\" style = \"font-weight: bold; text-align: right;\">186</td><td style = \"text-align: left;\">Q1: [1.0, 38.6)</td><td style = \"text-align: left;\">Income Group</td><td style = \"text-align: left;\">Upper middle income</td></tr><tr><td class = \"rowNumber\" style = \"font-weight: bold; text-align: right;\">187</td><td style = \"text-align: left;\">Q3: [76.2, 113.8)</td><td style = \"text-align: left;\">Income Group</td><td style = \"text-align: left;\">Low income</td></tr><tr><td class = \"rowNumber\" style = \"font-weight: bold; text-align: right;\">188</td><td style = \"text-align: left;\">Q3: [76.2, 113.8)</td><td style = \"text-align: left;\">Income Group</td><td style = \"text-align: left;\">Low income</td></tr><tr><td class = \"rowNumber\" style = \"font-weight: bold; text-align: right;\">189</td><td style = \"text-align: left;\">Q4: [113.8, 152.4)</td><td style = \"text-align: left;\">Income Group</td><td style = \"text-align: left;\">Low income</td></tr></tbody></table></div>"
      ],
      "text/latex": [
       "\\begin{tabular}{r|ccc}\n",
       "\t& quartile & variable & value\\\\\n",
       "\t\\hline\n",
       "\t& Cat… & String & String31?\\\\\n",
       "\t\\hline\n",
       "\t1 & Q5: [152.4, 190.0] & Income Group & High income: nonOECD \\\\\n",
       "\t2 & Q3: [76.2, 113.8) & Income Group & Low income \\\\\n",
       "\t3 & Q2: [38.6, 76.2) & Income Group & Lower middle income \\\\\n",
       "\t4 & Q4: [113.8, 152.4) & Income Group & Upper middle income \\\\\n",
       "\t5 & Q1: [1.0, 38.6) & Income Group & High income: nonOECD \\\\\n",
       "\t6 & Q1: [1.0, 38.6) & Income Group & Upper middle income \\\\\n",
       "\t7 & Q4: [113.8, 152.4) & Income Group & Lower middle income \\\\\n",
       "\t8 & Q5: [152.4, 190.0] & Income Group & Upper middle income \\\\\n",
       "\t9 & Q1: [1.0, 38.6) & Income Group & High income: OECD \\\\\n",
       "\t10 & Q1: [1.0, 38.6) & Income Group & High income: OECD \\\\\n",
       "\t11 & Q2: [38.6, 76.2) & Income Group & Upper middle income \\\\\n",
       "\t12 & Q5: [152.4, 190.0] & Income Group & Low income \\\\\n",
       "\t13 & Q1: [1.0, 38.6) & Income Group & High income: OECD \\\\\n",
       "\t14 & Q4: [113.8, 152.4) & Income Group & Low income \\\\\n",
       "\t15 & Q4: [113.8, 152.4) & Income Group & Low income \\\\\n",
       "\t16 & Q2: [38.6, 76.2) & Income Group & Low income \\\\\n",
       "\t17 & Q2: [38.6, 76.2) & Income Group & Upper middle income \\\\\n",
       "\t18 & Q3: [76.2, 113.8) & Income Group & High income: nonOECD \\\\\n",
       "\t19 & Q4: [113.8, 152.4) & Income Group & High income: nonOECD \\\\\n",
       "\t20 & Q3: [76.2, 113.8) & Income Group & Upper middle income \\\\\n",
       "\t21 & Q2: [38.6, 76.2) & Income Group & Upper middle income \\\\\n",
       "\t22 & Q5: [152.4, 190.0] & Income Group & Lower middle income \\\\\n",
       "\t23 & Q4: [113.8, 152.4) & Income Group & High income: nonOECD \\\\\n",
       "\t24 & Q3: [76.2, 113.8) & Income Group & Lower middle income \\\\\n",
       "\t25 & Q1: [1.0, 38.6) & Income Group & Upper middle income \\\\\n",
       "\t26 & Q5: [152.4, 190.0] & Income Group & High income: nonOECD \\\\\n",
       "\t27 & Q3: [76.2, 113.8) & Income Group & High income: nonOECD \\\\\n",
       "\t28 & Q5: [152.4, 190.0] & Income Group & Lower middle income \\\\\n",
       "\t29 & Q4: [113.8, 152.4) & Income Group & Upper middle income \\\\\n",
       "\t30 & Q5: [152.4, 190.0] & Income Group & Low income \\\\\n",
       "\t$\\dots$ & $\\dots$ & $\\dots$ & $\\dots$ \\\\\n",
       "\\end{tabular}\n"
      ],
      "text/plain": [
       "\u001b[1m189×3 DataFrame\u001b[0m\n",
       "\u001b[1m Row \u001b[0m│\u001b[1m quartile           \u001b[0m\u001b[1m variable     \u001b[0m\u001b[1m value                \u001b[0m\n",
       "     │\u001b[90m Cat…               \u001b[0m\u001b[90m String       \u001b[0m\u001b[90m String31?            \u001b[0m\n",
       "─────┼────────────────────────────────────────────────────────\n",
       "   1 │ Q5: [152.4, 190.0]  Income Group  High income: nonOECD\n",
       "   2 │ Q3: [76.2, 113.8)   Income Group  Low income\n",
       "   3 │ Q2: [38.6, 76.2)    Income Group  Lower middle income\n",
       "   4 │ Q4: [113.8, 152.4)  Income Group  Upper middle income\n",
       "   5 │ Q1: [1.0, 38.6)     Income Group  High income: nonOECD\n",
       "   6 │ Q1: [1.0, 38.6)     Income Group  Upper middle income\n",
       "   7 │ Q4: [113.8, 152.4)  Income Group  Lower middle income\n",
       "   8 │ Q5: [152.4, 190.0]  Income Group  Upper middle income\n",
       "   9 │ Q1: [1.0, 38.6)     Income Group  High income: OECD\n",
       "  10 │ Q1: [1.0, 38.6)     Income Group  High income: OECD\n",
       "  11 │ Q2: [38.6, 76.2)    Income Group  Upper middle income\n",
       "  ⋮  │         ⋮                ⋮                 ⋮\n",
       " 180 │ Q5: [152.4, 190.0]  Income Group  Upper middle income\n",
       " 181 │ Q1: [1.0, 38.6)     Income Group  Upper middle income\n",
       " 182 │ Q2: [38.6, 76.2)    Income Group  Lower middle income\n",
       " 183 │ Q5: [152.4, 190.0]  Income Group  Lower middle income\n",
       " 184 │ Q5: [152.4, 190.0]  Income Group  Lower middle income\n",
       " 185 │ Q3: [76.2, 113.8)   Income Group  Lower middle income\n",
       " 186 │ Q1: [1.0, 38.6)     Income Group  Upper middle income\n",
       " 187 │ Q3: [76.2, 113.8)   Income Group  Low income\n",
       " 188 │ Q3: [76.2, 113.8)   Income Group  Low income\n",
       " 189 │ Q4: [113.8, 152.4)  Income Group  Low income\n",
       "\u001b[36m                                              168 rows omitted\u001b[0m"
      ]
     },
     "execution_count": 316,
     "metadata": {},
     "output_type": "execute_result"
    }
   ],
   "source": [
    "stacked_income_quartile = stack(gdp_edu, :\"Income Group\", :quartile)"
   ]
  },
  {
   "cell_type": "markdown",
   "id": "aace3305",
   "metadata": {},
   "source": [
    "Subset the dataframe so that only the lower middle income entries are reatined"
   ]
  },
  {
   "cell_type": "code",
   "execution_count": 328,
   "id": "3804c393",
   "metadata": {
    "collapsed": true,
    "jupyter": {
     "outputs_hidden": true
    }
   },
   "outputs": [
    {
     "data": {
      "text/html": [
       "<div><div style = \"float: left;\"><span>54×3 DataFrame</span></div><div style = \"float: right;\"><span style = \"font-style: italic;\">29 rows omitted</span></div><div style = \"clear: both;\"></div></div><div class = \"data-frame\" style = \"overflow-x: scroll;\"><table class = \"data-frame\" style = \"margin-bottom: 6px;\"><thead><tr class = \"header\"><th class = \"rowNumber\" style = \"font-weight: bold; text-align: right;\">Row</th><th style = \"text-align: left;\">quartile</th><th style = \"text-align: left;\">variable</th><th style = \"text-align: left;\">value</th></tr><tr class = \"subheader headerLastRow\"><th class = \"rowNumber\" style = \"font-weight: bold; text-align: right;\"></th><th title = \"CategoricalValue{String, UInt32}\" style = \"text-align: left;\">Cat…</th><th title = \"String\" style = \"text-align: left;\">String</th><th title = \"Union{Missing, String31}\" style = \"text-align: left;\">String31?</th></tr></thead><tbody><tr><td class = \"rowNumber\" style = \"font-weight: bold; text-align: right;\">1</td><td style = \"text-align: left;\">Q2: [38.6, 76.2)</td><td style = \"text-align: left;\">Income Group</td><td style = \"text-align: left;\">Lower middle income</td></tr><tr><td class = \"rowNumber\" style = \"font-weight: bold; text-align: right;\">2</td><td style = \"text-align: left;\">Q4: [113.8, 152.4)</td><td style = \"text-align: left;\">Income Group</td><td style = \"text-align: left;\">Lower middle income</td></tr><tr><td class = \"rowNumber\" style = \"font-weight: bold; text-align: right;\">3</td><td style = \"text-align: left;\">Q5: [152.4, 190.0]</td><td style = \"text-align: left;\">Income Group</td><td style = \"text-align: left;\">Lower middle income</td></tr><tr><td class = \"rowNumber\" style = \"font-weight: bold; text-align: right;\">4</td><td style = \"text-align: left;\">Q3: [76.2, 113.8)</td><td style = \"text-align: left;\">Income Group</td><td style = \"text-align: left;\">Lower middle income</td></tr><tr><td class = \"rowNumber\" style = \"font-weight: bold; text-align: right;\">5</td><td style = \"text-align: left;\">Q5: [152.4, 190.0]</td><td style = \"text-align: left;\">Income Group</td><td style = \"text-align: left;\">Lower middle income</td></tr><tr><td class = \"rowNumber\" style = \"font-weight: bold; text-align: right;\">6</td><td style = \"text-align: left;\">Q1: [1.0, 38.6)</td><td style = \"text-align: left;\">Income Group</td><td style = \"text-align: left;\">Lower middle income</td></tr><tr><td class = \"rowNumber\" style = \"font-weight: bold; text-align: right;\">7</td><td style = \"text-align: left;\">Q3: [76.2, 113.8)</td><td style = \"text-align: left;\">Income Group</td><td style = \"text-align: left;\">Lower middle income</td></tr><tr><td class = \"rowNumber\" style = \"font-weight: bold; text-align: right;\">8</td><td style = \"text-align: left;\">Q3: [76.2, 113.8)</td><td style = \"text-align: left;\">Income Group</td><td style = \"text-align: left;\">Lower middle income</td></tr><tr><td class = \"rowNumber\" style = \"font-weight: bold; text-align: right;\">9</td><td style = \"text-align: left;\">Q4: [113.8, 152.4)</td><td style = \"text-align: left;\">Income Group</td><td style = \"text-align: left;\">Lower middle income</td></tr><tr><td class = \"rowNumber\" style = \"font-weight: bold; text-align: right;\">10</td><td style = \"text-align: left;\">Q5: [152.4, 190.0]</td><td style = \"text-align: left;\">Income Group</td><td style = \"text-align: left;\">Lower middle income</td></tr><tr><td class = \"rowNumber\" style = \"font-weight: bold; text-align: right;\">11</td><td style = \"text-align: left;\">Q2: [38.6, 76.2)</td><td style = \"text-align: left;\">Income Group</td><td style = \"text-align: left;\">Lower middle income</td></tr><tr><td class = \"rowNumber\" style = \"font-weight: bold; text-align: right;\">12</td><td style = \"text-align: left;\">Q1: [1.0, 38.6)</td><td style = \"text-align: left;\">Income Group</td><td style = \"text-align: left;\">Lower middle income</td></tr><tr><td class = \"rowNumber\" style = \"font-weight: bold; text-align: right;\">13</td><td style = \"text-align: left;\">Q5: [152.4, 190.0]</td><td style = \"text-align: left;\">Income Group</td><td style = \"text-align: left;\">Lower middle income</td></tr><tr><td style = \"text-align: right;\">&vellip;</td><td style = \"text-align: right;\">&vellip;</td><td style = \"text-align: right;\">&vellip;</td><td style = \"text-align: right;\">&vellip;</td></tr><tr><td class = \"rowNumber\" style = \"font-weight: bold; text-align: right;\">43</td><td style = \"text-align: left;\">Q1: [1.0, 38.6)</td><td style = \"text-align: left;\">Income Group</td><td style = \"text-align: left;\">Lower middle income</td></tr><tr><td class = \"rowNumber\" style = \"font-weight: bold; text-align: right;\">44</td><td style = \"text-align: left;\">Q3: [76.2, 113.8)</td><td style = \"text-align: left;\">Income Group</td><td style = \"text-align: left;\">Lower middle income</td></tr><tr><td class = \"rowNumber\" style = \"font-weight: bold; text-align: right;\">45</td><td style = \"text-align: left;\">Q5: [152.4, 190.0]</td><td style = \"text-align: left;\">Income Group</td><td style = \"text-align: left;\">Lower middle income</td></tr><tr><td class = \"rowNumber\" style = \"font-weight: bold; text-align: right;\">46</td><td style = \"text-align: left;\">Q5: [152.4, 190.0]</td><td style = \"text-align: left;\">Income Group</td><td style = \"text-align: left;\">Lower middle income</td></tr><tr><td class = \"rowNumber\" style = \"font-weight: bold; text-align: right;\">47</td><td style = \"text-align: left;\">Q3: [76.2, 113.8)</td><td style = \"text-align: left;\">Income Group</td><td style = \"text-align: left;\">Lower middle income</td></tr><tr><td class = \"rowNumber\" style = \"font-weight: bold; text-align: right;\">48</td><td style = \"text-align: left;\">Q5: [152.4, 190.0]</td><td style = \"text-align: left;\">Income Group</td><td style = \"text-align: left;\">Lower middle income</td></tr><tr><td class = \"rowNumber\" style = \"font-weight: bold; text-align: right;\">49</td><td style = \"text-align: left;\">Q2: [38.6, 76.2)</td><td style = \"text-align: left;\">Income Group</td><td style = \"text-align: left;\">Lower middle income</td></tr><tr><td class = \"rowNumber\" style = \"font-weight: bold; text-align: right;\">50</td><td style = \"text-align: left;\">Q2: [38.6, 76.2)</td><td style = \"text-align: left;\">Income Group</td><td style = \"text-align: left;\">Lower middle income</td></tr><tr><td class = \"rowNumber\" style = \"font-weight: bold; text-align: right;\">51</td><td style = \"text-align: left;\">Q2: [38.6, 76.2)</td><td style = \"text-align: left;\">Income Group</td><td style = \"text-align: left;\">Lower middle income</td></tr><tr><td class = \"rowNumber\" style = \"font-weight: bold; text-align: right;\">52</td><td style = \"text-align: left;\">Q5: [152.4, 190.0]</td><td style = \"text-align: left;\">Income Group</td><td style = \"text-align: left;\">Lower middle income</td></tr><tr><td class = \"rowNumber\" style = \"font-weight: bold; text-align: right;\">53</td><td style = \"text-align: left;\">Q5: [152.4, 190.0]</td><td style = \"text-align: left;\">Income Group</td><td style = \"text-align: left;\">Lower middle income</td></tr><tr><td class = \"rowNumber\" style = \"font-weight: bold; text-align: right;\">54</td><td style = \"text-align: left;\">Q3: [76.2, 113.8)</td><td style = \"text-align: left;\">Income Group</td><td style = \"text-align: left;\">Lower middle income</td></tr></tbody></table></div>"
      ],
      "text/latex": [
       "\\begin{tabular}{r|ccc}\n",
       "\t& quartile & variable & value\\\\\n",
       "\t\\hline\n",
       "\t& Cat… & String & String31?\\\\\n",
       "\t\\hline\n",
       "\t1 & Q2: [38.6, 76.2) & Income Group & Lower middle income \\\\\n",
       "\t2 & Q4: [113.8, 152.4) & Income Group & Lower middle income \\\\\n",
       "\t3 & Q5: [152.4, 190.0] & Income Group & Lower middle income \\\\\n",
       "\t4 & Q3: [76.2, 113.8) & Income Group & Lower middle income \\\\\n",
       "\t5 & Q5: [152.4, 190.0] & Income Group & Lower middle income \\\\\n",
       "\t6 & Q1: [1.0, 38.6) & Income Group & Lower middle income \\\\\n",
       "\t7 & Q3: [76.2, 113.8) & Income Group & Lower middle income \\\\\n",
       "\t8 & Q3: [76.2, 113.8) & Income Group & Lower middle income \\\\\n",
       "\t9 & Q4: [113.8, 152.4) & Income Group & Lower middle income \\\\\n",
       "\t10 & Q5: [152.4, 190.0] & Income Group & Lower middle income \\\\\n",
       "\t11 & Q2: [38.6, 76.2) & Income Group & Lower middle income \\\\\n",
       "\t12 & Q1: [1.0, 38.6) & Income Group & Lower middle income \\\\\n",
       "\t13 & Q5: [152.4, 190.0] & Income Group & Lower middle income \\\\\n",
       "\t14 & Q4: [113.8, 152.4) & Income Group & Lower middle income \\\\\n",
       "\t15 & Q3: [76.2, 113.8) & Income Group & Lower middle income \\\\\n",
       "\t16 & Q5: [152.4, 190.0] & Income Group & Lower middle income \\\\\n",
       "\t17 & Q3: [76.2, 113.8) & Income Group & Lower middle income \\\\\n",
       "\t18 & Q1: [1.0, 38.6) & Income Group & Lower middle income \\\\\n",
       "\t19 & Q1: [1.0, 38.6) & Income Group & Lower middle income \\\\\n",
       "\t20 & Q2: [38.6, 76.2) & Income Group & Lower middle income \\\\\n",
       "\t21 & Q3: [76.2, 113.8) & Income Group & Lower middle income \\\\\n",
       "\t22 & Q5: [152.4, 190.0] & Income Group & Lower middle income \\\\\n",
       "\t23 & Q4: [113.8, 152.4) & Income Group & Lower middle income \\\\\n",
       "\t24 & Q2: [38.6, 76.2) & Income Group & Lower middle income \\\\\n",
       "\t25 & Q5: [152.4, 190.0] & Income Group & Lower middle income \\\\\n",
       "\t26 & Q2: [38.6, 76.2) & Income Group & Lower middle income \\\\\n",
       "\t27 & Q4: [113.8, 152.4) & Income Group & Lower middle income \\\\\n",
       "\t28 & Q5: [152.4, 190.0] & Income Group & Lower middle income \\\\\n",
       "\t29 & Q5: [152.4, 190.0] & Income Group & Lower middle income \\\\\n",
       "\t30 & Q4: [113.8, 152.4) & Income Group & Lower middle income \\\\\n",
       "\t$\\dots$ & $\\dots$ & $\\dots$ & $\\dots$ \\\\\n",
       "\\end{tabular}\n"
      ],
      "text/plain": [
       "\u001b[1m54×3 DataFrame\u001b[0m\n",
       "\u001b[1m Row \u001b[0m│\u001b[1m quartile           \u001b[0m\u001b[1m variable     \u001b[0m\u001b[1m value               \u001b[0m\n",
       "     │\u001b[90m Cat…               \u001b[0m\u001b[90m String       \u001b[0m\u001b[90m String31?           \u001b[0m\n",
       "─────┼───────────────────────────────────────────────────────\n",
       "   1 │ Q2: [38.6, 76.2)    Income Group  Lower middle income\n",
       "   2 │ Q4: [113.8, 152.4)  Income Group  Lower middle income\n",
       "   3 │ Q5: [152.4, 190.0]  Income Group  Lower middle income\n",
       "   4 │ Q3: [76.2, 113.8)   Income Group  Lower middle income\n",
       "   5 │ Q5: [152.4, 190.0]  Income Group  Lower middle income\n",
       "   6 │ Q1: [1.0, 38.6)     Income Group  Lower middle income\n",
       "   7 │ Q3: [76.2, 113.8)   Income Group  Lower middle income\n",
       "   8 │ Q3: [76.2, 113.8)   Income Group  Lower middle income\n",
       "   9 │ Q4: [113.8, 152.4)  Income Group  Lower middle income\n",
       "  10 │ Q5: [152.4, 190.0]  Income Group  Lower middle income\n",
       "  11 │ Q2: [38.6, 76.2)    Income Group  Lower middle income\n",
       "  ⋮  │         ⋮                ⋮                 ⋮\n",
       "  45 │ Q5: [152.4, 190.0]  Income Group  Lower middle income\n",
       "  46 │ Q5: [152.4, 190.0]  Income Group  Lower middle income\n",
       "  47 │ Q3: [76.2, 113.8)   Income Group  Lower middle income\n",
       "  48 │ Q5: [152.4, 190.0]  Income Group  Lower middle income\n",
       "  49 │ Q2: [38.6, 76.2)    Income Group  Lower middle income\n",
       "  50 │ Q2: [38.6, 76.2)    Income Group  Lower middle income\n",
       "  51 │ Q2: [38.6, 76.2)    Income Group  Lower middle income\n",
       "  52 │ Q5: [152.4, 190.0]  Income Group  Lower middle income\n",
       "  53 │ Q5: [152.4, 190.0]  Income Group  Lower middle income\n",
       "  54 │ Q3: [76.2, 113.8)   Income Group  Lower middle income\n",
       "\u001b[36m                                              33 rows omitted\u001b[0m"
      ]
     },
     "execution_count": 328,
     "metadata": {},
     "output_type": "execute_result"
    }
   ],
   "source": [
    "lower_middle_income_quartile = filter(row -> row.value == \"Lower middle income\", stacked_income_quartile)"
   ]
  },
  {
   "cell_type": "markdown",
   "id": "8fd3b980",
   "metadata": {},
   "source": [
    "Now perform a final countmap() on the newly added quartile variable to answer our question - how many lower middle income countries belong to the upper ranges of the GDP quartile?!"
   ]
  },
  {
   "cell_type": "code",
   "execution_count": 329,
   "id": "a9eec6c2",
   "metadata": {},
   "outputs": [
    {
     "data": {
      "text/plain": [
       "Dict{CategoricalValue{String, UInt32}, Int64} with 5 entries:\n",
       "  \"Q4: [113.8, 152.4)\" => 9\n",
       "  \"Q5: [152.4, 190.0]\" => 16\n",
       "  \"Q3: [76.2, 113.8)\"  => 11\n",
       "  \"Q2: [38.6, 76.2)\"   => 13\n",
       "  \"Q1: [1.0, 38.6)\"    => 5"
      ]
     },
     "execution_count": 329,
     "metadata": {},
     "output_type": "execute_result"
    }
   ],
   "source": [
    "countmap(lower_middle_income_quartile.quartile)"
   ]
  },
  {
   "cell_type": "markdown",
   "id": "d95753b7",
   "metadata": {},
   "source": [
    "The answer is 5 ! "
   ]
  }
 ],
 "metadata": {
  "kernelspec": {
   "display_name": "Julia 1.10.0",
   "language": "julia",
   "name": "julia-1.10"
  },
  "language_info": {
   "file_extension": ".jl",
   "mimetype": "application/julia",
   "name": "julia",
   "version": "1.10.0"
  }
 },
 "nbformat": 4,
 "nbformat_minor": 5
}
