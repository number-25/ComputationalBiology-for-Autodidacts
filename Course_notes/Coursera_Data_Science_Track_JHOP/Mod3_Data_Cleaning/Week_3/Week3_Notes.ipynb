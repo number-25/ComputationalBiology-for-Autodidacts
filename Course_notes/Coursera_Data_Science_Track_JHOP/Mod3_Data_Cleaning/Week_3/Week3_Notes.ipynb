{
 "cells": [
  {
   "cell_type": "markdown",
   "id": "095cc47c",
   "metadata": {},
   "source": [
    "# Week 3 Notes - Getting and Cleaning Data"
   ]
  },
  {
   "cell_type": "markdown",
   "id": "46c70875",
   "metadata": {},
   "source": [
    "## Subsetting and Sorting\n",
    "Time to wrangle and mould our datasets to our desires. Create a basic dataframe, reshjuffle the contents of the columns and then insert some NA values too. \n",
    "```R\n",
    "set.seed(1345)\n",
    "X <- data.frame(\"var1\"=sample(1:5), \"var2\"=sample(6:10), \"var3\"=sample(11:15))\n",
    "X <- X[sample(1:5),]; X$var2[c(1,3)] = NA\n",
    "``` "
   ]
  },
  {
   "cell_type": "markdown",
   "id": "53b9c293",
   "metadata": {},
   "source": [
    "In Julia"
   ]
  },
  {
   "cell_type": "code",
   "execution_count": 6,
   "id": "66aff65d",
   "metadata": {},
   "outputs": [],
   "source": [
    "using DataFrames, CSV"
   ]
  },
  {
   "cell_type": "code",
   "execution_count": 10,
   "id": "cc33e0a9",
   "metadata": {
    "scrolled": true
   },
   "outputs": [
    {
     "data": {
      "text/html": [
       "<div><div style = \"float: left;\"><span>5×3 DataFrame</span></div><div style = \"clear: both;\"></div></div><div class = \"data-frame\" style = \"overflow-x: scroll;\"><table class = \"data-frame\" style = \"margin-bottom: 6px;\"><thead><tr class = \"header\"><th class = \"rowNumber\" style = \"font-weight: bold; text-align: right;\">Row</th><th style = \"text-align: left;\">col1</th><th style = \"text-align: left;\">col2</th><th style = \"text-align: left;\">col3</th></tr><tr class = \"subheader headerLastRow\"><th class = \"rowNumber\" style = \"font-weight: bold; text-align: right;\"></th><th title = \"Int64\" style = \"text-align: left;\">Int64</th><th title = \"Int64\" style = \"text-align: left;\">Int64</th><th title = \"Union{Missing, Int64}\" style = \"text-align: left;\">Int64?</th></tr></thead><tbody><tr><td class = \"rowNumber\" style = \"font-weight: bold; text-align: right;\">1</td><td style = \"text-align: right;\">6</td><td style = \"text-align: right;\">25</td><td style = \"font-style: italic; text-align: right;\">missing</td></tr><tr><td class = \"rowNumber\" style = \"font-weight: bold; text-align: right;\">2</td><td style = \"text-align: right;\">19</td><td style = \"text-align: right;\">14</td><td style = \"font-style: italic; text-align: right;\">missing</td></tr><tr><td class = \"rowNumber\" style = \"font-weight: bold; text-align: right;\">3</td><td style = \"text-align: right;\">3</td><td style = \"text-align: right;\">4</td><td style = \"text-align: right;\">5</td></tr><tr><td class = \"rowNumber\" style = \"font-weight: bold; text-align: right;\">4</td><td style = \"text-align: right;\">18</td><td style = \"text-align: right;\">9</td><td style = \"text-align: right;\">4</td></tr><tr><td class = \"rowNumber\" style = \"font-weight: bold; text-align: right;\">5</td><td style = \"text-align: right;\">1</td><td style = \"text-align: right;\">13</td><td style = \"text-align: right;\">21</td></tr></tbody></table></div>"
      ],
      "text/latex": [
       "\\begin{tabular}{r|ccc}\n",
       "\t& col1 & col2 & col3\\\\\n",
       "\t\\hline\n",
       "\t& Int64 & Int64 & Int64?\\\\\n",
       "\t\\hline\n",
       "\t1 & 6 & 25 & \\emph{missing} \\\\\n",
       "\t2 & 19 & 14 & \\emph{missing} \\\\\n",
       "\t3 & 3 & 4 & 5 \\\\\n",
       "\t4 & 18 & 9 & 4 \\\\\n",
       "\t5 & 1 & 13 & 21 \\\\\n",
       "\\end{tabular}\n"
      ],
      "text/plain": [
       "\u001b[1m5×3 DataFrame\u001b[0m\n",
       "\u001b[1m Row \u001b[0m│\u001b[1m col1  \u001b[0m\u001b[1m col2  \u001b[0m\u001b[1m col3    \u001b[0m\n",
       "     │\u001b[90m Int64 \u001b[0m\u001b[90m Int64 \u001b[0m\u001b[90m Int64?  \u001b[0m\n",
       "─────┼───────────────────────\n",
       "   1 │     6     25 \u001b[90m missing \u001b[0m\n",
       "   2 │    19     14 \u001b[90m missing \u001b[0m\n",
       "   3 │     3      4        5\n",
       "   4 │    18      9        4\n",
       "   5 │     1     13       21"
      ]
     },
     "execution_count": 10,
     "metadata": {},
     "output_type": "execute_result"
    }
   ],
   "source": [
    "X = DataFrame(col1=rand(1:20, 5), col2=rand(2:30, 5), col3=[missing, missing, 5, 4, 21])"
   ]
  },
  {
   "cell_type": "markdown",
   "id": "f17dd18c",
   "metadata": {},
   "source": [
    "Let's subset the dataframe and take specific columns and row combinations"
   ]
  },
  {
   "cell_type": "markdown",
   "id": "1702c0ce",
   "metadata": {},
   "source": [
    "In R\n",
    "`X[,1]` to take the first column. We can also take the first column by passing the column name as a string `X[,\"var1]`. Let's take the first two rows of column 2 `X[1:2,\"var2\"]`    "
   ]
  },
  {
   "cell_type": "markdown",
   "id": "74a98bc8",
   "metadata": {},
   "source": [
    "With Julia we can use the basic .dot syntax"
   ]
  },
  {
   "cell_type": "code",
   "execution_count": 14,
   "id": "33e9d31c",
   "metadata": {},
   "outputs": [
    {
     "data": {
      "text/plain": [
       "5-element Vector{Int64}:\n",
       "  6\n",
       " 19\n",
       "  3\n",
       " 18\n",
       "  1"
      ]
     },
     "execution_count": 14,
     "metadata": {},
     "output_type": "execute_result"
    }
   ],
   "source": [
    "X.col1"
   ]
  },
  {
   "cell_type": "code",
   "execution_count": 26,
   "id": "f606e95e",
   "metadata": {},
   "outputs": [
    {
     "data": {
      "text/plain": [
       "5-element Vector{Int64}:\n",
       "  6\n",
       " 19\n",
       "  3\n",
       " 18\n",
       "  1"
      ]
     },
     "execution_count": 26,
     "metadata": {},
     "output_type": "execute_result"
    }
   ],
   "source": [
    "# This string based extraction is a bit slower\n",
    "# Julia converts the String to a Symbol type \n",
    "X.\"col1\""
   ]
  },
  {
   "cell_type": "markdown",
   "id": "928d7eaf",
   "metadata": {},
   "source": [
    "We can also use indexing and the column names"
   ]
  },
  {
   "cell_type": "code",
   "execution_count": 24,
   "id": "bfbe07a3",
   "metadata": {},
   "outputs": [
    {
     "data": {
      "text/plain": [
       "5-element Vector{Int64}:\n",
       " 25\n",
       " 14\n",
       "  4\n",
       "  9\n",
       " 13"
      ]
     },
     "execution_count": 24,
     "metadata": {},
     "output_type": "execute_result"
    }
   ],
   "source": [
    "X[:, 2]"
   ]
  },
  {
   "cell_type": "code",
   "execution_count": 29,
   "id": "59b5a3ab",
   "metadata": {},
   "outputs": [
    {
     "data": {
      "text/plain": [
       "5-element Vector{Int64}:\n",
       "  6\n",
       " 19\n",
       "  3\n",
       " 18\n",
       "  1"
      ]
     },
     "execution_count": 29,
     "metadata": {},
     "output_type": "execute_result"
    }
   ],
   "source": [
    "X[:, \"col1\"]"
   ]
  },
  {
   "cell_type": "code",
   "execution_count": 30,
   "id": "28342392",
   "metadata": {},
   "outputs": [
    {
     "data": {
      "text/plain": [
       "5-element Vector{Int64}:\n",
       "  6\n",
       " 19\n",
       "  3\n",
       " 18\n",
       "  1"
      ]
     },
     "execution_count": 30,
     "metadata": {},
     "output_type": "execute_result"
    }
   ],
   "source": [
    "X[:, :col1]"
   ]
  },
  {
   "cell_type": "markdown",
   "id": "1614d2b6",
   "metadata": {},
   "source": [
    "So to summarise it all, if we're using indexing, we can use colnumber, \"colname\", :Colname. If we're using .dot syntax we can use df.number, df.\"colname\" - wooooooo"
   ]
  },
  {
   "cell_type": "markdown",
   "id": "62889829",
   "metadata": {},
   "source": [
    "In Julia, to check the column index of a certain column e.g. is it in the 10th column? etc., we can use the **columnindex()** function"
   ]
  },
  {
   "cell_type": "code",
   "execution_count": 31,
   "id": "79547c80",
   "metadata": {},
   "outputs": [
    {
     "data": {
      "text/plain": [
       "3"
      ]
     },
     "execution_count": 31,
     "metadata": {},
     "output_type": "execute_result"
    }
   ],
   "source": [
    "columnindex(X, \"col3\")"
   ]
  },
  {
   "cell_type": "markdown",
   "id": "bde15fc2",
   "metadata": {},
   "source": [
    "To test whether a specific column is in the dataframe, based on it's name, we can do **hasproperty()**"
   ]
  },
  {
   "cell_type": "code",
   "execution_count": 32,
   "id": "f586b97e",
   "metadata": {},
   "outputs": [
    {
     "data": {
      "text/plain": [
       "true"
      ]
     },
     "execution_count": 32,
     "metadata": {},
     "output_type": "execute_result"
    }
   ],
   "source": [
    "hasproperty(X, \"col3\")"
   ]
  },
  {
   "cell_type": "markdown",
   "id": "6e2a3147",
   "metadata": {},
   "source": [
    "#### Subset the dataframe using conditions, such as, print the dataframe in which the first column has values over 18"
   ]
  },
  {
   "cell_type": "code",
   "execution_count": 42,
   "id": "80d658cd",
   "metadata": {},
   "outputs": [
    {
     "data": {
      "text/html": [
       "<div><div style = \"float: left;\"><span>1×3 DataFrame</span></div><div style = \"clear: both;\"></div></div><div class = \"data-frame\" style = \"overflow-x: scroll;\"><table class = \"data-frame\" style = \"margin-bottom: 6px;\"><thead><tr class = \"header\"><th class = \"rowNumber\" style = \"font-weight: bold; text-align: right;\">Row</th><th style = \"text-align: left;\">col1</th><th style = \"text-align: left;\">col2</th><th style = \"text-align: left;\">col3</th></tr><tr class = \"subheader headerLastRow\"><th class = \"rowNumber\" style = \"font-weight: bold; text-align: right;\"></th><th title = \"Int64\" style = \"text-align: left;\">Int64</th><th title = \"Int64\" style = \"text-align: left;\">Int64</th><th title = \"Union{Missing, Int64}\" style = \"text-align: left;\">Int64?</th></tr></thead><tbody><tr><td class = \"rowNumber\" style = \"font-weight: bold; text-align: right;\">1</td><td style = \"text-align: right;\">19</td><td style = \"text-align: right;\">14</td><td style = \"font-style: italic; text-align: right;\">missing</td></tr></tbody></table></div>"
      ],
      "text/latex": [
       "\\begin{tabular}{r|ccc}\n",
       "\t& col1 & col2 & col3\\\\\n",
       "\t\\hline\n",
       "\t& Int64 & Int64 & Int64?\\\\\n",
       "\t\\hline\n",
       "\t1 & 19 & 14 & \\emph{missing} \\\\\n",
       "\\end{tabular}\n"
      ],
      "text/plain": [
       "\u001b[1m1×3 DataFrame\u001b[0m\n",
       "\u001b[1m Row \u001b[0m│\u001b[1m col1  \u001b[0m\u001b[1m col2  \u001b[0m\u001b[1m col3    \u001b[0m\n",
       "     │\u001b[90m Int64 \u001b[0m\u001b[90m Int64 \u001b[0m\u001b[90m Int64?  \u001b[0m\n",
       "─────┼───────────────────────\n",
       "   1 │    19     14 \u001b[90m missing \u001b[0m"
      ]
     },
     "execution_count": 42,
     "metadata": {},
     "output_type": "execute_result"
    }
   ],
   "source": [
    "filter(row -> row.col1 > 18, X)"
   ]
  },
  {
   "cell_type": "markdown",
   "id": "8c32e7be",
   "metadata": {},
   "source": [
    "If we have multiple conditons"
   ]
  },
  {
   "cell_type": "code",
   "execution_count": 57,
   "id": "83d89859",
   "metadata": {},
   "outputs": [
    {
     "data": {
      "text/html": [
       "<div><div style = \"float: left;\"><span>5×3 DataFrame</span></div><div style = \"clear: both;\"></div></div><div class = \"data-frame\" style = \"overflow-x: scroll;\"><table class = \"data-frame\" style = \"margin-bottom: 6px;\"><thead><tr class = \"header\"><th class = \"rowNumber\" style = \"font-weight: bold; text-align: right;\">Row</th><th style = \"text-align: left;\">col1</th><th style = \"text-align: left;\">col2</th><th style = \"text-align: left;\">col3</th></tr><tr class = \"subheader headerLastRow\"><th class = \"rowNumber\" style = \"font-weight: bold; text-align: right;\"></th><th title = \"Int64\" style = \"text-align: left;\">Int64</th><th title = \"Int64\" style = \"text-align: left;\">Int64</th><th title = \"Union{Missing, Int64}\" style = \"text-align: left;\">Int64?</th></tr></thead><tbody><tr><td class = \"rowNumber\" style = \"font-weight: bold; text-align: right;\">1</td><td style = \"text-align: right;\">6</td><td style = \"text-align: right;\">25</td><td style = \"font-style: italic; text-align: right;\">missing</td></tr><tr><td class = \"rowNumber\" style = \"font-weight: bold; text-align: right;\">2</td><td style = \"text-align: right;\">19</td><td style = \"text-align: right;\">14</td><td style = \"font-style: italic; text-align: right;\">missing</td></tr><tr><td class = \"rowNumber\" style = \"font-weight: bold; text-align: right;\">3</td><td style = \"text-align: right;\">3</td><td style = \"text-align: right;\">4</td><td style = \"text-align: right;\">5</td></tr><tr><td class = \"rowNumber\" style = \"font-weight: bold; text-align: right;\">4</td><td style = \"text-align: right;\">18</td><td style = \"text-align: right;\">9</td><td style = \"text-align: right;\">4</td></tr><tr><td class = \"rowNumber\" style = \"font-weight: bold; text-align: right;\">5</td><td style = \"text-align: right;\">1</td><td style = \"text-align: right;\">13</td><td style = \"text-align: right;\">21</td></tr></tbody></table></div>"
      ],
      "text/latex": [
       "\\begin{tabular}{r|ccc}\n",
       "\t& col1 & col2 & col3\\\\\n",
       "\t\\hline\n",
       "\t& Int64 & Int64 & Int64?\\\\\n",
       "\t\\hline\n",
       "\t1 & 6 & 25 & \\emph{missing} \\\\\n",
       "\t2 & 19 & 14 & \\emph{missing} \\\\\n",
       "\t3 & 3 & 4 & 5 \\\\\n",
       "\t4 & 18 & 9 & 4 \\\\\n",
       "\t5 & 1 & 13 & 21 \\\\\n",
       "\\end{tabular}\n"
      ],
      "text/plain": [
       "\u001b[1m5×3 DataFrame\u001b[0m\n",
       "\u001b[1m Row \u001b[0m│\u001b[1m col1  \u001b[0m\u001b[1m col2  \u001b[0m\u001b[1m col3    \u001b[0m\n",
       "     │\u001b[90m Int64 \u001b[0m\u001b[90m Int64 \u001b[0m\u001b[90m Int64?  \u001b[0m\n",
       "─────┼───────────────────────\n",
       "   1 │     6     25 \u001b[90m missing \u001b[0m\n",
       "   2 │    19     14 \u001b[90m missing \u001b[0m\n",
       "   3 │     3      4        5\n",
       "   4 │    18      9        4\n",
       "   5 │     1     13       21"
      ]
     },
     "execution_count": 57,
     "metadata": {},
     "output_type": "execute_result"
    }
   ],
   "source": [
    "filter(row -> row.col1 > 1 || row.col2 > 1, X)"
   ]
  },
  {
   "cell_type": "markdown",
   "id": "46da9293",
   "metadata": {},
   "source": [
    "In R we could do \n",
    "```R\n",
    "X[(X$var1 <= 3 & X$var3 > 11),]\n",
    "X[(X$var1 <= 3 | X$var3 > 11)]\n",
    "``` "
   ]
  },
  {
   "cell_type": "markdown",
   "id": "eabd2803",
   "metadata": {},
   "source": [
    "### Sorting "
   ]
  },
  {
   "cell_type": "markdown",
   "id": "5e6ba16c",
   "metadata": {},
   "source": [
    "In R;\n",
    "```R\n",
    "sort(X$var1)\n",
    "# Sort in reverse\n",
    "sort(X$var1, decreasing=TRUE)\n",
    "``` "
   ]
  },
  {
   "cell_type": "markdown",
   "id": "932184ca",
   "metadata": {},
   "source": [
    "In Julia to just get a vector of a specific dataframes column\n",
    "https://dataframes.juliadata.org/stable/man/sorting/"
   ]
  },
  {
   "cell_type": "code",
   "execution_count": 64,
   "id": "a219a4b4",
   "metadata": {},
   "outputs": [
    {
     "data": {
      "text/plain": [
       "5-element Vector{Int64}:\n",
       " 19\n",
       " 18\n",
       "  6\n",
       "  3\n",
       "  1"
      ]
     },
     "execution_count": 64,
     "metadata": {},
     "output_type": "execute_result"
    }
   ],
   "source": [
    "sort(X.col1, rev=true)"
   ]
  },
  {
   "cell_type": "markdown",
   "id": "5ea77a7d",
   "metadata": {},
   "source": [
    "To print out the entire dataframe for viewing"
   ]
  },
  {
   "cell_type": "code",
   "execution_count": 68,
   "id": "6c7b33be",
   "metadata": {},
   "outputs": [
    {
     "data": {
      "text/html": [
       "<div><div style = \"float: left;\"><span>5×3 DataFrame</span></div><div style = \"clear: both;\"></div></div><div class = \"data-frame\" style = \"overflow-x: scroll;\"><table class = \"data-frame\" style = \"margin-bottom: 6px;\"><thead><tr class = \"header\"><th class = \"rowNumber\" style = \"font-weight: bold; text-align: right;\">Row</th><th style = \"text-align: left;\">col1</th><th style = \"text-align: left;\">col2</th><th style = \"text-align: left;\">col3</th></tr><tr class = \"subheader headerLastRow\"><th class = \"rowNumber\" style = \"font-weight: bold; text-align: right;\"></th><th title = \"Int64\" style = \"text-align: left;\">Int64</th><th title = \"Int64\" style = \"text-align: left;\">Int64</th><th title = \"Union{Missing, Int64}\" style = \"text-align: left;\">Int64?</th></tr></thead><tbody><tr><td class = \"rowNumber\" style = \"font-weight: bold; text-align: right;\">1</td><td style = \"text-align: right;\">1</td><td style = \"text-align: right;\">13</td><td style = \"text-align: right;\">21</td></tr><tr><td class = \"rowNumber\" style = \"font-weight: bold; text-align: right;\">2</td><td style = \"text-align: right;\">3</td><td style = \"text-align: right;\">4</td><td style = \"text-align: right;\">5</td></tr><tr><td class = \"rowNumber\" style = \"font-weight: bold; text-align: right;\">3</td><td style = \"text-align: right;\">6</td><td style = \"text-align: right;\">25</td><td style = \"font-style: italic; text-align: right;\">missing</td></tr><tr><td class = \"rowNumber\" style = \"font-weight: bold; text-align: right;\">4</td><td style = \"text-align: right;\">18</td><td style = \"text-align: right;\">9</td><td style = \"text-align: right;\">4</td></tr><tr><td class = \"rowNumber\" style = \"font-weight: bold; text-align: right;\">5</td><td style = \"text-align: right;\">19</td><td style = \"text-align: right;\">14</td><td style = \"font-style: italic; text-align: right;\">missing</td></tr></tbody></table></div>"
      ],
      "text/latex": [
       "\\begin{tabular}{r|ccc}\n",
       "\t& col1 & col2 & col3\\\\\n",
       "\t\\hline\n",
       "\t& Int64 & Int64 & Int64?\\\\\n",
       "\t\\hline\n",
       "\t1 & 1 & 13 & 21 \\\\\n",
       "\t2 & 3 & 4 & 5 \\\\\n",
       "\t3 & 6 & 25 & \\emph{missing} \\\\\n",
       "\t4 & 18 & 9 & 4 \\\\\n",
       "\t5 & 19 & 14 & \\emph{missing} \\\\\n",
       "\\end{tabular}\n"
      ],
      "text/plain": [
       "\u001b[1m5×3 DataFrame\u001b[0m\n",
       "\u001b[1m Row \u001b[0m│\u001b[1m col1  \u001b[0m\u001b[1m col2  \u001b[0m\u001b[1m col3    \u001b[0m\n",
       "     │\u001b[90m Int64 \u001b[0m\u001b[90m Int64 \u001b[0m\u001b[90m Int64?  \u001b[0m\n",
       "─────┼───────────────────────\n",
       "   1 │     1     13       21\n",
       "   2 │     3      4        5\n",
       "   3 │     6     25 \u001b[90m missing \u001b[0m\n",
       "   4 │    18      9        4\n",
       "   5 │    19     14 \u001b[90m missing \u001b[0m"
      ]
     },
     "execution_count": 68,
     "metadata": {},
     "output_type": "execute_result"
    }
   ],
   "source": [
    "sort(X, \"col1\") \n",
    "# or \n",
    "sort(X, 1)\n",
    "# or - this is the slowest one \n",
    "sort(X, [:1])"
   ]
  },
  {
   "cell_type": "markdown",
   "id": "89862a21",
   "metadata": {},
   "source": [
    "### Ordering\n",
    "Ordering is used in conjunction with sorting, as it will allow us to specificy the sorting order of the columns in the DataFrame, e.g. first X and reverse sort it"
   ]
  },
  {
   "cell_type": "markdown",
   "id": "3bcbb4bf",
   "metadata": {},
   "source": [
    "In R; \n",
    "```R\n",
    "X[order(X$var1, X$var3),] \n",
    "```"
   ]
  },
  {
   "cell_type": "markdown",
   "id": "247aaf13",
   "metadata": {},
   "source": [
    "Now in Julia, based on the help information"
   ]
  },
  {
   "cell_type": "code",
   "execution_count": 71,
   "id": "b0a5a5ba",
   "metadata": {},
   "outputs": [
    {
     "data": {
      "text/html": [
       "<div><div style = \"float: left;\"><span>5×3 DataFrame</span></div><div style = \"clear: both;\"></div></div><div class = \"data-frame\" style = \"overflow-x: scroll;\"><table class = \"data-frame\" style = \"margin-bottom: 6px;\"><thead><tr class = \"header\"><th class = \"rowNumber\" style = \"font-weight: bold; text-align: right;\">Row</th><th style = \"text-align: left;\">col1</th><th style = \"text-align: left;\">col2</th><th style = \"text-align: left;\">col3</th></tr><tr class = \"subheader headerLastRow\"><th class = \"rowNumber\" style = \"font-weight: bold; text-align: right;\"></th><th title = \"Int64\" style = \"text-align: left;\">Int64</th><th title = \"Int64\" style = \"text-align: left;\">Int64</th><th title = \"Union{Missing, Int64}\" style = \"text-align: left;\">Int64?</th></tr></thead><tbody><tr><td class = \"rowNumber\" style = \"font-weight: bold; text-align: right;\">1</td><td style = \"text-align: right;\">19</td><td style = \"text-align: right;\">14</td><td style = \"font-style: italic; text-align: right;\">missing</td></tr><tr><td class = \"rowNumber\" style = \"font-weight: bold; text-align: right;\">2</td><td style = \"text-align: right;\">18</td><td style = \"text-align: right;\">9</td><td style = \"text-align: right;\">4</td></tr><tr><td class = \"rowNumber\" style = \"font-weight: bold; text-align: right;\">3</td><td style = \"text-align: right;\">6</td><td style = \"text-align: right;\">25</td><td style = \"font-style: italic; text-align: right;\">missing</td></tr><tr><td class = \"rowNumber\" style = \"font-weight: bold; text-align: right;\">4</td><td style = \"text-align: right;\">3</td><td style = \"text-align: right;\">4</td><td style = \"text-align: right;\">5</td></tr><tr><td class = \"rowNumber\" style = \"font-weight: bold; text-align: right;\">5</td><td style = \"text-align: right;\">1</td><td style = \"text-align: right;\">13</td><td style = \"text-align: right;\">21</td></tr></tbody></table></div>"
      ],
      "text/latex": [
       "\\begin{tabular}{r|ccc}\n",
       "\t& col1 & col2 & col3\\\\\n",
       "\t\\hline\n",
       "\t& Int64 & Int64 & Int64?\\\\\n",
       "\t\\hline\n",
       "\t1 & 19 & 14 & \\emph{missing} \\\\\n",
       "\t2 & 18 & 9 & 4 \\\\\n",
       "\t3 & 6 & 25 & \\emph{missing} \\\\\n",
       "\t4 & 3 & 4 & 5 \\\\\n",
       "\t5 & 1 & 13 & 21 \\\\\n",
       "\\end{tabular}\n"
      ],
      "text/plain": [
       "\u001b[1m5×3 DataFrame\u001b[0m\n",
       "\u001b[1m Row \u001b[0m│\u001b[1m col1  \u001b[0m\u001b[1m col2  \u001b[0m\u001b[1m col3    \u001b[0m\n",
       "     │\u001b[90m Int64 \u001b[0m\u001b[90m Int64 \u001b[0m\u001b[90m Int64?  \u001b[0m\n",
       "─────┼───────────────────────\n",
       "   1 │    19     14 \u001b[90m missing \u001b[0m\n",
       "   2 │    18      9        4\n",
       "   3 │     6     25 \u001b[90m missing \u001b[0m\n",
       "   4 │     3      4        5\n",
       "   5 │     1     13       21"
      ]
     },
     "execution_count": 71,
     "metadata": {},
     "output_type": "execute_result"
    }
   ],
   "source": [
    "sort(X, order(\"col1\", rev=true))"
   ]
  },
  {
   "cell_type": "markdown",
   "id": "3c3fe372",
   "metadata": {},
   "source": [
    "We can pass multiple order functions within a single dataframe in order to handle the other columns"
   ]
  },
  {
   "cell_type": "code",
   "execution_count": 89,
   "id": "9f8646fb",
   "metadata": {},
   "outputs": [
    {
     "data": {
      "text/html": [
       "<div><div style = \"float: left;\"><span>5×4 DataFrame</span></div><div style = \"clear: both;\"></div></div><div class = \"data-frame\" style = \"overflow-x: scroll;\"><table class = \"data-frame\" style = \"margin-bottom: 6px;\"><thead><tr class = \"header\"><th class = \"rowNumber\" style = \"font-weight: bold; text-align: right;\">Row</th><th style = \"text-align: left;\">col1</th><th style = \"text-align: left;\">col2</th><th style = \"text-align: left;\">col3</th><th style = \"text-align: left;\">col4</th></tr><tr class = \"subheader headerLastRow\"><th class = \"rowNumber\" style = \"font-weight: bold; text-align: right;\"></th><th title = \"Int64\" style = \"text-align: left;\">Int64</th><th title = \"Int64\" style = \"text-align: left;\">Int64</th><th title = \"Union{Missing, Int64}\" style = \"text-align: left;\">Int64?</th><th title = \"Int64\" style = \"text-align: left;\">Int64</th></tr></thead><tbody><tr><td class = \"rowNumber\" style = \"font-weight: bold; text-align: right;\">1</td><td style = \"text-align: right;\">19</td><td style = \"text-align: right;\">14</td><td style = \"font-style: italic; text-align: right;\">missing</td><td style = \"text-align: right;\">189</td></tr><tr><td class = \"rowNumber\" style = \"font-weight: bold; text-align: right;\">2</td><td style = \"text-align: right;\">18</td><td style = \"text-align: right;\">9</td><td style = \"text-align: right;\">4</td><td style = \"text-align: right;\">132</td></tr><tr><td class = \"rowNumber\" style = \"font-weight: bold; text-align: right;\">3</td><td style = \"text-align: right;\">6</td><td style = \"text-align: right;\">25</td><td style = \"font-style: italic; text-align: right;\">missing</td><td style = \"text-align: right;\">158</td></tr><tr><td class = \"rowNumber\" style = \"font-weight: bold; text-align: right;\">4</td><td style = \"text-align: right;\">3</td><td style = \"text-align: right;\">4</td><td style = \"text-align: right;\">5</td><td style = \"text-align: right;\">148</td></tr><tr><td class = \"rowNumber\" style = \"font-weight: bold; text-align: right;\">5</td><td style = \"text-align: right;\">1</td><td style = \"text-align: right;\">13</td><td style = \"text-align: right;\">21</td><td style = \"text-align: right;\">178</td></tr></tbody></table></div>"
      ],
      "text/latex": [
       "\\begin{tabular}{r|cccc}\n",
       "\t& col1 & col2 & col3 & col4\\\\\n",
       "\t\\hline\n",
       "\t& Int64 & Int64 & Int64? & Int64\\\\\n",
       "\t\\hline\n",
       "\t1 & 19 & 14 & \\emph{missing} & 189 \\\\\n",
       "\t2 & 18 & 9 & 4 & 132 \\\\\n",
       "\t3 & 6 & 25 & \\emph{missing} & 158 \\\\\n",
       "\t4 & 3 & 4 & 5 & 148 \\\\\n",
       "\t5 & 1 & 13 & 21 & 178 \\\\\n",
       "\\end{tabular}\n"
      ],
      "text/plain": [
       "\u001b[1m5×4 DataFrame\u001b[0m\n",
       "\u001b[1m Row \u001b[0m│\u001b[1m col1  \u001b[0m\u001b[1m col2  \u001b[0m\u001b[1m col3    \u001b[0m\u001b[1m col4  \u001b[0m\n",
       "     │\u001b[90m Int64 \u001b[0m\u001b[90m Int64 \u001b[0m\u001b[90m Int64?  \u001b[0m\u001b[90m Int64 \u001b[0m\n",
       "─────┼──────────────────────────────\n",
       "   1 │    19     14 \u001b[90m missing \u001b[0m   189\n",
       "   2 │    18      9        4    132\n",
       "   3 │     6     25 \u001b[90m missing \u001b[0m   158\n",
       "   4 │     3      4        5    148\n",
       "   5 │     1     13       21    178"
      ]
     },
     "execution_count": 89,
     "metadata": {},
     "output_type": "execute_result"
    }
   ],
   "source": [
    "sort!(X, [\"col1\", \"col2\"], rev=[true, false])"
   ]
  },
  {
   "cell_type": "markdown",
   "id": "997cc583",
   "metadata": {},
   "source": [
    "### Adding rows and columns \n",
    "Adding rows and columns is a very common procedure - it should become as comfortable as adding sides to the playdough structure that we've made.\n",
    "\n",
    "In R;\n",
    "```R\n",
    "X$var4 <- rnorm(5)\n",
    "```"
   ]
  },
  {
   "cell_type": "markdown",
   "id": "b55c7e9c",
   "metadata": {},
   "source": [
    "In Julia, a very basic way to do this is via indexing, we can index into a column which doesn't exist yet, but soon will, and provide the data which will fill the column"
   ]
  },
  {
   "cell_type": "code",
   "execution_count": 87,
   "id": "57da4a79",
   "metadata": {},
   "outputs": [
    {
     "data": {
      "text/plain": [
       "5-element Vector{Int64}:\n",
       " 189\n",
       " 132\n",
       " 158\n",
       " 148\n",
       " 178"
      ]
     },
     "execution_count": 87,
     "metadata": {},
     "output_type": "execute_result"
    }
   ],
   "source": [
    "X.col4 = rand(100:200, 5)"
   ]
  },
  {
   "cell_type": "code",
   "execution_count": 88,
   "id": "6b179463",
   "metadata": {},
   "outputs": [
    {
     "data": {
      "text/html": [
       "<div><div style = \"float: left;\"><span>5×4 DataFrame</span></div><div style = \"clear: both;\"></div></div><div class = \"data-frame\" style = \"overflow-x: scroll;\"><table class = \"data-frame\" style = \"margin-bottom: 6px;\"><thead><tr class = \"header\"><th class = \"rowNumber\" style = \"font-weight: bold; text-align: right;\">Row</th><th style = \"text-align: left;\">col1</th><th style = \"text-align: left;\">col2</th><th style = \"text-align: left;\">col3</th><th style = \"text-align: left;\">col4</th></tr><tr class = \"subheader headerLastRow\"><th class = \"rowNumber\" style = \"font-weight: bold; text-align: right;\"></th><th title = \"Int64\" style = \"text-align: left;\">Int64</th><th title = \"Int64\" style = \"text-align: left;\">Int64</th><th title = \"Union{Missing, Int64}\" style = \"text-align: left;\">Int64?</th><th title = \"Int64\" style = \"text-align: left;\">Int64</th></tr></thead><tbody><tr><td class = \"rowNumber\" style = \"font-weight: bold; text-align: right;\">1</td><td style = \"text-align: right;\">19</td><td style = \"text-align: right;\">14</td><td style = \"font-style: italic; text-align: right;\">missing</td><td style = \"text-align: right;\">189</td></tr><tr><td class = \"rowNumber\" style = \"font-weight: bold; text-align: right;\">2</td><td style = \"text-align: right;\">18</td><td style = \"text-align: right;\">9</td><td style = \"text-align: right;\">4</td><td style = \"text-align: right;\">132</td></tr><tr><td class = \"rowNumber\" style = \"font-weight: bold; text-align: right;\">3</td><td style = \"text-align: right;\">6</td><td style = \"text-align: right;\">25</td><td style = \"font-style: italic; text-align: right;\">missing</td><td style = \"text-align: right;\">158</td></tr><tr><td class = \"rowNumber\" style = \"font-weight: bold; text-align: right;\">4</td><td style = \"text-align: right;\">3</td><td style = \"text-align: right;\">4</td><td style = \"text-align: right;\">5</td><td style = \"text-align: right;\">148</td></tr><tr><td class = \"rowNumber\" style = \"font-weight: bold; text-align: right;\">5</td><td style = \"text-align: right;\">1</td><td style = \"text-align: right;\">13</td><td style = \"text-align: right;\">21</td><td style = \"text-align: right;\">178</td></tr></tbody></table></div>"
      ],
      "text/latex": [
       "\\begin{tabular}{r|cccc}\n",
       "\t& col1 & col2 & col3 & col4\\\\\n",
       "\t\\hline\n",
       "\t& Int64 & Int64 & Int64? & Int64\\\\\n",
       "\t\\hline\n",
       "\t1 & 19 & 14 & \\emph{missing} & 189 \\\\\n",
       "\t2 & 18 & 9 & 4 & 132 \\\\\n",
       "\t3 & 6 & 25 & \\emph{missing} & 158 \\\\\n",
       "\t4 & 3 & 4 & 5 & 148 \\\\\n",
       "\t5 & 1 & 13 & 21 & 178 \\\\\n",
       "\\end{tabular}\n"
      ],
      "text/plain": [
       "\u001b[1m5×4 DataFrame\u001b[0m\n",
       "\u001b[1m Row \u001b[0m│\u001b[1m col1  \u001b[0m\u001b[1m col2  \u001b[0m\u001b[1m col3    \u001b[0m\u001b[1m col4  \u001b[0m\n",
       "     │\u001b[90m Int64 \u001b[0m\u001b[90m Int64 \u001b[0m\u001b[90m Int64?  \u001b[0m\u001b[90m Int64 \u001b[0m\n",
       "─────┼──────────────────────────────\n",
       "   1 │    19     14 \u001b[90m missing \u001b[0m   189\n",
       "   2 │    18      9        4    132\n",
       "   3 │     6     25 \u001b[90m missing \u001b[0m   158\n",
       "   4 │     3      4        5    148\n",
       "   5 │     1     13       21    178"
      ]
     },
     "execution_count": 88,
     "metadata": {},
     "output_type": "execute_result"
    }
   ],
   "source": [
    "X"
   ]
  },
  {
   "cell_type": "markdown",
   "id": "41e9e688",
   "metadata": {},
   "source": [
    "## Summarising Data \n",
    "We'll be looking at different ways of providing a snapshot of the general big picture of our datasets - the averages, limits, deviations and so on.  \n",
    "\n",
    "Let's do the basics, the beginning and end of the datasets; \n",
    "In R; \n",
    "```R\n",
    "head(data, n=3)\n",
    "tail(data, n=5)\n",
    "``` "
   ]
  },
  {
   "cell_type": "markdown",
   "id": "78ae764d",
   "metadata": {},
   "source": [
    "In Julia"
   ]
  },
  {
   "cell_type": "code",
   "execution_count": 90,
   "id": "d6f7fb9d",
   "metadata": {},
   "outputs": [
    {
     "data": {
      "text/html": [
       "<div><div style = \"float: left;\"><span>DataFrameRow (4 columns)</span></div><div style = \"clear: both;\"></div></div><div class = \"data-frame\" style = \"overflow-x: scroll;\"><table class = \"data-frame\" style = \"margin-bottom: 6px;\"><thead><tr class = \"header\"><th class = \"rowLabel\" style = \"font-weight: bold; text-align: right;\">Row</th><th style = \"text-align: left;\">col1</th><th style = \"text-align: left;\">col2</th><th style = \"text-align: left;\">col3</th><th style = \"text-align: left;\">col4</th></tr><tr class = \"subheader headerLastRow\"><th class = \"rowLabel\" style = \"font-weight: bold; text-align: right;\"></th><th title = \"Int64\" style = \"text-align: left;\">Int64</th><th title = \"Int64\" style = \"text-align: left;\">Int64</th><th title = \"Union{Missing, Int64}\" style = \"text-align: left;\">Int64?</th><th title = \"Int64\" style = \"text-align: left;\">Int64</th></tr></thead><tbody><tr><td class = \"rowLabel\" style = \"font-weight: bold; text-align: right;\">1</td><td style = \"text-align: right;\">19</td><td style = \"text-align: right;\">14</td><td style = \"font-style: italic; text-align: right;\">missing</td><td style = \"text-align: right;\">189</td></tr></tbody></table></div>"
      ],
      "text/latex": [
       "\\begin{tabular}{r|cccc}\n",
       "\t& col1 & col2 & col3 & col4\\\\\n",
       "\t\\hline\n",
       "\t& Int64 & Int64 & Int64? & Int64\\\\\n",
       "\t\\hline\n",
       "\t1 & 19 & 14 & \\emph{missing} & 189 \\\\\n",
       "\\end{tabular}\n"
      ],
      "text/plain": [
       "\u001b[1mDataFrameRow\u001b[0m\n",
       "\u001b[1m Row \u001b[0m│\u001b[1m col1  \u001b[0m\u001b[1m col2  \u001b[0m\u001b[1m col3    \u001b[0m\u001b[1m col4  \u001b[0m\n",
       "     │\u001b[90m Int64 \u001b[0m\u001b[90m Int64 \u001b[0m\u001b[90m Int64?  \u001b[0m\u001b[90m Int64 \u001b[0m\n",
       "─────┼──────────────────────────────\n",
       "   1 │    19     14 \u001b[90m missing \u001b[0m   189"
      ]
     },
     "execution_count": 90,
     "metadata": {},
     "output_type": "execute_result"
    }
   ],
   "source": [
    "first(X)"
   ]
  },
  {
   "cell_type": "code",
   "execution_count": 91,
   "id": "888620ff",
   "metadata": {},
   "outputs": [
    {
     "data": {
      "text/html": [
       "<div><div style = \"float: left;\"><span>DataFrameRow (4 columns)</span></div><div style = \"clear: both;\"></div></div><div class = \"data-frame\" style = \"overflow-x: scroll;\"><table class = \"data-frame\" style = \"margin-bottom: 6px;\"><thead><tr class = \"header\"><th class = \"rowLabel\" style = \"font-weight: bold; text-align: right;\">Row</th><th style = \"text-align: left;\">col1</th><th style = \"text-align: left;\">col2</th><th style = \"text-align: left;\">col3</th><th style = \"text-align: left;\">col4</th></tr><tr class = \"subheader headerLastRow\"><th class = \"rowLabel\" style = \"font-weight: bold; text-align: right;\"></th><th title = \"Int64\" style = \"text-align: left;\">Int64</th><th title = \"Int64\" style = \"text-align: left;\">Int64</th><th title = \"Union{Missing, Int64}\" style = \"text-align: left;\">Int64?</th><th title = \"Int64\" style = \"text-align: left;\">Int64</th></tr></thead><tbody><tr><td class = \"rowLabel\" style = \"font-weight: bold; text-align: right;\">5</td><td style = \"text-align: right;\">1</td><td style = \"text-align: right;\">13</td><td style = \"text-align: right;\">21</td><td style = \"text-align: right;\">178</td></tr></tbody></table></div>"
      ],
      "text/latex": [
       "\\begin{tabular}{r|cccc}\n",
       "\t& col1 & col2 & col3 & col4\\\\\n",
       "\t\\hline\n",
       "\t& Int64 & Int64 & Int64? & Int64\\\\\n",
       "\t\\hline\n",
       "\t5 & 1 & 13 & 21 & 178 \\\\\n",
       "\\end{tabular}\n"
      ],
      "text/plain": [
       "\u001b[1mDataFrameRow\u001b[0m\n",
       "\u001b[1m Row \u001b[0m│\u001b[1m col1  \u001b[0m\u001b[1m col2  \u001b[0m\u001b[1m col3   \u001b[0m\u001b[1m col4  \u001b[0m\n",
       "     │\u001b[90m Int64 \u001b[0m\u001b[90m Int64 \u001b[0m\u001b[90m Int64? \u001b[0m\u001b[90m Int64 \u001b[0m\n",
       "─────┼─────────────────────────────\n",
       "   5 │     1     13      21    178"
      ]
     },
     "execution_count": 91,
     "metadata": {},
     "output_type": "execute_result"
    }
   ],
   "source": [
    "last(X)"
   ]
  },
  {
   "cell_type": "markdown",
   "id": "96e39f35",
   "metadata": {},
   "source": [
    "To get a brief summary of the data with descriptve stats and other information such as the Types of the variables in the columns, we can use `summary(data)` in R and in Julia we can use **describe()**"
   ]
  },
  {
   "cell_type": "code",
   "execution_count": 95,
   "id": "b7292c76",
   "metadata": {},
   "outputs": [
    {
     "data": {
      "text/html": [
       "<div><div style = \"float: left;\"><span>4×7 DataFrame</span></div><div style = \"clear: both;\"></div></div><div class = \"data-frame\" style = \"overflow-x: scroll;\"><table class = \"data-frame\" style = \"margin-bottom: 6px;\"><thead><tr class = \"header\"><th class = \"rowNumber\" style = \"font-weight: bold; text-align: right;\">Row</th><th style = \"text-align: left;\">variable</th><th style = \"text-align: left;\">mean</th><th style = \"text-align: left;\">min</th><th style = \"text-align: left;\">median</th><th style = \"text-align: left;\">max</th><th style = \"text-align: left;\">nmissing</th><th style = \"text-align: left;\">eltype</th></tr><tr class = \"subheader headerLastRow\"><th class = \"rowNumber\" style = \"font-weight: bold; text-align: right;\"></th><th title = \"Symbol\" style = \"text-align: left;\">Symbol</th><th title = \"Float64\" style = \"text-align: left;\">Float64</th><th title = \"Int64\" style = \"text-align: left;\">Int64</th><th title = \"Float64\" style = \"text-align: left;\">Float64</th><th title = \"Int64\" style = \"text-align: left;\">Int64</th><th title = \"Int64\" style = \"text-align: left;\">Int64</th><th title = \"Type\" style = \"text-align: left;\">Type</th></tr></thead><tbody><tr><td class = \"rowNumber\" style = \"font-weight: bold; text-align: right;\">1</td><td style = \"text-align: left;\">col1</td><td style = \"text-align: right;\">9.4</td><td style = \"text-align: right;\">1</td><td style = \"text-align: right;\">6.0</td><td style = \"text-align: right;\">19</td><td style = \"text-align: right;\">0</td><td style = \"text-align: left;\">Int64</td></tr><tr><td class = \"rowNumber\" style = \"font-weight: bold; text-align: right;\">2</td><td style = \"text-align: left;\">col2</td><td style = \"text-align: right;\">13.0</td><td style = \"text-align: right;\">4</td><td style = \"text-align: right;\">13.0</td><td style = \"text-align: right;\">25</td><td style = \"text-align: right;\">0</td><td style = \"text-align: left;\">Int64</td></tr><tr><td class = \"rowNumber\" style = \"font-weight: bold; text-align: right;\">3</td><td style = \"text-align: left;\">col3</td><td style = \"text-align: right;\">10.0</td><td style = \"text-align: right;\">4</td><td style = \"text-align: right;\">5.0</td><td style = \"text-align: right;\">21</td><td style = \"text-align: right;\">2</td><td style = \"text-align: left;\">Union{Missing, Int64}</td></tr><tr><td class = \"rowNumber\" style = \"font-weight: bold; text-align: right;\">4</td><td style = \"text-align: left;\">col4</td><td style = \"text-align: right;\">161.0</td><td style = \"text-align: right;\">132</td><td style = \"text-align: right;\">158.0</td><td style = \"text-align: right;\">189</td><td style = \"text-align: right;\">0</td><td style = \"text-align: left;\">Int64</td></tr></tbody></table></div>"
      ],
      "text/latex": [
       "\\begin{tabular}{r|ccccccc}\n",
       "\t& variable & mean & min & median & max & nmissing & eltype\\\\\n",
       "\t\\hline\n",
       "\t& Symbol & Float64 & Int64 & Float64 & Int64 & Int64 & Type\\\\\n",
       "\t\\hline\n",
       "\t1 & col1 & 9.4 & 1 & 6.0 & 19 & 0 & Int64 \\\\\n",
       "\t2 & col2 & 13.0 & 4 & 13.0 & 25 & 0 & Int64 \\\\\n",
       "\t3 & col3 & 10.0 & 4 & 5.0 & 21 & 2 & Union\\{Missing, Int64\\} \\\\\n",
       "\t4 & col4 & 161.0 & 132 & 158.0 & 189 & 0 & Int64 \\\\\n",
       "\\end{tabular}\n"
      ],
      "text/plain": [
       "\u001b[1m4×7 DataFrame\u001b[0m\n",
       "\u001b[1m Row \u001b[0m│\u001b[1m variable \u001b[0m\u001b[1m mean    \u001b[0m\u001b[1m min   \u001b[0m\u001b[1m median  \u001b[0m\u001b[1m max   \u001b[0m\u001b[1m nmissing \u001b[0m\u001b[1m eltype             \u001b[0m ⋯\n",
       "     │\u001b[90m Symbol   \u001b[0m\u001b[90m Float64 \u001b[0m\u001b[90m Int64 \u001b[0m\u001b[90m Float64 \u001b[0m\u001b[90m Int64 \u001b[0m\u001b[90m Int64    \u001b[0m\u001b[90m Type               \u001b[0m ⋯\n",
       "─────┼──────────────────────────────────────────────────────────────────────────\n",
       "   1 │ col1          9.4      1      6.0     19         0  Int64               ⋯\n",
       "   2 │ col2         13.0      4     13.0     25         0  Int64\n",
       "   3 │ col3         10.0      4      5.0     21         2  Union{Missing, Int6\n",
       "   4 │ col4        161.0    132    158.0    189         0  Int64\n",
       "\u001b[36m                                                                1 column omitted\u001b[0m"
      ]
     },
     "execution_count": 95,
     "metadata": {},
     "output_type": "execute_result"
    }
   ],
   "source": [
    "describe(X)"
   ]
  },
  {
   "cell_type": "markdown",
   "id": "3e221438",
   "metadata": {},
   "source": [
    "In R you can also use the `str(data)` command "
   ]
  },
  {
   "cell_type": "code",
   "execution_count": 98,
   "id": "a7760266",
   "metadata": {},
   "outputs": [
    {
     "data": {
      "text/plain": [
       "Vector{Int64}\u001b[90m (alias for \u001b[39m\u001b[90mArray{Int64, 1}\u001b[39m\u001b[90m)\u001b[39m"
      ]
     },
     "execution_count": 98,
     "metadata": {},
     "output_type": "execute_result"
    }
   ],
   "source": [
    "typeof(X.col1)"
   ]
  },
  {
   "cell_type": "markdown",
   "id": "f2cdffc0",
   "metadata": {},
   "source": [
    "To get the quantiles of a vector, in R we have the base function `quantile(data$column.na.rm=TRUE)` and in Julia we have to use the **Statistics.jl** package to add this functionality. Remember Julia is a more general language compared to R which was always tailored towards statistical computing - see https://www.jlhub.com/julia/manual/en/function/quantile-exclamation "
   ]
  },
  {
   "cell_type": "code",
   "execution_count": 105,
   "id": "11799565",
   "metadata": {},
   "outputs": [],
   "source": [
    "using Statistics"
   ]
  },
  {
   "cell_type": "code",
   "execution_count": 107,
   "id": "24157a97",
   "metadata": {},
   "outputs": [
    {
     "data": {
      "text/plain": [
       "5-element Vector{Float64}:\n",
       "  1.0\n",
       "  3.0\n",
       "  6.0\n",
       " 18.0\n",
       " 19.0"
      ]
     },
     "execution_count": 107,
     "metadata": {},
     "output_type": "execute_result"
    }
   ],
   "source": [
    "# Print quarter quantiles\n",
    "quantile!(X.col1, [0, 0.25, 0.5, 0.75, 1], )"
   ]
  },
  {
   "cell_type": "markdown",
   "id": "63d07fff",
   "metadata": {},
   "source": [
    "To skip the missing values and print the median value"
   ]
  },
  {
   "cell_type": "code",
   "execution_count": 110,
   "id": "1f560fd2",
   "metadata": {},
   "outputs": [
    {
     "data": {
      "text/plain": [
       "5.0"
      ]
     },
     "execution_count": 110,
     "metadata": {},
     "output_type": "execute_result"
    }
   ],
   "source": [
    "quantile(skipmissing(X.col3), 0.5) "
   ]
  },
  {
   "cell_type": "markdown",
   "id": "1196a277",
   "metadata": {},
   "source": [
    "### Checking for missing values\n",
    "In R, count the number of missing values \n",
    "```R\n",
    "sum(is.na(data$column))\n",
    "```\n",
    "Check is **any** na values are present\n",
    "```R\n",
    "any(is.na(data$column))\n",
    "```\n",
    "Test to see whether all the values meet a certain condition (over 0)\n",
    "```R\n",
    "all(data$column > 0)\n",
    "```"
   ]
  },
  {
   "cell_type": "markdown",
   "id": "2a32b0e8",
   "metadata": {},
   "source": [
    "In Julia, get the sum of missing values - using the one line iterators"
   ]
  },
  {
   "cell_type": "code",
   "execution_count": 157,
   "id": "a72e65d6",
   "metadata": {},
   "outputs": [
    {
     "data": {
      "text/plain": [
       "2"
      ]
     },
     "execution_count": 157,
     "metadata": {},
     "output_type": "execute_result"
    }
   ],
   "source": [
    "sum(x -> ismissing(x), X.col3)"
   ]
  },
  {
   "cell_type": "markdown",
   "id": "4826b74b",
   "metadata": {},
   "source": [
    "If any missing values are in there "
   ]
  },
  {
   "cell_type": "code",
   "execution_count": 158,
   "id": "f3fdb9d5",
   "metadata": {},
   "outputs": [
    {
     "data": {
      "text/plain": [
       "true"
      ]
     },
     "execution_count": 158,
     "metadata": {},
     "output_type": "execute_result"
    }
   ],
   "source": [
    "any(x -> ismissing(x), X.col3)"
   ]
  },
  {
   "cell_type": "markdown",
   "id": "a86f8a90",
   "metadata": {},
   "source": [
    "If all the values are a certain condition "
   ]
  },
  {
   "cell_type": "code",
   "execution_count": 159,
   "id": "78587da3",
   "metadata": {},
   "outputs": [
    {
     "data": {
      "text/plain": [
       "false"
      ]
     },
     "execution_count": 159,
     "metadata": {},
     "output_type": "execute_result"
    }
   ],
   "source": [
    "all(x -> ismissing(x), X.col1)"
   ]
  },
  {
   "cell_type": "code",
   "execution_count": 160,
   "id": "b235b6ed",
   "metadata": {},
   "outputs": [
    {
     "data": {
      "text/plain": [
       "true"
      ]
     },
     "execution_count": 160,
     "metadata": {},
     "output_type": "execute_result"
    }
   ],
   "source": [
    "all(x -> x > 0, X.col1)"
   ]
  },
  {
   "cell_type": "markdown",
   "id": "27bd900a",
   "metadata": {},
   "source": [
    "A cool little function in Julia to only extract the dataframes rows which contain missing values "
   ]
  },
  {
   "cell_type": "code",
   "execution_count": 197,
   "id": "9801fba4",
   "metadata": {},
   "outputs": [
    {
     "data": {
      "text/html": [
       "<div><div style = \"float: left;\"><span>2×4 DataFrame</span></div><div style = \"clear: both;\"></div></div><div class = \"data-frame\" style = \"overflow-x: scroll;\"><table class = \"data-frame\" style = \"margin-bottom: 6px;\"><thead><tr class = \"header\"><th class = \"rowNumber\" style = \"font-weight: bold; text-align: right;\">Row</th><th style = \"text-align: left;\">col1</th><th style = \"text-align: left;\">col2</th><th style = \"text-align: left;\">col3</th><th style = \"text-align: left;\">col4</th></tr><tr class = \"subheader headerLastRow\"><th class = \"rowNumber\" style = \"font-weight: bold; text-align: right;\"></th><th title = \"Int64\" style = \"text-align: left;\">Int64</th><th title = \"Int64\" style = \"text-align: left;\">Int64</th><th title = \"Union{Missing, Int64}\" style = \"text-align: left;\">Int64?</th><th title = \"Int64\" style = \"text-align: left;\">Int64</th></tr></thead><tbody><tr><td class = \"rowNumber\" style = \"font-weight: bold; text-align: right;\">1</td><td style = \"text-align: right;\">1</td><td style = \"text-align: right;\">14</td><td style = \"font-style: italic; text-align: right;\">missing</td><td style = \"text-align: right;\">189</td></tr><tr><td class = \"rowNumber\" style = \"font-weight: bold; text-align: right;\">2</td><td style = \"text-align: right;\">6</td><td style = \"text-align: right;\">25</td><td style = \"font-style: italic; text-align: right;\">missing</td><td style = \"text-align: right;\">158</td></tr></tbody></table></div>"
      ],
      "text/latex": [
       "\\begin{tabular}{r|cccc}\n",
       "\t& col1 & col2 & col3 & col4\\\\\n",
       "\t\\hline\n",
       "\t& Int64 & Int64 & Int64? & Int64\\\\\n",
       "\t\\hline\n",
       "\t1 & 1 & 14 & \\emph{missing} & 189 \\\\\n",
       "\t2 & 6 & 25 & \\emph{missing} & 158 \\\\\n",
       "\\end{tabular}\n"
      ],
      "text/plain": [
       "\u001b[1m2×4 DataFrame\u001b[0m\n",
       "\u001b[1m Row \u001b[0m│\u001b[1m col1  \u001b[0m\u001b[1m col2  \u001b[0m\u001b[1m col3    \u001b[0m\u001b[1m col4  \u001b[0m\n",
       "     │\u001b[90m Int64 \u001b[0m\u001b[90m Int64 \u001b[0m\u001b[90m Int64?  \u001b[0m\u001b[90m Int64 \u001b[0m\n",
       "─────┼──────────────────────────────\n",
       "   1 │     1     14 \u001b[90m missing \u001b[0m   189\n",
       "   2 │     6     25 \u001b[90m missing \u001b[0m   158"
      ]
     },
     "execution_count": 197,
     "metadata": {},
     "output_type": "execute_result"
    }
   ],
   "source": [
    "filter(x -> any(ismissing, x), X)"
   ]
  },
  {
   "cell_type": "markdown",
   "id": "548c6dce",
   "metadata": {},
   "source": [
    "Perform a quick sum of all of the columns in a horizontal fashion - intuitively this would mean summing the entire row, and producing a new sum in the final column of the same row e.g. |1|2|3|6 (final)|. This can be a very quick way of checking whether there are any missing values as the missing values will propogate across!"
   ]
  },
  {
   "cell_type": "markdown",
   "id": "3d523495",
   "metadata": {},
   "source": [
    "In R;\n",
    "```R\n",
    "colSums(is.na(data))\n",
    "```"
   ]
  },
  {
   "cell_type": "markdown",
   "id": "86c43704",
   "metadata": {},
   "source": [
    "In Julia"
   ]
  },
  {
   "cell_type": "code",
   "execution_count": 221,
   "id": "3069118c",
   "metadata": {},
   "outputs": [
    {
     "data": {
      "text/plain": [
       "5-element Vector{Union{Missing, Int64}}:\n",
       "    missing\n",
       " 148\n",
       "    missing\n",
       " 175\n",
       " 231"
      ]
     },
     "execution_count": 221,
     "metadata": {},
     "output_type": "execute_result"
    }
   ],
   "source": [
    "sum(eachcol(X))"
   ]
  },
  {
   "cell_type": "markdown",
   "id": "563b37d1",
   "metadata": {},
   "source": [
    "In Julia if we want to actually sum the entire column, meaning every value in the column vertically, we can collect the column and then sum it OR we can just performing broadcasting using the sum function - fascinating but easily confusing! "
   ]
  },
  {
   "cell_type": "code",
   "execution_count": 234,
   "id": "748f47a5",
   "metadata": {},
   "outputs": [
    {
     "data": {
      "text/plain": [
       "4-element Vector{Union{Missing, Int64}}:\n",
       "  47\n",
       "  65\n",
       "    missing\n",
       " 805"
      ]
     },
     "execution_count": 234,
     "metadata": {},
     "output_type": "execute_result"
    }
   ],
   "source": [
    "sum.(collect(eachcol(X)))"
   ]
  },
  {
   "cell_type": "code",
   "execution_count": 235,
   "id": "f1074785",
   "metadata": {},
   "outputs": [
    {
     "data": {
      "text/plain": [
       "4-element Vector{Union{Missing, Int64}}:\n",
       "  47\n",
       "  65\n",
       "    missing\n",
       " 805"
      ]
     },
     "execution_count": 235,
     "metadata": {},
     "output_type": "execute_result"
    }
   ],
   "source": [
    "sum.(eachcol(X))"
   ]
  },
  {
   "cell_type": "markdown",
   "id": "a437ec26",
   "metadata": {},
   "source": [
    "There is an equivalent operation by using the broadcasting over **eachrow()**"
   ]
  },
  {
   "cell_type": "code",
   "execution_count": 238,
   "id": "b29856fb",
   "metadata": {},
   "outputs": [
    {
     "data": {
      "text/plain": [
       "5-element Vector{Int64}:\n",
       " 204\n",
       " 148\n",
       " 189\n",
       " 175\n",
       " 231"
      ]
     },
     "execution_count": 238,
     "metadata": {},
     "output_type": "execute_result"
    }
   ],
   "source": [
    "sum.(eachrow(X))"
   ]
  },
  {
   "cell_type": "markdown",
   "id": "85951cc7",
   "metadata": {},
   "source": [
    "If we want to skip missing values when doing these operations we would broadcasting **skipmissing()** across"
   ]
  },
  {
   "cell_type": "code",
   "execution_count": 241,
   "id": "38558bcc",
   "metadata": {},
   "outputs": [
    {
     "data": {
      "text/plain": [
       "5-element Vector{Int64}:\n",
       " 204\n",
       " 148\n",
       " 189\n",
       " 175\n",
       " 231"
      ]
     },
     "execution_count": 241,
     "metadata": {},
     "output_type": "execute_result"
    }
   ],
   "source": [
    "sum.(skipmissing.(eachrow(X)))"
   ]
  },
  {
   "cell_type": "markdown",
   "id": "10e8eafe",
   "metadata": {},
   "source": [
    "### Subsetting the dataframe based upon values in the columns\n",
    "Say for example that we only want the data which have a specific zipcode (generic value) in a column, what can we do? In R;\n",
    "```R\n",
    "data[data$zipCode %in% c(\"4109\", \"4110\"),] \n",
    "```"
   ]
  },
  {
   "cell_type": "markdown",
   "id": "96fc5cc7",
   "metadata": {},
   "source": [
    "In Julia - get a dataframe in which the values in the first column are 1 "
   ]
  },
  {
   "cell_type": "code",
   "execution_count": 253,
   "id": "1320e861",
   "metadata": {},
   "outputs": [
    {
     "data": {
      "text/html": [
       "<div><div style = \"float: left;\"><span>1×4 DataFrame</span></div><div style = \"clear: both;\"></div></div><div class = \"data-frame\" style = \"overflow-x: scroll;\"><table class = \"data-frame\" style = \"margin-bottom: 6px;\"><thead><tr class = \"header\"><th class = \"rowNumber\" style = \"font-weight: bold; text-align: right;\">Row</th><th style = \"text-align: left;\">col1</th><th style = \"text-align: left;\">col2</th><th style = \"text-align: left;\">col3</th><th style = \"text-align: left;\">col4</th></tr><tr class = \"subheader headerLastRow\"><th class = \"rowNumber\" style = \"font-weight: bold; text-align: right;\"></th><th title = \"Int64\" style = \"text-align: left;\">Int64</th><th title = \"Int64\" style = \"text-align: left;\">Int64</th><th title = \"Union{Missing, Int64}\" style = \"text-align: left;\">Int64?</th><th title = \"Int64\" style = \"text-align: left;\">Int64</th></tr></thead><tbody><tr><td class = \"rowNumber\" style = \"font-weight: bold; text-align: right;\">1</td><td style = \"text-align: right;\">1</td><td style = \"text-align: right;\">14</td><td style = \"font-style: italic; text-align: right;\">missing</td><td style = \"text-align: right;\">189</td></tr></tbody></table></div>"
      ],
      "text/latex": [
       "\\begin{tabular}{r|cccc}\n",
       "\t& col1 & col2 & col3 & col4\\\\\n",
       "\t\\hline\n",
       "\t& Int64 & Int64 & Int64? & Int64\\\\\n",
       "\t\\hline\n",
       "\t1 & 1 & 14 & \\emph{missing} & 189 \\\\\n",
       "\\end{tabular}\n"
      ],
      "text/plain": [
       "\u001b[1m1×4 DataFrame\u001b[0m\n",
       "\u001b[1m Row \u001b[0m│\u001b[1m col1  \u001b[0m\u001b[1m col2  \u001b[0m\u001b[1m col3    \u001b[0m\u001b[1m col4  \u001b[0m\n",
       "     │\u001b[90m Int64 \u001b[0m\u001b[90m Int64 \u001b[0m\u001b[90m Int64?  \u001b[0m\u001b[90m Int64 \u001b[0m\n",
       "─────┼──────────────────────────────\n",
       "   1 │     1     14 \u001b[90m missing \u001b[0m   189"
      ]
     },
     "execution_count": 253,
     "metadata": {},
     "output_type": "execute_result"
    }
   ],
   "source": [
    "filter(row -> row.col1 == 1, X)"
   ]
  },
  {
   "cell_type": "markdown",
   "id": "1a25a22c",
   "metadata": {},
   "source": [
    "Now another one wherein the values are larger and 1 and smaller than 15"
   ]
  },
  {
   "cell_type": "code",
   "execution_count": 254,
   "id": "470b2fff",
   "metadata": {},
   "outputs": [
    {
     "data": {
      "text/html": [
       "<div><div style = \"float: left;\"><span>2×4 DataFrame</span></div><div style = \"clear: both;\"></div></div><div class = \"data-frame\" style = \"overflow-x: scroll;\"><table class = \"data-frame\" style = \"margin-bottom: 6px;\"><thead><tr class = \"header\"><th class = \"rowNumber\" style = \"font-weight: bold; text-align: right;\">Row</th><th style = \"text-align: left;\">col1</th><th style = \"text-align: left;\">col2</th><th style = \"text-align: left;\">col3</th><th style = \"text-align: left;\">col4</th></tr><tr class = \"subheader headerLastRow\"><th class = \"rowNumber\" style = \"font-weight: bold; text-align: right;\"></th><th title = \"Int64\" style = \"text-align: left;\">Int64</th><th title = \"Int64\" style = \"text-align: left;\">Int64</th><th title = \"Union{Missing, Int64}\" style = \"text-align: left;\">Int64?</th><th title = \"Int64\" style = \"text-align: left;\">Int64</th></tr></thead><tbody><tr><td class = \"rowNumber\" style = \"font-weight: bold; text-align: right;\">1</td><td style = \"text-align: right;\">3</td><td style = \"text-align: right;\">9</td><td style = \"text-align: right;\">4</td><td style = \"text-align: right;\">132</td></tr><tr><td class = \"rowNumber\" style = \"font-weight: bold; text-align: right;\">2</td><td style = \"text-align: right;\">6</td><td style = \"text-align: right;\">25</td><td style = \"font-style: italic; text-align: right;\">missing</td><td style = \"text-align: right;\">158</td></tr></tbody></table></div>"
      ],
      "text/latex": [
       "\\begin{tabular}{r|cccc}\n",
       "\t& col1 & col2 & col3 & col4\\\\\n",
       "\t\\hline\n",
       "\t& Int64 & Int64 & Int64? & Int64\\\\\n",
       "\t\\hline\n",
       "\t1 & 3 & 9 & 4 & 132 \\\\\n",
       "\t2 & 6 & 25 & \\emph{missing} & 158 \\\\\n",
       "\\end{tabular}\n"
      ],
      "text/plain": [
       "\u001b[1m2×4 DataFrame\u001b[0m\n",
       "\u001b[1m Row \u001b[0m│\u001b[1m col1  \u001b[0m\u001b[1m col2  \u001b[0m\u001b[1m col3    \u001b[0m\u001b[1m col4  \u001b[0m\n",
       "     │\u001b[90m Int64 \u001b[0m\u001b[90m Int64 \u001b[0m\u001b[90m Int64?  \u001b[0m\u001b[90m Int64 \u001b[0m\n",
       "─────┼──────────────────────────────\n",
       "   1 │     3      9        4    132\n",
       "   2 │     6     25 \u001b[90m missing \u001b[0m   158"
      ]
     },
     "execution_count": 254,
     "metadata": {},
     "output_type": "execute_result"
    }
   ],
   "source": [
    "filter(row -> row.col1 > 1 && row.col1 < 15, X)"
   ]
  },
  {
   "cell_type": "markdown",
   "id": "dd6c9c0c",
   "metadata": {},
   "source": [
    "## Cross Tabulation aka Frequency Tables\n",
    "In order provide small snapshots of potential interactions and relations, we can see cross-tabulation or frequency comparisons between variables, say, male and female and acceptance rates to university     "
   ]
  },
  {
   "cell_type": "markdown",
   "id": "11c3d0ad",
   "metadata": {},
   "source": [
    "In R we have some base functions;\n",
    "```R\n",
    "xt <- xtabs(Freq ~ Gender + Admit, data=DF)\n",
    "```"
   ]
  },
  {
   "cell_type": "markdown",
   "id": "b707cdb0",
   "metadata": {},
   "source": [
    "In Julia we have to load a specific package called **FreqTables** https://github.com/nalimilan/FreqTables.jl"
   ]
  },
  {
   "cell_type": "code",
   "execution_count": 258,
   "id": "f6cf2555",
   "metadata": {
    "collapsed": true
   },
   "outputs": [
    {
     "name": "stderr",
     "output_type": "stream",
     "text": [
      "\u001b[32m\u001b[1m   Resolving\u001b[22m\u001b[39m package versions...\n",
      "\u001b[32m\u001b[1m   Installed\u001b[22m\u001b[39m Combinatorics ── v1.0.2\n",
      "\u001b[32m\u001b[1m   Installed\u001b[22m\u001b[39m FreqTables ───── v0.4.6\n",
      "\u001b[32m\u001b[1m   Installed\u001b[22m\u001b[39m DelimitedFiles ─ v1.9.1\n",
      "\u001b[32m\u001b[1m   Installed\u001b[22m\u001b[39m NamedArrays ──── v0.10.0\n",
      "\u001b[32m\u001b[1m    Updating\u001b[22m\u001b[39m `~/.julia/environments/v1.10/Project.toml`\n",
      "  \u001b[90m[da1fdf0e] \u001b[39m\u001b[92m+ FreqTables v0.4.6\u001b[39m\n",
      "\u001b[32m\u001b[1m    Updating\u001b[22m\u001b[39m `~/.julia/environments/v1.10/Manifest.toml`\n",
      "  \u001b[90m[861a8166] \u001b[39m\u001b[92m+ Combinatorics v1.0.2\u001b[39m\n",
      "  \u001b[90m[8bb1440f] \u001b[39m\u001b[92m+ DelimitedFiles v1.9.1\u001b[39m\n",
      "  \u001b[90m[da1fdf0e] \u001b[39m\u001b[92m+ FreqTables v0.4.6\u001b[39m\n",
      "  \u001b[90m[86f7a689] \u001b[39m\u001b[92m+ NamedArrays v0.10.0\u001b[39m\n",
      "\u001b[32m\u001b[1mPrecompiling\u001b[22m\u001b[39m project...\n",
      "\u001b[32m  ✓ \u001b[39m\u001b[90mDelimitedFiles\u001b[39m\n",
      "\u001b[32m  ✓ \u001b[39m\u001b[90mCombinatorics\u001b[39m\n",
      "\u001b[32m  ✓ \u001b[39m\u001b[90mNamedArrays\u001b[39m\n",
      "\u001b[32m  ✓ \u001b[39mFreqTables\n",
      "  4 dependencies successfully precompiled in 5 seconds. 98 already precompiled.\n"
     ]
    }
   ],
   "source": [
    "using Pkg; Pkg.add(\"FreqTables\") ; using FreqTables"
   ]
  },
  {
   "cell_type": "markdown",
   "id": "fb16060b",
   "metadata": {},
   "source": [
    "Do a frequency table between columns 1 and 4 - clearly there is not much here to see given both are randomly generated vectors"
   ]
  },
  {
   "cell_type": "code",
   "execution_count": 263,
   "id": "a2cd8f5a",
   "metadata": {},
   "outputs": [
    {
     "data": {
      "text/plain": [
       "5×5 Named Matrix{Int64}\n",
       "col1 ╲ col4 │ 132  148  158  178  189\n",
       "────────────┼────────────────────────\n",
       "1           │   0    0    0    0    1\n",
       "3           │   1    0    0    0    0\n",
       "6           │   0    0    1    0    0\n",
       "18          │   0    1    0    0    0\n",
       "19          │   0    0    0    1    0"
      ]
     },
     "execution_count": 263,
     "metadata": {},
     "output_type": "execute_result"
    }
   ],
   "source": [
    "freqtable(X, :col1, :col4)"
   ]
  },
  {
   "cell_type": "markdown",
   "id": "efd33702",
   "metadata": {},
   "source": [
    "## Size of the data in human readable form \n",
    "Very simple and yet very informative information - how big is our data?\n",
    "In R;\n",
    "```R\n",
    "object.size(data), units=\"Mb\")\n",
    "```"
   ]
  },
  {
   "cell_type": "markdown",
   "id": "3d8ebd26",
   "metadata": {},
   "source": [
    "In Julia, we can use **varinfo()**"
   ]
  },
  {
   "cell_type": "code",
   "execution_count": 268,
   "id": "da8db563",
   "metadata": {},
   "outputs": [
    {
     "data": {
      "text/latex": [
       "\\begin{tabular}\n",
       "{l | r | l}\n",
       "name & size & summary \\\\\n",
       "\\hline\n",
       "Base &  & Module \\\\\n",
       "Core &  & Module \\\\\n",
       "Main &  & Module \\\\\n",
       "X & 989 bytes & 5×4 DataFrame \\\\\n",
       "\\end{tabular}\n"
      ],
      "text/markdown": [
       "| name |      size | summary       |\n",
       "|:---- | ---------:|:------------- |\n",
       "| Base |           | Module        |\n",
       "| Core |           | Module        |\n",
       "| Main |           | Module        |\n",
       "| X    | 989 bytes | 5×4 DataFrame |\n"
      ],
      "text/plain": [
       "  name      size summary      \n",
       "  –––– ––––––––– –––––––––––––\n",
       "  Base           Module       \n",
       "  Core           Module       \n",
       "  Main           Module       \n",
       "  X    989 bytes 5×4 DataFrame"
      ]
     },
     "execution_count": 268,
     "metadata": {},
     "output_type": "execute_result"
    }
   ],
   "source": [
    "varinfo(sortby=:size)"
   ]
  },
  {
   "cell_type": "code",
   "execution_count": null,
   "id": "cb95fbb8",
   "metadata": {},
   "outputs": [],
   "source": []
  },
  {
   "cell_type": "code",
   "execution_count": null,
   "id": "adb7683f",
   "metadata": {},
   "outputs": [],
   "source": []
  },
  {
   "cell_type": "code",
   "execution_count": null,
   "id": "5148c5c3",
   "metadata": {},
   "outputs": [],
   "source": []
  },
  {
   "cell_type": "code",
   "execution_count": null,
   "id": "3fc4efba",
   "metadata": {},
   "outputs": [],
   "source": []
  },
  {
   "cell_type": "code",
   "execution_count": null,
   "id": "a64c7e29",
   "metadata": {},
   "outputs": [],
   "source": []
  },
  {
   "cell_type": "code",
   "execution_count": null,
   "id": "570c0240",
   "metadata": {},
   "outputs": [],
   "source": []
  }
 ],
 "metadata": {
  "kernelspec": {
   "display_name": "Julia 1.10.0",
   "language": "julia",
   "name": "julia-1.10"
  },
  "language_info": {
   "file_extension": ".jl",
   "mimetype": "application/julia",
   "name": "julia",
   "version": "1.10.0"
  }
 },
 "nbformat": 4,
 "nbformat_minor": 5
}
