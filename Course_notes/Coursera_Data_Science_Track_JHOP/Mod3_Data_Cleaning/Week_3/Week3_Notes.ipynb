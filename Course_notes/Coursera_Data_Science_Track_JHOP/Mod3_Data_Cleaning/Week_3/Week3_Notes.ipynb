{
 "cells": [
  {
   "cell_type": "markdown",
   "id": "095cc47c",
   "metadata": {},
   "source": [
    "# Week 3 Notes - Getting and Cleaning Data"
   ]
  },
  {
   "cell_type": "markdown",
   "id": "f4071744",
   "metadata": {},
   "source": [
    "## Subsetting and Sorting\n",
    "Time to wrangle and mould our datasets to our desires. Create a basic dataframe, reshjuffle the contents of the columns and then insert some NA values too. \n",
    "```R\n",
    "set.seed(1345)\n",
    "X <- data.frame(\"var1\"=sample(1:5), \"var2\"=sample(6:10), \"var3\"=sample(11:15))\n",
    "X <- X[sample(1:5),]; X$var2[c(1,3)] = NA\n",
    "``` "
   ]
  },
  {
   "cell_type": "markdown",
   "id": "6599feb3",
   "metadata": {},
   "source": [
    "In Julia"
   ]
  },
  {
   "cell_type": "code",
   "execution_count": 6,
   "id": "66aff65d",
   "metadata": {},
   "outputs": [],
   "source": [
    "using DataFrames, CSV"
   ]
  },
  {
   "cell_type": "code",
   "execution_count": 10,
   "id": "cc33e0a9",
   "metadata": {
    "scrolled": true
   },
   "outputs": [
    {
     "data": {
      "text/html": [
       "<div><div style = \"float: left;\"><span>5×3 DataFrame</span></div><div style = \"clear: both;\"></div></div><div class = \"data-frame\" style = \"overflow-x: scroll;\"><table class = \"data-frame\" style = \"margin-bottom: 6px;\"><thead><tr class = \"header\"><th class = \"rowNumber\" style = \"font-weight: bold; text-align: right;\">Row</th><th style = \"text-align: left;\">col1</th><th style = \"text-align: left;\">col2</th><th style = \"text-align: left;\">col3</th></tr><tr class = \"subheader headerLastRow\"><th class = \"rowNumber\" style = \"font-weight: bold; text-align: right;\"></th><th title = \"Int64\" style = \"text-align: left;\">Int64</th><th title = \"Int64\" style = \"text-align: left;\">Int64</th><th title = \"Union{Missing, Int64}\" style = \"text-align: left;\">Int64?</th></tr></thead><tbody><tr><td class = \"rowNumber\" style = \"font-weight: bold; text-align: right;\">1</td><td style = \"text-align: right;\">6</td><td style = \"text-align: right;\">25</td><td style = \"font-style: italic; text-align: right;\">missing</td></tr><tr><td class = \"rowNumber\" style = \"font-weight: bold; text-align: right;\">2</td><td style = \"text-align: right;\">19</td><td style = \"text-align: right;\">14</td><td style = \"font-style: italic; text-align: right;\">missing</td></tr><tr><td class = \"rowNumber\" style = \"font-weight: bold; text-align: right;\">3</td><td style = \"text-align: right;\">3</td><td style = \"text-align: right;\">4</td><td style = \"text-align: right;\">5</td></tr><tr><td class = \"rowNumber\" style = \"font-weight: bold; text-align: right;\">4</td><td style = \"text-align: right;\">18</td><td style = \"text-align: right;\">9</td><td style = \"text-align: right;\">4</td></tr><tr><td class = \"rowNumber\" style = \"font-weight: bold; text-align: right;\">5</td><td style = \"text-align: right;\">1</td><td style = \"text-align: right;\">13</td><td style = \"text-align: right;\">21</td></tr></tbody></table></div>"
      ],
      "text/latex": [
       "\\begin{tabular}{r|ccc}\n",
       "\t& col1 & col2 & col3\\\\\n",
       "\t\\hline\n",
       "\t& Int64 & Int64 & Int64?\\\\\n",
       "\t\\hline\n",
       "\t1 & 6 & 25 & \\emph{missing} \\\\\n",
       "\t2 & 19 & 14 & \\emph{missing} \\\\\n",
       "\t3 & 3 & 4 & 5 \\\\\n",
       "\t4 & 18 & 9 & 4 \\\\\n",
       "\t5 & 1 & 13 & 21 \\\\\n",
       "\\end{tabular}\n"
      ],
      "text/plain": [
       "\u001b[1m5×3 DataFrame\u001b[0m\n",
       "\u001b[1m Row \u001b[0m│\u001b[1m col1  \u001b[0m\u001b[1m col2  \u001b[0m\u001b[1m col3    \u001b[0m\n",
       "     │\u001b[90m Int64 \u001b[0m\u001b[90m Int64 \u001b[0m\u001b[90m Int64?  \u001b[0m\n",
       "─────┼───────────────────────\n",
       "   1 │     6     25 \u001b[90m missing \u001b[0m\n",
       "   2 │    19     14 \u001b[90m missing \u001b[0m\n",
       "   3 │     3      4        5\n",
       "   4 │    18      9        4\n",
       "   5 │     1     13       21"
      ]
     },
     "execution_count": 10,
     "metadata": {},
     "output_type": "execute_result"
    }
   ],
   "source": [
    "X = DataFrame(col1=rand(1:20, 5), col2=rand(2:30, 5), col3=[missing, missing, 5, 4, 21])"
   ]
  },
  {
   "cell_type": "markdown",
   "id": "e13520e1",
   "metadata": {},
   "source": [
    "Let's subset the dataframe and take specific columns and row combinations"
   ]
  },
  {
   "cell_type": "markdown",
   "id": "7b30753a",
   "metadata": {},
   "source": [
    "In R\n",
    "`X[,1]` to take the first column. We can also take the first column by passing the column name as a string `X[,\"var1]`. Let's take the first two rows of column 2 `X[1:2,\"var2\"]`    "
   ]
  },
  {
   "cell_type": "markdown",
   "id": "b0f2f2d0",
   "metadata": {},
   "source": [
    "With Julia we can use the basic .dot syntax"
   ]
  },
  {
   "cell_type": "code",
   "execution_count": 14,
   "id": "f8de6fb0",
   "metadata": {},
   "outputs": [
    {
     "data": {
      "text/plain": [
       "5-element Vector{Int64}:\n",
       "  6\n",
       " 19\n",
       "  3\n",
       " 18\n",
       "  1"
      ]
     },
     "execution_count": 14,
     "metadata": {},
     "output_type": "execute_result"
    }
   ],
   "source": [
    "X.col1"
   ]
  },
  {
   "cell_type": "code",
   "execution_count": 26,
   "id": "b86747fa",
   "metadata": {},
   "outputs": [
    {
     "data": {
      "text/plain": [
       "5-element Vector{Int64}:\n",
       "  6\n",
       " 19\n",
       "  3\n",
       " 18\n",
       "  1"
      ]
     },
     "execution_count": 26,
     "metadata": {},
     "output_type": "execute_result"
    }
   ],
   "source": [
    "# This string based extraction is a bit slower\n",
    "# Julia converts the String to a Symbol type \n",
    "X.\"col1\""
   ]
  },
  {
   "cell_type": "markdown",
   "id": "359533a8",
   "metadata": {},
   "source": [
    "We can also use indexing and the column names"
   ]
  },
  {
   "cell_type": "code",
   "execution_count": 24,
   "id": "70cc3759",
   "metadata": {},
   "outputs": [
    {
     "data": {
      "text/plain": [
       "5-element Vector{Int64}:\n",
       " 25\n",
       " 14\n",
       "  4\n",
       "  9\n",
       " 13"
      ]
     },
     "execution_count": 24,
     "metadata": {},
     "output_type": "execute_result"
    }
   ],
   "source": [
    "X[:, 2]"
   ]
  },
  {
   "cell_type": "code",
   "execution_count": 29,
   "id": "5873d199",
   "metadata": {},
   "outputs": [
    {
     "data": {
      "text/plain": [
       "5-element Vector{Int64}:\n",
       "  6\n",
       " 19\n",
       "  3\n",
       " 18\n",
       "  1"
      ]
     },
     "execution_count": 29,
     "metadata": {},
     "output_type": "execute_result"
    }
   ],
   "source": [
    "X[:, \"col1\"]"
   ]
  },
  {
   "cell_type": "code",
   "execution_count": 30,
   "id": "cd9cef33",
   "metadata": {},
   "outputs": [
    {
     "data": {
      "text/plain": [
       "5-element Vector{Int64}:\n",
       "  6\n",
       " 19\n",
       "  3\n",
       " 18\n",
       "  1"
      ]
     },
     "execution_count": 30,
     "metadata": {},
     "output_type": "execute_result"
    }
   ],
   "source": [
    "X[:, :col1]"
   ]
  },
  {
   "cell_type": "markdown",
   "id": "f3584e94",
   "metadata": {},
   "source": [
    "In Julia, to check the column index of a certain column e.g. is it in the 10th column? etc., we can use the **columnindex()** function"
   ]
  },
  {
   "cell_type": "code",
   "execution_count": 31,
   "id": "fe14fdbc",
   "metadata": {},
   "outputs": [
    {
     "data": {
      "text/plain": [
       "3"
      ]
     },
     "execution_count": 31,
     "metadata": {},
     "output_type": "execute_result"
    }
   ],
   "source": [
    "columnindex(X, \"col3\")"
   ]
  },
  {
   "cell_type": "markdown",
   "id": "95713bd4",
   "metadata": {},
   "source": [
    "To test whether a specific column is in the dataframe, based on it's name, we can do **hasproperty()**"
   ]
  },
  {
   "cell_type": "code",
   "execution_count": 32,
   "id": "ae9730e7",
   "metadata": {},
   "outputs": [
    {
     "data": {
      "text/plain": [
       "true"
      ]
     },
     "execution_count": 32,
     "metadata": {},
     "output_type": "execute_result"
    }
   ],
   "source": [
    "hasproperty(X, \"col3\")"
   ]
  },
  {
   "cell_type": "markdown",
   "id": "cce0d545",
   "metadata": {},
   "source": [
    "#### Subset the dataframe using conditions, such as, print the dataframe in which the first column has values over 18"
   ]
  },
  {
   "cell_type": "code",
   "execution_count": 42,
   "id": "3f3a7fe6",
   "metadata": {},
   "outputs": [
    {
     "data": {
      "text/html": [
       "<div><div style = \"float: left;\"><span>1×3 DataFrame</span></div><div style = \"clear: both;\"></div></div><div class = \"data-frame\" style = \"overflow-x: scroll;\"><table class = \"data-frame\" style = \"margin-bottom: 6px;\"><thead><tr class = \"header\"><th class = \"rowNumber\" style = \"font-weight: bold; text-align: right;\">Row</th><th style = \"text-align: left;\">col1</th><th style = \"text-align: left;\">col2</th><th style = \"text-align: left;\">col3</th></tr><tr class = \"subheader headerLastRow\"><th class = \"rowNumber\" style = \"font-weight: bold; text-align: right;\"></th><th title = \"Int64\" style = \"text-align: left;\">Int64</th><th title = \"Int64\" style = \"text-align: left;\">Int64</th><th title = \"Union{Missing, Int64}\" style = \"text-align: left;\">Int64?</th></tr></thead><tbody><tr><td class = \"rowNumber\" style = \"font-weight: bold; text-align: right;\">1</td><td style = \"text-align: right;\">19</td><td style = \"text-align: right;\">14</td><td style = \"font-style: italic; text-align: right;\">missing</td></tr></tbody></table></div>"
      ],
      "text/latex": [
       "\\begin{tabular}{r|ccc}\n",
       "\t& col1 & col2 & col3\\\\\n",
       "\t\\hline\n",
       "\t& Int64 & Int64 & Int64?\\\\\n",
       "\t\\hline\n",
       "\t1 & 19 & 14 & \\emph{missing} \\\\\n",
       "\\end{tabular}\n"
      ],
      "text/plain": [
       "\u001b[1m1×3 DataFrame\u001b[0m\n",
       "\u001b[1m Row \u001b[0m│\u001b[1m col1  \u001b[0m\u001b[1m col2  \u001b[0m\u001b[1m col3    \u001b[0m\n",
       "     │\u001b[90m Int64 \u001b[0m\u001b[90m Int64 \u001b[0m\u001b[90m Int64?  \u001b[0m\n",
       "─────┼───────────────────────\n",
       "   1 │    19     14 \u001b[90m missing \u001b[0m"
      ]
     },
     "execution_count": 42,
     "metadata": {},
     "output_type": "execute_result"
    }
   ],
   "source": [
    "filter(row -> row.col1 > 18, X)"
   ]
  },
  {
   "cell_type": "markdown",
   "id": "b483989b",
   "metadata": {},
   "source": [
    "If we have multiple conditons"
   ]
  },
  {
   "cell_type": "code",
   "execution_count": 57,
   "id": "ec991358",
   "metadata": {},
   "outputs": [
    {
     "data": {
      "text/html": [
       "<div><div style = \"float: left;\"><span>5×3 DataFrame</span></div><div style = \"clear: both;\"></div></div><div class = \"data-frame\" style = \"overflow-x: scroll;\"><table class = \"data-frame\" style = \"margin-bottom: 6px;\"><thead><tr class = \"header\"><th class = \"rowNumber\" style = \"font-weight: bold; text-align: right;\">Row</th><th style = \"text-align: left;\">col1</th><th style = \"text-align: left;\">col2</th><th style = \"text-align: left;\">col3</th></tr><tr class = \"subheader headerLastRow\"><th class = \"rowNumber\" style = \"font-weight: bold; text-align: right;\"></th><th title = \"Int64\" style = \"text-align: left;\">Int64</th><th title = \"Int64\" style = \"text-align: left;\">Int64</th><th title = \"Union{Missing, Int64}\" style = \"text-align: left;\">Int64?</th></tr></thead><tbody><tr><td class = \"rowNumber\" style = \"font-weight: bold; text-align: right;\">1</td><td style = \"text-align: right;\">6</td><td style = \"text-align: right;\">25</td><td style = \"font-style: italic; text-align: right;\">missing</td></tr><tr><td class = \"rowNumber\" style = \"font-weight: bold; text-align: right;\">2</td><td style = \"text-align: right;\">19</td><td style = \"text-align: right;\">14</td><td style = \"font-style: italic; text-align: right;\">missing</td></tr><tr><td class = \"rowNumber\" style = \"font-weight: bold; text-align: right;\">3</td><td style = \"text-align: right;\">3</td><td style = \"text-align: right;\">4</td><td style = \"text-align: right;\">5</td></tr><tr><td class = \"rowNumber\" style = \"font-weight: bold; text-align: right;\">4</td><td style = \"text-align: right;\">18</td><td style = \"text-align: right;\">9</td><td style = \"text-align: right;\">4</td></tr><tr><td class = \"rowNumber\" style = \"font-weight: bold; text-align: right;\">5</td><td style = \"text-align: right;\">1</td><td style = \"text-align: right;\">13</td><td style = \"text-align: right;\">21</td></tr></tbody></table></div>"
      ],
      "text/latex": [
       "\\begin{tabular}{r|ccc}\n",
       "\t& col1 & col2 & col3\\\\\n",
       "\t\\hline\n",
       "\t& Int64 & Int64 & Int64?\\\\\n",
       "\t\\hline\n",
       "\t1 & 6 & 25 & \\emph{missing} \\\\\n",
       "\t2 & 19 & 14 & \\emph{missing} \\\\\n",
       "\t3 & 3 & 4 & 5 \\\\\n",
       "\t4 & 18 & 9 & 4 \\\\\n",
       "\t5 & 1 & 13 & 21 \\\\\n",
       "\\end{tabular}\n"
      ],
      "text/plain": [
       "\u001b[1m5×3 DataFrame\u001b[0m\n",
       "\u001b[1m Row \u001b[0m│\u001b[1m col1  \u001b[0m\u001b[1m col2  \u001b[0m\u001b[1m col3    \u001b[0m\n",
       "     │\u001b[90m Int64 \u001b[0m\u001b[90m Int64 \u001b[0m\u001b[90m Int64?  \u001b[0m\n",
       "─────┼───────────────────────\n",
       "   1 │     6     25 \u001b[90m missing \u001b[0m\n",
       "   2 │    19     14 \u001b[90m missing \u001b[0m\n",
       "   3 │     3      4        5\n",
       "   4 │    18      9        4\n",
       "   5 │     1     13       21"
      ]
     },
     "execution_count": 57,
     "metadata": {},
     "output_type": "execute_result"
    }
   ],
   "source": [
    "filter(row -> row.col1 > 1 || row.col2 > 1, X)"
   ]
  },
  {
   "cell_type": "markdown",
   "id": "7f38879b",
   "metadata": {},
   "source": [
    "In R we could do \n",
    "```R\n",
    "X[(X$var1 <= 3 & X$var3 > 11),]\n",
    "X[(X$var1 <= 3 | X$var3 > 11)]\n",
    "``` "
   ]
  },
  {
   "cell_type": "markdown",
   "id": "478b0cd9",
   "metadata": {},
   "source": [
    "### Sorting "
   ]
  },
  {
   "cell_type": "markdown",
   "id": "c75ea01b",
   "metadata": {},
   "source": [
    "In R;\n",
    "```R\n",
    "sort(X$var1)\n",
    "# Sort in reverse\n",
    "sort(X$var1, decreasing=TRUE)\n",
    "``` "
   ]
  },
  {
   "cell_type": "markdown",
   "id": "0da2ed9a",
   "metadata": {},
   "source": [
    "In Julia to just get a vector of a specific dataframes column\n",
    "https://dataframes.juliadata.org/stable/man/sorting/"
   ]
  },
  {
   "cell_type": "code",
   "execution_count": 64,
   "id": "b6c91c60",
   "metadata": {},
   "outputs": [
    {
     "data": {
      "text/plain": [
       "5-element Vector{Int64}:\n",
       " 19\n",
       " 18\n",
       "  6\n",
       "  3\n",
       "  1"
      ]
     },
     "execution_count": 64,
     "metadata": {},
     "output_type": "execute_result"
    }
   ],
   "source": [
    "sort(X.col1, rev=true)"
   ]
  },
  {
   "cell_type": "markdown",
   "id": "02394839",
   "metadata": {},
   "source": [
    "To print out the entire dataframe for viewing"
   ]
  },
  {
   "cell_type": "code",
   "execution_count": 68,
   "id": "b4fc8a15",
   "metadata": {},
   "outputs": [
    {
     "data": {
      "text/html": [
       "<div><div style = \"float: left;\"><span>5×3 DataFrame</span></div><div style = \"clear: both;\"></div></div><div class = \"data-frame\" style = \"overflow-x: scroll;\"><table class = \"data-frame\" style = \"margin-bottom: 6px;\"><thead><tr class = \"header\"><th class = \"rowNumber\" style = \"font-weight: bold; text-align: right;\">Row</th><th style = \"text-align: left;\">col1</th><th style = \"text-align: left;\">col2</th><th style = \"text-align: left;\">col3</th></tr><tr class = \"subheader headerLastRow\"><th class = \"rowNumber\" style = \"font-weight: bold; text-align: right;\"></th><th title = \"Int64\" style = \"text-align: left;\">Int64</th><th title = \"Int64\" style = \"text-align: left;\">Int64</th><th title = \"Union{Missing, Int64}\" style = \"text-align: left;\">Int64?</th></tr></thead><tbody><tr><td class = \"rowNumber\" style = \"font-weight: bold; text-align: right;\">1</td><td style = \"text-align: right;\">1</td><td style = \"text-align: right;\">13</td><td style = \"text-align: right;\">21</td></tr><tr><td class = \"rowNumber\" style = \"font-weight: bold; text-align: right;\">2</td><td style = \"text-align: right;\">3</td><td style = \"text-align: right;\">4</td><td style = \"text-align: right;\">5</td></tr><tr><td class = \"rowNumber\" style = \"font-weight: bold; text-align: right;\">3</td><td style = \"text-align: right;\">6</td><td style = \"text-align: right;\">25</td><td style = \"font-style: italic; text-align: right;\">missing</td></tr><tr><td class = \"rowNumber\" style = \"font-weight: bold; text-align: right;\">4</td><td style = \"text-align: right;\">18</td><td style = \"text-align: right;\">9</td><td style = \"text-align: right;\">4</td></tr><tr><td class = \"rowNumber\" style = \"font-weight: bold; text-align: right;\">5</td><td style = \"text-align: right;\">19</td><td style = \"text-align: right;\">14</td><td style = \"font-style: italic; text-align: right;\">missing</td></tr></tbody></table></div>"
      ],
      "text/latex": [
       "\\begin{tabular}{r|ccc}\n",
       "\t& col1 & col2 & col3\\\\\n",
       "\t\\hline\n",
       "\t& Int64 & Int64 & Int64?\\\\\n",
       "\t\\hline\n",
       "\t1 & 1 & 13 & 21 \\\\\n",
       "\t2 & 3 & 4 & 5 \\\\\n",
       "\t3 & 6 & 25 & \\emph{missing} \\\\\n",
       "\t4 & 18 & 9 & 4 \\\\\n",
       "\t5 & 19 & 14 & \\emph{missing} \\\\\n",
       "\\end{tabular}\n"
      ],
      "text/plain": [
       "\u001b[1m5×3 DataFrame\u001b[0m\n",
       "\u001b[1m Row \u001b[0m│\u001b[1m col1  \u001b[0m\u001b[1m col2  \u001b[0m\u001b[1m col3    \u001b[0m\n",
       "     │\u001b[90m Int64 \u001b[0m\u001b[90m Int64 \u001b[0m\u001b[90m Int64?  \u001b[0m\n",
       "─────┼───────────────────────\n",
       "   1 │     1     13       21\n",
       "   2 │     3      4        5\n",
       "   3 │     6     25 \u001b[90m missing \u001b[0m\n",
       "   4 │    18      9        4\n",
       "   5 │    19     14 \u001b[90m missing \u001b[0m"
      ]
     },
     "execution_count": 68,
     "metadata": {},
     "output_type": "execute_result"
    }
   ],
   "source": [
    "sort(X, \"col1\") \n",
    "# or \n",
    "sort(X, 1)\n",
    "# or - this is the slowest one \n",
    "sort(X, [:1])"
   ]
  },
  {
   "cell_type": "markdown",
   "id": "a1484247",
   "metadata": {},
   "source": [
    "### Ordering\n",
    "Ordering is used in conjunction with sorting, as it will allow us to specificy the sorting order of the columns in the DataFrame, e.g. first X and reverse sort it"
   ]
  },
  {
   "cell_type": "markdown",
   "id": "951ea972",
   "metadata": {},
   "source": [
    "In R; \n",
    "```R\n",
    "X[order(X$var1, X$var3),] \n",
    "```"
   ]
  },
  {
   "cell_type": "markdown",
   "id": "e39fb672",
   "metadata": {},
   "source": [
    "Now in Julia, based on the help information"
   ]
  },
  {
   "cell_type": "code",
   "execution_count": 71,
   "id": "35ac1974",
   "metadata": {},
   "outputs": [
    {
     "data": {
      "text/html": [
       "<div><div style = \"float: left;\"><span>5×3 DataFrame</span></div><div style = \"clear: both;\"></div></div><div class = \"data-frame\" style = \"overflow-x: scroll;\"><table class = \"data-frame\" style = \"margin-bottom: 6px;\"><thead><tr class = \"header\"><th class = \"rowNumber\" style = \"font-weight: bold; text-align: right;\">Row</th><th style = \"text-align: left;\">col1</th><th style = \"text-align: left;\">col2</th><th style = \"text-align: left;\">col3</th></tr><tr class = \"subheader headerLastRow\"><th class = \"rowNumber\" style = \"font-weight: bold; text-align: right;\"></th><th title = \"Int64\" style = \"text-align: left;\">Int64</th><th title = \"Int64\" style = \"text-align: left;\">Int64</th><th title = \"Union{Missing, Int64}\" style = \"text-align: left;\">Int64?</th></tr></thead><tbody><tr><td class = \"rowNumber\" style = \"font-weight: bold; text-align: right;\">1</td><td style = \"text-align: right;\">19</td><td style = \"text-align: right;\">14</td><td style = \"font-style: italic; text-align: right;\">missing</td></tr><tr><td class = \"rowNumber\" style = \"font-weight: bold; text-align: right;\">2</td><td style = \"text-align: right;\">18</td><td style = \"text-align: right;\">9</td><td style = \"text-align: right;\">4</td></tr><tr><td class = \"rowNumber\" style = \"font-weight: bold; text-align: right;\">3</td><td style = \"text-align: right;\">6</td><td style = \"text-align: right;\">25</td><td style = \"font-style: italic; text-align: right;\">missing</td></tr><tr><td class = \"rowNumber\" style = \"font-weight: bold; text-align: right;\">4</td><td style = \"text-align: right;\">3</td><td style = \"text-align: right;\">4</td><td style = \"text-align: right;\">5</td></tr><tr><td class = \"rowNumber\" style = \"font-weight: bold; text-align: right;\">5</td><td style = \"text-align: right;\">1</td><td style = \"text-align: right;\">13</td><td style = \"text-align: right;\">21</td></tr></tbody></table></div>"
      ],
      "text/latex": [
       "\\begin{tabular}{r|ccc}\n",
       "\t& col1 & col2 & col3\\\\\n",
       "\t\\hline\n",
       "\t& Int64 & Int64 & Int64?\\\\\n",
       "\t\\hline\n",
       "\t1 & 19 & 14 & \\emph{missing} \\\\\n",
       "\t2 & 18 & 9 & 4 \\\\\n",
       "\t3 & 6 & 25 & \\emph{missing} \\\\\n",
       "\t4 & 3 & 4 & 5 \\\\\n",
       "\t5 & 1 & 13 & 21 \\\\\n",
       "\\end{tabular}\n"
      ],
      "text/plain": [
       "\u001b[1m5×3 DataFrame\u001b[0m\n",
       "\u001b[1m Row \u001b[0m│\u001b[1m col1  \u001b[0m\u001b[1m col2  \u001b[0m\u001b[1m col3    \u001b[0m\n",
       "     │\u001b[90m Int64 \u001b[0m\u001b[90m Int64 \u001b[0m\u001b[90m Int64?  \u001b[0m\n",
       "─────┼───────────────────────\n",
       "   1 │    19     14 \u001b[90m missing \u001b[0m\n",
       "   2 │    18      9        4\n",
       "   3 │     6     25 \u001b[90m missing \u001b[0m\n",
       "   4 │     3      4        5\n",
       "   5 │     1     13       21"
      ]
     },
     "execution_count": 71,
     "metadata": {},
     "output_type": "execute_result"
    }
   ],
   "source": [
    "sort(X, order(\"col1\", rev=true))"
   ]
  },
  {
   "cell_type": "markdown",
   "id": "9902a6ab",
   "metadata": {},
   "source": [
    "We can pass multiple order functions within a single dataframe in order to handle the other columns"
   ]
  },
  {
   "cell_type": "code",
   "execution_count": 89,
   "id": "33f59ee8",
   "metadata": {},
   "outputs": [
    {
     "data": {
      "text/html": [
       "<div><div style = \"float: left;\"><span>5×4 DataFrame</span></div><div style = \"clear: both;\"></div></div><div class = \"data-frame\" style = \"overflow-x: scroll;\"><table class = \"data-frame\" style = \"margin-bottom: 6px;\"><thead><tr class = \"header\"><th class = \"rowNumber\" style = \"font-weight: bold; text-align: right;\">Row</th><th style = \"text-align: left;\">col1</th><th style = \"text-align: left;\">col2</th><th style = \"text-align: left;\">col3</th><th style = \"text-align: left;\">col4</th></tr><tr class = \"subheader headerLastRow\"><th class = \"rowNumber\" style = \"font-weight: bold; text-align: right;\"></th><th title = \"Int64\" style = \"text-align: left;\">Int64</th><th title = \"Int64\" style = \"text-align: left;\">Int64</th><th title = \"Union{Missing, Int64}\" style = \"text-align: left;\">Int64?</th><th title = \"Int64\" style = \"text-align: left;\">Int64</th></tr></thead><tbody><tr><td class = \"rowNumber\" style = \"font-weight: bold; text-align: right;\">1</td><td style = \"text-align: right;\">19</td><td style = \"text-align: right;\">14</td><td style = \"font-style: italic; text-align: right;\">missing</td><td style = \"text-align: right;\">189</td></tr><tr><td class = \"rowNumber\" style = \"font-weight: bold; text-align: right;\">2</td><td style = \"text-align: right;\">18</td><td style = \"text-align: right;\">9</td><td style = \"text-align: right;\">4</td><td style = \"text-align: right;\">132</td></tr><tr><td class = \"rowNumber\" style = \"font-weight: bold; text-align: right;\">3</td><td style = \"text-align: right;\">6</td><td style = \"text-align: right;\">25</td><td style = \"font-style: italic; text-align: right;\">missing</td><td style = \"text-align: right;\">158</td></tr><tr><td class = \"rowNumber\" style = \"font-weight: bold; text-align: right;\">4</td><td style = \"text-align: right;\">3</td><td style = \"text-align: right;\">4</td><td style = \"text-align: right;\">5</td><td style = \"text-align: right;\">148</td></tr><tr><td class = \"rowNumber\" style = \"font-weight: bold; text-align: right;\">5</td><td style = \"text-align: right;\">1</td><td style = \"text-align: right;\">13</td><td style = \"text-align: right;\">21</td><td style = \"text-align: right;\">178</td></tr></tbody></table></div>"
      ],
      "text/latex": [
       "\\begin{tabular}{r|cccc}\n",
       "\t& col1 & col2 & col3 & col4\\\\\n",
       "\t\\hline\n",
       "\t& Int64 & Int64 & Int64? & Int64\\\\\n",
       "\t\\hline\n",
       "\t1 & 19 & 14 & \\emph{missing} & 189 \\\\\n",
       "\t2 & 18 & 9 & 4 & 132 \\\\\n",
       "\t3 & 6 & 25 & \\emph{missing} & 158 \\\\\n",
       "\t4 & 3 & 4 & 5 & 148 \\\\\n",
       "\t5 & 1 & 13 & 21 & 178 \\\\\n",
       "\\end{tabular}\n"
      ],
      "text/plain": [
       "\u001b[1m5×4 DataFrame\u001b[0m\n",
       "\u001b[1m Row \u001b[0m│\u001b[1m col1  \u001b[0m\u001b[1m col2  \u001b[0m\u001b[1m col3    \u001b[0m\u001b[1m col4  \u001b[0m\n",
       "     │\u001b[90m Int64 \u001b[0m\u001b[90m Int64 \u001b[0m\u001b[90m Int64?  \u001b[0m\u001b[90m Int64 \u001b[0m\n",
       "─────┼──────────────────────────────\n",
       "   1 │    19     14 \u001b[90m missing \u001b[0m   189\n",
       "   2 │    18      9        4    132\n",
       "   3 │     6     25 \u001b[90m missing \u001b[0m   158\n",
       "   4 │     3      4        5    148\n",
       "   5 │     1     13       21    178"
      ]
     },
     "execution_count": 89,
     "metadata": {},
     "output_type": "execute_result"
    }
   ],
   "source": [
    "sort!(X, [\"col1\", \"col2\"], rev=[true, false])"
   ]
  },
  {
   "cell_type": "markdown",
   "id": "5c707d30",
   "metadata": {},
   "source": [
    "### Adding rows and columns \n",
    "Adding rows and columns is a very common procedure - it should become as comfortable as adding sides to the playdough structure that we've made.\n",
    "\n",
    "In R;\n",
    "```R\n",
    "X$var4 <- rnorm(5)\n",
    "```"
   ]
  },
  {
   "cell_type": "markdown",
   "id": "7aca353e",
   "metadata": {},
   "source": [
    "In Julia we can index into a column which doesn't exist yet, but soon will "
   ]
  },
  {
   "cell_type": "code",
   "execution_count": 87,
   "id": "49f802de",
   "metadata": {},
   "outputs": [
    {
     "data": {
      "text/plain": [
       "5-element Vector{Int64}:\n",
       " 189\n",
       " 132\n",
       " 158\n",
       " 148\n",
       " 178"
      ]
     },
     "execution_count": 87,
     "metadata": {},
     "output_type": "execute_result"
    }
   ],
   "source": [
    "X.col4 = rand(100:200, 5)"
   ]
  },
  {
   "cell_type": "code",
   "execution_count": 88,
   "id": "6a00ae7e",
   "metadata": {},
   "outputs": [
    {
     "data": {
      "text/html": [
       "<div><div style = \"float: left;\"><span>5×4 DataFrame</span></div><div style = \"clear: both;\"></div></div><div class = \"data-frame\" style = \"overflow-x: scroll;\"><table class = \"data-frame\" style = \"margin-bottom: 6px;\"><thead><tr class = \"header\"><th class = \"rowNumber\" style = \"font-weight: bold; text-align: right;\">Row</th><th style = \"text-align: left;\">col1</th><th style = \"text-align: left;\">col2</th><th style = \"text-align: left;\">col3</th><th style = \"text-align: left;\">col4</th></tr><tr class = \"subheader headerLastRow\"><th class = \"rowNumber\" style = \"font-weight: bold; text-align: right;\"></th><th title = \"Int64\" style = \"text-align: left;\">Int64</th><th title = \"Int64\" style = \"text-align: left;\">Int64</th><th title = \"Union{Missing, Int64}\" style = \"text-align: left;\">Int64?</th><th title = \"Int64\" style = \"text-align: left;\">Int64</th></tr></thead><tbody><tr><td class = \"rowNumber\" style = \"font-weight: bold; text-align: right;\">1</td><td style = \"text-align: right;\">19</td><td style = \"text-align: right;\">14</td><td style = \"font-style: italic; text-align: right;\">missing</td><td style = \"text-align: right;\">189</td></tr><tr><td class = \"rowNumber\" style = \"font-weight: bold; text-align: right;\">2</td><td style = \"text-align: right;\">18</td><td style = \"text-align: right;\">9</td><td style = \"text-align: right;\">4</td><td style = \"text-align: right;\">132</td></tr><tr><td class = \"rowNumber\" style = \"font-weight: bold; text-align: right;\">3</td><td style = \"text-align: right;\">6</td><td style = \"text-align: right;\">25</td><td style = \"font-style: italic; text-align: right;\">missing</td><td style = \"text-align: right;\">158</td></tr><tr><td class = \"rowNumber\" style = \"font-weight: bold; text-align: right;\">4</td><td style = \"text-align: right;\">3</td><td style = \"text-align: right;\">4</td><td style = \"text-align: right;\">5</td><td style = \"text-align: right;\">148</td></tr><tr><td class = \"rowNumber\" style = \"font-weight: bold; text-align: right;\">5</td><td style = \"text-align: right;\">1</td><td style = \"text-align: right;\">13</td><td style = \"text-align: right;\">21</td><td style = \"text-align: right;\">178</td></tr></tbody></table></div>"
      ],
      "text/latex": [
       "\\begin{tabular}{r|cccc}\n",
       "\t& col1 & col2 & col3 & col4\\\\\n",
       "\t\\hline\n",
       "\t& Int64 & Int64 & Int64? & Int64\\\\\n",
       "\t\\hline\n",
       "\t1 & 19 & 14 & \\emph{missing} & 189 \\\\\n",
       "\t2 & 18 & 9 & 4 & 132 \\\\\n",
       "\t3 & 6 & 25 & \\emph{missing} & 158 \\\\\n",
       "\t4 & 3 & 4 & 5 & 148 \\\\\n",
       "\t5 & 1 & 13 & 21 & 178 \\\\\n",
       "\\end{tabular}\n"
      ],
      "text/plain": [
       "\u001b[1m5×4 DataFrame\u001b[0m\n",
       "\u001b[1m Row \u001b[0m│\u001b[1m col1  \u001b[0m\u001b[1m col2  \u001b[0m\u001b[1m col3    \u001b[0m\u001b[1m col4  \u001b[0m\n",
       "     │\u001b[90m Int64 \u001b[0m\u001b[90m Int64 \u001b[0m\u001b[90m Int64?  \u001b[0m\u001b[90m Int64 \u001b[0m\n",
       "─────┼──────────────────────────────\n",
       "   1 │    19     14 \u001b[90m missing \u001b[0m   189\n",
       "   2 │    18      9        4    132\n",
       "   3 │     6     25 \u001b[90m missing \u001b[0m   158\n",
       "   4 │     3      4        5    148\n",
       "   5 │     1     13       21    178"
      ]
     },
     "execution_count": 88,
     "metadata": {},
     "output_type": "execute_result"
    }
   ],
   "source": [
    "X"
   ]
  },
  {
   "cell_type": "code",
   "execution_count": null,
   "id": "c1c6bed7",
   "metadata": {},
   "outputs": [],
   "source": []
  },
  {
   "cell_type": "code",
   "execution_count": null,
   "id": "4c95610e",
   "metadata": {},
   "outputs": [],
   "source": []
  },
  {
   "cell_type": "code",
   "execution_count": null,
   "id": "85a50873",
   "metadata": {},
   "outputs": [],
   "source": []
  },
  {
   "cell_type": "code",
   "execution_count": null,
   "id": "4ca63ee0",
   "metadata": {},
   "outputs": [],
   "source": []
  },
  {
   "cell_type": "code",
   "execution_count": null,
   "id": "93d86470",
   "metadata": {},
   "outputs": [],
   "source": []
  },
  {
   "cell_type": "code",
   "execution_count": null,
   "id": "b235b6ed",
   "metadata": {},
   "outputs": [],
   "source": []
  },
  {
   "cell_type": "code",
   "execution_count": null,
   "id": "a64c7e29",
   "metadata": {},
   "outputs": [],
   "source": []
  },
  {
   "cell_type": "code",
   "execution_count": null,
   "id": "570c0240",
   "metadata": {},
   "outputs": [],
   "source": []
  }
 ],
 "metadata": {
  "kernelspec": {
   "display_name": "Julia 1.10.0",
   "language": "julia",
   "name": "julia-1.10"
  },
  "language_info": {
   "file_extension": ".jl",
   "mimetype": "application/julia",
   "name": "julia",
   "version": "1.10.0"
  }
 },
 "nbformat": 4,
 "nbformat_minor": 5
}
