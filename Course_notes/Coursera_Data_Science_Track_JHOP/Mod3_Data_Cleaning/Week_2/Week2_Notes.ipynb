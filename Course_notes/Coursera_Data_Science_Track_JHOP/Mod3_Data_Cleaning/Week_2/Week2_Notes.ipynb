{
 "cells": [
  {
   "cell_type": "markdown",
   "id": "f95108e3",
   "metadata": {},
   "source": [
    "# Week 2 Notes - Getting and Cleaning Data"
   ]
  },
  {
   "cell_type": "markdown",
   "id": "2b822461",
   "metadata": {},
   "source": [
    "## Reading from MySQL\n",
    "Data in SQL are structured into databases -> databases consist of tables with fields -> tables contain entries as rows. The tables themselves often represent specific aspects of the data which are interlinked within the database - say a table for the salaries of employees, another of the annnual leave, another table for their personal details and so on. "
   ]
  },
  {
   "cell_type": "markdown",
   "id": "708828ae",
   "metadata": {},
   "source": [
    "## Let's install MySQL\n",
    "In R `install.packages(\"RMySQL\")` "
   ]
  },
  {
   "cell_type": "markdown",
   "id": "5197de16",
   "metadata": {},
   "source": [
    "In julia"
   ]
  },
  {
   "cell_type": "code",
   "execution_count": 1,
   "id": "f9499c69",
   "metadata": {},
   "outputs": [
    {
     "name": "stderr",
     "output_type": "stream",
     "text": [
      "\u001b[32m\u001b[1m   Resolving\u001b[22m\u001b[39m package versions...\n",
      "\u001b[32m\u001b[1m  No Changes\u001b[22m\u001b[39m to `~/.julia/environments/v1.10/Project.toml`\n",
      "\u001b[32m\u001b[1m  No Changes\u001b[22m\u001b[39m to `~/.julia/environments/v1.10/Manifest.toml`\n"
     ]
    }
   ],
   "source": [
    "using Pkg; Pkg.add(\"MySQL\") ; using MySQL"
   ]
  },
  {
   "cell_type": "code",
   "execution_count": 2,
   "id": "a594e442",
   "metadata": {},
   "outputs": [
    {
     "name": "stderr",
     "output_type": "stream",
     "text": [
      "\u001b[32m\u001b[1m   Resolving\u001b[22m\u001b[39m package versions...\n",
      "\u001b[32m\u001b[1m  No Changes\u001b[22m\u001b[39m to `~/.julia/environments/v1.10/Project.toml`\n",
      "\u001b[32m\u001b[1m  No Changes\u001b[22m\u001b[39m to `~/.julia/environments/v1.10/Manifest.toml`\n"
     ]
    }
   ],
   "source": [
    "Pkg.add(\"DataFrames\") ; using DataFrames  "
   ]
  },
  {
   "cell_type": "markdown",
   "id": "aad885b6",
   "metadata": {},
   "source": [
    "## Connecting to databases - UCSC genome browser example"
   ]
  },
  {
   "cell_type": "markdown",
   "id": "ec953801",
   "metadata": {},
   "source": [
    "Connecting to the UCSC MySQL server and pulling the databases on UCSC that are available to us -- let's do it in R. This will establish a connection to the server - a stream, and then using this stream we will execute a MySQL command `show databases;` to retrieve the available databases, and then disconnect from the stream. \n",
    "```R\n",
    "ucscDB <- dbConnect(MySQL(), user=\"genome\", host=\"genome-mysql.cse.ucsc.edu\")  \n",
    "result <- dbGetQuery(ucscDB, \"show databases;\"); dbDisconnect(ucscDB);\n",
    "```"
   ]
  },
  {
   "cell_type": "markdown",
   "id": "22b58b69",
   "metadata": {},
   "source": [
    "In Julia we can do this by employing the MySQL.jl package - part of the Databases.jl family;"
   ]
  },
  {
   "cell_type": "code",
   "execution_count": 3,
   "id": "f8d40d4e",
   "metadata": {},
   "outputs": [
    {
     "data": {
      "text/plain": [
       "MySQL.Connection(host=\"genome-mysql.soe.ucsc.edu\", user=\"genome\", port=\"3306\", db=\"\")"
      ]
     },
     "execution_count": 3,
     "metadata": {},
     "output_type": "execute_result"
    }
   ],
   "source": [
    "# Connecting https://mysql.juliadatabases.org/dev/\n",
    "ucscDB = DBInterface.connect(MySQL.Connection, \"genome-mysql.soe.ucsc.edu\", \"genome\")"
   ]
  },
  {
   "cell_type": "code",
   "execution_count": 4,
   "id": "56a7efa8",
   "metadata": {},
   "outputs": [],
   "source": [
    "# Query the server and store the query in a dataframe - or a csv etc. \n",
    "result = DBInterface.execute(ucscDB, \"show databases\") |> DataFrame; "
   ]
  },
  {
   "cell_type": "code",
   "execution_count": 5,
   "id": "96c7b4b9",
   "metadata": {
    "scrolled": true
   },
   "outputs": [
    {
     "data": {
      "text/html": [
       "<div><div style = \"float: left;\"><span>340×1 DataFrame</span></div><div style = \"float: right;\"><span style = \"font-style: italic;\">315 rows omitted</span></div><div style = \"clear: both;\"></div></div><div class = \"data-frame\" style = \"overflow-x: scroll;\"><table class = \"data-frame\" style = \"margin-bottom: 6px;\"><thead><tr class = \"header\"><th class = \"rowNumber\" style = \"font-weight: bold; text-align: right;\">Row</th><th style = \"text-align: left;\">Database</th></tr><tr class = \"subheader headerLastRow\"><th class = \"rowNumber\" style = \"font-weight: bold; text-align: right;\"></th><th title = \"String\" style = \"text-align: left;\">String</th></tr></thead><tbody><tr><td class = \"rowNumber\" style = \"font-weight: bold; text-align: right;\">1</td><td style = \"text-align: left;\">acaChl1</td></tr><tr><td class = \"rowNumber\" style = \"font-weight: bold; text-align: right;\">2</td><td style = \"text-align: left;\">ailMel1</td></tr><tr><td class = \"rowNumber\" style = \"font-weight: bold; text-align: right;\">3</td><td style = \"text-align: left;\">allMis1</td></tr><tr><td class = \"rowNumber\" style = \"font-weight: bold; text-align: right;\">4</td><td style = \"text-align: left;\">allSin1</td></tr><tr><td class = \"rowNumber\" style = \"font-weight: bold; text-align: right;\">5</td><td style = \"text-align: left;\">amaVit1</td></tr><tr><td class = \"rowNumber\" style = \"font-weight: bold; text-align: right;\">6</td><td style = \"text-align: left;\">anaPla1</td></tr><tr><td class = \"rowNumber\" style = \"font-weight: bold; text-align: right;\">7</td><td style = \"text-align: left;\">ancCey1</td></tr><tr><td class = \"rowNumber\" style = \"font-weight: bold; text-align: right;\">8</td><td style = \"text-align: left;\">angJap1</td></tr><tr><td class = \"rowNumber\" style = \"font-weight: bold; text-align: right;\">9</td><td style = \"text-align: left;\">anoCar1</td></tr><tr><td class = \"rowNumber\" style = \"font-weight: bold; text-align: right;\">10</td><td style = \"text-align: left;\">anoCar2</td></tr><tr><td class = \"rowNumber\" style = \"font-weight: bold; text-align: right;\">11</td><td style = \"text-align: left;\">anoGam1</td></tr><tr><td class = \"rowNumber\" style = \"font-weight: bold; text-align: right;\">12</td><td style = \"text-align: left;\">anoGam3</td></tr><tr><td class = \"rowNumber\" style = \"font-weight: bold; text-align: right;\">13</td><td style = \"text-align: left;\">apaSpi1</td></tr><tr><td style = \"text-align: right;\">&vellip;</td><td style = \"text-align: right;\">&vellip;</td></tr><tr><td class = \"rowNumber\" style = \"font-weight: bold; text-align: right;\">329</td><td style = \"text-align: left;\">vicPac1</td></tr><tr><td class = \"rowNumber\" style = \"font-weight: bold; text-align: right;\">330</td><td style = \"text-align: left;\">vicPac2</td></tr><tr><td class = \"rowNumber\" style = \"font-weight: bold; text-align: right;\">331</td><td style = \"text-align: left;\">visiGene</td></tr><tr><td class = \"rowNumber\" style = \"font-weight: bold; text-align: right;\">332</td><td style = \"text-align: left;\">wuhCor1</td></tr><tr><td class = \"rowNumber\" style = \"font-weight: bold; text-align: right;\">333</td><td style = \"text-align: left;\">xenLae2</td></tr><tr><td class = \"rowNumber\" style = \"font-weight: bold; text-align: right;\">334</td><td style = \"text-align: left;\">xenTro1</td></tr><tr><td class = \"rowNumber\" style = \"font-weight: bold; text-align: right;\">335</td><td style = \"text-align: left;\">xenTro10</td></tr><tr><td class = \"rowNumber\" style = \"font-weight: bold; text-align: right;\">336</td><td style = \"text-align: left;\">xenTro2</td></tr><tr><td class = \"rowNumber\" style = \"font-weight: bold; text-align: right;\">337</td><td style = \"text-align: left;\">xenTro3</td></tr><tr><td class = \"rowNumber\" style = \"font-weight: bold; text-align: right;\">338</td><td style = \"text-align: left;\">xenTro7</td></tr><tr><td class = \"rowNumber\" style = \"font-weight: bold; text-align: right;\">339</td><td style = \"text-align: left;\">xenTro9</td></tr><tr><td class = \"rowNumber\" style = \"font-weight: bold; text-align: right;\">340</td><td style = \"text-align: left;\">zonAlb1</td></tr></tbody></table></div>"
      ],
      "text/latex": [
       "\\begin{tabular}{r|c}\n",
       "\t& Database\\\\\n",
       "\t\\hline\n",
       "\t& String\\\\\n",
       "\t\\hline\n",
       "\t1 & acaChl1 \\\\\n",
       "\t2 & ailMel1 \\\\\n",
       "\t3 & allMis1 \\\\\n",
       "\t4 & allSin1 \\\\\n",
       "\t5 & amaVit1 \\\\\n",
       "\t6 & anaPla1 \\\\\n",
       "\t7 & ancCey1 \\\\\n",
       "\t8 & angJap1 \\\\\n",
       "\t9 & anoCar1 \\\\\n",
       "\t10 & anoCar2 \\\\\n",
       "\t11 & anoGam1 \\\\\n",
       "\t12 & anoGam3 \\\\\n",
       "\t13 & apaSpi1 \\\\\n",
       "\t14 & apaVit1 \\\\\n",
       "\t15 & apiMel1 \\\\\n",
       "\t16 & apiMel2 \\\\\n",
       "\t17 & aplCal1 \\\\\n",
       "\t18 & aptFor1 \\\\\n",
       "\t19 & aptMan1 \\\\\n",
       "\t20 & aquChr2 \\\\\n",
       "\t21 & araMac1 \\\\\n",
       "\t22 & ascSuu1 \\\\\n",
       "\t23 & balAcu1 \\\\\n",
       "\t24 & balPav1 \\\\\n",
       "\t25 & bisBis1 \\\\\n",
       "\t26 & bosTau2 \\\\\n",
       "\t27 & bosTau3 \\\\\n",
       "\t28 & bosTau4 \\\\\n",
       "\t29 & bosTau5 \\\\\n",
       "\t30 & bosTau6 \\\\\n",
       "\t$\\dots$ & $\\dots$ \\\\\n",
       "\\end{tabular}\n"
      ],
      "text/plain": [
       "\u001b[1m340×1 DataFrame\u001b[0m\n",
       "\u001b[1m Row \u001b[0m│\u001b[1m Database \u001b[0m\n",
       "     │\u001b[90m String   \u001b[0m\n",
       "─────┼──────────\n",
       "   1 │ acaChl1\n",
       "   2 │ ailMel1\n",
       "   3 │ allMis1\n",
       "   4 │ allSin1\n",
       "   5 │ amaVit1\n",
       "   6 │ anaPla1\n",
       "   7 │ ancCey1\n",
       "   8 │ angJap1\n",
       "   9 │ anoCar1\n",
       "  10 │ anoCar2\n",
       "  11 │ anoGam1\n",
       "  ⋮  │    ⋮\n",
       " 331 │ visiGene\n",
       " 332 │ wuhCor1\n",
       " 333 │ xenLae2\n",
       " 334 │ xenTro1\n",
       " 335 │ xenTro10\n",
       " 336 │ xenTro2\n",
       " 337 │ xenTro3\n",
       " 338 │ xenTro7\n",
       " 339 │ xenTro9\n",
       " 340 │ zonAlb1\n",
       "\u001b[36m319 rows omitted\u001b[0m"
      ]
     },
     "execution_count": 5,
     "metadata": {},
     "output_type": "execute_result"
    }
   ],
   "source": [
    "# Lets view the result - we can see that it lists all the genomes stored on UCSC\n",
    "result"
   ]
  },
  {
   "cell_type": "code",
   "execution_count": 6,
   "id": "8d1beda9",
   "metadata": {},
   "outputs": [
    {
     "data": {
      "text/plain": [
       "true"
      ]
     },
     "execution_count": 6,
     "metadata": {},
     "output_type": "execute_result"
    }
   ],
   "source": [
    "\"hg38\" in result.Database "
   ]
  },
  {
   "cell_type": "code",
   "execution_count": 7,
   "id": "6c644c23",
   "metadata": {},
   "outputs": [],
   "source": [
    "# Close the connection stream \n",
    "DBInterface.close!(ucscDB)"
   ]
  },
  {
   "cell_type": "markdown",
   "id": "048fe33f",
   "metadata": {},
   "source": [
    "### Now that we've connected to the MySQL server, we will connect to a specific database and perform some queries. "
   ]
  },
  {
   "cell_type": "markdown",
   "id": "c42de124",
   "metadata": {},
   "source": [
    "In R - we'll connect, retrieve all of the table associated with the db, and then execute a funtion to see how many table are stored \n",
    "```R\n",
    "hg38 <- dbConnect(MySQL(), user=\"genome\", db=\"hg38\", host=\"genome-mysql.soe.ucsc.edu\")\n",
    "allTables <- dbListTables(hg38)\n",
    "length(allTables)\n",
    "```"
   ]
  },
  {
   "cell_type": "markdown",
   "id": "7729e165",
   "metadata": {},
   "source": [
    "Let's get cracking on Julia"
   ]
  },
  {
   "cell_type": "code",
   "execution_count": 8,
   "id": "9d6102cd",
   "metadata": {},
   "outputs": [
    {
     "data": {
      "text/plain": [
       "MySQL.Connection(host=\"genome-mysql.soe.ucsc.edu\", user=\"genome\", port=\"3306\", db=\"hg38\")"
      ]
     },
     "execution_count": 8,
     "metadata": {},
     "output_type": "execute_result"
    }
   ],
   "source": [
    "hg38 = DBInterface.connect(MySQL.Connection, \"genome-mysql.soe.ucsc.edu\", \"genome\", db=\"hg38\")"
   ]
  },
  {
   "cell_type": "code",
   "execution_count": 9,
   "id": "e1da1d31",
   "metadata": {},
   "outputs": [],
   "source": [
    "hg38Tables = DBInterface.execute(hg38, \"show tables\") |> DataFrame; "
   ]
  },
  {
   "cell_type": "code",
   "execution_count": 10,
   "id": "2f71badb",
   "metadata": {},
   "outputs": [
    {
     "data": {
      "text/html": [
       "<div><div style = \"float: left;\"><span>10×1 DataFrame</span></div><div style = \"clear: both;\"></div></div><div class = \"data-frame\" style = \"overflow-x: scroll;\"><table class = \"data-frame\" style = \"margin-bottom: 6px;\"><thead><tr class = \"header\"><th class = \"rowNumber\" style = \"font-weight: bold; text-align: right;\">Row</th><th style = \"text-align: left;\">Tables_in_hg38</th></tr><tr class = \"subheader headerLastRow\"><th class = \"rowNumber\" style = \"font-weight: bold; text-align: right;\"></th><th title = \"String\" style = \"text-align: left;\">String</th></tr></thead><tbody><tr><td class = \"rowNumber\" style = \"font-weight: bold; text-align: right;\">1</td><td style = \"text-align: left;\">affyGnf1h</td></tr><tr><td class = \"rowNumber\" style = \"font-weight: bold; text-align: right;\">2</td><td style = \"text-align: left;\">affyU133</td></tr><tr><td class = \"rowNumber\" style = \"font-weight: bold; text-align: right;\">3</td><td style = \"text-align: left;\">affyU95</td></tr><tr><td class = \"rowNumber\" style = \"font-weight: bold; text-align: right;\">4</td><td style = \"text-align: left;\">all_est</td></tr><tr><td class = \"rowNumber\" style = \"font-weight: bold; text-align: right;\">5</td><td style = \"text-align: left;\">all_mrna</td></tr><tr><td class = \"rowNumber\" style = \"font-weight: bold; text-align: right;\">6</td><td style = \"text-align: left;\">all_sts_primer</td></tr><tr><td class = \"rowNumber\" style = \"font-weight: bold; text-align: right;\">7</td><td style = \"text-align: left;\">all_sts_seq</td></tr><tr><td class = \"rowNumber\" style = \"font-weight: bold; text-align: right;\">8</td><td style = \"text-align: left;\">altLocations</td></tr><tr><td class = \"rowNumber\" style = \"font-weight: bold; text-align: right;\">9</td><td style = \"text-align: left;\">altSeqLiftOverPsl</td></tr><tr><td class = \"rowNumber\" style = \"font-weight: bold; text-align: right;\">10</td><td style = \"text-align: left;\">altSeqLiftOverPslP3</td></tr></tbody></table></div>"
      ],
      "text/latex": [
       "\\begin{tabular}{r|c}\n",
       "\t& Tables\\_in\\_hg38\\\\\n",
       "\t\\hline\n",
       "\t& String\\\\\n",
       "\t\\hline\n",
       "\t1 & affyGnf1h \\\\\n",
       "\t2 & affyU133 \\\\\n",
       "\t3 & affyU95 \\\\\n",
       "\t4 & all\\_est \\\\\n",
       "\t5 & all\\_mrna \\\\\n",
       "\t6 & all\\_sts\\_primer \\\\\n",
       "\t7 & all\\_sts\\_seq \\\\\n",
       "\t8 & altLocations \\\\\n",
       "\t9 & altSeqLiftOverPsl \\\\\n",
       "\t10 & altSeqLiftOverPslP3 \\\\\n",
       "\\end{tabular}\n"
      ],
      "text/plain": [
       "\u001b[1m10×1 DataFrame\u001b[0m\n",
       "\u001b[1m Row \u001b[0m│\u001b[1m Tables_in_hg38      \u001b[0m\n",
       "     │\u001b[90m String              \u001b[0m\n",
       "─────┼─────────────────────\n",
       "   1 │ affyGnf1h\n",
       "   2 │ affyU133\n",
       "   3 │ affyU95\n",
       "   4 │ all_est\n",
       "   5 │ all_mrna\n",
       "   6 │ all_sts_primer\n",
       "   7 │ all_sts_seq\n",
       "   8 │ altLocations\n",
       "   9 │ altSeqLiftOverPsl\n",
       "  10 │ altSeqLiftOverPslP3"
      ]
     },
     "execution_count": 10,
     "metadata": {},
     "output_type": "execute_result"
    }
   ],
   "source": [
    "hg38Tables[1:10, :]"
   ]
  },
  {
   "cell_type": "markdown",
   "id": "43e6f1ad",
   "metadata": {},
   "source": [
    "A whopping 2835 different tables ! UCSC is extreeeeemly information rich, as we can see, there are many many many data sources we can pull from.    "
   ]
  },
  {
   "cell_type": "markdown",
   "id": "242acd26",
   "metadata": {},
   "source": [
    "### Now to investigate the specific fields within a specific table"
   ]
  },
  {
   "cell_type": "markdown",
   "id": "ea1156b7",
   "metadata": {},
   "source": [
    "In R; get a table and perform a basic SQL function to show how many fields are in the table\n",
    "```R\n",
    "dbListFields(hg38, \"all_mrna\")\n",
    "dbGetQuery(hg38, \"select count(*) from all_mrna\")\n",
    "```"
   ]
  },
  {
   "cell_type": "markdown",
   "id": "982abb46",
   "metadata": {},
   "source": [
    "In Julia"
   ]
  },
  {
   "cell_type": "code",
   "execution_count": 11,
   "id": "2557a973",
   "metadata": {},
   "outputs": [],
   "source": [
    "countsql = DBInterface.execute(hg38, \"select count(*) from all_mrna\") |> DataFrame; "
   ]
  },
  {
   "cell_type": "code",
   "execution_count": 12,
   "id": "0a90f02e",
   "metadata": {},
   "outputs": [
    {
     "data": {
      "text/html": [
       "<div><div style = \"float: left;\"><span>1×1 DataFrame</span></div><div style = \"clear: both;\"></div></div><div class = \"data-frame\" style = \"overflow-x: scroll;\"><table class = \"data-frame\" style = \"margin-bottom: 6px;\"><thead><tr class = \"header\"><th class = \"rowNumber\" style = \"font-weight: bold; text-align: right;\">Row</th><th style = \"text-align: left;\">count(*)</th></tr><tr class = \"subheader headerLastRow\"><th class = \"rowNumber\" style = \"font-weight: bold; text-align: right;\"></th><th title = \"Int64\" style = \"text-align: left;\">Int64</th></tr></thead><tbody><tr><td class = \"rowNumber\" style = \"font-weight: bold; text-align: right;\">1</td><td style = \"text-align: right;\">10489979</td></tr></tbody></table></div>"
      ],
      "text/latex": [
       "\\begin{tabular}{r|c}\n",
       "\t& count(*)\\\\\n",
       "\t\\hline\n",
       "\t& Int64\\\\\n",
       "\t\\hline\n",
       "\t1 & 10489979 \\\\\n",
       "\\end{tabular}\n"
      ],
      "text/plain": [
       "\u001b[1m1×1 DataFrame\u001b[0m\n",
       "\u001b[1m Row \u001b[0m│\u001b[1m count(*) \u001b[0m\n",
       "     │\u001b[90m Int64    \u001b[0m\n",
       "─────┼──────────\n",
       "   1 │ 10489979"
      ]
     },
     "execution_count": 12,
     "metadata": {},
     "output_type": "execute_result"
    }
   ],
   "source": [
    "countsql"
   ]
  },
  {
   "cell_type": "markdown",
   "id": "1e8a09cb",
   "metadata": {},
   "source": [
    "Now lets play with the contents of the fields in R\n",
    "\n",
    "```R\n",
    "mrnaData <- dbReadTable(hg38, \"all_mrna\")\n",
    "head(mrnaData)\n",
    "```"
   ]
  },
  {
   "cell_type": "markdown",
   "id": "b13b85e9",
   "metadata": {},
   "source": [
    "Julia !"
   ]
  },
  {
   "cell_type": "code",
   "execution_count": 30,
   "id": "993a2704",
   "metadata": {
    "collapsed": true
   },
   "outputs": [
    {
     "data": {
      "text/html": [
       "<div><div style = \"float: left;\"><span>10489979×22 DataFrame</span></div><div style = \"float: right;\"><span style = \"font-style: italic;\">10489954 rows omitted</span></div><div style = \"clear: both;\"></div></div><div class = \"data-frame\" style = \"overflow-x: scroll;\"><table class = \"data-frame\" style = \"margin-bottom: 6px;\"><thead><tr class = \"header\"><th class = \"rowNumber\" style = \"font-weight: bold; text-align: right;\">Row</th><th style = \"text-align: left;\">bin</th><th style = \"text-align: left;\">matches</th><th style = \"text-align: left;\">misMatches</th><th style = \"text-align: left;\">repMatches</th><th style = \"text-align: left;\">nCount</th><th style = \"text-align: left;\">qNumInsert</th><th style = \"text-align: left;\">qBaseInsert</th><th style = \"text-align: left;\">tNumInsert</th><th style = \"text-align: left;\">tBaseInsert</th><th style = \"text-align: left;\">strand</th><th style = \"text-align: left;\">qName</th><th style = \"text-align: left;\">qSize</th><th style = \"text-align: left;\">qStart</th><th style = \"text-align: left;\">qEnd</th><th style = \"text-align: left;\">tName</th><th style = \"text-align: left;\">tSize</th><th style = \"text-align: left;\">tStart</th><th style = \"text-align: left;\">tEnd</th><th style = \"text-align: left;\">blockCount</th><th style = \"text-align: left;\">blockSizes</th><th style = \"text-align: left;\">qStarts</th><th style = \"text-align: left;\">tStarts</th></tr><tr class = \"subheader headerLastRow\"><th class = \"rowNumber\" style = \"font-weight: bold; text-align: right;\"></th><th title = \"UInt16\" style = \"text-align: left;\">UInt16</th><th title = \"UInt32\" style = \"text-align: left;\">UInt32</th><th title = \"UInt32\" style = \"text-align: left;\">UInt32</th><th title = \"UInt32\" style = \"text-align: left;\">UInt32</th><th title = \"UInt32\" style = \"text-align: left;\">UInt32</th><th title = \"UInt32\" style = \"text-align: left;\">UInt32</th><th title = \"UInt32\" style = \"text-align: left;\">UInt32</th><th title = \"UInt32\" style = \"text-align: left;\">UInt32</th><th title = \"UInt32\" style = \"text-align: left;\">UInt32</th><th title = \"String\" style = \"text-align: left;\">String</th><th title = \"String\" style = \"text-align: left;\">String</th><th title = \"UInt32\" style = \"text-align: left;\">UInt32</th><th title = \"UInt32\" style = \"text-align: left;\">UInt32</th><th title = \"UInt32\" style = \"text-align: left;\">UInt32</th><th title = \"String\" style = \"text-align: left;\">String</th><th title = \"UInt32\" style = \"text-align: left;\">UInt32</th><th title = \"UInt32\" style = \"text-align: left;\">UInt32</th><th title = \"UInt32\" style = \"text-align: left;\">UInt32</th><th title = \"UInt32\" style = \"text-align: left;\">UInt32</th><th title = \"Vector{UInt8}\" style = \"text-align: left;\">Array…</th><th title = \"Vector{UInt8}\" style = \"text-align: left;\">Array…</th><th title = \"Vector{UInt8}\" style = \"text-align: left;\">Array…</th></tr></thead><tbody><tr><td class = \"rowNumber\" style = \"font-weight: bold; text-align: right;\">1</td><td style = \"text-align: right;\">585</td><td style = \"text-align: right;\">1579</td><td style = \"text-align: right;\">25</td><td style = \"text-align: right;\">0</td><td style = \"text-align: right;\">0</td><td style = \"text-align: right;\">0</td><td style = \"text-align: right;\">0</td><td style = \"text-align: right;\">2</td><td style = \"text-align: right;\">884</td><td style = \"text-align: left;\">+</td><td style = \"text-align: left;\">AM992877</td><td style = \"text-align: right;\">1604</td><td style = \"text-align: right;\">0</td><td style = \"text-align: right;\">1604</td><td style = \"text-align: left;\">chr1</td><td style = \"text-align: right;\">248956422</td><td style = \"text-align: right;\">11873</td><td style = \"text-align: right;\">14361</td><td style = \"text-align: right;\">3</td><td style = \"text-align: left;\">UInt8[0x33, 0x35, 0x34, 0x2c, 0x31, 0x30, 0x39, 0x2c, 0x31, 0x31, 0x34, 0x31, 0x2c]</td><td style = \"text-align: left;\">UInt8[0x30, 0x2c, 0x33, 0x35, 0x34, 0x2c, 0x34, 0x36, 0x33, 0x2c]</td><td style = \"text-align: left;\">UInt8[0x31, 0x31, 0x38, 0x37, 0x33, 0x2c, 0x31, 0x32, 0x36, 0x31, 0x32, 0x2c, 0x31, 0x33, 0x32, 0x32, 0x30, 0x2c]</td></tr><tr><td class = \"rowNumber\" style = \"font-weight: bold; text-align: right;\">2</td><td style = \"text-align: right;\">585</td><td style = \"text-align: right;\">1419</td><td style = \"text-align: right;\">21</td><td style = \"text-align: right;\">0</td><td style = \"text-align: right;\">0</td><td style = \"text-align: right;\">0</td><td style = \"text-align: right;\">0</td><td style = \"text-align: right;\">2</td><td style = \"text-align: right;\">1048</td><td style = \"text-align: left;\">+</td><td style = \"text-align: left;\">AM992881</td><td style = \"text-align: right;\">1440</td><td style = \"text-align: right;\">0</td><td style = \"text-align: right;\">1440</td><td style = \"text-align: left;\">chr1</td><td style = \"text-align: right;\">248956422</td><td style = \"text-align: right;\">11873</td><td style = \"text-align: right;\">14361</td><td style = \"text-align: right;\">3</td><td style = \"text-align: left;\">UInt8[0x33, 0x35, 0x34, 0x2c, 0x31, 0x32, 0x37, 0x2c, 0x39, 0x35, 0x39, 0x2c]</td><td style = \"text-align: left;\">UInt8[0x30, 0x2c, 0x33, 0x35, 0x34, 0x2c, 0x34, 0x38, 0x31, 0x2c]</td><td style = \"text-align: left;\">UInt8[0x31, 0x31, 0x38, 0x37, 0x33, 0x2c, 0x31, 0x32, 0x35, 0x39, 0x34, 0x2c, 0x31, 0x33, 0x34, 0x30, 0x32, 0x2c]</td></tr><tr><td class = \"rowNumber\" style = \"font-weight: bold; text-align: right;\">3</td><td style = \"text-align: right;\">585</td><td style = \"text-align: right;\">1533</td><td style = \"text-align: right;\">12</td><td style = \"text-align: right;\">0</td><td style = \"text-align: right;\">0</td><td style = \"text-align: right;\">0</td><td style = \"text-align: right;\">0</td><td style = \"text-align: right;\">4</td><td style = \"text-align: right;\">944</td><td style = \"text-align: left;\">+</td><td style = \"text-align: left;\">AM992878</td><td style = \"text-align: right;\">1545</td><td style = \"text-align: right;\">0</td><td style = \"text-align: right;\">1545</td><td style = \"text-align: left;\">chr1</td><td style = \"text-align: right;\">248956422</td><td style = \"text-align: right;\">11873</td><td style = \"text-align: right;\">14362</td><td style = \"text-align: right;\">5</td><td style = \"text-align: left;\">UInt8[0x33, 0x35, 0x34, 0x2c, 0x35, 0x32, 0x2c, 0x34, 0x33, 0x36, 0x2c, 0x32, 0x39, 0x39, 0x2c, 0x34, 0x30, 0x34, 0x2c]</td><td style = \"text-align: left;\">UInt8[0x30, 0x2c, 0x33, 0x35, 0x34, 0x2c, 0x34, 0x30, 0x36, 0x2c, 0x38, 0x34, 0x32, 0x2c, 0x31, 0x31, 0x34, 0x31, 0x2c]</td><td style = \"text-align: left;\">UInt8[0x31, 0x31, 0x38, 0x37, 0x33, 0x2c, 0x31, 0x32, 0x36, 0x34  …  0x36, 0x35, 0x38, 0x2c, 0x31, 0x33, 0x39, 0x35, 0x38, 0x2c]</td></tr><tr><td class = \"rowNumber\" style = \"font-weight: bold; text-align: right;\">4</td><td style = \"text-align: right;\">585</td><td style = \"text-align: right;\">1578</td><td style = \"text-align: right;\">27</td><td style = \"text-align: right;\">0</td><td style = \"text-align: right;\">0</td><td style = \"text-align: right;\">0</td><td style = \"text-align: right;\">0</td><td style = \"text-align: right;\">2</td><td style = \"text-align: right;\">884</td><td style = \"text-align: left;\">+</td><td style = \"text-align: left;\">AM992879</td><td style = \"text-align: right;\">1605</td><td style = \"text-align: right;\">0</td><td style = \"text-align: right;\">1605</td><td style = \"text-align: left;\">chr1</td><td style = \"text-align: right;\">248956422</td><td style = \"text-align: right;\">11873</td><td style = \"text-align: right;\">14362</td><td style = \"text-align: right;\">3</td><td style = \"text-align: left;\">UInt8[0x33, 0x35, 0x34, 0x2c, 0x31, 0x30, 0x39, 0x2c, 0x31, 0x31, 0x34, 0x32, 0x2c]</td><td style = \"text-align: left;\">UInt8[0x30, 0x2c, 0x33, 0x35, 0x34, 0x2c, 0x34, 0x36, 0x33, 0x2c]</td><td style = \"text-align: left;\">UInt8[0x31, 0x31, 0x38, 0x37, 0x33, 0x2c, 0x31, 0x32, 0x36, 0x31, 0x32, 0x2c, 0x31, 0x33, 0x32, 0x32, 0x30, 0x2c]</td></tr><tr><td class = \"rowNumber\" style = \"font-weight: bold; text-align: right;\">5</td><td style = \"text-align: right;\">585</td><td style = \"text-align: right;\">1652</td><td style = \"text-align: right;\">0</td><td style = \"text-align: right;\">0</td><td style = \"text-align: right;\">0</td><td style = \"text-align: right;\">0</td><td style = \"text-align: right;\">0</td><td style = \"text-align: right;\">2</td><td style = \"text-align: right;\">884</td><td style = \"text-align: left;\">+</td><td style = \"text-align: left;\">AM992871</td><td style = \"text-align: right;\">1652</td><td style = \"text-align: right;\">0</td><td style = \"text-align: right;\">1652</td><td style = \"text-align: left;\">chr1</td><td style = \"text-align: right;\">248956422</td><td style = \"text-align: right;\">11873</td><td style = \"text-align: right;\">14409</td><td style = \"text-align: right;\">3</td><td style = \"text-align: left;\">UInt8[0x33, 0x35, 0x34, 0x2c, 0x31, 0x30, 0x39, 0x2c, 0x31, 0x31, 0x38, 0x39, 0x2c]</td><td style = \"text-align: left;\">UInt8[0x30, 0x2c, 0x33, 0x35, 0x34, 0x2c, 0x34, 0x36, 0x33, 0x2c]</td><td style = \"text-align: left;\">UInt8[0x31, 0x31, 0x38, 0x37, 0x33, 0x2c, 0x31, 0x32, 0x36, 0x31, 0x32, 0x2c, 0x31, 0x33, 0x32, 0x32, 0x30, 0x2c]</td></tr><tr><td class = \"rowNumber\" style = \"font-weight: bold; text-align: right;\">6</td><td style = \"text-align: right;\">585</td><td style = \"text-align: right;\">1650</td><td style = \"text-align: right;\">2</td><td style = \"text-align: right;\">0</td><td style = \"text-align: right;\">0</td><td style = \"text-align: right;\">0</td><td style = \"text-align: right;\">0</td><td style = \"text-align: right;\">2</td><td style = \"text-align: right;\">884</td><td style = \"text-align: left;\">+</td><td style = \"text-align: left;\">AM992872</td><td style = \"text-align: right;\">1652</td><td style = \"text-align: right;\">0</td><td style = \"text-align: right;\">1652</td><td style = \"text-align: left;\">chr1</td><td style = \"text-align: right;\">248956422</td><td style = \"text-align: right;\">11873</td><td style = \"text-align: right;\">14409</td><td style = \"text-align: right;\">3</td><td style = \"text-align: left;\">UInt8[0x33, 0x35, 0x34, 0x2c, 0x31, 0x30, 0x39, 0x2c, 0x31, 0x31, 0x38, 0x39, 0x2c]</td><td style = \"text-align: left;\">UInt8[0x30, 0x2c, 0x33, 0x35, 0x34, 0x2c, 0x34, 0x36, 0x33, 0x2c]</td><td style = \"text-align: left;\">UInt8[0x31, 0x31, 0x38, 0x37, 0x33, 0x2c, 0x31, 0x32, 0x36, 0x31, 0x32, 0x2c, 0x31, 0x33, 0x32, 0x32, 0x30, 0x2c]</td></tr><tr><td class = \"rowNumber\" style = \"font-weight: bold; text-align: right;\">7</td><td style = \"text-align: right;\">585</td><td style = \"text-align: right;\">1648</td><td style = \"text-align: right;\">4</td><td style = \"text-align: right;\">0</td><td style = \"text-align: right;\">0</td><td style = \"text-align: right;\">0</td><td style = \"text-align: right;\">0</td><td style = \"text-align: right;\">2</td><td style = \"text-align: right;\">884</td><td style = \"text-align: left;\">+</td><td style = \"text-align: left;\">AM992875</td><td style = \"text-align: right;\">1652</td><td style = \"text-align: right;\">0</td><td style = \"text-align: right;\">1652</td><td style = \"text-align: left;\">chr1</td><td style = \"text-align: right;\">248956422</td><td style = \"text-align: right;\">11873</td><td style = \"text-align: right;\">14409</td><td style = \"text-align: right;\">3</td><td style = \"text-align: left;\">UInt8[0x33, 0x35, 0x34, 0x2c, 0x31, 0x30, 0x39, 0x2c, 0x31, 0x31, 0x38, 0x39, 0x2c]</td><td style = \"text-align: left;\">UInt8[0x30, 0x2c, 0x33, 0x35, 0x34, 0x2c, 0x34, 0x36, 0x33, 0x2c]</td><td style = \"text-align: left;\">UInt8[0x31, 0x31, 0x38, 0x37, 0x33, 0x2c, 0x31, 0x32, 0x36, 0x31, 0x32, 0x2c, 0x31, 0x33, 0x32, 0x32, 0x30, 0x2c]</td></tr><tr><td class = \"rowNumber\" style = \"font-weight: bold; text-align: right;\">8</td><td style = \"text-align: right;\">585</td><td style = \"text-align: right;\">1485</td><td style = \"text-align: right;\">3</td><td style = \"text-align: right;\">0</td><td style = \"text-align: right;\">0</td><td style = \"text-align: right;\">0</td><td style = \"text-align: right;\">0</td><td style = \"text-align: right;\">2</td><td style = \"text-align: right;\">1048</td><td style = \"text-align: left;\">+</td><td style = \"text-align: left;\">AM992880</td><td style = \"text-align: right;\">1488</td><td style = \"text-align: right;\">0</td><td style = \"text-align: right;\">1488</td><td style = \"text-align: left;\">chr1</td><td style = \"text-align: right;\">248956422</td><td style = \"text-align: right;\">11873</td><td style = \"text-align: right;\">14409</td><td style = \"text-align: right;\">3</td><td style = \"text-align: left;\">UInt8[0x33, 0x35, 0x34, 0x2c, 0x31, 0x32, 0x37, 0x2c, 0x31, 0x30, 0x30, 0x37, 0x2c]</td><td style = \"text-align: left;\">UInt8[0x30, 0x2c, 0x33, 0x35, 0x34, 0x2c, 0x34, 0x38, 0x31, 0x2c]</td><td style = \"text-align: left;\">UInt8[0x31, 0x31, 0x38, 0x37, 0x33, 0x2c, 0x31, 0x32, 0x35, 0x39, 0x34, 0x2c, 0x31, 0x33, 0x34, 0x30, 0x32, 0x2c]</td></tr><tr><td class = \"rowNumber\" style = \"font-weight: bold; text-align: right;\">9</td><td style = \"text-align: right;\">585</td><td style = \"text-align: right;\">1631</td><td style = \"text-align: right;\">8</td><td style = \"text-align: right;\">0</td><td style = \"text-align: right;\">0</td><td style = \"text-align: right;\">0</td><td style = \"text-align: right;\">0</td><td style = \"text-align: right;\">4</td><td style = \"text-align: right;\">897</td><td style = \"text-align: left;\">+</td><td style = \"text-align: left;\">BC032353</td><td style = \"text-align: right;\">1673</td><td style = \"text-align: right;\">0</td><td style = \"text-align: right;\">1639</td><td style = \"text-align: left;\">chr1</td><td style = \"text-align: right;\">248956422</td><td style = \"text-align: right;\">11873</td><td style = \"text-align: right;\">14409</td><td style = \"text-align: right;\">5</td><td style = \"text-align: left;\">UInt8[0x33, 0x35, 0x34, 0x2c, 0x31, 0x30, 0x39, 0x2c, 0x37, 0x33, 0x37, 0x2c, 0x33, 0x30, 0x30, 0x2c, 0x31, 0x33, 0x39, 0x2c]</td><td style = \"text-align: left;\">UInt8[0x30, 0x2c, 0x33, 0x35, 0x34, 0x2c, 0x34, 0x36, 0x33, 0x2c, 0x31, 0x32, 0x30, 0x30, 0x2c, 0x31, 0x35, 0x30, 0x30, 0x2c]</td><td style = \"text-align: left;\">UInt8[0x31, 0x31, 0x38, 0x37, 0x33, 0x2c, 0x31, 0x32, 0x36, 0x31  …  0x39, 0x35, 0x38, 0x2c, 0x31, 0x34, 0x32, 0x37, 0x30, 0x2c]</td></tr><tr><td class = \"rowNumber\" style = \"font-weight: bold; text-align: right;\">10</td><td style = \"text-align: right;\">585</td><td style = \"text-align: right;\">1736</td><td style = \"text-align: right;\">4</td><td style = \"text-align: right;\">0</td><td style = \"text-align: right;\">0</td><td style = \"text-align: right;\">0</td><td style = \"text-align: right;\">0</td><td style = \"text-align: right;\">3</td><td style = \"text-align: right;\">796</td><td style = \"text-align: left;\">+</td><td style = \"text-align: left;\">LP896001</td><td style = \"text-align: right;\">1740</td><td style = \"text-align: right;\">0</td><td style = \"text-align: right;\">1740</td><td style = \"text-align: left;\">chr1</td><td style = \"text-align: right;\">248956422</td><td style = \"text-align: right;\">11873</td><td style = \"text-align: right;\">14409</td><td style = \"text-align: right;\">4</td><td style = \"text-align: left;\">UInt8[0x33, 0x35, 0x34, 0x2c, 0x31, 0x32, 0x37, 0x2c, 0x37, 0x30, 0x2c, 0x31, 0x31, 0x38, 0x39, 0x2c]</td><td style = \"text-align: left;\">UInt8[0x30, 0x2c, 0x33, 0x35, 0x34, 0x2c, 0x34, 0x38, 0x31, 0x2c, 0x35, 0x35, 0x31, 0x2c]</td><td style = \"text-align: left;\">UInt8[0x31, 0x31, 0x38, 0x37, 0x33, 0x2c, 0x31, 0x32, 0x35, 0x39  …  0x39, 0x37, 0x34, 0x2c, 0x31, 0x33, 0x32, 0x32, 0x30, 0x2c]</td></tr><tr><td class = \"rowNumber\" style = \"font-weight: bold; text-align: right;\">11</td><td style = \"text-align: right;\">585</td><td style = \"text-align: right;\">402</td><td style = \"text-align: right;\">0</td><td style = \"text-align: right;\">0</td><td style = \"text-align: right;\">0</td><td style = \"text-align: right;\">0</td><td style = \"text-align: right;\">0</td><td style = \"text-align: right;\">2</td><td style = \"text-align: right;\">1048</td><td style = \"text-align: left;\">+</td><td style = \"text-align: left;\">LP895693</td><td style = \"text-align: right;\">402</td><td style = \"text-align: right;\">0</td><td style = \"text-align: right;\">402</td><td style = \"text-align: left;\">chr1</td><td style = \"text-align: right;\">248956422</td><td style = \"text-align: right;\">12189</td><td style = \"text-align: right;\">13639</td><td style = \"text-align: right;\">3</td><td style = \"text-align: left;\">UInt8[0x33, 0x38, 0x2c, 0x31, 0x32, 0x37, 0x2c, 0x32, 0x33, 0x37, 0x2c]</td><td style = \"text-align: left;\">UInt8[0x30, 0x2c, 0x33, 0x38, 0x2c, 0x31, 0x36, 0x35, 0x2c]</td><td style = \"text-align: left;\">UInt8[0x31, 0x32, 0x31, 0x38, 0x39, 0x2c, 0x31, 0x32, 0x35, 0x39, 0x34, 0x2c, 0x31, 0x33, 0x34, 0x30, 0x32, 0x2c]</td></tr><tr><td class = \"rowNumber\" style = \"font-weight: bold; text-align: right;\">12</td><td style = \"text-align: right;\">585</td><td style = \"text-align: right;\">1241</td><td style = \"text-align: right;\">7</td><td style = \"text-align: right;\">0</td><td style = \"text-align: right;\">0</td><td style = \"text-align: right;\">0</td><td style = \"text-align: right;\">0</td><td style = \"text-align: right;\">3</td><td style = \"text-align: right;\">502</td><td style = \"text-align: left;\">+</td><td style = \"text-align: left;\">AM992873</td><td style = \"text-align: right;\">1248</td><td style = \"text-align: right;\">0</td><td style = \"text-align: right;\">1248</td><td style = \"text-align: left;\">chr1</td><td style = \"text-align: right;\">248956422</td><td style = \"text-align: right;\">12612</td><td style = \"text-align: right;\">14362</td><td style = \"text-align: right;\">4</td><td style = \"text-align: left;\">UInt8[0x31, 0x30, 0x39, 0x2c, 0x34, 0x33, 0x36, 0x2c, 0x32, 0x39, 0x39, 0x2c, 0x34, 0x30, 0x34, 0x2c]</td><td style = \"text-align: left;\">UInt8[0x30, 0x2c, 0x31, 0x30, 0x39, 0x2c, 0x35, 0x34, 0x35, 0x2c, 0x38, 0x34, 0x34, 0x2c]</td><td style = \"text-align: left;\">UInt8[0x31, 0x32, 0x36, 0x31, 0x32, 0x2c, 0x31, 0x33, 0x32, 0x32  …  0x36, 0x35, 0x38, 0x2c, 0x31, 0x33, 0x39, 0x35, 0x38, 0x2c]</td></tr><tr><td class = \"rowNumber\" style = \"font-weight: bold; text-align: right;\">13</td><td style = \"text-align: right;\">585</td><td style = \"text-align: right;\">23</td><td style = \"text-align: right;\">0</td><td style = \"text-align: right;\">0</td><td style = \"text-align: right;\">0</td><td style = \"text-align: right;\">0</td><td style = \"text-align: right;\">0</td><td style = \"text-align: right;\">0</td><td style = \"text-align: right;\">0</td><td style = \"text-align: left;\">+</td><td style = \"text-align: left;\">JD190877</td><td style = \"text-align: right;\">23</td><td style = \"text-align: right;\">0</td><td style = \"text-align: right;\">23</td><td style = \"text-align: left;\">chr1</td><td style = \"text-align: right;\">248956422</td><td style = \"text-align: right;\">12993</td><td style = \"text-align: right;\">13016</td><td style = \"text-align: right;\">1</td><td style = \"text-align: left;\">UInt8[0x32, 0x33, 0x2c]</td><td style = \"text-align: left;\">UInt8[0x30, 0x2c]</td><td style = \"text-align: left;\">UInt8[0x31, 0x32, 0x39, 0x39, 0x33, 0x2c]</td></tr><tr><td style = \"text-align: right;\">&vellip;</td><td style = \"text-align: right;\">&vellip;</td><td style = \"text-align: right;\">&vellip;</td><td style = \"text-align: right;\">&vellip;</td><td style = \"text-align: right;\">&vellip;</td><td style = \"text-align: right;\">&vellip;</td><td style = \"text-align: right;\">&vellip;</td><td style = \"text-align: right;\">&vellip;</td><td style = \"text-align: right;\">&vellip;</td><td style = \"text-align: right;\">&vellip;</td><td style = \"text-align: right;\">&vellip;</td><td style = \"text-align: right;\">&vellip;</td><td style = \"text-align: right;\">&vellip;</td><td style = \"text-align: right;\">&vellip;</td><td style = \"text-align: right;\">&vellip;</td><td style = \"text-align: right;\">&vellip;</td><td style = \"text-align: right;\">&vellip;</td><td style = \"text-align: right;\">&vellip;</td><td style = \"text-align: right;\">&vellip;</td><td style = \"text-align: right;\">&vellip;</td><td style = \"text-align: right;\">&vellip;</td><td style = \"text-align: right;\">&vellip;</td><td style = \"text-align: right;\">&vellip;</td></tr><tr><td class = \"rowNumber\" style = \"font-weight: bold; text-align: right;\">10489968</td><td style = \"text-align: right;\">585</td><td style = \"text-align: right;\">284</td><td style = \"text-align: right;\">3</td><td style = \"text-align: right;\">0</td><td style = \"text-align: right;\">0</td><td style = \"text-align: right;\">0</td><td style = \"text-align: right;\">0</td><td style = \"text-align: right;\">0</td><td style = \"text-align: right;\">0</td><td style = \"text-align: left;\">-</td><td style = \"text-align: left;\">MT594071</td><td style = \"text-align: right;\">327</td><td style = \"text-align: right;\">0</td><td style = \"text-align: right;\">287</td><td style = \"text-align: left;\">chr2_KQ031384v1_fix</td><td style = \"text-align: right;\">481245</td><td style = \"text-align: right;\">118805</td><td style = \"text-align: right;\">119092</td><td style = \"text-align: right;\">1</td><td style = \"text-align: left;\">UInt8[0x32, 0x38, 0x37, 0x2c]</td><td style = \"text-align: left;\">UInt8[0x34, 0x30, 0x2c]</td><td style = \"text-align: left;\">UInt8[0x31, 0x31, 0x38, 0x38, 0x30, 0x35, 0x2c]</td></tr><tr><td class = \"rowNumber\" style = \"font-weight: bold; text-align: right;\">10489969</td><td style = \"text-align: right;\">586</td><td style = \"text-align: right;\">252</td><td style = \"text-align: right;\">6</td><td style = \"text-align: right;\">0</td><td style = \"text-align: right;\">0</td><td style = \"text-align: right;\">1</td><td style = \"text-align: right;\">10</td><td style = \"text-align: right;\">1</td><td style = \"text-align: right;\">5776</td><td style = \"text-align: left;\">-</td><td style = \"text-align: left;\">MT594094</td><td style = \"text-align: right;\">321</td><td style = \"text-align: right;\">2</td><td style = \"text-align: right;\">270</td><td style = \"text-align: left;\">chr2_KQ031384v1_fix</td><td style = \"text-align: right;\">481245</td><td style = \"text-align: right;\">149064</td><td style = \"text-align: right;\">155098</td><td style = \"text-align: right;\">2</td><td style = \"text-align: left;\">UInt8[0x31, 0x36, 0x38, 0x2c, 0x39, 0x30, 0x2c]</td><td style = \"text-align: left;\">UInt8[0x35, 0x31, 0x2c, 0x32, 0x32, 0x39, 0x2c]</td><td style = \"text-align: left;\">UInt8[0x31, 0x34, 0x39, 0x30, 0x36, 0x34, 0x2c, 0x31, 0x35, 0x35, 0x30, 0x30, 0x38, 0x2c]</td></tr><tr><td class = \"rowNumber\" style = \"font-weight: bold; text-align: right;\">10489970</td><td style = \"text-align: right;\">586</td><td style = \"text-align: right;\">287</td><td style = \"text-align: right;\">0</td><td style = \"text-align: right;\">0</td><td style = \"text-align: right;\">0</td><td style = \"text-align: right;\">0</td><td style = \"text-align: right;\">0</td><td style = \"text-align: right;\">0</td><td style = \"text-align: right;\">0</td><td style = \"text-align: left;\">-</td><td style = \"text-align: left;\">MT594092</td><td style = \"text-align: right;\">324</td><td style = \"text-align: right;\">0</td><td style = \"text-align: right;\">287</td><td style = \"text-align: left;\">chr2_KQ031384v1_fix</td><td style = \"text-align: right;\">481245</td><td style = \"text-align: right;\">194000</td><td style = \"text-align: right;\">194287</td><td style = \"text-align: right;\">1</td><td style = \"text-align: left;\">UInt8[0x32, 0x38, 0x37, 0x2c]</td><td style = \"text-align: left;\">UInt8[0x33, 0x37, 0x2c]</td><td style = \"text-align: left;\">UInt8[0x31, 0x39, 0x34, 0x30, 0x30, 0x30, 0x2c]</td></tr><tr><td class = \"rowNumber\" style = \"font-weight: bold; text-align: right;\">10489971</td><td style = \"text-align: right;\">586</td><td style = \"text-align: right;\">285</td><td style = \"text-align: right;\">0</td><td style = \"text-align: right;\">0</td><td style = \"text-align: right;\">0</td><td style = \"text-align: right;\">0</td><td style = \"text-align: right;\">0</td><td style = \"text-align: right;\">0</td><td style = \"text-align: right;\">0</td><td style = \"text-align: left;\">-</td><td style = \"text-align: left;\">MT594101</td><td style = \"text-align: right;\">324</td><td style = \"text-align: right;\">0</td><td style = \"text-align: right;\">285</td><td style = \"text-align: left;\">chr2_KQ031384v1_fix</td><td style = \"text-align: right;\">481245</td><td style = \"text-align: right;\">226167</td><td style = \"text-align: right;\">226452</td><td style = \"text-align: right;\">1</td><td style = \"text-align: left;\">UInt8[0x32, 0x38, 0x35, 0x2c]</td><td style = \"text-align: left;\">UInt8[0x33, 0x39, 0x2c]</td><td style = \"text-align: left;\">UInt8[0x32, 0x32, 0x36, 0x31, 0x36, 0x37, 0x2c]</td></tr><tr><td class = \"rowNumber\" style = \"font-weight: bold; text-align: right;\">10489972</td><td style = \"text-align: right;\">586</td><td style = \"text-align: right;\">279</td><td style = \"text-align: right;\">10</td><td style = \"text-align: right;\">0</td><td style = \"text-align: right;\">0</td><td style = \"text-align: right;\">0</td><td style = \"text-align: right;\">0</td><td style = \"text-align: right;\">0</td><td style = \"text-align: right;\">0</td><td style = \"text-align: left;\">-</td><td style = \"text-align: left;\">MT594072</td><td style = \"text-align: right;\">324</td><td style = \"text-align: right;\">0</td><td style = \"text-align: right;\">289</td><td style = \"text-align: left;\">chr2_KQ031384v1_fix</td><td style = \"text-align: right;\">481245</td><td style = \"text-align: right;\">251398</td><td style = \"text-align: right;\">251687</td><td style = \"text-align: right;\">1</td><td style = \"text-align: left;\">UInt8[0x32, 0x38, 0x39, 0x2c]</td><td style = \"text-align: left;\">UInt8[0x33, 0x35, 0x2c]</td><td style = \"text-align: left;\">UInt8[0x32, 0x35, 0x31, 0x33, 0x39, 0x38, 0x2c]</td></tr><tr><td class = \"rowNumber\" style = \"font-weight: bold; text-align: right;\">10489973</td><td style = \"text-align: right;\">586</td><td style = \"text-align: right;\">285</td><td style = \"text-align: right;\">1</td><td style = \"text-align: right;\">0</td><td style = \"text-align: right;\">0</td><td style = \"text-align: right;\">0</td><td style = \"text-align: right;\">0</td><td style = \"text-align: right;\">1</td><td style = \"text-align: right;\">3</td><td style = \"text-align: left;\">-</td><td style = \"text-align: left;\">MT594073</td><td style = \"text-align: right;\">321</td><td style = \"text-align: right;\">0</td><td style = \"text-align: right;\">286</td><td style = \"text-align: left;\">chr2_KQ031384v1_fix</td><td style = \"text-align: right;\">481245</td><td style = \"text-align: right;\">251398</td><td style = \"text-align: right;\">251687</td><td style = \"text-align: right;\">2</td><td style = \"text-align: left;\">UInt8[0x31, 0x39, 0x33, 0x2c, 0x39, 0x33, 0x2c]</td><td style = \"text-align: left;\">UInt8[0x33, 0x35, 0x2c, 0x32, 0x32, 0x38, 0x2c]</td><td style = \"text-align: left;\">UInt8[0x32, 0x35, 0x31, 0x33, 0x39, 0x38, 0x2c, 0x32, 0x35, 0x31, 0x35, 0x39, 0x34, 0x2c]</td></tr><tr><td class = \"rowNumber\" style = \"font-weight: bold; text-align: right;\">10489974</td><td style = \"text-align: right;\">586</td><td style = \"text-align: right;\">284</td><td style = \"text-align: right;\">2</td><td style = \"text-align: right;\">0</td><td style = \"text-align: right;\">0</td><td style = \"text-align: right;\">0</td><td style = \"text-align: right;\">0</td><td style = \"text-align: right;\">0</td><td style = \"text-align: right;\">0</td><td style = \"text-align: left;\">-</td><td style = \"text-align: left;\">MT594103</td><td style = \"text-align: right;\">324</td><td style = \"text-align: right;\">0</td><td style = \"text-align: right;\">286</td><td style = \"text-align: left;\">chr2_KQ031384v1_fix</td><td style = \"text-align: right;\">481245</td><td style = \"text-align: right;\">251401</td><td style = \"text-align: right;\">251687</td><td style = \"text-align: right;\">1</td><td style = \"text-align: left;\">UInt8[0x32, 0x38, 0x36, 0x2c]</td><td style = \"text-align: left;\">UInt8[0x33, 0x38, 0x2c]</td><td style = \"text-align: left;\">UInt8[0x32, 0x35, 0x31, 0x34, 0x30, 0x31, 0x2c]</td></tr><tr><td class = \"rowNumber\" style = \"font-weight: bold; text-align: right;\">10489975</td><td style = \"text-align: right;\">587</td><td style = \"text-align: right;\">298</td><td style = \"text-align: right;\">4</td><td style = \"text-align: right;\">0</td><td style = \"text-align: right;\">0</td><td style = \"text-align: right;\">0</td><td style = \"text-align: right;\">0</td><td style = \"text-align: right;\">0</td><td style = \"text-align: right;\">0</td><td style = \"text-align: left;\">-</td><td style = \"text-align: left;\">MT594084</td><td style = \"text-align: right;\">336</td><td style = \"text-align: right;\">0</td><td style = \"text-align: right;\">302</td><td style = \"text-align: left;\">chr2_KQ031384v1_fix</td><td style = \"text-align: right;\">481245</td><td style = \"text-align: right;\">353604</td><td style = \"text-align: right;\">353906</td><td style = \"text-align: right;\">1</td><td style = \"text-align: left;\">UInt8[0x33, 0x30, 0x32, 0x2c]</td><td style = \"text-align: left;\">UInt8[0x33, 0x34, 0x2c]</td><td style = \"text-align: left;\">UInt8[0x33, 0x35, 0x33, 0x36, 0x30, 0x34, 0x2c]</td></tr><tr><td class = \"rowNumber\" style = \"font-weight: bold; text-align: right;\">10489976</td><td style = \"text-align: right;\">587</td><td style = \"text-align: right;\">272</td><td style = \"text-align: right;\">4</td><td style = \"text-align: right;\">0</td><td style = \"text-align: right;\">0</td><td style = \"text-align: right;\">0</td><td style = \"text-align: right;\">0</td><td style = \"text-align: right;\">0</td><td style = \"text-align: right;\">0</td><td style = \"text-align: left;\">-</td><td style = \"text-align: left;\">MT594083</td><td style = \"text-align: right;\">321</td><td style = \"text-align: right;\">8</td><td style = \"text-align: right;\">284</td><td style = \"text-align: left;\">chr2_KQ031384v1_fix</td><td style = \"text-align: right;\">481245</td><td style = \"text-align: right;\">376827</td><td style = \"text-align: right;\">377103</td><td style = \"text-align: right;\">1</td><td style = \"text-align: left;\">UInt8[0x32, 0x37, 0x36, 0x2c]</td><td style = \"text-align: left;\">UInt8[0x33, 0x37, 0x2c]</td><td style = \"text-align: left;\">UInt8[0x33, 0x37, 0x36, 0x38, 0x32, 0x37, 0x2c]</td></tr><tr><td class = \"rowNumber\" style = \"font-weight: bold; text-align: right;\">10489977</td><td style = \"text-align: right;\">588</td><td style = \"text-align: right;\">280</td><td style = \"text-align: right;\">7</td><td style = \"text-align: right;\">0</td><td style = \"text-align: right;\">0</td><td style = \"text-align: right;\">0</td><td style = \"text-align: right;\">0</td><td style = \"text-align: right;\">0</td><td style = \"text-align: right;\">0</td><td style = \"text-align: left;\">-</td><td style = \"text-align: left;\">MT594099</td><td style = \"text-align: right;\">321</td><td style = \"text-align: right;\">0</td><td style = \"text-align: right;\">287</td><td style = \"text-align: left;\">chr2_KQ031384v1_fix</td><td style = \"text-align: right;\">481245</td><td style = \"text-align: right;\">428448</td><td style = \"text-align: right;\">428735</td><td style = \"text-align: right;\">1</td><td style = \"text-align: left;\">UInt8[0x32, 0x38, 0x37, 0x2c]</td><td style = \"text-align: left;\">UInt8[0x33, 0x34, 0x2c]</td><td style = \"text-align: left;\">UInt8[0x34, 0x32, 0x38, 0x34, 0x34, 0x38, 0x2c]</td></tr><tr><td class = \"rowNumber\" style = \"font-weight: bold; text-align: right;\">10489978</td><td style = \"text-align: right;\">588</td><td style = \"text-align: right;\">283</td><td style = \"text-align: right;\">3</td><td style = \"text-align: right;\">0</td><td style = \"text-align: right;\">0</td><td style = \"text-align: right;\">0</td><td style = \"text-align: right;\">0</td><td style = \"text-align: right;\">0</td><td style = \"text-align: right;\">0</td><td style = \"text-align: left;\">-</td><td style = \"text-align: left;\">MT594100</td><td style = \"text-align: right;\">321</td><td style = \"text-align: right;\">0</td><td style = \"text-align: right;\">286</td><td style = \"text-align: left;\">chr2_KQ031384v1_fix</td><td style = \"text-align: right;\">481245</td><td style = \"text-align: right;\">428449</td><td style = \"text-align: right;\">428735</td><td style = \"text-align: right;\">1</td><td style = \"text-align: left;\">UInt8[0x32, 0x38, 0x36, 0x2c]</td><td style = \"text-align: left;\">UInt8[0x33, 0x35, 0x2c]</td><td style = \"text-align: left;\">UInt8[0x34, 0x32, 0x38, 0x34, 0x34, 0x39, 0x2c]</td></tr><tr><td class = \"rowNumber\" style = \"font-weight: bold; text-align: right;\">10489979</td><td style = \"text-align: right;\">703</td><td style = \"text-align: right;\">2427</td><td style = \"text-align: right;\">0</td><td style = \"text-align: right;\">0</td><td style = \"text-align: right;\">0</td><td style = \"text-align: right;\">0</td><td style = \"text-align: right;\">0</td><td style = \"text-align: right;\">10</td><td style = \"text-align: right;\">17028</td><td style = \"text-align: left;\">-</td><td style = \"text-align: left;\">MT505392</td><td style = \"text-align: right;\">2427</td><td style = \"text-align: right;\">0</td><td style = \"text-align: right;\">2427</td><td style = \"text-align: left;\">chrX</td><td style = \"text-align: right;\">156040895</td><td style = \"text-align: right;\">15560965</td><td style = \"text-align: right;\">15580420</td><td style = \"text-align: right;\">11</td><td style = \"text-align: left;\">UInt8[0x31, 0x30, 0x34, 0x38, 0x2c, 0x31, 0x39, 0x35, 0x2c, 0x31  …  0x35, 0x2c, 0x32, 0x32, 0x37, 0x2c, 0x31, 0x34, 0x30, 0x2c]</td><td style = \"text-align: left;\">UInt8[0x30, 0x2c, 0x31, 0x30, 0x34, 0x38, 0x2c, 0x31, 0x32, 0x34  …  0x32, 0x30, 0x36, 0x30, 0x2c, 0x32, 0x32, 0x38, 0x37, 0x2c]</td><td style = \"text-align: left;\">UInt8[0x31, 0x35, 0x35, 0x36, 0x30, 0x39, 0x36, 0x35, 0x2c, 0x31  …  0x2c, 0x31, 0x35, 0x35, 0x38, 0x30, 0x32, 0x38, 0x30, 0x2c]</td></tr></tbody></table></div>"
      ],
      "text/latex": [
       "\\begin{tabular}{r|ccccccccc}\n",
       "\t& bin & matches & misMatches & repMatches & nCount & qNumInsert & qBaseInsert & tNumInsert & \\\\\n",
       "\t\\hline\n",
       "\t& UInt16 & UInt32 & UInt32 & UInt32 & UInt32 & UInt32 & UInt32 & UInt32 & \\\\\n",
       "\t\\hline\n",
       "\t1 & 585 & 1579 & 25 & 0 & 0 & 0 & 0 & 2 & $\\dots$ \\\\\n",
       "\t2 & 585 & 1419 & 21 & 0 & 0 & 0 & 0 & 2 & $\\dots$ \\\\\n",
       "\t3 & 585 & 1533 & 12 & 0 & 0 & 0 & 0 & 4 & $\\dots$ \\\\\n",
       "\t4 & 585 & 1578 & 27 & 0 & 0 & 0 & 0 & 2 & $\\dots$ \\\\\n",
       "\t5 & 585 & 1652 & 0 & 0 & 0 & 0 & 0 & 2 & $\\dots$ \\\\\n",
       "\t6 & 585 & 1650 & 2 & 0 & 0 & 0 & 0 & 2 & $\\dots$ \\\\\n",
       "\t7 & 585 & 1648 & 4 & 0 & 0 & 0 & 0 & 2 & $\\dots$ \\\\\n",
       "\t8 & 585 & 1485 & 3 & 0 & 0 & 0 & 0 & 2 & $\\dots$ \\\\\n",
       "\t9 & 585 & 1631 & 8 & 0 & 0 & 0 & 0 & 4 & $\\dots$ \\\\\n",
       "\t10 & 585 & 1736 & 4 & 0 & 0 & 0 & 0 & 3 & $\\dots$ \\\\\n",
       "\t11 & 585 & 402 & 0 & 0 & 0 & 0 & 0 & 2 & $\\dots$ \\\\\n",
       "\t12 & 585 & 1241 & 7 & 0 & 0 & 0 & 0 & 3 & $\\dots$ \\\\\n",
       "\t13 & 585 & 23 & 0 & 0 & 0 & 0 & 0 & 0 & $\\dots$ \\\\\n",
       "\t14 & 585 & 23 & 0 & 0 & 0 & 0 & 0 & 0 & $\\dots$ \\\\\n",
       "\t15 & 585 & 21 & 0 & 0 & 0 & 0 & 0 & 0 & $\\dots$ \\\\\n",
       "\t16 & 585 & 20 & 0 & 0 & 0 & 0 & 0 & 0 & $\\dots$ \\\\\n",
       "\t17 & 585 & 969 & 5 & 0 & 0 & 0 & 0 & 2 & $\\dots$ \\\\\n",
       "\t18 & 585 & 24 & 0 & 0 & 0 & 0 & 0 & 0 & $\\dots$ \\\\\n",
       "\t19 & 585 & 32 & 0 & 0 & 0 & 0 & 0 & 0 & $\\dots$ \\\\\n",
       "\t20 & 585 & 32 & 0 & 0 & 0 & 0 & 0 & 0 & $\\dots$ \\\\\n",
       "\t21 & 585 & 32 & 0 & 0 & 0 & 0 & 0 & 0 & $\\dots$ \\\\\n",
       "\t22 & 585 & 21 & 0 & 0 & 0 & 0 & 0 & 0 & $\\dots$ \\\\\n",
       "\t23 & 585 & 24 & 0 & 0 & 0 & 0 & 0 & 0 & $\\dots$ \\\\\n",
       "\t24 & 585 & 32 & 0 & 0 & 0 & 0 & 0 & 0 & $\\dots$ \\\\\n",
       "\t25 & 585 & 32 & 0 & 0 & 0 & 0 & 0 & 0 & $\\dots$ \\\\\n",
       "\t26 & 585 & 29 & 0 & 0 & 0 & 0 & 0 & 0 & $\\dots$ \\\\\n",
       "\t27 & 585 & 2132 & 7 & 0 & 0 & 2 & 7 & 10 & $\\dots$ \\\\\n",
       "\t28 & 585 & 2543 & 19 & 0 & 0 & 1 & 1 & 10 & $\\dots$ \\\\\n",
       "\t29 & 585 & 2364 & 8 & 0 & 0 & 2 & 7 & 10 & $\\dots$ \\\\\n",
       "\t30 & 585 & 1663 & 29 & 0 & 0 & 3 & 16 & 10 & $\\dots$ \\\\\n",
       "\t$\\dots$ & $\\dots$ & $\\dots$ & $\\dots$ & $\\dots$ & $\\dots$ & $\\dots$ & $\\dots$ & $\\dots$ &  \\\\\n",
       "\\end{tabular}\n"
      ],
      "text/plain": [
       "\u001b[1m10489979×22 DataFrame\u001b[0m\n",
       "\u001b[1m      Row \u001b[0m│\u001b[1m bin    \u001b[0m\u001b[1m matches \u001b[0m\u001b[1m misMatches \u001b[0m\u001b[1m repMatches \u001b[0m\u001b[1m nCount \u001b[0m\u001b[1m qNumInsert \u001b[0m\u001b[1m qBase\u001b[0m ⋯\n",
       "          │\u001b[90m UInt16 \u001b[0m\u001b[90m UInt32  \u001b[0m\u001b[90m UInt32     \u001b[0m\u001b[90m UInt32     \u001b[0m\u001b[90m UInt32 \u001b[0m\u001b[90m UInt32     \u001b[0m\u001b[90m UInt3\u001b[0m ⋯\n",
       "──────────┼─────────────────────────────────────────────────────────────────────\n",
       "        1 │    585     1579          25           0       0           0        ⋯\n",
       "        2 │    585     1419          21           0       0           0\n",
       "        3 │    585     1533          12           0       0           0\n",
       "        4 │    585     1578          27           0       0           0\n",
       "        5 │    585     1652           0           0       0           0        ⋯\n",
       "        6 │    585     1650           2           0       0           0\n",
       "        7 │    585     1648           4           0       0           0\n",
       "        8 │    585     1485           3           0       0           0\n",
       "        9 │    585     1631           8           0       0           0        ⋯\n",
       "       10 │    585     1736           4           0       0           0\n",
       "       11 │    585      402           0           0       0           0\n",
       "    ⋮     │   ⋮        ⋮         ⋮           ⋮         ⋮         ⋮             ⋱\n",
       " 10489970 │    586      287           0           0       0           0\n",
       " 10489971 │    586      285           0           0       0           0        ⋯\n",
       " 10489972 │    586      279          10           0       0           0\n",
       " 10489973 │    586      285           1           0       0           0\n",
       " 10489974 │    586      284           2           0       0           0\n",
       " 10489975 │    587      298           4           0       0           0        ⋯\n",
       " 10489976 │    587      272           4           0       0           0\n",
       " 10489977 │    588      280           7           0       0           0\n",
       " 10489978 │    588      283           3           0       0           0\n",
       " 10489979 │    703     2427           0           0       0           0        ⋯\n",
       "\u001b[36m                                            16 columns and 10489958 rows omitted\u001b[0m"
      ]
     },
     "execution_count": 30,
     "metadata": {},
     "output_type": "execute_result"
    }
   ],
   "source": [
    "mrnaData = DBInterface.execute(hg38, \"select * from all_mrna;\") |> DataFrame"
   ]
  },
  {
   "cell_type": "code",
   "execution_count": 27,
   "id": "f19973e1",
   "metadata": {},
   "outputs": [
    {
     "ename": "LoadError",
     "evalue": "MethodError: no method matching getindex(::MySQL.TextCursor{true}, ::Colon, ::Int64)",
     "output_type": "error",
     "traceback": [
      "MethodError: no method matching getindex(::MySQL.TextCursor{true}, ::Colon, ::Int64)",
      "",
      "Stacktrace:",
      " [1] top-level scope",
      "   @ In[27]:1"
     ]
    }
   ],
   "source": [
    "DataFrame(mrnaData, mrnaData[:, 1]) "
   ]
  },
  {
   "cell_type": "code",
   "execution_count": 29,
   "id": "773d861b",
   "metadata": {},
   "outputs": [
    {
     "name": "stderr",
     "output_type": "stream",
     "text": [
      "\u001b[32m\u001b[1m   Resolving\u001b[22m\u001b[39m package versions...\n",
      "\u001b[32m\u001b[1m  No Changes\u001b[22m\u001b[39m to `~/.julia/environments/v1.10/Project.toml`\n",
      "\u001b[32m\u001b[1m  No Changes\u001b[22m\u001b[39m to `~/.julia/environments/v1.10/Manifest.toml`\n"
     ]
    }
   ],
   "source": [
    "Pkg.add(\"CSV\") ; using CSV"
   ]
  },
  {
   "cell_type": "markdown",
   "id": "c12a9903",
   "metadata": {},
   "source": [
    "### Refined queries \n",
    "MySQL has a wide range of query options which permit the extration of virtually any aspect of the data, with conditionals, ranges, mismatches and so on. These statements must simply be crafted according to the query structure and provided to the julia functions in order to get what you're looking for.    \n",
    "\n",
    "For instance we can extract entries from the table which have values in the 'mismatches' column between 1 and 3;   \n",
    "\n",
    "In R\n",
    "```R\n",
    "query <- dbSendQuery(hg38, \"select * from all_mrna where misMatches between 1 and 3\") \n",
    "mrnas <- fetch(query)\n",
    "```"
   ]
  },
  {
   "cell_type": "markdown",
   "id": "6ec3bd61",
   "metadata": {},
   "source": [
    "In Julia"
   ]
  },
  {
   "cell_type": "code",
   "execution_count": 32,
   "id": "f5014316",
   "metadata": {
    "scrolled": true
   },
   "outputs": [
    {
     "data": {
      "text/html": [
       "<div><div style = \"float: left;\"><span>403833×22 DataFrame</span></div><div style = \"float: right;\"><span style = \"font-style: italic;\">403808 rows omitted</span></div><div style = \"clear: both;\"></div></div><div class = \"data-frame\" style = \"overflow-x: scroll;\"><table class = \"data-frame\" style = \"margin-bottom: 6px;\"><thead><tr class = \"header\"><th class = \"rowNumber\" style = \"font-weight: bold; text-align: right;\">Row</th><th style = \"text-align: left;\">bin</th><th style = \"text-align: left;\">matches</th><th style = \"text-align: left;\">misMatches</th><th style = \"text-align: left;\">repMatches</th><th style = \"text-align: left;\">nCount</th><th style = \"text-align: left;\">qNumInsert</th><th style = \"text-align: left;\">qBaseInsert</th><th style = \"text-align: left;\">tNumInsert</th><th style = \"text-align: left;\">tBaseInsert</th><th style = \"text-align: left;\">strand</th><th style = \"text-align: left;\">qName</th><th style = \"text-align: left;\">qSize</th><th style = \"text-align: left;\">qStart</th><th style = \"text-align: left;\">qEnd</th><th style = \"text-align: left;\">tName</th><th style = \"text-align: left;\">tSize</th><th style = \"text-align: left;\">tStart</th><th style = \"text-align: left;\">tEnd</th><th style = \"text-align: left;\">blockCount</th><th style = \"text-align: left;\">blockSizes</th><th style = \"text-align: left;\">qStarts</th><th style = \"text-align: left;\">tStarts</th></tr><tr class = \"subheader headerLastRow\"><th class = \"rowNumber\" style = \"font-weight: bold; text-align: right;\"></th><th title = \"UInt16\" style = \"text-align: left;\">UInt16</th><th title = \"UInt32\" style = \"text-align: left;\">UInt32</th><th title = \"UInt32\" style = \"text-align: left;\">UInt32</th><th title = \"UInt32\" style = \"text-align: left;\">UInt32</th><th title = \"UInt32\" style = \"text-align: left;\">UInt32</th><th title = \"UInt32\" style = \"text-align: left;\">UInt32</th><th title = \"UInt32\" style = \"text-align: left;\">UInt32</th><th title = \"UInt32\" style = \"text-align: left;\">UInt32</th><th title = \"UInt32\" style = \"text-align: left;\">UInt32</th><th title = \"String\" style = \"text-align: left;\">String</th><th title = \"String\" style = \"text-align: left;\">String</th><th title = \"UInt32\" style = \"text-align: left;\">UInt32</th><th title = \"UInt32\" style = \"text-align: left;\">UInt32</th><th title = \"UInt32\" style = \"text-align: left;\">UInt32</th><th title = \"String\" style = \"text-align: left;\">String</th><th title = \"UInt32\" style = \"text-align: left;\">UInt32</th><th title = \"UInt32\" style = \"text-align: left;\">UInt32</th><th title = \"UInt32\" style = \"text-align: left;\">UInt32</th><th title = \"UInt32\" style = \"text-align: left;\">UInt32</th><th title = \"Vector{UInt8}\" style = \"text-align: left;\">Array…</th><th title = \"Vector{UInt8}\" style = \"text-align: left;\">Array…</th><th title = \"Vector{UInt8}\" style = \"text-align: left;\">Array…</th></tr></thead><tbody><tr><td class = \"rowNumber\" style = \"font-weight: bold; text-align: right;\">1</td><td style = \"text-align: right;\">585</td><td style = \"text-align: right;\">1650</td><td style = \"text-align: right;\">2</td><td style = \"text-align: right;\">0</td><td style = \"text-align: right;\">0</td><td style = \"text-align: right;\">0</td><td style = \"text-align: right;\">0</td><td style = \"text-align: right;\">2</td><td style = \"text-align: right;\">884</td><td style = \"text-align: left;\">+</td><td style = \"text-align: left;\">AM992872</td><td style = \"text-align: right;\">1652</td><td style = \"text-align: right;\">0</td><td style = \"text-align: right;\">1652</td><td style = \"text-align: left;\">chr1</td><td style = \"text-align: right;\">248956422</td><td style = \"text-align: right;\">11873</td><td style = \"text-align: right;\">14409</td><td style = \"text-align: right;\">3</td><td style = \"text-align: left;\">UInt8[0x33, 0x35, 0x34, 0x2c, 0x31, 0x30, 0x39, 0x2c, 0x31, 0x31, 0x38, 0x39, 0x2c]</td><td style = \"text-align: left;\">UInt8[0x30, 0x2c, 0x33, 0x35, 0x34, 0x2c, 0x34, 0x36, 0x33, 0x2c]</td><td style = \"text-align: left;\">UInt8[0x31, 0x31, 0x38, 0x37, 0x33, 0x2c, 0x31, 0x32, 0x36, 0x31, 0x32, 0x2c, 0x31, 0x33, 0x32, 0x32, 0x30, 0x2c]</td></tr><tr><td class = \"rowNumber\" style = \"font-weight: bold; text-align: right;\">2</td><td style = \"text-align: right;\">585</td><td style = \"text-align: right;\">1485</td><td style = \"text-align: right;\">3</td><td style = \"text-align: right;\">0</td><td style = \"text-align: right;\">0</td><td style = \"text-align: right;\">0</td><td style = \"text-align: right;\">0</td><td style = \"text-align: right;\">2</td><td style = \"text-align: right;\">1048</td><td style = \"text-align: left;\">+</td><td style = \"text-align: left;\">AM992880</td><td style = \"text-align: right;\">1488</td><td style = \"text-align: right;\">0</td><td style = \"text-align: right;\">1488</td><td style = \"text-align: left;\">chr1</td><td style = \"text-align: right;\">248956422</td><td style = \"text-align: right;\">11873</td><td style = \"text-align: right;\">14409</td><td style = \"text-align: right;\">3</td><td style = \"text-align: left;\">UInt8[0x33, 0x35, 0x34, 0x2c, 0x31, 0x32, 0x37, 0x2c, 0x31, 0x30, 0x30, 0x37, 0x2c]</td><td style = \"text-align: left;\">UInt8[0x30, 0x2c, 0x33, 0x35, 0x34, 0x2c, 0x34, 0x38, 0x31, 0x2c]</td><td style = \"text-align: left;\">UInt8[0x31, 0x31, 0x38, 0x37, 0x33, 0x2c, 0x31, 0x32, 0x35, 0x39, 0x34, 0x2c, 0x31, 0x33, 0x34, 0x30, 0x32, 0x2c]</td></tr><tr><td class = \"rowNumber\" style = \"font-weight: bold; text-align: right;\">3</td><td style = \"text-align: right;\">585</td><td style = \"text-align: right;\">925</td><td style = \"text-align: right;\">2</td><td style = \"text-align: right;\">0</td><td style = \"text-align: right;\">0</td><td style = \"text-align: right;\">1</td><td style = \"text-align: right;\">3</td><td style = \"text-align: right;\">7</td><td style = \"text-align: right;\">11787</td><td style = \"text-align: left;\">-</td><td style = \"text-align: left;\">AK310121</td><td style = \"text-align: right;\">930</td><td style = \"text-align: right;\">0</td><td style = \"text-align: right;\">930</td><td style = \"text-align: left;\">chr1</td><td style = \"text-align: right;\">248956422</td><td style = \"text-align: right;\">16630</td><td style = \"text-align: right;\">29344</td><td style = \"text-align: right;\">8</td><td style = \"text-align: left;\">UInt8[0x31, 0x33, 0x35, 0x2c, 0x31, 0x39, 0x38, 0x2c, 0x31, 0x33  …  0x30, 0x32, 0x2c, 0x31, 0x35, 0x34, 0x2c, 0x32, 0x34, 0x2c]</td><td style = \"text-align: left;\">UInt8[0x30, 0x2c, 0x31, 0x33, 0x35, 0x2c, 0x33, 0x33, 0x33, 0x2c  …  0x30, 0x2c, 0x37, 0x35, 0x32, 0x2c, 0x39, 0x30, 0x36, 0x2c]</td><td style = \"text-align: left;\">UInt8[0x31, 0x36, 0x36, 0x33, 0x30, 0x2c, 0x31, 0x36, 0x38, 0x35  …  0x37, 0x33, 0x37, 0x2c, 0x32, 0x39, 0x33, 0x32, 0x30, 0x2c]</td></tr><tr><td class = \"rowNumber\" style = \"font-weight: bold; text-align: right;\">4</td><td style = \"text-align: right;\">585</td><td style = \"text-align: right;\">986</td><td style = \"text-align: right;\">1</td><td style = \"text-align: right;\">0</td><td style = \"text-align: right;\">0</td><td style = \"text-align: right;\">0</td><td style = \"text-align: right;\">0</td><td style = \"text-align: right;\">8</td><td style = \"text-align: right;\">11630</td><td style = \"text-align: left;\">-</td><td style = \"text-align: left;\">AK310139</td><td style = \"text-align: right;\">987</td><td style = \"text-align: right;\">0</td><td style = \"text-align: right;\">987</td><td style = \"text-align: left;\">chr1</td><td style = \"text-align: right;\">248956422</td><td style = \"text-align: right;\">16727</td><td style = \"text-align: right;\">29344</td><td style = \"text-align: right;\">9</td><td style = \"text-align: left;\">UInt8[0x33, 0x38, 0x2c, 0x31, 0x39, 0x38, 0x2c, 0x31, 0x33, 0x36  …  0x35, 0x38, 0x2c, 0x31, 0x35, 0x34, 0x2c, 0x32, 0x34, 0x2c]</td><td style = \"text-align: left;\">UInt8[0x30, 0x2c, 0x33, 0x38, 0x2c, 0x32, 0x33, 0x36, 0x2c, 0x33  …  0x31, 0x2c, 0x38, 0x30, 0x39, 0x2c, 0x39, 0x36, 0x33, 0x2c]</td><td style = \"text-align: left;\">UInt8[0x31, 0x36, 0x37, 0x32, 0x37, 0x2c, 0x31, 0x36, 0x38, 0x35  …  0x37, 0x33, 0x37, 0x2c, 0x32, 0x39, 0x33, 0x32, 0x30, 0x2c]</td></tr><tr><td class = \"rowNumber\" style = \"font-weight: bold; text-align: right;\">5</td><td style = \"text-align: right;\">585</td><td style = \"text-align: right;\">970</td><td style = \"text-align: right;\">3</td><td style = \"text-align: right;\">0</td><td style = \"text-align: right;\">0</td><td style = \"text-align: right;\">0</td><td style = \"text-align: right;\">0</td><td style = \"text-align: right;\">4</td><td style = \"text-align: right;\">1101</td><td style = \"text-align: left;\">-</td><td style = \"text-align: left;\">AK294377</td><td style = \"text-align: right;\">973</td><td style = \"text-align: right;\">0</td><td style = \"text-align: right;\">973</td><td style = \"text-align: left;\">chr1</td><td style = \"text-align: right;\">248956422</td><td style = \"text-align: right;\">16938</td><td style = \"text-align: right;\">19012</td><td style = \"text-align: right;\">5</td><td style = \"text-align: left;\">UInt8[0x31, 0x31, 0x37, 0x2c, 0x35, 0x31, 0x30, 0x2c, 0x31, 0x34, 0x37, 0x2c, 0x39, 0x39, 0x2c, 0x31, 0x30, 0x30, 0x2c]</td><td style = \"text-align: left;\">UInt8[0x30, 0x2c, 0x31, 0x31, 0x37, 0x2c, 0x36, 0x32, 0x37, 0x2c, 0x37, 0x37, 0x34, 0x2c, 0x38, 0x37, 0x33, 0x2c]</td><td style = \"text-align: left;\">UInt8[0x31, 0x36, 0x39, 0x33, 0x38, 0x2c, 0x31, 0x37, 0x32, 0x33  …  0x32, 0x36, 0x37, 0x2c, 0x31, 0x38, 0x39, 0x31, 0x32, 0x2c]</td></tr><tr><td class = \"rowNumber\" style = \"font-weight: bold; text-align: right;\">6</td><td style = \"text-align: right;\">585</td><td style = \"text-align: right;\">953</td><td style = \"text-align: right;\">2</td><td style = \"text-align: right;\">0</td><td style = \"text-align: right;\">0</td><td style = \"text-align: right;\">0</td><td style = \"text-align: right;\">0</td><td style = \"text-align: right;\">8</td><td style = \"text-align: right;\">11369</td><td style = \"text-align: left;\">-</td><td style = \"text-align: left;\">AK300161</td><td style = \"text-align: right;\">955</td><td style = \"text-align: right;\">0</td><td style = \"text-align: right;\">955</td><td style = \"text-align: left;\">chr1</td><td style = \"text-align: right;\">248956422</td><td style = \"text-align: right;\">17020</td><td style = \"text-align: right;\">29344</td><td style = \"text-align: right;\">9</td><td style = \"text-align: left;\">UInt8[0x33, 0x35, 0x2c, 0x31, 0x33, 0x36, 0x2c, 0x31, 0x32, 0x35  …  0x32, 0x37, 0x2c, 0x31, 0x35, 0x34, 0x2c, 0x32, 0x34, 0x2c]</td><td style = \"text-align: left;\">UInt8[0x30, 0x2c, 0x33, 0x35, 0x2c, 0x31, 0x37, 0x31, 0x2c, 0x32  …  0x30, 0x2c, 0x37, 0x37, 0x37, 0x2c, 0x39, 0x33, 0x31, 0x2c]</td><td style = \"text-align: left;\">UInt8[0x31, 0x37, 0x30, 0x32, 0x30, 0x2c, 0x31, 0x37, 0x32, 0x33  …  0x37, 0x33, 0x37, 0x2c, 0x32, 0x39, 0x33, 0x32, 0x30, 0x2c]</td></tr><tr><td class = \"rowNumber\" style = \"font-weight: bold; text-align: right;\">7</td><td style = \"text-align: right;\">585</td><td style = \"text-align: right;\">775</td><td style = \"text-align: right;\">1</td><td style = \"text-align: right;\">0</td><td style = \"text-align: right;\">0</td><td style = \"text-align: right;\">0</td><td style = \"text-align: right;\">0</td><td style = \"text-align: right;\">6</td><td style = \"text-align: right;\">10897</td><td style = \"text-align: left;\">-</td><td style = \"text-align: left;\">AK308540</td><td style = \"text-align: right;\">776</td><td style = \"text-align: right;\">0</td><td style = \"text-align: right;\">776</td><td style = \"text-align: left;\">chr1</td><td style = \"text-align: right;\">248956422</td><td style = \"text-align: right;\">17671</td><td style = \"text-align: right;\">29344</td><td style = \"text-align: right;\">7</td><td style = \"text-align: left;\">UInt8[0x37, 0x31, 0x2c, 0x31, 0x34, 0x37, 0x2c, 0x39, 0x35, 0x2c  …  0x32, 0x37, 0x2c, 0x31, 0x35, 0x34, 0x2c, 0x32, 0x34, 0x2c]</td><td style = \"text-align: left;\">UInt8[0x30, 0x2c, 0x37, 0x31, 0x2c, 0x32, 0x31, 0x38, 0x2c, 0x33  …  0x31, 0x2c, 0x35, 0x39, 0x38, 0x2c, 0x37, 0x35, 0x32, 0x2c]</td><td style = \"text-align: left;\">UInt8[0x31, 0x37, 0x36, 0x37, 0x31, 0x2c, 0x31, 0x37, 0x39, 0x31  …  0x37, 0x33, 0x37, 0x2c, 0x32, 0x39, 0x33, 0x32, 0x30, 0x2c]</td></tr><tr><td class = \"rowNumber\" style = \"font-weight: bold; text-align: right;\">8</td><td style = \"text-align: right;\">585</td><td style = \"text-align: right;\">974</td><td style = \"text-align: right;\">2</td><td style = \"text-align: right;\">0</td><td style = \"text-align: right;\">0</td><td style = \"text-align: right;\">0</td><td style = \"text-align: right;\">0</td><td style = \"text-align: right;\">0</td><td style = \"text-align: right;\">0</td><td style = \"text-align: left;\">-</td><td style = \"text-align: left;\">AK311358</td><td style = \"text-align: right;\">976</td><td style = \"text-align: right;\">0</td><td style = \"text-align: right;\">976</td><td style = \"text-align: left;\">chr1</td><td style = \"text-align: right;\">248956422</td><td style = \"text-align: right;\">29043</td><td style = \"text-align: right;\">30019</td><td style = \"text-align: right;\">1</td><td style = \"text-align: left;\">UInt8[0x39, 0x37, 0x36, 0x2c]</td><td style = \"text-align: left;\">UInt8[0x30, 0x2c]</td><td style = \"text-align: left;\">UInt8[0x32, 0x39, 0x30, 0x34, 0x33, 0x2c]</td></tr><tr><td class = \"rowNumber\" style = \"font-weight: bold; text-align: right;\">9</td><td style = \"text-align: right;\">585</td><td style = \"text-align: right;\">1123</td><td style = \"text-align: right;\">1</td><td style = \"text-align: right;\">0</td><td style = \"text-align: right;\">0</td><td style = \"text-align: right;\">0</td><td style = \"text-align: right;\">0</td><td style = \"text-align: right;\">2</td><td style = \"text-align: right;\">341</td><td style = \"text-align: left;\">-</td><td style = \"text-align: left;\">AY341950</td><td style = \"text-align: right;\">1124</td><td style = \"text-align: right;\">0</td><td style = \"text-align: right;\">1124</td><td style = \"text-align: left;\">chr1</td><td style = \"text-align: right;\">248956422</td><td style = \"text-align: right;\">34612</td><td style = \"text-align: right;\">36077</td><td style = \"text-align: right;\">3</td><td style = \"text-align: left;\">UInt8[0x35, 0x36, 0x32, 0x2c, 0x32, 0x30, 0x35, 0x2c, 0x33, 0x35, 0x37, 0x2c]</td><td style = \"text-align: left;\">UInt8[0x30, 0x2c, 0x35, 0x36, 0x32, 0x2c, 0x37, 0x36, 0x37, 0x2c]</td><td style = \"text-align: left;\">UInt8[0x33, 0x34, 0x36, 0x31, 0x32, 0x2c, 0x33, 0x35, 0x32, 0x37, 0x36, 0x2c, 0x33, 0x35, 0x37, 0x32, 0x30, 0x2c]</td></tr><tr><td class = \"rowNumber\" style = \"font-weight: bold; text-align: right;\">10</td><td style = \"text-align: right;\">585</td><td style = \"text-align: right;\">1122</td><td style = \"text-align: right;\">2</td><td style = \"text-align: right;\">0</td><td style = \"text-align: right;\">0</td><td style = \"text-align: right;\">0</td><td style = \"text-align: right;\">0</td><td style = \"text-align: right;\">2</td><td style = \"text-align: right;\">341</td><td style = \"text-align: left;\">-</td><td style = \"text-align: left;\">AY341952</td><td style = \"text-align: right;\">1124</td><td style = \"text-align: right;\">0</td><td style = \"text-align: right;\">1124</td><td style = \"text-align: left;\">chr1</td><td style = \"text-align: right;\">248956422</td><td style = \"text-align: right;\">34612</td><td style = \"text-align: right;\">36077</td><td style = \"text-align: right;\">3</td><td style = \"text-align: left;\">UInt8[0x35, 0x36, 0x32, 0x2c, 0x32, 0x30, 0x35, 0x2c, 0x33, 0x35, 0x37, 0x2c]</td><td style = \"text-align: left;\">UInt8[0x30, 0x2c, 0x35, 0x36, 0x32, 0x2c, 0x37, 0x36, 0x37, 0x2c]</td><td style = \"text-align: left;\">UInt8[0x33, 0x34, 0x36, 0x31, 0x32, 0x2c, 0x33, 0x35, 0x32, 0x37, 0x36, 0x2c, 0x33, 0x35, 0x37, 0x32, 0x30, 0x2c]</td></tr><tr><td class = \"rowNumber\" style = \"font-weight: bold; text-align: right;\">11</td><td style = \"text-align: right;\">586</td><td style = \"text-align: right;\">1381</td><td style = \"text-align: right;\">1</td><td style = \"text-align: right;\">0</td><td style = \"text-align: right;\">0</td><td style = \"text-align: right;\">0</td><td style = \"text-align: right;\">0</td><td style = \"text-align: right;\">0</td><td style = \"text-align: right;\">0</td><td style = \"text-align: left;\">-</td><td style = \"text-align: left;\">AK302573</td><td style = \"text-align: right;\">1382</td><td style = \"text-align: right;\">0</td><td style = \"text-align: right;\">1382</td><td style = \"text-align: left;\">chr1</td><td style = \"text-align: right;\">248956422</td><td style = \"text-align: right;\">137827</td><td style = \"text-align: right;\">139209</td><td style = \"text-align: right;\">1</td><td style = \"text-align: left;\">UInt8[0x31, 0x33, 0x38, 0x32, 0x2c]</td><td style = \"text-align: left;\">UInt8[0x30, 0x2c]</td><td style = \"text-align: left;\">UInt8[0x31, 0x33, 0x37, 0x38, 0x32, 0x37, 0x2c]</td></tr><tr><td class = \"rowNumber\" style = \"font-weight: bold; text-align: right;\">12</td><td style = \"text-align: right;\">586</td><td style = \"text-align: right;\">1625</td><td style = \"text-align: right;\">2</td><td style = \"text-align: right;\">0</td><td style = \"text-align: right;\">0</td><td style = \"text-align: right;\">0</td><td style = \"text-align: right;\">0</td><td style = \"text-align: right;\">0</td><td style = \"text-align: right;\">0</td><td style = \"text-align: left;\">-</td><td style = \"text-align: left;\">AK294489</td><td style = \"text-align: right;\">1627</td><td style = \"text-align: right;\">0</td><td style = \"text-align: right;\">1627</td><td style = \"text-align: left;\">chr1</td><td style = \"text-align: right;\">248956422</td><td style = \"text-align: right;\">137952</td><td style = \"text-align: right;\">139579</td><td style = \"text-align: right;\">1</td><td style = \"text-align: left;\">UInt8[0x31, 0x36, 0x32, 0x37, 0x2c]</td><td style = \"text-align: left;\">UInt8[0x30, 0x2c]</td><td style = \"text-align: left;\">UInt8[0x31, 0x33, 0x37, 0x39, 0x35, 0x32, 0x2c]</td></tr><tr><td class = \"rowNumber\" style = \"font-weight: bold; text-align: right;\">13</td><td style = \"text-align: right;\">586</td><td style = \"text-align: right;\">29</td><td style = \"text-align: right;\">1</td><td style = \"text-align: right;\">0</td><td style = \"text-align: right;\">0</td><td style = \"text-align: right;\">0</td><td style = \"text-align: right;\">0</td><td style = \"text-align: right;\">0</td><td style = \"text-align: right;\">0</td><td style = \"text-align: left;\">-</td><td style = \"text-align: left;\">DQ574318</td><td style = \"text-align: right;\">31</td><td style = \"text-align: right;\">0</td><td style = \"text-align: right;\">30</td><td style = \"text-align: left;\">chr1</td><td style = \"text-align: right;\">248956422</td><td style = \"text-align: right;\">139520</td><td style = \"text-align: right;\">139550</td><td style = \"text-align: right;\">1</td><td style = \"text-align: left;\">UInt8[0x33, 0x30, 0x2c]</td><td style = \"text-align: left;\">UInt8[0x31, 0x2c]</td><td style = \"text-align: left;\">UInt8[0x31, 0x33, 0x39, 0x35, 0x32, 0x30, 0x2c]</td></tr><tr><td style = \"text-align: right;\">&vellip;</td><td style = \"text-align: right;\">&vellip;</td><td style = \"text-align: right;\">&vellip;</td><td style = \"text-align: right;\">&vellip;</td><td style = \"text-align: right;\">&vellip;</td><td style = \"text-align: right;\">&vellip;</td><td style = \"text-align: right;\">&vellip;</td><td style = \"text-align: right;\">&vellip;</td><td style = \"text-align: right;\">&vellip;</td><td style = \"text-align: right;\">&vellip;</td><td style = \"text-align: right;\">&vellip;</td><td style = \"text-align: right;\">&vellip;</td><td style = \"text-align: right;\">&vellip;</td><td style = \"text-align: right;\">&vellip;</td><td style = \"text-align: right;\">&vellip;</td><td style = \"text-align: right;\">&vellip;</td><td style = \"text-align: right;\">&vellip;</td><td style = \"text-align: right;\">&vellip;</td><td style = \"text-align: right;\">&vellip;</td><td style = \"text-align: right;\">&vellip;</td><td style = \"text-align: right;\">&vellip;</td><td style = \"text-align: right;\">&vellip;</td><td style = \"text-align: right;\">&vellip;</td></tr><tr><td class = \"rowNumber\" style = \"font-weight: bold; text-align: right;\">403822</td><td style = \"text-align: right;\">1270</td><td style = \"text-align: right;\">283</td><td style = \"text-align: right;\">3</td><td style = \"text-align: right;\">0</td><td style = \"text-align: right;\">0</td><td style = \"text-align: right;\">0</td><td style = \"text-align: right;\">0</td><td style = \"text-align: right;\">0</td><td style = \"text-align: right;\">0</td><td style = \"text-align: left;\">+</td><td style = \"text-align: left;\">MT594100</td><td style = \"text-align: right;\">321</td><td style = \"text-align: right;\">0</td><td style = \"text-align: right;\">286</td><td style = \"text-align: left;\">chr2</td><td style = \"text-align: right;\">242193529</td><td style = \"text-align: right;\">89862694</td><td style = \"text-align: right;\">89862980</td><td style = \"text-align: right;\">1</td><td style = \"text-align: left;\">UInt8[0x32, 0x38, 0x36, 0x2c]</td><td style = \"text-align: left;\">UInt8[0x30, 0x2c]</td><td style = \"text-align: left;\">UInt8[0x38, 0x39, 0x38, 0x36, 0x32, 0x36, 0x39, 0x34, 0x2c]</td></tr><tr><td class = \"rowNumber\" style = \"font-weight: bold; text-align: right;\">403823</td><td style = \"text-align: right;\">755</td><td style = \"text-align: right;\">294</td><td style = \"text-align: right;\">2</td><td style = \"text-align: right;\">0</td><td style = \"text-align: right;\">0</td><td style = \"text-align: right;\">0</td><td style = \"text-align: right;\">0</td><td style = \"text-align: right;\">0</td><td style = \"text-align: right;\">0</td><td style = \"text-align: left;\">+</td><td style = \"text-align: left;\">MT594091</td><td style = \"text-align: right;\">330</td><td style = \"text-align: right;\">0</td><td style = \"text-align: right;\">296</td><td style = \"text-align: left;\">chr22</td><td style = \"text-align: right;\">50818468</td><td style = \"text-align: right;\">22381051</td><td style = \"text-align: right;\">22381347</td><td style = \"text-align: right;\">1</td><td style = \"text-align: left;\">UInt8[0x32, 0x39, 0x36, 0x2c]</td><td style = \"text-align: left;\">UInt8[0x30, 0x2c]</td><td style = \"text-align: left;\">UInt8[0x32, 0x32, 0x33, 0x38, 0x31, 0x30, 0x35, 0x31, 0x2c]</td></tr><tr><td class = \"rowNumber\" style = \"font-weight: bold; text-align: right;\">403824</td><td style = \"text-align: right;\">755</td><td style = \"text-align: right;\">292</td><td style = \"text-align: right;\">3</td><td style = \"text-align: right;\">0</td><td style = \"text-align: right;\">0</td><td style = \"text-align: right;\">0</td><td style = \"text-align: right;\">0</td><td style = \"text-align: right;\">0</td><td style = \"text-align: right;\">0</td><td style = \"text-align: left;\">+</td><td style = \"text-align: left;\">MT594096</td><td style = \"text-align: right;\">333</td><td style = \"text-align: right;\">0</td><td style = \"text-align: right;\">295</td><td style = \"text-align: left;\">chr22</td><td style = \"text-align: right;\">50818468</td><td style = \"text-align: right;\">22395195</td><td style = \"text-align: right;\">22395490</td><td style = \"text-align: right;\">1</td><td style = \"text-align: left;\">UInt8[0x32, 0x39, 0x35, 0x2c]</td><td style = \"text-align: left;\">UInt8[0x30, 0x2c]</td><td style = \"text-align: left;\">UInt8[0x32, 0x32, 0x33, 0x39, 0x35, 0x31, 0x39, 0x35, 0x2c]</td></tr><tr><td class = \"rowNumber\" style = \"font-weight: bold; text-align: right;\">403825</td><td style = \"text-align: right;\">94</td><td style = \"text-align: right;\">321</td><td style = \"text-align: right;\">3</td><td style = \"text-align: right;\">0</td><td style = \"text-align: right;\">0</td><td style = \"text-align: right;\">0</td><td style = \"text-align: right;\">0</td><td style = \"text-align: right;\">2</td><td style = \"text-align: right;\">191791</td><td style = \"text-align: left;\">+</td><td style = \"text-align: left;\">MT594086</td><td style = \"text-align: right;\">324</td><td style = \"text-align: right;\">0</td><td style = \"text-align: right;\">324</td><td style = \"text-align: left;\">chr22</td><td style = \"text-align: right;\">50818468</td><td style = \"text-align: right;\">22712909</td><td style = \"text-align: right;\">22905024</td><td style = \"text-align: right;\">3</td><td style = \"text-align: left;\">UInt8[0x32, 0x38, 0x34, 0x2c, 0x33, 0x2c, 0x33, 0x37, 0x2c]</td><td style = \"text-align: left;\">UInt8[0x30, 0x2c, 0x32, 0x38, 0x34, 0x2c, 0x32, 0x38, 0x37, 0x2c]</td><td style = \"text-align: left;\">UInt8[0x32, 0x32, 0x37, 0x31, 0x32, 0x39, 0x30, 0x39, 0x2c, 0x32  …  0x2c, 0x32, 0x32, 0x39, 0x30, 0x34, 0x39, 0x38, 0x37, 0x2c]</td></tr><tr><td class = \"rowNumber\" style = \"font-weight: bold; text-align: right;\">403826</td><td style = \"text-align: right;\">94</td><td style = \"text-align: right;\">319</td><td style = \"text-align: right;\">3</td><td style = \"text-align: right;\">0</td><td style = \"text-align: right;\">0</td><td style = \"text-align: right;\">0</td><td style = \"text-align: right;\">0</td><td style = \"text-align: right;\">2</td><td style = \"text-align: right;\">180581</td><td style = \"text-align: left;\">+</td><td style = \"text-align: left;\">MT594102</td><td style = \"text-align: right;\">327</td><td style = \"text-align: right;\">5</td><td style = \"text-align: right;\">327</td><td style = \"text-align: left;\">chr22</td><td style = \"text-align: right;\">50818468</td><td style = \"text-align: right;\">22712914</td><td style = \"text-align: right;\">22893817</td><td style = \"text-align: right;\">3</td><td style = \"text-align: left;\">UInt8[0x32, 0x38, 0x32, 0x2c, 0x34, 0x2c, 0x33, 0x36, 0x2c]</td><td style = \"text-align: left;\">UInt8[0x35, 0x2c, 0x32, 0x38, 0x37, 0x2c, 0x32, 0x39, 0x31, 0x2c]</td><td style = \"text-align: left;\">UInt8[0x32, 0x32, 0x37, 0x31, 0x32, 0x39, 0x31, 0x34, 0x2c, 0x32  …  0x2c, 0x32, 0x32, 0x38, 0x39, 0x33, 0x37, 0x38, 0x31, 0x2c]</td></tr><tr><td class = \"rowNumber\" style = \"font-weight: bold; text-align: right;\">403827</td><td style = \"text-align: right;\">585</td><td style = \"text-align: right;\">294</td><td style = \"text-align: right;\">2</td><td style = \"text-align: right;\">0</td><td style = \"text-align: right;\">0</td><td style = \"text-align: right;\">0</td><td style = \"text-align: right;\">0</td><td style = \"text-align: right;\">0</td><td style = \"text-align: right;\">0</td><td style = \"text-align: left;\">+</td><td style = \"text-align: left;\">MT594091</td><td style = \"text-align: right;\">330</td><td style = \"text-align: right;\">0</td><td style = \"text-align: right;\">296</td><td style = \"text-align: left;\">chr22_KI270875v1_alt</td><td style = \"text-align: right;\">259914</td><td style = \"text-align: right;\">7603</td><td style = \"text-align: right;\">7899</td><td style = \"text-align: right;\">1</td><td style = \"text-align: left;\">UInt8[0x32, 0x39, 0x36, 0x2c]</td><td style = \"text-align: left;\">UInt8[0x30, 0x2c]</td><td style = \"text-align: left;\">UInt8[0x37, 0x36, 0x30, 0x33, 0x2c]</td></tr><tr><td class = \"rowNumber\" style = \"font-weight: bold; text-align: right;\">403828</td><td style = \"text-align: right;\">585</td><td style = \"text-align: right;\">292</td><td style = \"text-align: right;\">3</td><td style = \"text-align: right;\">0</td><td style = \"text-align: right;\">0</td><td style = \"text-align: right;\">0</td><td style = \"text-align: right;\">0</td><td style = \"text-align: right;\">0</td><td style = \"text-align: right;\">0</td><td style = \"text-align: left;\">+</td><td style = \"text-align: left;\">MT594096</td><td style = \"text-align: right;\">333</td><td style = \"text-align: right;\">0</td><td style = \"text-align: right;\">295</td><td style = \"text-align: left;\">chr22_KI270875v1_alt</td><td style = \"text-align: right;\">259914</td><td style = \"text-align: right;\">21748</td><td style = \"text-align: right;\">22043</td><td style = \"text-align: right;\">1</td><td style = \"text-align: left;\">UInt8[0x32, 0x39, 0x35, 0x2c]</td><td style = \"text-align: left;\">UInt8[0x30, 0x2c]</td><td style = \"text-align: left;\">UInt8[0x32, 0x31, 0x37, 0x34, 0x38, 0x2c]</td></tr><tr><td class = \"rowNumber\" style = \"font-weight: bold; text-align: right;\">403829</td><td style = \"text-align: right;\">585</td><td style = \"text-align: right;\">294</td><td style = \"text-align: right;\">3</td><td style = \"text-align: right;\">0</td><td style = \"text-align: right;\">0</td><td style = \"text-align: right;\">0</td><td style = \"text-align: right;\">0</td><td style = \"text-align: right;\">0</td><td style = \"text-align: right;\">0</td><td style = \"text-align: left;\">+</td><td style = \"text-align: left;\">MT594085</td><td style = \"text-align: right;\">333</td><td style = \"text-align: right;\">0</td><td style = \"text-align: right;\">297</td><td style = \"text-align: left;\">chr22_KI270875v1_alt</td><td style = \"text-align: right;\">259914</td><td style = \"text-align: right;\">45632</td><td style = \"text-align: right;\">45929</td><td style = \"text-align: right;\">1</td><td style = \"text-align: left;\">UInt8[0x32, 0x39, 0x37, 0x2c]</td><td style = \"text-align: left;\">UInt8[0x30, 0x2c]</td><td style = \"text-align: left;\">UInt8[0x34, 0x35, 0x36, 0x33, 0x32, 0x2c]</td></tr><tr><td class = \"rowNumber\" style = \"font-weight: bold; text-align: right;\">403830</td><td style = \"text-align: right;\">585</td><td style = \"text-align: right;\">284</td><td style = \"text-align: right;\">3</td><td style = \"text-align: right;\">0</td><td style = \"text-align: right;\">0</td><td style = \"text-align: right;\">0</td><td style = \"text-align: right;\">0</td><td style = \"text-align: right;\">0</td><td style = \"text-align: right;\">0</td><td style = \"text-align: left;\">-</td><td style = \"text-align: left;\">MT594071</td><td style = \"text-align: right;\">327</td><td style = \"text-align: right;\">0</td><td style = \"text-align: right;\">287</td><td style = \"text-align: left;\">chr2_KQ031384v1_fix</td><td style = \"text-align: right;\">481245</td><td style = \"text-align: right;\">118805</td><td style = \"text-align: right;\">119092</td><td style = \"text-align: right;\">1</td><td style = \"text-align: left;\">UInt8[0x32, 0x38, 0x37, 0x2c]</td><td style = \"text-align: left;\">UInt8[0x34, 0x30, 0x2c]</td><td style = \"text-align: left;\">UInt8[0x31, 0x31, 0x38, 0x38, 0x30, 0x35, 0x2c]</td></tr><tr><td class = \"rowNumber\" style = \"font-weight: bold; text-align: right;\">403831</td><td style = \"text-align: right;\">586</td><td style = \"text-align: right;\">285</td><td style = \"text-align: right;\">1</td><td style = \"text-align: right;\">0</td><td style = \"text-align: right;\">0</td><td style = \"text-align: right;\">0</td><td style = \"text-align: right;\">0</td><td style = \"text-align: right;\">1</td><td style = \"text-align: right;\">3</td><td style = \"text-align: left;\">-</td><td style = \"text-align: left;\">MT594073</td><td style = \"text-align: right;\">321</td><td style = \"text-align: right;\">0</td><td style = \"text-align: right;\">286</td><td style = \"text-align: left;\">chr2_KQ031384v1_fix</td><td style = \"text-align: right;\">481245</td><td style = \"text-align: right;\">251398</td><td style = \"text-align: right;\">251687</td><td style = \"text-align: right;\">2</td><td style = \"text-align: left;\">UInt8[0x31, 0x39, 0x33, 0x2c, 0x39, 0x33, 0x2c]</td><td style = \"text-align: left;\">UInt8[0x33, 0x35, 0x2c, 0x32, 0x32, 0x38, 0x2c]</td><td style = \"text-align: left;\">UInt8[0x32, 0x35, 0x31, 0x33, 0x39, 0x38, 0x2c, 0x32, 0x35, 0x31, 0x35, 0x39, 0x34, 0x2c]</td></tr><tr><td class = \"rowNumber\" style = \"font-weight: bold; text-align: right;\">403832</td><td style = \"text-align: right;\">586</td><td style = \"text-align: right;\">284</td><td style = \"text-align: right;\">2</td><td style = \"text-align: right;\">0</td><td style = \"text-align: right;\">0</td><td style = \"text-align: right;\">0</td><td style = \"text-align: right;\">0</td><td style = \"text-align: right;\">0</td><td style = \"text-align: right;\">0</td><td style = \"text-align: left;\">-</td><td style = \"text-align: left;\">MT594103</td><td style = \"text-align: right;\">324</td><td style = \"text-align: right;\">0</td><td style = \"text-align: right;\">286</td><td style = \"text-align: left;\">chr2_KQ031384v1_fix</td><td style = \"text-align: right;\">481245</td><td style = \"text-align: right;\">251401</td><td style = \"text-align: right;\">251687</td><td style = \"text-align: right;\">1</td><td style = \"text-align: left;\">UInt8[0x32, 0x38, 0x36, 0x2c]</td><td style = \"text-align: left;\">UInt8[0x33, 0x38, 0x2c]</td><td style = \"text-align: left;\">UInt8[0x32, 0x35, 0x31, 0x34, 0x30, 0x31, 0x2c]</td></tr><tr><td class = \"rowNumber\" style = \"font-weight: bold; text-align: right;\">403833</td><td style = \"text-align: right;\">588</td><td style = \"text-align: right;\">283</td><td style = \"text-align: right;\">3</td><td style = \"text-align: right;\">0</td><td style = \"text-align: right;\">0</td><td style = \"text-align: right;\">0</td><td style = \"text-align: right;\">0</td><td style = \"text-align: right;\">0</td><td style = \"text-align: right;\">0</td><td style = \"text-align: left;\">-</td><td style = \"text-align: left;\">MT594100</td><td style = \"text-align: right;\">321</td><td style = \"text-align: right;\">0</td><td style = \"text-align: right;\">286</td><td style = \"text-align: left;\">chr2_KQ031384v1_fix</td><td style = \"text-align: right;\">481245</td><td style = \"text-align: right;\">428449</td><td style = \"text-align: right;\">428735</td><td style = \"text-align: right;\">1</td><td style = \"text-align: left;\">UInt8[0x32, 0x38, 0x36, 0x2c]</td><td style = \"text-align: left;\">UInt8[0x33, 0x35, 0x2c]</td><td style = \"text-align: left;\">UInt8[0x34, 0x32, 0x38, 0x34, 0x34, 0x39, 0x2c]</td></tr></tbody></table></div>"
      ],
      "text/latex": [
       "\\begin{tabular}{r|ccccccccc}\n",
       "\t& bin & matches & misMatches & repMatches & nCount & qNumInsert & qBaseInsert & tNumInsert & \\\\\n",
       "\t\\hline\n",
       "\t& UInt16 & UInt32 & UInt32 & UInt32 & UInt32 & UInt32 & UInt32 & UInt32 & \\\\\n",
       "\t\\hline\n",
       "\t1 & 585 & 1650 & 2 & 0 & 0 & 0 & 0 & 2 & $\\dots$ \\\\\n",
       "\t2 & 585 & 1485 & 3 & 0 & 0 & 0 & 0 & 2 & $\\dots$ \\\\\n",
       "\t3 & 585 & 925 & 2 & 0 & 0 & 1 & 3 & 7 & $\\dots$ \\\\\n",
       "\t4 & 585 & 986 & 1 & 0 & 0 & 0 & 0 & 8 & $\\dots$ \\\\\n",
       "\t5 & 585 & 970 & 3 & 0 & 0 & 0 & 0 & 4 & $\\dots$ \\\\\n",
       "\t6 & 585 & 953 & 2 & 0 & 0 & 0 & 0 & 8 & $\\dots$ \\\\\n",
       "\t7 & 585 & 775 & 1 & 0 & 0 & 0 & 0 & 6 & $\\dots$ \\\\\n",
       "\t8 & 585 & 974 & 2 & 0 & 0 & 0 & 0 & 0 & $\\dots$ \\\\\n",
       "\t9 & 585 & 1123 & 1 & 0 & 0 & 0 & 0 & 2 & $\\dots$ \\\\\n",
       "\t10 & 585 & 1122 & 2 & 0 & 0 & 0 & 0 & 2 & $\\dots$ \\\\\n",
       "\t11 & 586 & 1381 & 1 & 0 & 0 & 0 & 0 & 0 & $\\dots$ \\\\\n",
       "\t12 & 586 & 1625 & 2 & 0 & 0 & 0 & 0 & 0 & $\\dots$ \\\\\n",
       "\t13 & 586 & 29 & 1 & 0 & 0 & 0 & 0 & 0 & $\\dots$ \\\\\n",
       "\t14 & 586 & 23 & 1 & 0 & 0 & 0 & 0 & 0 & $\\dots$ \\\\\n",
       "\t15 & 586 & 401 & 1 & 0 & 0 & 0 & 0 & 2 & $\\dots$ \\\\\n",
       "\t16 & 586 & 792 & 3 & 0 & 0 & 0 & 0 & 5 & $\\dots$ \\\\\n",
       "\t17 & 586 & 985 & 1 & 0 & 0 & 1 & 1 & 8 & $\\dots$ \\\\\n",
       "\t18 & 586 & 773 & 2 & 0 & 0 & 1 & 1 & 6 & $\\dots$ \\\\\n",
       "\t19 & 588 & 994 & 1 & 0 & 0 & 0 & 0 & 0 & $\\dots$ \\\\\n",
       "\t20 & 588 & 936 & 1 & 0 & 0 & 0 & 0 & 0 & $\\dots$ \\\\\n",
       "\t21 & 588 & 1000 & 1 & 0 & 0 & 2 & 4 & 2 & $\\dots$ \\\\\n",
       "\t22 & 588 & 471 & 1 & 0 & 0 & 0 & 0 & 2 & $\\dots$ \\\\\n",
       "\t23 & 588 & 2661 & 2 & 0 & 0 & 0 & 0 & 1 & $\\dots$ \\\\\n",
       "\t24 & 588 & 892 & 2 & 0 & 0 & 0 & 0 & 0 & $\\dots$ \\\\\n",
       "\t25 & 588 & 1180 & 1 & 0 & 0 & 0 & 0 & 0 & $\\dots$ \\\\\n",
       "\t26 & 588 & 1131 & 1 & 0 & 0 & 0 & 0 & 0 & $\\dots$ \\\\\n",
       "\t27 & 588 & 56 & 2 & 0 & 0 & 0 & 0 & 0 & $\\dots$ \\\\\n",
       "\t28 & 588 & 23 & 1 & 0 & 0 & 0 & 0 & 0 & $\\dots$ \\\\\n",
       "\t29 & 588 & 29 & 1 & 0 & 0 & 0 & 0 & 0 & $\\dots$ \\\\\n",
       "\t30 & 588 & 29 & 1 & 0 & 0 & 0 & 0 & 0 & $\\dots$ \\\\\n",
       "\t$\\dots$ & $\\dots$ & $\\dots$ & $\\dots$ & $\\dots$ & $\\dots$ & $\\dots$ & $\\dots$ & $\\dots$ &  \\\\\n",
       "\\end{tabular}\n"
      ],
      "text/plain": [
       "\u001b[1m403833×22 DataFrame\u001b[0m\n",
       "\u001b[1m    Row \u001b[0m│\u001b[1m bin    \u001b[0m\u001b[1m matches \u001b[0m\u001b[1m misMatches \u001b[0m\u001b[1m repMatches \u001b[0m\u001b[1m nCount \u001b[0m\u001b[1m qNumInsert \u001b[0m\u001b[1m qBaseIn\u001b[0m ⋯\n",
       "        │\u001b[90m UInt16 \u001b[0m\u001b[90m UInt32  \u001b[0m\u001b[90m UInt32     \u001b[0m\u001b[90m UInt32     \u001b[0m\u001b[90m UInt32 \u001b[0m\u001b[90m UInt32     \u001b[0m\u001b[90m UInt32 \u001b[0m ⋯\n",
       "────────┼───────────────────────────────────────────────────────────────────────\n",
       "      1 │    585     1650           2           0       0           0          ⋯\n",
       "      2 │    585     1485           3           0       0           0\n",
       "      3 │    585      925           2           0       0           1\n",
       "      4 │    585      986           1           0       0           0\n",
       "      5 │    585      970           3           0       0           0          ⋯\n",
       "      6 │    585      953           2           0       0           0\n",
       "      7 │    585      775           1           0       0           0\n",
       "      8 │    585      974           2           0       0           0\n",
       "      9 │    585     1123           1           0       0           0          ⋯\n",
       "     10 │    585     1122           2           0       0           0\n",
       "     11 │    586     1381           1           0       0           0\n",
       "   ⋮    │   ⋮        ⋮         ⋮           ⋮         ⋮         ⋮            ⋮  ⋱\n",
       " 403824 │    755      292           3           0       0           0\n",
       " 403825 │     94      321           3           0       0           0          ⋯\n",
       " 403826 │     94      319           3           0       0           0\n",
       " 403827 │    585      294           2           0       0           0\n",
       " 403828 │    585      292           3           0       0           0\n",
       " 403829 │    585      294           3           0       0           0          ⋯\n",
       " 403830 │    585      284           3           0       0           0\n",
       " 403831 │    586      285           1           0       0           0\n",
       " 403832 │    586      284           2           0       0           0\n",
       " 403833 │    588      283           3           0       0           0          ⋯\n",
       "\u001b[36m                                              16 columns and 403812 rows omitted\u001b[0m"
      ]
     },
     "execution_count": 32,
     "metadata": {},
     "output_type": "execute_result"
    }
   ],
   "source": [
    "query = DBInterface.execute(hg38, \"select * from all_mrna where misMatches between 1 and 3\") |> DataFrame"
   ]
  },
  {
   "cell_type": "code",
   "execution_count": 34,
   "id": "7636f1cb",
   "metadata": {
    "collapsed": true
   },
   "outputs": [
    {
     "data": {
      "text/html": [
       "<div><div style = \"float: left;\"><span>DataFrameRow (22 columns)</span></div><div style = \"clear: both;\"></div></div><div class = \"data-frame\" style = \"overflow-x: scroll;\"><table class = \"data-frame\" style = \"margin-bottom: 6px;\"><thead><tr class = \"header\"><th class = \"rowLabel\" style = \"font-weight: bold; text-align: right;\">Row</th><th style = \"text-align: left;\">bin</th><th style = \"text-align: left;\">matches</th><th style = \"text-align: left;\">misMatches</th><th style = \"text-align: left;\">repMatches</th><th style = \"text-align: left;\">nCount</th><th style = \"text-align: left;\">qNumInsert</th><th style = \"text-align: left;\">qBaseInsert</th><th style = \"text-align: left;\">tNumInsert</th><th style = \"text-align: left;\">tBaseInsert</th><th style = \"text-align: left;\">strand</th><th style = \"text-align: left;\">qName</th><th style = \"text-align: left;\">qSize</th><th style = \"text-align: left;\">qStart</th><th style = \"text-align: left;\">qEnd</th><th style = \"text-align: left;\">tName</th><th style = \"text-align: left;\">tSize</th><th style = \"text-align: left;\">tStart</th><th style = \"text-align: left;\">tEnd</th><th style = \"text-align: left;\">blockCount</th><th style = \"text-align: left;\">blockSizes</th><th style = \"text-align: left;\">qStarts</th><th style = \"text-align: left;\">tStarts</th></tr><tr class = \"subheader headerLastRow\"><th class = \"rowLabel\" style = \"font-weight: bold; text-align: right;\"></th><th title = \"UInt16\" style = \"text-align: left;\">UInt16</th><th title = \"UInt32\" style = \"text-align: left;\">UInt32</th><th title = \"UInt32\" style = \"text-align: left;\">UInt32</th><th title = \"UInt32\" style = \"text-align: left;\">UInt32</th><th title = \"UInt32\" style = \"text-align: left;\">UInt32</th><th title = \"UInt32\" style = \"text-align: left;\">UInt32</th><th title = \"UInt32\" style = \"text-align: left;\">UInt32</th><th title = \"UInt32\" style = \"text-align: left;\">UInt32</th><th title = \"UInt32\" style = \"text-align: left;\">UInt32</th><th title = \"String\" style = \"text-align: left;\">String</th><th title = \"String\" style = \"text-align: left;\">String</th><th title = \"UInt32\" style = \"text-align: left;\">UInt32</th><th title = \"UInt32\" style = \"text-align: left;\">UInt32</th><th title = \"UInt32\" style = \"text-align: left;\">UInt32</th><th title = \"String\" style = \"text-align: left;\">String</th><th title = \"UInt32\" style = \"text-align: left;\">UInt32</th><th title = \"UInt32\" style = \"text-align: left;\">UInt32</th><th title = \"UInt32\" style = \"text-align: left;\">UInt32</th><th title = \"UInt32\" style = \"text-align: left;\">UInt32</th><th title = \"Vector{UInt8}\" style = \"text-align: left;\">Array…</th><th title = \"Vector{UInt8}\" style = \"text-align: left;\">Array…</th><th title = \"Vector{UInt8}\" style = \"text-align: left;\">Array…</th></tr></thead><tbody><tr><td class = \"rowLabel\" style = \"font-weight: bold; text-align: right;\">1</td><td style = \"text-align: right;\">585</td><td style = \"text-align: right;\">1650</td><td style = \"text-align: right;\">2</td><td style = \"text-align: right;\">0</td><td style = \"text-align: right;\">0</td><td style = \"text-align: right;\">0</td><td style = \"text-align: right;\">0</td><td style = \"text-align: right;\">2</td><td style = \"text-align: right;\">884</td><td style = \"text-align: left;\">+</td><td style = \"text-align: left;\">AM992872</td><td style = \"text-align: right;\">1652</td><td style = \"text-align: right;\">0</td><td style = \"text-align: right;\">1652</td><td style = \"text-align: left;\">chr1</td><td style = \"text-align: right;\">248956422</td><td style = \"text-align: right;\">11873</td><td style = \"text-align: right;\">14409</td><td style = \"text-align: right;\">3</td><td style = \"text-align: left;\">UInt8[0x33, 0x35, 0x34, 0x2c, 0x31, 0x30, 0x39, 0x2c, 0x31, 0x31, 0x38, 0x39, 0x2c]</td><td style = \"text-align: left;\">UInt8[0x30, 0x2c, 0x33, 0x35, 0x34, 0x2c, 0x34, 0x36, 0x33, 0x2c]</td><td style = \"text-align: left;\">UInt8[0x31, 0x31, 0x38, 0x37, 0x33, 0x2c, 0x31, 0x32, 0x36, 0x31, 0x32, 0x2c, 0x31, 0x33, 0x32, 0x32, 0x30, 0x2c]</td></tr></tbody></table></div>"
      ],
      "text/latex": [
       "\\begin{tabular}{r|ccccccccc}\n",
       "\t& bin & matches & misMatches & repMatches & nCount & qNumInsert & qBaseInsert & tNumInsert & \\\\\n",
       "\t\\hline\n",
       "\t& UInt16 & UInt32 & UInt32 & UInt32 & UInt32 & UInt32 & UInt32 & UInt32 & \\\\\n",
       "\t\\hline\n",
       "\t1 & 585 & 1650 & 2 & 0 & 0 & 0 & 0 & 2 & $\\dots$ \\\\\n",
       "\\end{tabular}\n"
      ],
      "text/plain": [
       "\u001b[1mDataFrameRow\u001b[0m\n",
       "\u001b[1m Row \u001b[0m│\u001b[1m bin    \u001b[0m\u001b[1m matches \u001b[0m\u001b[1m misMatches \u001b[0m\u001b[1m repMatches \u001b[0m\u001b[1m nCount \u001b[0m\u001b[1m qNumInsert \u001b[0m\u001b[1m qBaseInser\u001b[0m ⋯\n",
       "     │\u001b[90m UInt16 \u001b[0m\u001b[90m UInt32  \u001b[0m\u001b[90m UInt32     \u001b[0m\u001b[90m UInt32     \u001b[0m\u001b[90m UInt32 \u001b[0m\u001b[90m UInt32     \u001b[0m\u001b[90m UInt32    \u001b[0m ⋯\n",
       "─────┼──────────────────────────────────────────────────────────────────────────\n",
       "   1 │    585     1650           2           0       0           0             ⋯\n",
       "\u001b[36m                                                              16 columns omitted\u001b[0m"
      ]
     },
     "execution_count": 34,
     "metadata": {},
     "output_type": "execute_result"
    }
   ],
   "source": [
    "first(query)"
   ]
  },
  {
   "cell_type": "code",
   "execution_count": null,
   "id": "48c1da99",
   "metadata": {},
   "outputs": [],
   "source": [
    "size(query)"
   ]
  },
  {
   "cell_type": "markdown",
   "id": "ff50d77a",
   "metadata": {},
   "source": [
    "### Close the connection!"
   ]
  },
  {
   "cell_type": "code",
   "execution_count": 37,
   "id": "411ea368",
   "metadata": {},
   "outputs": [],
   "source": [
    "DBInterface.close!(hg38)"
   ]
  },
  {
   "cell_type": "code",
   "execution_count": 36,
   "id": "822fc047",
   "metadata": {},
   "outputs": [
    {
     "data": {
      "text/plain": [
       "MySQL.Connection(disconnected)"
      ]
     },
     "execution_count": 36,
     "metadata": {},
     "output_type": "execute_result"
    }
   ],
   "source": []
  },
  {
   "cell_type": "code",
   "execution_count": null,
   "id": "a798f521",
   "metadata": {},
   "outputs": [],
   "source": []
  },
  {
   "cell_type": "code",
   "execution_count": null,
   "id": "5cbcf734",
   "metadata": {},
   "outputs": [],
   "source": []
  },
  {
   "cell_type": "code",
   "execution_count": null,
   "id": "eca643a1",
   "metadata": {},
   "outputs": [],
   "source": []
  },
  {
   "cell_type": "code",
   "execution_count": null,
   "id": "3d9cf634",
   "metadata": {},
   "outputs": [],
   "source": []
  },
  {
   "cell_type": "code",
   "execution_count": null,
   "id": "3692e6ea",
   "metadata": {},
   "outputs": [],
   "source": []
  },
  {
   "cell_type": "code",
   "execution_count": null,
   "id": "c9eefd98",
   "metadata": {},
   "outputs": [],
   "source": []
  },
  {
   "cell_type": "code",
   "execution_count": null,
   "id": "3053489c",
   "metadata": {},
   "outputs": [],
   "source": []
  },
  {
   "cell_type": "code",
   "execution_count": null,
   "id": "d6c2e8d3",
   "metadata": {},
   "outputs": [],
   "source": []
  },
  {
   "cell_type": "code",
   "execution_count": null,
   "id": "1989c745",
   "metadata": {},
   "outputs": [],
   "source": []
  },
  {
   "cell_type": "code",
   "execution_count": null,
   "id": "d4c55cbe",
   "metadata": {},
   "outputs": [],
   "source": []
  }
 ],
 "metadata": {
  "kernelspec": {
   "display_name": "Julia 1.10.0",
   "language": "julia",
   "name": "julia-1.10"
  },
  "language_info": {
   "file_extension": ".jl",
   "mimetype": "application/julia",
   "name": "julia",
   "version": "1.10.0"
  }
 },
 "nbformat": 4,
 "nbformat_minor": 5
}
